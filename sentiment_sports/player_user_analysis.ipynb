{
 "cells": [
  {
   "cell_type": "code",
   "execution_count": 1,
   "metadata": {},
   "outputs": [
    {
     "name": "stderr",
     "output_type": "stream",
     "text": [
      "C:\\Users\\mattg\\Anaconda3\\lib\\site-packages\\IPython\\core\\interactiveshell.py:2785: DtypeWarning: Columns (15) have mixed types. Specify dtype option on import or set low_memory=False.\n",
      "  interactivity=interactivity, compiler=compiler, result=result)\n"
     ]
    },
    {
     "name": "stdout",
     "output_type": "stream",
     "text": [
      "['Player' 'user' 'flair' 'season' 'compound_mean' 'compound_std'\n",
      " 'comment_count' 'user_Tm' 'Race' 'From' 'To' 'Pos_x' 'Ht' 'Wt'\n",
      " 'Birth Date' 'Colleges' 'Rk' 'Pos_y' 'Age' 'G' 'MP' 'PER' 'TS%' '3PAr'\n",
      " 'FTr' 'ORB%' 'DRB%' 'TRBP' 'ASTP' 'STLP' 'BLKP' 'TOVP' 'USG%' 'OWS' 'DWS'\n",
      " 'WS' 'WS/48' 'OBPM' 'DBPM' 'BPM' 'VORP' 'Tm' 'FG' 'FGA' 'FG%' '3P' '3PA'\n",
      " 'ThreePP' '2P' '2PA' '2P%' 'eFG%' 'FT' 'FTA' 'FT%' 'ORB' 'DRB' 'TRB'\n",
      " 'AST' 'STL' 'BLK' 'TOV' 'PF' 'PPG' 'year' 'Wins' 'salary'\n",
      " 'standard_salary' 'experience' 'user_total_score' 'user_total_comments'\n",
      " 'user_mean_score' 'team_match' 'clinton_vote_lead' 'total_population'\n",
      " 'metro_percent_white' 'metro_percent_black' 'youth' 'oldness' 'rookie'\n",
      " 'white_black_diff' 'height_dummies' 'player_season' 'white']\n"
     ]
    }
   ],
   "source": [
    "import pandas as pd\n",
    "import numpy as np\n",
    "\n",
    "data_loc = 'C:/Users/mattg/Downloads/'\n",
    "file_name = 'nba_user_player_sentiment.tsv'\n",
    "\n",
    "\n",
    "players2018.tsv\n",
    "df = pd.read_csv(data_loc + file_name, sep='\\t')\n",
    "df['player_season'] = df['Player'] + df['season'].astype(str)\n",
    "df['white'] = df['Race'] == 'W'\n",
    "print(df.columns.values)"
   ]
  },
  {
   "cell_type": "code",
   "execution_count": 2,
   "metadata": {},
   "outputs": [
    {
     "name": "stdout",
     "output_type": "stream",
     "text": [
      "713065\n",
      "600075\n"
     ]
    }
   ],
   "source": [
    "#Need to drop null columns before pass to wls if clustering\n",
    "cols_to_use = ['comment_count', 'white', 'compound_mean', 'user', 'Player', 'PPG', 'AST', 'DWS', 'BLK', 'TRB',  'Wins', 'TOV', 'user_total_comments',  'user_mean_score',  'user_total_score',   'season']\n",
    "df_use = df.loc[:, cols_to_use].dropna(how='any')\n",
    "print(len(df))\n",
    "print(len(df_use))"
   ]
  },
  {
   "cell_type": "code",
   "execution_count": 3,
   "metadata": {},
   "outputs": [
    {
     "name": "stdout",
     "output_type": "stream",
     "text": [
      "                            WLS Regression Results                            \n",
      "==============================================================================\n",
      "Dep. Variable:          compound_mean   R-squared:                       0.002\n",
      "Model:                            WLS   Adj. R-squared:                  0.002\n",
      "Method:                 Least Squares   F-statistic:                     72.88\n",
      "Date:                Thu, 08 Nov 2018   Prob (F-statistic):          4.76e-194\n",
      "Time:                        16:21:53   Log-Likelihood:            -1.8365e+05\n",
      "No. Observations:              600075   AIC:                         3.673e+05\n",
      "Df Residuals:                  600061   BIC:                         3.675e+05\n",
      "Df Model:                          13                                         \n",
      "Covariance Type:            nonrobust                                         \n",
      "=======================================================================================\n",
      "                          coef    std err          t      P>|t|      [0.025      0.975]\n",
      "---------------------------------------------------------------------------------------\n",
      "Intercept               0.0936      0.002     51.014      0.000       0.090       0.097\n",
      "C(season)[T.2016]       0.0040      0.001      4.149      0.000       0.002       0.006\n",
      "C(season)[T.2017]       0.0091      0.001      9.778      0.000       0.007       0.011\n",
      "white[T.True]           0.0041      0.001      3.627      0.000       0.002       0.006\n",
      "TOV                    -0.0046      0.001     -4.746      0.000      -0.006      -0.003\n",
      "AST                    -0.0006      0.000     -1.900      0.057      -0.001    1.96e-05\n",
      "DWS                     0.0051      0.001      9.513      0.000       0.004       0.006\n",
      "BLK                     0.0031      0.001      3.008      0.003       0.001       0.005\n",
      "TRB                    -0.0033      0.000    -13.047      0.000      -0.004      -0.003\n",
      "PPG                     0.0015   8.41e-05     17.293      0.000       0.001       0.002\n",
      "Wins                   -0.0005   3.76e-05    -12.632      0.000      -0.001      -0.000\n",
      "user_total_comments  2.155e-05   1.29e-06     16.713      0.000     1.9e-05    2.41e-05\n",
      "user_mean_score     -1.276e-05   5.52e-06     -2.314      0.021   -2.36e-05   -1.95e-06\n",
      "user_total_score    -3.032e-07   3.35e-08     -9.046      0.000   -3.69e-07   -2.37e-07\n",
      "==============================================================================\n",
      "Omnibus:                      906.941   Durbin-Watson:                   1.975\n",
      "Prob(Omnibus):                  0.000   Jarque-Bera (JB):             1053.286\n",
      "Skew:                          -0.040   Prob(JB):                    1.91e-229\n",
      "Kurtosis:                       3.189   Cond. No.                     7.05e+04\n",
      "==============================================================================\n",
      "\n",
      "Warnings:\n",
      "[1] Standard Errors assume that the covariance matrix of the errors is correctly specified.\n",
      "[2] The condition number is large, 7.05e+04. This might indicate that there are\n",
      "strong multicollinearity or other numerical problems.\n"
     ]
    }
   ],
   "source": [
    "#unclustered standard errors. Standard errors likely to be too small. Notice how white is significant here,\n",
    "#but not in clustered regressions below\n",
    "\n",
    "import statsmodels.formula.api as smf\n",
    "\n",
    "formula = 'compound_mean ~ \\\n",
    "TOV + AST + DWS + BLK + TRB + PPG  + Wins + \\\n",
    "user_total_comments + user_mean_score + user_total_score + \\\n",
    "C(season) + white'\n",
    "\n",
    "mod = smf.wls(formula,\n",
    "              data=df_use,\n",
    "              weights = (df_use['comment_count']),\n",
    "             ).fit()\n",
    "print(mod.summary())"
   ]
  },
  {
   "cell_type": "code",
   "execution_count": 4,
   "metadata": {},
   "outputs": [
    {
     "name": "stdout",
     "output_type": "stream",
     "text": [
      "                            WLS Regression Results                            \n",
      "==============================================================================\n",
      "Dep. Variable:          compound_mean   R-squared:                       0.002\n",
      "Model:                            WLS   Adj. R-squared:                  0.002\n",
      "Method:                 Least Squares   F-statistic:                     17.21\n",
      "Date:                Thu, 08 Nov 2018   Prob (F-statistic):           1.06e-34\n",
      "Time:                        16:21:56   Log-Likelihood:            -1.8365e+05\n",
      "No. Observations:              600075   AIC:                         3.673e+05\n",
      "Df Residuals:                  600061   BIC:                         3.675e+05\n",
      "Df Model:                          13                                         \n",
      "Covariance Type:              cluster                                         \n",
      "=======================================================================================\n",
      "                          coef    std err          z      P>|z|      [0.025      0.975]\n",
      "---------------------------------------------------------------------------------------\n",
      "Intercept               0.0936      0.012      8.045      0.000       0.071       0.116\n",
      "C(season)[T.2016]       0.0040      0.004      1.067      0.286      -0.003       0.011\n",
      "C(season)[T.2017]       0.0091      0.004      2.440      0.015       0.002       0.016\n",
      "white[T.True]           0.0041      0.008      0.536      0.592      -0.011       0.019\n",
      "TOV                    -0.0046      0.005     -0.935      0.350      -0.014       0.005\n",
      "AST                    -0.0006      0.002     -0.353      0.724      -0.004       0.003\n",
      "DWS                     0.0051      0.003      1.857      0.063      -0.000       0.011\n",
      "BLK                     0.0031      0.006      0.494      0.621      -0.009       0.015\n",
      "TRB                    -0.0033      0.001     -2.824      0.005      -0.006      -0.001\n",
      "PPG                     0.0015      0.001      2.573      0.010       0.000       0.003\n",
      "Wins                   -0.0005      0.000     -2.189      0.029      -0.001   -4.97e-05\n",
      "user_total_comments  2.155e-05   2.31e-06      9.343      0.000     1.7e-05    2.61e-05\n",
      "user_mean_score     -1.276e-05   5.42e-06     -2.354      0.019   -2.34e-05   -2.14e-06\n",
      "user_total_score    -3.032e-07   3.37e-08     -9.003      0.000   -3.69e-07   -2.37e-07\n",
      "==============================================================================\n",
      "Omnibus:                      906.941   Durbin-Watson:                   1.975\n",
      "Prob(Omnibus):                  0.000   Jarque-Bera (JB):             1053.286\n",
      "Skew:                          -0.040   Prob(JB):                    1.91e-229\n",
      "Kurtosis:                       3.189   Cond. No.                     7.05e+04\n",
      "==============================================================================\n",
      "\n",
      "Warnings:\n",
      "[1] Standard Errors are robust tocluster correlation (cluster)\n",
      "[2] The condition number is large, 7.05e+04. This might indicate that there are\n",
      "strong multicollinearity or other numerical problems.\n"
     ]
    }
   ],
   "source": [
    "#the groups keyword is crucial. That is the column we \"cluster at\".\n",
    "#Clustering is an important way to deal with the possibility of dpendence across a particular variable.\n",
    "#It computes correct standard errors as if there is unrestricted dependence within vlaues of hte cluter column,\n",
    "#but full indepdnence across different values of the cluster columns.\n",
    "#Pick the right variable to cluster at is critical. Here we cluster at Player, below at user\n",
    "#Note that clustering does not impact parmaeter estimates AT ALL but only corresponding standard errors\n",
    "#More on clustering here: https://www.stata.com/support/faqs/statistics/standard-errors-and-vce-cluster-option/\n",
    "\n",
    "mod = smf.wls(formula,\n",
    "              data=df_use,\n",
    "              weights = (df_use['comment_count']),\n",
    "             ).fit(\n",
    "    cov_type='cluster', cov_kwds={'groups' : df_use['Player']}\n",
    ")\n",
    "print(mod.summary())"
   ]
  },
  {
   "cell_type": "code",
   "execution_count": 5,
   "metadata": {},
   "outputs": [
    {
     "name": "stdout",
     "output_type": "stream",
     "text": [
      "                            WLS Regression Results                            \n",
      "==============================================================================\n",
      "Dep. Variable:          compound_mean   R-squared:                       0.002\n",
      "Model:                            WLS   Adj. R-squared:                  0.002\n",
      "Method:                 Least Squares   F-statistic:                     43.08\n",
      "Date:                Thu, 08 Nov 2018   Prob (F-statistic):          7.59e-111\n",
      "Time:                        16:22:00   Log-Likelihood:            -1.8365e+05\n",
      "No. Observations:              600075   AIC:                         3.673e+05\n",
      "Df Residuals:                  600061   BIC:                         3.675e+05\n",
      "Df Model:                          13                                         \n",
      "Covariance Type:              cluster                                         \n",
      "=======================================================================================\n",
      "                          coef    std err          z      P>|z|      [0.025      0.975]\n",
      "---------------------------------------------------------------------------------------\n",
      "Intercept               0.0936      0.002     40.573      0.000       0.089       0.098\n",
      "C(season)[T.2016]       0.0040      0.001      3.035      0.002       0.001       0.007\n",
      "C(season)[T.2017]       0.0091      0.001      6.959      0.000       0.007       0.012\n",
      "white[T.True]           0.0041      0.001      3.327      0.001       0.002       0.007\n",
      "TOV                    -0.0046      0.001     -4.244      0.000      -0.007      -0.002\n",
      "AST                    -0.0006      0.000     -1.705      0.088      -0.001    9.33e-05\n",
      "DWS                     0.0051      0.001      8.587      0.000       0.004       0.006\n",
      "BLK                     0.0031      0.001      2.687      0.007       0.001       0.005\n",
      "TRB                    -0.0033      0.000    -11.875      0.000      -0.004      -0.003\n",
      "PPG                     0.0015   9.56e-05     15.223      0.000       0.001       0.002\n",
      "Wins                   -0.0005   4.51e-05    -10.539      0.000      -0.001      -0.000\n",
      "user_total_comments  2.155e-05   3.07e-06      7.028      0.000    1.55e-05    2.76e-05\n",
      "user_mean_score     -1.276e-05   5.87e-06     -2.175      0.030   -2.43e-05   -1.26e-06\n",
      "user_total_score    -3.032e-07   4.75e-08     -6.385      0.000   -3.96e-07    -2.1e-07\n",
      "==============================================================================\n",
      "Omnibus:                      906.941   Durbin-Watson:                   1.975\n",
      "Prob(Omnibus):                  0.000   Jarque-Bera (JB):             1053.286\n",
      "Skew:                          -0.040   Prob(JB):                    1.91e-229\n",
      "Kurtosis:                       3.189   Cond. No.                     7.05e+04\n",
      "==============================================================================\n",
      "\n",
      "Warnings:\n",
      "[1] Standard Errors are robust tocluster correlation (cluster)\n",
      "[2] The condition number is large, 7.05e+04. This might indicate that there are\n",
      "strong multicollinearity or other numerical problems.\n"
     ]
    }
   ],
   "source": [
    "#Cluster at user\n",
    "\n",
    "mod = smf.wls(formula,\n",
    "              data=df_use,\n",
    "              weights = (df_use['comment_count']),\n",
    "             ).fit(\n",
    "    cov_type='cluster', cov_kwds={'groups' : df_use['user']}\n",
    ")\n",
    "print(mod.summary())"
   ]
  }
 ],
 "metadata": {
  "kernelspec": {
   "display_name": "Python 3",
   "language": "python",
   "name": "python3"
  },
  "language_info": {
   "codemirror_mode": {
    "name": "ipython",
    "version": 3
   },
   "file_extension": ".py",
   "mimetype": "text/x-python",
   "name": "python",
   "nbconvert_exporter": "python",
   "pygments_lexer": "ipython3",
   "version": "3.6.5"
  }
 },
 "nbformat": 4,
 "nbformat_minor": 2
}
