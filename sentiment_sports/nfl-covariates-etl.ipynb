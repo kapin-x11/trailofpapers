{
 "cells": [
  {
   "cell_type": "markdown",
   "metadata": {},
   "source": [
    "# NFL Covariates\n",
    "Notebook contains code to extract demographic, performance, team, and city-based features. Used by the notebook `nba-sentiment.ipynb` for regression."
   ]
  },
  {
   "cell_type": "code",
   "execution_count": 1,
   "metadata": {},
   "outputs": [],
   "source": [
    "import pandas as pd\n",
    "import string\n",
    "import numpy as np\n",
    "%matplotlib inline"
   ]
  },
  {
   "cell_type": "code",
   "execution_count": 2,
   "metadata": {},
   "outputs": [],
   "source": [
    "city_mapping = {'ARI':'PHO', 'CAR':'CHO', 'GNB':'GB', 'JAX':'JAC', 'KAN':'KC', 'LACH':'LAC', 'LARM':'LAR',\n",
    "                'NE':'BOS', 'NWE':'BOS', 'NOR':'NOP', 'NO':'NOP', 'SD':'SDG','SFO':'SF', 'TAM':'TB',\n",
    "                'New England Patriots': 'BOS', 'Miami Dolphins': 'MIA', 'New York Jets': 'NYJ', 'Buffalo Bills': 'BUF',\n",
    "                'Baltimore Ravens': 'BAL', 'Cincinnati Bengals': 'CIN', 'Pittsburgh Steelers': 'PIT', 'Cleveland Browns': 'CLE',\n",
    "                'Houston Texans': 'HOU', 'Indianapolis Colts': 'IND', 'Tennessee Titans': 'TEN', 'Jacksonville Jaguars': 'JAC',\n",
    "                'Denver Broncos': 'DEN', 'San Diego Chargers': 'SDG', 'Oakland Raiders': 'OAK', 'Kansas City Chiefs': 'KC',\n",
    "                'Washington Redskins': 'WAS', 'New York Giants': 'NYG', 'Dallas Cowboys': 'DAL', 'Arizona Cardinals': 'PHO',\n",
    "                'Philadelphia Eagles': 'PHI', 'Green Bay Packers': 'GB', 'Minnesota Vikings': 'MIN',\n",
    "                'Chicago Bears': 'CHI', 'Detroit Lions': 'DET', 'Atlanta Falcons': 'ATL', 'Carolina Panthers': 'CHO',\n",
    "                'New Orleans Saints': 'NOP', 'Tampa Bay Buccaneers': 'TB', 'San Francisco 49ers': 'SF', 'Seattle Seahawks': 'SEA',\n",
    "                'St. Louis Rams': 'STL', 'Los Angeles Chargers': 'LAC', 'Los Angeles Rams': 'LAR' }"
   ]
  },
  {
   "cell_type": "markdown",
   "metadata": {},
   "source": [
    "## 1. Load player demographic and performance data\n",
    "### Demographics\n",
    "#### Ethnicity\n",
    "To get a list of black players, I queried Wikipedia's Categories for African American football players and Samon players. This list contained a large fraction of players, but did not label all players, nor identify white NFL players. I then supplemented this list by Googling the ethnicity of the remaining players"
   ]
  },
  {
   "cell_type": "raw",
   "metadata": {},
   "source": [
    "black_nfl_df = spd.get_category_players_wiki().assign(race = lambda row: 'B')\n",
    "samoa_nfl_df = spd.get_category_players_wiki('Category:Samoan_players_of_American_football').assign(race = 'S')"
   ]
  },
  {
   "cell_type": "raw",
   "metadata": {},
   "source": [
    "pd.concat([black_nfl_df, samoa_nfl_df]).to_csv('d:/data/sentiment_sports/covariates/nfl_race_players.tsv', sep='\\t', index = False)"
   ]
  },
  {
   "cell_type": "code",
   "execution_count": 2,
   "metadata": {},
   "outputs": [],
   "source": [
    "nonwiki_df = pd.read_csv('d:/data/sentiment_sports/covariates/nfl_players_race_unknown.csv')"
   ]
  },
  {
   "cell_type": "code",
   "execution_count": 3,
   "metadata": {},
   "outputs": [],
   "source": [
    "race_nfl_df = pd.concat([pd.read_csv('d:/data/sentiment_sports/covariates/nfl_race_players.tsv', sep='\\t'),\n",
    "                        nonwiki_df])"
   ]
  },
  {
   "cell_type": "markdown",
   "metadata": {},
   "source": [
    "#### Download demographics of recent players with weight, height, etc.\n",
    "`pro-football-reference.com` has non-racial demographic data for players going back to the fifties. Here I download those players' data, and filter to recent players."
   ]
  },
  {
   "cell_type": "raw",
   "metadata": {},
   "source": [
    "all_nfl_players_df = spd.download_nfl_player_stubs()"
   ]
  },
  {
   "cell_type": "raw",
   "metadata": {},
   "source": [
    "modern_df = all_nfl_players_df.query('end_year >= 2010')\n",
    "modern_df.shape"
   ]
  },
  {
   "cell_type": "raw",
   "metadata": {},
   "source": [
    "%%time\n",
    "# 1hr 44 min\n",
    "demo_df = modern_df.groupby('Player').apply(spd.get_pro_football_profile).reset_index()"
   ]
  },
  {
   "cell_type": "raw",
   "metadata": {},
   "source": [
    "demo_df['year'] = demo_df['year'].astype(int)"
   ]
  },
  {
   "cell_type": "raw",
   "metadata": {},
   "source": [
    "demo_df.to_csv('d:/data/sentiment_sports/covariates/nfl_players2010-2018.tsv',\n",
    "                 sep='\\t', encoding='utf-8', index=False)"
   ]
  },
  {
   "cell_type": "code",
   "execution_count": 3,
   "metadata": {},
   "outputs": [],
   "source": [
    "demo_df = pd.read_csv('d:/data/sentiment_sports/covariates/nfl_players2010-2018.tsv', sep ='\\t', encoding = 'utf-8')\n",
    "demo_df['Player'] = demo_df['Player'].str.lower()\n",
    "demo_df['position'] = demo_df['position'].str.strip('()').str.lower().str.split('-').str[0]\n",
    "def map_name(name):\n",
    "    if '.' in name:\n",
    "        return name.replace('.', ' ').replace('  ', ' ') # <- janky\n",
    "    return name.split(' ')[0][0] + ' ' + name.split(' ')[1]\n",
    "demo_df['player_join'] = demo_df['Player'].apply(map_name)"
   ]
  },
  {
   "cell_type": "code",
   "execution_count": 10,
   "metadata": {},
   "outputs": [],
   "source": [
    "# have to manually fix some player name mappings\n",
    "player_map = {'ej manuel':'ej manuel',\n",
    "                         'marlon brown': 'ma brown',  'mike brown': 'mi brown', 'john brown': 'jo brown',\n",
    "                         'deangelo williams': 'de williams', 'david johnson':'da johnson',\n",
    "                         'trent taylor':'tr taylor', 'jj nelson': 'j j nelson',\n",
    "                         'jaron brown':'ja brown', \"nick o\\\\'leary\": \"n o'leary\"\n",
    "                         }\n",
    "demo_df['player_join'] = demo_df.apply(lambda row: player_map[row['Player']] if row['Player'] in player_map else row['player_join'], axis=1)\n",
    "position_map = {'fb':'rb'}\n",
    "demo_df['position'] = demo_df['position'].replace(position_map)\n",
    "demo_df['Tm'] = demo_df['Tm'].replace(city_mapping)"
   ]
  },
  {
   "cell_type": "markdown",
   "metadata": {},
   "source": [
    "#### Player performance\n",
    "For player performance, I download data from `footballoutsiders.com`"
   ]
  },
  {
   "cell_type": "raw",
   "metadata": {},
   "source": [
    "%%time\n",
    "performance_df = pd.concat([spd.get_year_performance_nfl(year) for year in list(range(2012, 2018))])"
   ]
  },
  {
   "cell_type": "code",
   "execution_count": 11,
   "metadata": {},
   "outputs": [],
   "source": [
    "#performance_df.to_csv('d:/data/sentiment_sports/nfl_stats_2012-2017.tsv', sep='\\t', index = False)\n",
    "performance_df = (pd.read_csv('d:/data/sentiment_sports/nfl_stats_2012-2017.tsv', sep='\\t')\n",
    "                    .rename(columns={'Team':'Tm'}))\n",
    "performance_df['player_join'] = performance_df['Player'].str.replace('.', ' ').str.lower()"
   ]
  },
  {
   "cell_type": "code",
   "execution_count": 12,
   "metadata": {},
   "outputs": [],
   "source": [
    "performance_df['Tm'] = performance_df['Tm'].replace(city_mapping)"
   ]
  },
  {
   "cell_type": "markdown",
   "metadata": {},
   "source": [
    "#### Team info\n",
    "Here I download team performance from `pro-football-outsiders.com`"
   ]
  },
  {
   "cell_type": "raw",
   "metadata": {},
   "source": [
    "def get_year(year):\n",
    "    return pd.concat(pd.read_html(f'https://www.pro-football-reference.com/years/{year}/') ).dropna().assign(year = year)\n",
    "team_df = pd.concat([get_year(year) for year in list(range(2012, 2018))])"
   ]
  },
  {
   "cell_type": "code",
   "execution_count": 13,
   "metadata": {},
   "outputs": [],
   "source": [
    "#team_df.to_csv('d:/data/sentiment_sports/covariates/nfl_teams_2012-2018.tsv', sep='\\t', index=False)\n",
    "team_df= (pd.read_csv('d:/data/sentiment_sports/covariates/nfl_teams_2012-2018.tsv', sep='\\t')\n",
    "            .rename(columns = {'W':'Wins'}))[['Tm', 'Wins', 'year']]"
   ]
  },
  {
   "cell_type": "code",
   "execution_count": 16,
   "metadata": {},
   "outputs": [],
   "source": [
    "team_df['Tm'] = team_df['Tm'].str.strip(string.punctuation)\n",
    "team_df['Tm'] = team_df['Tm'].replace(city_mapping)"
   ]
  },
  {
   "cell_type": "markdown",
   "metadata": {},
   "source": [
    "#### Salary"
   ]
  },
  {
   "cell_type": "raw",
   "metadata": {},
   "source": [
    "positions = ['quarterback', 'running-back', 'fullback', 'tight-end', 'wide-receiver']\n",
    "def get_salary_year(year, position):\n",
    "    import locale\n",
    "    locale.setlocale( locale.LC_ALL, 'en_US.UTF-8' )\n",
    "    spotrac_url = f'https://www.spotrac.com/nfl/positional/{year}/{position}/'\n",
    "    year_df = pd.read_html(spotrac_url)[1].iloc[:, 2:4].assign(year = year)\n",
    "    year_df['Player'] = year_df.iloc[:,0].str.lower()\n",
    "    year_df['salary'] = year_df.iloc[:,1].str[1:].apply(locale.atoi) # convert $NNN,NNN to an int\n",
    "    return year_df[['Player', 'salary', 'year']]\n",
    "salary_df = pd.concat([get_salary_year(year, position)\n",
    "                           for year in range(2014, 2019)\n",
    "                           for position in positions])\n",
    "salary_df = salary_df.query('salary > 0')"
   ]
  },
  {
   "cell_type": "code",
   "execution_count": 19,
   "metadata": {},
   "outputs": [
    {
     "data": {
      "image/png": "[encoded data removed]",
      "text/plain": [
       "<Figure size 432x288 with 1 Axes>"
      ]
     },
     "metadata": {
      "needs_background": "light"
     },
     "output_type": "display_data"
    }
   ],
   "source": [
    "np.log(salary_df['salary']).hist();"
   ]
  },
  {
   "cell_type": "raw",
   "metadata": {},
   "source": [
    "salary_df['standard_salary'] = np.log(salary_df['salary'])"
   ]
  },
  {
   "cell_type": "raw",
   "metadata": {},
   "source": [
    "salary_df.to_csv('d:/data/sentiment_sports/covariates/nfl_salary.tsv', sep='\\t', index=False)"
   ]
  },
  {
   "cell_type": "code",
   "execution_count": 18,
   "metadata": {},
   "outputs": [],
   "source": [
    "salary_df = pd.read_csv('d:/data/sentiment_sports/covariates/nfl_salary.tsv', sep='\\t')"
   ]
  },
  {
   "cell_type": "markdown",
   "metadata": {},
   "source": [
    "#### City demographics\n",
    "When thinking about race, we considered whether the demographics of the city influence player popularity. I downloaded census and polling data for NFL cities."
   ]
  },
  {
   "cell_type": "code",
   "execution_count": 20,
   "metadata": {},
   "outputs": [],
   "source": [
    "# city demographics\n",
    "city_df = pd.read_csv('d:/data/sentiment_sports/covariates/sports_metro_demographics.csv').drop(columns = ['census_Id', 'census_Id2', 'Geography'])"
   ]
  },
  {
   "cell_type": "raw",
   "metadata": {},
   "source": [
    "vote_df = pd.read_excel('data/covariates/2016 election results by county.xlsx')\n",
    "vote_df['county_name'] = vote_df['county_name'].str.lower().str.replace(' county', '')"
   ]
  },
  {
   "cell_type": "raw",
   "metadata": {},
   "source": [
    "msa_df = pd.read_excel('data/covariates/County to MSA Map.xlsx')\n",
    "msa_df['County'] = msa_df['County'].str.lower()\n",
    "msa_df = msa_df.rename(columns = {'County':'county_name',\n",
    "                                  'State':'state_abbr'})"
   ]
  },
  {
   "cell_type": "raw",
   "metadata": {},
   "source": [
    "vote_df = vote_df.merge(msa_df, on= ['county_name', 'state_abbr']).drop_duplicates(['state_abbr', 'county_name'])\n",
    "vote_df.sort_values('total_votes', ascending=False).to_csv('data/covariates/msa_votes.tsv', sep='\\t')"
   ]
  },
  {
   "cell_type": "code",
   "execution_count": 21,
   "metadata": {},
   "outputs": [],
   "source": [
    "vote_df = pd.read_csv('d:/data/sentiment_sports/covariates/msa_votes.tsv', sep='\\t')[['per_point_diff', 'Tm']].rename(columns={'per_point_diff':'clinton_vote_lead'})"
   ]
  },
  {
   "cell_type": "markdown",
   "metadata": {},
   "source": [
    "### Combine info\n",
    "After getting all of the data for various covariates, I combine them into a single dataframe that has performance, demographics, and city information."
   ]
  },
  {
   "cell_type": "code",
   "execution_count": 22,
   "metadata": {},
   "outputs": [
    {
     "data": {
      "text/html": [
       "<div>\n",
       "<style scoped>\n",
       "    .dataframe tbody tr th:only-of-type {\n",
       "        vertical-align: middle;\n",
       "    }\n",
       "\n",
       "    .dataframe tbody tr th {\n",
       "        vertical-align: top;\n",
       "    }\n",
       "\n",
       "    .dataframe thead th {\n",
       "        text-align: right;\n",
       "    }\n",
       "</style>\n",
       "<table border=\"1\" class=\"dataframe\">\n",
       "  <thead>\n",
       "    <tr style=\"text-align: right;\">\n",
       "      <th></th>\n",
       "      <th>Player_FO</th>\n",
       "      <th>Tm</th>\n",
       "      <th>position</th>\n",
       "      <th>DYAR</th>\n",
       "      <th>DVOA</th>\n",
       "      <th>TD</th>\n",
       "      <th>z_DYAR</th>\n",
       "      <th>z_DVOA</th>\n",
       "      <th>z_TD</th>\n",
       "      <th>year</th>\n",
       "      <th>...</th>\n",
       "      <th>birth_date</th>\n",
       "      <th>race</th>\n",
       "      <th>salary</th>\n",
       "      <th>standard_salary</th>\n",
       "      <th>Wins</th>\n",
       "      <th>total_population</th>\n",
       "      <th>metro_percent_white</th>\n",
       "      <th>metro_percent_black</th>\n",
       "      <th>clinton_vote_lead</th>\n",
       "      <th>experience</th>\n",
       "    </tr>\n",
       "  </thead>\n",
       "  <tbody>\n",
       "    <tr>\n",
       "      <th>0</th>\n",
       "      <td>T.Brady</td>\n",
       "      <td>BOS</td>\n",
       "      <td>qb</td>\n",
       "      <td>2035</td>\n",
       "      <td>35.1</td>\n",
       "      <td>34</td>\n",
       "      <td>2.574492</td>\n",
       "      <td>1.846341</td>\n",
       "      <td>1.437475</td>\n",
       "      <td>2012</td>\n",
       "      <td>...</td>\n",
       "      <td>August 3, 1977</td>\n",
       "      <td>W</td>\n",
       "      <td>NaN</td>\n",
       "      <td>NaN</td>\n",
       "      <td>12.0</td>\n",
       "      <td>4728844.0</td>\n",
       "      <td>77.3</td>\n",
       "      <td>8.0</td>\n",
       "      <td>0.3815</td>\n",
       "      <td>12.0</td>\n",
       "    </tr>\n",
       "    <tr>\n",
       "      <th>1</th>\n",
       "      <td>P.Manning</td>\n",
       "      <td>DEN</td>\n",
       "      <td>qb</td>\n",
       "      <td>1805</td>\n",
       "      <td>32.8</td>\n",
       "      <td>37</td>\n",
       "      <td>2.222644</td>\n",
       "      <td>1.738123</td>\n",
       "      <td>1.722051</td>\n",
       "      <td>2012</td>\n",
       "      <td>...</td>\n",
       "      <td>March 24, 1976</td>\n",
       "      <td>W</td>\n",
       "      <td>NaN</td>\n",
       "      <td>NaN</td>\n",
       "      <td>13.0</td>\n",
       "      <td>2752056.0</td>\n",
       "      <td>81.9</td>\n",
       "      <td>5.6</td>\n",
       "      <td>0.5638</td>\n",
       "      <td>14.0</td>\n",
       "    </tr>\n",
       "  </tbody>\n",
       "</table>\n",
       "<p>2 rows × 28 columns</p>\n",
       "</div>"
      ],
      "text/plain": [
       "   Player_FO   Tm position  DYAR  DVOA  TD    z_DYAR    z_DVOA      z_TD  \\\n",
       "0    T.Brady  BOS       qb  2035  35.1  34  2.574492  1.846341  1.437475   \n",
       "1  P.Manning  DEN       qb  1805  32.8  37  2.222644  1.738123  1.722051   \n",
       "\n",
       "   year    ...          birth_date race  salary  standard_salary  Wins  \\\n",
       "0  2012    ...      August 3, 1977    W     NaN              NaN  12.0   \n",
       "1  2012    ...      March 24, 1976    W     NaN              NaN  13.0   \n",
       "\n",
       "  total_population  metro_percent_white  metro_percent_black  \\\n",
       "0        4728844.0                 77.3                  8.0   \n",
       "1        2752056.0                 81.9                  5.6   \n",
       "\n",
       "  clinton_vote_lead experience  \n",
       "0            0.3815       12.0  \n",
       "1            0.5638       14.0  \n",
       "\n",
       "[2 rows x 28 columns]"
      ]
     },
     "execution_count": 22,
     "metadata": {},
     "output_type": "execute_result"
    }
   ],
   "source": [
    "covariates_df = (performance_df.merge(demo_df, on = ['player_join', 'position', 'Tm', 'year'], how='left', suffixes=('_FO', ''))\n",
    "                             .merge(race_nfl_df, on='Player', how='left')\n",
    "                             .merge(salary_df, on=['Player', 'year'], how='left')\n",
    "                      .merge(team_df, on=['Tm', 'year'], how ='left')\n",
    "                      .merge(city_df, on='Tm', how='left')\n",
    "                      .merge(vote_df, on='Tm', how='left')\n",
    "                      .dropna(subset= ['start_year'])\n",
    "                )\n",
    "covariates_df['experience'] = covariates_df['year'] - covariates_df['start_year']\n",
    "covariates_df.head(2)"
   ]
  },
  {
   "cell_type": "code",
   "execution_count": 23,
   "metadata": {},
   "outputs": [],
   "source": [
    "covariates_df.to_csv('d:/data/sentiment_sports/covariates/nfl_player_covariates.tsv', sep='\\t', index = False)"
   ]
  },
  {
   "cell_type": "code",
   "execution_count": null,
   "metadata": {},
   "outputs": [],
   "source": []
  }
 ],
 "metadata": {
  "kernelspec": {
   "display_name": "Python 3",
   "language": "python",
   "name": "python3"
  },
  "language_info": {
   "codemirror_mode": {
    "name": "ipython",
    "version": 3
   },
   "file_extension": ".py",
   "mimetype": "text/x-python",
   "name": "python",
   "nbconvert_exporter": "python",
   "pygments_lexer": "ipython3",
   "version": "3.7.0"
  }
 },
 "nbformat": 4,
 "nbformat_minor": 2
}
