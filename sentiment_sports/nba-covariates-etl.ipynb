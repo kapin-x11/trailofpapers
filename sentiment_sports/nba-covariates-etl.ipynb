{
 "cells": [
  {
   "cell_type": "markdown",
   "metadata": {},
   "source": [
    "# NBA Covariates\n",
    "Notebook contains code to extract demographic, performance, team, and city-based features. Used by the notebook `nba-sentiment.ipynb` for regression."
   ]
  },
  {
   "cell_type": "code",
   "execution_count": 13,
   "metadata": {},
   "outputs": [],
   "source": [
    "import pandas as pd\n",
    "import numpy as np\n",
    "%matplotlib inline"
   ]
  },
  {
   "cell_type": "markdown",
   "metadata": {},
   "source": [
    "## Load player demographic and performance data\n",
    "### Demographics\n",
    "#### Ethnicity and height/weight.\n",
    "It was difficult to find a list of NBA player ethnicities, so I just googled the few hundred players. I downloaded height and weight information from `basketball-reference.com`.\n",
    "\n",
    "-I also have data from 2013 onwards; need to update it with race info"
   ]
  },
  {
   "cell_type": "code",
   "execution_count": 2,
   "metadata": {},
   "outputs": [],
   "source": [
    "demo_df = pd.read_csv('d:/data/sentiment_sports/covariates/nba_players2013.tsv', sep ='\\t', encoding = 'utf-8')\n",
    "demo_df['Player'] = demo_df['Player'].str.lower()"
   ]
  },
  {
   "cell_type": "markdown",
   "metadata": {},
   "source": [
    "Fix heights"
   ]
  },
  {
   "cell_type": "code",
   "execution_count": 3,
   "metadata": {},
   "outputs": [],
   "source": [
    "demo_df['Ht'] = demo_df['Ht'].str.split('-')\n",
    "height_dict = {'Jun':72, 'Jul':84, 'May':60}\n",
    "height_dict.update({str(x):x for x in range(13)})\n",
    "height_dict.update({'00':0})\n",
    "demo_df['Ht'] = demo_df['Ht'].apply(lambda row: height_dict[row[0]]*12 + height_dict[row[1]])"
   ]
  },
  {
   "cell_type": "markdown",
   "metadata": {},
   "source": [
    "#### Player performance\n",
    "Performance data as also downloaded from `basketball-reference.com`."
   ]
  },
  {
   "cell_type": "code",
   "execution_count": 4,
   "metadata": {},
   "outputs": [
    {
     "data": {
      "text/plain": [
       "\"performance2018_df = spd.get_year_performance_nba(2018).assign(season = lambda row: row['year'] -1)\\nperformance2017_df = spd.get_year_performance_nba(2017).assign(season = lambda row: row['year'] -1)\\nperformance2016_df = spd.get_year_performance_nba(2016).assign(season = lambda row: row['year'] -1)\\nperformance2015_df = spd.get_year_performance_nba(2015).assign(season = lambda row: row['year'] -1)\\nperformance_df = pd.concat([performance2015_df, performance2016_df, performance2017_df, performance2018_df])\""
      ]
     },
     "execution_count": 4,
     "metadata": {},
     "output_type": "execute_result"
    }
   ],
   "source": [
    "'''performance2018_df = spd.get_year_performance_nba(2018).assign(season = lambda row: row['year'] -1)\n",
    "performance2017_df = spd.get_year_performance_nba(2017).assign(season = lambda row: row['year'] -1)\n",
    "performance2016_df = spd.get_year_performance_nba(2016).assign(season = lambda row: row['year'] -1)\n",
    "performance2015_df = spd.get_year_performance_nba(2015).assign(season = lambda row: row['year'] -1)\n",
    "performance_df = pd.concat([performance2015_df, performance2016_df, performance2017_df, performance2018_df])'''"
   ]
  },
  {
   "cell_type": "code",
   "execution_count": 5,
   "metadata": {},
   "outputs": [],
   "source": [
    "#performance_df.to_csv('d:/data/sentiment_sports/covariates/nba_stats_2015-2018.tsv', sep='\\t', index = False)\n",
    "performance_df = pd.read_csv('d:/data/sentiment_sports/covariates/nba_stats_2015-2018.tsv', sep='\\t')\n",
    "performance_df = performance_df.rename(columns = {'TOV%':'TOVP'})"
   ]
  },
  {
   "cell_type": "markdown",
   "metadata": {},
   "source": [
    "#### Team info\n",
    "I downloaded team performance data from `basketball-reference.com` as well."
   ]
  },
  {
   "cell_type": "code",
   "execution_count": 6,
   "metadata": {},
   "outputs": [],
   "source": [
    "#year=2015\n",
    "#team2015_df = pd.concat(pd.read_html(f'https://www.basketball-reference.com/leagues/NBA_{year}.html')[:2]).assign(year = year)\n",
    "# then hand edit the 3-letter team names\n",
    "team_df = pd.concat([pd.read_csv('d:/data/sentiment_sports/covariates/nba_teams2016.tsv', sep='\\t'),\n",
    "                     pd.read_csv('d:/data/sentiment_sports/covariates/nba_teams2017.tsv', sep='\\t'),\n",
    "                     pd.read_csv('d:/data/sentiment_sports/covariates/nba_teams2018.tsv', sep='\\t')])"
   ]
  },
  {
   "cell_type": "markdown",
   "metadata": {},
   "source": [
    "#### Salary"
   ]
  },
  {
   "cell_type": "code",
   "execution_count": 7,
   "metadata": {},
   "outputs": [
    {
     "name": "stderr",
     "output_type": "stream",
     "text": [
      "C:\\ProgramData\\Anaconda3\\lib\\site-packages\\ipykernel_launcher.py:5: FutureWarning: Sorting because non-concatenation axis is not aligned. A future version\n",
      "of pandas will change to not sort by default.\n",
      "\n",
      "To accept the future behavior, pass 'sort=True'.\n",
      "\n",
      "To retain the current behavior and silence the warning, pass sort=False\n",
      "\n",
      "  \"\"\"\n"
     ]
    }
   ],
   "source": [
    "def get_nba_salary_year(season):\n",
    "    return (pd.read_html(f'https://hoopshype.com/salaries/players/{season}-{season+1}/')[0]\n",
    "              .rename(columns = {str(season) + '/' +  str(season+1)[2:]: 'salary'})\n",
    "              .assign(season = season))\n",
    "salary_df = pd.concat([get_nba_salary_year(season) for season in range(2010, 2019)])[['Player', 'salary', 'season']]"
   ]
  },
  {
   "cell_type": "code",
   "execution_count": 8,
   "metadata": {},
   "outputs": [],
   "source": [
    "salary_df['Player'] = salary_df['Player'].str.lower()\n",
    "import locale\n",
    "locale.setlocale( locale.LC_ALL, 'en_US.UTF-8' ) \n",
    "salary_df['salary'] = salary_df['salary'].str[1:].apply(locale.atoi)"
   ]
  },
  {
   "cell_type": "code",
   "execution_count": 11,
   "metadata": {},
   "outputs": [],
   "source": [
    "salary_df['standard_salary'] = np.power(salary_df['salary'], 1/4)"
   ]
  },
  {
   "cell_type": "code",
   "execution_count": 14,
   "metadata": {},
   "outputs": [
    {
     "data": {
      "image/png": "[encoded data removed]",
      "text/plain": [
       "<Figure size 432x288 with 1 Axes>"
      ]
     },
     "metadata": {
      "needs_background": "light"
     },
     "output_type": "display_data"
    }
   ],
   "source": [
    "np.power(salary_df['salary'], 1/4).hist();"
   ]
  },
  {
   "cell_type": "markdown",
   "metadata": {},
   "source": [
    "#### City demographics\n",
    "When thinking about race, we considered whether the demographics of the city influence player popularity. I downloaded census and polling data for NFL cities."
   ]
  },
  {
   "cell_type": "code",
   "execution_count": 15,
   "metadata": {},
   "outputs": [],
   "source": [
    "# city demographics\n",
    "city_df = pd.read_csv('d:/data/sentiment_sports/covariates/sports_metro_demographics.csv').drop(columns = ['census_Id', 'census_Id2', 'Geography'])"
   ]
  },
  {
   "cell_type": "raw",
   "metadata": {},
   "source": [
    "vote_df = pd.read_excel('d:/data/sentiment_sports/covariates/2016 election results by county.xlsx')\n",
    "vote_df['county_name'] = vote_df['county_name'].str.lower().str.replace(' county', '')"
   ]
  },
  {
   "cell_type": "raw",
   "metadata": {},
   "source": [
    "msa_df = pd.read_excel('data/covariates/County to MSA Map.xlsx')\n",
    "msa_df['County'] = msa_df['County'].str.lower()\n",
    "msa_df = msa_df.rename(columns = {'County':'county_name',\n",
    "                                  'State':'state_abbr'})"
   ]
  },
  {
   "cell_type": "raw",
   "metadata": {},
   "source": [
    "vote_df = vote_df.merge(msa_df, on= ['county_name', 'state_abbr']).drop_duplicates(['state_abbr', 'county_name'])\n",
    "vote_df.sort_values('total_votes', ascending=False).to_csv('data/covariates/msa_votes.tsv', sep='\\t')"
   ]
  },
  {
   "cell_type": "code",
   "execution_count": 16,
   "metadata": {},
   "outputs": [],
   "source": [
    "vote_df = pd.read_csv('d:/data/sentiment_sports/covariates/msa_votes.tsv', sep='\\t')[['per_point_diff', 'Tm']].rename(columns={'per_point_diff':'clinton_vote_lead'})"
   ]
  },
  {
   "cell_type": "markdown",
   "metadata": {},
   "source": [
    "### Combine info\n",
    "After getting all of the data for various covariates, I combine them into a single dataframe that has performance, demographics, and city information."
   ]
  },
  {
   "cell_type": "code",
   "execution_count": 17,
   "metadata": {},
   "outputs": [
    {
     "data": {
      "text/html": [
       "<div>\n",
       "<style scoped>\n",
       "    .dataframe tbody tr th:only-of-type {\n",
       "        vertical-align: middle;\n",
       "    }\n",
       "\n",
       "    .dataframe tbody tr th {\n",
       "        vertical-align: top;\n",
       "    }\n",
       "\n",
       "    .dataframe thead th {\n",
       "        text-align: right;\n",
       "    }\n",
       "</style>\n",
       "<table border=\"1\" class=\"dataframe\">\n",
       "  <thead>\n",
       "    <tr style=\"text-align: right;\">\n",
       "      <th></th>\n",
       "      <th>Player</th>\n",
       "      <th>Race</th>\n",
       "      <th>From</th>\n",
       "      <th>To</th>\n",
       "      <th>Pos_x</th>\n",
       "      <th>Ht</th>\n",
       "      <th>Wt</th>\n",
       "      <th>Birth Date</th>\n",
       "      <th>Colleges</th>\n",
       "      <th>Rk</th>\n",
       "      <th>...</th>\n",
       "      <th>year</th>\n",
       "      <th>season</th>\n",
       "      <th>Wins</th>\n",
       "      <th>total_population</th>\n",
       "      <th>metro_percent_white</th>\n",
       "      <th>metro_percent_black</th>\n",
       "      <th>clinton_vote_lead</th>\n",
       "      <th>salary</th>\n",
       "      <th>standard_salary</th>\n",
       "      <th>experience</th>\n",
       "    </tr>\n",
       "  </thead>\n",
       "  <tbody>\n",
       "    <tr>\n",
       "      <th>0</th>\n",
       "      <td>alex abrines</td>\n",
       "      <td>W</td>\n",
       "      <td>2017</td>\n",
       "      <td>2018</td>\n",
       "      <td>G-F</td>\n",
       "      <td>78</td>\n",
       "      <td>190</td>\n",
       "      <td>August 1, 1993</td>\n",
       "      <td>NaN</td>\n",
       "      <td>1</td>\n",
       "      <td>...</td>\n",
       "      <td>2017</td>\n",
       "      <td>2016</td>\n",
       "      <td>47</td>\n",
       "      <td>1337075</td>\n",
       "      <td>74.1</td>\n",
       "      <td>10.2</td>\n",
       "      <td>0.1051</td>\n",
       "      <td>5994764.0</td>\n",
       "      <td>49.481519</td>\n",
       "      <td>0</td>\n",
       "    </tr>\n",
       "    <tr>\n",
       "      <th>1</th>\n",
       "      <td>steven adams</td>\n",
       "      <td>W</td>\n",
       "      <td>2014</td>\n",
       "      <td>2018</td>\n",
       "      <td>C</td>\n",
       "      <td>84</td>\n",
       "      <td>255</td>\n",
       "      <td>July 20, 1993</td>\n",
       "      <td>University of Pittsburgh</td>\n",
       "      <td>3</td>\n",
       "      <td>...</td>\n",
       "      <td>2017</td>\n",
       "      <td>2016</td>\n",
       "      <td>47</td>\n",
       "      <td>1337075</td>\n",
       "      <td>74.1</td>\n",
       "      <td>10.2</td>\n",
       "      <td>0.1051</td>\n",
       "      <td>3140517.0</td>\n",
       "      <td>42.096917</td>\n",
       "      <td>3</td>\n",
       "    </tr>\n",
       "  </tbody>\n",
       "</table>\n",
       "<p>2 rows × 69 columns</p>\n",
       "</div>"
      ],
      "text/plain": [
       "         Player Race  From    To Pos_x  Ht   Wt      Birth Date  \\\n",
       "0  alex abrines    W  2017  2018   G-F  78  190  August 1, 1993   \n",
       "1  steven adams    W  2014  2018     C  84  255   July 20, 1993   \n",
       "\n",
       "                   Colleges  Rk     ...      year  season  Wins  \\\n",
       "0                       NaN   1     ...      2017    2016    47   \n",
       "1  University of Pittsburgh   3     ...      2017    2016    47   \n",
       "\n",
       "   total_population  metro_percent_white  metro_percent_black  \\\n",
       "0           1337075                 74.1                 10.2   \n",
       "1           1337075                 74.1                 10.2   \n",
       "\n",
       "   clinton_vote_lead     salary  standard_salary  experience  \n",
       "0             0.1051  5994764.0        49.481519           0  \n",
       "1             0.1051  3140517.0        42.096917           3  \n",
       "\n",
       "[2 rows x 69 columns]"
      ]
     },
     "execution_count": 17,
     "metadata": {},
     "output_type": "execute_result"
    }
   ],
   "source": [
    "covariates_df = (demo_df.merge(performance_df, on = 'Player')\n",
    "                      .merge(team_df, on=['Tm', 'year'])\n",
    "                      .merge(city_df, on='Tm')\n",
    "                      .merge(vote_df, on='Tm') )\n",
    "covariates_df['Player'] = covariates_df['Player'].str.replace('.', '')\n",
    "covariates_df = covariates_df.merge(salary_df, on=['Player', 'season'], how='left')\n",
    "covariates_df['experience'] = covariates_df['year'] - covariates_df['From']\n",
    "covariates_df.head(2)"
   ]
  },
  {
   "cell_type": "code",
   "execution_count": 18,
   "metadata": {},
   "outputs": [],
   "source": [
    "covariates_df.to_csv('d:/data/sentiment_sports/covariates/nba_player_covariates.tsv', sep='\\t', index = False)"
   ]
  },
  {
   "cell_type": "code",
   "execution_count": null,
   "metadata": {},
   "outputs": [],
   "source": []
  }
 ],
 "metadata": {
  "kernelspec": {
   "display_name": "Python 3",
   "language": "python",
   "name": "python3"
  },
  "language_info": {
   "codemirror_mode": {
    "name": "ipython",
    "version": 3
   },
   "file_extension": ".py",
   "mimetype": "text/x-python",
   "name": "python",
   "nbconvert_exporter": "python",
   "pygments_lexer": "ipython3",
   "version": "3.6.5"
  }
 },
 "nbformat": 4,
 "nbformat_minor": 2
}
