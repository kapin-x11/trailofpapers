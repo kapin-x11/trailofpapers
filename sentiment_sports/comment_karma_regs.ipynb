{
 "cells": [
  {
   "cell_type": "code",
   "execution_count": 14,
   "metadata": {
    "scrolled": true
   },
   "outputs": [
    {
     "name": "stderr",
     "output_type": "stream",
     "text": [
      "C:\\Users\\mattg\\Anaconda3\\lib\\site-packages\\IPython\\core\\interactiveshell.py:2785: DtypeWarning: Columns (1,9,14) have mixed types. Specify dtype option on import or set low_memory=False.\n",
      "  interactivity=interactivity, compiler=compiler, result=result)\n"
     ]
    }
   ],
   "source": [
    "# Load Data\n",
    "import pandas as pd\n",
    "import numpy as np\n",
    "import matplotlib.pyplot as plt\n",
    "data_loc = 'D:/Reddit NBA Data/'\n",
    "\n",
    "file_name = 'nba_comments_scored.tsv'\n",
    "df = pd.read_csv(data_loc + file_name, sep='\\t')\n"
   ]
  },
  {
   "cell_type": "code",
   "execution_count": 15,
   "metadata": {},
   "outputs": [
    {
     "name": "stdout",
     "output_type": "stream",
     "text": [
      "3849403\n",
      "3849403\n",
      "['compound' 'flair' 'fuzzy_name' 'named_entities' 'neg' 'neu' 'pos'\n",
      " 'score' 'season' 'source' 'str_entities' 'text_length' 'timestamp'\n",
      " 'upper_entities' 'user' 'year_month' 'Player' 'From' 'To' 'Pos' 'Ht' 'Wt'\n",
      " 'Birth Date' 'Colleges' 'experience' 'Race' 'black']\n"
     ]
    }
   ],
   "source": [
    "#Merge player race on and create black category\n",
    "print(len(df))\n",
    "pl = pd.read_csv(data_loc + 'players2018.tsv', sep='\\t')\n",
    "pl['fuzzy_name'] = pl['Player'].str.lower()\n",
    "df = df.merge(pl, on='fuzzy_name', how='left')\n",
    "df['black'] = df['Race'].isin(['B','M'])\n",
    "print(len(df))"
   ]
  },
  {
   "cell_type": "code",
   "execution_count": 3,
   "metadata": {},
   "outputs": [
    {
     "name": "stdout",
     "output_type": "stream",
     "text": [
      "count    2.729808e+06\n",
      "mean     1.632070e+01\n",
      "std      1.881786e+02\n",
      "min     -7.170000e+02\n",
      "25%      1.000000e+00\n",
      "50%      2.000000e+00\n",
      "75%      6.000000e+00\n",
      "max      3.399600e+04\n",
      "Name: score, dtype: float64\n",
      "count    2.729808e+06\n",
      "mean     9.365359e-01\n",
      "std      6.400663e-01\n",
      "min     -1.569402e+00\n",
      "25%      7.853982e-01\n",
      "50%      1.107149e+00\n",
      "75%      1.405648e+00\n",
      "max      1.570767e+00\n",
      "Name: score_mod, dtype: float64\n"
     ]
    }
   ],
   "source": [
    "#create score_mod which is arctan transform of score and has more sensible distribution\n",
    "df['score_mod'] = np.arctan(df['score'])\n",
    "#df['score_mod']= df['score']\n",
    "print(df['score'].describe())\n",
    "print(df['score_mod'].describe())"
   ]
  },
  {
   "cell_type": "code",
   "execution_count": 4,
   "metadata": {},
   "outputs": [],
   "source": [
    "#List of top entities\n",
    "threshold = 5000\n",
    "players = df['fuzzy_name'].value_counts()\n",
    "player_list = [p for p in players[players>threshold].index.values if p!='unclear']"
   ]
  },
  {
   "cell_type": "code",
   "execution_count": 5,
   "metadata": {},
   "outputs": [
    {
     "name": "stdout",
     "output_type": "stream",
     "text": [
      "                            WLS Regression Results                            \n",
      "==============================================================================\n",
      "Dep. Variable:              score_mod   R-squared:                       0.001\n",
      "Model:                            WLS   Adj. R-squared:                  0.001\n",
      "Method:                 Least Squares   F-statistic:                     29.81\n",
      "Date:                Sun, 18 Nov 2018   Prob (F-statistic):           3.45e-16\n",
      "Time:                        01:04:45   Log-Likelihood:            -1.1816e+06\n",
      "No. Observations:             1150380   AIC:                         2.363e+06\n",
      "Df Residuals:                 1150374   BIC:                         2.363e+06\n",
      "Df Model:                           5                                         \n",
      "Covariance Type:              cluster                                         \n",
      "=====================================================================================\n",
      "                        coef    std err          z      P>|z|      [0.025      0.975]\n",
      "-------------------------------------------------------------------------------------\n",
      "Intercept             0.9486      0.018     52.480      0.000       0.913       0.984\n",
      "black[T.True]        -0.0387      0.020     -1.910      0.056      -0.078       0.001\n",
      "pos                  -0.0034      0.019     -0.178      0.859      -0.041       0.035\n",
      "pos:black[T.True]    -0.0028      0.022     -0.129      0.898      -0.046       0.040\n",
      "neg                  -0.1464      0.024     -5.990      0.000      -0.194      -0.099\n",
      "neg:black[T.True]     0.0005      0.029      0.016      0.987      -0.056       0.057\n",
      "==============================================================================\n",
      "Omnibus:                   442076.834   Durbin-Watson:                   1.812\n",
      "Prob(Omnibus):                  0.000   Jarque-Bera (JB):          1545677.918\n",
      "Skew:                          -1.983   Prob(JB):                         0.00\n",
      "Kurtosis:                       7.064   Cond. No.                         32.9\n",
      "==============================================================================\n",
      "\n",
      "Warnings:\n",
      "[1] Standard Errors are robust tocluster correlation (cluster)\n"
     ]
    }
   ],
   "source": [
    "#Regression onto player effects and seperate pos, neg effects for black/white\n",
    "#Weak evidence that baseline arctan karma is slightly higher for non-black player\n",
    "#no evidence that sentiment impacts karma differently for black/white players (power is pretty high) \n",
    "#overall this is pretty strong evience against racial bias\n",
    "import statsmodels.formula.api as smf\n",
    "from sklearn.linear_model import LassoCV\n",
    "\n",
    "df_use = df[df['fuzzy_name'].isin(player_list)]\n",
    "df_use = df_use.loc[:, ['score_mod','pos','neg','black','fuzzy_name']].dropna(how='any')\n",
    "\n",
    "                     \n",
    "mod = smf.wls('score_mod ~ (pos + neg) * black',\n",
    "              data=df_use).fit(cov_type='cluster', cov_kwds={'groups' : df_use['fuzzy_name']})\n",
    "print(mod.summary())"
   ]
  },
  {
   "cell_type": "code",
   "execution_count": 6,
   "metadata": {},
   "outputs": [],
   "source": [
    "#Now lets add player fixed effects to better control for player heterogeneity and see who the poppular players are\n",
    "import statsmodels.formula.api as smf\n",
    "from sklearn.linear_model import LassoCV\n",
    "\n",
    "mod = smf.wls('score_mod ~ -1 + C(fuzzy_name) + (pos + neg):black', data=df_use) \\\n",
    ".fit(cov_type='cluster', cov_kwds={'groups' : df_use['fuzzy_name']})\n",
    "par=pd.concat([mod.params, mod.HC0_se], axis=1)\n",
    "par.columns=['coef','se']\n",
    "par['t'] = par['coef'] / par['se']"
   ]
  },
  {
   "cell_type": "code",
   "execution_count": 7,
   "metadata": {},
   "outputs": [
    {
     "name": "stdout",
     "output_type": "stream",
     "text": [
      "                      coef        se          t\n",
      "pos:black[True]  -0.006660  0.004567  -1.458219\n",
      "pos:black[False] -0.014162  0.008211  -1.724723\n",
      "neg:black[True]  -0.137453  0.005860 -23.457627\n",
      "neg:black[False] -0.142468  0.010993 -12.960359\n"
     ]
    }
   ],
   "source": [
    "#Negative sentiment predicts less arctan karma on average. But it does so similarly for black and white players\n",
    "#Positive sentiment does not predict arctan karma on average.\n",
    "par_coef = par.loc[~par.index.get_level_values(None).str.contains('fuzzy'), :]\n",
    "print(par_coef.sort_values('coef', ascending=False))"
   ]
  },
  {
   "cell_type": "code",
   "execution_count": 8,
   "metadata": {},
   "outputs": [
    {
     "name": "stdout",
     "output_type": "stream",
     "text": [
      "                                          coef        se           t\n",
      "C(fuzzy_name)[chuck hayes]            1.041675  0.006829  152.537176\n",
      "C(fuzzy_name)[manu ginobili]          1.036552  0.006738  153.837863\n",
      "C(fuzzy_name)[thon maker]             1.036352  0.008718  118.870032\n",
      "C(fuzzy_name)[nikola jokic]           1.026339  0.006681  153.610941\n",
      "C(fuzzy_name)[doc rivers]             1.022460  0.007466  136.944140\n",
      "C(fuzzy_name)[jj redick]              1.017685  0.007659  132.873865\n",
      "C(fuzzy_name)[dirk nowitzki]          1.017019  0.005308  191.598250\n",
      "C(fuzzy_name)[kristaps porzingis]     1.013561  0.007378  137.371789\n",
      "C(fuzzy_name)[enes kanter]            1.006074  0.007791  129.129121\n",
      "C(fuzzy_name)[cj mccollum]            1.004483  0.006813  147.433620\n",
      "C(fuzzy_name)[pau gasol]              0.996576  0.007850  126.947986\n",
      "C(fuzzy_name)[javale mcgee]           0.996536  0.006893  144.561860\n",
      "C(fuzzy_name)[dwane casey]            0.995208  0.007477  133.110415\n",
      "C(fuzzy_name)[kemba walker]           0.993757  0.008497  116.950637\n",
      "C(fuzzy_name)[serge ibaka]            0.992078  0.007576  130.950825\n",
      "C(fuzzy_name)[bradley beal]           0.989603  0.007833  126.342618\n",
      "C(fuzzy_name)[giannis antetokounmpo]  0.985585  0.004146  237.736071\n",
      "C(fuzzy_name)[gordon hayward]         0.985487  0.006254  157.577996\n",
      "C(fuzzy_name)[andre roberson]         0.985033  0.009591  102.704808\n",
      "C(fuzzy_name)[kyle korver]            0.981974  0.006539  150.161174\n",
      "C(fuzzy_name)[ricky rubio]            0.979935  0.007150  137.061441\n",
      "C(fuzzy_name)[rudy gobert]            0.976607  0.006918  141.160226\n",
      "C(fuzzy_name)[nerlens noel]           0.976338  0.007118  137.157178\n",
      "C(fuzzy_name)[demarcus cousins]       0.974635  0.003949  246.795978\n",
      "C(fuzzy_name)[tim duncan]             0.973959  0.005815  167.480954\n",
      "C(fuzzy_name)[paul george]            0.971585  0.008806  110.327775\n",
      "C(fuzzy_name)[steve kerr]             0.970068  0.006449  150.424532\n",
      "C(fuzzy_name)[karl-anthony towns]     0.968886  0.005690  170.289017\n",
      "C(fuzzy_name)[john wall]              0.967471  0.005210  185.692589\n",
      "C(fuzzy_name)[tristan thompson]       0.965964  0.007831  123.346044\n",
      "...                                        ...       ...         ...\n",
      "C(fuzzy_name)[andrew bogut]           0.945305  0.008434  112.084203\n",
      "C(fuzzy_name)[andre iguodala]         0.943263  0.008167  115.491770\n",
      "C(fuzzy_name)[dwight howard]          0.943198  0.004922  191.637820\n",
      "C(fuzzy_name)[jimmy butler]           0.941934  0.006772  139.099840\n",
      "C(fuzzy_name)[andrew wiggins]         0.938554  0.006644  141.270124\n",
      "C(fuzzy_name)[damian lillard]         0.936313  0.007358  127.256746\n",
      "C(fuzzy_name)[anthony davis]          0.931335  0.010464   89.007620\n",
      "C(fuzzy_name)[dwyane wade]            0.929925  0.005397  172.308359\n",
      "C(fuzzy_name)[ben simmons]            0.928372  0.003775  245.958699\n",
      "C(fuzzy_name)[tyronn lue]             0.919840  0.009869   93.201780\n",
      "C(fuzzy_name)[derrick rose]           0.916520  0.005400  169.729520\n",
      "C(fuzzy_name)[markelle fultz]         0.916216  0.006406  143.033652\n",
      "C(fuzzy_name)[brandon ingram]         0.913745  0.008563  106.702377\n",
      "C(fuzzy_name)[carmelo anthony]        0.910330  0.003828  237.818010\n",
      "C(fuzzy_name)[chris paul]             0.907214  0.008296  109.355487\n",
      "C(fuzzy_name)[brad stevens]           0.901221  0.008446  106.702031\n",
      "C(fuzzy_name)[jeremy lin]             0.891406  0.008661  102.916688\n",
      "C(fuzzy_name)[jae crowder]            0.889384  0.010973   81.055614\n",
      "C(fuzzy_name)[michael jordan]         0.875762  0.006036  145.088913\n",
      "C(fuzzy_name)[zaza pachulia]          0.874455  0.007395  118.252017\n",
      "C(fuzzy_name)[al horford]             0.874032  0.007973  109.623778\n",
      "C(fuzzy_name)[russell westbrook]      0.872031  0.003381  257.944158\n",
      "C(fuzzy_name)[kevin durant]           0.869819  0.002830  307.409411\n",
      "C(fuzzy_name)[lebron james]           0.869218  0.001804  481.723795\n",
      "C(fuzzy_name)[james harden]           0.868559  0.002869  302.706764\n",
      "C(fuzzy_name)[kyrie irving]           0.865795  0.003812  227.142539\n",
      "C(fuzzy_name)[kobe bryant]            0.865791  0.003490  248.046321\n",
      "C(fuzzy_name)[draymond green]         0.861646  0.004820  178.747774\n",
      "C(fuzzy_name)[lonzo ball]             0.860312  0.004542  189.398132\n",
      "C(fuzzy_name)[jayson tatum]           0.828722  0.005655  146.550852\n",
      "\n",
      "[72 rows x 3 columns]\n"
     ]
    }
   ],
   "source": [
    "#What about the overall level of karma for posts about individual players?\n",
    "#To check, we sort player fixed effects and print them. Some intresting names on top and bottom of the list\n",
    "\n",
    "par_fe = par.loc[par.index.get_level_values(None).str.contains('fuzzy'), :]\n",
    "print(par_fe.sort_values('coef', ascending=False))"
   ]
  },
  {
   "cell_type": "code",
   "execution_count": 9,
   "metadata": {},
   "outputs": [],
   "source": [
    "#what about a fully general model that gives player specific slopes for pos and neg sentiment\n",
    "mod = smf.wls('score_mod ~ -1 + C(fuzzy_name) + C(fuzzy_name):(pos + neg)', data=df_use) \\\n",
    ".fit(cov_type='cluster', cov_kwds={'groups' : df_use['fuzzy_name']})\n",
    "par=pd.concat([mod.params, mod.HC0_se], axis=1)\n",
    "par.columns=['coef','se']\n",
    "par['t'] = par['coef'] / par['se']\n"
   ]
  },
  {
   "cell_type": "code",
   "execution_count": 10,
   "metadata": {},
   "outputs": [
    {
     "name": "stdout",
     "output_type": "stream",
     "text": [
      "                                          coef        se           t\n",
      "C(fuzzy_name)[nikola jokic]           1.033241  0.008982  115.032608\n",
      "C(fuzzy_name)[chuck hayes]            1.027490  0.009589  107.155387\n",
      "C(fuzzy_name)[jj redick]              1.027125  0.013383   76.747571\n",
      "C(fuzzy_name)[kristaps porzingis]     1.026857  0.009738  105.452306\n",
      "C(fuzzy_name)[dirk nowitzki]          1.022574  0.006934  147.465651\n",
      "C(fuzzy_name)[manu ginobili]          1.020076  0.009097  112.138509\n",
      "C(fuzzy_name)[javale mcgee]           1.017174  0.009322  109.116088\n",
      "C(fuzzy_name)[thon maker]             1.011168  0.012060   83.841487\n",
      "C(fuzzy_name)[doc rivers]             1.004314  0.010167   98.785697\n",
      "C(fuzzy_name)[enes kanter]            1.000014  0.010947   91.349471\n",
      "C(fuzzy_name)[dwane casey]            0.997323  0.010291   96.913246\n",
      "C(fuzzy_name)[andre roberson]         0.996859  0.013138   75.874238\n",
      "C(fuzzy_name)[bradley beal]           0.988274  0.010916   90.531206\n",
      "C(fuzzy_name)[kemba walker]           0.981256  0.012063   81.342412\n",
      "C(fuzzy_name)[gordon hayward]         0.980799  0.008381  117.029900\n",
      "C(fuzzy_name)[ricky rubio]            0.979729  0.009888   99.082555\n",
      "C(fuzzy_name)[cj mccollum]            0.977160  0.009618  101.592259\n",
      "C(fuzzy_name)[tim duncan]             0.973904  0.007809  124.711509\n",
      "C(fuzzy_name)[giannis antetokounmpo]  0.972996  0.005530  175.947151\n",
      "C(fuzzy_name)[serge ibaka]            0.972650  0.010559   92.115804\n",
      "C(fuzzy_name)[kyle korver]            0.972262  0.008770  110.856676\n",
      "C(fuzzy_name)[demarcus cousins]       0.971114  0.005440  178.523976\n",
      "C(fuzzy_name)[tristan thompson]       0.971103  0.010251   94.733447\n",
      "C(fuzzy_name)[pau gasol]              0.970814  0.010966   88.533359\n",
      "C(fuzzy_name)[steve kerr]             0.970735  0.008796  110.358512\n",
      "C(fuzzy_name)[nerlens noel]           0.969282  0.009871   98.196225\n",
      "C(fuzzy_name)[rajon rondo]            0.968751  0.006908  140.230081\n",
      "C(fuzzy_name)[hassan whiteside]       0.965289  0.011078   87.134476\n",
      "C(fuzzy_name)[rudy gobert]            0.964577  0.009366  102.991228\n",
      "C(fuzzy_name)[demar derozan]          0.963649  0.007544  127.729101\n",
      "...                                        ...       ...         ...\n",
      "C(fuzzy_name)[chris bosh]             0.938308  0.012674   74.035994\n",
      "C(fuzzy_name)[kawhi leonard]          0.937061  0.005149  181.981237\n",
      "C(fuzzy_name)[damian lillard]         0.936454  0.009816   95.396319\n",
      "C(fuzzy_name)[lamarcus aldridge]      0.932825  0.009048  103.100065\n",
      "C(fuzzy_name)[jimmy butler]           0.931326  0.009139  101.910969\n",
      "C(fuzzy_name)[andrew wiggins]         0.929992  0.009481   98.089242\n",
      "C(fuzzy_name)[ben simmons]            0.929734  0.005081  182.996291\n",
      "C(fuzzy_name)[dwyane wade]            0.928053  0.007629  121.640867\n",
      "C(fuzzy_name)[derrick rose]           0.919433  0.007529  122.114300\n",
      "C(fuzzy_name)[anthony davis]          0.915264  0.013775   66.444279\n",
      "C(fuzzy_name)[tyronn lue]             0.914240  0.013751   66.483714\n",
      "C(fuzzy_name)[carmelo anthony]        0.910672  0.005328  170.906616\n",
      "C(fuzzy_name)[brandon ingram]         0.905098  0.011998   75.436025\n",
      "C(fuzzy_name)[jae crowder]            0.903620  0.015157   59.617521\n",
      "C(fuzzy_name)[brad stevens]           0.899292  0.012114   74.236563\n",
      "C(fuzzy_name)[markelle fultz]         0.897783  0.008890  100.986372\n",
      "C(fuzzy_name)[chris paul]             0.896759  0.011568   77.519009\n",
      "C(fuzzy_name)[jeremy lin]             0.888882  0.011963   74.301605\n",
      "C(fuzzy_name)[russell westbrook]      0.886420  0.004592  193.029796\n",
      "C(fuzzy_name)[zaza pachulia]          0.880758  0.009933   88.667662\n",
      "C(fuzzy_name)[michael jordan]         0.880525  0.008554  102.939473\n",
      "C(fuzzy_name)[kobe bryant]            0.880268  0.004607  191.060519\n",
      "C(fuzzy_name)[al horford]             0.878061  0.010518   83.480045\n",
      "C(fuzzy_name)[lebron james]           0.877013  0.002380  368.533599\n",
      "C(fuzzy_name)[kevin durant]           0.872763  0.003919  222.702656\n",
      "C(fuzzy_name)[james harden]           0.868578  0.003959  219.389537\n",
      "C(fuzzy_name)[kyrie irving]           0.865994  0.005260  164.647579\n",
      "C(fuzzy_name)[draymond green]         0.860731  0.006791  126.736652\n",
      "C(fuzzy_name)[lonzo ball]             0.845323  0.006627  127.562464\n",
      "C(fuzzy_name)[jayson tatum]           0.808225  0.008489   95.205557\n",
      "\n",
      "[72 rows x 3 columns]\n"
     ]
    }
   ],
   "source": [
    "#Print player fixed effects. This gives fitted player sentiment when pos=neg=0 for each player. Essnetially this gives us a\n",
    "#sentiment-neutral level of arctan karma for each player\n",
    "par_lvl = par[~(par.index.get_level_values(None).str.contains('pos') | par.index.get_level_values(None).str.contains('neg'))]\n",
    "print(par_lvl.sort_values('coef',ascending=False))"
   ]
  },
  {
   "cell_type": "code",
   "execution_count": 11,
   "metadata": {},
   "outputs": [
    {
     "name": "stdout",
     "output_type": "stream",
     "text": [
      "                                              coef        se         t\n",
      "C(fuzzy_name)[thon maker]:pos             0.162777  0.047163  3.451362\n",
      "C(fuzzy_name)[andre drummond]:pos         0.118490  0.052783  2.244860\n",
      "C(fuzzy_name)[chris paul]:pos             0.112538  0.055946  2.011530\n",
      "C(fuzzy_name)[jeremy lin]:pos             0.112147  0.050429  2.223853\n",
      "C(fuzzy_name)[serge ibaka]:pos            0.110539  0.044085  2.507382\n",
      "C(fuzzy_name)[cj mccollum]:pos            0.109994  0.037243  2.953393\n",
      "C(fuzzy_name)[pau gasol]:pos              0.092969  0.042239  2.201018\n",
      "C(fuzzy_name)[lamarcus aldridge]:pos      0.090793  0.037188  2.441448\n",
      "C(fuzzy_name)[nerlens noel]:pos           0.086618  0.045846  1.889335\n",
      "C(fuzzy_name)[manu ginobili]:pos          0.078212  0.034969  2.236647\n",
      "C(fuzzy_name)[chuck hayes]:pos            0.075055  0.036888  2.034702\n",
      "C(fuzzy_name)[andrew bogut]:pos           0.074975  0.047887  1.565671\n",
      "C(fuzzy_name)[andrew wiggins]:pos         0.073853  0.040253  1.834706\n",
      "C(fuzzy_name)[blake griffin]:pos          0.070614  0.032800  2.152851\n",
      "C(fuzzy_name)[jayson tatum]:pos           0.061426  0.032472  1.891652\n",
      "C(fuzzy_name)[chris bosh]:pos             0.061141  0.057392  1.065312\n",
      "C(fuzzy_name)[anthony davis]:pos          0.060339  0.069162  0.872428\n",
      "C(fuzzy_name)[john wall]:pos              0.058211  0.031554  1.844805\n",
      "C(fuzzy_name)[giannis antetokounmpo]:pos  0.057777  0.024556  2.352914\n",
      "C(fuzzy_name)[karl-anthony towns]:pos     0.057610  0.035684  1.614465\n",
      "C(fuzzy_name)[enes kanter]:pos            0.056773  0.048264  1.176319\n",
      "C(fuzzy_name)[doc rivers]:pos             0.053712  0.045487  1.180814\n",
      "C(fuzzy_name)[brad stevens]:pos           0.051146  0.047053  1.086986\n",
      "C(fuzzy_name)[draymond green]:pos         0.049553  0.031154  1.590572\n",
      "C(fuzzy_name)[paul george]:pos            0.048691  0.060971  0.798583\n",
      "C(fuzzy_name)[ricky rubio]:pos            0.045062  0.041735  1.079700\n",
      "C(fuzzy_name)[joel embiid]:pos            0.044744  0.026223  1.706288\n",
      "C(fuzzy_name)[brandon ingram]:pos         0.040528  0.051083  0.793390\n",
      "C(fuzzy_name)[jimmy butler]:pos           0.039073  0.040387  0.967451\n",
      "C(fuzzy_name)[markelle fultz]:pos         0.037164  0.043044  0.863403\n",
      "...                                            ...       ...       ...\n",
      "C(fuzzy_name)[javale mcgee]:pos          -0.009914  0.039555 -0.250625\n",
      "C(fuzzy_name)[kevin durant]:pos          -0.010418  0.018287 -0.569669\n",
      "C(fuzzy_name)[dwight howard]:pos         -0.013032  0.030179 -0.431836\n",
      "C(fuzzy_name)[klay thompson]:pos         -0.017557  0.022701 -0.773422\n",
      "C(fuzzy_name)[demar derozan]:pos         -0.020416  0.032906 -0.620429\n",
      "C(fuzzy_name)[gordon hayward]:pos        -0.022166  0.035868 -0.618001\n",
      "C(fuzzy_name)[jae crowder]:pos           -0.023854  0.064434 -0.370217\n",
      "C(fuzzy_name)[kyle lowry]:pos            -0.025528  0.033269 -0.767313\n",
      "C(fuzzy_name)[jj redick]:pos             -0.026848  0.036583 -0.733895\n",
      "C(fuzzy_name)[kemba walker]:pos          -0.027799  0.055032 -0.505146\n",
      "C(fuzzy_name)[dirk nowitzki]:pos         -0.029854  0.029799 -1.001845\n",
      "C(fuzzy_name)[carmelo anthony]:pos       -0.035039  0.024709 -1.418077\n",
      "C(fuzzy_name)[hassan whiteside]:pos      -0.038640  0.051419 -0.751475\n",
      "C(fuzzy_name)[tyronn lue]:pos            -0.044838  0.062836 -0.713572\n",
      "C(fuzzy_name)[bradley beal]:pos          -0.045703  0.045003 -1.015559\n",
      "C(fuzzy_name)[dwane casey]:pos           -0.047865  0.052257 -0.915948\n",
      "C(fuzzy_name)[lebron james]:pos          -0.049071  0.011529 -4.256146\n",
      "C(fuzzy_name)[rajon rondo]:pos           -0.053227  0.030529 -1.743504\n",
      "C(fuzzy_name)[tim duncan]:pos            -0.058385  0.036593 -1.595548\n",
      "C(fuzzy_name)[russell westbrook]:pos     -0.058917  0.022662 -2.599832\n",
      "C(fuzzy_name)[al horford]:pos            -0.073052  0.050117 -1.457634\n",
      "C(fuzzy_name)[tristan thompson]:pos      -0.080657  0.049384 -1.633254\n",
      "C(fuzzy_name)[nikola jokic]:pos          -0.081692  0.039790 -2.053096\n",
      "C(fuzzy_name)[kobe bryant]:pos           -0.082091  0.021392 -3.837503\n",
      "C(fuzzy_name)[kyrie irving]:pos          -0.088123  0.024030 -3.667259\n",
      "C(fuzzy_name)[michael jordan]:pos        -0.088640  0.040388 -2.194720\n",
      "C(fuzzy_name)[damian lillard]:pos        -0.095866  0.047474 -2.019352\n",
      "C(fuzzy_name)[zaza pachulia]:pos         -0.096635  0.048594 -1.988596\n",
      "C(fuzzy_name)[kristaps porzingis]:pos    -0.103057  0.047524 -2.168521\n",
      "C(fuzzy_name)[andre roberson]:pos        -0.136171  0.060386 -2.255021\n",
      "\n",
      "[72 rows x 3 columns]\n"
     ]
    },
    {
     "data": {
      "image/png": "[encoded data removed]",
      "text/plain": [
       "<Figure size 432x288 with 1 Axes>"
      ]
     },
     "metadata": {},
     "output_type": "display_data"
    }
   ],
   "source": [
    "#Print and sort list of impact of pos on karma for each player. Guys on top of this list are ones we \"love to see celebrated\"\n",
    "#Note this is centered around 0 and there isn't a whole lot of statistical significance going on here\n",
    "par_pos = par[par.index.get_level_values(None).str.contains('pos')]\n",
    "print(par_pos.sort_values('coef',ascending=False))\n",
    "par_pos['coef'].hist()\n",
    "plt.show()"
   ]
  },
  {
   "cell_type": "code",
   "execution_count": 12,
   "metadata": {},
   "outputs": [
    {
     "name": "stdout",
     "output_type": "stream",
     "text": [
      "                                              coef        se          t\n",
      "C(fuzzy_name)[jayson tatum]:neg           0.099975  0.046598   2.145460\n",
      "C(fuzzy_name)[markelle fultz]:neg         0.092857  0.049108   1.890881\n",
      "C(fuzzy_name)[kemba walker]:neg           0.076899  0.051430   1.495222\n",
      "C(fuzzy_name)[anthony davis]:neg          0.076179  0.096068   0.792972\n",
      "C(fuzzy_name)[karl-anthony towns]:neg     0.042117  0.044835   0.939391\n",
      "C(fuzzy_name)[rudy gobert]:neg            0.039024  0.056374   0.692228\n",
      "C(fuzzy_name)[pau gasol]:neg              0.028645  0.053827   0.532166\n",
      "C(fuzzy_name)[cj mccollum]:neg            0.028389  0.049509   0.573411\n",
      "C(fuzzy_name)[kyrie irving]:neg           0.010406  0.029326   0.354844\n",
      "C(fuzzy_name)[lonzo ball]:neg             0.004906  0.035439   0.138444\n",
      "C(fuzzy_name)[paul george]:neg           -0.001498  0.074268  -0.020166\n",
      "C(fuzzy_name)[lamarcus aldridge]:neg     -0.006783  0.045366  -0.149514\n",
      "C(fuzzy_name)[damian lillard]:neg        -0.012635  0.053531  -0.236028\n",
      "C(fuzzy_name)[chris bosh]:neg            -0.025402  0.073664  -0.344831\n",
      "C(fuzzy_name)[thon maker]:neg            -0.025441  0.079295  -0.320843\n",
      "C(fuzzy_name)[doc rivers]:neg            -0.025585  0.049407  -0.517838\n",
      "C(fuzzy_name)[klay thompson]:neg         -0.026736  0.032480  -0.823174\n",
      "C(fuzzy_name)[kawhi leonard]:neg         -0.030541  0.031991  -0.954684\n",
      "C(fuzzy_name)[tim duncan]:neg            -0.037836  0.052443  -0.721468\n",
      "C(fuzzy_name)[jimmy butler]:neg          -0.042797  0.056459  -0.758024\n",
      "C(fuzzy_name)[tyronn lue]:neg            -0.042978  0.064915  -0.662075\n",
      "C(fuzzy_name)[gordon hayward]:neg        -0.045681  0.048505  -0.941786\n",
      "C(fuzzy_name)[kyle lowry]:neg            -0.048416  0.046083  -1.050627\n",
      "C(fuzzy_name)[giannis antetokounmpo]:neg -0.052461  0.032830  -1.597938\n",
      "C(fuzzy_name)[bradley beal]:neg          -0.053420  0.055688  -0.959259\n",
      "C(fuzzy_name)[serge ibaka]:neg           -0.054421  0.053273  -1.021565\n",
      "C(fuzzy_name)[john wall]:neg             -0.055421  0.041029  -1.350774\n",
      "C(fuzzy_name)[blake griffin]:neg         -0.056178  0.040159  -1.398877\n",
      "C(fuzzy_name)[michael jordan]:neg        -0.062752  0.050764  -1.236145\n",
      "C(fuzzy_name)[manu ginobili]:neg         -0.070875  0.050589  -1.400992\n",
      "...                                            ...       ...        ...\n",
      "C(fuzzy_name)[dwane casey]:neg           -0.130727  0.050751  -2.575844\n",
      "C(fuzzy_name)[andre iguodala]:neg        -0.136315  0.067683  -2.014019\n",
      "C(fuzzy_name)[rajon rondo]:neg           -0.141157  0.041342  -3.414333\n",
      "C(fuzzy_name)[joel embiid]:neg           -0.152878  0.034609  -4.417285\n",
      "C(fuzzy_name)[victor oladipo]:neg        -0.153079  0.085722  -1.785765\n",
      "C(fuzzy_name)[andrew wiggins]:neg        -0.155169  0.056591  -2.741940\n",
      "C(fuzzy_name)[ben simmons]:neg           -0.163163  0.035925  -4.541837\n",
      "C(fuzzy_name)[enes kanter]:neg           -0.164507  0.059111  -2.783018\n",
      "C(fuzzy_name)[chris paul]:neg            -0.165245  0.069288  -2.384896\n",
      "C(fuzzy_name)[kevin durant]:neg          -0.167853  0.021122  -7.946860\n",
      "C(fuzzy_name)[lebron james]:neg          -0.178472  0.014340 -12.445518\n",
      "C(fuzzy_name)[kristaps porzingis]:neg    -0.183489  0.069181  -2.652297\n",
      "C(fuzzy_name)[draymond green]:neg        -0.192518  0.033590  -5.731408\n",
      "C(fuzzy_name)[james harden]:neg          -0.193164  0.022385  -8.629113\n",
      "C(fuzzy_name)[dirk nowitzki]:neg         -0.200129  0.044853  -4.461864\n",
      "C(fuzzy_name)[steve kerr]:neg            -0.202692  0.053932  -3.758313\n",
      "C(fuzzy_name)[nerlens noel]:neg          -0.211506  0.070781  -2.988188\n",
      "C(fuzzy_name)[derrick rose]:neg          -0.215669  0.045202  -4.771273\n",
      "C(fuzzy_name)[demar derozan]:neg         -0.218908  0.042805  -5.114043\n",
      "C(fuzzy_name)[jj redick]:neg             -0.231150  0.064274  -3.596303\n",
      "C(fuzzy_name)[kobe bryant]:neg           -0.232268  0.028597  -8.122087\n",
      "C(fuzzy_name)[dwight howard]:neg         -0.234849  0.038098  -6.164332\n",
      "C(fuzzy_name)[ricky rubio]:neg           -0.252709  0.060475  -4.178710\n",
      "C(fuzzy_name)[russell westbrook]:neg     -0.259302  0.028724  -9.027463\n",
      "C(fuzzy_name)[brad stevens]:neg          -0.269767  0.098875  -2.728376\n",
      "C(fuzzy_name)[jae crowder]:neg           -0.287605  0.084974  -3.384624\n",
      "C(fuzzy_name)[jeremy lin]:neg            -0.302035  0.071367  -4.232167\n",
      "C(fuzzy_name)[andrew bogut]:neg          -0.304424  0.070224  -4.335033\n",
      "C(fuzzy_name)[hassan whiteside]:neg      -0.305515  0.065635  -4.654753\n",
      "C(fuzzy_name)[javale mcgee]:neg          -0.391891  0.059982  -6.533526\n",
      "\n",
      "[72 rows x 3 columns]\n"
     ]
    },
    {
     "data": {
      "image/png": "[encoded data removed]",
      "text/plain": [
       "<Figure size 432x288 with 1 Axes>"
      ]
     },
     "metadata": {},
     "output_type": "display_data"
    }
   ],
   "source": [
    "#Print and sort list of impact of pos on karma for each player. Guys on top of this list are ones we \"love to see hated on\"\n",
    "#Centered around negative values and lots of statistically significant variation here.\n",
    "import matplotlib.pyplot as plt\n",
    "par_neg = par[par.index.get_level_values(None).str.contains('neg')]\n",
    "print(par_neg.sort_values('coef',ascending=False))\n",
    "par_neg['coef'].hist()\n",
    "plt.show()"
   ]
  },
  {
   "cell_type": "code",
   "execution_count": null,
   "metadata": {},
   "outputs": [],
   "source": []
  }
 ],
 "metadata": {
  "kernelspec": {
   "display_name": "Python 3",
   "language": "python",
   "name": "python3"
  },
  "language_info": {
   "codemirror_mode": {
    "name": "ipython",
    "version": 3
   },
   "file_extension": ".py",
   "mimetype": "text/x-python",
   "name": "python",
   "nbconvert_exporter": "python",
   "pygments_lexer": "ipython3",
   "version": "3.6.5"
  }
 },
 "nbformat": 4,
 "nbformat_minor": 2
}
