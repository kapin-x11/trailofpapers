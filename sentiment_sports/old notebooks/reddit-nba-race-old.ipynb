{
 "cells": [
  {
   "cell_type": "markdown",
   "metadata": {},
   "source": [
    "### To do:\n",
    "Re-scrape data with upvotes / downvotes\n",
    "\n",
    "Get NFL dataset to compare to\n",
    "\n",
    "Calculate how many PER points being black is worth in terms of popularity"
   ]
  },
  {
   "cell_type": "code",
   "execution_count": 212,
   "metadata": {
    "collapsed": true
   },
   "outputs": [],
   "source": [
    "#import praw\n",
    "import time\n",
    "import requests\n",
    "import difflib\n",
    "from ast import literal_eval\n",
    "from datetime import datetime\n",
    "from fuzzywuzzy import process as fuzzy_process\n",
    "import  json\n",
    "import pandas as pd\n",
    "import numpy as np\n",
    "from string import punctuation\n",
    "import matplotlib.pyplot as plt\n",
    "%matplotlib inline\n",
    "pd.set_option('display.max_colwidth', 300)"
   ]
  },
  {
   "cell_type": "markdown",
   "metadata": {},
   "source": [
    "### Use PRAW and reddit API to get lots of comments"
   ]
  },
  {
   "cell_type": "code",
   "execution_count": 2,
   "metadata": {
    "collapsed": true
   },
   "outputs": [],
   "source": [
    "client_id = 'wgPHyF8Ogio_dA'\n",
    "secret = '3BkmoB6wVUWzF0wsOSkIxnI-guo'\n",
    "user_agent = 'r/nba race sentiment 0.1 by /u/Umiy'"
   ]
  },
  {
   "cell_type": "code",
   "execution_count": 3,
   "metadata": {
    "collapsed": true
   },
   "outputs": [],
   "source": [
    "r = praw.Reddit(user_agent=user_agent, client_id=client_id, client_secret=secret)\n",
    "r_nba = r.subreddit('nba')"
   ]
  },
  {
   "cell_type": "code",
   "execution_count": 138,
   "metadata": {
    "collapsed": true
   },
   "outputs": [],
   "source": [
    "def parse_submission( submission):\n",
    "    text = submission.title + '. ' + submission.selftext\n",
    "    creation_date = submission.created\n",
    "    author = submission.author #.name for PRAW\n",
    "    flair = submission.author_flair_text\n",
    "    score = submission.score\n",
    "    return (text, creation_date, author, flair, score)"
   ]
  },
  {
   "cell_type": "code",
   "execution_count": 140,
   "metadata": {
    "collapsed": true
   },
   "outputs": [],
   "source": [
    "def parse_comment( comment):\n",
    "    if hasattr(comment, 'body') and comment.author != None:\n",
    "        text = comment.body\n",
    "        creation_date = comment.created\n",
    "        author = comment.author\n",
    "        flair = comment.author_flair_text\n",
    "        score = comment.score\n",
    "        return (text, creation_date, author, flair, score)\n",
    "    return ('', 1, '', '', 0)"
   ]
  },
  {
   "cell_type": "code",
   "execution_count": 6,
   "metadata": {
    "collapsed": true
   },
   "outputs": [],
   "source": [
    "def get_month(year, month, month_length):\n",
    "    ''' Get comments and submissions for one month. takes ~ 1h 15 minutes.\n",
    "    '''\n",
    "    data_col = ['text', 'timestamp', 'user', 'flair']\n",
    "    print('Downloading submssions for {}-{}'.format(year, month))\n",
    "    month_submissions = [list(r_nba.submissions(datetime(year,month,day).timestamp(), datetime(year,month,day+1).timestamp() )) for day in range(1,month_length)]\n",
    "    month_submissions = [x for day_submissions in month_submissions for x in day_submissions]\n",
    "    \n",
    "    print('Downloaded {} submissions'.format(len(month_submissions)))\n",
    "    ops = [ parse_submission(submission) for submission in month_submissions]\n",
    "    submission_df =(pd.DataFrame(ops, columns=data_col)\n",
    "                      .assign(source = lambda x: 'submission') )\n",
    "    print('Made dataframe of shape {}'.format(submission_df.shape) )\n",
    "    \n",
    "    print('Downloading comments (this could take an hour)')\n",
    "    comments_list = [submission.comments.list() for submission in month_submissions if hasattr(submission, 'comments')]\n",
    "    comments = [ parse_comment(comment) for comments in  comments_list for comment in comments]\n",
    "    print('Downloaded {} comments'.format(len(comments) ) )\n",
    "    comment_df = (pd.DataFrame(comments, columns=data_col)\n",
    "                    .assign(source = lambda x: 'comment') )\n",
    "    return pd.concat([submission_df, comment_df]), ops, comments"
   ]
  },
  {
   "cell_type": "code",
   "execution_count": null,
   "metadata": {},
   "outputs": [],
   "source": [
    "%%time\n",
    "# this no longer works \n",
    "month_df, submissions, comments = get_month(2017, 11, 30)"
   ]
  },
  {
   "cell_type": "markdown",
   "metadata": {},
   "source": [
    "### Get comments from pushshift:"
   ]
  },
  {
   "cell_type": "code",
   "execution_count": 225,
   "metadata": {
    "collapsed": true
   },
   "outputs": [],
   "source": [
    "def parse_submission_pushshift( submission):\n",
    "    selftext = ''\n",
    "    if 'selftext' in submission and 'author\" in ':\n",
    "        selftext = submission['selftext']\n",
    "    text = submission['title'] + '. ' + selftext\n",
    "    creation_date = submission['created_utc']\n",
    "    author = submission['author'] #.name for PRAW\n",
    "    flair = submission['author_flair_text']\n",
    "    score = submission['score']\n",
    "    return (text, creation_date, author, flair, score)"
   ]
  },
  {
   "cell_type": "code",
   "execution_count": 226,
   "metadata": {
    "collapsed": true
   },
   "outputs": [],
   "source": [
    "def parse_comment_pushshift( comment):\n",
    "    fields = ['body', 'created_utc', 'author', 'author_flair_text', 'score']\n",
    "    if all( [field in comment for field in fields]):\n",
    "        return [comment[x] for x in fields]\n",
    "    return ('', 1, '', '', -1000)"
   ]
  },
  {
   "cell_type": "code",
   "execution_count": 227,
   "metadata": {},
   "outputs": [],
   "source": [
    "def get_month_pushshift( year, month, day):\n",
    "    data_col = ['text', 'timestamp', 'user', 'flair', 'score']\n",
    "    start_after = datetime.now() - datetime(year,month,1)\n",
    "    end_before = datetime.now() - datetime(year,month,day)\n",
    "    start_hour = start_after.days * 24 + start_after.seconds  // 3600\n",
    "    end_hour = end_before.days * 24 + end_before.seconds  // 3600 - 1 \n",
    "    \n",
    "    url_params = {'subreddit': 'nba',\n",
    "                  'size':500}#,\n",
    "#                  'fields': ','.join( ['author','author_flair_text','body','created_utc'])}\n",
    "    submission_url = 'https://api.pushshift.io/reddit/search/submission/'\n",
    "    month_submissions = []\n",
    "    \n",
    "    print('Downloading submssions for {}-{}'.format(year, month))\n",
    "    hour_step = 6\n",
    "    for hour in range(start_hour, end_hour, -hour_step):\n",
    "        url_params.update({'before': str(hour)+'h', 'after': str(hour+hour_step) + 'h'})\n",
    "        month_submissions.extend(json.loads(requests.get(submission_url, params=url_params).text)['data'])\n",
    "        time.sleep(0.5)\n",
    "        \n",
    "    print('Downloaded {} submissions'.format(len(month_submissions)))\n",
    "    \n",
    "    ops = [ parse_submission_pushshift(submission) for submission in month_submissions]\n",
    "    submission_df =(pd.DataFrame(ops, columns=data_col)\n",
    "                      .assign(source = lambda x: 'submission') )\n",
    "    print('Made dataframe of shape {}'.format(submission_df.shape) )\n",
    "    \n",
    "    print('Downloading comments')\n",
    "    comment_url = 'https://api.pushshift.io/reddit/search/comment/'\n",
    "    comments = []\n",
    "    hour_step = 1\n",
    "    for hour in range(start_hour, end_hour, -hour_step):\n",
    "        url_params.update({'before': str(hour)+'h', 'after': str(hour+hour_step) + 'h'})\n",
    "        comments.extend(json.loads(requests.get(comment_url, params=url_params).text)['data'])\n",
    "        time.sleep(0.5)\n",
    "    comments = [ parse_comment_pushshift(comment) for comment in comments]\n",
    "    print('Downloaded {} comments'.format(len(comments) ) )\n",
    "    comment_df = (pd.DataFrame(comments, columns=data_col)\n",
    "                    .assign(source = lambda x: 'comment') )\n",
    "       \n",
    "    return pd.concat([submission_df, comment_df]).drop_duplicates(), ops, comments"
   ]
  },
  {
   "cell_type": "code",
   "execution_count": 228,
   "metadata": {},
   "outputs": [
    {
     "name": "stdout",
     "output_type": "stream",
     "text": [
      "Downloading submssions for 2018-4\n",
      "Downloaded 24985 submissions\n",
      "Made dataframe of shape (24985, 6)\n",
      "Downloading comments\n"
     ]
    },
    {
     "ename": "ConnectionError",
     "evalue": "('Connection aborted.', OSError(\"(10060, 'WSAETIMEDOUT')\",))",
     "output_type": "error",
     "traceback": [
      "\u001b[1;31m---------------------------------------------------------------------------\u001b[0m",
      "\u001b[1;31mOSError\u001b[0m                                   Traceback (most recent call last)",
      "\u001b[1;32m~\\Anaconda3\\lib\\site-packages\\urllib3\\connectionpool.py\u001b[0m in \u001b[0;36murlopen\u001b[1;34m(self, method, url, body, headers, retries, redirect, assert_same_host, timeout, pool_timeout, release_conn, chunked, body_pos, **response_kw)\u001b[0m\n\u001b[0;32m    600\u001b[0m                                                   \u001b[0mbody\u001b[0m\u001b[1;33m=\u001b[0m\u001b[0mbody\u001b[0m\u001b[1;33m,\u001b[0m \u001b[0mheaders\u001b[0m\u001b[1;33m=\u001b[0m\u001b[0mheaders\u001b[0m\u001b[1;33m,\u001b[0m\u001b[1;33m\u001b[0m\u001b[0m\n\u001b[1;32m--> 601\u001b[1;33m                                                   chunked=chunked)\n\u001b[0m\u001b[0;32m    602\u001b[0m \u001b[1;33m\u001b[0m\u001b[0m\n",
      "\u001b[1;32m~\\Anaconda3\\lib\\site-packages\\urllib3\\connectionpool.py\u001b[0m in \u001b[0;36m_make_request\u001b[1;34m(self, conn, method, url, timeout, chunked, **httplib_request_kw)\u001b[0m\n\u001b[0;32m    386\u001b[0m                     \u001b[1;31m# otherwise it looks like a programming error was the cause.\u001b[0m\u001b[1;33m\u001b[0m\u001b[1;33m\u001b[0m\u001b[0m\n\u001b[1;32m--> 387\u001b[1;33m                     \u001b[0msix\u001b[0m\u001b[1;33m.\u001b[0m\u001b[0mraise_from\u001b[0m\u001b[1;33m(\u001b[0m\u001b[0me\u001b[0m\u001b[1;33m,\u001b[0m \u001b[1;32mNone\u001b[0m\u001b[1;33m)\u001b[0m\u001b[1;33m\u001b[0m\u001b[0m\n\u001b[0m\u001b[0;32m    388\u001b[0m         \u001b[1;32mexcept\u001b[0m \u001b[1;33m(\u001b[0m\u001b[0mSocketTimeout\u001b[0m\u001b[1;33m,\u001b[0m \u001b[0mBaseSSLError\u001b[0m\u001b[1;33m,\u001b[0m \u001b[0mSocketError\u001b[0m\u001b[1;33m)\u001b[0m \u001b[1;32mas\u001b[0m \u001b[0me\u001b[0m\u001b[1;33m:\u001b[0m\u001b[1;33m\u001b[0m\u001b[0m\n",
      "\u001b[1;32m~\\Anaconda3\\lib\\site-packages\\urllib3\\packages\\six.py\u001b[0m in \u001b[0;36mraise_from\u001b[1;34m(value, from_value)\u001b[0m\n",
      "\u001b[1;32m~\\Anaconda3\\lib\\site-packages\\urllib3\\connectionpool.py\u001b[0m in \u001b[0;36m_make_request\u001b[1;34m(self, conn, method, url, timeout, chunked, **httplib_request_kw)\u001b[0m\n\u001b[0;32m    382\u001b[0m                 \u001b[1;32mtry\u001b[0m\u001b[1;33m:\u001b[0m\u001b[1;33m\u001b[0m\u001b[0m\n\u001b[1;32m--> 383\u001b[1;33m                     \u001b[0mhttplib_response\u001b[0m \u001b[1;33m=\u001b[0m \u001b[0mconn\u001b[0m\u001b[1;33m.\u001b[0m\u001b[0mgetresponse\u001b[0m\u001b[1;33m(\u001b[0m\u001b[1;33m)\u001b[0m\u001b[1;33m\u001b[0m\u001b[0m\n\u001b[0m\u001b[0;32m    384\u001b[0m                 \u001b[1;32mexcept\u001b[0m \u001b[0mException\u001b[0m \u001b[1;32mas\u001b[0m \u001b[0me\u001b[0m\u001b[1;33m:\u001b[0m\u001b[1;33m\u001b[0m\u001b[0m\n",
      "\u001b[1;32m~\\Anaconda3\\lib\\http\\client.py\u001b[0m in \u001b[0;36mgetresponse\u001b[1;34m(self)\u001b[0m\n\u001b[0;32m   1330\u001b[0m             \u001b[1;32mtry\u001b[0m\u001b[1;33m:\u001b[0m\u001b[1;33m\u001b[0m\u001b[0m\n\u001b[1;32m-> 1331\u001b[1;33m                 \u001b[0mresponse\u001b[0m\u001b[1;33m.\u001b[0m\u001b[0mbegin\u001b[0m\u001b[1;33m(\u001b[0m\u001b[1;33m)\u001b[0m\u001b[1;33m\u001b[0m\u001b[0m\n\u001b[0m\u001b[0;32m   1332\u001b[0m             \u001b[1;32mexcept\u001b[0m \u001b[0mConnectionError\u001b[0m\u001b[1;33m:\u001b[0m\u001b[1;33m\u001b[0m\u001b[0m\n",
      "\u001b[1;32m~\\Anaconda3\\lib\\http\\client.py\u001b[0m in \u001b[0;36mbegin\u001b[1;34m(self)\u001b[0m\n\u001b[0;32m    296\u001b[0m         \u001b[1;32mwhile\u001b[0m \u001b[1;32mTrue\u001b[0m\u001b[1;33m:\u001b[0m\u001b[1;33m\u001b[0m\u001b[0m\n\u001b[1;32m--> 297\u001b[1;33m             \u001b[0mversion\u001b[0m\u001b[1;33m,\u001b[0m \u001b[0mstatus\u001b[0m\u001b[1;33m,\u001b[0m \u001b[0mreason\u001b[0m \u001b[1;33m=\u001b[0m \u001b[0mself\u001b[0m\u001b[1;33m.\u001b[0m\u001b[0m_read_status\u001b[0m\u001b[1;33m(\u001b[0m\u001b[1;33m)\u001b[0m\u001b[1;33m\u001b[0m\u001b[0m\n\u001b[0m\u001b[0;32m    298\u001b[0m             \u001b[1;32mif\u001b[0m \u001b[0mstatus\u001b[0m \u001b[1;33m!=\u001b[0m \u001b[0mCONTINUE\u001b[0m\u001b[1;33m:\u001b[0m\u001b[1;33m\u001b[0m\u001b[0m\n",
      "\u001b[1;32m~\\Anaconda3\\lib\\http\\client.py\u001b[0m in \u001b[0;36m_read_status\u001b[1;34m(self)\u001b[0m\n\u001b[0;32m    257\u001b[0m     \u001b[1;32mdef\u001b[0m \u001b[0m_read_status\u001b[0m\u001b[1;33m(\u001b[0m\u001b[0mself\u001b[0m\u001b[1;33m)\u001b[0m\u001b[1;33m:\u001b[0m\u001b[1;33m\u001b[0m\u001b[0m\n\u001b[1;32m--> 258\u001b[1;33m         \u001b[0mline\u001b[0m \u001b[1;33m=\u001b[0m \u001b[0mstr\u001b[0m\u001b[1;33m(\u001b[0m\u001b[0mself\u001b[0m\u001b[1;33m.\u001b[0m\u001b[0mfp\u001b[0m\u001b[1;33m.\u001b[0m\u001b[0mreadline\u001b[0m\u001b[1;33m(\u001b[0m\u001b[0m_MAXLINE\u001b[0m \u001b[1;33m+\u001b[0m \u001b[1;36m1\u001b[0m\u001b[1;33m)\u001b[0m\u001b[1;33m,\u001b[0m \u001b[1;34m\"iso-8859-1\"\u001b[0m\u001b[1;33m)\u001b[0m\u001b[1;33m\u001b[0m\u001b[0m\n\u001b[0m\u001b[0;32m    259\u001b[0m         \u001b[1;32mif\u001b[0m \u001b[0mlen\u001b[0m\u001b[1;33m(\u001b[0m\u001b[0mline\u001b[0m\u001b[1;33m)\u001b[0m \u001b[1;33m>\u001b[0m \u001b[0m_MAXLINE\u001b[0m\u001b[1;33m:\u001b[0m\u001b[1;33m\u001b[0m\u001b[0m\n",
      "\u001b[1;32m~\\Anaconda3\\lib\\socket.py\u001b[0m in \u001b[0;36mreadinto\u001b[1;34m(self, b)\u001b[0m\n\u001b[0;32m    585\u001b[0m             \u001b[1;32mtry\u001b[0m\u001b[1;33m:\u001b[0m\u001b[1;33m\u001b[0m\u001b[0m\n\u001b[1;32m--> 586\u001b[1;33m                 \u001b[1;32mreturn\u001b[0m \u001b[0mself\u001b[0m\u001b[1;33m.\u001b[0m\u001b[0m_sock\u001b[0m\u001b[1;33m.\u001b[0m\u001b[0mrecv_into\u001b[0m\u001b[1;33m(\u001b[0m\u001b[0mb\u001b[0m\u001b[1;33m)\u001b[0m\u001b[1;33m\u001b[0m\u001b[0m\n\u001b[0m\u001b[0;32m    587\u001b[0m             \u001b[1;32mexcept\u001b[0m \u001b[0mtimeout\u001b[0m\u001b[1;33m:\u001b[0m\u001b[1;33m\u001b[0m\u001b[0m\n",
      "\u001b[1;32m~\\Anaconda3\\lib\\site-packages\\urllib3\\contrib\\pyopenssl.py\u001b[0m in \u001b[0;36mrecv_into\u001b[1;34m(self, *args, **kwargs)\u001b[0m\n\u001b[0;32m    284\u001b[0m             \u001b[1;32melse\u001b[0m\u001b[1;33m:\u001b[0m\u001b[1;33m\u001b[0m\u001b[0m\n\u001b[1;32m--> 285\u001b[1;33m                 \u001b[1;32mraise\u001b[0m \u001b[0mSocketError\u001b[0m\u001b[1;33m(\u001b[0m\u001b[0mstr\u001b[0m\u001b[1;33m(\u001b[0m\u001b[0me\u001b[0m\u001b[1;33m)\u001b[0m\u001b[1;33m)\u001b[0m\u001b[1;33m\u001b[0m\u001b[0m\n\u001b[0m\u001b[0;32m    286\u001b[0m         \u001b[1;32mexcept\u001b[0m \u001b[0mOpenSSL\u001b[0m\u001b[1;33m.\u001b[0m\u001b[0mSSL\u001b[0m\u001b[1;33m.\u001b[0m\u001b[0mZeroReturnError\u001b[0m \u001b[1;32mas\u001b[0m \u001b[0me\u001b[0m\u001b[1;33m:\u001b[0m\u001b[1;33m\u001b[0m\u001b[0m\n",
      "\u001b[1;31mOSError\u001b[0m: (10060, 'WSAETIMEDOUT')",
      "\nDuring handling of the above exception, another exception occurred:\n",
      "\u001b[1;31mProtocolError\u001b[0m                             Traceback (most recent call last)",
      "\u001b[1;32m~\\Anaconda3\\lib\\site-packages\\requests\\adapters.py\u001b[0m in \u001b[0;36msend\u001b[1;34m(self, request, stream, timeout, verify, cert, proxies)\u001b[0m\n\u001b[0;32m    439\u001b[0m                     \u001b[0mretries\u001b[0m\u001b[1;33m=\u001b[0m\u001b[0mself\u001b[0m\u001b[1;33m.\u001b[0m\u001b[0mmax_retries\u001b[0m\u001b[1;33m,\u001b[0m\u001b[1;33m\u001b[0m\u001b[0m\n\u001b[1;32m--> 440\u001b[1;33m                     \u001b[0mtimeout\u001b[0m\u001b[1;33m=\u001b[0m\u001b[0mtimeout\u001b[0m\u001b[1;33m\u001b[0m\u001b[0m\n\u001b[0m\u001b[0;32m    441\u001b[0m                 )\n",
      "\u001b[1;32m~\\Anaconda3\\lib\\site-packages\\urllib3\\connectionpool.py\u001b[0m in \u001b[0;36murlopen\u001b[1;34m(self, method, url, body, headers, retries, redirect, assert_same_host, timeout, pool_timeout, release_conn, chunked, body_pos, **response_kw)\u001b[0m\n\u001b[0;32m    638\u001b[0m             retries = retries.increment(method, url, error=e, _pool=self,\n\u001b[1;32m--> 639\u001b[1;33m                                         _stacktrace=sys.exc_info()[2])\n\u001b[0m\u001b[0;32m    640\u001b[0m             \u001b[0mretries\u001b[0m\u001b[1;33m.\u001b[0m\u001b[0msleep\u001b[0m\u001b[1;33m(\u001b[0m\u001b[1;33m)\u001b[0m\u001b[1;33m\u001b[0m\u001b[0m\n",
      "\u001b[1;32m~\\Anaconda3\\lib\\site-packages\\urllib3\\util\\retry.py\u001b[0m in \u001b[0;36mincrement\u001b[1;34m(self, method, url, response, error, _pool, _stacktrace)\u001b[0m\n\u001b[0;32m    356\u001b[0m             \u001b[1;32mif\u001b[0m \u001b[0mread\u001b[0m \u001b[1;32mis\u001b[0m \u001b[1;32mFalse\u001b[0m \u001b[1;32mor\u001b[0m \u001b[1;32mnot\u001b[0m \u001b[0mself\u001b[0m\u001b[1;33m.\u001b[0m\u001b[0m_is_method_retryable\u001b[0m\u001b[1;33m(\u001b[0m\u001b[0mmethod\u001b[0m\u001b[1;33m)\u001b[0m\u001b[1;33m:\u001b[0m\u001b[1;33m\u001b[0m\u001b[0m\n\u001b[1;32m--> 357\u001b[1;33m                 \u001b[1;32mraise\u001b[0m \u001b[0msix\u001b[0m\u001b[1;33m.\u001b[0m\u001b[0mreraise\u001b[0m\u001b[1;33m(\u001b[0m\u001b[0mtype\u001b[0m\u001b[1;33m(\u001b[0m\u001b[0merror\u001b[0m\u001b[1;33m)\u001b[0m\u001b[1;33m,\u001b[0m \u001b[0merror\u001b[0m\u001b[1;33m,\u001b[0m \u001b[0m_stacktrace\u001b[0m\u001b[1;33m)\u001b[0m\u001b[1;33m\u001b[0m\u001b[0m\n\u001b[0m\u001b[0;32m    358\u001b[0m             \u001b[1;32melif\u001b[0m \u001b[0mread\u001b[0m \u001b[1;32mis\u001b[0m \u001b[1;32mnot\u001b[0m \u001b[1;32mNone\u001b[0m\u001b[1;33m:\u001b[0m\u001b[1;33m\u001b[0m\u001b[0m\n",
      "\u001b[1;32m~\\Anaconda3\\lib\\site-packages\\urllib3\\packages\\six.py\u001b[0m in \u001b[0;36mreraise\u001b[1;34m(tp, value, tb)\u001b[0m\n\u001b[0;32m    684\u001b[0m         \u001b[1;32mif\u001b[0m \u001b[0mvalue\u001b[0m\u001b[1;33m.\u001b[0m\u001b[0m__traceback__\u001b[0m \u001b[1;32mis\u001b[0m \u001b[1;32mnot\u001b[0m \u001b[0mtb\u001b[0m\u001b[1;33m:\u001b[0m\u001b[1;33m\u001b[0m\u001b[0m\n\u001b[1;32m--> 685\u001b[1;33m             \u001b[1;32mraise\u001b[0m \u001b[0mvalue\u001b[0m\u001b[1;33m.\u001b[0m\u001b[0mwith_traceback\u001b[0m\u001b[1;33m(\u001b[0m\u001b[0mtb\u001b[0m\u001b[1;33m)\u001b[0m\u001b[1;33m\u001b[0m\u001b[0m\n\u001b[0m\u001b[0;32m    686\u001b[0m         \u001b[1;32mraise\u001b[0m \u001b[0mvalue\u001b[0m\u001b[1;33m\u001b[0m\u001b[0m\n",
      "\u001b[1;32m~\\Anaconda3\\lib\\site-packages\\urllib3\\connectionpool.py\u001b[0m in \u001b[0;36murlopen\u001b[1;34m(self, method, url, body, headers, retries, redirect, assert_same_host, timeout, pool_timeout, release_conn, chunked, body_pos, **response_kw)\u001b[0m\n\u001b[0;32m    600\u001b[0m                                                   \u001b[0mbody\u001b[0m\u001b[1;33m=\u001b[0m\u001b[0mbody\u001b[0m\u001b[1;33m,\u001b[0m \u001b[0mheaders\u001b[0m\u001b[1;33m=\u001b[0m\u001b[0mheaders\u001b[0m\u001b[1;33m,\u001b[0m\u001b[1;33m\u001b[0m\u001b[0m\n\u001b[1;32m--> 601\u001b[1;33m                                                   chunked=chunked)\n\u001b[0m\u001b[0;32m    602\u001b[0m \u001b[1;33m\u001b[0m\u001b[0m\n",
      "\u001b[1;32m~\\Anaconda3\\lib\\site-packages\\urllib3\\connectionpool.py\u001b[0m in \u001b[0;36m_make_request\u001b[1;34m(self, conn, method, url, timeout, chunked, **httplib_request_kw)\u001b[0m\n\u001b[0;32m    386\u001b[0m                     \u001b[1;31m# otherwise it looks like a programming error was the cause.\u001b[0m\u001b[1;33m\u001b[0m\u001b[1;33m\u001b[0m\u001b[0m\n\u001b[1;32m--> 387\u001b[1;33m                     \u001b[0msix\u001b[0m\u001b[1;33m.\u001b[0m\u001b[0mraise_from\u001b[0m\u001b[1;33m(\u001b[0m\u001b[0me\u001b[0m\u001b[1;33m,\u001b[0m \u001b[1;32mNone\u001b[0m\u001b[1;33m)\u001b[0m\u001b[1;33m\u001b[0m\u001b[0m\n\u001b[0m\u001b[0;32m    388\u001b[0m         \u001b[1;32mexcept\u001b[0m \u001b[1;33m(\u001b[0m\u001b[0mSocketTimeout\u001b[0m\u001b[1;33m,\u001b[0m \u001b[0mBaseSSLError\u001b[0m\u001b[1;33m,\u001b[0m \u001b[0mSocketError\u001b[0m\u001b[1;33m)\u001b[0m \u001b[1;32mas\u001b[0m \u001b[0me\u001b[0m\u001b[1;33m:\u001b[0m\u001b[1;33m\u001b[0m\u001b[0m\n",
      "\u001b[1;32m~\\Anaconda3\\lib\\site-packages\\urllib3\\packages\\six.py\u001b[0m in \u001b[0;36mraise_from\u001b[1;34m(value, from_value)\u001b[0m\n",
      "\u001b[1;32m~\\Anaconda3\\lib\\site-packages\\urllib3\\connectionpool.py\u001b[0m in \u001b[0;36m_make_request\u001b[1;34m(self, conn, method, url, timeout, chunked, **httplib_request_kw)\u001b[0m\n\u001b[0;32m    382\u001b[0m                 \u001b[1;32mtry\u001b[0m\u001b[1;33m:\u001b[0m\u001b[1;33m\u001b[0m\u001b[0m\n\u001b[1;32m--> 383\u001b[1;33m                     \u001b[0mhttplib_response\u001b[0m \u001b[1;33m=\u001b[0m \u001b[0mconn\u001b[0m\u001b[1;33m.\u001b[0m\u001b[0mgetresponse\u001b[0m\u001b[1;33m(\u001b[0m\u001b[1;33m)\u001b[0m\u001b[1;33m\u001b[0m\u001b[0m\n\u001b[0m\u001b[0;32m    384\u001b[0m                 \u001b[1;32mexcept\u001b[0m \u001b[0mException\u001b[0m \u001b[1;32mas\u001b[0m \u001b[0me\u001b[0m\u001b[1;33m:\u001b[0m\u001b[1;33m\u001b[0m\u001b[0m\n",
      "\u001b[1;32m~\\Anaconda3\\lib\\http\\client.py\u001b[0m in \u001b[0;36mgetresponse\u001b[1;34m(self)\u001b[0m\n\u001b[0;32m   1330\u001b[0m             \u001b[1;32mtry\u001b[0m\u001b[1;33m:\u001b[0m\u001b[1;33m\u001b[0m\u001b[0m\n\u001b[1;32m-> 1331\u001b[1;33m                 \u001b[0mresponse\u001b[0m\u001b[1;33m.\u001b[0m\u001b[0mbegin\u001b[0m\u001b[1;33m(\u001b[0m\u001b[1;33m)\u001b[0m\u001b[1;33m\u001b[0m\u001b[0m\n\u001b[0m\u001b[0;32m   1332\u001b[0m             \u001b[1;32mexcept\u001b[0m \u001b[0mConnectionError\u001b[0m\u001b[1;33m:\u001b[0m\u001b[1;33m\u001b[0m\u001b[0m\n",
      "\u001b[1;32m~\\Anaconda3\\lib\\http\\client.py\u001b[0m in \u001b[0;36mbegin\u001b[1;34m(self)\u001b[0m\n\u001b[0;32m    296\u001b[0m         \u001b[1;32mwhile\u001b[0m \u001b[1;32mTrue\u001b[0m\u001b[1;33m:\u001b[0m\u001b[1;33m\u001b[0m\u001b[0m\n\u001b[1;32m--> 297\u001b[1;33m             \u001b[0mversion\u001b[0m\u001b[1;33m,\u001b[0m \u001b[0mstatus\u001b[0m\u001b[1;33m,\u001b[0m \u001b[0mreason\u001b[0m \u001b[1;33m=\u001b[0m \u001b[0mself\u001b[0m\u001b[1;33m.\u001b[0m\u001b[0m_read_status\u001b[0m\u001b[1;33m(\u001b[0m\u001b[1;33m)\u001b[0m\u001b[1;33m\u001b[0m\u001b[0m\n\u001b[0m\u001b[0;32m    298\u001b[0m             \u001b[1;32mif\u001b[0m \u001b[0mstatus\u001b[0m \u001b[1;33m!=\u001b[0m \u001b[0mCONTINUE\u001b[0m\u001b[1;33m:\u001b[0m\u001b[1;33m\u001b[0m\u001b[0m\n",
      "\u001b[1;32m~\\Anaconda3\\lib\\http\\client.py\u001b[0m in \u001b[0;36m_read_status\u001b[1;34m(self)\u001b[0m\n\u001b[0;32m    257\u001b[0m     \u001b[1;32mdef\u001b[0m \u001b[0m_read_status\u001b[0m\u001b[1;33m(\u001b[0m\u001b[0mself\u001b[0m\u001b[1;33m)\u001b[0m\u001b[1;33m:\u001b[0m\u001b[1;33m\u001b[0m\u001b[0m\n\u001b[1;32m--> 258\u001b[1;33m         \u001b[0mline\u001b[0m \u001b[1;33m=\u001b[0m \u001b[0mstr\u001b[0m\u001b[1;33m(\u001b[0m\u001b[0mself\u001b[0m\u001b[1;33m.\u001b[0m\u001b[0mfp\u001b[0m\u001b[1;33m.\u001b[0m\u001b[0mreadline\u001b[0m\u001b[1;33m(\u001b[0m\u001b[0m_MAXLINE\u001b[0m \u001b[1;33m+\u001b[0m \u001b[1;36m1\u001b[0m\u001b[1;33m)\u001b[0m\u001b[1;33m,\u001b[0m \u001b[1;34m\"iso-8859-1\"\u001b[0m\u001b[1;33m)\u001b[0m\u001b[1;33m\u001b[0m\u001b[0m\n\u001b[0m\u001b[0;32m    259\u001b[0m         \u001b[1;32mif\u001b[0m \u001b[0mlen\u001b[0m\u001b[1;33m(\u001b[0m\u001b[0mline\u001b[0m\u001b[1;33m)\u001b[0m \u001b[1;33m>\u001b[0m \u001b[0m_MAXLINE\u001b[0m\u001b[1;33m:\u001b[0m\u001b[1;33m\u001b[0m\u001b[0m\n",
      "\u001b[1;32m~\\Anaconda3\\lib\\socket.py\u001b[0m in \u001b[0;36mreadinto\u001b[1;34m(self, b)\u001b[0m\n\u001b[0;32m    585\u001b[0m             \u001b[1;32mtry\u001b[0m\u001b[1;33m:\u001b[0m\u001b[1;33m\u001b[0m\u001b[0m\n\u001b[1;32m--> 586\u001b[1;33m                 \u001b[1;32mreturn\u001b[0m \u001b[0mself\u001b[0m\u001b[1;33m.\u001b[0m\u001b[0m_sock\u001b[0m\u001b[1;33m.\u001b[0m\u001b[0mrecv_into\u001b[0m\u001b[1;33m(\u001b[0m\u001b[0mb\u001b[0m\u001b[1;33m)\u001b[0m\u001b[1;33m\u001b[0m\u001b[0m\n\u001b[0m\u001b[0;32m    587\u001b[0m             \u001b[1;32mexcept\u001b[0m \u001b[0mtimeout\u001b[0m\u001b[1;33m:\u001b[0m\u001b[1;33m\u001b[0m\u001b[0m\n",
      "\u001b[1;32m~\\Anaconda3\\lib\\site-packages\\urllib3\\contrib\\pyopenssl.py\u001b[0m in \u001b[0;36mrecv_into\u001b[1;34m(self, *args, **kwargs)\u001b[0m\n\u001b[0;32m    284\u001b[0m             \u001b[1;32melse\u001b[0m\u001b[1;33m:\u001b[0m\u001b[1;33m\u001b[0m\u001b[0m\n\u001b[1;32m--> 285\u001b[1;33m                 \u001b[1;32mraise\u001b[0m \u001b[0mSocketError\u001b[0m\u001b[1;33m(\u001b[0m\u001b[0mstr\u001b[0m\u001b[1;33m(\u001b[0m\u001b[0me\u001b[0m\u001b[1;33m)\u001b[0m\u001b[1;33m)\u001b[0m\u001b[1;33m\u001b[0m\u001b[0m\n\u001b[0m\u001b[0;32m    286\u001b[0m         \u001b[1;32mexcept\u001b[0m \u001b[0mOpenSSL\u001b[0m\u001b[1;33m.\u001b[0m\u001b[0mSSL\u001b[0m\u001b[1;33m.\u001b[0m\u001b[0mZeroReturnError\u001b[0m \u001b[1;32mas\u001b[0m \u001b[0me\u001b[0m\u001b[1;33m:\u001b[0m\u001b[1;33m\u001b[0m\u001b[0m\n",
      "\u001b[1;31mProtocolError\u001b[0m: ('Connection aborted.', OSError(\"(10060, 'WSAETIMEDOUT')\",))",
      "\nDuring handling of the above exception, another exception occurred:\n",
      "\u001b[1;31mConnectionError\u001b[0m                           Traceback (most recent call last)",
      "\u001b[1;32m<timed exec>\u001b[0m in \u001b[0;36m<module>\u001b[1;34m()\u001b[0m\n",
      "\u001b[1;32m<ipython-input-227-37328f09f4ea>\u001b[0m in \u001b[0;36mget_month_pushshift\u001b[1;34m(year, month, day)\u001b[0m\n\u001b[0;32m     32\u001b[0m     \u001b[1;32mfor\u001b[0m \u001b[0mhour\u001b[0m \u001b[1;32min\u001b[0m \u001b[0mrange\u001b[0m\u001b[1;33m(\u001b[0m\u001b[0mstart_hour\u001b[0m\u001b[1;33m,\u001b[0m \u001b[0mend_hour\u001b[0m\u001b[1;33m,\u001b[0m \u001b[1;33m-\u001b[0m\u001b[0mhour_step\u001b[0m\u001b[1;33m)\u001b[0m\u001b[1;33m:\u001b[0m\u001b[1;33m\u001b[0m\u001b[0m\n\u001b[0;32m     33\u001b[0m         \u001b[0murl_params\u001b[0m\u001b[1;33m.\u001b[0m\u001b[0mupdate\u001b[0m\u001b[1;33m(\u001b[0m\u001b[1;33m{\u001b[0m\u001b[1;34m'before'\u001b[0m\u001b[1;33m:\u001b[0m \u001b[0mstr\u001b[0m\u001b[1;33m(\u001b[0m\u001b[0mhour\u001b[0m\u001b[1;33m)\u001b[0m\u001b[1;33m+\u001b[0m\u001b[1;34m'h'\u001b[0m\u001b[1;33m,\u001b[0m \u001b[1;34m'after'\u001b[0m\u001b[1;33m:\u001b[0m \u001b[0mstr\u001b[0m\u001b[1;33m(\u001b[0m\u001b[0mhour\u001b[0m\u001b[1;33m+\u001b[0m\u001b[0mhour_step\u001b[0m\u001b[1;33m)\u001b[0m \u001b[1;33m+\u001b[0m \u001b[1;34m'h'\u001b[0m\u001b[1;33m}\u001b[0m\u001b[1;33m)\u001b[0m\u001b[1;33m\u001b[0m\u001b[0m\n\u001b[1;32m---> 34\u001b[1;33m         \u001b[0mcomments\u001b[0m\u001b[1;33m.\u001b[0m\u001b[0mextend\u001b[0m\u001b[1;33m(\u001b[0m\u001b[0mjson\u001b[0m\u001b[1;33m.\u001b[0m\u001b[0mloads\u001b[0m\u001b[1;33m(\u001b[0m\u001b[0mrequests\u001b[0m\u001b[1;33m.\u001b[0m\u001b[0mget\u001b[0m\u001b[1;33m(\u001b[0m\u001b[0mcomment_url\u001b[0m\u001b[1;33m,\u001b[0m \u001b[0mparams\u001b[0m\u001b[1;33m=\u001b[0m\u001b[0murl_params\u001b[0m\u001b[1;33m)\u001b[0m\u001b[1;33m.\u001b[0m\u001b[0mtext\u001b[0m\u001b[1;33m)\u001b[0m\u001b[1;33m[\u001b[0m\u001b[1;34m'data'\u001b[0m\u001b[1;33m]\u001b[0m\u001b[1;33m)\u001b[0m\u001b[1;33m\u001b[0m\u001b[0m\n\u001b[0m\u001b[0;32m     35\u001b[0m         \u001b[0mtime\u001b[0m\u001b[1;33m.\u001b[0m\u001b[0msleep\u001b[0m\u001b[1;33m(\u001b[0m\u001b[1;36m0.5\u001b[0m\u001b[1;33m)\u001b[0m\u001b[1;33m\u001b[0m\u001b[0m\n\u001b[0;32m     36\u001b[0m     \u001b[0mcomments\u001b[0m \u001b[1;33m=\u001b[0m \u001b[1;33m[\u001b[0m \u001b[0mparse_comment_pushshift\u001b[0m\u001b[1;33m(\u001b[0m\u001b[0mcomment\u001b[0m\u001b[1;33m)\u001b[0m \u001b[1;32mfor\u001b[0m \u001b[0mcomment\u001b[0m \u001b[1;32min\u001b[0m \u001b[0mcomments\u001b[0m\u001b[1;33m]\u001b[0m\u001b[1;33m\u001b[0m\u001b[0m\n",
      "\u001b[1;32m~\\Anaconda3\\lib\\site-packages\\requests\\api.py\u001b[0m in \u001b[0;36mget\u001b[1;34m(url, params, **kwargs)\u001b[0m\n\u001b[0;32m     70\u001b[0m \u001b[1;33m\u001b[0m\u001b[0m\n\u001b[0;32m     71\u001b[0m     \u001b[0mkwargs\u001b[0m\u001b[1;33m.\u001b[0m\u001b[0msetdefault\u001b[0m\u001b[1;33m(\u001b[0m\u001b[1;34m'allow_redirects'\u001b[0m\u001b[1;33m,\u001b[0m \u001b[1;32mTrue\u001b[0m\u001b[1;33m)\u001b[0m\u001b[1;33m\u001b[0m\u001b[0m\n\u001b[1;32m---> 72\u001b[1;33m     \u001b[1;32mreturn\u001b[0m \u001b[0mrequest\u001b[0m\u001b[1;33m(\u001b[0m\u001b[1;34m'get'\u001b[0m\u001b[1;33m,\u001b[0m \u001b[0murl\u001b[0m\u001b[1;33m,\u001b[0m \u001b[0mparams\u001b[0m\u001b[1;33m=\u001b[0m\u001b[0mparams\u001b[0m\u001b[1;33m,\u001b[0m \u001b[1;33m**\u001b[0m\u001b[0mkwargs\u001b[0m\u001b[1;33m)\u001b[0m\u001b[1;33m\u001b[0m\u001b[0m\n\u001b[0m\u001b[0;32m     73\u001b[0m \u001b[1;33m\u001b[0m\u001b[0m\n\u001b[0;32m     74\u001b[0m \u001b[1;33m\u001b[0m\u001b[0m\n",
      "\u001b[1;32m~\\Anaconda3\\lib\\site-packages\\requests\\api.py\u001b[0m in \u001b[0;36mrequest\u001b[1;34m(method, url, **kwargs)\u001b[0m\n\u001b[0;32m     56\u001b[0m     \u001b[1;31m# cases, and look like a memory leak in others.\u001b[0m\u001b[1;33m\u001b[0m\u001b[1;33m\u001b[0m\u001b[0m\n\u001b[0;32m     57\u001b[0m     \u001b[1;32mwith\u001b[0m \u001b[0msessions\u001b[0m\u001b[1;33m.\u001b[0m\u001b[0mSession\u001b[0m\u001b[1;33m(\u001b[0m\u001b[1;33m)\u001b[0m \u001b[1;32mas\u001b[0m \u001b[0msession\u001b[0m\u001b[1;33m:\u001b[0m\u001b[1;33m\u001b[0m\u001b[0m\n\u001b[1;32m---> 58\u001b[1;33m         \u001b[1;32mreturn\u001b[0m \u001b[0msession\u001b[0m\u001b[1;33m.\u001b[0m\u001b[0mrequest\u001b[0m\u001b[1;33m(\u001b[0m\u001b[0mmethod\u001b[0m\u001b[1;33m=\u001b[0m\u001b[0mmethod\u001b[0m\u001b[1;33m,\u001b[0m \u001b[0murl\u001b[0m\u001b[1;33m=\u001b[0m\u001b[0murl\u001b[0m\u001b[1;33m,\u001b[0m \u001b[1;33m**\u001b[0m\u001b[0mkwargs\u001b[0m\u001b[1;33m)\u001b[0m\u001b[1;33m\u001b[0m\u001b[0m\n\u001b[0m\u001b[0;32m     59\u001b[0m \u001b[1;33m\u001b[0m\u001b[0m\n\u001b[0;32m     60\u001b[0m \u001b[1;33m\u001b[0m\u001b[0m\n",
      "\u001b[1;32m~\\Anaconda3\\lib\\site-packages\\requests\\sessions.py\u001b[0m in \u001b[0;36mrequest\u001b[1;34m(self, method, url, params, data, headers, cookies, files, auth, timeout, allow_redirects, proxies, hooks, stream, verify, cert, json)\u001b[0m\n\u001b[0;32m    506\u001b[0m         }\n\u001b[0;32m    507\u001b[0m         \u001b[0msend_kwargs\u001b[0m\u001b[1;33m.\u001b[0m\u001b[0mupdate\u001b[0m\u001b[1;33m(\u001b[0m\u001b[0msettings\u001b[0m\u001b[1;33m)\u001b[0m\u001b[1;33m\u001b[0m\u001b[0m\n\u001b[1;32m--> 508\u001b[1;33m         \u001b[0mresp\u001b[0m \u001b[1;33m=\u001b[0m \u001b[0mself\u001b[0m\u001b[1;33m.\u001b[0m\u001b[0msend\u001b[0m\u001b[1;33m(\u001b[0m\u001b[0mprep\u001b[0m\u001b[1;33m,\u001b[0m \u001b[1;33m**\u001b[0m\u001b[0msend_kwargs\u001b[0m\u001b[1;33m)\u001b[0m\u001b[1;33m\u001b[0m\u001b[0m\n\u001b[0m\u001b[0;32m    509\u001b[0m \u001b[1;33m\u001b[0m\u001b[0m\n\u001b[0;32m    510\u001b[0m         \u001b[1;32mreturn\u001b[0m \u001b[0mresp\u001b[0m\u001b[1;33m\u001b[0m\u001b[0m\n",
      "\u001b[1;32m~\\Anaconda3\\lib\\site-packages\\requests\\sessions.py\u001b[0m in \u001b[0;36msend\u001b[1;34m(self, request, **kwargs)\u001b[0m\n\u001b[0;32m    616\u001b[0m \u001b[1;33m\u001b[0m\u001b[0m\n\u001b[0;32m    617\u001b[0m         \u001b[1;31m# Send the request\u001b[0m\u001b[1;33m\u001b[0m\u001b[1;33m\u001b[0m\u001b[0m\n\u001b[1;32m--> 618\u001b[1;33m         \u001b[0mr\u001b[0m \u001b[1;33m=\u001b[0m \u001b[0madapter\u001b[0m\u001b[1;33m.\u001b[0m\u001b[0msend\u001b[0m\u001b[1;33m(\u001b[0m\u001b[0mrequest\u001b[0m\u001b[1;33m,\u001b[0m \u001b[1;33m**\u001b[0m\u001b[0mkwargs\u001b[0m\u001b[1;33m)\u001b[0m\u001b[1;33m\u001b[0m\u001b[0m\n\u001b[0m\u001b[0;32m    619\u001b[0m \u001b[1;33m\u001b[0m\u001b[0m\n\u001b[0;32m    620\u001b[0m         \u001b[1;31m# Total elapsed time of the request (approximately)\u001b[0m\u001b[1;33m\u001b[0m\u001b[1;33m\u001b[0m\u001b[0m\n",
      "\u001b[1;32m~\\Anaconda3\\lib\\site-packages\\requests\\adapters.py\u001b[0m in \u001b[0;36msend\u001b[1;34m(self, request, stream, timeout, verify, cert, proxies)\u001b[0m\n\u001b[0;32m    488\u001b[0m \u001b[1;33m\u001b[0m\u001b[0m\n\u001b[0;32m    489\u001b[0m         \u001b[1;32mexcept\u001b[0m \u001b[1;33m(\u001b[0m\u001b[0mProtocolError\u001b[0m\u001b[1;33m,\u001b[0m \u001b[0msocket\u001b[0m\u001b[1;33m.\u001b[0m\u001b[0merror\u001b[0m\u001b[1;33m)\u001b[0m \u001b[1;32mas\u001b[0m \u001b[0merr\u001b[0m\u001b[1;33m:\u001b[0m\u001b[1;33m\u001b[0m\u001b[0m\n\u001b[1;32m--> 490\u001b[1;33m             \u001b[1;32mraise\u001b[0m \u001b[0mConnectionError\u001b[0m\u001b[1;33m(\u001b[0m\u001b[0merr\u001b[0m\u001b[1;33m,\u001b[0m \u001b[0mrequest\u001b[0m\u001b[1;33m=\u001b[0m\u001b[0mrequest\u001b[0m\u001b[1;33m)\u001b[0m\u001b[1;33m\u001b[0m\u001b[0m\n\u001b[0m\u001b[0;32m    491\u001b[0m \u001b[1;33m\u001b[0m\u001b[0m\n\u001b[0;32m    492\u001b[0m         \u001b[1;32mexcept\u001b[0m \u001b[0mMaxRetryError\u001b[0m \u001b[1;32mas\u001b[0m \u001b[0me\u001b[0m\u001b[1;33m:\u001b[0m\u001b[1;33m\u001b[0m\u001b[0m\n",
      "\u001b[1;31mConnectionError\u001b[0m: ('Connection aborted.', OSError(\"(10060, 'WSAETIMEDOUT')\",))"
     ]
    }
   ],
   "source": [
    "%%time\n",
    "month_df, submissions, comments = get_month_pushshift(2018,4,30)"
   ]
  },
  {
   "cell_type": "markdown",
   "metadata": {},
   "source": [
    "### Save / load"
   ]
  },
  {
   "cell_type": "code",
   "execution_count": 176,
   "metadata": {
    "collapsed": true
   },
   "outputs": [],
   "source": [
    "month_df.to_csv('201711-comments_submissions.tsv.gz',\n",
    "                  sep = '\\t', encoding = 'utf-8', compression = 'gzip', index = False)"
   ]
  },
  {
   "cell_type": "code",
   "execution_count": 2,
   "metadata": {},
   "outputs": [
    {
     "name": "stderr",
     "output_type": "stream",
     "text": [
      "C:\\Anaconda3\\Lib\\site-packages\\IPython\\core\\interactiveshell.py:2717: DtypeWarning: Columns (0,2) have mixed types. Specify dtype option on import or set low_memory=False.\n",
      "  interactivity=interactivity, compiler=compiler, result=result)\n"
     ]
    }
   ],
   "source": [
    "nov_df = pd.read_csv('201711-comments_submissions.tsv.gz', sep = '\\t', encoding = 'utf-8', compression = 'gzip')\n",
    "dec_df = pd.read_csv('201712-comments_submissions.tsv.gz', sep = '\\t', encoding = 'utf-8', compression = 'gzip')\n",
    "jan_df = pd.read_csv('201801-comments_submissions.tsv.gz', sep = '\\t', encoding = 'utf-8', compression = 'gzip')\n",
    "feb_df = pd.read_csv('201802-comments_submissions.tsv.gz', sep = '\\t', encoding = 'utf-8', compression = 'gzip')\n",
    "mar_df = pd.read_csv('201803-comments_submissions.tsv.gz', sep = '\\t', encoding = 'utf-8', compression = 'gzip')"
   ]
  },
  {
   "cell_type": "code",
   "execution_count": 3,
   "metadata": {},
   "outputs": [
    {
     "name": "stdout",
     "output_type": "stream",
     "text": [
      "(2515906, 6)\n"
     ]
    },
    {
     "data": {
      "text/html": [
       "<div>\n",
       "<table border=\"1\" class=\"dataframe\">\n",
       "  <thead>\n",
       "    <tr style=\"text-align: right;\">\n",
       "      <th></th>\n",
       "      <th>Unnamed: 0</th>\n",
       "      <th>flair</th>\n",
       "      <th>source</th>\n",
       "      <th>text</th>\n",
       "      <th>timestamp</th>\n",
       "      <th>user</th>\n",
       "    </tr>\n",
       "  </thead>\n",
       "  <tbody>\n",
       "    <tr>\n",
       "      <th>700461</th>\n",
       "      <td>NaN</td>\n",
       "      <td>Rockets</td>\n",
       "      <td>comment</td>\n",
       "      <td>Never said I was smart lol.</td>\n",
       "      <td>1.52246e+09</td>\n",
       "      <td>splanket</td>\n",
       "    </tr>\n",
       "    <tr>\n",
       "      <th>700462</th>\n",
       "      <td>NaN</td>\n",
       "      <td>[CHI] Jimmy Butler</td>\n",
       "      <td>comment</td>\n",
       "      <td>Wrong use of this, nice try though I guess</td>\n",
       "      <td>1.52246e+09</td>\n",
       "      <td>DevsiK</td>\n",
       "    </tr>\n",
       "  </tbody>\n",
       "</table>\n",
       "</div>"
      ],
      "text/plain": [
       "       Unnamed: 0               flair   source  \\\n",
       "700461        NaN             Rockets  comment   \n",
       "700462        NaN  [CHI] Jimmy Butler  comment   \n",
       "\n",
       "                                              text    timestamp      user  \n",
       "700461                 Never said I was smart lol.  1.52246e+09  splanket  \n",
       "700462  Wrong use of this, nice try though I guess  1.52246e+09    DevsiK  "
      ]
     },
     "execution_count": 3,
     "metadata": {},
     "output_type": "execute_result"
    }
   ],
   "source": [
    "combo_df = pd.concat([dec_df, jan_df, feb_df, mar_df]).dropna(subset=['text'])\n",
    "print(combo_df.shape)\n",
    "combo_df.tail(2)"
   ]
  },
  {
   "cell_type": "code",
   "execution_count": 4,
   "metadata": {
    "collapsed": true
   },
   "outputs": [],
   "source": [
    "combo_df['text_length'] = combo_df['text'].str.len()"
   ]
  },
  {
   "cell_type": "code",
   "execution_count": 5,
   "metadata": {},
   "outputs": [
    {
     "data": {
      "image/png": "[encoded data removed]",
      "text/plain": [
       "<matplotlib.figure.Figure at 0xd0c79e8>"
      ]
     },
     "metadata": {},
     "output_type": "display_data"
    }
   ],
   "source": [
    "combo_df['text_length'].sample(1000).plot.hist(histtype ='step', bins = [0, 20, 50, 100, 200, 500, 1000, 5000]);\n",
    "plt.xscale('log')"
   ]
  },
  {
   "cell_type": "code",
   "execution_count": 6,
   "metadata": {},
   "outputs": [
    {
     "data": {
      "text/plain": [
       "(1710957, 7)"
      ]
     },
     "execution_count": 6,
     "metadata": {},
     "output_type": "execute_result"
    }
   ],
   "source": [
    "combo_df = combo_df.query('text_length > 40')\n",
    "combo_df.shape"
   ]
  },
  {
   "cell_type": "markdown",
   "metadata": {},
   "source": [
    "#### Save / load combined months"
   ]
  },
  {
   "cell_type": "raw",
   "metadata": {},
   "source": [
    "combo_df.to_csv('combined_months.tsv',\n",
    "                sep ='\\t', compression ='gzip', encoding = 'utf-8', index = False)"
   ]
  },
  {
   "cell_type": "code",
   "execution_count": 3,
   "metadata": {},
   "outputs": [
    {
     "name": "stderr",
     "output_type": "stream",
     "text": [
      "C:\\Anaconda3\\Lib\\site-packages\\IPython\\core\\interactiveshell.py:2717: DtypeWarning: Columns (1) have mixed types. Specify dtype option on import or set low_memory=False.\n",
      "  interactivity=interactivity, compiler=compiler, result=result)\n"
     ]
    }
   ],
   "source": [
    "combo_df = pd.read_csv('combined_months.tsv',\n",
    "                       sep ='\\t', compression = 'gzip', encoding ='utf-8')"
   ]
  },
  {
   "cell_type": "code",
   "execution_count": 5,
   "metadata": {},
   "outputs": [
    {
     "data": {
      "text/plain": [
       "(1638077, 7)"
      ]
     },
     "execution_count": 5,
     "metadata": {},
     "output_type": "execute_result"
    }
   ],
   "source": [
    "combo_df = combo_df.query('text_length > 40 and text_length < 500')\n",
    "combo_df.shape"
   ]
  },
  {
   "cell_type": "markdown",
   "metadata": {},
   "source": [
    "#### Parse into sentences"
   ]
  },
  {
   "cell_type": "code",
   "execution_count": 7,
   "metadata": {},
   "outputs": [
    {
     "name": "stdout",
     "output_type": "stream",
     "text": [
      "Wall time: 5min 57s\n"
     ]
    }
   ],
   "source": [
    "%%time\n",
    "sentences_df = (pd.DataFrame(combo_df.text.apply(sent_tokenize).tolist(), index=combo_df.index)\n",
    "                  .stack() )\n",
    "sentences_df = (sentences_df.reset_index()\n",
    "                  .set_index('level_0')\n",
    "                  .rename(columns={0:'sentences'})\n",
    "                  .drop('level'))\n",
    "sentences_df['sentences'] = sentences_df['sentences'].str.replace('\\r|\\n', ' ')"
   ]
  },
  {
   "cell_type": "code",
   "execution_count": 13,
   "metadata": {},
   "outputs": [
    {
     "data": {
      "text/html": [
       "<div>\n",
       "<table border=\"1\" class=\"dataframe\">\n",
       "  <thead>\n",
       "    <tr style=\"text-align: right;\">\n",
       "      <th></th>\n",
       "      <th>user</th>\n",
       "      <th>flair</th>\n",
       "      <th>source</th>\n",
       "      <th>sentences</th>\n",
       "      <th>timestamp</th>\n",
       "    </tr>\n",
       "  </thead>\n",
       "  <tbody>\n",
       "    <tr>\n",
       "      <th>1</th>\n",
       "      <td>Mikka79</td>\n",
       "      <td>NaN</td>\n",
       "      <td>submission</td>\n",
       "      <td>If KD didn't go to the Warriors where do you t...</td>\n",
       "      <td>1.512230e+09</td>\n",
       "    </tr>\n",
       "    <tr>\n",
       "      <th>1</th>\n",
       "      <td>Mikka79</td>\n",
       "      <td>NaN</td>\n",
       "      <td>submission</td>\n",
       "      <td>Stayed in Oklahoma City?</td>\n",
       "      <td>1.512230e+09</td>\n",
       "    </tr>\n",
       "  </tbody>\n",
       "</table>\n",
       "</div>"
      ],
      "text/plain": [
       "      user flair      source  \\\n",
       "1  Mikka79   NaN  submission   \n",
       "1  Mikka79   NaN  submission   \n",
       "\n",
       "                                           sentences     timestamp  \n",
       "1  If KD didn't go to the Warriors where do you t...  1.512230e+09  \n",
       "1                           Stayed in Oklahoma City?  1.512230e+09  "
      ]
     },
     "execution_count": 13,
     "metadata": {},
     "output_type": "execute_result"
    }
   ],
   "source": [
    "combo_df = combo_df.join(sentences_df)[['user', 'flair', 'source', 'sentences', 'timestamp']]\n",
    "combo_df.shape"
   ]
  },
  {
   "cell_type": "markdown",
   "metadata": {},
   "source": [
    "Save / load"
   ]
  },
  {
   "cell_type": "raw",
   "metadata": {},
   "source": [
    "combo_df.to_csv('combined_months_sentences.tsv.gz', sep = '\\t', compression ='gzip', encoding='utf-8', index=False)"
   ]
  },
  {
   "cell_type": "code",
   "execution_count": 95,
   "metadata": {
    "collapsed": true
   },
   "outputs": [
    {
     "name": "stderr",
     "output_type": "stream",
     "text": [
      "C:\\Anaconda3\\Lib\\site-packages\\IPython\\core\\interactiveshell.py:2717: DtypeWarning: Columns (1) have mixed types. Specify dtype option on import or set low_memory=False.\n",
      "  interactivity=interactivity, compiler=compiler, result=result)\n"
     ]
    }
   ],
   "source": [
    "combo_df = pd.read_csv('combined_months_sentences.tsv.gz',\n",
    "                       sep = '\\t', compression ='gzip', encoding='utf-8')\n",
    "combo_df = combo_df[combo_df.sentences.str.len() > 10]"
   ]
  },
  {
   "cell_type": "markdown",
   "metadata": {},
   "source": [
    "#### NER"
   ]
  },
  {
   "cell_type": "code",
   "execution_count": null,
   "metadata": {},
   "outputs": [],
   "source": [
    "from nltk import word_tokenize, sent_tokenize, pos_tag, ne_chunk\n",
    "import nltk\n",
    "from sner import Ner\n",
    "tagger = Ner(host='localhost',port=9199)\n",
    "# need to start the Java server:\n",
    "# cd Lib\\site-packages\\sner\\stanford-ner-2018-02-27\n",
    "# java -Djava.ext.dirs=./lib -cp stanford-ner.jar edu.stanford.nlp.ie.NERServer -port 9199 -loadClassifier ./classifiers/english.all.3class.distsim.crf.ser.gz  -tokenizerFactory edu.stanford.nlp.process.WhitespaceTokenizer -tokenizerOptions tokenizeNLs=false"
   ]
  },
  {
   "cell_type": "code",
   "execution_count": 97,
   "metadata": {},
   "outputs": [
    {
     "name": "stdout",
     "output_type": "stream",
     "text": [
      "Wall time: 2h 16min 42s\n"
     ]
    }
   ],
   "source": [
    "%%time\n",
    "sner_entities = lambda text: [token for token, part in tagger.get_entities(text ) if part in {'PERSON', 'ORGANIZATION', 'LOCATION'}]\n",
    "combo_df['named_entities'] = combo_df['sentences'].apply(lambda doc: sner_entities(doc))"
   ]
  },
  {
   "cell_type": "markdown",
   "metadata": {},
   "source": [
    "Save / load"
   ]
  },
  {
   "cell_type": "code",
   "execution_count": 98,
   "metadata": {
    "collapsed": true
   },
   "outputs": [],
   "source": [
    "combo_df.to_csv('combined_months_ner.tsv.gz', sep ='\\t', compression='gzip',\n",
    "               index=False, encoding = 'utf-8')"
   ]
  },
  {
   "cell_type": "code",
   "execution_count": 99,
   "metadata": {
    "collapsed": true
   },
   "outputs": [
    {
     "name": "stderr",
     "output_type": "stream",
     "text": [
      "<string>:2: DtypeWarning: Columns (1) have mixed types. Specify dtype option on import or set low_memory=False.\n"
     ]
    },
    {
     "name": "stdout",
     "output_type": "stream",
     "text": [
      "Wall time: 11.1 s\n"
     ]
    }
   ],
   "source": [
    "%%time\n",
    "combo_df = pd.read_csv('combined_months_ner.tsv.gz', sep='\\t', compression='gzip',\n",
    "                      encoding ='utf-8')"
   ]
  },
  {
   "cell_type": "code",
   "execution_count": 100,
   "metadata": {},
   "outputs": [
    {
     "name": "stdout",
     "output_type": "stream",
     "text": [
      "Wall time: 57.8 s\n"
     ]
    }
   ],
   "source": [
    "%%time\n",
    "# ~ 1 min\n",
    "combo_df['named_entities'] = combo_df['named_entities'].apply(literal_eval)\n",
    "combo_df = combo_df[combo_df['named_entities'].str.len() > 0]\n",
    "combo_df = combo_df[combo_df['sentences'].str.len() > 15]\n",
    "combo_df['named_entities'] = combo_df['named_entities'].apply(lambda entities: [entity.strip(punctuation) for entity in entities])\n",
    "combo_df['named_entities'] = combo_df['named_entities'].apply(lambda entities: [entity.lower() for entity in entities])"
   ]
  },
  {
   "cell_type": "code",
   "execution_count": 101,
   "metadata": {},
   "outputs": [
    {
     "data": {
      "text/plain": [
       "(766138, 6)"
      ]
     },
     "execution_count": 101,
     "metadata": {},
     "output_type": "execute_result"
    }
   ],
   "source": [
    "combo_df.shape"
   ]
  },
  {
   "cell_type": "markdown",
   "metadata": {},
   "source": [
    "### Clean named entities\n",
    "#### Remove teams, replace acronyms, and filter down to two entities"
   ]
  },
  {
   "cell_type": "code",
   "execution_count": 154,
   "metadata": {},
   "outputs": [],
   "source": [
    "teams = set('Atlanta Hawks Boston Celtics Brooklyn Nets Charlotte Bobcats' \\\n",
    "         'Chicago Bulls Cleveland Cavaliers cavs Dallas Mavericks mavs Denver Nuggets ' \\\n",
    "'Detroit Pistons Golden State Warriors Houston Rockets Indiana'\\\n",
    "         'Pacers Los Angeles LA Clippers LA Lakers Memphis Grizzlies Miami Heat '\\\n",
    "'Milwaukee Bucks Minnesota Timberwolves NBA New Orleans Hornets New York Knicks '\\\n",
    "'Oklahoma City Thunder okc Orlando Magic Philadelphia Sixers 76ers Phoenix'\\\n",
    "         'Suns Portland Trail Blazers Sacramento Kings'\\\n",
    "'San Antonio Spurs Toronto Raptors Utah Jazz Washington Wizards wiz'.lower().split())"
   ]
  },
  {
   "cell_type": "code",
   "execution_count": 155,
   "metadata": {},
   "outputs": [
    {
     "data": {
      "text/plain": [
       "(450420, 12)"
      ]
     },
     "execution_count": 155,
     "metadata": {},
     "output_type": "execute_result"
    }
   ],
   "source": [
    "combo_df['named_entities'] = combo_df['named_entities'].apply(lambda entities: [entity for entity in entities if entity not in teams])\n",
    "combo_df = combo_df[combo_df['named_entities'].str.len() > 0]"
   ]
  },
  {
   "cell_type": "markdown",
   "metadata": {},
   "source": [
    "### Below is untested, but should work; might not be worth time"
   ]
  },
  {
   "cell_type": "code",
   "execution_count": 216,
   "metadata": {},
   "outputs": [],
   "source": [
    "initials_dict = {'lbj':'lebron', 'kd':'durant', 'lma':'lamarcus', 'tt':'tristan'}"
   ]
  },
  {
   "cell_type": "code",
   "execution_count": null,
   "metadata": {},
   "outputs": [],
   "source": [
    "combo_df['named_entities'] = combo_df['named_entities'].apply(lambda entities: [initials_dict.get(entity, entity) for entity in entities])"
   ]
  },
  {
   "cell_type": "markdown",
   "metadata": {},
   "source": [
    "## Below deduping is not tested; it potentially could impact fuzzy matching"
   ]
  },
  {
   "cell_type": "code",
   "execution_count": null,
   "metadata": {},
   "outputs": [],
   "source": [
    "combo_df['named_entities'] = combo_df['named_entities'].apply(lambda row: list(set(row)))\n",
    "combo_df = combo_df[combo_df['named_entities'].str.len() <3]\n",
    "combo_df.shape"
   ]
  },
  {
   "cell_type": "markdown",
   "metadata": {},
   "source": [
    "### Sentiment scoring"
   ]
  },
  {
   "cell_type": "code",
   "execution_count": 19,
   "metadata": {},
   "outputs": [],
   "source": [
    "from nltk.sentiment.vader import SentimentIntensityAnalyzer\n",
    "sid = SentimentIntensityAnalyzer()"
   ]
  },
  {
   "cell_type": "code",
   "execution_count": 203,
   "metadata": {},
   "outputs": [],
   "source": [
    "stat_words = ['steal', 'steals', 'block', 'blocked', 'blocks', 'slam', 'charges', 'rejection', 'free', 'assists']\n",
    "neutral_words = ['offense', 'offensive', 'offensively', 'defense', 'defensive', 'defensively', 'defender',\n",
    "                 'injury', 'injured', 'strain', 'questionable', 'isolation',\n",
    "                 'shoot', 'doubtful', 'play', 'plays', 'crazy', 'turnover', 'turnovers',\n",
    "                 'seriously', 'jj']\n",
    "bad_words = ['foul', 'vicious', 'ridiculous', 'motherfucking', 'mediocre', 'no']\n",
    "great_words = ['goat', 'nasty', 'prime', 'underrated', 'highlight', 'hilight']\n",
    "sid.lexicon.update({word:0.1 for word in stat_words})\n",
    "sid.lexicon.update({word:0 for word in neutral_words})\n",
    "sid.lexicon.update({word:-0.5 for word in bad_words})\n",
    "sid.lexicon.update({word:1 for word in great_words})"
   ]
  },
  {
   "cell_type": "code",
   "execution_count": 150,
   "metadata": {},
   "outputs": [
    {
     "name": "stdout",
     "output_type": "stream",
     "text": [
      "Wall time: 2min 31s\n"
     ]
    }
   ],
   "source": [
    "%%time\n",
    "intermediate_df = combo_df['sentences'].apply(lambda sentence: sid.polarity_scores(sentence) )\n",
    "sentiment_df = pd.DataFrame.from_dict(intermediate_df.tolist())"
   ]
  },
  {
   "cell_type": "code",
   "execution_count": 153,
   "metadata": {},
   "outputs": [
    {
     "data": {
      "text/html": [
       "<div>\n",
       "<table border=\"1\" class=\"dataframe\">\n",
       "  <thead>\n",
       "    <tr style=\"text-align: right;\">\n",
       "      <th></th>\n",
       "      <th>user</th>\n",
       "      <th>flair</th>\n",
       "      <th>source</th>\n",
       "      <th>sentences</th>\n",
       "      <th>timestamp</th>\n",
       "      <th>named_entities</th>\n",
       "      <th>str_entities</th>\n",
       "      <th>fuzzy_name</th>\n",
       "      <th>compound</th>\n",
       "      <th>neg</th>\n",
       "      <th>neu</th>\n",
       "      <th>pos</th>\n",
       "    </tr>\n",
       "  </thead>\n",
       "  <tbody>\n",
       "    <tr>\n",
       "      <th>0</th>\n",
       "      <td>EmNightShyamalan</td>\n",
       "      <td>[LAL] Julius Randle</td>\n",
       "      <td>submission</td>\n",
       "      <td>Is there a mediocre NBA player who has a deceptively impressive highlight reel?</td>\n",
       "      <td>1.512227e+09</td>\n",
       "      <td>[nba]</td>\n",
       "      <td>nba</td>\n",
       "      <td>unclear</td>\n",
       "      <td>0.6908</td>\n",
       "      <td>0.0</td>\n",
       "      <td>0.612</td>\n",
       "      <td>0.388</td>\n",
       "    </tr>\n",
       "    <tr>\n",
       "      <th>1</th>\n",
       "      <td>Mithridates12</td>\n",
       "      <td>[CLE] LeBron James</td>\n",
       "      <td>submission</td>\n",
       "      <td>Do you think the NBA will at some change the rule in favor of the defense?.</td>\n",
       "      <td>1.512212e+09</td>\n",
       "      <td>[nba]</td>\n",
       "      <td>nba</td>\n",
       "      <td>unclear</td>\n",
       "      <td>0.4019</td>\n",
       "      <td>0.0</td>\n",
       "      <td>0.847</td>\n",
       "      <td>0.153</td>\n",
       "    </tr>\n",
       "    <tr>\n",
       "      <th>2</th>\n",
       "      <td>Nickelas</td>\n",
       "      <td>Mavericks</td>\n",
       "      <td>submission</td>\n",
       "      <td>Random Idea: Why hasn't the NBA thought to do an annual \"ABA Night\"?.</td>\n",
       "      <td>1.512209e+09</td>\n",
       "      <td>[nba]</td>\n",
       "      <td>nba</td>\n",
       "      <td>unclear</td>\n",
       "      <td>0.0000</td>\n",
       "      <td>0.0</td>\n",
       "      <td>1.000</td>\n",
       "      <td>0.000</td>\n",
       "    </tr>\n",
       "    <tr>\n",
       "      <th>3</th>\n",
       "      <td>Nickelas</td>\n",
       "      <td>Mavericks</td>\n",
       "      <td>submission</td>\n",
       "      <td>The NBA could pick a Sunday and have a back-to-back nationally televised night: a combination of the Spurs, Pacers, Nets, and Nuggets.</td>\n",
       "      <td>1.512209e+09</td>\n",
       "      <td>[nba]</td>\n",
       "      <td>nba</td>\n",
       "      <td>unclear</td>\n",
       "      <td>0.0000</td>\n",
       "      <td>0.0</td>\n",
       "      <td>1.000</td>\n",
       "      <td>0.000</td>\n",
       "    </tr>\n",
       "    <tr>\n",
       "      <th>4</th>\n",
       "      <td>jallain</td>\n",
       "      <td>[BOS] Paul Pierce</td>\n",
       "      <td>submission</td>\n",
       "      <td>According to NBA.com, the Atlanta Hawks are currently the only team in the NBA averaging more passes received per game (327.7) than passes made (327.4).</td>\n",
       "      <td>1.512209e+09</td>\n",
       "      <td>[nba]</td>\n",
       "      <td>nba</td>\n",
       "      <td>unclear</td>\n",
       "      <td>0.0000</td>\n",
       "      <td>0.0</td>\n",
       "      <td>1.000</td>\n",
       "      <td>0.000</td>\n",
       "    </tr>\n",
       "  </tbody>\n",
       "</table>\n",
       "</div>"
      ],
      "text/plain": [
       "               user                flair      source  \\\n",
       "0  EmNightShyamalan  [LAL] Julius Randle  submission   \n",
       "1     Mithridates12   [CLE] LeBron James  submission   \n",
       "2          Nickelas            Mavericks  submission   \n",
       "3          Nickelas            Mavericks  submission   \n",
       "4           jallain    [BOS] Paul Pierce  submission   \n",
       "\n",
       "                                                                                                                                                  sentences  \\\n",
       "0                                                                           Is there a mediocre NBA player who has a deceptively impressive highlight reel?   \n",
       "1                                                                               Do you think the NBA will at some change the rule in favor of the defense?.   \n",
       "2                                                                                     Random Idea: Why hasn't the NBA thought to do an annual \"ABA Night\"?.   \n",
       "3                    The NBA could pick a Sunday and have a back-to-back nationally televised night: a combination of the Spurs, Pacers, Nets, and Nuggets.   \n",
       "4  According to NBA.com, the Atlanta Hawks are currently the only team in the NBA averaging more passes received per game (327.7) than passes made (327.4).   \n",
       "\n",
       "      timestamp named_entities str_entities fuzzy_name  compound  neg    neu  \\\n",
       "0  1.512227e+09          [nba]          nba    unclear    0.6908  0.0  0.612   \n",
       "1  1.512212e+09          [nba]          nba    unclear    0.4019  0.0  0.847   \n",
       "2  1.512209e+09          [nba]          nba    unclear    0.0000  0.0  1.000   \n",
       "3  1.512209e+09          [nba]          nba    unclear    0.0000  0.0  1.000   \n",
       "4  1.512209e+09          [nba]          nba    unclear    0.0000  0.0  1.000   \n",
       "\n",
       "     pos  \n",
       "0  0.388  \n",
       "1  0.153  \n",
       "2  0.000  \n",
       "3  0.000  \n",
       "4  0.000  "
      ]
     },
     "execution_count": 153,
     "metadata": {},
     "output_type": "execute_result"
    }
   ],
   "source": [
    "combo_df = combo_df.join(sentiment_df)\n",
    "combo_df.head()"
   ]
  },
  {
   "cell_type": "markdown",
   "metadata": {},
   "source": [
    "#### Make sure positive and negative sentiment are directional"
   ]
  },
  {
   "cell_type": "code",
   "execution_count": 90,
   "metadata": {},
   "outputs": [
    {
     "data": {
      "text/plain": [
       "array([['And Rose was the worst of those 3.', 0.369, -0.6249],\n",
       "       [ 'I think this is a little unfair of Windhorst to bring up a private conversation he supposedly had with Lebron years ago though.',\n",
       "        0.129, -0.4228],\n",
       "       [ 'He is admitting that Rose deserved it in 2011 and was upset with himself that he let someone outplay him.',\n",
       "        0.12, -0.3818],\n",
       "       [ 'Windhorst talking out of his ass (as he usually does on LeBron) and everyone on here taking it as if LeBron said it himself',\n",
       "        0.132, -0.5423],\n",
       "       [ 'I always thought it was the second Nash MVP that people had a problem with.',\n",
       "        0.184, -0.4019],\n",
       "       [ \"Not undermining Rose's achievements, but without Dwight that team is awful.\",\n",
       "        0.39, -0.6956],\n",
       "       [ 'I think the 2 years he concedes are obviously Curry in 2016, Steph broke basketball that year, and KD in 2014.',\n",
       "        0.135, -0.4215],\n",
       "       ['Probably the weakest since Nash actually.', 0.39799999999999996,\n",
       "        -0.5106],\n",
       "       [ 'Nash was the most important factor in leading his team to ridiculous offenses.',\n",
       "        0.249, -0.228],\n",
       "       ['See: the next two years        No Rose, prime Noah carrying them.',\n",
       "        0.18, -0.29600000000000004]], dtype=object)"
      ]
     },
     "execution_count": 90,
     "metadata": {},
     "output_type": "execute_result"
    }
   ],
   "source": [
    "combo_df.query('neg< -0.1 and pos > 0.1')[['sentences', 'pos', 'neg']].tail(200).head(10).values"
   ]
  },
  {
   "cell_type": "code",
   "execution_count": 156,
   "metadata": {},
   "outputs": [],
   "source": [
    "combo_df.to_csv('combined_months_ner_sentiment.tsv.gz', compression = 'gzip',\n",
    "               index=False, encoding = 'utf-8')"
   ]
  },
  {
   "cell_type": "code",
   "execution_count": 245,
   "metadata": {},
   "outputs": [],
   "source": [
    "combo_df = pd.read_csv('combined_months_ner_sentiment.tsv.gz', compression = 'gzip',\n",
    "                       encoding = 'utf-8')\n",
    "combo_df['named_entities'] = combo_df['named_entities'].apply(literal_eval)"
   ]
  },
  {
   "cell_type": "code",
   "execution_count": 247,
   "metadata": {},
   "outputs": [
    {
     "data": {
      "text/plain": [
       "(450420, 12)"
      ]
     },
     "execution_count": 247,
     "metadata": {},
     "output_type": "execute_result"
    }
   ],
   "source": [
    "combo_df.shape"
   ]
  },
  {
   "cell_type": "markdown",
   "metadata": {},
   "source": [
    "## Join player demographics to performance"
   ]
  },
  {
   "cell_type": "raw",
   "metadata": {},
   "source": [
    "race_per_df = (pd.read_csv('race_per_nba.tsv', sep ='\\t', encoding = 'utf-8')\n",
    "                 .drop(['Unnamed: 0',\t'Unnamed: 0.1',\t'Unnamed: 0.1'], axis = 1))"
   ]
  },
  {
   "cell_type": "code",
   "execution_count": 187,
   "metadata": {},
   "outputs": [],
   "source": [
    "race_per_df = pd.read_csv('players2018.tsv', sep ='\\t', encoding = 'utf-8')\n",
    "race_per_df['Player'] = race_per_df['Player'].str.lower()"
   ]
  },
  {
   "cell_type": "code",
   "execution_count": 188,
   "metadata": {},
   "outputs": [],
   "source": [
    "height_dict = {'{}-Jun'.format(x):x + 72 for x in range(1,12)}\n",
    "height_dict.update({'{}-May'.format(x):x + 60 for x in range(5,12)})\n",
    "height_dict.update({'{}-Jul'.format(x):x + 84 for x in range(1,12)})\n",
    "height_dict.update({'Jul-00':84, 'Jun-00':72})"
   ]
  },
  {
   "cell_type": "code",
   "execution_count": 189,
   "metadata": {},
   "outputs": [],
   "source": [
    "race_per_df['inches'] = race_per_df['Ht'].apply(lambda ht: height_dict[ht])"
   ]
  },
  {
   "cell_type": "code",
   "execution_count": 190,
   "metadata": {},
   "outputs": [],
   "source": [
    "performance_df = (pd.read_html('https://www.basketball-reference.com/leagues/NBA_2018_advanced.html')[0]\n",
    "                    .drop_duplicates('Player', keep = 'first'))\n",
    "performance_df['Player'] = performance_df['Player'].str.lower()"
   ]
  },
  {
   "cell_type": "code",
   "execution_count": 191,
   "metadata": {},
   "outputs": [
    {
     "data": {
      "text/html": [
       "<div>\n",
       "<style scoped>\n",
       "    .dataframe tbody tr th:only-of-type {\n",
       "        vertical-align: middle;\n",
       "    }\n",
       "\n",
       "    .dataframe tbody tr th {\n",
       "        vertical-align: top;\n",
       "    }\n",
       "\n",
       "    .dataframe thead th {\n",
       "        text-align: right;\n",
       "    }\n",
       "</style>\n",
       "<table border=\"1\" class=\"dataframe\">\n",
       "  <thead>\n",
       "    <tr style=\"text-align: right;\">\n",
       "      <th></th>\n",
       "      <th>Player</th>\n",
       "      <th>From</th>\n",
       "      <th>To</th>\n",
       "      <th>Pos_x</th>\n",
       "      <th>Ht</th>\n",
       "      <th>Wt</th>\n",
       "      <th>Birth Date</th>\n",
       "      <th>Colleges</th>\n",
       "      <th>experience</th>\n",
       "      <th>Race</th>\n",
       "      <th>...</th>\n",
       "      <th></th>\n",
       "      <th>OWS</th>\n",
       "      <th>DWS</th>\n",
       "      <th>WS</th>\n",
       "      <th>WS/48</th>\n",
       "      <th>.1</th>\n",
       "      <th>OBPM</th>\n",
       "      <th>DBPM</th>\n",
       "      <th>BPM</th>\n",
       "      <th>VORP</th>\n",
       "    </tr>\n",
       "  </thead>\n",
       "  <tbody>\n",
       "    <tr>\n",
       "      <th>0</th>\n",
       "      <td>alex abrines</td>\n",
       "      <td>2017</td>\n",
       "      <td>2018</td>\n",
       "      <td>G-F</td>\n",
       "      <td>6-Jun</td>\n",
       "      <td>190</td>\n",
       "      <td>1-Aug-93</td>\n",
       "      <td>NaN</td>\n",
       "      <td>1</td>\n",
       "      <td>W</td>\n",
       "      <td>...</td>\n",
       "      <td>NaN</td>\n",
       "      <td>1.3</td>\n",
       "      <td>1.0</td>\n",
       "      <td>2.2</td>\n",
       "      <td>.094</td>\n",
       "      <td>NaN</td>\n",
       "      <td>-0.5</td>\n",
       "      <td>-1.7</td>\n",
       "      <td>-2.2</td>\n",
       "      <td>-0.1</td>\n",
       "    </tr>\n",
       "    <tr>\n",
       "      <th>1</th>\n",
       "      <td>quincy acy</td>\n",
       "      <td>2013</td>\n",
       "      <td>2018</td>\n",
       "      <td>F</td>\n",
       "      <td>7-Jun</td>\n",
       "      <td>240</td>\n",
       "      <td>6-Oct-90</td>\n",
       "      <td>Baylor University</td>\n",
       "      <td>5</td>\n",
       "      <td>B</td>\n",
       "      <td>...</td>\n",
       "      <td>NaN</td>\n",
       "      <td>-0.1</td>\n",
       "      <td>1.1</td>\n",
       "      <td>1.0</td>\n",
       "      <td>.036</td>\n",
       "      <td>NaN</td>\n",
       "      <td>-2.0</td>\n",
       "      <td>-0.2</td>\n",
       "      <td>-2.2</td>\n",
       "      <td>-0.1</td>\n",
       "    </tr>\n",
       "  </tbody>\n",
       "</table>\n",
       "<p>2 rows × 39 columns</p>\n",
       "</div>"
      ],
      "text/plain": [
       "         Player  From    To Pos_x     Ht   Wt Birth Date           Colleges  \\\n",
       "0  alex abrines  2017  2018   G-F  6-Jun  190   1-Aug-93                NaN   \n",
       "1    quincy acy  2013  2018     F  7-Jun  240   6-Oct-90  Baylor University   \n",
       "\n",
       "   experience Race  ...        OWS  DWS   WS WS/48  .1  OBPM  DBPM   BPM  VORP  \n",
       "0           1    W  ...  NaN   1.3  1.0  2.2  .094 NaN  -0.5  -1.7  -2.2  -0.1  \n",
       "1           5    B  ...  NaN  -0.1  1.1  1.0  .036 NaN  -2.0  -0.2  -2.2  -0.1  \n",
       "\n",
       "[2 rows x 39 columns]"
      ]
     },
     "execution_count": 191,
     "metadata": {},
     "output_type": "execute_result"
    }
   ],
   "source": [
    "race_per_df = race_per_df.merge(performance_df, on = 'Player')\n",
    "race_per_df.head(2)"
   ]
  },
  {
   "cell_type": "code",
   "execution_count": 113,
   "metadata": {},
   "outputs": [],
   "source": [
    "unique_names = set(race_per_df.Player.unique())\n",
    "def find_player( potential_name):\n",
    "    names = fuzzy_process.extractBests(potential_name, unique_names, score_cutoff=80)\n",
    "    \n",
    "    if (len(names) > 1 and names[0][1] == names[1][1]) or len(names) == 0:\n",
    "    # no clear match, return 'unclear match'\n",
    "        return 'unclear'\n",
    "    # only one similar, or clear top similar\n",
    "    return names[0][0]"
   ]
  },
  {
   "cell_type": "code",
   "execution_count": 114,
   "metadata": {},
   "outputs": [
    {
     "name": "stderr",
     "output_type": "stream",
     "text": [
      "WARNING:root:Applied processor reduces input query to empty string, all comparisons will have score 0. [Query: '']\n"
     ]
    },
    {
     "name": "stdout",
     "output_type": "stream",
     "text": [
      "Wall time: 2min 41s\n"
     ]
    }
   ],
   "source": [
    "%%time\n",
    "top_entities['fuzzy_name'] = top_entities['str_entities'].apply(find_player)"
   ]
  },
  {
   "cell_type": "code",
   "execution_count": 244,
   "metadata": {},
   "outputs": [
    {
     "data": {
      "text/html": [
       "<div>\n",
       "<table border=\"1\" class=\"dataframe\">\n",
       "  <thead>\n",
       "    <tr style=\"text-align: right;\">\n",
       "      <th></th>\n",
       "      <th>user</th>\n",
       "      <th>flair</th>\n",
       "      <th>source</th>\n",
       "      <th>sentences</th>\n",
       "      <th>timestamp</th>\n",
       "      <th>named_entities</th>\n",
       "      <th>str_entities</th>\n",
       "      <th>fuzzy_name_x</th>\n",
       "      <th>compound</th>\n",
       "      <th>neg</th>\n",
       "      <th>neu</th>\n",
       "      <th>pos</th>\n",
       "      <th>fuzzy_name_y</th>\n",
       "    </tr>\n",
       "  </thead>\n",
       "  <tbody>\n",
       "    <tr>\n",
       "      <th>0</th>\n",
       "      <td>TheAnonymousUsername</td>\n",
       "      <td>[CHI] Derrick Rose</td>\n",
       "      <td>submission</td>\n",
       "      <td>Since Role Player is argued about, for now let’s just consider it a player who hasn’t been a legitimate ASG candidate for the past ~4 years.</td>\n",
       "      <td>1.512226e+09</td>\n",
       "      <td>[asg]</td>\n",
       "      <td>asg</td>\n",
       "      <td>unclear</td>\n",
       "      <td>-0.3612</td>\n",
       "      <td>0.098</td>\n",
       "      <td>0.902</td>\n",
       "      <td>0.000</td>\n",
       "      <td>unclear</td>\n",
       "    </tr>\n",
       "    <tr>\n",
       "      <th>1</th>\n",
       "      <td>rosesarewet</td>\n",
       "      <td>Spurs</td>\n",
       "      <td>submission</td>\n",
       "      <td>LeBron doesn't think facing teammates in ASG would hurt Cavs locker room.</td>\n",
       "      <td>1.513476e+09</td>\n",
       "      <td>[asg]</td>\n",
       "      <td>asg</td>\n",
       "      <td>unclear</td>\n",
       "      <td>-0.5267</td>\n",
       "      <td>0.236</td>\n",
       "      <td>0.764</td>\n",
       "      <td>0.000</td>\n",
       "      <td>unclear</td>\n",
       "    </tr>\n",
       "    <tr>\n",
       "      <th>2</th>\n",
       "      <td>Lebron2Portland2018</td>\n",
       "      <td>Trail Blazers</td>\n",
       "      <td>submission</td>\n",
       "      <td>He has so many legitimate accolades, but when you include ASG MVP it looks like a joke        Edit: if you don’t believe me that people do this, here’s just one example I saw today:        https://np.reddit.com/r/nba/comments/7knw8v/oc_kobe_824_breakdown/</td>\n",
       "      <td>1.513659e+09</td>\n",
       "      <td>[asg]</td>\n",
       "      <td>asg</td>\n",
       "      <td>unclear</td>\n",
       "      <td>0.7227</td>\n",
       "      <td>0.000</td>\n",
       "      <td>0.837</td>\n",
       "      <td>0.163</td>\n",
       "      <td>unclear</td>\n",
       "    </tr>\n",
       "    <tr>\n",
       "      <th>3</th>\n",
       "      <td>maybeAriadne</td>\n",
       "      <td>[GSW] Kevon Looney</td>\n",
       "      <td>comment</td>\n",
       "      <td>It's probably not gonna happen but I so want them to be teammates in the ASG</td>\n",
       "      <td>1.512175e+09</td>\n",
       "      <td>[asg]</td>\n",
       "      <td>asg</td>\n",
       "      <td>unclear</td>\n",
       "      <td>0.2759</td>\n",
       "      <td>0.000</td>\n",
       "      <td>0.869</td>\n",
       "      <td>0.131</td>\n",
       "      <td>unclear</td>\n",
       "    </tr>\n",
       "    <tr>\n",
       "      <th>4</th>\n",
       "      <td>CoilConductor</td>\n",
       "      <td>Knicks</td>\n",
       "      <td>comment</td>\n",
       "      <td>DJ has really benefited from cp3 lobs for exposure, I don't think he makes the ASG at all.</td>\n",
       "      <td>1.512386e+09</td>\n",
       "      <td>[asg]</td>\n",
       "      <td>asg</td>\n",
       "      <td>unclear</td>\n",
       "      <td>0.0000</td>\n",
       "      <td>0.000</td>\n",
       "      <td>1.000</td>\n",
       "      <td>0.000</td>\n",
       "      <td>unclear</td>\n",
       "    </tr>\n",
       "  </tbody>\n",
       "</table>\n",
       "</div>"
      ],
      "text/plain": [
       "                   user               flair      source  \\\n",
       "0  TheAnonymousUsername  [CHI] Derrick Rose  submission   \n",
       "1           rosesarewet               Spurs  submission   \n",
       "2   Lebron2Portland2018       Trail Blazers  submission   \n",
       "3          maybeAriadne  [GSW] Kevon Looney     comment   \n",
       "4         CoilConductor              Knicks     comment   \n",
       "\n",
       "                                                                                                                                                                                                                                                         sentences  \\\n",
       "0                                                                                                                     Since Role Player is argued about, for now let’s just consider it a player who hasn’t been a legitimate ASG candidate for the past ~4 years.   \n",
       "1                                                                                                                                                                                        LeBron doesn't think facing teammates in ASG would hurt Cavs locker room.   \n",
       "2  He has so many legitimate accolades, but when you include ASG MVP it looks like a joke        Edit: if you don’t believe me that people do this, here’s just one example I saw today:        https://np.reddit.com/r/nba/comments/7knw8v/oc_kobe_824_breakdown/   \n",
       "3                                                                                                                                                                                     It's probably not gonna happen but I so want them to be teammates in the ASG   \n",
       "4                                                                                                                                                                       DJ has really benefited from cp3 lobs for exposure, I don't think he makes the ASG at all.   \n",
       "\n",
       "      timestamp named_entities str_entities fuzzy_name_x  compound    neg  \\\n",
       "0  1.512226e+09          [asg]          asg      unclear   -0.3612  0.098   \n",
       "1  1.513476e+09          [asg]          asg      unclear   -0.5267  0.236   \n",
       "2  1.513659e+09          [asg]          asg      unclear    0.7227  0.000   \n",
       "3  1.512175e+09          [asg]          asg      unclear    0.2759  0.000   \n",
       "4  1.512386e+09          [asg]          asg      unclear    0.0000  0.000   \n",
       "\n",
       "     neu    pos fuzzy_name_y  \n",
       "0  0.902  0.000      unclear  \n",
       "1  0.764  0.000      unclear  \n",
       "2  0.837  0.163      unclear  \n",
       "3  0.869  0.131      unclear  \n",
       "4  1.000  0.000      unclear  "
      ]
     },
     "execution_count": 244,
     "metadata": {},
     "output_type": "execute_result"
    }
   ],
   "source": [
    "combo_df = combo_df.merge(top_entities, on = 'str_entities')\n",
    "combo_df.head()"
   ]
  },
  {
   "cell_type": "markdown",
   "metadata": {},
   "source": [
    "#### Save / load"
   ]
  },
  {
   "cell_type": "raw",
   "metadata": {},
   "source": [
    "combo_df.to_csv('combined_months_ner_sentiment.tsv.gz', compression = 'gzip',\n",
    "               index=False, encoding = 'utf-8')"
   ]
  },
  {
   "cell_type": "code",
   "execution_count": 205,
   "metadata": {},
   "outputs": [],
   "source": [
    "combo_df = pd.read_csv('combined_months_ner_sentiment.tsv.gz', compression = 'gzip',\n",
    "                       encoding = 'utf-8')\n",
    "combo_df['named_entities'] = combo_df['named_entities'].apply(literal_eval)"
   ]
  },
  {
   "cell_type": "code",
   "execution_count": 224,
   "metadata": {},
   "outputs": [
    {
     "data": {
      "text/plain": [
       "asg              488\n",
       "d'antoni         487\n",
       "gilbert          485\n",
       "iverson          482\n",
       "teague           479\n",
       "harris           474\n",
       "bill             473\n",
       "larry            473\n",
       "steve nash       462\n",
       "payton           453\n",
       "bill russell     443\n",
       "ty lue           442\n",
       "barkley          437\n",
       "europe           435\n",
       "luke             435\n",
       "joel             432\n",
       "spo              431\n",
       "bagley           430\n",
       "collins          425\n",
       "jerry west       417\n",
       "adam silver      417\n",
       "ray              409\n",
       "anderson         407\n",
       "usa              406\n",
       "nhl              405\n",
       "parker           395\n",
       "turner           393\n",
       "morey            387\n",
       "pau              383\n",
       "phil             381\n",
       "lin              380\n",
       "tj               373\n",
       "reggie miller    371\n",
       "niko             367\n",
       "pippen           365\n",
       "timmy            363\n",
       "dan gilbert      363\n",
       "johnson          355\n",
       "casey            354\n",
       "joe              353\n",
       "Name: str_entities, dtype: int64"
      ]
     },
     "execution_count": 224,
     "metadata": {},
     "output_type": "execute_result"
    }
   ],
   "source": [
    "combo_df.query('fuzzy_name == \"unclear\"')['str_entities'].value_counts().head(120).tail(40)#sample(40)[['sentences', 'named_entities']]"
   ]
  },
  {
   "cell_type": "markdown",
   "metadata": {},
   "source": [
    "## Aggregating sentiment and joining to performance"
   ]
  },
  {
   "cell_type": "code",
   "execution_count": 207,
   "metadata": {},
   "outputs": [
    {
     "data": {
      "text/plain": [
       "(242478, 12)"
      ]
     },
     "execution_count": 207,
     "metadata": {},
     "output_type": "execute_result"
    }
   ],
   "source": [
    "match_df = combo_df.query('fuzzy_name != \"unclear\"')\n",
    "match_df.shape"
   ]
  },
  {
   "cell_type": "code",
   "execution_count": 170,
   "metadata": {},
   "outputs": [],
   "source": [
    "mean_sentiment_df = (match_df.groupby('fuzzy_name')\n",
    "                          .agg({'neg':['mean', 'std', 'count'],\n",
    "                                'pos':['mean', 'std'],\n",
    "                                'compound':['mean', 'std']})\n",
    "                          .query('fuzzy_name != \"marcus smart\" and fuzzy_name != \"kevin love\"')\n",
    "                    )\n",
    "mean_sentiment_df.columns = ['pos_mean', 'pos_std', 'comment_count', 'neg_mean', 'neg_std', 'compound_mean', 'compound_std']\n",
    "mean_sentiment_df['compound_se'] = mean_sentiment_df['compound_std'] / np.sqrt(mean_sentiment_df['comment_count'])"
   ]
  },
  {
   "cell_type": "code",
   "execution_count": 176,
   "metadata": {},
   "outputs": [
    {
     "data": {
      "text/plain": [
       "<matplotlib.axes._subplots.AxesSubplot at 0x27371b22780>"
      ]
     },
     "execution_count": 176,
     "metadata": {},
     "output_type": "execute_result"
    },
    {
     "data": {
      "image/png": "[encoded data removed]",
      "text/plain": [
       "<matplotlib.figure.Figure at 0x27371b2beb8>"
      ]
     },
     "metadata": {},
     "output_type": "display_data"
    }
   ],
   "source": [
    "mean_sentiment_df.plot.scatter('compound_mean', 'compound_se', alpha = 0.5)"
   ]
  },
  {
   "cell_type": "code",
   "execution_count": 173,
   "metadata": {},
   "outputs": [
    {
     "data": {
      "text/html": [
       "<div>\n",
       "<style scoped>\n",
       "    .dataframe tbody tr th:only-of-type {\n",
       "        vertical-align: middle;\n",
       "    }\n",
       "\n",
       "    .dataframe tbody tr th {\n",
       "        vertical-align: top;\n",
       "    }\n",
       "\n",
       "    .dataframe thead th {\n",
       "        text-align: right;\n",
       "    }\n",
       "</style>\n",
       "<table border=\"1\" class=\"dataframe\">\n",
       "  <thead>\n",
       "    <tr style=\"text-align: right;\">\n",
       "      <th></th>\n",
       "      <th>pos_mean</th>\n",
       "      <th>pos_std</th>\n",
       "      <th>comment_count</th>\n",
       "      <th>neg_mean</th>\n",
       "      <th>neg_std</th>\n",
       "      <th>compound_mean</th>\n",
       "      <th>compound_std</th>\n",
       "      <th>compound_se</th>\n",
       "    </tr>\n",
       "    <tr>\n",
       "      <th>fuzzy_name</th>\n",
       "      <th></th>\n",
       "      <th></th>\n",
       "      <th></th>\n",
       "      <th></th>\n",
       "      <th></th>\n",
       "      <th></th>\n",
       "      <th></th>\n",
       "      <th></th>\n",
       "    </tr>\n",
       "  </thead>\n",
       "  <tbody>\n",
       "    <tr>\n",
       "      <th>sterling brown</th>\n",
       "      <td>0.214261</td>\n",
       "      <td>0.162251</td>\n",
       "      <td>23</td>\n",
       "      <td>0.082000</td>\n",
       "      <td>0.106548</td>\n",
       "      <td>-0.327857</td>\n",
       "      <td>0.480741</td>\n",
       "      <td>0.100241</td>\n",
       "    </tr>\n",
       "    <tr>\n",
       "      <th>jeff teague</th>\n",
       "      <td>0.127697</td>\n",
       "      <td>0.180871</td>\n",
       "      <td>201</td>\n",
       "      <td>0.077831</td>\n",
       "      <td>0.132782</td>\n",
       "      <td>-0.076183</td>\n",
       "      <td>0.415457</td>\n",
       "      <td>0.029304</td>\n",
       "    </tr>\n",
       "    <tr>\n",
       "      <th>xavier silas</th>\n",
       "      <td>0.119615</td>\n",
       "      <td>0.158570</td>\n",
       "      <td>26</td>\n",
       "      <td>0.086615</td>\n",
       "      <td>0.120305</td>\n",
       "      <td>-0.058550</td>\n",
       "      <td>0.400879</td>\n",
       "      <td>0.078619</td>\n",
       "    </tr>\n",
       "    <tr>\n",
       "      <th>damian jones</th>\n",
       "      <td>0.061373</td>\n",
       "      <td>0.115022</td>\n",
       "      <td>59</td>\n",
       "      <td>0.057441</td>\n",
       "      <td>0.113745</td>\n",
       "      <td>-0.037605</td>\n",
       "      <td>0.324124</td>\n",
       "      <td>0.042197</td>\n",
       "    </tr>\n",
       "    <tr>\n",
       "      <th>joffrey lauvergne</th>\n",
       "      <td>0.113243</td>\n",
       "      <td>0.169682</td>\n",
       "      <td>74</td>\n",
       "      <td>0.102514</td>\n",
       "      <td>0.146767</td>\n",
       "      <td>-0.022307</td>\n",
       "      <td>0.392079</td>\n",
       "      <td>0.045578</td>\n",
       "    </tr>\n",
       "    <tr>\n",
       "      <th>zaza pachulia</th>\n",
       "      <td>0.102571</td>\n",
       "      <td>0.141526</td>\n",
       "      <td>1602</td>\n",
       "      <td>0.098476</td>\n",
       "      <td>0.129838</td>\n",
       "      <td>-0.007752</td>\n",
       "      <td>0.419069</td>\n",
       "      <td>0.010470</td>\n",
       "    </tr>\n",
       "    <tr>\n",
       "      <th>mike james</th>\n",
       "      <td>0.107238</td>\n",
       "      <td>0.148587</td>\n",
       "      <td>122</td>\n",
       "      <td>0.110107</td>\n",
       "      <td>0.144887</td>\n",
       "      <td>-0.007736</td>\n",
       "      <td>0.408877</td>\n",
       "      <td>0.037018</td>\n",
       "    </tr>\n",
       "    <tr>\n",
       "      <th>salah mejri</th>\n",
       "      <td>0.114202</td>\n",
       "      <td>0.145907</td>\n",
       "      <td>233</td>\n",
       "      <td>0.121489</td>\n",
       "      <td>0.141489</td>\n",
       "      <td>-0.007595</td>\n",
       "      <td>0.461216</td>\n",
       "      <td>0.030215</td>\n",
       "    </tr>\n",
       "    <tr>\n",
       "      <th>andrew harrison</th>\n",
       "      <td>0.065893</td>\n",
       "      <td>0.121128</td>\n",
       "      <td>28</td>\n",
       "      <td>0.084321</td>\n",
       "      <td>0.098709</td>\n",
       "      <td>0.001789</td>\n",
       "      <td>0.321170</td>\n",
       "      <td>0.060696</td>\n",
       "    </tr>\n",
       "    <tr>\n",
       "      <th>kay felder</th>\n",
       "      <td>0.079174</td>\n",
       "      <td>0.107274</td>\n",
       "      <td>23</td>\n",
       "      <td>0.113000</td>\n",
       "      <td>0.123603</td>\n",
       "      <td>0.003435</td>\n",
       "      <td>0.418288</td>\n",
       "      <td>0.087219</td>\n",
       "    </tr>\n",
       "  </tbody>\n",
       "</table>\n",
       "</div>"
      ],
      "text/plain": [
       "                   pos_mean   pos_std  comment_count  neg_mean   neg_std  \\\n",
       "fuzzy_name                                                                 \n",
       "sterling brown     0.214261  0.162251             23  0.082000  0.106548   \n",
       "jeff teague        0.127697  0.180871            201  0.077831  0.132782   \n",
       "xavier silas       0.119615  0.158570             26  0.086615  0.120305   \n",
       "damian jones       0.061373  0.115022             59  0.057441  0.113745   \n",
       "joffrey lauvergne  0.113243  0.169682             74  0.102514  0.146767   \n",
       "zaza pachulia      0.102571  0.141526           1602  0.098476  0.129838   \n",
       "mike james         0.107238  0.148587            122  0.110107  0.144887   \n",
       "salah mejri        0.114202  0.145907            233  0.121489  0.141489   \n",
       "andrew harrison    0.065893  0.121128             28  0.084321  0.098709   \n",
       "kay felder         0.079174  0.107274             23  0.113000  0.123603   \n",
       "\n",
       "                   compound_mean  compound_std  compound_se  \n",
       "fuzzy_name                                                   \n",
       "sterling brown         -0.327857      0.480741     0.100241  \n",
       "jeff teague            -0.076183      0.415457     0.029304  \n",
       "xavier silas           -0.058550      0.400879     0.078619  \n",
       "damian jones           -0.037605      0.324124     0.042197  \n",
       "joffrey lauvergne      -0.022307      0.392079     0.045578  \n",
       "zaza pachulia          -0.007752      0.419069     0.010470  \n",
       "mike james             -0.007736      0.408877     0.037018  \n",
       "salah mejri            -0.007595      0.461216     0.030215  \n",
       "andrew harrison         0.001789      0.321170     0.060696  \n",
       "kay felder              0.003435      0.418288     0.087219  "
      ]
     },
     "execution_count": 173,
     "metadata": {},
     "output_type": "execute_result"
    }
   ],
   "source": [
    "mean_sentiment_df.sort_values('compound_mean').head(10)"
   ]
  },
  {
   "cell_type": "code",
   "execution_count": 174,
   "metadata": {},
   "outputs": [
    {
     "data": {
      "text/html": [
       "<div>\n",
       "<style scoped>\n",
       "    .dataframe tbody tr th:only-of-type {\n",
       "        vertical-align: middle;\n",
       "    }\n",
       "\n",
       "    .dataframe tbody tr th {\n",
       "        vertical-align: top;\n",
       "    }\n",
       "\n",
       "    .dataframe thead th {\n",
       "        text-align: right;\n",
       "    }\n",
       "</style>\n",
       "<table border=\"1\" class=\"dataframe\">\n",
       "  <thead>\n",
       "    <tr style=\"text-align: right;\">\n",
       "      <th></th>\n",
       "      <th>pos_mean</th>\n",
       "      <th>pos_std</th>\n",
       "      <th>comment_count</th>\n",
       "      <th>neg_mean</th>\n",
       "      <th>neg_std</th>\n",
       "      <th>compound_mean</th>\n",
       "      <th>compound_std</th>\n",
       "      <th>compound_se</th>\n",
       "    </tr>\n",
       "    <tr>\n",
       "      <th>fuzzy_name</th>\n",
       "      <th></th>\n",
       "      <th></th>\n",
       "      <th></th>\n",
       "      <th></th>\n",
       "      <th></th>\n",
       "      <th></th>\n",
       "      <th></th>\n",
       "      <th></th>\n",
       "    </tr>\n",
       "  </thead>\n",
       "  <tbody>\n",
       "    <tr>\n",
       "      <th>trey mckinney-jones</th>\n",
       "      <td>0.020148</td>\n",
       "      <td>0.055739</td>\n",
       "      <td>27</td>\n",
       "      <td>0.144037</td>\n",
       "      <td>0.155448</td>\n",
       "      <td>0.244681</td>\n",
       "      <td>0.297973</td>\n",
       "      <td>0.057345</td>\n",
       "    </tr>\n",
       "    <tr>\n",
       "      <th>j.j. barea</th>\n",
       "      <td>0.072014</td>\n",
       "      <td>0.117093</td>\n",
       "      <td>278</td>\n",
       "      <td>0.213371</td>\n",
       "      <td>0.169937</td>\n",
       "      <td>0.245092</td>\n",
       "      <td>0.374548</td>\n",
       "      <td>0.022464</td>\n",
       "    </tr>\n",
       "    <tr>\n",
       "      <th>lorenzo brown</th>\n",
       "      <td>0.032407</td>\n",
       "      <td>0.072510</td>\n",
       "      <td>27</td>\n",
       "      <td>0.152593</td>\n",
       "      <td>0.132312</td>\n",
       "      <td>0.253007</td>\n",
       "      <td>0.365935</td>\n",
       "      <td>0.070424</td>\n",
       "    </tr>\n",
       "    <tr>\n",
       "      <th>e'twaun moore</th>\n",
       "      <td>0.020143</td>\n",
       "      <td>0.063806</td>\n",
       "      <td>21</td>\n",
       "      <td>0.141762</td>\n",
       "      <td>0.150225</td>\n",
       "      <td>0.256952</td>\n",
       "      <td>0.340815</td>\n",
       "      <td>0.074372</td>\n",
       "    </tr>\n",
       "    <tr>\n",
       "      <th>luke kennard</th>\n",
       "      <td>0.039116</td>\n",
       "      <td>0.089353</td>\n",
       "      <td>241</td>\n",
       "      <td>0.185108</td>\n",
       "      <td>0.183586</td>\n",
       "      <td>0.259263</td>\n",
       "      <td>0.384827</td>\n",
       "      <td>0.024789</td>\n",
       "    </tr>\n",
       "    <tr>\n",
       "      <th>sam dekker</th>\n",
       "      <td>0.025308</td>\n",
       "      <td>0.056580</td>\n",
       "      <td>26</td>\n",
       "      <td>0.184808</td>\n",
       "      <td>0.175681</td>\n",
       "      <td>0.278258</td>\n",
       "      <td>0.366114</td>\n",
       "      <td>0.071801</td>\n",
       "    </tr>\n",
       "    <tr>\n",
       "      <th>jerami grant</th>\n",
       "      <td>0.073466</td>\n",
       "      <td>0.107215</td>\n",
       "      <td>58</td>\n",
       "      <td>0.258328</td>\n",
       "      <td>0.137728</td>\n",
       "      <td>0.280343</td>\n",
       "      <td>0.360298</td>\n",
       "      <td>0.047309</td>\n",
       "    </tr>\n",
       "    <tr>\n",
       "      <th>derrick favors</th>\n",
       "      <td>0.045729</td>\n",
       "      <td>0.095379</td>\n",
       "      <td>48</td>\n",
       "      <td>0.268833</td>\n",
       "      <td>0.137151</td>\n",
       "      <td>0.299025</td>\n",
       "      <td>0.319007</td>\n",
       "      <td>0.046045</td>\n",
       "    </tr>\n",
       "    <tr>\n",
       "      <th>jerian grant</th>\n",
       "      <td>0.038946</td>\n",
       "      <td>0.096214</td>\n",
       "      <td>37</td>\n",
       "      <td>0.251784</td>\n",
       "      <td>0.137831</td>\n",
       "      <td>0.376665</td>\n",
       "      <td>0.325332</td>\n",
       "      <td>0.053484</td>\n",
       "    </tr>\n",
       "    <tr>\n",
       "      <th>justin holiday</th>\n",
       "      <td>0.051222</td>\n",
       "      <td>0.098741</td>\n",
       "      <td>72</td>\n",
       "      <td>0.312236</td>\n",
       "      <td>0.142970</td>\n",
       "      <td>0.413018</td>\n",
       "      <td>0.334444</td>\n",
       "      <td>0.039415</td>\n",
       "    </tr>\n",
       "  </tbody>\n",
       "</table>\n",
       "</div>"
      ],
      "text/plain": [
       "                     pos_mean   pos_std  comment_count  neg_mean   neg_std  \\\n",
       "fuzzy_name                                                                   \n",
       "trey mckinney-jones  0.020148  0.055739             27  0.144037  0.155448   \n",
       "j.j. barea           0.072014  0.117093            278  0.213371  0.169937   \n",
       "lorenzo brown        0.032407  0.072510             27  0.152593  0.132312   \n",
       "e'twaun moore        0.020143  0.063806             21  0.141762  0.150225   \n",
       "luke kennard         0.039116  0.089353            241  0.185108  0.183586   \n",
       "sam dekker           0.025308  0.056580             26  0.184808  0.175681   \n",
       "jerami grant         0.073466  0.107215             58  0.258328  0.137728   \n",
       "derrick favors       0.045729  0.095379             48  0.268833  0.137151   \n",
       "jerian grant         0.038946  0.096214             37  0.251784  0.137831   \n",
       "justin holiday       0.051222  0.098741             72  0.312236  0.142970   \n",
       "\n",
       "                     compound_mean  compound_std  compound_se  \n",
       "fuzzy_name                                                     \n",
       "trey mckinney-jones       0.244681      0.297973     0.057345  \n",
       "j.j. barea                0.245092      0.374548     0.022464  \n",
       "lorenzo brown             0.253007      0.365935     0.070424  \n",
       "e'twaun moore             0.256952      0.340815     0.074372  \n",
       "luke kennard              0.259263      0.384827     0.024789  \n",
       "sam dekker                0.278258      0.366114     0.071801  \n",
       "jerami grant              0.280343      0.360298     0.047309  \n",
       "derrick favors            0.299025      0.319007     0.046045  \n",
       "jerian grant              0.376665      0.325332     0.053484  \n",
       "justin holiday            0.413018      0.334444     0.039415  "
      ]
     },
     "execution_count": 174,
     "metadata": {},
     "output_type": "execute_result"
    }
   ],
   "source": [
    "mean_sentiment_df.sort_values('compound_mean').tail(10)"
   ]
  },
  {
   "cell_type": "markdown",
   "metadata": {},
   "source": [
    "### Regression model"
   ]
  },
  {
   "cell_type": "code",
   "execution_count": 177,
   "metadata": {},
   "outputs": [],
   "source": [
    "mean_sentiment_df = mean_sentiment_df.query('compound_se < 0.05')"
   ]
  },
  {
   "cell_type": "code",
   "execution_count": 192,
   "metadata": {},
   "outputs": [],
   "source": [
    "join_df = (mean_sentiment_df.reset_index()\n",
    "                         .merge(race_per_df, left_on = 'fuzzy_name', right_on = 'Player'))\n",
    "for col in {'TRB%', 'AST%', 'STL%', 'BLK%', 'TOV%', 'USG%', 'PER', 'WS/48', 'Age', 'Wt'}:\n",
    "    join_df[col] = pd.to_numeric(join_df[col])"
   ]
  },
  {
   "cell_type": "code",
   "execution_count": 193,
   "metadata": {},
   "outputs": [
    {
     "data": {
      "text/html": [
       "<div>\n",
       "<style scoped>\n",
       "    .dataframe tbody tr th:only-of-type {\n",
       "        vertical-align: middle;\n",
       "    }\n",
       "\n",
       "    .dataframe tbody tr th {\n",
       "        vertical-align: top;\n",
       "    }\n",
       "\n",
       "    .dataframe thead th {\n",
       "        text-align: right;\n",
       "    }\n",
       "</style>\n",
       "<table border=\"1\" class=\"dataframe\">\n",
       "  <thead>\n",
       "    <tr style=\"text-align: right;\">\n",
       "      <th></th>\n",
       "      <th>pos_mean</th>\n",
       "      <th>pos_std</th>\n",
       "      <th>comment_count</th>\n",
       "      <th>neg_mean</th>\n",
       "      <th>neg_std</th>\n",
       "      <th>compound_mean</th>\n",
       "      <th>compound_std</th>\n",
       "      <th>compound_se</th>\n",
       "      <th>From</th>\n",
       "      <th>To</th>\n",
       "      <th>...</th>\n",
       "      <th>PER</th>\n",
       "      <th>TRB%</th>\n",
       "      <th>AST%</th>\n",
       "      <th>STL%</th>\n",
       "      <th>BLK%</th>\n",
       "      <th>TOV%</th>\n",
       "      <th>USG%</th>\n",
       "      <th></th>\n",
       "      <th>WS/48</th>\n",
       "      <th>.1</th>\n",
       "    </tr>\n",
       "    <tr>\n",
       "      <th>Race</th>\n",
       "      <th></th>\n",
       "      <th></th>\n",
       "      <th></th>\n",
       "      <th></th>\n",
       "      <th></th>\n",
       "      <th></th>\n",
       "      <th></th>\n",
       "      <th></th>\n",
       "      <th></th>\n",
       "      <th></th>\n",
       "      <th></th>\n",
       "      <th></th>\n",
       "      <th></th>\n",
       "      <th></th>\n",
       "      <th></th>\n",
       "      <th></th>\n",
       "      <th></th>\n",
       "      <th></th>\n",
       "      <th></th>\n",
       "      <th></th>\n",
       "      <th></th>\n",
       "    </tr>\n",
       "  </thead>\n",
       "  <tbody>\n",
       "    <tr>\n",
       "      <th>A</th>\n",
       "      <td>0.063500</td>\n",
       "      <td>0.113135</td>\n",
       "      <td>139.000000</td>\n",
       "      <td>0.107656</td>\n",
       "      <td>0.136413</td>\n",
       "      <td>0.077586</td>\n",
       "      <td>0.383483</td>\n",
       "      <td>0.036375</td>\n",
       "      <td>2014.500000</td>\n",
       "      <td>2018.0</td>\n",
       "      <td>...</td>\n",
       "      <td>8.900000</td>\n",
       "      <td>5.000000</td>\n",
       "      <td>14.600000</td>\n",
       "      <td>0.400000</td>\n",
       "      <td>4.800000</td>\n",
       "      <td>18.900000</td>\n",
       "      <td>24.050000</td>\n",
       "      <td>NaN</td>\n",
       "      <td>-0.008500</td>\n",
       "      <td>NaN</td>\n",
       "    </tr>\n",
       "    <tr>\n",
       "      <th>B</th>\n",
       "      <td>0.059108</td>\n",
       "      <td>0.108608</td>\n",
       "      <td>632.617978</td>\n",
       "      <td>0.121676</td>\n",
       "      <td>0.145542</td>\n",
       "      <td>0.121036</td>\n",
       "      <td>0.376899</td>\n",
       "      <td>0.024812</td>\n",
       "      <td>2012.599251</td>\n",
       "      <td>2018.0</td>\n",
       "      <td>...</td>\n",
       "      <td>13.762547</td>\n",
       "      <td>9.598127</td>\n",
       "      <td>14.145693</td>\n",
       "      <td>1.643820</td>\n",
       "      <td>1.676030</td>\n",
       "      <td>12.769288</td>\n",
       "      <td>19.523221</td>\n",
       "      <td>NaN</td>\n",
       "      <td>0.083397</td>\n",
       "      <td>NaN</td>\n",
       "    </tr>\n",
       "    <tr>\n",
       "      <th>M</th>\n",
       "      <td>0.061486</td>\n",
       "      <td>0.111129</td>\n",
       "      <td>2336.384615</td>\n",
       "      <td>0.126233</td>\n",
       "      <td>0.148901</td>\n",
       "      <td>0.133067</td>\n",
       "      <td>0.391770</td>\n",
       "      <td>0.018048</td>\n",
       "      <td>2013.153846</td>\n",
       "      <td>2018.0</td>\n",
       "      <td>...</td>\n",
       "      <td>16.892308</td>\n",
       "      <td>9.576923</td>\n",
       "      <td>21.653846</td>\n",
       "      <td>1.846154</td>\n",
       "      <td>1.253846</td>\n",
       "      <td>13.607692</td>\n",
       "      <td>22.600000</td>\n",
       "      <td>NaN</td>\n",
       "      <td>0.110231</td>\n",
       "      <td>NaN</td>\n",
       "    </tr>\n",
       "    <tr>\n",
       "      <th>R</th>\n",
       "      <td>0.088155</td>\n",
       "      <td>0.127592</td>\n",
       "      <td>200.000000</td>\n",
       "      <td>0.115960</td>\n",
       "      <td>0.139572</td>\n",
       "      <td>0.043657</td>\n",
       "      <td>0.414134</td>\n",
       "      <td>0.029309</td>\n",
       "      <td>2017.000000</td>\n",
       "      <td>2018.0</td>\n",
       "      <td>...</td>\n",
       "      <td>11.450000</td>\n",
       "      <td>13.050000</td>\n",
       "      <td>7.150000</td>\n",
       "      <td>1.450000</td>\n",
       "      <td>4.900000</td>\n",
       "      <td>18.000000</td>\n",
       "      <td>14.950000</td>\n",
       "      <td>NaN</td>\n",
       "      <td>0.080500</td>\n",
       "      <td>NaN</td>\n",
       "    </tr>\n",
       "    <tr>\n",
       "      <th>W</th>\n",
       "      <td>0.059271</td>\n",
       "      <td>0.109656</td>\n",
       "      <td>457.397590</td>\n",
       "      <td>0.121121</td>\n",
       "      <td>0.146479</td>\n",
       "      <td>0.119999</td>\n",
       "      <td>0.377995</td>\n",
       "      <td>0.027338</td>\n",
       "      <td>2013.156627</td>\n",
       "      <td>2018.0</td>\n",
       "      <td>...</td>\n",
       "      <td>14.300000</td>\n",
       "      <td>11.810843</td>\n",
       "      <td>11.436145</td>\n",
       "      <td>1.209639</td>\n",
       "      <td>1.819277</td>\n",
       "      <td>13.551807</td>\n",
       "      <td>18.063855</td>\n",
       "      <td>NaN</td>\n",
       "      <td>0.104602</td>\n",
       "      <td>NaN</td>\n",
       "    </tr>\n",
       "  </tbody>\n",
       "</table>\n",
       "<p>5 rows × 24 columns</p>\n",
       "</div>"
      ],
      "text/plain": [
       "      pos_mean   pos_std  comment_count  neg_mean   neg_std  compound_mean  \\\n",
       "Race                                                                         \n",
       "A     0.063500  0.113135     139.000000  0.107656  0.136413       0.077586   \n",
       "B     0.059108  0.108608     632.617978  0.121676  0.145542       0.121036   \n",
       "M     0.061486  0.111129    2336.384615  0.126233  0.148901       0.133067   \n",
       "R     0.088155  0.127592     200.000000  0.115960  0.139572       0.043657   \n",
       "W     0.059271  0.109656     457.397590  0.121121  0.146479       0.119999   \n",
       "\n",
       "      compound_std  compound_se         From      To ...         PER  \\\n",
       "Race                                                 ...               \n",
       "A         0.383483     0.036375  2014.500000  2018.0 ...    8.900000   \n",
       "B         0.376899     0.024812  2012.599251  2018.0 ...   13.762547   \n",
       "M         0.391770     0.018048  2013.153846  2018.0 ...   16.892308   \n",
       "R         0.414134     0.029309  2017.000000  2018.0 ...   11.450000   \n",
       "W         0.377995     0.027338  2013.156627  2018.0 ...   14.300000   \n",
       "\n",
       "           TRB%       AST%      STL%      BLK%       TOV%       USG%      \\\n",
       "Race                                                                       \n",
       "A      5.000000  14.600000  0.400000  4.800000  18.900000  24.050000 NaN   \n",
       "B      9.598127  14.145693  1.643820  1.676030  12.769288  19.523221 NaN   \n",
       "M      9.576923  21.653846  1.846154  1.253846  13.607692  22.600000 NaN   \n",
       "R     13.050000   7.150000  1.450000  4.900000  18.000000  14.950000 NaN   \n",
       "W     11.810843  11.436145  1.209639  1.819277  13.551807  18.063855 NaN   \n",
       "\n",
       "         WS/48   .1  \n",
       "Race                 \n",
       "A    -0.008500  NaN  \n",
       "B     0.083397  NaN  \n",
       "M     0.110231  NaN  \n",
       "R     0.080500  NaN  \n",
       "W     0.104602  NaN  \n",
       "\n",
       "[5 rows x 24 columns]"
      ]
     },
     "execution_count": 193,
     "metadata": {},
     "output_type": "execute_result"
    }
   ],
   "source": [
    "join_df.groupby('Race').mean()"
   ]
  },
  {
   "cell_type": "code",
   "execution_count": 154,
   "metadata": {},
   "outputs": [
    {
     "data": {
      "image/png": "[encoded data removed]",
      "text/plain": [
       "<matplotlib.figure.Figure at 0x27371b26470>"
      ]
     },
     "metadata": {},
     "output_type": "display_data"
    }
   ],
   "source": [
    "plt.plot(join_df['WS/48'].values, join_df['compound_mean'].values, '.',alpha= 0.3);"
   ]
  },
  {
   "cell_type": "code",
   "execution_count": 132,
   "metadata": {},
   "outputs": [
    {
     "data": {
      "image/png": "[encoded data removed]",
      "text/plain": [
       "<matplotlib.figure.Figure at 0x27371b870f0>"
      ]
     },
     "metadata": {},
     "output_type": "display_data"
    }
   ],
   "source": [
    "(join_df.groupby('experience')\n",
    "        .agg({'compound_mean':['mean', 'size']})\n",
    "        .iloc[:,0]\n",
    "        .plot())#[['compound_mean']])\n",
    "plt.ylabel('mean(compound sentiment)');"
   ]
  },
  {
   "cell_type": "code",
   "execution_count": 133,
   "metadata": {},
   "outputs": [
    {
     "data": {
      "image/png": "[encoded data removed]",
      "text/plain": [
       "<matplotlib.figure.Figure at 0x27371b73d68>"
      ]
     },
     "metadata": {},
     "output_type": "display_data"
    }
   ],
   "source": [
    "(join_df.groupby('inches')\n",
    "        .agg({'compound_mean':['mean', 'size']})\n",
    "        .iloc[:,0]\n",
    "        .plot())#[['compound_mean']])\n",
    "plt.ylabel('mean(compound sentiment)');"
   ]
  },
  {
   "cell_type": "code",
   "execution_count": 195,
   "metadata": {},
   "outputs": [],
   "source": [
    "model_df = pd.concat([join_df, pd.get_dummies(join_df['Race'])], axis = 1)\n",
    "model_df['rookie'] = (model_df['experience'] == 0).astype(int)\n",
    "model_df['whippersnapper'] = ((model_df['experience'] > 0) & model_df['experience'] < 4).astype(int)\n",
    "model_df['geezer'] = (model_df['experience'] > 9).astype(int)\n",
    "model_df['tall'] = (model_df['inches'] > 82).astype(int)\n",
    "model_df['short'] = (model_df['inches'] < 72).astype(int)"
   ]
  },
  {
   "cell_type": "code",
   "execution_count": 196,
   "metadata": {},
   "outputs": [],
   "source": [
    "import statsmodels.api as sm\n",
    "\n",
    "# Note the difference in argument order\n",
    "model = sm.OLS( model_df['compound_mean'].values,\n",
    "               model_df[['WS/48', 'TRB%', 'AST%', 'STL%', 'BLK%', 'TOV%', 'USG%',\n",
    "                         'M', 'W', 'inches', 'Wt' ,'rookie', 'whippersnapper', 'geezer', 'tall', 'short']]).fit()"
   ]
  },
  {
   "cell_type": "code",
   "execution_count": 197,
   "metadata": {},
   "outputs": [
    {
     "data": {
      "text/html": [
       "<table class=\"simpletable\">\n",
       "<caption>OLS Regression Results</caption>\n",
       "<tr>\n",
       "  <th>Dep. Variable:</th>            <td>y</td>        <th>  R-squared:         </th> <td>   0.113</td>\n",
       "</tr>\n",
       "<tr>\n",
       "  <th>Model:</th>                   <td>OLS</td>       <th>  Adj. R-squared:    </th> <td>   0.075</td>\n",
       "</tr>\n",
       "<tr>\n",
       "  <th>Method:</th>             <td>Least Squares</td>  <th>  F-statistic:       </th> <td>   2.984</td>\n",
       "</tr>\n",
       "<tr>\n",
       "  <th>Date:</th>             <td>Sat, 19 May 2018</td> <th>  Prob (F-statistic):</th> <td>0.000164</td>\n",
       "</tr>\n",
       "<tr>\n",
       "  <th>Time:</th>                 <td>18:15:43</td>     <th>  Log-Likelihood:    </th> <td>  581.54</td>\n",
       "</tr>\n",
       "<tr>\n",
       "  <th>No. Observations:</th>      <td>   367</td>      <th>  AIC:               </th> <td>  -1131.</td>\n",
       "</tr>\n",
       "<tr>\n",
       "  <th>Df Residuals:</th>          <td>   351</td>      <th>  BIC:               </th> <td>  -1069.</td>\n",
       "</tr>\n",
       "<tr>\n",
       "  <th>Df Model:</th>              <td>    15</td>      <th>                     </th>     <td> </td>   \n",
       "</tr>\n",
       "<tr>\n",
       "  <th>Covariance Type:</th>      <td>nonrobust</td>    <th>                     </th>     <td> </td>   \n",
       "</tr>\n",
       "</table>\n",
       "<table class=\"simpletable\">\n",
       "<tr>\n",
       "         <td></td>           <th>coef</th>     <th>std err</th>      <th>t</th>      <th>P>|t|</th>  <th>[0.025</th>    <th>0.975]</th>  \n",
       "</tr>\n",
       "<tr>\n",
       "  <th>WS/48</th>          <td>    0.1657</td> <td>    0.046</td> <td>    3.600</td> <td> 0.000</td> <td>    0.075</td> <td>    0.256</td>\n",
       "</tr>\n",
       "<tr>\n",
       "  <th>TRB%</th>           <td>    0.0012</td> <td>    0.001</td> <td>    1.389</td> <td> 0.166</td> <td>   -0.001</td> <td>    0.003</td>\n",
       "</tr>\n",
       "<tr>\n",
       "  <th>AST%</th>           <td>   -0.0005</td> <td>    0.000</td> <td>   -0.996</td> <td> 0.320</td> <td>   -0.001</td> <td>    0.000</td>\n",
       "</tr>\n",
       "<tr>\n",
       "  <th>STL%</th>           <td>   -0.0014</td> <td>    0.003</td> <td>   -0.430</td> <td> 0.667</td> <td>   -0.008</td> <td>    0.005</td>\n",
       "</tr>\n",
       "<tr>\n",
       "  <th>BLK%</th>           <td>    0.0015</td> <td>    0.002</td> <td>    0.615</td> <td> 0.539</td> <td>   -0.003</td> <td>    0.006</td>\n",
       "</tr>\n",
       "<tr>\n",
       "  <th>TOV%</th>           <td>   -0.0003</td> <td>    0.001</td> <td>   -0.543</td> <td> 0.588</td> <td>   -0.002</td> <td>    0.001</td>\n",
       "</tr>\n",
       "<tr>\n",
       "  <th>USG%</th>           <td>    0.0009</td> <td>    0.001</td> <td>    1.523</td> <td> 0.129</td> <td>   -0.000</td> <td>    0.002</td>\n",
       "</tr>\n",
       "<tr>\n",
       "  <th>M</th>              <td>    0.0074</td> <td>    0.015</td> <td>    0.504</td> <td> 0.615</td> <td>   -0.021</td> <td>    0.036</td>\n",
       "</tr>\n",
       "<tr>\n",
       "  <th>W</th>              <td>    0.0019</td> <td>    0.007</td> <td>    0.256</td> <td> 0.798</td> <td>   -0.013</td> <td>    0.016</td>\n",
       "</tr>\n",
       "<tr>\n",
       "  <th>inches</th>         <td>    0.0016</td> <td>    0.002</td> <td>    0.900</td> <td> 0.369</td> <td>   -0.002</td> <td>    0.005</td>\n",
       "</tr>\n",
       "<tr>\n",
       "  <th>Wt</th>             <td>   -0.0004</td> <td>    0.000</td> <td>   -2.256</td> <td> 0.025</td> <td>   -0.001</td> <td> -5.5e-05</td>\n",
       "</tr>\n",
       "<tr>\n",
       "  <th>rookie</th>         <td>    0.0257</td> <td>    0.008</td> <td>    3.162</td> <td> 0.002</td> <td>    0.010</td> <td>    0.042</td>\n",
       "</tr>\n",
       "<tr>\n",
       "  <th>whippersnapper</th> <td>    0.0546</td> <td>    0.118</td> <td>    0.463</td> <td> 0.644</td> <td>   -0.177</td> <td>    0.286</td>\n",
       "</tr>\n",
       "<tr>\n",
       "  <th>geezer</th>         <td>    0.0121</td> <td>    0.007</td> <td>    1.657</td> <td> 0.098</td> <td>   -0.002</td> <td>    0.026</td>\n",
       "</tr>\n",
       "<tr>\n",
       "  <th>tall</th>           <td>   -0.0239</td> <td>    0.010</td> <td>   -2.463</td> <td> 0.014</td> <td>   -0.043</td> <td>   -0.005</td>\n",
       "</tr>\n",
       "<tr>\n",
       "  <th>short</th>          <td>   -0.0052</td> <td>    0.028</td> <td>   -0.185</td> <td> 0.854</td> <td>   -0.060</td> <td>    0.050</td>\n",
       "</tr>\n",
       "</table>\n",
       "<table class=\"simpletable\">\n",
       "<tr>\n",
       "  <th>Omnibus:</th>       <td>44.042</td> <th>  Durbin-Watson:     </th> <td>   2.029</td>\n",
       "</tr>\n",
       "<tr>\n",
       "  <th>Prob(Omnibus):</th> <td> 0.000</td> <th>  Jarque-Bera (JB):  </th> <td> 206.355</td>\n",
       "</tr>\n",
       "<tr>\n",
       "  <th>Skew:</th>          <td> 0.349</td> <th>  Prob(JB):          </th> <td>1.55e-45</td>\n",
       "</tr>\n",
       "<tr>\n",
       "  <th>Kurtosis:</th>      <td> 6.607</td> <th>  Cond. No.          </th> <td>1.05e+04</td>\n",
       "</tr>\n",
       "</table>"
      ],
      "text/plain": [
       "<class 'statsmodels.iolib.summary.Summary'>\n",
       "\"\"\"\n",
       "                            OLS Regression Results                            \n",
       "==============================================================================\n",
       "Dep. Variable:                      y   R-squared:                       0.113\n",
       "Model:                            OLS   Adj. R-squared:                  0.075\n",
       "Method:                 Least Squares   F-statistic:                     2.984\n",
       "Date:                Sat, 19 May 2018   Prob (F-statistic):           0.000164\n",
       "Time:                        18:15:43   Log-Likelihood:                 581.54\n",
       "No. Observations:                 367   AIC:                            -1131.\n",
       "Df Residuals:                     351   BIC:                            -1069.\n",
       "Df Model:                          15                                         \n",
       "Covariance Type:            nonrobust                                         \n",
       "==================================================================================\n",
       "                     coef    std err          t      P>|t|      [0.025      0.975]\n",
       "----------------------------------------------------------------------------------\n",
       "WS/48              0.1657      0.046      3.600      0.000       0.075       0.256\n",
       "TRB%               0.0012      0.001      1.389      0.166      -0.001       0.003\n",
       "AST%              -0.0005      0.000     -0.996      0.320      -0.001       0.000\n",
       "STL%              -0.0014      0.003     -0.430      0.667      -0.008       0.005\n",
       "BLK%               0.0015      0.002      0.615      0.539      -0.003       0.006\n",
       "TOV%              -0.0003      0.001     -0.543      0.588      -0.002       0.001\n",
       "USG%               0.0009      0.001      1.523      0.129      -0.000       0.002\n",
       "M                  0.0074      0.015      0.504      0.615      -0.021       0.036\n",
       "W                  0.0019      0.007      0.256      0.798      -0.013       0.016\n",
       "inches             0.0016      0.002      0.900      0.369      -0.002       0.005\n",
       "Wt                -0.0004      0.000     -2.256      0.025      -0.001    -5.5e-05\n",
       "rookie             0.0257      0.008      3.162      0.002       0.010       0.042\n",
       "whippersnapper     0.0546      0.118      0.463      0.644      -0.177       0.286\n",
       "geezer             0.0121      0.007      1.657      0.098      -0.002       0.026\n",
       "tall              -0.0239      0.010     -2.463      0.014      -0.043      -0.005\n",
       "short             -0.0052      0.028     -0.185      0.854      -0.060       0.050\n",
       "==============================================================================\n",
       "Omnibus:                       44.042   Durbin-Watson:                   2.029\n",
       "Prob(Omnibus):                  0.000   Jarque-Bera (JB):              206.355\n",
       "Skew:                           0.349   Prob(JB):                     1.55e-45\n",
       "Kurtosis:                       6.607   Cond. No.                     1.05e+04\n",
       "==============================================================================\n",
       "\n",
       "Warnings:\n",
       "[1] Standard Errors assume that the covariance matrix of the errors is correctly specified.\n",
       "[2] The condition number is large, 1.05e+04. This might indicate that there are\n",
       "strong multicollinearity or other numerical problems.\n",
       "\"\"\""
      ]
     },
     "execution_count": 197,
     "metadata": {},
     "output_type": "execute_result"
    }
   ],
   "source": [
    "model.summary()"
   ]
  },
  {
   "cell_type": "code",
   "execution_count": null,
   "metadata": {},
   "outputs": [],
   "source": []
  }
 ],
 "metadata": {
  "kernelspec": {
   "display_name": "Python 3",
   "language": "python",
   "name": "python3"
  },
  "language_info": {
   "codemirror_mode": {
    "name": "ipython",
    "version": 3
   },
   "file_extension": ".py",
   "mimetype": "text/x-python",
   "name": "python",
   "nbconvert_exporter": "python",
   "pygments_lexer": "ipython3",
   "version": "3.6.4"
  }
 },
 "nbformat": 4,
 "nbformat_minor": 2
}
