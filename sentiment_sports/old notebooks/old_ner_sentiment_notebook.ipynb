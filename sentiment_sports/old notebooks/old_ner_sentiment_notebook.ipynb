{
 "cells": [
  {
   "cell_type": "markdown",
   "metadata": {},
   "source": [
    "# Legacy notebook\n",
    "Contains code for getting NER and sentiment before I function-ified everything"
   ]
  },
  {
   "cell_type": "code",
   "execution_count": 6,
   "metadata": {},
   "outputs": [
    {
     "name": "stderr",
     "output_type": "stream",
     "text": [
      "C:\\Anaconda3\\Lib\\site-packages\\IPython\\core\\interactiveshell.py:2717: DtypeWarning: Columns (0,2) have mixed types. Specify dtype option on import or set low_memory=False.\n",
      "  interactivity=interactivity, compiler=compiler, result=result)\n"
     ]
    }
   ],
   "source": [
    "%%time\n",
    "nov_df = pd.read_csv('data/201711-comments_submissions.tsv.gz', sep = '\\t', encoding = 'utf-8')\n",
    "dec_df = pd.read_csv('data/201712-comments_submissions.tsv.gz', sep = '\\t', encoding = 'utf-8')\n",
    "jan_df = pd.read_csv('data/201801-comments_submissions.tsv.gz', sep = '\\t', encoding = 'utf-8')\n",
    "feb_df = pd.read_csv('data/201802-comments_submissions.tsv.gz', sep = '\\t', encoding = 'utf-8')\n",
    "mar_df = pd.read_csv('data/201803-comments_submissions.tsv.gz', sep = '\\t', encoding = 'utf-8')\n",
    "apr_df = pd.read_csv('data/201804-comments_submissions.tsv.gz', sep = '\\t', encoding = 'utf-8')"
   ]
  },
  {
   "cell_type": "code",
   "execution_count": 3,
   "metadata": {},
   "outputs": [
    {
     "name": "stdout",
     "output_type": "stream",
     "text": [
      "(2515906, 6)\n"
     ]
    },
    {
     "data": {
      "text/html": [
       "<div>\n",
       "<table border=\"1\" class=\"dataframe\">\n",
       "  <thead>\n",
       "    <tr style=\"text-align: right;\">\n",
       "      <th></th>\n",
       "      <th>Unnamed: 0</th>\n",
       "      <th>flair</th>\n",
       "      <th>source</th>\n",
       "      <th>text</th>\n",
       "      <th>timestamp</th>\n",
       "      <th>user</th>\n",
       "    </tr>\n",
       "  </thead>\n",
       "  <tbody>\n",
       "    <tr>\n",
       "      <th>700461</th>\n",
       "      <td>NaN</td>\n",
       "      <td>Rockets</td>\n",
       "      <td>comment</td>\n",
       "      <td>Never said I was smart lol.</td>\n",
       "      <td>1.52246e+09</td>\n",
       "      <td>splanket</td>\n",
       "    </tr>\n",
       "    <tr>\n",
       "      <th>700462</th>\n",
       "      <td>NaN</td>\n",
       "      <td>[CHI] Jimmy Butler</td>\n",
       "      <td>comment</td>\n",
       "      <td>Wrong use of this, nice try though I guess</td>\n",
       "      <td>1.52246e+09</td>\n",
       "      <td>DevsiK</td>\n",
       "    </tr>\n",
       "  </tbody>\n",
       "</table>\n",
       "</div>"
      ],
      "text/plain": [
       "       Unnamed: 0               flair   source  \\\n",
       "700461        NaN             Rockets  comment   \n",
       "700462        NaN  [CHI] Jimmy Butler  comment   \n",
       "\n",
       "                                              text    timestamp      user  \n",
       "700461                 Never said I was smart lol.  1.52246e+09  splanket  \n",
       "700462  Wrong use of this, nice try though I guess  1.52246e+09    DevsiK  "
      ]
     },
     "execution_count": 3,
     "metadata": {},
     "output_type": "execute_result"
    }
   ],
   "source": [
    "combo_df = pd.concat([dec_df, jan_df, feb_df, mar_df]).dropna(subset=['text'])\n",
    "print(combo_df.shape)\n",
    "combo_df.tail(2)"
   ]
  },
  {
   "cell_type": "code",
   "execution_count": 4,
   "metadata": {
    "collapsed": true
   },
   "outputs": [],
   "source": [
    "combo_df['text_length'] = combo_df['text'].str.len()"
   ]
  },
  {
   "cell_type": "code",
   "execution_count": 5,
   "metadata": {},
   "outputs": [
    {
     "data": {
      "image/png": "[encoded data removed]",
      "text/plain": [
       "<matplotlib.figure.Figure at 0xd0c79e8>"
      ]
     },
     "metadata": {},
     "output_type": "display_data"
    }
   ],
   "source": [
    "combo_df['text_length'].sample(1000).plot.hist(histtype ='step', bins = [0, 20, 50, 100, 200, 500, 1000, 5000]);\n",
    "plt.xscale('log')"
   ]
  },
  {
   "cell_type": "code",
   "execution_count": 6,
   "metadata": {},
   "outputs": [
    {
     "data": {
      "text/plain": [
       "(1710957, 7)"
      ]
     },
     "execution_count": 6,
     "metadata": {},
     "output_type": "execute_result"
    }
   ],
   "source": [
    "combo_df = combo_df.query('text_length > 40')\n",
    "combo_df.shape"
   ]
  },
  {
   "cell_type": "markdown",
   "metadata": {},
   "source": [
    "#### Save / load combined months"
   ]
  },
  {
   "cell_type": "raw",
   "metadata": {},
   "source": [
    "combo_df.to_csv('data/combined_months.tsv',\n",
    "                sep ='\\t', compression ='gzip', encoding = 'utf-8', index = False)"
   ]
  },
  {
   "cell_type": "code",
   "execution_count": 20,
   "metadata": {},
   "outputs": [
    {
     "name": "stderr",
     "output_type": "stream",
     "text": [
      "C:\\Anaconda3\\Lib\\site-packages\\IPython\\core\\interactiveshell.py:2717: DtypeWarning: Columns (1) have mixed types. Specify dtype option on import or set low_memory=False.\n",
      "  interactivity=interactivity, compiler=compiler, result=result)\n"
     ]
    }
   ],
   "source": [
    "combo_df = pd.read_csv('data/combined_months.tsv',\n",
    "                       sep ='\\t', compression = 'gzip', encoding ='utf-8')"
   ]
  },
  {
   "cell_type": "code",
   "execution_count": 21,
   "metadata": {},
   "outputs": [
    {
     "data": {
      "text/plain": [
       "(1638077, 7)"
      ]
     },
     "execution_count": 21,
     "metadata": {},
     "output_type": "execute_result"
    }
   ],
   "source": [
    "combo_df = combo_df.query('text_length > 20 and text_length < 500')\n",
    "combo_df.shape"
   ]
  },
  {
   "cell_type": "markdown",
   "metadata": {},
   "source": [
    "#### Parse into sentences"
   ]
  },
  {
   "cell_type": "code",
   "execution_count": 22,
   "metadata": {},
   "outputs": [
    {
     "name": "stderr",
     "output_type": "stream",
     "text": [
      "C:\\Anaconda3\\Lib\\site-packages\\numpy\\lib\\arraysetops.py:379: FutureWarning: elementwise comparison failed; returning scalar instead, but in the future will perform elementwise comparison\n",
      "  mask |= (ar1 == a)\n"
     ]
    },
    {
     "name": "stdout",
     "output_type": "stream",
     "text": [
      "Wall time: 3min 53s\n"
     ]
    }
   ],
   "source": [
    "%%time\n",
    "sentences_df = (pd.DataFrame(combo_df.text.apply(sent_tokenize).tolist(), index=combo_df.index)\n",
    "                  .stack() )\n",
    "sentences_df = (sentences_df.reset_index()\n",
    "                  .set_index('level_0')\n",
    "                  .rename(columns={0:'sentences'})\n",
    "                  .drop('level'))\n",
    "sentences_df['sentences'] = sentences_df['sentences'].str.replace('\\r|\\n', ' ')"
   ]
  },
  {
   "cell_type": "code",
   "execution_count": 23,
   "metadata": {},
   "outputs": [
    {
     "data": {
      "text/plain": [
       "(3136391, 9)"
      ]
     },
     "execution_count": 23,
     "metadata": {},
     "output_type": "execute_result"
    }
   ],
   "source": [
    "combo_df = combo_df.join(sentences_df)#[['user', 'flair', 'source', 'sentences', 'timestamp']]\n",
    "combo_df.shape"
   ]
  },
  {
   "cell_type": "markdown",
   "metadata": {},
   "source": [
    "#### Save / load"
   ]
  },
  {
   "cell_type": "raw",
   "metadata": {},
   "source": [
    "combo_df.to_csv('combined_months_sentences.tsv.gz', sep = '\\t', compression ='gzip', encoding='utf-8', index=False)"
   ]
  },
  {
   "cell_type": "code",
   "execution_count": 95,
   "metadata": {
    "collapsed": true
   },
   "outputs": [
    {
     "name": "stderr",
     "output_type": "stream",
     "text": [
      "C:\\Anaconda3\\Lib\\site-packages\\IPython\\core\\interactiveshell.py:2717: DtypeWarning: Columns (1) have mixed types. Specify dtype option on import or set low_memory=False.\n",
      "  interactivity=interactivity, compiler=compiler, result=result)\n"
     ]
    }
   ],
   "source": [
    "combo_df = pd.read_csv('combined_months_sentences.tsv.gz',\n",
    "                       sep = '\\t', compression ='gzip', encoding='utf-8')\n",
    "combo_df = combo_df[combo_df.sentences.str.len() > 10]"
   ]
  },
  {
   "cell_type": "markdown",
   "metadata": {},
   "source": [
    "### Identify named entities"
   ]
  },
  {
   "cell_type": "code",
   "execution_count": 73,
   "metadata": {
    "collapsed": true
   },
   "outputs": [],
   "source": [
    "tagger = Ner(host='localhost',port=9199)\n",
    "# download stanford core nlp (should be a zip file of format stanford-ner-YYYY-MM-DD) (maybe from https://nlp.stanford.edu/software/CRF-NER.shtml#Download)\n",
    "# need to start the Java server:\n",
    "# cd C:\\ProgramData\\Anaconda3\\Lib\\site-packages\\sner\\stanford-ner-2018-02-27\n",
    "# java -Djava.ext.dirs=./lib -cp stanford-ner.jar edu.stanford.nlp.ie.NERServer -port 9199 -loadClassifier ./classifiers/english.all.3class.distsim.crf.ser.gz  -tokenizerFactory edu.stanford.nlp.process.WhitespaceTokenizer -tokenizerOptions tokenizeNLs=false"
   ]
  },
  {
   "cell_type": "code",
   "execution_count": 97,
   "metadata": {},
   "outputs": [
    {
     "name": "stdout",
     "output_type": "stream",
     "text": [
      "Wall time: 2h 16min 42s\n"
     ]
    }
   ],
   "source": [
    "%%time\n",
    "sner_entities = lambda text: [token for token, part in tagger.get_entities(text ) if part in {'PERSON', 'ORGANIZATION', 'LOCATION'}]\n",
    "combo_df['named_entities'] = combo_df['sentences'].apply(lambda doc: sner_entities(doc))"
   ]
  },
  {
   "cell_type": "markdown",
   "metadata": {},
   "source": [
    "#### Save / load"
   ]
  },
  {
   "cell_type": "raw",
   "metadata": {},
   "source": [
    "combo_df.to_csv('combined_months_ner.tsv.gz', sep ='\\t', compression='gzip',\n",
    "               index=False, encoding = 'utf-8')"
   ]
  },
  {
   "cell_type": "code",
   "execution_count": 99,
   "metadata": {
    "collapsed": true
   },
   "outputs": [
    {
     "name": "stderr",
     "output_type": "stream",
     "text": [
      "<string>:2: DtypeWarning: Columns (1) have mixed types. Specify dtype option on import or set low_memory=False.\n"
     ]
    },
    {
     "name": "stdout",
     "output_type": "stream",
     "text": [
      "Wall time: 11.1 s\n"
     ]
    }
   ],
   "source": [
    "%%time\n",
    "combo_df = pd.read_csv('combined_months_ner.tsv.gz', sep='\\t', compression='gzip',\n",
    "                      encoding ='utf-8')"
   ]
  },
  {
   "cell_type": "code",
   "execution_count": 100,
   "metadata": {},
   "outputs": [
    {
     "name": "stdout",
     "output_type": "stream",
     "text": [
      "Wall time: 57.8 s\n"
     ]
    }
   ],
   "source": [
    "%%time\n",
    "# ~ 1 min\n",
    "combo_df['named_entities'] = combo_df['named_entities'].apply(literal_eval)\n",
    "combo_df = combo_df[combo_df['named_entities'].str.len() > 0]\n",
    "combo_df = combo_df[combo_df['sentences'].str.len() > 15]\n",
    "combo_df['named_entities'] = combo_df['named_entities'].apply(lambda entities: [entity.strip(punctuation) for entity in entities])\n",
    "combo_df['named_entities'] = combo_df['named_entities'].apply(lambda entities: [entity.lower() for entity in entities])"
   ]
  },
  {
   "cell_type": "code",
   "execution_count": 101,
   "metadata": {},
   "outputs": [
    {
     "data": {
      "text/plain": [
       "(766138, 6)"
      ]
     },
     "execution_count": 101,
     "metadata": {},
     "output_type": "execute_result"
    }
   ],
   "source": [
    "combo_df.shape"
   ]
  },
  {
   "cell_type": "markdown",
   "metadata": {},
   "source": [
    "### Get rid of team entities"
   ]
  },
  {
   "cell_type": "code",
   "execution_count": 154,
   "metadata": {},
   "outputs": [],
   "source": [
    "teams = set('Atlanta Hawks Boston Celtics Brooklyn Nets Charlotte Bobcats' \\\n",
    "         'Chicago Bulls Cleveland Cavaliers cavs Dallas Mavericks mavs Denver Nuggets ' \\\n",
    "'Detroit Pistons Golden State Warriors Houston Rockets Indiana'\\\n",
    "         'Pacers Los Angeles LA Clippers LA Lakers LAL Memphis Grizzlies Miami Heat '\\\n",
    "'Milwaukee Bucks Minnesota Timberwolves NBA New Orleans Hornets New York Knicks NYK '\\\n",
    "'Oklahoma City Thunder Orlando Magic Philadelphia Sixers 76ers Phoenix'\\\n",
    "         'Suns Portland Trail Blazers Sacramento Kings'\\\n",
    "'San Antonio Spurs Toronto Raptors Utah Jazz Washington Wizards wiz'.lower().split())"
   ]
  },
  {
   "cell_type": "code",
   "execution_count": 155,
   "metadata": {},
   "outputs": [
    {
     "data": {
      "text/plain": [
       "(450420, 12)"
      ]
     },
     "execution_count": 155,
     "metadata": {},
     "output_type": "execute_result"
    }
   ],
   "source": [
    "combo_df['named_entities'] = combo_df['named_entities'].apply(lambda entities: [entity for entity in entities if entity not in teams])\n",
    "combo_df = combo_df[combo_df['named_entities'].str.len() > 0]\n",
    "combo_df = combo_df[combo_df['named_entities'].str.len() <3]\n",
    "combo_df.shape"
   ]
  },
  {
   "cell_type": "markdown",
   "metadata": {},
   "source": [
    "### Sentiment scoring"
   ]
  },
  {
   "cell_type": "code",
   "execution_count": 150,
   "metadata": {},
   "outputs": [
    {
     "name": "stdout",
     "output_type": "stream",
     "text": [
      "Wall time: 2min 31s\n"
     ]
    }
   ],
   "source": [
    "%%time\n",
    "intermediate_df = combo_df['sentences'].apply(lambda sentence: sid.polarity_scores(sentence) )\n",
    "sentiment_df = pd.DataFrame.from_dict(intermediate_df.tolist())"
   ]
  },
  {
   "cell_type": "code",
   "execution_count": 153,
   "metadata": {},
   "outputs": [
    {
     "data": {
      "text/html": [
       "<div>\n",
       "<table border=\"1\" class=\"dataframe\">\n",
       "  <thead>\n",
       "    <tr style=\"text-align: right;\">\n",
       "      <th></th>\n",
       "      <th>user</th>\n",
       "      <th>flair</th>\n",
       "      <th>source</th>\n",
       "      <th>sentences</th>\n",
       "      <th>timestamp</th>\n",
       "      <th>named_entities</th>\n",
       "      <th>str_entities</th>\n",
       "      <th>fuzzy_name</th>\n",
       "      <th>compound</th>\n",
       "      <th>neg</th>\n",
       "      <th>neu</th>\n",
       "      <th>pos</th>\n",
       "    </tr>\n",
       "  </thead>\n",
       "  <tbody>\n",
       "    <tr>\n",
       "      <th>0</th>\n",
       "      <td>EmNightShyamalan</td>\n",
       "      <td>[LAL] Julius Randle</td>\n",
       "      <td>submission</td>\n",
       "      <td>Is there a mediocre NBA player who has a deceptively impressive highlight reel?</td>\n",
       "      <td>1.512227e+09</td>\n",
       "      <td>[nba]</td>\n",
       "      <td>nba</td>\n",
       "      <td>unclear</td>\n",
       "      <td>0.6908</td>\n",
       "      <td>0.0</td>\n",
       "      <td>0.612</td>\n",
       "      <td>0.388</td>\n",
       "    </tr>\n",
       "    <tr>\n",
       "      <th>1</th>\n",
       "      <td>Mithridates12</td>\n",
       "      <td>[CLE] LeBron James</td>\n",
       "      <td>submission</td>\n",
       "      <td>Do you think the NBA will at some change the rule in favor of the defense?.</td>\n",
       "      <td>1.512212e+09</td>\n",
       "      <td>[nba]</td>\n",
       "      <td>nba</td>\n",
       "      <td>unclear</td>\n",
       "      <td>0.4019</td>\n",
       "      <td>0.0</td>\n",
       "      <td>0.847</td>\n",
       "      <td>0.153</td>\n",
       "    </tr>\n",
       "    <tr>\n",
       "      <th>2</th>\n",
       "      <td>Nickelas</td>\n",
       "      <td>Mavericks</td>\n",
       "      <td>submission</td>\n",
       "      <td>Random Idea: Why hasn't the NBA thought to do an annual \"ABA Night\"?.</td>\n",
       "      <td>1.512209e+09</td>\n",
       "      <td>[nba]</td>\n",
       "      <td>nba</td>\n",
       "      <td>unclear</td>\n",
       "      <td>0.0000</td>\n",
       "      <td>0.0</td>\n",
       "      <td>1.000</td>\n",
       "      <td>0.000</td>\n",
       "    </tr>\n",
       "    <tr>\n",
       "      <th>3</th>\n",
       "      <td>Nickelas</td>\n",
       "      <td>Mavericks</td>\n",
       "      <td>submission</td>\n",
       "      <td>The NBA could pick a Sunday and have a back-to-back nationally televised night: a combination of the Spurs, Pacers, Nets, and Nuggets.</td>\n",
       "      <td>1.512209e+09</td>\n",
       "      <td>[nba]</td>\n",
       "      <td>nba</td>\n",
       "      <td>unclear</td>\n",
       "      <td>0.0000</td>\n",
       "      <td>0.0</td>\n",
       "      <td>1.000</td>\n",
       "      <td>0.000</td>\n",
       "    </tr>\n",
       "    <tr>\n",
       "      <th>4</th>\n",
       "      <td>jallain</td>\n",
       "      <td>[BOS] Paul Pierce</td>\n",
       "      <td>submission</td>\n",
       "      <td>According to NBA.com, the Atlanta Hawks are currently the only team in the NBA averaging more passes received per game (327.7) than passes made (327.4).</td>\n",
       "      <td>1.512209e+09</td>\n",
       "      <td>[nba]</td>\n",
       "      <td>nba</td>\n",
       "      <td>unclear</td>\n",
       "      <td>0.0000</td>\n",
       "      <td>0.0</td>\n",
       "      <td>1.000</td>\n",
       "      <td>0.000</td>\n",
       "    </tr>\n",
       "  </tbody>\n",
       "</table>\n",
       "</div>"
      ],
      "text/plain": [
       "               user                flair      source  \\\n",
       "0  EmNightShyamalan  [LAL] Julius Randle  submission   \n",
       "1     Mithridates12   [CLE] LeBron James  submission   \n",
       "2          Nickelas            Mavericks  submission   \n",
       "3          Nickelas            Mavericks  submission   \n",
       "4           jallain    [BOS] Paul Pierce  submission   \n",
       "\n",
       "                                                                                                                                                  sentences  \\\n",
       "0                                                                           Is there a mediocre NBA player who has a deceptively impressive highlight reel?   \n",
       "1                                                                               Do you think the NBA will at some change the rule in favor of the defense?.   \n",
       "2                                                                                     Random Idea: Why hasn't the NBA thought to do an annual \"ABA Night\"?.   \n",
       "3                    The NBA could pick a Sunday and have a back-to-back nationally televised night: a combination of the Spurs, Pacers, Nets, and Nuggets.   \n",
       "4  According to NBA.com, the Atlanta Hawks are currently the only team in the NBA averaging more passes received per game (327.7) than passes made (327.4).   \n",
       "\n",
       "      timestamp named_entities str_entities fuzzy_name  compound  neg    neu  \\\n",
       "0  1.512227e+09          [nba]          nba    unclear    0.6908  0.0  0.612   \n",
       "1  1.512212e+09          [nba]          nba    unclear    0.4019  0.0  0.847   \n",
       "2  1.512209e+09          [nba]          nba    unclear    0.0000  0.0  1.000   \n",
       "3  1.512209e+09          [nba]          nba    unclear    0.0000  0.0  1.000   \n",
       "4  1.512209e+09          [nba]          nba    unclear    0.0000  0.0  1.000   \n",
       "\n",
       "     pos  \n",
       "0  0.388  \n",
       "1  0.153  \n",
       "2  0.000  \n",
       "3  0.000  \n",
       "4  0.000  "
      ]
     },
     "execution_count": 153,
     "metadata": {},
     "output_type": "execute_result"
    }
   ],
   "source": [
    "combo_df = combo_df.join(sentiment_df)\n",
    "combo_df.head()"
   ]
  },
  {
   "cell_type": "markdown",
   "metadata": {},
   "source": [
    "#### Make sure positive and negative sentiment are directional"
   ]
  },
  {
   "cell_type": "code",
   "execution_count": 90,
   "metadata": {},
   "outputs": [
    {
     "data": {
      "text/plain": [
       "array([['And Rose was the worst of those 3.', 0.369, -0.6249],\n",
       "       [ 'I think this is a little unfair of Windhorst to bring up a private conversation he supposedly had with Lebron years ago though.',\n",
       "        0.129, -0.4228],\n",
       "       [ 'He is admitting that Rose deserved it in 2011 and was upset with himself that he let someone outplay him.',\n",
       "        0.12, -0.3818],\n",
       "       [ 'Windhorst talking out of his ass (as he usually does on LeBron) and everyone on here taking it as if LeBron said it himself',\n",
       "        0.132, -0.5423],\n",
       "       [ 'I always thought it was the second Nash MVP that people had a problem with.',\n",
       "        0.184, -0.4019],\n",
       "       [ \"Not undermining Rose's achievements, but without Dwight that team is awful.\",\n",
       "        0.39, -0.6956],\n",
       "       [ 'I think the 2 years he concedes are obviously Curry in 2016, Steph broke basketball that year, and KD in 2014.',\n",
       "        0.135, -0.4215],\n",
       "       ['Probably the weakest since Nash actually.', 0.39799999999999996,\n",
       "        -0.5106],\n",
       "       [ 'Nash was the most important factor in leading his team to ridiculous offenses.',\n",
       "        0.249, -0.228],\n",
       "       ['See: the next two years        No Rose, prime Noah carrying them.',\n",
       "        0.18, -0.29600000000000004]], dtype=object)"
      ]
     },
     "execution_count": 90,
     "metadata": {},
     "output_type": "execute_result"
    }
   ],
   "source": [
    "pd.set_option('display.max_colwidth', 400)\n",
    "combo_df.query('neg< -0.1 and pos > 0.1')[['sentences', 'pos', 'neg']].tail(200).head(10).values"
   ]
  },
  {
   "cell_type": "raw",
   "metadata": {},
   "source": [
    "combo_df.to_csv('combined_months_ner_sentiment.tsv.gz', compression = 'gzip',\n",
    "               index=False, encoding = 'utf-8')"
   ]
  },
  {
   "cell_type": "code",
   "execution_count": 10,
   "metadata": {},
   "outputs": [],
   "source": [
    "combo_df = pd.read_csv('data/combined_months_ner_sentiment.tsv.gz', compression = 'gzip',\n",
    "                       encoding = 'utf-8')\n",
    "combo_df['named_entities'] = combo_df['named_entities'].apply(literal_eval)"
   ]
  },
  {
   "cell_type": "code",
   "execution_count": 11,
   "metadata": {},
   "outputs": [
    {
     "data": {
      "text/plain": [
       "(450420, 12)"
      ]
     },
     "execution_count": 11,
     "metadata": {},
     "output_type": "execute_result"
    }
   ],
   "source": [
    "combo_df.shape"
   ]
  },
  {
   "cell_type": "code",
   "execution_count": null,
   "metadata": {},
   "outputs": [],
   "source": []
  }
 ],
 "metadata": {
  "kernelspec": {
   "display_name": "Python 3",
   "language": "python",
   "name": "python3"
  },
  "language_info": {
   "codemirror_mode": {
    "name": "ipython",
    "version": 3
   },
   "file_extension": ".py",
   "mimetype": "text/x-python",
   "name": "python",
   "nbconvert_exporter": "python",
   "pygments_lexer": "ipython3",
   "version": "3.6.5"
  }
 },
 "nbformat": 4,
 "nbformat_minor": 2
}
