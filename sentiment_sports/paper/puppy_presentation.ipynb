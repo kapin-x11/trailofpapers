{
 "cells": [
  {
   "cell_type": "markdown",
   "metadata": {},
   "source": [
    "# To do:\n",
    "Fix font size of pandas tables in reveal.js presentation\n",
    "\n",
    "Increase font size for Markdown table in presentation (code in notebook does not transfer to html)\n",
    "\n",
    "Increase graph size for plots \n",
    "\n",
    "Talk more concretely about bias in culture section: bias is everywhere and hard to measure\n",
    "\n",
    "Put in a DAG at start of regression or some explanation of how we use regression to avoid bias: causal inference is hard, and this helps to explain\n",
    "\n",
    "Talk about p-value rather than t-stats\n",
    "\n",
    "Don't say PPG coefficient is small\n",
    "\n",
    "Say weighted least squares in regression part"
   ]
  },
  {
   "cell_type": "code",
   "execution_count": 24,
   "metadata": {
    "slideshow": {
     "slide_type": "skip"
    }
   },
   "outputs": [],
   "source": [
    "import pandas as pd\n",
    "import numpy as np\n",
    "import seaborn as sns\n",
    "import matplotlib.pyplot as plt\n",
    "pd.set_option('display.max_colwidth', 100)"
   ]
  },
  {
   "cell_type": "raw",
   "metadata": {
    "slideshow": {
     "slide_type": "skip"
    }
   },
   "source": [
    "cd OneDrive\\Documents\\Github\\trailofpapers\\sentiment_sports\\paper\n",
    "jupyter nbconvert puppy_presentation.ipynb --to slides --post serve"
   ]
  },
  {
   "cell_type": "markdown",
   "metadata": {
    "slideshow": {
     "slide_type": "slide"
    }
   },
   "source": [
    "# Measuring bias in social media\n",
    "\n",
    "## A sentiment analysis of NBA and NFL reddit"
   ]
  },
  {
   "cell_type": "markdown",
   "metadata": {
    "slideshow": {
     "slide_type": "subslide"
    }
   },
   "source": [
    "### Powerpoint slide of Cedi and Tristan"
   ]
  },
  {
   "cell_type": "markdown",
   "metadata": {
    "slideshow": {
     "slide_type": "slide"
    }
   },
   "source": [
    "## Outline\n",
    "\n",
    "I. Getting the data: scraping reddit"
   ]
  },
  {
   "cell_type": "markdown",
   "metadata": {
    "slideshow": {
     "slide_type": "fragment"
    }
   },
   "source": [
    "II. Quantifying the data: calculating sentiment"
   ]
  },
  {
   "cell_type": "markdown",
   "metadata": {
    "slideshow": {
     "slide_type": "fragment"
    }
   },
   "source": [
    "III. Understanding the data: Using regression to understand what makes athletes popular"
   ]
  },
  {
   "cell_type": "markdown",
   "metadata": {
    "slideshow": {
     "slide_type": "fragment"
    }
   },
   "source": [
    "IV. Results!"
   ]
  },
  {
   "cell_type": "markdown",
   "metadata": {
    "slideshow": {
     "slide_type": "slide"
    }
   },
   "source": [
    "## 0. Sports allow us to understand social media in a highly quantitative way"
   ]
  },
  {
   "cell_type": "markdown",
   "metadata": {
    "slideshow": {
     "slide_type": "fragment"
    }
   },
   "source": [
    "#### Sports allow us to measure performance far more accurately than other parts of culture"
   ]
  },
  {
   "cell_type": "markdown",
   "metadata": {
    "slideshow": {
     "slide_type": "fragment"
    }
   },
   "source": [
    "#### Social media is often where ideas incubate"
   ]
  },
  {
   "cell_type": "markdown",
   "metadata": {
    "slideshow": {
     "slide_type": "slide"
    }
   },
   "source": [
    "## I. Getting the data: scraping reddit"
   ]
  },
  {
   "cell_type": "markdown",
   "metadata": {
    "slideshow": {
     "slide_type": "fragment"
    }
   },
   "source": [
    "(Aside: getting historical data from Twitter was not obvious)"
   ]
  },
  {
   "cell_type": "markdown",
   "metadata": {
    "slideshow": {
     "slide_type": "subslide"
    }
   },
   "source": [
    "### Scraping using reddit's API\n",
    "\n",
    "#### Reddit's API is quite good\n",
    "\n",
    "Allows you to post comments, reply, and act like a user"
   ]
  },
  {
   "cell_type": "markdown",
   "metadata": {
    "slideshow": {
     "slide_type": "subslide"
    }
   },
   "source": [
    "#### Disadvantages\n",
    "\n",
    "It's designed around acting like a user rather than scraping"
   ]
  },
  {
   "cell_type": "markdown",
   "metadata": {
    "slideshow": {
     "slide_type": "fragment"
    }
   },
   "source": [
    "It requires authentication"
   ]
  },
  {
   "cell_type": "markdown",
   "metadata": {
    "slideshow": {
     "slide_type": "fragment"
    }
   },
   "source": [
    "It broke a month after I started"
   ]
  },
  {
   "cell_type": "raw",
   "metadata": {
    "slideshow": {
     "slide_type": "notes"
    }
   },
   "source": [
    "This annoyed me"
   ]
  },
  {
   "cell_type": "markdown",
   "metadata": {
    "slideshow": {
     "slide_type": "slide"
    }
   },
   "source": [
    "## Scraping using the pushshift API\n",
    "\n",
    "[pushshift.io](https://pushshift.io/api-parameters/) is a third party social media data aggregator, specializing in reddit"
   ]
  },
  {
   "cell_type": "markdown",
   "metadata": {
    "slideshow": {
     "slide_type": "subslide"
    }
   },
   "source": [
    "### Advantages\n",
    "\n",
    "No authentication\n",
    "\n",
    "Did not change API while I used\n",
    "\n",
    "Easy to use"
   ]
  },
  {
   "cell_type": "markdown",
   "metadata": {
    "slideshow": {
     "slide_type": "subslide"
    }
   },
   "source": [
    "### Example query to pushshift\n",
    "As simple as parsing a `requests` query"
   ]
  },
  {
   "cell_type": "code",
   "execution_count": 2,
   "metadata": {
    "slideshow": {
     "slide_type": "-"
    }
   },
   "outputs": [],
   "source": [
    "import requests\n",
    "import simplejson as json\n",
    "url_params = {'subreddit': 'nba',\n",
    "              'size':500}\n",
    "submission_url = 'https://api.pushshift.io/reddit/search/submission/'\n",
    "pushshift_response = json.loads(requests.get(submission_url, params=url_params).text)"
   ]
  },
  {
   "cell_type": "code",
   "execution_count": 5,
   "metadata": {
    "slideshow": {
     "slide_type": "subslide"
    }
   },
   "outputs": [
    {
     "data": {
      "text/plain": [
       "{'author': 'deadskin',\n",
       " 'author_flair_background_color': '',\n",
       " 'author_flair_css_class': 'Raptors2',\n",
       " 'author_flair_richtext': [],\n",
       " 'author_flair_text': '[TOR] Jose Calderon',\n",
       " 'author_flair_text_color': 'dark',\n",
       " 'author_flair_type': 'text',\n",
       " 'author_fullname': 't2_5nr6h',\n",
       " 'author_patreon_flair': False,\n",
       " 'can_mod_post': False,\n",
       " 'contest_mode': False,\n",
       " 'created_utc': 1554215998,\n",
       " 'domain': 'streamable.com',\n",
       " 'full_link': 'https://www.reddit.com/r/nba/comments/b8k2m6/brook_lopez_turned_31_yesterday_and_received_a/',\n",
       " 'gildings': {'gid_1': 0, 'gid_2': 0, 'gid_3': 0},\n",
       " 'id': 'b8k2m6',\n",
       " 'is_crosspostable': True,\n",
       " 'is_meta': False,\n",
       " 'is_original_content': False,\n",
       " 'is_reddit_media_domain': False,\n",
       " 'is_robot_indexable': True,\n",
       " 'is_self': False,\n",
       " 'is_video': False,\n",
       " 'link_flair_background_color': '',\n",
       " 'link_flair_css_class': 'highlights',\n",
       " 'link_flair_richtext': [],\n",
       " 'link_flair_text': 'Highlights',\n",
       " 'link_flair_text_color': 'dark',\n",
       " 'link_flair_type': 'text',\n",
       " 'locked': False,\n",
       " 'media': {'oembed': {'description': 'Check out this video on Streamable using your phone, tablet or desktop.',\n",
       "   'height': 338,\n",
       "   'html': '&lt;iframe class=\"embedly-embed\" src=\"https://cdn.embedly.com/widgets/media.html?src=https%3A%2F%2Fstreamable.com%2Fo%2F7ynt7&amp;url=https%3A%2F%2Fstreamable.com%2F7ynt7&amp;image=https%3A%2F%2Fcdn-b-east.streamable.com%2Fimage%2F7ynt7.jpg%3Ftoken%3DoYqUCUQfWpMEmBaT3fNhnw%26expires%3D1554223142&amp;key=ed8fa8699ce04833838e66ce79ba05f1&amp;type=text%2Fhtml&amp;schema=streamable\" width=\"600\" height=\"338\" scrolling=\"no\" frameborder=\"0\" allow=\"autoplay; fullscreen\" allowfullscreen=\"true\"&gt;&lt;/iframe&gt;',\n",
       "   'provider_name': 'Streamable',\n",
       "   'provider_url': 'https://streamable.com',\n",
       "   'thumbnail_height': 720,\n",
       "   'thumbnail_url': 'https://cdn-b-east.streamable.com/image/7ynt7.jpg?token=oYqUCUQfWpMEmBaT3fNhnw&amp;expires=1554223142',\n",
       "   'thumbnail_width': 1280,\n",
       "   'title': 'Streamable - free video publishing',\n",
       "   'type': 'video',\n",
       "   'version': '1.0',\n",
       "   'width': 600},\n",
       "  'type': 'streamable.com'},\n",
       " 'media_embed': {'content': '&lt;iframe class=\"embedly-embed\" src=\"https://cdn.embedly.com/widgets/media.html?src=https%3A%2F%2Fstreamable.com%2Fo%2F7ynt7&amp;url=https%3A%2F%2Fstreamable.com%2F7ynt7&amp;image=https%3A%2F%2Fcdn-b-east.streamable.com%2Fimage%2F7ynt7.jpg%3Ftoken%3DoYqUCUQfWpMEmBaT3fNhnw%26expires%3D1554223142&amp;key=ed8fa8699ce04833838e66ce79ba05f1&amp;type=text%2Fhtml&amp;schema=streamable\" width=\"600\" height=\"338\" scrolling=\"no\" frameborder=\"0\" allow=\"autoplay; fullscreen\" allowfullscreen=\"true\"&gt;&lt;/iframe&gt;',\n",
       "  'height': 338,\n",
       "  'scrolling': False,\n",
       "  'width': 600},\n",
       " 'media_only': False,\n",
       " 'no_follow': True,\n",
       " 'num_comments': 6,\n",
       " 'num_crossposts': 0,\n",
       " 'over_18': False,\n",
       " 'parent_whitelist_status': 'all_ads',\n",
       " 'permalink': '/r/nba/comments/b8k2m6/brook_lopez_turned_31_yesterday_and_received_a/',\n",
       " 'pinned': False,\n",
       " 'post_hint': 'rich:video',\n",
       " 'preview': {'enabled': False,\n",
       "  'images': [{'id': 'jqwjQrO1s-51EddKlSaJUmLRqTw3NGkxWSPx60KuBsQ',\n",
       "    'resolutions': [{'height': 60,\n",
       "      'url': 'https://external-preview.redd.it/YbcBWZ1xOWKPyx2Fix_3NU5e596b9aFiFFLXmvJ2xaI.jpg?width=108&amp;crop=smart&amp;auto=webp&amp;s=77289326ab498781d07888504d76a069b8ef40ea',\n",
       "      'width': 108},\n",
       "     {'height': 121,\n",
       "      'url': 'https://external-preview.redd.it/YbcBWZ1xOWKPyx2Fix_3NU5e596b9aFiFFLXmvJ2xaI.jpg?width=216&amp;crop=smart&amp;auto=webp&amp;s=d94ef543fe821d154f27432a56c768a44db910e6',\n",
       "      'width': 216},\n",
       "     {'height': 180,\n",
       "      'url': 'https://external-preview.redd.it/YbcBWZ1xOWKPyx2Fix_3NU5e596b9aFiFFLXmvJ2xaI.jpg?width=320&amp;crop=smart&amp;auto=webp&amp;s=c33cbaa386ef7e25c3a5756d31759884a915ef5e',\n",
       "      'width': 320},\n",
       "     {'height': 360,\n",
       "      'url': 'https://external-preview.redd.it/YbcBWZ1xOWKPyx2Fix_3NU5e596b9aFiFFLXmvJ2xaI.jpg?width=640&amp;crop=smart&amp;auto=webp&amp;s=25ef69d9717e3c77b0ce6ced17f3869177ac113a',\n",
       "      'width': 640},\n",
       "     {'height': 540,\n",
       "      'url': 'https://external-preview.redd.it/YbcBWZ1xOWKPyx2Fix_3NU5e596b9aFiFFLXmvJ2xaI.jpg?width=960&amp;crop=smart&amp;auto=webp&amp;s=3df734b5a19135ec1c9f1c3eeb7c8e02420a1f79',\n",
       "      'width': 960},\n",
       "     {'height': 607,\n",
       "      'url': 'https://external-preview.redd.it/YbcBWZ1xOWKPyx2Fix_3NU5e596b9aFiFFLXmvJ2xaI.jpg?width=1080&amp;crop=smart&amp;auto=webp&amp;s=f98b3a6e5efea89a591913b176626c292580d900',\n",
       "      'width': 1080}],\n",
       "    'source': {'height': 720,\n",
       "     'url': 'https://external-preview.redd.it/YbcBWZ1xOWKPyx2Fix_3NU5e596b9aFiFFLXmvJ2xaI.jpg?auto=webp&amp;s=4a44eef60e8ff06115c7fc2be60414d076def383',\n",
       "     'width': 1280},\n",
       "    'variants': {}}]},\n",
       " 'pwls': 6,\n",
       " 'retrieved_on': 1554215999,\n",
       " 'score': 1,\n",
       " 'secure_media': {'oembed': {'description': 'Check out this video on Streamable using your phone, tablet or desktop.',\n",
       "   'height': 338,\n",
       "   'html': '&lt;iframe class=\"embedly-embed\" src=\"https://cdn.embedly.com/widgets/media.html?src=https%3A%2F%2Fstreamable.com%2Fo%2F7ynt7&amp;url=https%3A%2F%2Fstreamable.com%2F7ynt7&amp;image=https%3A%2F%2Fcdn-b-east.streamable.com%2Fimage%2F7ynt7.jpg%3Ftoken%3DoYqUCUQfWpMEmBaT3fNhnw%26expires%3D1554223142&amp;key=ed8fa8699ce04833838e66ce79ba05f1&amp;type=text%2Fhtml&amp;schema=streamable\" width=\"600\" height=\"338\" scrolling=\"no\" frameborder=\"0\" allow=\"autoplay; fullscreen\" allowfullscreen=\"true\"&gt;&lt;/iframe&gt;',\n",
       "   'provider_name': 'Streamable',\n",
       "   'provider_url': 'https://streamable.com',\n",
       "   'thumbnail_height': 720,\n",
       "   'thumbnail_url': 'https://cdn-b-east.streamable.com/image/7ynt7.jpg?token=oYqUCUQfWpMEmBaT3fNhnw&amp;expires=1554223142',\n",
       "   'thumbnail_width': 1280,\n",
       "   'title': 'Streamable - free video publishing',\n",
       "   'type': 'video',\n",
       "   'version': '1.0',\n",
       "   'width': 600},\n",
       "  'type': 'streamable.com'},\n",
       " 'secure_media_embed': {'content': '&lt;iframe class=\"embedly-embed\" src=\"https://cdn.embedly.com/widgets/media.html?src=https%3A%2F%2Fstreamable.com%2Fo%2F7ynt7&amp;url=https%3A%2F%2Fstreamable.com%2F7ynt7&amp;image=https%3A%2F%2Fcdn-b-east.streamable.com%2Fimage%2F7ynt7.jpg%3Ftoken%3DoYqUCUQfWpMEmBaT3fNhnw%26expires%3D1554223142&amp;key=ed8fa8699ce04833838e66ce79ba05f1&amp;type=text%2Fhtml&amp;schema=streamable\" width=\"600\" height=\"338\" scrolling=\"no\" frameborder=\"0\" allow=\"autoplay; fullscreen\" allowfullscreen=\"true\"&gt;&lt;/iframe&gt;',\n",
       "  'height': 338,\n",
       "  'media_domain_url': 'https://www.redditmedia.com/mediaembed/b8k2m6',\n",
       "  'scrolling': False,\n",
       "  'width': 600},\n",
       " 'selftext': '',\n",
       " 'send_replies': False,\n",
       " 'spoiler': False,\n",
       " 'stickied': False,\n",
       " 'subreddit': 'nba',\n",
       " 'subreddit_id': 't5_2qo4s',\n",
       " 'subreddit_subscribers': 2086493,\n",
       " 'subreddit_type': 'public',\n",
       " 'thumbnail': 'image',\n",
       " 'thumbnail_height': 78,\n",
       " 'thumbnail_width': 140,\n",
       " 'title': 'Brook Lopez turned 31 yesterday and received a special song and cake from workers at Barclays Center',\n",
       " 'url': 'https://streamable.com/7ynt7',\n",
       " 'whitelist_status': 'all_ads',\n",
       " 'wls': 6}"
      ]
     },
     "execution_count": 5,
     "metadata": {},
     "output_type": "execute_result"
    }
   ],
   "source": [
    "pushshift_response['data'][0]"
   ]
  },
  {
   "cell_type": "markdown",
   "metadata": {
    "slideshow": {
     "slide_type": "subslide"
    }
   },
   "source": [
    "#### Parse the JSON into a DataFrame"
   ]
  },
  {
   "cell_type": "code",
   "execution_count": 11,
   "metadata": {},
   "outputs": [
    {
     "data": {
      "text/html": [
       "<div>\n",
       "<style scoped>\n",
       "    .dataframe tbody tr th:only-of-type {\n",
       "        vertical-align: middle;\n",
       "    }\n",
       "\n",
       "    .dataframe tbody tr th {\n",
       "        vertical-align: top;\n",
       "    }\n",
       "\n",
       "    .dataframe thead th {\n",
       "        text-align: right;\n",
       "    }\n",
       "</style>\n",
       "<table border=\"1\" class=\"dataframe\">\n",
       "  <thead>\n",
       "    <tr style=\"text-align: right;\">\n",
       "      <th></th>\n",
       "      <th>user</th>\n",
       "      <th>flair</th>\n",
       "      <th>year_month</th>\n",
       "      <th>sentences</th>\n",
       "    </tr>\n",
       "  </thead>\n",
       "  <tbody>\n",
       "    <tr>\n",
       "      <th>0</th>\n",
       "      <td>nymusix</td>\n",
       "      <td>Warriors</td>\n",
       "      <td>201710</td>\n",
       "      <td>jokic with an absolutely beautiful dime [highlight].</td>\n",
       "    </tr>\n",
       "    <tr>\n",
       "      <th>1</th>\n",
       "      <td>Hustle_Marsalis</td>\n",
       "      <td>Pelicans</td>\n",
       "      <td>201710</td>\n",
       "      <td>also espn and si ranking player like jokic ahead of him.</td>\n",
       "    </tr>\n",
       "    <tr>\n",
       "      <th>2</th>\n",
       "      <td>21sewage</td>\n",
       "      <td>Nuggets</td>\n",
       "      <td>201710</td>\n",
       "      <td>[wind] jokic on westbrook’s shoulder check: “i flopped.”.</td>\n",
       "    </tr>\n",
       "  </tbody>\n",
       "</table>\n",
       "</div>"
      ],
      "text/plain": [
       "              user     flair  year_month  \\\n",
       "0          nymusix  Warriors      201710   \n",
       "1  Hustle_Marsalis  Pelicans      201710   \n",
       "2         21sewage   Nuggets      201710   \n",
       "\n",
       "                                                   sentences  \n",
       "0       jokic with an absolutely beautiful dime [highlight].  \n",
       "1   also espn and si ranking player like jokic ahead of him.  \n",
       "2  [wind] jokic on westbrook’s shoulder check: “i flopped.”.  "
      ]
     },
     "execution_count": 11,
     "metadata": {},
     "output_type": "execute_result"
    }
   ],
   "source": [
    "sample_df = pd.read_csv('d:/data/sentiment_sports/combined_months_ner_sentiment_2017.tsv', nrows=100, sep='\\t')\n",
    "sample_df.head(3)[['user', 'flair', 'year_month', 'sentences']]"
   ]
  },
  {
   "cell_type": "markdown",
   "metadata": {
    "slideshow": {
     "slide_type": "subslide"
    }
   },
   "source": [
    "#### Get other performance data from a variety of websites"
   ]
  },
  {
   "cell_type": "code",
   "execution_count": 9,
   "metadata": {},
   "outputs": [
    {
     "data": {
      "text/html": [
       "<div>\n",
       "<style scoped>\n",
       "    .dataframe tbody tr th:only-of-type {\n",
       "        vertical-align: middle;\n",
       "    }\n",
       "\n",
       "    .dataframe tbody tr th {\n",
       "        vertical-align: top;\n",
       "    }\n",
       "\n",
       "    .dataframe thead th {\n",
       "        text-align: right;\n",
       "    }\n",
       "</style>\n",
       "<table border=\"1\" class=\"dataframe\">\n",
       "  <thead>\n",
       "    <tr style=\"text-align: right;\">\n",
       "      <th></th>\n",
       "      <th>Player</th>\n",
       "      <th>season</th>\n",
       "      <th>salary</th>\n",
       "      <th>PPG</th>\n",
       "      <th>MP</th>\n",
       "      <th>ThreePP</th>\n",
       "      <th>TRB</th>\n",
       "      <th>PER</th>\n",
       "    </tr>\n",
       "  </thead>\n",
       "  <tbody>\n",
       "    <tr>\n",
       "      <th>1015006</th>\n",
       "      <td>zaza pachulia</td>\n",
       "      <td>2015</td>\n",
       "      <td>5200000.0</td>\n",
       "      <td>8.6</td>\n",
       "      <td>2004.0</td>\n",
       "      <td>0.000</td>\n",
       "      <td>9.4</td>\n",
       "      <td>16.2</td>\n",
       "    </tr>\n",
       "    <tr>\n",
       "      <th>731209</th>\n",
       "      <td>matthew dellavedova</td>\n",
       "      <td>2017</td>\n",
       "      <td>9607500.0</td>\n",
       "      <td>4.3</td>\n",
       "      <td>712.0</td>\n",
       "      <td>0.372</td>\n",
       "      <td>1.7</td>\n",
       "      <td>8.6</td>\n",
       "    </tr>\n",
       "    <tr>\n",
       "      <th>797884</th>\n",
       "      <td>paul george</td>\n",
       "      <td>2013</td>\n",
       "      <td>3282003.0</td>\n",
       "      <td>21.7</td>\n",
       "      <td>2898.0</td>\n",
       "      <td>0.364</td>\n",
       "      <td>6.8</td>\n",
       "      <td>20.1</td>\n",
       "    </tr>\n",
       "  </tbody>\n",
       "</table>\n",
       "</div>"
      ],
      "text/plain": [
       "                      Player  season     salary   PPG      MP  ThreePP  TRB  \\\n",
       "1015006        zaza pachulia    2015  5200000.0   8.6  2004.0    0.000  9.4   \n",
       "731209   matthew dellavedova    2017  9607500.0   4.3   712.0    0.372  1.7   \n",
       "797884           paul george    2013  3282003.0  21.7  2898.0    0.364  6.8   \n",
       "\n",
       "          PER  \n",
       "1015006  16.2  \n",
       "731209    8.6  \n",
       "797884   20.1  "
      ]
     },
     "execution_count": 9,
     "metadata": {},
     "output_type": "execute_result"
    }
   ],
   "source": [
    "user_player_df = (pd.read_csv('c:/Users/map22/Google Drive/sentiment_nba/nba_user_player_sentiment.tsv', sep='\\t')\n",
    "                    .rename(columns={'compound_mean':'mean_sentiment'}))\n",
    "user_player_df[['Player', 'season', 'salary', 'PPG', 'MP', 'ThreePP', 'TRB', 'PER']].sample(3)"
   ]
  },
  {
   "cell_type": "markdown",
   "metadata": {
    "slideshow": {
     "slide_type": "slide"
    }
   },
   "source": [
    "## II. Calculate sentiment towards players\n",
    "### Part I: Figure out which players the comments are about\n",
    "### Part II. Quantify sentiment towards the player"
   ]
  },
  {
   "cell_type": "markdown",
   "metadata": {
    "slideshow": {
     "slide_type": "subslide"
    }
   },
   "source": [
    "### Named entity recognition (NER): identifying named entities in text"
   ]
  },
  {
   "cell_type": "markdown",
   "metadata": {
    "slideshow": {
     "slide_type": "fragment"
    }
   },
   "source": [
    "#### Approach 1: Use Named entity recognition to identify players\n",
    "Stanford has a nice NER package I recommend"
   ]
  },
  {
   "cell_type": "markdown",
   "metadata": {
    "slideshow": {
     "slide_type": "notes"
    }
   },
   "source": [
    "\n",
    "Models go about this different ways. Some try to classify each token, with properties about the token (capitalization, place in sentence). Others like CRF use contextual cues from other words. There are even deep neural nets for this. I used Stanford's off the shelf NER."
   ]
  },
  {
   "cell_type": "code",
   "execution_count": 16,
   "metadata": {
    "slideshow": {
     "slide_type": "fragment"
    }
   },
   "outputs": [
    {
     "data": {
      "text/plain": [
       "[('Isaiah', 'PERSON'),\n",
       " ('Thoms', 'PERSON'),\n",
       " ('is', 'O'),\n",
       " ('the', 'O'),\n",
       " ('worst.', 'O')]"
      ]
     },
     "execution_count": 16,
     "metadata": {},
     "output_type": "execute_result"
    }
   ],
   "source": [
    "from sner import Ner\n",
    "pos_tagger = Ner(host='localhost',port=9199)\n",
    "pos_tagger.get_entities('Isaiah Thomas is the worst.' )"
   ]
  },
  {
   "cell_type": "markdown",
   "metadata": {
    "slideshow": {
     "slide_type": "subslide"
    }
   },
   "source": [
    "#### Doesn't always work"
   ]
  },
  {
   "cell_type": "code",
   "execution_count": 21,
   "metadata": {},
   "outputs": [
    {
     "data": {
      "text/plain": [
       "[('Cedi', 'O'), ('is', 'O'), ('the', 'O'), ('GOAT!', 'O')]"
      ]
     },
     "execution_count": 21,
     "metadata": {},
     "output_type": "execute_result"
    }
   ],
   "source": [
    "pos_tagger.get_entities('Cedi is the GOAT!' )"
   ]
  },
  {
   "cell_type": "markdown",
   "metadata": {
    "slideshow": {
     "slide_type": "slide"
    }
   },
   "source": [
    "#### Approach 2: Use a known list of players"
   ]
  },
  {
   "cell_type": "markdown",
   "metadata": {
    "slideshow": {
     "slide_type": "notes"
    }
   },
   "source": [
    "We already know the players we care about, so let's extract those.\n",
    "Have both upper and lower case player names. Example data"
   ]
  },
  {
   "cell_type": "code",
   "execution_count": 36,
   "metadata": {
    "slideshow": {
     "slide_type": "subslide"
    }
   },
   "outputs": [],
   "source": [
    "# Use a set for fast lookup\n",
    "PLAYER_SET = {'cedi', 'love', 'cavs', 'lebron'}\n",
    "toy_df = pd.DataFrame({'comment':['Cedi is the GOAT',\n",
    "                                  'LeBron told Love to fit in, not fit out']})\n"
   ]
  },
  {
   "cell_type": "markdown",
   "metadata": {
    "slideshow": {
     "slide_type": "subslide"
    }
   },
   "source": [
    "#### Find string matches for names"
   ]
  },
  {
   "cell_type": "code",
   "execution_count": 37,
   "metadata": {},
   "outputs": [
    {
     "data": {
      "text/html": [
       "<div>\n",
       "<style scoped>\n",
       "    .dataframe tbody tr th:only-of-type {\n",
       "        vertical-align: middle;\n",
       "    }\n",
       "\n",
       "    .dataframe tbody tr th {\n",
       "        vertical-align: top;\n",
       "    }\n",
       "\n",
       "    .dataframe thead th {\n",
       "        text-align: right;\n",
       "    }\n",
       "</style>\n",
       "<table border=\"1\" class=\"dataframe\">\n",
       "  <thead>\n",
       "    <tr style=\"text-align: right;\">\n",
       "      <th></th>\n",
       "      <th>comment</th>\n",
       "      <th>lower_entities</th>\n",
       "    </tr>\n",
       "  </thead>\n",
       "  <tbody>\n",
       "    <tr>\n",
       "      <th>0</th>\n",
       "      <td>cedi is the goat</td>\n",
       "      <td>[cedi]</td>\n",
       "    </tr>\n",
       "    <tr>\n",
       "      <th>1</th>\n",
       "      <td>lebron told love to fit in, not fit out</td>\n",
       "      <td>[lebron, love]</td>\n",
       "    </tr>\n",
       "  </tbody>\n",
       "</table>\n",
       "</div>"
      ],
      "text/plain": [
       "                                   comment  lower_entities\n",
       "0                         cedi is the goat          [cedi]\n",
       "1  lebron told love to fit in, not fit out  [lebron, love]"
      ]
     },
     "execution_count": 37,
     "metadata": {},
     "output_type": "execute_result"
    }
   ],
   "source": [
    "toy_df['comment'] = toy_df['comment'].str.lower()\n",
    "\n",
    "# tokenize sentence with split, and use filter to find named entities\n",
    "ner_filter = lambda sentence: [word for word in sentence.split() if word in PLAYER_SET]\n",
    "toy_df['lower_entities'] = toy_df['comment'].apply(ner_filter)\n",
    "toy_df"
   ]
  },
  {
   "cell_type": "markdown",
   "metadata": {
    "slideshow": {
     "slide_type": "subslide"
    }
   },
   "source": [
    "### Evaluating unknown and known NER approaches\n",
    "\n",
    "I hand labeled ~50 random sentences from my dataset for the named entities, and calculated precision and recall within this dataset."
   ]
  },
  {
   "cell_type": "markdown",
   "metadata": {
    "slideshow": {
     "slide_type": "fragment"
    }
   },
   "source": [
    "|NER Model |Precision|Recall|\n",
    "|---|---|---|\n",
    "|Stanford| 87  | 46  |\n",
    "|Regex  | 99  | 88  |"
   ]
  },
  {
   "cell_type": "markdown",
   "metadata": {
    "slideshow": {
     "slide_type": "subslide"
    }
   },
   "source": [
    "### Doing string matching for known entities outperforms NER\n",
    "\n",
    "NER is useful when new entities are emerging constantly (news)"
   ]
  },
  {
   "cell_type": "markdown",
   "metadata": {
    "slideshow": {
     "slide_type": "slide"
    }
   },
   "source": [
    "## Part 2: Calculating sentiment"
   ]
  },
  {
   "cell_type": "markdown",
   "metadata": {
    "slideshow": {
     "slide_type": "fragment"
    }
   },
   "source": [
    "#### Sentiment: positive or negative feelings"
   ]
  },
  {
   "cell_type": "markdown",
   "metadata": {
    "slideshow": {
     "slide_type": "notes"
    }
   },
   "source": [
    "\n",
    "\n",
    "Generally, or towards a particular subject"
   ]
  },
  {
   "cell_type": "markdown",
   "metadata": {
    "slideshow": {
     "slide_type": "subslide"
    }
   },
   "source": [
    "#### Entity-sentiment models tie sentiment in a sentence directly to entities\n",
    "\n",
    "LeBron is better than Jordan"
   ]
  },
  {
   "cell_type": "markdown",
   "metadata": {
    "slideshow": {
     "slide_type": "notes"
    }
   },
   "source": [
    "In above sentence, entity-sentiment model could detect that LeBron gets high sentiment, and Jordan gets low sentiment."
   ]
  },
  {
   "cell_type": "markdown",
   "metadata": {
    "slideshow": {
     "slide_type": "fragment"
    }
   },
   "source": [
    "#### These models are slow"
   ]
  },
  {
   "cell_type": "markdown",
   "metadata": {
    "slideshow": {
     "slide_type": "subslide"
    }
   },
   "source": [
    "### Sentence-level sentiment models"
   ]
  },
  {
   "cell_type": "markdown",
   "metadata": {
    "slideshow": {
     "slide_type": "fragment"
    }
   },
   "source": [
    "#### 1. Filter out sentences with more than one entity"
   ]
  },
  {
   "cell_type": "markdown",
   "metadata": {
    "slideshow": {
     "slide_type": "fragment"
    }
   },
   "source": [
    "#### 2. Calculate sentiment for these sentences using VADER"
   ]
  },
  {
   "cell_type": "code",
   "execution_count": 10,
   "metadata": {
    "slideshow": {
     "slide_type": "fragment"
    }
   },
   "outputs": [
    {
     "data": {
      "text/plain": [
       "-2.2"
      ]
     },
     "execution_count": 10,
     "metadata": {},
     "output_type": "execute_result"
    }
   ],
   "source": [
    "from nltk.sentiment.vader import SentimentIntensityAnalyzer\n",
    "sid = SentimentIntensityAnalyzer()\n",
    "sid.lexicon['steal']"
   ]
  },
  {
   "cell_type": "markdown",
   "metadata": {
    "slideshow": {
     "slide_type": "subslide"
    }
   },
   "source": [
    "#### Update VADER labels for basketball"
   ]
  },
  {
   "cell_type": "code",
   "execution_count": null,
   "metadata": {},
   "outputs": [],
   "source": [
    "stat_words = ['steal', 'steals', 'block']\n",
    "sid.lexicon.update({word:0.0 for word in stat_words})"
   ]
  },
  {
   "cell_type": "markdown",
   "metadata": {
    "slideshow": {
     "slide_type": "subslide"
    }
   },
   "source": [
    "#### VADER outputs combined sentiment score for sentences"
   ]
  },
  {
   "cell_type": "code",
   "execution_count": 5,
   "metadata": {},
   "outputs": [
    {
     "data": {
      "text/plain": [
       "{'neg': 0.0, 'neu': 0.4, 'pos': 0.6, 'compound': 0.6696}"
      ]
     },
     "execution_count": 5,
     "metadata": {},
     "output_type": "execute_result"
    }
   ],
   "source": [
    "sid.polarity_scores('Cedi is the best!')"
   ]
  },
  {
   "cell_type": "markdown",
   "metadata": {
    "slideshow": {
     "slide_type": "slide"
    }
   },
   "source": [
    "### Explore sentiment data\n",
    "\n",
    "#### Aggregate data at level of (user, player, year)"
   ]
  },
  {
   "cell_type": "code",
   "execution_count": 23,
   "metadata": {},
   "outputs": [
    {
     "data": {
      "text/html": [
       "<div>\n",
       "<style scoped>\n",
       "    .dataframe tbody tr th:only-of-type {\n",
       "        vertical-align: middle;\n",
       "    }\n",
       "\n",
       "    .dataframe tbody tr th {\n",
       "        vertical-align: top;\n",
       "    }\n",
       "\n",
       "    .dataframe thead th {\n",
       "        text-align: right;\n",
       "    }\n",
       "</style>\n",
       "<table border=\"1\" class=\"dataframe\">\n",
       "  <thead>\n",
       "    <tr style=\"text-align: right;\">\n",
       "      <th></th>\n",
       "      <th>user</th>\n",
       "      <th>Player</th>\n",
       "      <th>season</th>\n",
       "      <th>comment_count</th>\n",
       "      <th>mean_sentiment</th>\n",
       "    </tr>\n",
       "  </thead>\n",
       "  <tbody>\n",
       "    <tr>\n",
       "      <th>4266</th>\n",
       "      <td>dipset4444</td>\n",
       "      <td>al horford</td>\n",
       "      <td>2016</td>\n",
       "      <td>1</td>\n",
       "      <td>0.0000</td>\n",
       "    </tr>\n",
       "    <tr>\n",
       "      <th>9767</th>\n",
       "      <td>TheMagnet69</td>\n",
       "      <td>alexey shved</td>\n",
       "      <td>2017</td>\n",
       "      <td>1</td>\n",
       "      <td>0.0000</td>\n",
       "    </tr>\n",
       "    <tr>\n",
       "      <th>5149</th>\n",
       "      <td>redsnake1377</td>\n",
       "      <td>al horford</td>\n",
       "      <td>2016</td>\n",
       "      <td>9</td>\n",
       "      <td>0.0475</td>\n",
       "    </tr>\n",
       "  </tbody>\n",
       "</table>\n",
       "</div>"
      ],
      "text/plain": [
       "              user        Player  season  comment_count  mean_sentiment\n",
       "4266    dipset4444    al horford    2016              1          0.0000\n",
       "9767   TheMagnet69  alexey shved    2017              1          0.0000\n",
       "5149  redsnake1377    al horford    2016              9          0.0475"
      ]
     },
     "execution_count": 23,
     "metadata": {},
     "output_type": "execute_result"
    }
   ],
   "source": [
    "user_player_df[['user', 'Player', 'season', 'comment_count', 'mean_sentiment']].sample(3)"
   ]
  },
  {
   "cell_type": "markdown",
   "metadata": {
    "slideshow": {
     "slide_type": "subslide"
    }
   },
   "source": [
    "#### Most people comment rarely\n",
    "#### Sentiment is skewed positive"
   ]
  },
  {
   "cell_type": "code",
   "execution_count": 60,
   "metadata": {},
   "outputs": [
    {
     "data": {
      "text/plain": [
       "Text(0.5,0,'Mean sentiment towards player')"
      ]
     },
     "execution_count": 60,
     "metadata": {},
     "output_type": "execute_result"
    },
    {
     "data": {
      "image/png": "[encoded data removed]",
      "text/plain": [
       "<matplotlib.figure.Figure at 0x23085e31358>"
      ]
     },
     "metadata": {},
     "output_type": "display_data"
    }
   ],
   "source": [
    "fs = 16\n",
    "fig, [ax1, ax2] = plt.subplots(1,2, figsize =[12,6])\n",
    "ax1.bar(np.arange(0.5, 10.5, 1),user_player_df.comment_count.value_counts().head(10)/ user_player_df.shape[0]);\n",
    "ax1.set_ylabel('Percent of user-comment pairs',fontsize =fs)\n",
    "ax1.set_xlabel('Number of comments', fontsize =fs)\n",
    "sentiment_hist, sentiment_bins = np.histogram(user_player_df['mean_sentiment'], bins = np.arange(-1, 1, 0.05))\n",
    "sentiment_hist = sentiment_hist / sentiment_hist.sum()\n",
    "ax2.bar(sentiment_bins[:-1], sentiment_hist, 0.05)\n",
    "ax2.set_xlabel('Mean sentiment towards player', fontsize=fs)"
   ]
  },
  {
   "cell_type": "markdown",
   "metadata": {
    "slideshow": {
     "slide_type": "subslide"
    }
   },
   "source": [
    "#### No clear difference between white and black players"
   ]
  },
  {
   "cell_type": "code",
   "execution_count": 38,
   "metadata": {},
   "outputs": [
    {
     "name": "stdout",
     "output_type": "stream",
     "text": [
      "Standard deviation of sentiment for high comment players: 0.052963271203892465\n"
     ]
    },
    {
     "data": {
      "image/png": "[encoded data removed]",
      "text/plain": [
       "<matplotlib.figure.Figure at 0x2028533d5f8>"
      ]
     },
     "metadata": {},
     "output_type": "display_data"
    }
   ],
   "source": [
    "Where code for plotting would be\n",
    "print('Standard deviation of sentiment for high comment players: ' + str(graph_df['mean_sentiment'].std()))"
   ]
  },
  {
   "cell_type": "markdown",
   "metadata": {
    "slideshow": {
     "slide_type": "slide"
    }
   },
   "source": [
    "## III. Using regression to understand factors"
   ]
  },
  {
   "cell_type": "markdown",
   "metadata": {
    "slideshow": {
     "slide_type": "subslide"
    }
   },
   "source": [
    "#### In machine learning, often care about predictive performance of model\n",
    "\n",
    "Coefficient sizes and significance is interesting for explainability, but not essential"
   ]
  },
  {
   "cell_type": "markdown",
   "metadata": {
    "slideshow": {
     "slide_type": "subslide"
    }
   },
   "source": [
    "#### In economics or social science research, magnitude and significance of coefficients is most important\n",
    "\n",
    "Predictive performance is less so"
   ]
  },
  {
   "cell_type": "markdown",
   "metadata": {
    "slideshow": {
     "slide_type": "subslide"
    }
   },
   "source": [
    "#### Reminder of what data looks like"
   ]
  },
  {
   "cell_type": "code",
   "execution_count": 25,
   "metadata": {},
   "outputs": [
    {
     "data": {
      "text/html": [
       "<div>\n",
       "<style scoped>\n",
       "    .dataframe tbody tr th:only-of-type {\n",
       "        vertical-align: middle;\n",
       "    }\n",
       "\n",
       "    .dataframe tbody tr th {\n",
       "        vertical-align: top;\n",
       "    }\n",
       "\n",
       "    .dataframe thead th {\n",
       "        text-align: right;\n",
       "    }\n",
       "</style>\n",
       "<table border=\"1\" class=\"dataframe\">\n",
       "  <thead>\n",
       "    <tr style=\"text-align: right;\">\n",
       "      <th></th>\n",
       "      <th>user</th>\n",
       "      <th>Player</th>\n",
       "      <th>season</th>\n",
       "      <th>mean_sentiment</th>\n",
       "      <th>PPG</th>\n",
       "      <th>MP</th>\n",
       "      <th>TRB</th>\n",
       "    </tr>\n",
       "  </thead>\n",
       "  <tbody>\n",
       "    <tr>\n",
       "      <th>4863</th>\n",
       "      <td>mayence</td>\n",
       "      <td>al horford</td>\n",
       "      <td>2017</td>\n",
       "      <td>0.000000</td>\n",
       "      <td>12.9</td>\n",
       "      <td>2277.0</td>\n",
       "      <td>7.4</td>\n",
       "    </tr>\n",
       "    <tr>\n",
       "      <th>9569</th>\n",
       "      <td>sargo13</td>\n",
       "      <td>alex len</td>\n",
       "      <td>2017</td>\n",
       "      <td>-0.251067</td>\n",
       "      <td>8.5</td>\n",
       "      <td>1395.0</td>\n",
       "      <td>7.5</td>\n",
       "    </tr>\n",
       "  </tbody>\n",
       "</table>\n",
       "</div>"
      ],
      "text/plain": [
       "         user      Player  season  mean_sentiment   PPG      MP  TRB\n",
       "4863  mayence  al horford    2017        0.000000  12.9  2277.0  7.4\n",
       "9569  sargo13    alex len    2017       -0.251067   8.5  1395.0  7.5"
      ]
     },
     "execution_count": 25,
     "metadata": {},
     "output_type": "execute_result"
    }
   ],
   "source": [
    "user_player_df[['user', 'Player',  'season',  'mean_sentiment', 'PPG', 'MP', 'TRB']].sample(2)"
   ]
  },
  {
   "cell_type": "markdown",
   "metadata": {
    "slideshow": {
     "slide_type": "subslide"
    }
   },
   "source": [
    "### Simple model: two covariates"
   ]
  },
  {
   "cell_type": "code",
   "execution_count": 4,
   "metadata": {
    "slideshow": {
     "slide_type": "fragment"
    }
   },
   "outputs": [],
   "source": [
    "model = smf.wls( formula = 'compound_mean ~ MP + PPG',\n",
    "                 data = nba_df,\n",
    "                 weights = 1).fit()"
   ]
  },
  {
   "cell_type": "code",
   "execution_count": 4,
   "metadata": {
    "slideshow": {
     "slide_type": "subslide"
    }
   },
   "outputs": [
    {
     "data": {
      "text/html": [
       "<table class=\"simpletable\">\n",
       "<caption>WLS Regression Results</caption>\n",
       "<tr>\n",
       "  <th>Dep. Variable:</th>      <td>compound_mean</td>  <th>  R-squared:         </th>  <td>   0.000</td>  \n",
       "</tr>\n",
       "<tr>\n",
       "  <th>Model:</th>                   <td>WLS</td>       <th>  Adj. R-squared:    </th>  <td>   0.000</td>  \n",
       "</tr>\n",
       "<tr>\n",
       "  <th>Method:</th>             <td>Least Squares</td>  <th>  F-statistic:       </th>  <td>   103.5</td>  \n",
       "</tr>\n",
       "<tr>\n",
       "  <th>Date:</th>             <td>Fri, 01 Mar 2019</td> <th>  Prob (F-statistic):</th>  <td>1.10e-45</td>  \n",
       "</tr>\n",
       "<tr>\n",
       "  <th>Time:</th>                 <td>20:36:54</td>     <th>  Log-Likelihood:    </th> <td>-2.6926e+05</td>\n",
       "</tr>\n",
       "<tr>\n",
       "  <th>No. Observations:</th>      <td>848401</td>      <th>  AIC:               </th>  <td>5.385e+05</td> \n",
       "</tr>\n",
       "<tr>\n",
       "  <th>Df Residuals:</th>          <td>848398</td>      <th>  BIC:               </th>  <td>5.386e+05</td> \n",
       "</tr>\n",
       "<tr>\n",
       "  <th>Df Model:</th>              <td>     2</td>      <th>                     </th>      <td> </td>     \n",
       "</tr>\n",
       "<tr>\n",
       "  <th>Covariance Type:</th>      <td>nonrobust</td>    <th>                     </th>      <td> </td>     \n",
       "</tr>\n",
       "</table>\n",
       "<table class=\"simpletable\">\n",
       "<tr>\n",
       "      <td></td>         <th>coef</th>     <th>std err</th>      <th>t</th>      <th>P>|t|</th>  <th>[0.025</th>    <th>0.975]</th>  \n",
       "</tr>\n",
       "<tr>\n",
       "  <th>Intercept</th> <td>    0.0700</td> <td>    0.001</td> <td>   73.923</td> <td> 0.000</td> <td>    0.068</td> <td>    0.072</td>\n",
       "</tr>\n",
       "<tr>\n",
       "  <th>MP</th>        <td>-1.125e-06</td> <td> 6.52e-07</td> <td>   -1.726</td> <td> 0.084</td> <td> -2.4e-06</td> <td> 1.53e-07</td>\n",
       "</tr>\n",
       "<tr>\n",
       "  <th>PPG</th>       <td>    0.0007</td> <td> 6.46e-05</td> <td>   11.124</td> <td> 0.000</td> <td>    0.001</td> <td>    0.001</td>\n",
       "</tr>\n",
       "</table>\n",
       "<table class=\"simpletable\">\n",
       "<tr>\n",
       "  <th>Omnibus:</th>       <td>1033.683</td> <th>  Durbin-Watson:     </th> <td>   1.981</td> \n",
       "</tr>\n",
       "<tr>\n",
       "  <th>Prob(Omnibus):</th>  <td> 0.000</td>  <th>  Jarque-Bera (JB):  </th> <td>1157.941</td> \n",
       "</tr>\n",
       "<tr>\n",
       "  <th>Skew:</th>           <td>-0.044</td>  <th>  Prob(JB):          </th> <td>3.60e-252</td>\n",
       "</tr>\n",
       "<tr>\n",
       "  <th>Kurtosis:</th>       <td> 3.159</td>  <th>  Cond. No.          </th> <td>5.49e+03</td> \n",
       "</tr>\n",
       "</table>"
      ],
      "text/plain": [
       "<class 'statsmodels.iolib.summary.Summary'>\n",
       "\"\"\"\n",
       "                            WLS Regression Results                            \n",
       "==============================================================================\n",
       "Dep. Variable:          compound_mean   R-squared:                       0.000\n",
       "Model:                            WLS   Adj. R-squared:                  0.000\n",
       "Method:                 Least Squares   F-statistic:                     103.5\n",
       "Date:                Fri, 01 Mar 2019   Prob (F-statistic):           1.10e-45\n",
       "Time:                        20:36:54   Log-Likelihood:            -2.6926e+05\n",
       "No. Observations:              848401   AIC:                         5.385e+05\n",
       "Df Residuals:                  848398   BIC:                         5.386e+05\n",
       "Df Model:                           2                                         \n",
       "Covariance Type:            nonrobust                                         \n",
       "==============================================================================\n",
       "                 coef    std err          t      P>|t|      [0.025      0.975]\n",
       "------------------------------------------------------------------------------\n",
       "Intercept      0.0700      0.001     73.923      0.000       0.068       0.072\n",
       "MP         -1.125e-06   6.52e-07     -1.726      0.084    -2.4e-06    1.53e-07\n",
       "PPG            0.0007   6.46e-05     11.124      0.000       0.001       0.001\n",
       "==============================================================================\n",
       "Omnibus:                     1033.683   Durbin-Watson:                   1.981\n",
       "Prob(Omnibus):                  0.000   Jarque-Bera (JB):             1157.941\n",
       "Skew:                          -0.044   Prob(JB):                    3.60e-252\n",
       "Kurtosis:                       3.159   Cond. No.                     5.49e+03\n",
       "==============================================================================\n",
       "\n",
       "Warnings:\n",
       "[1] Standard Errors assume that the covariance matrix of the errors is correctly specified.\n",
       "[2] The condition number is large, 5.49e+03. This might indicate that there are\n",
       "strong multicollinearity or other numerical problems.\n",
       "\"\"\""
      ]
     },
     "execution_count": 4,
     "metadata": {},
     "output_type": "execute_result"
    }
   ],
   "source": [
    "model.summary()"
   ]
  },
  {
   "cell_type": "markdown",
   "metadata": {
    "slideshow": {
     "slide_type": "subslide"
    }
   },
   "source": [
    "#### Full model"
   ]
  },
  {
   "cell_type": "code",
   "execution_count": 8,
   "metadata": {
    "slideshow": {
     "slide_type": "-"
    }
   },
   "outputs": [],
   "source": [
    "user_model = smf.wls( formula = 'compound_mean ~ MP + ThreePP + DWS + TRBP + FTr + ASTP + BLKP + STLP + TOVP' \\\n",
    "                           ' + C(height_dummies) + rookie + youth + oldness + Wins + ' \\\n",
    "                           'team_match + C(Race) * demean_clinton +total_population + C(Race) * demean_PPG',\n",
    "                data = nba_df,\n",
    "               weights = 1 \n",
    "               ).fit()"
   ]
  },
  {
   "cell_type": "code",
   "execution_count": 9,
   "metadata": {
    "slideshow": {
     "slide_type": "subslide"
    }
   },
   "outputs": [
    {
     "data": {
      "text/html": [
       "<table class=\"simpletable\">\n",
       "<caption>WLS Regression Results</caption>\n",
       "<tr>\n",
       "  <th>Dep. Variable:</th>      <td>compound_mean</td>  <th>  R-squared:         </th>  <td>   0.002</td>  \n",
       "</tr>\n",
       "<tr>\n",
       "  <th>Model:</th>                   <td>WLS</td>       <th>  Adj. R-squared:    </th>  <td>   0.002</td>  \n",
       "</tr>\n",
       "<tr>\n",
       "  <th>Method:</th>             <td>Least Squares</td>  <th>  F-statistic:       </th>  <td>   55.70</td>  \n",
       "</tr>\n",
       "<tr>\n",
       "  <th>Date:</th>             <td>Mon, 01 Apr 2019</td> <th>  Prob (F-statistic):</th>  <td>2.62e-245</td> \n",
       "</tr>\n",
       "<tr>\n",
       "  <th>Time:</th>                 <td>20:00:32</td>     <th>  Log-Likelihood:    </th> <td>-2.3957e+05</td>\n",
       "</tr>\n",
       "<tr>\n",
       "  <th>No. Observations:</th>      <td>758575</td>      <th>  AIC:               </th>  <td>4.792e+05</td> \n",
       "</tr>\n",
       "<tr>\n",
       "  <th>Df Residuals:</th>          <td>758552</td>      <th>  BIC:               </th>  <td>4.795e+05</td> \n",
       "</tr>\n",
       "<tr>\n",
       "  <th>Df Model:</th>              <td>    22</td>      <th>                     </th>      <td> </td>     \n",
       "</tr>\n",
       "<tr>\n",
       "  <th>Covariance Type:</th>      <td>nonrobust</td>    <th>                     </th>      <td> </td>     \n",
       "</tr>\n",
       "</table>\n",
       "<table class=\"simpletable\">\n",
       "<tr>\n",
       "               <td></td>                  <th>coef</th>     <th>std err</th>      <th>t</th>      <th>P>|t|</th>  <th>[0.025</th>    <th>0.975]</th>  \n",
       "</tr>\n",
       "<tr>\n",
       "  <th>Intercept</th>                   <td>    0.0866</td> <td>    0.004</td> <td>   22.578</td> <td> 0.000</td> <td>    0.079</td> <td>    0.094</td>\n",
       "</tr>\n",
       "<tr>\n",
       "  <th>C(height_dummies)[T.short]</th>  <td>    0.0061</td> <td>    0.002</td> <td>    2.824</td> <td> 0.005</td> <td>    0.002</td> <td>    0.010</td>\n",
       "</tr>\n",
       "<tr>\n",
       "  <th>C(height_dummies)[T.tall]</th>   <td>  4.16e-05</td> <td>    0.001</td> <td>    0.037</td> <td> 0.970</td> <td>   -0.002</td> <td>    0.002</td>\n",
       "</tr>\n",
       "<tr>\n",
       "  <th>rookie[T.True]</th>              <td>    0.0205</td> <td>    0.002</td> <td>   12.878</td> <td> 0.000</td> <td>    0.017</td> <td>    0.024</td>\n",
       "</tr>\n",
       "<tr>\n",
       "  <th>team_match[T.True]</th>          <td>    0.0042</td> <td>    0.001</td> <td>    4.521</td> <td> 0.000</td> <td>    0.002</td> <td>    0.006</td>\n",
       "</tr>\n",
       "<tr>\n",
       "  <th>C(Race)[T.W]</th>                <td>    0.0072</td> <td>    0.002</td> <td>    4.792</td> <td> 0.000</td> <td>    0.004</td> <td>    0.010</td>\n",
       "</tr>\n",
       "<tr>\n",
       "  <th>MP</th>                          <td>-4.747e-06</td> <td> 1.04e-06</td> <td>   -4.581</td> <td> 0.000</td> <td>-6.78e-06</td> <td>-2.72e-06</td>\n",
       "</tr>\n",
       "<tr>\n",
       "  <th>ThreePP</th>                     <td>    0.0080</td> <td>    0.004</td> <td>    2.225</td> <td> 0.026</td> <td>    0.001</td> <td>    0.015</td>\n",
       "</tr>\n",
       "<tr>\n",
       "  <th>DWS</th>                         <td>    0.0017</td> <td>    0.001</td> <td>    2.551</td> <td> 0.011</td> <td>    0.000</td> <td>    0.003</td>\n",
       "</tr>\n",
       "<tr>\n",
       "  <th>TRBP</th>                        <td>   -0.0005</td> <td>    0.000</td> <td>   -3.312</td> <td> 0.001</td> <td>   -0.001</td> <td>   -0.000</td>\n",
       "</tr>\n",
       "<tr>\n",
       "  <th>FTr</th>                         <td>   -0.0132</td> <td>    0.003</td> <td>   -4.293</td> <td> 0.000</td> <td>   -0.019</td> <td>   -0.007</td>\n",
       "</tr>\n",
       "<tr>\n",
       "  <th>ASTP</th>                        <td>   -0.0002</td> <td> 5.72e-05</td> <td>   -3.206</td> <td> 0.001</td> <td>   -0.000</td> <td>-7.13e-05</td>\n",
       "</tr>\n",
       "<tr>\n",
       "  <th>BLKP</th>                        <td>    0.0008</td> <td>    0.000</td> <td>    2.116</td> <td> 0.034</td> <td> 5.65e-05</td> <td>    0.001</td>\n",
       "</tr>\n",
       "<tr>\n",
       "  <th>STLP</th>                        <td>    0.0021</td> <td>    0.001</td> <td>    3.172</td> <td> 0.002</td> <td>    0.001</td> <td>    0.003</td>\n",
       "</tr>\n",
       "<tr>\n",
       "  <th>TOVP</th>                        <td>   -0.0003</td> <td>    0.000</td> <td>   -2.386</td> <td> 0.017</td> <td>   -0.001</td> <td>-5.01e-05</td>\n",
       "</tr>\n",
       "<tr>\n",
       "  <th>youth</th>                       <td>    0.0023</td> <td>    0.000</td> <td>    8.922</td> <td> 0.000</td> <td>    0.002</td> <td>    0.003</td>\n",
       "</tr>\n",
       "<tr>\n",
       "  <th>oldness</th>                     <td>    0.0012</td> <td>    0.000</td> <td>    7.159</td> <td> 0.000</td> <td>    0.001</td> <td>    0.002</td>\n",
       "</tr>\n",
       "<tr>\n",
       "  <th>Wins</th>                        <td>-6.033e-05</td> <td> 3.87e-05</td> <td>   -1.558</td> <td> 0.119</td> <td>   -0.000</td> <td> 1.56e-05</td>\n",
       "</tr>\n",
       "<tr>\n",
       "  <th>demean_clinton</th>              <td>    0.0077</td> <td>    0.003</td> <td>    3.043</td> <td> 0.002</td> <td>    0.003</td> <td>    0.013</td>\n",
       "</tr>\n",
       "<tr>\n",
       "  <th>C(Race)[T.W]:demean_clinton</th> <td>   -0.0022</td> <td>    0.005</td> <td>   -0.416</td> <td> 0.678</td> <td>   -0.013</td> <td>    0.008</td>\n",
       "</tr>\n",
       "<tr>\n",
       "  <th>total_population</th>            <td>-1.179e-10</td> <td> 9.45e-11</td> <td>   -1.248</td> <td> 0.212</td> <td>-3.03e-10</td> <td> 6.73e-11</td>\n",
       "</tr>\n",
       "<tr>\n",
       "  <th>demean_PPG</th>                  <td>    0.0013</td> <td>    0.000</td> <td>   12.670</td> <td> 0.000</td> <td>    0.001</td> <td>    0.001</td>\n",
       "</tr>\n",
       "<tr>\n",
       "  <th>C(Race)[T.W]:demean_PPG</th>     <td>    0.0014</td> <td>    0.000</td> <td>    7.107</td> <td> 0.000</td> <td>    0.001</td> <td>    0.002</td>\n",
       "</tr>\n",
       "</table>\n",
       "<table class=\"simpletable\">\n",
       "<tr>\n",
       "  <th>Omnibus:</th>       <td>936.893</td> <th>  Durbin-Watson:     </th> <td>   1.985</td> \n",
       "</tr>\n",
       "<tr>\n",
       "  <th>Prob(Omnibus):</th> <td> 0.000</td>  <th>  Jarque-Bera (JB):  </th> <td>1054.433</td> \n",
       "</tr>\n",
       "<tr>\n",
       "  <th>Skew:</th>          <td>-0.043</td>  <th>  Prob(JB):          </th> <td>1.08e-229</td>\n",
       "</tr>\n",
       "<tr>\n",
       "  <th>Kurtosis:</th>      <td> 3.162</td>  <th>  Cond. No.          </th> <td>1.10e+08</td> \n",
       "</tr>\n",
       "</table>"
      ],
      "text/plain": [
       "<class 'statsmodels.iolib.summary.Summary'>\n",
       "\"\"\"\n",
       "                            WLS Regression Results                            \n",
       "==============================================================================\n",
       "Dep. Variable:          compound_mean   R-squared:                       0.002\n",
       "Model:                            WLS   Adj. R-squared:                  0.002\n",
       "Method:                 Least Squares   F-statistic:                     55.70\n",
       "Date:                Mon, 01 Apr 2019   Prob (F-statistic):          2.62e-245\n",
       "Time:                        20:00:32   Log-Likelihood:            -2.3957e+05\n",
       "No. Observations:              758575   AIC:                         4.792e+05\n",
       "Df Residuals:                  758552   BIC:                         4.795e+05\n",
       "Df Model:                          22                                         \n",
       "Covariance Type:            nonrobust                                         \n",
       "===============================================================================================\n",
       "                                  coef    std err          t      P>|t|      [0.025      0.975]\n",
       "-----------------------------------------------------------------------------------------------\n",
       "Intercept                       0.0866      0.004     22.578      0.000       0.079       0.094\n",
       "C(height_dummies)[T.short]      0.0061      0.002      2.824      0.005       0.002       0.010\n",
       "C(height_dummies)[T.tall]     4.16e-05      0.001      0.037      0.970      -0.002       0.002\n",
       "rookie[T.True]                  0.0205      0.002     12.878      0.000       0.017       0.024\n",
       "team_match[T.True]              0.0042      0.001      4.521      0.000       0.002       0.006\n",
       "C(Race)[T.W]                    0.0072      0.002      4.792      0.000       0.004       0.010\n",
       "MP                          -4.747e-06   1.04e-06     -4.581      0.000   -6.78e-06   -2.72e-06\n",
       "ThreePP                         0.0080      0.004      2.225      0.026       0.001       0.015\n",
       "DWS                             0.0017      0.001      2.551      0.011       0.000       0.003\n",
       "TRBP                           -0.0005      0.000     -3.312      0.001      -0.001      -0.000\n",
       "FTr                            -0.0132      0.003     -4.293      0.000      -0.019      -0.007\n",
       "ASTP                           -0.0002   5.72e-05     -3.206      0.001      -0.000   -7.13e-05\n",
       "BLKP                            0.0008      0.000      2.116      0.034    5.65e-05       0.001\n",
       "STLP                            0.0021      0.001      3.172      0.002       0.001       0.003\n",
       "TOVP                           -0.0003      0.000     -2.386      0.017      -0.001   -5.01e-05\n",
       "youth                           0.0023      0.000      8.922      0.000       0.002       0.003\n",
       "oldness                         0.0012      0.000      7.159      0.000       0.001       0.002\n",
       "Wins                        -6.033e-05   3.87e-05     -1.558      0.119      -0.000    1.56e-05\n",
       "demean_clinton                  0.0077      0.003      3.043      0.002       0.003       0.013\n",
       "C(Race)[T.W]:demean_clinton    -0.0022      0.005     -0.416      0.678      -0.013       0.008\n",
       "total_population            -1.179e-10   9.45e-11     -1.248      0.212   -3.03e-10    6.73e-11\n",
       "demean_PPG                      0.0013      0.000     12.670      0.000       0.001       0.001\n",
       "C(Race)[T.W]:demean_PPG         0.0014      0.000      7.107      0.000       0.001       0.002\n",
       "==============================================================================\n",
       "Omnibus:                      936.893   Durbin-Watson:                   1.985\n",
       "Prob(Omnibus):                  0.000   Jarque-Bera (JB):             1054.433\n",
       "Skew:                          -0.043   Prob(JB):                    1.08e-229\n",
       "Kurtosis:                       3.162   Cond. No.                     1.10e+08\n",
       "==============================================================================\n",
       "\n",
       "Warnings:\n",
       "[1] Standard Errors assume that the covariance matrix of the errors is correctly specified.\n",
       "[2] The condition number is large, 1.1e+08. This might indicate that there are\n",
       "strong multicollinearity or other numerical problems.\n",
       "\"\"\""
      ]
     },
     "execution_count": 9,
     "metadata": {},
     "output_type": "execute_result"
    }
   ],
   "source": [
    "user_model.summary()"
   ]
  },
  {
   "cell_type": "markdown",
   "metadata": {
    "slideshow": {
     "slide_type": "subslide"
    }
   },
   "source": [
    "### Details of weighting and clustered standard errors on github"
   ]
  },
  {
   "cell_type": "markdown",
   "metadata": {
    "slideshow": {
     "slide_type": "slide"
    }
   },
   "source": [
    "## IV: Results!\n",
    "### NBA Players"
   ]
  },
  {
   "cell_type": "markdown",
   "metadata": {
    "slideshow": {
     "slide_type": "subslide"
    }
   },
   "source": [
    "### Lowest and highest sentiment seasons\n",
    "\n",
    "|Player |Year    | Avg Sentiment  | Player  | Year  | Avg Sentiment|\n",
    "|--- |--- |---|---|---|---|\n",
    "| Mike Dunleavy  | 2016  | -0.11  | Brandon Ingram  | 2015  |0.27 |\n",
    "| Kelly Olynyk  | 2016  | -0.08  | Karl-Anthony Towns  | 2015  |0.26 |\n",
    "| Steve Blake  | 2015  | -0.07  | Marc Gasol  | 2014  |0.25 |\n",
    "| Zaza Pachulia  | 2017| -0.07  | Gordon Hayward  | 2014 |0.24|\n"
   ]
  },
  {
   "cell_type": "markdown",
   "metadata": {
    "slideshow": {
     "slide_type": "subslide"
    }
   },
   "source": [
    "### PPG is significant for sentiment"
   ]
  },
  {
   "cell_type": "markdown",
   "metadata": {},
   "source": [
    "| Coefficient | (1) |\n",
    "|:--|--| \n",
    "| PPG| 0.0007 (1.985) | "
   ]
  },
  {
   "cell_type": "markdown",
   "metadata": {
    "slideshow": {
     "slide_type": "subslide"
    }
   },
   "source": [
    "### Coefficients for age are significant"
   ]
  },
  {
   "cell_type": "markdown",
   "metadata": {},
   "source": [
    "| Coefficient | (1) | (2) |\n",
    "|:--|--| -- |\n",
    "| PPG| 0.0007 (1.985) | 0.0012 (2.3) |\n",
    "|Rookie| - |  0.02 (5.4)|\n",
    "|1 year of youth (<27)| - | 0.0028 (3.6) |\n",
    "|1 year of age (>27)  | - | 0.0014 (2.0) |\n",
    "|Race| - | 0.0004 (1.76) |  "
   ]
  },
  {
   "cell_type": "markdown",
   "metadata": {
    "slideshow": {
     "slide_type": "subslide"
    }
   },
   "source": [
    "### Coefficients for race interacted with scoring is significant"
   ]
  },
  {
   "cell_type": "markdown",
   "metadata": {},
   "source": [
    "| Coefficient | (1) | (2) | (3)|\n",
    "|:--|--| -- | -- |\n",
    "| PPG| 0.0007 (1.985) | 0.0012 (2.3) | 0.001 (2.2)|\n",
    "|Rookie| - |  0.02 (5.4)| 0.022 (4.8)|\n",
    "|1 year of youth (<27)| - | 0.0028 (3.6) | 0.0026 (3.2) |\n",
    "|1 year of age (>27)  | - | 0.0014 (2.0) | 0.008 (1.6) |\n",
    "|Race| - | 0.0004 (1.76) |  0.008 (1.6)|\n",
    "|PPG for white player| - | -  |  0.0016 (2.6) |\n",
    "|Commenter City (Democratic vote)| - | -  |  0.0096 (3.2) |\n"
   ]
  },
  {
   "cell_type": "markdown",
   "metadata": {
    "slideshow": {
     "slide_type": "subslide"
    }
   },
   "source": [
    "### We may be missing important variables\n",
    "* Twitter / social media by player\n",
    "* Shoe endorsements\n",
    "* Physical attractiveness"
   ]
  },
  {
   "cell_type": "markdown",
   "metadata": {
    "slideshow": {
     "slide_type": "slide"
    }
   },
   "source": [
    "### Coaches\n",
    "\n",
    "#### Highest and lower sentiment seasons"
   ]
  },
  {
   "cell_type": "markdown",
   "metadata": {},
   "source": [
    "\n",
    "|Coach|Year    | Avg Sentiment  | Player  | Year  | Avg Sentiment\n",
    "|---|---|---|---|---|---|\n",
    "| Brad Stevens  | 2014-2015| 0.3  | George Karl  | 2015-2016|-0.15 |\n",
    "| Erik Spoelstra  | 2014-2015  | 0.26  | Earl Watson  | 2017-2018|-0.1 |\n",
    "| Brad Stevens  | 2017-2018| 0.24  | Kurt Rambis  | 2015-2016|-0.1 |\n",
    "| Steve Kerr  | 2014-2015| 0.23  | Fred Hoiberg  | 2015-2016|-0.06|\n"
   ]
  },
  {
   "cell_type": "markdown",
   "metadata": {
    "slideshow": {
     "slide_type": "subslide"
    }
   },
   "source": [
    "### Regression results"
   ]
  },
  {
   "cell_type": "markdown",
   "metadata": {},
   "source": [
    "\n",
    "|Coefficient|Magnitude (t-statistic)|\n",
    "|--|--|\n",
    "|Season Wins|-0.08 (-1.5)|\n",
    "| Win % over expectation | 0.39 (4.5) | \n",
    "|Career Win %|0.39 (4.5)|\n",
    "|Age (years)| (-0.0033 (-2.7)|\n",
    "|Tenure with team (years)| 0.0048 (2.2)|\n",
    "|Race (white)|0.047 (2.8)|\n"
   ]
  },
  {
   "cell_type": "markdown",
   "metadata": {
    "slideshow": {
     "slide_type": "fragment"
    }
   },
   "source": [
    "#### Being white is worth ~ +10 wins"
   ]
  },
  {
   "cell_type": "markdown",
   "metadata": {
    "slideshow": {
     "slide_type": "slide"
    }
   },
   "source": [
    "## NFL Players"
   ]
  },
  {
   "cell_type": "markdown",
   "metadata": {
    "slideshow": {
     "slide_type": "subslide"
    }
   },
   "source": [
    "### Unique difficulties of NFL"
   ]
  },
  {
   "cell_type": "markdown",
   "metadata": {
    "slideshow": {
     "slide_type": "fragment"
    }
   },
   "source": [
    "#### There are 3-4x more players"
   ]
  },
  {
   "cell_type": "markdown",
   "metadata": {
    "slideshow": {
     "slide_type": "fragment"
    }
   },
   "source": [
    "#### Fewer players have easily comparable stats"
   ]
  },
  {
   "cell_type": "markdown",
   "metadata": {
    "slideshow": {
     "slide_type": "notes"
    }
   },
   "source": [
    "Two parts: Defense and offense are hard to compare, so we focus on offense\n",
    "\n",
    "Only a fraction of offensive players even have stats! Around 5-6 per team compared to 10ish in NBA"
   ]
  },
  {
   "cell_type": "markdown",
   "metadata": {
    "slideshow": {
     "slide_type": "subslide"
    }
   },
   "source": [
    "### Lowest and highest sentiment seasons\n",
    "\n",
    "|Player |Year    | Avg Sentiment  | Player  | Year  | Avg Sentiment|\n",
    "|--- |--- |---|---|---|---|\n",
    "| Gregg Williams  | 2017  | -0.29  | Sean McVay   | 2017  |0.28 |\n",
    "| Michael Bennett  | 2017  | -0.25  | David Johnson  | 2016  |0.24 |\n",
    "| Gregg Williams  | 2016  | -0.23  | JJ Watt  | 2017  |0.22 |\n",
    "| Danny Trevathan  | 2015| -0.15  | JJ Watt  | 2016 |0.22|"
   ]
  },
  {
   "cell_type": "markdown",
   "metadata": {
    "slideshow": {
     "slide_type": "subslide"
    }
   },
   "source": [
    "### NFL Player regression results"
   ]
  },
  {
   "cell_type": "markdown",
   "metadata": {},
   "source": [
    "#### Performance alone is significant\n",
    "z_DVOA = z-score Yards over average"
   ]
  },
  {
   "cell_type": "markdown",
   "metadata": {},
   "source": [
    "| Coefficient | (1) |\n",
    "|:--|--| \n",
    "| z_DVOA| 0.0057 (2.1) | "
   ]
  },
  {
   "cell_type": "markdown",
   "metadata": {
    "slideshow": {
     "slide_type": "subslide"
    }
   },
   "source": [
    "### In full regression, only rookie status is significant"
   ]
  },
  {
   "cell_type": "markdown",
   "metadata": {},
   "source": [
    "| Coefficient | (1) | (2) |\n",
    "|:--|--| -- |\n",
    "| z_DVOA| 0.0057 (2.1) | 0.0051 (1.4) |\n",
    "|Rookie| - |  0.018 (2.4)|\n",
    "|1 year of youth (<27)| - | 0.0011 (0.7) |\n",
    "|Race (white)| - | 0.0067 (1.2) |  \n",
    "|City population  | - | -4e10 (-2.4) |"
   ]
  },
  {
   "cell_type": "markdown",
   "metadata": {},
   "source": [
    "## NFL Coaches"
   ]
  },
  {
   "cell_type": "markdown",
   "metadata": {
    "slideshow": {
     "slide_type": "slide"
    }
   },
   "source": [
    "### Coaches"
   ]
  },
  {
   "cell_type": "markdown",
   "metadata": {},
   "source": [
    "#### There are not many black coaches to analyze"
   ]
  },
  {
   "cell_type": "code",
   "execution_count": 41,
   "metadata": {},
   "outputs": [
    {
     "data": {
      "text/html": [
       "<div>\n",
       "<style scoped>\n",
       "    .dataframe tbody tr th:only-of-type {\n",
       "        vertical-align: middle;\n",
       "    }\n",
       "\n",
       "    .dataframe tbody tr th {\n",
       "        vertical-align: top;\n",
       "    }\n",
       "\n",
       "    .dataframe thead th {\n",
       "        text-align: right;\n",
       "    }\n",
       "</style>\n",
       "<table border=\"1\" class=\"dataframe\">\n",
       "  <thead>\n",
       "    <tr style=\"text-align: right;\">\n",
       "      <th></th>\n",
       "      <th>mean</th>\n",
       "      <th>count</th>\n",
       "    </tr>\n",
       "    <tr>\n",
       "      <th>race</th>\n",
       "      <th></th>\n",
       "      <th></th>\n",
       "    </tr>\n",
       "  </thead>\n",
       "  <tbody>\n",
       "    <tr>\n",
       "      <th>B</th>\n",
       "      <td>0.050933</td>\n",
       "      <td>24</td>\n",
       "    </tr>\n",
       "    <tr>\n",
       "      <th>W</th>\n",
       "      <td>0.071046</td>\n",
       "      <td>130</td>\n",
       "    </tr>\n",
       "  </tbody>\n",
       "</table>\n",
       "</div>"
      ],
      "text/plain": [
       "          mean  count\n",
       "race                 \n",
       "B     0.050933     24\n",
       "W     0.071046    130"
      ]
     },
     "execution_count": 41,
     "metadata": {},
     "output_type": "execute_result"
    }
   ],
   "source": [
    "coaches_fit_df.groupby('race').agg(['mean', 'count'])['compound_mean_mean']"
   ]
  },
  {
   "cell_type": "markdown",
   "metadata": {
    "slideshow": {
     "slide_type": "subslide"
    }
   },
   "source": [
    "#### Highest and lower sentiment seasons"
   ]
  },
  {
   "cell_type": "markdown",
   "metadata": {},
   "source": [
    "\n",
    "|Coach|Year    | Avg Sentiment  | Player  | Year  | Avg Sentiment\n",
    "|---|---|---|---|---|---|\n",
    "| Sean McVay  | 2017| 0.28  | Sean Payton  | 2015-2016|-0.11 |\n",
    "| Adam Gase  | 2016  | 0.27  | Mike Smith  | 2013|-0.08 |\n",
    "| Todd Bowles  | 2015| 0.27  | John Fox  | 2014|-0.08 |\n",
    "| TBD  | 2014-2015| 0.23  | Ron Rivera  | 2015|-0.07|\n"
   ]
  },
  {
   "cell_type": "markdown",
   "metadata": {
    "slideshow": {
     "slide_type": "subslide"
    }
   },
   "source": [
    "### Regression results\n",
    "(Not correct)"
   ]
  },
  {
   "cell_type": "markdown",
   "metadata": {},
   "source": [
    "\n",
    "|Coefficient|Magnitude (t-statistic)|\n",
    "|--|--|\n",
    "|Season Wins|-0.08 (-1.5)|\n",
    "| Win % over expectation | 0.39 (4.5) | \n",
    "|Career Win %|0.39 (4.5)|\n",
    "|Age (years)| (-0.0033 (-2.7)|\n",
    "|Tenure with team (years)| 0.0048 (2.2)|\n",
    "|Race (white)|0.047 (2.8)|\n"
   ]
  },
  {
   "cell_type": "markdown",
   "metadata": {
    "slideshow": {
     "slide_type": "slide"
    }
   },
   "source": [
    "# Conclusion"
   ]
  },
  {
   "cell_type": "markdown",
   "metadata": {},
   "source": [
    "### If you already know what your entities are, regex for them can work well"
   ]
  },
  {
   "cell_type": "markdown",
   "metadata": {
    "slideshow": {
     "slide_type": "fragment"
    }
   },
   "source": [
    "### In economics / social sciences, regression coefficients are important"
   ]
  },
  {
   "cell_type": "markdown",
   "metadata": {
    "slideshow": {
     "slide_type": "fragment"
    }
   },
   "source": [
    "### Reddit likes young, high scoring players, particularly if they're white"
   ]
  },
  {
   "cell_type": "markdown",
   "metadata": {
    "slideshow": {
     "slide_type": "fragment"
    }
   },
   "source": [
    "### Reddit penalizes black coaches approximately 10 wins of affection"
   ]
  },
  {
   "cell_type": "markdown",
   "metadata": {
    "slideshow": {
     "slide_type": "fragment"
    }
   },
   "source": [
    "### No evidence of bias in NFL"
   ]
  },
  {
   "cell_type": "markdown",
   "metadata": {
    "slideshow": {
     "slide_type": "slide"
    }
   },
   "source": [
    "# Links\n",
    "\n",
    "#### Github: github.com/map222/, `trailofpapers` repo\n",
    "#### Blog: trailofpapers.net\n",
    "#### Twitter: @trailofpapers\n",
    "#### E-mail: map222@gmail.com"
   ]
  },
  {
   "cell_type": "markdown",
   "metadata": {
    "slideshow": {
     "slide_type": "slide"
    }
   },
   "source": [
    "## Appendix"
   ]
  },
  {
   "cell_type": "markdown",
   "metadata": {
    "slideshow": {
     "slide_type": "subslide"
    }
   },
   "source": [
    "#### Variance of sentiment goes down as comment count goes up"
   ]
  },
  {
   "cell_type": "code",
   "execution_count": 32,
   "metadata": {},
   "outputs": [
    {
     "data": {
      "image/png": "[encoded data removed]",
      "text/plain": [
       "<matplotlib.figure.Figure at 0x20284e69358>"
      ]
     },
     "metadata": {},
     "output_type": "display_data"
    }
   ],
   "source": [
    "Graphing code goes here"
   ]
  },
  {
   "cell_type": "markdown",
   "metadata": {
    "slideshow": {
     "slide_type": "subslide"
    }
   },
   "source": [
    "### How do we weight?"
   ]
  },
  {
   "cell_type": "code",
   "execution_count": null,
   "metadata": {},
   "outputs": [],
   "source": [
    "user_model = smf.wls( formula = 'compound_mean ~ MP + ThreePP + DWS + TRBP + FTr + ASTP + BLKP + STLP + TOVP' \\\n",
    "                           ' + C(height_dummies) + rookie + youth + oldness + Wins + ' \\\n",
    "                           'team_match + C(Race) * demean_clinton +total_population + C(Race) * demean_PPG',\n",
    "                data = nba_df,\n",
    "               weights = 1 \n",
    "               ).fit()"
   ]
  },
  {
   "cell_type": "markdown",
   "metadata": {
    "slideshow": {
     "slide_type": "fragment"
    }
   },
   "source": [
    "#### Weight each user-player pair the same"
   ]
  },
  {
   "cell_type": "markdown",
   "metadata": {
    "slideshow": {
     "slide_type": "fragment"
    }
   },
   "source": [
    "#### Weight by comment count"
   ]
  },
  {
   "cell_type": "markdown",
   "metadata": {
    "slideshow": {
     "slide_type": "fragment"
    }
   },
   "source": [
    "#### Weight by sqrt(comment count)"
   ]
  },
  {
   "cell_type": "markdown",
   "metadata": {
    "slideshow": {
     "slide_type": "subslide"
    }
   },
   "source": [
    "### Changing weighting does not significantly change the coefficients or t-stats"
   ]
  },
  {
   "cell_type": "code",
   "execution_count": 19,
   "metadata": {},
   "outputs": [
    {
     "data": {
      "image/png": "[encoded data removed]",
      "text/plain": [
       "<matplotlib.figure.Figure at 0x21223771240>"
      ]
     },
     "metadata": {},
     "output_type": "display_data"
    }
   ],
   "source": [
    "Where code to plot this would go"
   ]
  },
  {
   "cell_type": "markdown",
   "metadata": {
    "slideshow": {
     "slide_type": "subslide"
    }
   },
   "source": [
    "### Clustered standard errors allows us to recognize that players are commented on by multiple users"
   ]
  },
  {
   "cell_type": "code",
   "execution_count": 51,
   "metadata": {},
   "outputs": [],
   "source": [
    "clustered_model = smf.wls( formula = 'compound_mean ~ MP + ThreePP + DWS + TRBP + FTr + ASTP + BLKP + STLP' \\\n",
    "                           '+ TOVP  + C(height_dummies) + rookie + youth + oldness + Wins + ' \\\n",
    "                           'team_match + C(Race) * demean_clinton +total_population + C(Race) * demean_PPG',\n",
    "                data = nba_df,\n",
    "               weights = np.sqrt(nba_df['comment_count'])\n",
    "               ).fit(cov_type='cluster', cov_kwds={'groups' : nba_df['Player']})"
   ]
  },
  {
   "cell_type": "markdown",
   "metadata": {
    "slideshow": {
     "slide_type": "subslide"
    }
   },
   "source": [
    "### Clustering standard erorrs does not change coefficients, but decreases t-statistics"
   ]
  },
  {
   "cell_type": "code",
   "execution_count": 61,
   "metadata": {},
   "outputs": [
    {
     "data": {
      "image/png": "[encoded data removed]",
      "text/plain": [
       "<matplotlib.figure.Figure at 0x2121d0b8978>"
      ]
     },
     "metadata": {},
     "output_type": "display_data"
    }
   ],
   "source": [
    "Where plotting code would go"
   ]
  }
 ],
 "metadata": {
  "kernelspec": {
   "display_name": "Python 3",
   "language": "python",
   "name": "python3"
  },
  "language_info": {
   "codemirror_mode": {
    "name": "ipython",
    "version": 3
   },
   "file_extension": ".py",
   "mimetype": "text/x-python",
   "name": "python",
   "nbconvert_exporter": "python",
   "pygments_lexer": "ipython3",
   "version": "3.6.4"
  }
 },
 "nbformat": 4,
 "nbformat_minor": 2
}
