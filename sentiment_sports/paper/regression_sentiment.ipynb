{
 "cells": [
  {
   "cell_type": "markdown",
   "metadata": {},
   "source": [
    "# What makes athletes popular? a sentiment and regression analysis\n",
    "## Part III: Regression analysis of sentiment\n",
    "\n",
    "In this project, I am using natural language processing (NLP) to try to understand what factors drive public opinion towards athletes. In [part 1](https://nbviewer.jupyter.org/github/map222/trailofpapers/blob/master/sentiment_sports/paper/scrape_reddit_covariates.ipynb), I showed how to scrape reddit; in [part 2](https://nbviewer.jupyter.org/github/map222/trailofpapers/blob/master/sentiment_sports/paper/calculating_player_sentiment.ipynb), I showed how to use sentiment analysis to calculate opinion towards players. In this notebook, I will fit regression models targeting sentiment using covariates for player performance and demographics.\n",
    "\n",
    "### How regression allows us to understand underlying factors\n",
    "\n",
    "We know that some athletes are more popular than others, and that athletes differ in their characteristics, both intrinsic (height, age, race), and extrinsic (points scored, yards run). Given that there are dozens of these characteristics, how do we understand which ones make athletes more popular or less?\n",
    "\n",
    "One naive approach would be to graph scatterplots of the relationship between sentiment and characteristics, as we did in part 2. This can be illuminating, and reveal obvious relationships, like how sentiment is higher for young player (NNN show graph). However, age is correlated with many other things; for example, young players usually get less playing time than the average player. Does this mean people prefer players who don't play a lot, or is something else going on? What we need is a technique that can consider all of these characteristics simultaneously.\n",
    "\n",
    "The method we use in the project is multi-variate linear regression. This allows you to simultaneously measure how each characteristic would change sentiment, independently of each other characteristic. For example, if we find that the coefficient for age is -0.1 sentiment points per year of age, we know that no matter what a player's other characteristics are, if we were to increase their age by one year, their measured sentiment would most likely decrease.\n"
   ]
  },
  {
   "cell_type": "markdown",
   "metadata": {},
   "source": [
    "### Aggregation\n",
    "\n",
    "Before describing how we did the regression, let's briefly go over how we aggregate our data. Our raw data comes in the form of sentences about single players by single users. We then aggregate this data taking the mean sentiment towards each player by each user, in a given season. For players, due to the large sample size, we analyze the data at this level; for coaches, we aggregate this data one step further, and calculate the average sentiment towards each coach, across all users, for a given season (a mean of means). In addition to calculating the average sentiment at these levels, we count the number of sentences that went into that average, which we use in weighting later.\n",
    "\n",
    "Rather than aggregate the data here, I'll just load it from disk. (I have not made this data publicly available as it has some information about individual users, but I would be happy to share it privately.)"
   ]
  },
  {
   "cell_type": "code",
   "execution_count": 1,
   "metadata": {},
   "outputs": [
    {
     "name": "stderr",
     "output_type": "stream",
     "text": [
      "C:\\Users\\map22\\Anaconda3\\lib\\site-packages\\IPython\\core\\interactiveshell.py:2728: DtypeWarning: Columns (15) have mixed types. Specify dtype option on import or set low_memory=False.\n",
      "  interactivity=interactivity, compiler=compiler, result=result)\n"
     ]
    }
   ],
   "source": [
    "import pandas as pd\n",
    "%matplotlib inline\n",
    "nba_df = pd.read_csv('c:/Users/map22/Google Drive/sentiment_nba/nba_user_player_sentiment.tsv', sep='\\t')\n",
    "nba_df = nba_df.dropna(subset=['Race', 'PPG']) # get some name matches for years players weren't playing / coaches\n",
    "nba_df['rookie'] = nba_df['experience']<=1\n",
    "nba_df['demean_PPG'] = nba_df['PPG'] - nba_df['PPG'].mean()\n",
    "nba_df['demean_clinton'] = nba_df['clinton_vote_lead'] - nba_df['clinton_vote_lead'].mean()\n",
    "nba_df['demean_race_diff'] = nba_df['white_black_diff'] - nba_df['white_black_diff'].mean()\n",
    "nba_df = nba_df.replace({'M':'B', 'L':'W'}).query('Race == \"W\" or Race == \"B\"')"
   ]
  },
  {
   "cell_type": "markdown",
   "metadata": {},
   "source": [
    "Here are what three random rows look like. We have information on the player, the commenter, the season, the measured sentiment, and an example of performance data."
   ]
  },
  {
   "cell_type": "code",
   "execution_count": 2,
   "metadata": {},
   "outputs": [
    {
     "data": {
      "text/html": [
       "<div>\n",
       "<style scoped>\n",
       "    .dataframe tbody tr th:only-of-type {\n",
       "        vertical-align: middle;\n",
       "    }\n",
       "\n",
       "    .dataframe tbody tr th {\n",
       "        vertical-align: top;\n",
       "    }\n",
       "\n",
       "    .dataframe thead th {\n",
       "        text-align: right;\n",
       "    }\n",
       "</style>\n",
       "<table border=\"1\" class=\"dataframe\">\n",
       "  <thead>\n",
       "    <tr style=\"text-align: right;\">\n",
       "      <th></th>\n",
       "      <th>Player</th>\n",
       "      <th>user</th>\n",
       "      <th>season</th>\n",
       "      <th>flair</th>\n",
       "      <th>compound_mean</th>\n",
       "      <th>comment_count</th>\n",
       "      <th>PPG</th>\n",
       "    </tr>\n",
       "  </thead>\n",
       "  <tbody>\n",
       "    <tr>\n",
       "      <th>51011</th>\n",
       "      <td>austin daye</td>\n",
       "      <td>ceeejaaay</td>\n",
       "      <td>2013</td>\n",
       "      <td>Warriors</td>\n",
       "      <td>0.0000</td>\n",
       "      <td>1</td>\n",
       "      <td>3.0</td>\n",
       "    </tr>\n",
       "    <tr>\n",
       "      <th>309289</th>\n",
       "      <td>emmanuel mudiay</td>\n",
       "      <td>IdRatherBeLurking</td>\n",
       "      <td>2016</td>\n",
       "      <td>[DEN] Nikola Jokic</td>\n",
       "      <td>0.2023</td>\n",
       "      <td>1</td>\n",
       "      <td>11.0</td>\n",
       "    </tr>\n",
       "    <tr>\n",
       "      <th>415096</th>\n",
       "      <td>jayson tatum</td>\n",
       "      <td>ReeceChops44</td>\n",
       "      <td>2017</td>\n",
       "      <td>Celtics</td>\n",
       "      <td>-0.5423</td>\n",
       "      <td>1</td>\n",
       "      <td>13.9</td>\n",
       "    </tr>\n",
       "  </tbody>\n",
       "</table>\n",
       "</div>"
      ],
      "text/plain": [
       "                 Player               user  season               flair  \\\n",
       "51011       austin daye          ceeejaaay    2013            Warriors   \n",
       "309289  emmanuel mudiay  IdRatherBeLurking    2016  [DEN] Nikola Jokic   \n",
       "415096     jayson tatum       ReeceChops44    2017             Celtics   \n",
       "\n",
       "        compound_mean  comment_count   PPG  \n",
       "51011          0.0000              1   3.0  \n",
       "309289         0.2023              1  11.0  \n",
       "415096        -0.5423              1  13.9  "
      ]
     },
     "execution_count": 2,
     "metadata": {},
     "output_type": "execute_result"
    }
   ],
   "source": [
    "nba_df[['Player', 'user', 'season', 'flair', 'compound_mean', 'comment_count', 'PPG']].sample(3, random_state = 24601)"
   ]
  },
  {
   "cell_type": "markdown",
   "metadata": {},
   "source": [
    "Let's also plot the sentiment towards players for each user, compared to the number of comments the user has."
   ]
  },
  {
   "cell_type": "code",
   "execution_count": 11,
   "metadata": {},
   "outputs": [
    {
     "data": {
      "image/png": "[encoded data removed]",
      "text/plain": [
       "<matplotlib.figure.Figure at 0x1c685ba4908>"
      ]
     },
     "metadata": {},
     "output_type": "display_data"
    }
   ],
   "source": [
    "nba_df.sample(20000).plot.scatter('comment_count', 'compound_mean', alpha =0.1)\n",
    "plt.xscale('log')"
   ]
  },
  {
   "cell_type": "markdown",
   "metadata": {},
   "source": [
    "Here we can see that the variance of the sentiment estimate goes down as the number of comments goes up. We'll come back to this in a minute when we talk about weighting our regression."
   ]
  },
  {
   "cell_type": "markdown",
   "metadata": {},
   "source": [
    "### Simple regression model: unweighted, unclustered\n",
    "\n",
    "Now we're ready to do some modeling. First, let's see if PPG is predictive of sentiment. To run our regression models, we'll use `statsmodels`'s `wls` function, and use the `formula` parameter to specify our regression. The formula parameter uses a version of R's formula, where we can specify the regression as a string. Here we are targeting our sentiment measure, `compound_mean`, and saying it is linearly related to a combination of minutes played (MP), and points per game (PPG). Once we have specified the model, we run `fit()`, and get some results!"
   ]
  },
  {
   "cell_type": "code",
   "execution_count": 3,
   "metadata": {},
   "outputs": [],
   "source": [
    "import statsmodels.formula.api as smf\n",
    "model = smf.wls( formula = 'compound_mean ~ MP + PPG',\n",
    "                 data = nba_df,\n",
    "                 weights = 1).fit()"
   ]
  },
  {
   "cell_type": "code",
   "execution_count": 4,
   "metadata": {},
   "outputs": [
    {
     "data": {
      "text/html": [
       "<table class=\"simpletable\">\n",
       "<caption>WLS Regression Results</caption>\n",
       "<tr>\n",
       "  <th>Dep. Variable:</th>      <td>compound_mean</td>  <th>  R-squared:         </th>  <td>   0.000</td>  \n",
       "</tr>\n",
       "<tr>\n",
       "  <th>Model:</th>                   <td>WLS</td>       <th>  Adj. R-squared:    </th>  <td>   0.000</td>  \n",
       "</tr>\n",
       "<tr>\n",
       "  <th>Method:</th>             <td>Least Squares</td>  <th>  F-statistic:       </th>  <td>   103.5</td>  \n",
       "</tr>\n",
       "<tr>\n",
       "  <th>Date:</th>             <td>Fri, 01 Mar 2019</td> <th>  Prob (F-statistic):</th>  <td>1.10e-45</td>  \n",
       "</tr>\n",
       "<tr>\n",
       "  <th>Time:</th>                 <td>20:36:54</td>     <th>  Log-Likelihood:    </th> <td>-2.6926e+05</td>\n",
       "</tr>\n",
       "<tr>\n",
       "  <th>No. Observations:</th>      <td>848401</td>      <th>  AIC:               </th>  <td>5.385e+05</td> \n",
       "</tr>\n",
       "<tr>\n",
       "  <th>Df Residuals:</th>          <td>848398</td>      <th>  BIC:               </th>  <td>5.386e+05</td> \n",
       "</tr>\n",
       "<tr>\n",
       "  <th>Df Model:</th>              <td>     2</td>      <th>                     </th>      <td> </td>     \n",
       "</tr>\n",
       "<tr>\n",
       "  <th>Covariance Type:</th>      <td>nonrobust</td>    <th>                     </th>      <td> </td>     \n",
       "</tr>\n",
       "</table>\n",
       "<table class=\"simpletable\">\n",
       "<tr>\n",
       "      <td></td>         <th>coef</th>     <th>std err</th>      <th>t</th>      <th>P>|t|</th>  <th>[0.025</th>    <th>0.975]</th>  \n",
       "</tr>\n",
       "<tr>\n",
       "  <th>Intercept</th> <td>    0.0700</td> <td>    0.001</td> <td>   73.923</td> <td> 0.000</td> <td>    0.068</td> <td>    0.072</td>\n",
       "</tr>\n",
       "<tr>\n",
       "  <th>MP</th>        <td>-1.125e-06</td> <td> 6.52e-07</td> <td>   -1.726</td> <td> 0.084</td> <td> -2.4e-06</td> <td> 1.53e-07</td>\n",
       "</tr>\n",
       "<tr>\n",
       "  <th>PPG</th>       <td>    0.0007</td> <td> 6.46e-05</td> <td>   11.124</td> <td> 0.000</td> <td>    0.001</td> <td>    0.001</td>\n",
       "</tr>\n",
       "</table>\n",
       "<table class=\"simpletable\">\n",
       "<tr>\n",
       "  <th>Omnibus:</th>       <td>1033.683</td> <th>  Durbin-Watson:     </th> <td>   1.981</td> \n",
       "</tr>\n",
       "<tr>\n",
       "  <th>Prob(Omnibus):</th>  <td> 0.000</td>  <th>  Jarque-Bera (JB):  </th> <td>1157.941</td> \n",
       "</tr>\n",
       "<tr>\n",
       "  <th>Skew:</th>           <td>-0.044</td>  <th>  Prob(JB):          </th> <td>3.60e-252</td>\n",
       "</tr>\n",
       "<tr>\n",
       "  <th>Kurtosis:</th>       <td> 3.159</td>  <th>  Cond. No.          </th> <td>5.49e+03</td> \n",
       "</tr>\n",
       "</table>"
      ],
      "text/plain": [
       "<class 'statsmodels.iolib.summary.Summary'>\n",
       "\"\"\"\n",
       "                            WLS Regression Results                            \n",
       "==============================================================================\n",
       "Dep. Variable:          compound_mean   R-squared:                       0.000\n",
       "Model:                            WLS   Adj. R-squared:                  0.000\n",
       "Method:                 Least Squares   F-statistic:                     103.5\n",
       "Date:                Fri, 01 Mar 2019   Prob (F-statistic):           1.10e-45\n",
       "Time:                        20:36:54   Log-Likelihood:            -2.6926e+05\n",
       "No. Observations:              848401   AIC:                         5.385e+05\n",
       "Df Residuals:                  848398   BIC:                         5.386e+05\n",
       "Df Model:                           2                                         \n",
       "Covariance Type:            nonrobust                                         \n",
       "==============================================================================\n",
       "                 coef    std err          t      P>|t|      [0.025      0.975]\n",
       "------------------------------------------------------------------------------\n",
       "Intercept      0.0700      0.001     73.923      0.000       0.068       0.072\n",
       "MP         -1.125e-06   6.52e-07     -1.726      0.084    -2.4e-06    1.53e-07\n",
       "PPG            0.0007   6.46e-05     11.124      0.000       0.001       0.001\n",
       "==============================================================================\n",
       "Omnibus:                     1033.683   Durbin-Watson:                   1.981\n",
       "Prob(Omnibus):                  0.000   Jarque-Bera (JB):             1157.941\n",
       "Skew:                          -0.044   Prob(JB):                    3.60e-252\n",
       "Kurtosis:                       3.159   Cond. No.                     5.49e+03\n",
       "==============================================================================\n",
       "\n",
       "Warnings:\n",
       "[1] Standard Errors assume that the covariance matrix of the errors is correctly specified.\n",
       "[2] The condition number is large, 5.49e+03. This might indicate that there are\n",
       "strong multicollinearity or other numerical problems.\n",
       "\"\"\""
      ]
     },
     "execution_count": 4,
     "metadata": {},
     "output_type": "execute_result"
    }
   ],
   "source": [
    "model.summary()"
   ]
  },
  {
   "cell_type": "markdown",
   "metadata": {},
   "source": [
    "To interpret the results of our regression, we're going to look at two values for our features, their coefficient, and the t-statistics. For MP, we find the coefficient is ~1e-6, or approximately zero. This means that sentiment does not vary much with minutes played. Furthermore, we find the t-statistic is -1.726. For t-statistics, you want the value to be different from zero. For a 95% confidence interval we want the t-statistic to be > 1.96 or < -1.96 (two standard errors); this would mean that the coefficient is unlikely to be zero.\n",
    "\n",
    "In contrast to MP, the PPG feature has a non-zero coefficient (0.0007), and a t-statistic of 11.1. This means that scoring points is positively (but weakly) correlated with sentiment, and the magnitude of the t-statistic means we are confident that the coefficient is different from 0.\n",
    "\n",
    "The other thing we want to consider is how much of the variance is explained by the model. Our model is not going to be able to explain much of the variance with only two coefficients, and since many of the comments are neutral. That is why the R^2 value is basically 0. We can also compare the coefficient of PPG to the standard deviation of sentiment. The standard deviation is around NNN, which means 1 PPG is worth around 0.01 standard deviations. While it's a little disappointing to see such a low coefficient, it is still meaningful.\n"
   ]
  },
  {
   "cell_type": "markdown",
   "metadata": {},
   "source": [
    "### Adding more features\n",
    "\n",
    "Now that we have a sense of how to interpret coefficients, we can add more covariates. In our blog post, we show multiple specifications with increasing numbers of features. Here let's focus on our full model with all the features (all performance data scraped from [basketball-reference](http://basketball-reference.com):\n",
    "\n",
    "* ThreePP: Three point percentage\n",
    "* DWS: Defensive win share (not a rate)\n",
    "* FTr: Free throw rate; hopefully a proxy for driving to the hoop\n",
    "* ASTP: Assist percentage\n",
    "* BLKP: Block percentage\n",
    "* STLP: Steal percentage\n",
    "* TOVP: Turnover percentage\n",
    "* height_dummies: Dummy variables for short, medium, and tall players (NNN What are definitions?)\n",
    "* rookie: whether player was in rookie year\n",
    "* youth: number of years below average age (minimum 0)\n",
    "* oldness: number of years above average age (minimum 0)\n",
    "* Wins: team wins\n",
    "* team_math: Boolean representing whether commenter had flair for team of player she was commenting on\n",
    "* C(Race): boolean variable for race of player\n",
    "* demean_clinton: Clinton vote percentage - Trump vote percentage for the city from the user's flair (centered around zero for interaction)\n",
    "* total_population: total population of commenter's city\n",
    "* demean_PPG: Points per game with mean subtracted for interaction"
   ]
  },
  {
   "cell_type": "code",
   "execution_count": 21,
   "metadata": {},
   "outputs": [],
   "source": [
    "import numpy as np\n",
    "model = smf.wls( formula = 'compound_mean ~ MP + ThreePP + DWS + TRBP + FTr + ASTP + BLKP + STLP + TOVP' \\\n",
    "                           ' + C(height_dummies) + rookie + youth + oldness + Wins + ' \\\n",
    "                           'team_match + C(Race) * demean_clinton +total_population + C(Race) * demean_PPG',\n",
    "\n",
    "                data = nba_df,\n",
    "               weights = 1\n",
    "#                missing='raise'   \n",
    "               ).fit()"
   ]
  },
  {
   "cell_type": "code",
   "execution_count": 22,
   "metadata": {},
   "outputs": [
    {
     "data": {
      "text/html": [
       "<table class=\"simpletable\">\n",
       "<caption>WLS Regression Results</caption>\n",
       "<tr>\n",
       "  <th>Dep. Variable:</th>      <td>compound_mean</td>  <th>  R-squared:         </th>  <td>   0.002</td>  \n",
       "</tr>\n",
       "<tr>\n",
       "  <th>Model:</th>                   <td>WLS</td>       <th>  Adj. R-squared:    </th>  <td>   0.002</td>  \n",
       "</tr>\n",
       "<tr>\n",
       "  <th>Method:</th>             <td>Least Squares</td>  <th>  F-statistic:       </th>  <td>   55.70</td>  \n",
       "</tr>\n",
       "<tr>\n",
       "  <th>Date:</th>             <td>Fri, 01 Mar 2019</td> <th>  Prob (F-statistic):</th>  <td>2.62e-245</td> \n",
       "</tr>\n",
       "<tr>\n",
       "  <th>Time:</th>                 <td>20:57:12</td>     <th>  Log-Likelihood:    </th> <td>-2.3957e+05</td>\n",
       "</tr>\n",
       "<tr>\n",
       "  <th>No. Observations:</th>      <td>758575</td>      <th>  AIC:               </th>  <td>4.792e+05</td> \n",
       "</tr>\n",
       "<tr>\n",
       "  <th>Df Residuals:</th>          <td>758552</td>      <th>  BIC:               </th>  <td>4.795e+05</td> \n",
       "</tr>\n",
       "<tr>\n",
       "  <th>Df Model:</th>              <td>    22</td>      <th>                     </th>      <td> </td>     \n",
       "</tr>\n",
       "<tr>\n",
       "  <th>Covariance Type:</th>      <td>nonrobust</td>    <th>                     </th>      <td> </td>     \n",
       "</tr>\n",
       "</table>\n",
       "<table class=\"simpletable\">\n",
       "<tr>\n",
       "               <td></td>                  <th>coef</th>     <th>std err</th>      <th>t</th>      <th>P>|t|</th>  <th>[0.025</th>    <th>0.975]</th>  \n",
       "</tr>\n",
       "<tr>\n",
       "  <th>Intercept</th>                   <td>    0.0866</td> <td>    0.004</td> <td>   22.582</td> <td> 0.000</td> <td>    0.079</td> <td>    0.094</td>\n",
       "</tr>\n",
       "<tr>\n",
       "  <th>C(height_dummies)[T.short]</th>  <td>    0.0061</td> <td>    0.002</td> <td>    2.824</td> <td> 0.005</td> <td>    0.002</td> <td>    0.010</td>\n",
       "</tr>\n",
       "<tr>\n",
       "  <th>C(height_dummies)[T.tall]</th>   <td>  4.16e-05</td> <td>    0.001</td> <td>    0.037</td> <td> 0.970</td> <td>   -0.002</td> <td>    0.002</td>\n",
       "</tr>\n",
       "<tr>\n",
       "  <th>rookie[T.True]</th>              <td>    0.0205</td> <td>    0.002</td> <td>   12.878</td> <td> 0.000</td> <td>    0.017</td> <td>    0.024</td>\n",
       "</tr>\n",
       "<tr>\n",
       "  <th>team_match[T.True]</th>          <td>    0.0042</td> <td>    0.001</td> <td>    4.521</td> <td> 0.000</td> <td>    0.002</td> <td>    0.006</td>\n",
       "</tr>\n",
       "<tr>\n",
       "  <th>C(Race)[T.W]</th>                <td>    0.0073</td> <td>    0.002</td> <td>    4.808</td> <td> 0.000</td> <td>    0.004</td> <td>    0.010</td>\n",
       "</tr>\n",
       "<tr>\n",
       "  <th>MP</th>                          <td>-4.747e-06</td> <td> 1.04e-06</td> <td>   -4.581</td> <td> 0.000</td> <td>-6.78e-06</td> <td>-2.72e-06</td>\n",
       "</tr>\n",
       "<tr>\n",
       "  <th>ThreePP</th>                     <td>    0.0080</td> <td>    0.004</td> <td>    2.225</td> <td> 0.026</td> <td>    0.001</td> <td>    0.015</td>\n",
       "</tr>\n",
       "<tr>\n",
       "  <th>DWS</th>                         <td>    0.0017</td> <td>    0.001</td> <td>    2.551</td> <td> 0.011</td> <td>    0.000</td> <td>    0.003</td>\n",
       "</tr>\n",
       "<tr>\n",
       "  <th>TRBP</th>                        <td>   -0.0005</td> <td>    0.000</td> <td>   -3.312</td> <td> 0.001</td> <td>   -0.001</td> <td>   -0.000</td>\n",
       "</tr>\n",
       "<tr>\n",
       "  <th>FTr</th>                         <td>   -0.0132</td> <td>    0.003</td> <td>   -4.293</td> <td> 0.000</td> <td>   -0.019</td> <td>   -0.007</td>\n",
       "</tr>\n",
       "<tr>\n",
       "  <th>ASTP</th>                        <td>   -0.0002</td> <td> 5.72e-05</td> <td>   -3.206</td> <td> 0.001</td> <td>   -0.000</td> <td>-7.13e-05</td>\n",
       "</tr>\n",
       "<tr>\n",
       "  <th>BLKP</th>                        <td>    0.0008</td> <td>    0.000</td> <td>    2.116</td> <td> 0.034</td> <td> 5.65e-05</td> <td>    0.001</td>\n",
       "</tr>\n",
       "<tr>\n",
       "  <th>STLP</th>                        <td>    0.0021</td> <td>    0.001</td> <td>    3.172</td> <td> 0.002</td> <td>    0.001</td> <td>    0.003</td>\n",
       "</tr>\n",
       "<tr>\n",
       "  <th>TOVP</th>                        <td>   -0.0003</td> <td>    0.000</td> <td>   -2.386</td> <td> 0.017</td> <td>   -0.001</td> <td>-5.01e-05</td>\n",
       "</tr>\n",
       "<tr>\n",
       "  <th>youth</th>                       <td>    0.0023</td> <td>    0.000</td> <td>    8.922</td> <td> 0.000</td> <td>    0.002</td> <td>    0.003</td>\n",
       "</tr>\n",
       "<tr>\n",
       "  <th>oldness</th>                     <td>    0.0012</td> <td>    0.000</td> <td>    7.159</td> <td> 0.000</td> <td>    0.001</td> <td>    0.002</td>\n",
       "</tr>\n",
       "<tr>\n",
       "  <th>Wins</th>                        <td>-6.033e-05</td> <td> 3.87e-05</td> <td>   -1.558</td> <td> 0.119</td> <td>   -0.000</td> <td> 1.56e-05</td>\n",
       "</tr>\n",
       "<tr>\n",
       "  <th>demean_clinton</th>              <td>    0.0077</td> <td>    0.003</td> <td>    3.043</td> <td> 0.002</td> <td>    0.003</td> <td>    0.013</td>\n",
       "</tr>\n",
       "<tr>\n",
       "  <th>C(Race)[T.W]:demean_clinton</th> <td>   -0.0022</td> <td>    0.005</td> <td>   -0.416</td> <td> 0.678</td> <td>   -0.013</td> <td>    0.008</td>\n",
       "</tr>\n",
       "<tr>\n",
       "  <th>total_population</th>            <td>-1.179e-10</td> <td> 9.45e-11</td> <td>   -1.248</td> <td> 0.212</td> <td>-3.03e-10</td> <td> 6.73e-11</td>\n",
       "</tr>\n",
       "<tr>\n",
       "  <th>demean_PPG</th>                  <td>    0.0013</td> <td>    0.000</td> <td>   12.670</td> <td> 0.000</td> <td>    0.001</td> <td>    0.001</td>\n",
       "</tr>\n",
       "<tr>\n",
       "  <th>C(Race)[T.W]:demean_PPG</th>     <td>    0.0014</td> <td>    0.000</td> <td>    7.107</td> <td> 0.000</td> <td>    0.001</td> <td>    0.002</td>\n",
       "</tr>\n",
       "</table>\n",
       "<table class=\"simpletable\">\n",
       "<tr>\n",
       "  <th>Omnibus:</th>       <td>936.893</td> <th>  Durbin-Watson:     </th> <td>   1.985</td> \n",
       "</tr>\n",
       "<tr>\n",
       "  <th>Prob(Omnibus):</th> <td> 0.000</td>  <th>  Jarque-Bera (JB):  </th> <td>1054.433</td> \n",
       "</tr>\n",
       "<tr>\n",
       "  <th>Skew:</th>          <td>-0.043</td>  <th>  Prob(JB):          </th> <td>1.08e-229</td>\n",
       "</tr>\n",
       "<tr>\n",
       "  <th>Kurtosis:</th>      <td> 3.162</td>  <th>  Cond. No.          </th> <td>1.10e+08</td> \n",
       "</tr>\n",
       "</table>"
      ],
      "text/plain": [
       "<class 'statsmodels.iolib.summary.Summary'>\n",
       "\"\"\"\n",
       "                            WLS Regression Results                            \n",
       "==============================================================================\n",
       "Dep. Variable:          compound_mean   R-squared:                       0.002\n",
       "Model:                            WLS   Adj. R-squared:                  0.002\n",
       "Method:                 Least Squares   F-statistic:                     55.70\n",
       "Date:                Fri, 01 Mar 2019   Prob (F-statistic):          2.62e-245\n",
       "Time:                        20:57:12   Log-Likelihood:            -2.3957e+05\n",
       "No. Observations:              758575   AIC:                         4.792e+05\n",
       "Df Residuals:                  758552   BIC:                         4.795e+05\n",
       "Df Model:                          22                                         \n",
       "Covariance Type:            nonrobust                                         \n",
       "===============================================================================================\n",
       "                                  coef    std err          t      P>|t|      [0.025      0.975]\n",
       "-----------------------------------------------------------------------------------------------\n",
       "Intercept                       0.0866      0.004     22.582      0.000       0.079       0.094\n",
       "C(height_dummies)[T.short]      0.0061      0.002      2.824      0.005       0.002       0.010\n",
       "C(height_dummies)[T.tall]     4.16e-05      0.001      0.037      0.970      -0.002       0.002\n",
       "rookie[T.True]                  0.0205      0.002     12.878      0.000       0.017       0.024\n",
       "team_match[T.True]              0.0042      0.001      4.521      0.000       0.002       0.006\n",
       "C(Race)[T.W]                    0.0073      0.002      4.808      0.000       0.004       0.010\n",
       "MP                          -4.747e-06   1.04e-06     -4.581      0.000   -6.78e-06   -2.72e-06\n",
       "ThreePP                         0.0080      0.004      2.225      0.026       0.001       0.015\n",
       "DWS                             0.0017      0.001      2.551      0.011       0.000       0.003\n",
       "TRBP                           -0.0005      0.000     -3.312      0.001      -0.001      -0.000\n",
       "FTr                            -0.0132      0.003     -4.293      0.000      -0.019      -0.007\n",
       "ASTP                           -0.0002   5.72e-05     -3.206      0.001      -0.000   -7.13e-05\n",
       "BLKP                            0.0008      0.000      2.116      0.034    5.65e-05       0.001\n",
       "STLP                            0.0021      0.001      3.172      0.002       0.001       0.003\n",
       "TOVP                           -0.0003      0.000     -2.386      0.017      -0.001   -5.01e-05\n",
       "youth                           0.0023      0.000      8.922      0.000       0.002       0.003\n",
       "oldness                         0.0012      0.000      7.159      0.000       0.001       0.002\n",
       "Wins                        -6.033e-05   3.87e-05     -1.558      0.119      -0.000    1.56e-05\n",
       "demean_clinton                  0.0077      0.003      3.043      0.002       0.003       0.013\n",
       "C(Race)[T.W]:demean_clinton    -0.0022      0.005     -0.416      0.678      -0.013       0.008\n",
       "total_population            -1.179e-10   9.45e-11     -1.248      0.212   -3.03e-10    6.73e-11\n",
       "demean_PPG                      0.0013      0.000     12.670      0.000       0.001       0.001\n",
       "C(Race)[T.W]:demean_PPG         0.0014      0.000      7.107      0.000       0.001       0.002\n",
       "==============================================================================\n",
       "Omnibus:                      936.893   Durbin-Watson:                   1.985\n",
       "Prob(Omnibus):                  0.000   Jarque-Bera (JB):             1054.433\n",
       "Skew:                          -0.043   Prob(JB):                    1.08e-229\n",
       "Kurtosis:                       3.162   Cond. No.                     1.10e+08\n",
       "==============================================================================\n",
       "\n",
       "Warnings:\n",
       "[1] Standard Errors assume that the covariance matrix of the errors is correctly specified.\n",
       "[2] The condition number is large, 1.1e+08. This might indicate that there are\n",
       "strong multicollinearity or other numerical problems.\n",
       "\"\"\""
      ]
     },
     "execution_count": 22,
     "metadata": {},
     "output_type": "execute_result"
    }
   ],
   "source": [
    "model.summary()"
   ]
  },
  {
   "cell_type": "markdown",
   "metadata": {},
   "source": [
    "### Adding weighting\n",
    "\n",
    "In our initial model, we weighted all samples equally (note the `weights = 1`). However, we already know that the variance of low-comment rows is higher than high-comment rows. To handle this, we can weight our data. Now, how do we choose our weights? One way would be to weight each sample by the comment count, as if all commenters-player pairs come from the same distribution. However, this has two problems: first, we are going to be weighting high-comment users more than low comment users, even though they may not reflect general sentiment; second, we will be weighting high-comment players disproportionately to low-comment players; however, we still want to get information about these low comment players!\n",
    "\n",
    "My solution here was to weight the "
   ]
  },
  {
   "cell_type": "code",
   "execution_count": 3,
   "metadata": {},
   "outputs": [
    {
     "ename": "NameError",
     "evalue": "name 'smf' is not defined",
     "output_type": "error",
     "traceback": [
      "\u001b[1;31m---------------------------------------------------------------------------\u001b[0m",
      "\u001b[1;31mNameError\u001b[0m                                 Traceback (most recent call last)",
      "\u001b[1;32m<ipython-input-3-3256e9efdd2a>\u001b[0m in \u001b[0;36m<module>\u001b[1;34m()\u001b[0m\n\u001b[0;32m      1\u001b[0m \u001b[1;32mimport\u001b[0m \u001b[0mnumpy\u001b[0m \u001b[1;32mas\u001b[0m \u001b[0mnp\u001b[0m\u001b[1;33m\u001b[0m\u001b[0m\n\u001b[1;32m----> 2\u001b[1;33m model = smf.wls( formula = 'compound_mean ~ MP + PPG',                 data = nba_df,\n\u001b[0m\u001b[0;32m      3\u001b[0m                \u001b[0mweights\u001b[0m \u001b[1;33m=\u001b[0m \u001b[0mnp\u001b[0m\u001b[1;33m.\u001b[0m\u001b[0msqrt\u001b[0m\u001b[1;33m(\u001b[0m\u001b[0mnba_df\u001b[0m\u001b[1;33m[\u001b[0m\u001b[1;34m'comment_count'\u001b[0m\u001b[1;33m]\u001b[0m\u001b[1;33m)\u001b[0m\u001b[1;33m\u001b[0m\u001b[0m\n\u001b[0;32m      4\u001b[0m \u001b[1;31m#                missing='raise'\u001b[0m\u001b[1;33m\u001b[0m\u001b[1;33m\u001b[0m\u001b[0m\n\u001b[0;32m      5\u001b[0m                ).fit()\n",
      "\u001b[1;31mNameError\u001b[0m: name 'smf' is not defined"
     ]
    }
   ],
   "source": [
    "import numpy as np\n",
    "model = smf.wls( formula = 'compound_mean ~ MP + PPG', \\\n",
    "                data = nba_df,\n",
    "               weights = np.sqrt(nba_df['comment_count'])\n",
    "#                missing='raise'   \n",
    "               ).fit()"
   ]
  },
  {
   "cell_type": "code",
   "execution_count": null,
   "metadata": {},
   "outputs": [],
   "source": [
    "model.summary()"
   ]
  },
  {
   "cell_type": "markdown",
   "metadata": {},
   "source": [
    "### Adding clustering of errors"
   ]
  },
  {
   "cell_type": "code",
   "execution_count": null,
   "metadata": {},
   "outputs": [],
   "source": []
  }
 ],
 "metadata": {
  "kernelspec": {
   "display_name": "Python 3",
   "language": "python",
   "name": "python3"
  },
  "language_info": {
   "codemirror_mode": {
    "name": "ipython",
    "version": 3
   },
   "file_extension": ".py",
   "mimetype": "text/x-python",
   "name": "python",
   "nbconvert_exporter": "python",
   "pygments_lexer": "ipython3",
   "version": "3.6.4"
  }
 },
 "nbformat": 4,
 "nbformat_minor": 2
}
