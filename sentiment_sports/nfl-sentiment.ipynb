{
 "cells": [
  {
   "cell_type": "markdown",
   "metadata": {},
   "source": [
    "# Drivers of Reddit NFL sentiment\n",
    "This notebook investigates what drives the sentiment of NFL players on reddit. It roughly has N parts:\n",
    "1. Building a set of covariates for sentiment (e.g. player demographics, city demographics, performance data)\n",
    "2. Calculating the sentiment towards each player\n",
    "3. Performing a regression model to predict player sentiment\n",
    "\n",
    "This is a work in progress. For similar work on the NFL, see `nba-sentiment.ipynb`."
   ]
  },
  {
   "cell_type": "markdown",
   "metadata": {},
   "source": [
    "### Short term to-do:\n",
    "* Clean up comment matching\n",
    "  * Why does JJ Watt have low comment count?\n",
    "* Add salary data and Trump vote share\n",
    "* Try to find some subset of data where performance is correlated with sentiment\n",
    "\n",
    "### Long term to-do:\n",
    "\n",
    "Create functions for:\n",
    "  * fuzzy matching cleanup\n",
    "  * aggregation (maybe)"
   ]
  },
  {
   "cell_type": "code",
   "execution_count": 47,
   "metadata": {
    "collapsed": true
   },
   "outputs": [],
   "source": [
    "import json\n",
    "import string\n",
    "import requests\n",
    "import re\n",
    "import pandas as pd\n",
    "import numpy as np\n",
    "import seaborn as sns\n",
    "import statsmodels.api as sm\n",
    "import statsmodels.formula.api as smf\n",
    "from ast import literal_eval\n",
    "from string import punctuation\n",
    "from sner import Ner\n",
    "from nltk.sentiment.vader import SentimentIntensityAnalyzer\n",
    "import matplotlib.pyplot as plt\n",
    "%matplotlib inline"
   ]
  },
  {
   "cell_type": "code",
   "execution_count": 2,
   "metadata": {},
   "outputs": [],
   "source": [
    "import sports_sentiment as ss\n",
    "import scrape_player_data as spd"
   ]
  },
  {
   "cell_type": "code",
   "execution_count": 3,
   "metadata": {},
   "outputs": [],
   "source": [
    "# download stanford core nlp (should be a zip file of format stanford-ner-YYYY-MM-DD) (maybe from https://nlp.stanford.edu/software/CRF-NER.shtml#Download)\n",
    "# need to start the Java server:\n",
    "# cd C:\\ProgramData\\Anaconda3\\Lib\\site-packages\\sner\\stanford-ner-2018-02-27\n",
    "# java -Djava.ext.dirs=./lib -cp stanford-ner.jar edu.stanford.nlp.ie.NERServer -port 9199 -loadClassifier ./classifiers/english.all.3class.distsim.crf.ser.gz  -tokenizerFactory edu.stanford.nlp.process.WhitespaceTokenizer -tokenizerOptions tokenizeNLs=false"
   ]
  },
  {
   "cell_type": "code",
   "execution_count": 4,
   "metadata": {},
   "outputs": [],
   "source": [
    "pd.set_option('display.max_colwidth', 200)\n",
    "pd.set_option('display.max_columns', 100)"
   ]
  },
  {
   "cell_type": "markdown",
   "metadata": {},
   "source": [
    "## Constants and non-text data"
   ]
  },
  {
   "cell_type": "code",
   "execution_count": 5,
   "metadata": {},
   "outputs": [],
   "source": [
    "non_players_set = set('Baltimore Ravens Buffalo Bills Cincinnati Bengals Cleveland Browns Denver Broncos Houston Texans Indianapolis Colts ' \\\n",
    "                        'Jacksonville Jaguars Kansas City Chiefs Los Angeles Chargers Miami Dolphins New England Patriots New York Jets ' \\\n",
    "                        'Oakland Raiders Pittsburgh Steelers Tennessee Titans NFL Bowl ' \\\n",
    "                       'Arizona Cardinals Atlanta Falcons Carolina Panthers Chicago Bears Dallas Cowboys Detroit Lions Green Bay Packers ' \\\n",
    "                        'Los Angeles Rams Minnesota Vikings New Orleans Saints New York Giants Philadelphia Eagles San Francisco 49ers ' \\\n",
    "                        'Seattle Seahawks Tampa Bay Buccaneers Washington Redskins ' \\\n",
    "                        'Goodell Lebron jags cards hawks bucs skins'.lower().split())"
   ]
  },
  {
   "cell_type": "code",
   "execution_count": 7,
   "metadata": {},
   "outputs": [],
   "source": [
    "coaches_df = pd.read_csv('d:/data/sentiment_sports/covariates/nfl_coach_performance.tsv', sep='\\t')\n",
    "coaches_race_df = pd.read_csv('d:/data/sentiment_sports/covariates/nfl_coach_race.tsv', sep='\\t')\n",
    "coaches = set([name for coach in list(coaches_race_df.iloc[:,0]) for name in coach.split(' ')] )"
   ]
  },
  {
   "cell_type": "markdown",
   "metadata": {},
   "source": [
    "## Load covariates\n",
    "### Covariates contains only skill position players"
   ]
  },
  {
   "cell_type": "code",
   "execution_count": 8,
   "metadata": {},
   "outputs": [
    {
     "data": {
      "text/html": [
       "<div>\n",
       "<style scoped>\n",
       "    .dataframe tbody tr th:only-of-type {\n",
       "        vertical-align: middle;\n",
       "    }\n",
       "\n",
       "    .dataframe tbody tr th {\n",
       "        vertical-align: top;\n",
       "    }\n",
       "\n",
       "    .dataframe thead th {\n",
       "        text-align: right;\n",
       "    }\n",
       "</style>\n",
       "<table border=\"1\" class=\"dataframe\">\n",
       "  <thead>\n",
       "    <tr style=\"text-align: right;\">\n",
       "      <th></th>\n",
       "      <th>Player_FO</th>\n",
       "      <th>Tm</th>\n",
       "      <th>position</th>\n",
       "      <th>DYAR</th>\n",
       "      <th>DVOA</th>\n",
       "      <th>TD</th>\n",
       "      <th>z_DYAR</th>\n",
       "      <th>z_DVOA</th>\n",
       "      <th>z_TD</th>\n",
       "      <th>year</th>\n",
       "      <th>player_join</th>\n",
       "      <th>Player</th>\n",
       "      <th>level_1</th>\n",
       "      <th>start_year</th>\n",
       "      <th>end_year</th>\n",
       "      <th>url</th>\n",
       "      <th>height</th>\n",
       "      <th>weight</th>\n",
       "      <th>birth_date</th>\n",
       "      <th>race</th>\n",
       "      <th>salary</th>\n",
       "      <th>standard_salary</th>\n",
       "      <th>Wins</th>\n",
       "      <th>total_population</th>\n",
       "      <th>metro_percent_white</th>\n",
       "      <th>metro_percent_black</th>\n",
       "      <th>clinton_vote_lead</th>\n",
       "      <th>experience</th>\n",
       "    </tr>\n",
       "  </thead>\n",
       "  <tbody>\n",
       "    <tr>\n",
       "      <th>0</th>\n",
       "      <td>T.Brady</td>\n",
       "      <td>BOS</td>\n",
       "      <td>qb</td>\n",
       "      <td>2035</td>\n",
       "      <td>35.1</td>\n",
       "      <td>34</td>\n",
       "      <td>2.574492</td>\n",
       "      <td>1.846341</td>\n",
       "      <td>1.437475</td>\n",
       "      <td>2012</td>\n",
       "      <td>t brady</td>\n",
       "      <td>tom brady</td>\n",
       "      <td>12.0</td>\n",
       "      <td>2000.0</td>\n",
       "      <td>2018.0</td>\n",
       "      <td>/players/B/BradTo00.htm</td>\n",
       "      <td>76.0</td>\n",
       "      <td>225.0</td>\n",
       "      <td>August 3, 1977</td>\n",
       "      <td>W</td>\n",
       "      <td>NaN</td>\n",
       "      <td>NaN</td>\n",
       "      <td>12.0</td>\n",
       "      <td>4728844.0</td>\n",
       "      <td>77.3</td>\n",
       "      <td>8.0</td>\n",
       "      <td>0.3815</td>\n",
       "      <td>12.0</td>\n",
       "    </tr>\n",
       "    <tr>\n",
       "      <th>1</th>\n",
       "      <td>P.Manning</td>\n",
       "      <td>DEN</td>\n",
       "      <td>qb</td>\n",
       "      <td>1805</td>\n",
       "      <td>32.8</td>\n",
       "      <td>37</td>\n",
       "      <td>2.222644</td>\n",
       "      <td>1.738123</td>\n",
       "      <td>1.722051</td>\n",
       "      <td>2012</td>\n",
       "      <td>p manning</td>\n",
       "      <td>peyton manning</td>\n",
       "      <td>14.0</td>\n",
       "      <td>1998.0</td>\n",
       "      <td>2015.0</td>\n",
       "      <td>/players/M/MannPe00.htm</td>\n",
       "      <td>77.0</td>\n",
       "      <td>230.0</td>\n",
       "      <td>March 24, 1976</td>\n",
       "      <td>W</td>\n",
       "      <td>NaN</td>\n",
       "      <td>NaN</td>\n",
       "      <td>13.0</td>\n",
       "      <td>2752056.0</td>\n",
       "      <td>81.9</td>\n",
       "      <td>5.6</td>\n",
       "      <td>0.5638</td>\n",
       "      <td>14.0</td>\n",
       "    </tr>\n",
       "  </tbody>\n",
       "</table>\n",
       "</div>"
      ],
      "text/plain": [
       "   Player_FO   Tm position  DYAR  DVOA  TD    z_DYAR    z_DVOA      z_TD  \\\n",
       "0    T.Brady  BOS       qb  2035  35.1  34  2.574492  1.846341  1.437475   \n",
       "1  P.Manning  DEN       qb  1805  32.8  37  2.222644  1.738123  1.722051   \n",
       "\n",
       "   year player_join          Player  level_1  start_year  end_year  \\\n",
       "0  2012     t brady       tom brady     12.0      2000.0    2018.0   \n",
       "1  2012   p manning  peyton manning     14.0      1998.0    2015.0   \n",
       "\n",
       "                       url  height  weight      birth_date race  salary  \\\n",
       "0  /players/B/BradTo00.htm    76.0   225.0  August 3, 1977    W     NaN   \n",
       "1  /players/M/MannPe00.htm    77.0   230.0  March 24, 1976    W     NaN   \n",
       "\n",
       "   standard_salary  Wins  total_population  metro_percent_white  \\\n",
       "0              NaN  12.0         4728844.0                 77.3   \n",
       "1              NaN  13.0         2752056.0                 81.9   \n",
       "\n",
       "   metro_percent_black  clinton_vote_lead  experience  \n",
       "0                  8.0             0.3815        12.0  \n",
       "1                  5.6             0.5638        14.0  "
      ]
     },
     "execution_count": 8,
     "metadata": {},
     "output_type": "execute_result"
    }
   ],
   "source": [
    "covariates_df = pd.read_csv('d:/data/sentiment_sports/covariates/nfl_player_covariates.tsv', sep='\\t')\n",
    "covariates_df.head(2)"
   ]
  },
  {
   "cell_type": "markdown",
   "metadata": {},
   "source": [
    "#### Also load all players so that we can get names for entity extraction"
   ]
  },
  {
   "cell_type": "code",
   "execution_count": 9,
   "metadata": {},
   "outputs": [],
   "source": [
    "demo_df = pd.read_csv('d:/data/sentiment_sports/covariates/nfl_players2010-2018.tsv', sep ='\\t', encoding = 'utf-8')\n",
    "demo_df['Player'] = demo_df['Player'].str.lower()"
   ]
  },
  {
   "cell_type": "code",
   "execution_count": 10,
   "metadata": {},
   "outputs": [],
   "source": [
    "def create_month_df(data_loc):\n",
    "    return ss.create_sentiment_df(data_loc, sid.polarity_scores, ner_set=NAMED_ENTITIES,\n",
    "                                  non_players_set=non_players_set, UPPER_NAMES = UPPER_ENTITIES)"
   ]
  },
  {
   "cell_type": "markdown",
   "metadata": {},
   "source": [
    "### Instantiate sentiment analyzer\n",
    "For sentiment, I use a modified version of VADER. Many words have different sentiment in the sports world as compared to general usage (e.g. \"offensive\" is not a negative word in sports)."
   ]
  },
  {
   "cell_type": "code",
   "execution_count": 13,
   "metadata": {},
   "outputs": [],
   "source": [
    "sid = SentimentIntensityAnalyzer()\n",
    "stat_words = ['steal', 'steals', 'block', 'blocked', 'blocks', 'slam', 'charges', 'rejection', 'free', 'assists', 'win',\n",
    "              'championship', 'championships']\n",
    "neutral_words = ['offense', 'offensive', 'offensively', 'defense', 'defensive', 'defensively', 'defender',\n",
    "                 'injury', 'injured', 'strain', 'questionable', 'isolation', 'attack',\n",
    "                 'shoot', 'doubtful', 'play', 'plays', 'crazy', 'turnover', 'turnovers',\n",
    "                 'seriously', 'rob', 'freeman', 'hardy', 'threat', 'loss', 'losses', 'playing']\n",
    "bad_words = ['foul', 'vicious', 'ridiculous', 'motherfucking', 'mediocre', 'soft',\n",
    "             'garbage', 'delusional', 'slow', 'douchey', 'cheap', 'creepy']\n",
    "great_words = ['goat', 'nasty', 'prime', 'mvp', 'master', 'all-star']\n",
    "sid.lexicon.update({word:0.1 for word in stat_words})\n",
    "sid.lexicon.update({word:0 for word in neutral_words})\n",
    "sid.lexicon.update({word:-0.5 for word in bad_words})\n",
    "sid.lexicon.update({word:1 for word in great_words})"
   ]
  },
  {
   "cell_type": "code",
   "execution_count": 14,
   "metadata": {},
   "outputs": [],
   "source": [
    "city_mapping = {'ARI':'PHO', 'CAR':'CHO', 'GNB':'GB', 'JAX':'JAC', 'KAN':'KC', 'LACH':'LAC', 'LARM':'LAR',\n",
    "                'NE':'BOS', 'NWE':'BOS', 'NOR':'NOP', 'NO':'NOP', 'SD':'SDG','SFO':'SF', 'TAM':'TB',\n",
    "                'New England Patriots': 'BOS', 'Miami Dolphins': 'MIA', 'New York Jets': 'NYJ', 'Buffalo Bills': 'BUF',\n",
    "                'Baltimore Ravens': 'BAL', 'Cincinnati Bengals': 'CIN', 'Pittsburgh Steelers': 'PIT', 'Cleveland Browns': 'CLE',\n",
    "                'Houston Texans': 'HOU', 'Indianapolis Colts': 'IND', 'Tennessee Titans': 'TEN', 'Jacksonville Jaguars': 'JAC',\n",
    "                'Denver Broncos': 'DEN', 'San Diego Chargers': 'SDG', 'Oakland Raiders': 'OAK', 'Kansas City Chiefs': 'KC',\n",
    "                'Washington Redskins': 'WAS', 'New York Giants': 'NYG', 'Dallas Cowboys': 'DAL', 'Arizona Cardinals': 'PHO',\n",
    "                'Philadelphia Eagles': 'PHI', 'Green Bay Packers': 'GB', 'Minnesota Vikings': 'MIN',\n",
    "                'Chicago Bears': 'CHI', 'Detroit Lions': 'DET', 'Atlanta Falcons': 'ATL', 'Carolina Panthers': 'CHO',\n",
    "                'New Orleans Saints': 'NOP', 'Tampa Bay Buccaneers': 'TB', 'San Francisco 49ers': 'SF', 'Seattle Seahawks': 'SEA',\n",
    "                'St. Louis Rams': 'STL', 'Los Angeles Chargers': 'LAC', 'Los Angeles Rams': 'LAR' }"
   ]
  },
  {
   "cell_type": "markdown",
   "metadata": {},
   "source": [
    "#### Player names for entity recognition and fuzzy matching\n",
    "When extracting named entities, I had to be careful with some names that are common English words (e.g. \"Brown\"). As a shorter alternative to performing NER, I also sometimes simply extracted player names as keywords."
   ]
  },
  {
   "cell_type": "code",
   "execution_count": 26,
   "metadata": {},
   "outputs": [],
   "source": [
    "UNIQUE_NAMES = {x.replace('\\\\', '') for x in set(demo_df.Player.unique())}\n",
    "UNIQUE_NAMES = UNIQUE_NAMES.union(set(coaches_race_df.iloc[:,0].str.lower()))"
   ]
  },
  {
   "cell_type": "code",
   "execution_count": 54,
   "metadata": {},
   "outputs": [],
   "source": [
    "NAMED_ENTITIES = set(' '.join(UNIQUE_NAMES).split()).union({'rg3', 'obj', 'saquads', 'cantguardmike', 'tractorcito', 'bmarsh',\n",
    "                                                            'berman', 'coughlin', 'dungy', 'mcdaniels', 'spanos', 'gronk', 'bledsoe', 'garopolo'})\n",
    "NAMED_ENTITIES = NAMED_ENTITIES.union(non_players_set)\n",
    "# some players have common word names; don't want to detect those as entities when lowercase, but do want to when uppercase\n",
    "UPPER_ENTITIES = {'Ah', 'Black', 'Ball', 'Battle', 'Bell', 'Best', 'Blue', 'Board', 'Brown', 'Buddy', 'Burden',\n",
    "                  'Case', 'Chance', 'Choice', 'City', 'Cook', 'Dare', 'Day', 'Early',\n",
    "                  'Fish', 'Free', 'Grant', 'Good', 'Hand', 'Heard', 'Hill', 'Hope', 'Hurt', 'House', 'Holiday', 'Key',\n",
    "                  'Little', 'Guy', 'Long', 'Love', 'Light', 'Line', 'Luck', 'Major', 'Means', 'New', \n",
    "                  'Pace', 'Person', 'Petty','Pool', 'Price','Rob', 'Rose', 'Red', 'Rock', 'Rush',\n",
    "                  'Savage', 'Season', 'Short', 'Shorts', 'Strong', 'Small', 'Smart', 'Star', 'Stone', 'Story', \n",
    "                  'Temple', 'Tuck', 'Wall', 'Wear', 'Weeks', 'White', 'Will', 'Way', 'West', 'Wise', 'Young', }\n",
    "NAMED_ENTITIES = NAMED_ENTITIES - {'a', 'g', 'ah', 'you', 'has', 'good', 'still'} - {name.lower() for name in UPPER_ENTITIES}\n",
    "# remove periods for some names\n",
    "table = str.maketrans({key: None for key in string.punctuation})\n",
    "NOPUNCT_ENTITIES = {name.translate(table) for name in NAMED_ENTITIES}\n",
    "NAMED_ENTITIES = NAMED_ENTITIES.union(NOPUNCT_ENTITIES)"
   ]
  },
  {
   "cell_type": "markdown",
   "metadata": {},
   "source": [
    "## Calculate sentiment \n",
    "### Reddit sentiment for 2017-18 season\n",
    "I created a module, `sentiment_sports` to calculate the sentiment of comments. This function performs a few things:\n",
    "1. Separates comments into sentences\n",
    "2. Performs Named entity recognition using either NLTK, or using pre-existing list of entities\n",
    "3. Calculates sentiment using VADER with a modified lexicon"
   ]
  },
  {
   "cell_type": "code",
   "execution_count": null,
   "metadata": {},
   "outputs": [],
   "source": [
    "%%time\n",
    "_, sep_df = create_month_df('d:/data/sentiment_sports/nfl_reddit_comments/201709-comments_submissions.tsv')\n",
    "_, oct_df = create_month_df('d:/data/sentiment_sports/nfl_reddit_comments/201710-comments_submissions.tsv')\n",
    "_, nov_df = create_month_df('d:/data/sentiment_sports/nfl_reddit_comments/201711-comments_submissions.tsv')\n",
    "_, dec_df = create_month_df('d:/data/sentiment_sports/nfl_reddit_comments/201712-comments_submissions.tsv')\n",
    "_, jan_df = create_month_df('d:/data/sentiment_sports/nfl_reddit_comments/201801-comments_submissions.tsv')\n",
    "_, feb_df = create_month_df('d:/data/sentiment_sports/nfl_reddit_comments/201802-comments_submissions.tsv')"
   ]
  },
  {
   "cell_type": "code",
   "execution_count": 61,
   "metadata": {},
   "outputs": [
    {
     "data": {
      "text/plain": [
       "(663750, 15)"
      ]
     },
     "execution_count": 61,
     "metadata": {},
     "output_type": "execute_result"
    }
   ],
   "source": [
    "#600k pre non_player filter\n",
    "nfl2017_df = pd.concat([sep_df, oct_df, nov_df, dec_df, jan_df, feb_df])\n",
    "nfl2017_df.shape"
   ]
  },
  {
   "cell_type": "code",
   "execution_count": 62,
   "metadata": {},
   "outputs": [
    {
     "name": "stdout",
     "output_type": "stream",
     "text": [
      "Fuzzy matching player names\n",
      "Wall time: 20min 18s\n"
     ]
    }
   ],
   "source": [
    "%%time\n",
    "# 27 minutes with 8 cores\n",
    "nfl2017_df = ss.fuzzy_match_players(nfl2017_df, UNIQUE_NAMES)"
   ]
  },
  {
   "cell_type": "code",
   "execution_count": 63,
   "metadata": {},
   "outputs": [],
   "source": [
    "nfl2017_df.to_csv('d:/data/sentiment_sports/nfl2017_ner_sentiment.tsv', sep='\\t',\n",
    "               index=False, encoding = 'utf-8')"
   ]
  },
  {
   "cell_type": "markdown",
   "metadata": {},
   "source": [
    "#### 2016-2017 season"
   ]
  },
  {
   "cell_type": "code",
   "execution_count": null,
   "metadata": {},
   "outputs": [],
   "source": [
    "%%time\n",
    "year =2016\n",
    "_, sep_df = create_month_df(f'd:/data/sentiment_sports/nfl_reddit_comments/{year}09-comments_submissions.tsv')\n",
    "_, oct_df = create_month_df(f'd:/data/sentiment_sports/nfl_reddit_comments/{year}10-comments_submissions.tsv')\n",
    "_, nov_df = create_month_df(f'd:/data/sentiment_sports/nfl_reddit_comments/{year}11-comments_submissions.tsv')\n",
    "_, dec_df = create_month_df(f'd:/data/sentiment_sports/nfl_reddit_comments/{year}12-comments_submissions.tsv')\n",
    "_, jan_df = create_month_df(f'd:/data/sentiment_sports/nfl_reddit_comments/{year+1}01-comments_submissions.tsv')\n",
    "_, feb_df = create_month_df(f'd:/data/sentiment_sports/nfl_reddit_comments/{year+1}02-comments_submissions.tsv')"
   ]
  },
  {
   "cell_type": "code",
   "execution_count": 65,
   "metadata": {},
   "outputs": [
    {
     "data": {
      "text/plain": [
       "(518647, 15)"
      ]
     },
     "execution_count": 65,
     "metadata": {},
     "output_type": "execute_result"
    }
   ],
   "source": [
    "nfl2016_df = pd.concat([sep_df, oct_df, nov_df, dec_df, jan_df, feb_df])\n",
    "nfl2016_df.shape"
   ]
  },
  {
   "cell_type": "code",
   "execution_count": 66,
   "metadata": {},
   "outputs": [
    {
     "name": "stdout",
     "output_type": "stream",
     "text": [
      "Fuzzy matching player names\n",
      "Wall time: 19min 49s\n"
     ]
    }
   ],
   "source": [
    "%%time\n",
    "# 27 minutes with 8 cores\n",
    "nfl2016_df = ss.fuzzy_match_players(nfl2016_df, UNIQUE_NAMES)"
   ]
  },
  {
   "cell_type": "code",
   "execution_count": 68,
   "metadata": {},
   "outputs": [],
   "source": [
    "nfl2016_df.to_csv('d:/data/sentiment_sports/nfl2016_ner_sentiment.tsv', sep='\\t',\n",
    "               index=False, encoding = 'utf-8')"
   ]
  },
  {
   "cell_type": "markdown",
   "metadata": {},
   "source": [
    "#### 2015-2016 season"
   ]
  },
  {
   "cell_type": "code",
   "execution_count": null,
   "metadata": {},
   "outputs": [],
   "source": [
    "%%time\n",
    "year =2015\n",
    "_, sep_df = create_month_df(f'd:/data/sentiment_sports/nfl_reddit_comments/{year}09-comments_submissions.tsv')\n",
    "_, oct_df = create_month_df(f'd:/data/sentiment_sports/nfl_reddit_comments/{year}10-comments_submissions.tsv')\n",
    "_, nov_df = create_month_df(f'd:/data/sentiment_sports/nfl_reddit_comments/{year}11-comments_submissions.tsv')\n",
    "_, dec_df = create_month_df(f'd:/data/sentiment_sports/nfl_reddit_comments/{year}12-comments_submissions.tsv')\n",
    "_, jan_df = create_month_df(f'd:/data/sentiment_sports/nfl_reddit_comments/{year+1}01-comments_submissions.tsv')\n",
    "_, feb_df = create_month_df(f'd:/data/sentiment_sports/nfl_reddit_comments/{year+1}02-comments_submissions.tsv')"
   ]
  },
  {
   "cell_type": "code",
   "execution_count": 69,
   "metadata": {},
   "outputs": [
    {
     "data": {
      "text/plain": [
       "(522973, 15)"
      ]
     },
     "execution_count": 69,
     "metadata": {},
     "output_type": "execute_result"
    }
   ],
   "source": [
    "nfl2015_df = pd.concat([sep_df, oct_df, nov_df, dec_df, jan_df, feb_df])\n",
    "nfl2015_df.shape"
   ]
  },
  {
   "cell_type": "code",
   "execution_count": 70,
   "metadata": {},
   "outputs": [
    {
     "name": "stdout",
     "output_type": "stream",
     "text": [
      "Fuzzy matching player names\n",
      "Wall time: 20min 4s\n"
     ]
    }
   ],
   "source": [
    "%%time\n",
    "# 27 minutes with 8 cores\n",
    "nfl2015_df = ss.fuzzy_match_players(nfl2015_df, UNIQUE_NAMES)"
   ]
  },
  {
   "cell_type": "code",
   "execution_count": 71,
   "metadata": {},
   "outputs": [],
   "source": [
    "nfl2015_df.to_csv('d:/data/sentiment_sports/nfl2015_ner_sentiment.tsv', sep='\\t',\n",
    "               index=False, encoding = 'utf-8')"
   ]
  },
  {
   "cell_type": "markdown",
   "metadata": {},
   "source": [
    "### Load comment sentiment"
   ]
  },
  {
   "cell_type": "code",
   "execution_count": 12,
   "metadata": {},
   "outputs": [
    {
     "name": "stderr",
     "output_type": "stream",
     "text": [
      "C:\\ProgramData\\Anaconda3\\lib\\site-packages\\IPython\\core\\interactiveshell.py:2785: DtypeWarning: Columns (1,2,4) have mixed types. Specify dtype option on import or set low_memory=False.\n",
      "  interactivity=interactivity, compiler=compiler, result=result)\n"
     ]
    }
   ],
   "source": [
    "nfl2015_df = pd.read_csv('d:/data/sentiment_sports/nfl2015_ner_sentiment.tsv',sep='\\t', encoding = 'utf-8')\n",
    "nfl2015_df['named_entities'] = nfl2015_df['named_entities'].apply(literal_eval)\n",
    "nfl2016_df = pd.read_csv('d:/data/sentiment_sports/nfl2016_ner_sentiment.tsv',sep='\\t', encoding = 'utf-8')\n",
    "nfl2016_df['named_entities'] = nfl2016_df['named_entities'].apply(literal_eval)\n",
    "nfl2017_df = pd.read_csv('d:/data/sentiment_sports/nfl2017_ner_sentiment.tsv',sep='\\t', encoding = 'utf-8')\n",
    "nfl2017_df['named_entities'] = nfl2017_df['named_entities'].apply(literal_eval)"
   ]
  },
  {
   "cell_type": "code",
   "execution_count": 13,
   "metadata": {},
   "outputs": [],
   "source": [
    "nfl2015_df['year'] = 2015\n",
    "nfl2016_df['year'] = 2016\n",
    "nfl2017_df['year'] = 2017"
   ]
  },
  {
   "cell_type": "code",
   "execution_count": 14,
   "metadata": {},
   "outputs": [],
   "source": [
    "nfl_df = pd.concat([nfl2015_df, nfl2016_df, nfl2017_df])"
   ]
  },
  {
   "cell_type": "markdown",
   "metadata": {},
   "source": [
    "#### Cleaning up name matches\n",
    "Some extracted name entities don't have a clear match (e.g. \"Rivers\" could be Austin Rivers or Doc Rivers). Here we clean those out"
   ]
  },
  {
   "cell_type": "code",
   "execution_count": 16,
   "metadata": {},
   "outputs": [],
   "source": [
    "name_map = {name:'unclear' for name in ['rivers', 'bird', 'brady moss']}\n",
    "name_map.update({'barr':'anthony barr', 'bmarsh':'brandon marshall', 'brady': 'tom brady', 'carr':'derek carr', \n",
    "                 'carson': 'carson palmer', 'clowney': 'jadeveon clowney', 'cousins': 'kirk cousins', 'crabtree':'michael crabtree', \n",
    "                'dak':'dak prescott', 'dalton':'andy dalton', 'dez': 'dez bryant', 'eli': 'eli manning', 'ertz':'zach ertz', 'freeman':'devonta freeman',\n",
    "                 'goff':'jared goff', 'gore':'frank gore', 'gronk':'rob gronkowski', 'gurley':'todd gurley',\n",
    "                 'ingram': 'mark ingram', 'jj': 'j.j. watt', 'kamara':'alvin kamara', 'kelce': 'travis kelce',\n",
    "                 'landry': 'jarvis landry', 'mccarron':'aj mccarron', 'obj': 'odell beckham',\n",
    "                 'peyton':'peyton manning', 'peterman':'nathan peterman', 'pryor':'terrelle pryor',\n",
    "                 'rodgers':'aaron rodgers', 'stafford':'matthew stafford', 'saquads': 'saquon barkley', 'tractorcito': 'derrick henry',\n",
    "                'vick': 'michael vick', 'watt':'j.j. watt'})"
   ]
  },
  {
   "cell_type": "code",
   "execution_count": 17,
   "metadata": {},
   "outputs": [
    {
     "name": "stdout",
     "output_type": "stream",
     "text": [
      "Wall time: 32 s\n"
     ]
    }
   ],
   "source": [
    "%%time\n",
    "nfl_df['fuzzy_name'] = nfl_df.apply(lambda row: name_map[row['str_entities']] if row['str_entities'] in name_map else row['fuzzy_name'], axis=1)"
   ]
  },
  {
   "cell_type": "markdown",
   "metadata": {},
   "source": [
    "Remove players whose names have implicit sentiment"
   ]
  },
  {
   "cell_type": "code",
   "execution_count": 18,
   "metadata": {},
   "outputs": [],
   "source": [
    "senti_players = ['maurice hurt', 'chris hope', 'tom savage', 'chandler burden', 'bryce petty',\n",
    "                 'andrew luck', 'lucky whitehead', 'jahvid best', 'champ bailey']\n",
    "nfl_df = nfl_df[nfl_df['fuzzy_name'].apply(lambda row: row not in senti_players)]"
   ]
  },
  {
   "cell_type": "markdown",
   "metadata": {},
   "source": [
    "#### Query to investigate non-mappings"
   ]
  },
  {
   "cell_type": "raw",
   "metadata": {},
   "source": [
    "nfl2017_df.merge(pd.DataFrame(nfl2017_df.str_entities.value_counts().head(500).index, columns = ['str_entities']), on='str_entities').query('fuzzy_name == \"unclear\" and str_entities != \"you\"').sample(50)"
   ]
  },
  {
   "cell_type": "raw",
   "metadata": {},
   "source": [
    "ss.extract_known_ner(nfl2017_df[nfl2017_df.sentences == \"thanks josh mcdaniels.\"], NAMED_ENTITIES)"
   ]
  },
  {
   "cell_type": "raw",
   "metadata": {},
   "source": [
    "import importlib\n",
    "importlib.reload(ss)\n",
    "ss.clean_entities(nfl2017_df[nfl2017_df.sentences == \"jags would have a worse record under eli than they do right now.\"])"
   ]
  },
  {
   "cell_type": "markdown",
   "metadata": {},
   "source": [
    "#### Combine seasons into a single dataframe"
   ]
  },
  {
   "cell_type": "code",
   "execution_count": 19,
   "metadata": {},
   "outputs": [
    {
     "data": {
      "text/plain": [
       "(832405, 17)"
      ]
     },
     "execution_count": 19,
     "metadata": {},
     "output_type": "execute_result"
    }
   ],
   "source": [
    "match_df = nfl_df.query('fuzzy_name != \"unclear\"')\n",
    "match_df.shape"
   ]
  },
  {
   "cell_type": "markdown",
   "metadata": {},
   "source": [
    "### User-level metrics"
   ]
  },
  {
   "cell_type": "code",
   "execution_count": 84,
   "metadata": {},
   "outputs": [],
   "source": [
    "user_df = match_df.groupby('user').agg({'score':['sum', 'count', 'mean']}).fillna(0)\n",
    "user_df.columns = ['user_total_score', 'user_total_comments', 'user_mean_score']"
   ]
  },
  {
   "cell_type": "markdown",
   "metadata": {},
   "source": [
    "#### First calculate the average sentiment for each player from each user"
   ]
  },
  {
   "cell_type": "code",
   "execution_count": 24,
   "metadata": {},
   "outputs": [
    {
     "data": {
      "text/html": [
       "<div>\n",
       "<style scoped>\n",
       "    .dataframe tbody tr th:only-of-type {\n",
       "        vertical-align: middle;\n",
       "    }\n",
       "\n",
       "    .dataframe tbody tr th {\n",
       "        vertical-align: top;\n",
       "    }\n",
       "\n",
       "    .dataframe thead th {\n",
       "        text-align: right;\n",
       "    }\n",
       "</style>\n",
       "<table border=\"1\" class=\"dataframe\">\n",
       "  <thead>\n",
       "    <tr style=\"text-align: right;\">\n",
       "      <th></th>\n",
       "      <th>fuzzy_name</th>\n",
       "      <th>user</th>\n",
       "      <th>year</th>\n",
       "      <th>flair</th>\n",
       "      <th>compound_mean</th>\n",
       "      <th>compound_std</th>\n",
       "      <th>comment_count</th>\n",
       "    </tr>\n",
       "  </thead>\n",
       "  <tbody>\n",
       "    <tr>\n",
       "      <th>0</th>\n",
       "      <td>a'shawn robinson</td>\n",
       "      <td>AshytooClassy</td>\n",
       "      <td>2017</td>\n",
       "      <td>Lions</td>\n",
       "      <td>0.0</td>\n",
       "      <td>NaN</td>\n",
       "      <td>1</td>\n",
       "    </tr>\n",
       "  </tbody>\n",
       "</table>\n",
       "</div>"
      ],
      "text/plain": [
       "         fuzzy_name           user  year  flair  compound_mean  compound_std  \\\n",
       "0  a'shawn robinson  AshytooClassy  2017  Lions            0.0           NaN   \n",
       "\n",
       "   comment_count  \n",
       "0              1  "
      ]
     },
     "execution_count": 24,
     "metadata": {},
     "output_type": "execute_result"
    }
   ],
   "source": [
    "user_player_sentiment_df = (match_df.groupby(['fuzzy_name', 'user', 'year', 'flair'])\n",
    "                                    .agg({'compound':['mean', 'std', 'count']})\n",
    "                                    .reset_index())\n",
    "user_player_sentiment_df.columns = ['fuzzy_name', 'user', 'year', 'flair', 'compound_mean', 'compound_std', 'comment_count']\n",
    "user_player_sentiment_df.head(1)"
   ]
  },
  {
   "cell_type": "markdown",
   "metadata": {},
   "source": [
    "#### Match user flairs to teams"
   ]
  },
  {
   "cell_type": "code",
   "execution_count": 89,
   "metadata": {},
   "outputs": [],
   "source": [
    "city_mapping.update({'Falcons':'ATL', 'Ravens':'BAL', 'Patriots':'BOS', \n",
    "                     'Panthers':'CHO', 'Browns':'CLE', 'Bears':'CHI',\n",
    "                'Cowboys':'DAL', 'Broncos':'DEN', 'Lions':'DET', \n",
    "                'Lakers':'LAL', 'Rams':'LAR', \n",
    "              'Giants':'NYG',  'Jets':'NYJ', 'Texans':'HOU',\n",
    "              'Vikings':'MIN', 'Dolphins':'MIA',\n",
    "              'Eagles':'PHI', 'Cardinals':'PHO', \n",
    "              'Colts':'IND','Redskins':'WAS', \n",
    "              'Saints':'NOP', 'Titans':'TEN', \n",
    "              'Packers':'GB', 'Seahawks':'SEA', 'Steelers':'PIT','Raiders':'OAK',\n",
    "                'Chiefs':'KC','Bills':'BUF', 'Jaguars':'JAC', '49ers':'SF',\n",
    "                'Chargers':'LAC', 'Bengals':'CIN', 'Buccaneers':'TB'})\n",
    "def get_flair(flair_string, flair_dict, flair_regex):\n",
    "    ''' Match flairs that are team name, or have team abbreviation within brackets'''\n",
    "    if flair_string in flair_dict:\n",
    "        return flair_dict[flair_string]\n",
    "    elif re.match(flair_regex, flair_string):\n",
    "        return re.search(flair_regex, flair_string).groups(1)[0]\n",
    "    return 'no_team'\n",
    "flair_regex = '^\\[(\\w{3})\\]'\n",
    "user_player_sentiment_df['user_Tm'] = user_player_sentiment_df['flair'].apply(lambda row: get_flair(row, city_mapping, flair_regex))"
   ]
  },
  {
   "cell_type": "code",
   "execution_count": 91,
   "metadata": {},
   "outputs": [],
   "source": [
    "city_df = pd.read_csv('d:/data/sentiment_sports/covariates/sports_metro_demographics.csv').drop(columns = ['census_Id', 'census_Id2', 'Geography'])\n",
    "vote_df = pd.read_csv('d:/data/sentiment_sports/covariates/msa_votes.tsv', sep='\\t')[['per_point_diff', 'Tm']].rename(columns={'per_point_diff':'clinton_vote_lead'})"
   ]
  },
  {
   "cell_type": "code",
   "execution_count": 92,
   "metadata": {},
   "outputs": [],
   "source": [
    "user_player_regression_df = (user_player_sentiment_df.rename(columns = {'fuzzy_name':'Player'})\n",
    "                         .merge(covariates_df, on = ['Player', 'year'], how = 'left')\n",
    "                         .merge(user_df, on='user', how='left'))\n",
    "user_player_regression_df['team_match'] = user_player_regression_df['Tm'] == user_player_regression_df['user_Tm']\n",
    "user_player_regression_df = (user_player_regression_df.drop(columns = ['metro_percent_white', 'metro_percent_black', 'clinton_vote_lead', 'total_population'])\n",
    "                                    .merge(vote_df.rename(columns = {'Tm':'user_Tm'}), on='user_Tm', how='left')\n",
    "                                    .merge(city_df.rename(columns = {'Tm':'user_Tm'}), on='user_Tm', how='left'))\n",
    "user_player_regression_df['youth'] = (user_player_regression_df['experience'].mean() - user_player_regression_df['experience']).clip(0)\n",
    "user_player_regression_df['oldness'] = (user_player_regression_df['experience'] - user_player_regression_df['experience'].mean()).clip(0)\n",
    "user_player_regression_df['rookie'] = user_player_regression_df['experience'] <=4\n",
    "user_player_regression_df['white_black_diff'] = user_player_regression_df['metro_percent_white'] - user_player_regression_df['metro_percent_black']\n",
    "user_player_regression_df['height_dummies'] = pd.cut(user_player_regression_df['height'], [0, 72, 100], labels = ['short', 'tall'])\n",
    "user_player_regression_df['standard_salary'] = user_player_regression_df['standard_salary'].fillna(user_player_regression_df['standard_salary'].mean())"
   ]
  },
  {
   "cell_type": "code",
   "execution_count": 11,
   "metadata": {},
   "outputs": [],
   "source": [
    "#user_player_regression_df.to_csv('d:/data/sentiment_sports/nfl_user_player_sentiment.tsv', sep='\\t', index=False)\n",
    "user_player_regression_df = pd.read_csv('d:/data/sentiment_sports/nfl_user_player_sentiment.tsv', sep='\\t')"
   ]
  },
  {
   "cell_type": "markdown",
   "metadata": {},
   "source": [
    "#### Then calculate the average sentiment to players across all users"
   ]
  },
  {
   "cell_type": "code",
   "execution_count": 25,
   "metadata": {},
   "outputs": [],
   "source": [
    "player_sentiment_df = (user_player_sentiment_df.query('compound_mean != 0')\n",
    "                                               .groupby(['fuzzy_name', 'year'])\n",
    "                                               .agg({'compound_mean':['mean', 'std', 'count']})\n",
    "                                               .reset_index() )\n",
    "player_sentiment_df.columns = ['fuzzy_name', 'year', 'compound_mean_mean', 'compound_mean_std', 'user_count']"
   ]
  },
  {
   "cell_type": "markdown",
   "metadata": {},
   "source": [
    "### Exploration of sentiment alone\n",
    "Plot of player popularity (number of users who comment on them), versus sentiment"
   ]
  },
  {
   "cell_type": "code",
   "execution_count": 94,
   "metadata": {},
   "outputs": [
    {
     "data": {
      "text/plain": [
       "Text(0,0.5,'Mean sentiment')"
      ]
     },
     "execution_count": 94,
     "metadata": {},
     "output_type": "execute_result"
    },
    {
     "data": {
      "image/png": "[encoded data removed]",
      "text/plain": [
       "<Figure size 432x288 with 1 Axes>"
      ]
     },
     "metadata": {
      "needs_background": "light"
     },
     "output_type": "display_data"
    }
   ],
   "source": [
    "player_sentiment_df.query('user_count> 100').plot('user_count', 'compound_mean_mean', kind='scatter', alpha = 0.5)\n",
    "#plt.plot([100, 100], [-0.1, 0.3])\n",
    "plt.xlabel('# of users who comment on a player')\n",
    "plt.ylabel('Mean sentiment')"
   ]
  },
  {
   "cell_type": "markdown",
   "metadata": {},
   "source": [
    "#### Most commented players"
   ]
  },
  {
   "cell_type": "code",
   "execution_count": 95,
   "metadata": {},
   "outputs": [
    {
     "data": {
      "text/html": [
       "<div>\n",
       "<style scoped>\n",
       "    .dataframe tbody tr th:only-of-type {\n",
       "        vertical-align: middle;\n",
       "    }\n",
       "\n",
       "    .dataframe tbody tr th {\n",
       "        vertical-align: top;\n",
       "    }\n",
       "\n",
       "    .dataframe thead th {\n",
       "        text-align: right;\n",
       "    }\n",
       "</style>\n",
       "<table border=\"1\" class=\"dataframe\">\n",
       "  <thead>\n",
       "    <tr style=\"text-align: right;\">\n",
       "      <th></th>\n",
       "      <th>fuzzy_name</th>\n",
       "      <th>year</th>\n",
       "      <th>compound_mean_mean</th>\n",
       "      <th>compound_mean_std</th>\n",
       "      <th>user_count</th>\n",
       "    </tr>\n",
       "  </thead>\n",
       "  <tbody>\n",
       "    <tr>\n",
       "      <th>8215</th>\n",
       "      <td>tom brady</td>\n",
       "      <td>2017</td>\n",
       "      <td>0.085859</td>\n",
       "      <td>0.382076</td>\n",
       "      <td>5273</td>\n",
       "    </tr>\n",
       "    <tr>\n",
       "      <th>8214</th>\n",
       "      <td>tom brady</td>\n",
       "      <td>2016</td>\n",
       "      <td>0.095046</td>\n",
       "      <td>0.381020</td>\n",
       "      <td>4965</td>\n",
       "    </tr>\n",
       "    <tr>\n",
       "      <th>8213</th>\n",
       "      <td>tom brady</td>\n",
       "      <td>2015</td>\n",
       "      <td>0.079699</td>\n",
       "      <td>0.382783</td>\n",
       "      <td>4152</td>\n",
       "    </tr>\n",
       "    <tr>\n",
       "      <th>6770</th>\n",
       "      <td>peyton manning</td>\n",
       "      <td>2015</td>\n",
       "      <td>0.070516</td>\n",
       "      <td>0.391246</td>\n",
       "      <td>2884</td>\n",
       "    </tr>\n",
       "    <tr>\n",
       "      <th>63</th>\n",
       "      <td>aaron rodgers</td>\n",
       "      <td>2016</td>\n",
       "      <td>0.078407</td>\n",
       "      <td>0.396450</td>\n",
       "      <td>2674</td>\n",
       "    </tr>\n",
       "  </tbody>\n",
       "</table>\n",
       "</div>"
      ],
      "text/plain": [
       "          fuzzy_name  year  compound_mean_mean  compound_mean_std  user_count\n",
       "8215       tom brady  2017            0.085859           0.382076        5273\n",
       "8214       tom brady  2016            0.095046           0.381020        4965\n",
       "8213       tom brady  2015            0.079699           0.382783        4152\n",
       "6770  peyton manning  2015            0.070516           0.391246        2884\n",
       "63     aaron rodgers  2016            0.078407           0.396450        2674"
      ]
     },
     "execution_count": 95,
     "metadata": {},
     "output_type": "execute_result"
    }
   ],
   "source": [
    "player_sentiment_df.sort_values('user_count', ascending=False).head()"
   ]
  },
  {
   "cell_type": "markdown",
   "metadata": {},
   "source": [
    "#### Players with lowest sentiment"
   ]
  },
  {
   "cell_type": "code",
   "execution_count": 96,
   "metadata": {},
   "outputs": [
    {
     "data": {
      "text/html": [
       "<div>\n",
       "<style scoped>\n",
       "    .dataframe tbody tr th:only-of-type {\n",
       "        vertical-align: middle;\n",
       "    }\n",
       "\n",
       "    .dataframe tbody tr th {\n",
       "        vertical-align: top;\n",
       "    }\n",
       "\n",
       "    .dataframe thead th {\n",
       "        text-align: right;\n",
       "    }\n",
       "</style>\n",
       "<table border=\"1\" class=\"dataframe\">\n",
       "  <thead>\n",
       "    <tr style=\"text-align: right;\">\n",
       "      <th></th>\n",
       "      <th>fuzzy_name</th>\n",
       "      <th>year</th>\n",
       "      <th>compound_mean_mean</th>\n",
       "      <th>compound_mean_std</th>\n",
       "      <th>user_count</th>\n",
       "    </tr>\n",
       "  </thead>\n",
       "  <tbody>\n",
       "    <tr>\n",
       "      <th>3391</th>\n",
       "      <td>gregg williams</td>\n",
       "      <td>2017</td>\n",
       "      <td>-0.292426</td>\n",
       "      <td>0.401353</td>\n",
       "      <td>212</td>\n",
       "    </tr>\n",
       "    <tr>\n",
       "      <th>6095</th>\n",
       "      <td>michael bennett</td>\n",
       "      <td>2017</td>\n",
       "      <td>-0.246168</td>\n",
       "      <td>0.432726</td>\n",
       "      <td>166</td>\n",
       "    </tr>\n",
       "    <tr>\n",
       "      <th>3390</th>\n",
       "      <td>gregg williams</td>\n",
       "      <td>2016</td>\n",
       "      <td>-0.229989</td>\n",
       "      <td>0.425208</td>\n",
       "      <td>131</td>\n",
       "    </tr>\n",
       "    <tr>\n",
       "      <th>2157</th>\n",
       "      <td>danny trevathan</td>\n",
       "      <td>2017</td>\n",
       "      <td>-0.152300</td>\n",
       "      <td>0.452943</td>\n",
       "      <td>121</td>\n",
       "    </tr>\n",
       "    <tr>\n",
       "      <th>8634</th>\n",
       "      <td>vontaze burfict</td>\n",
       "      <td>2015</td>\n",
       "      <td>-0.148928</td>\n",
       "      <td>0.418612</td>\n",
       "      <td>627</td>\n",
       "    </tr>\n",
       "  </tbody>\n",
       "</table>\n",
       "</div>"
      ],
      "text/plain": [
       "           fuzzy_name  year  compound_mean_mean  compound_mean_std  user_count\n",
       "3391   gregg williams  2017           -0.292426           0.401353         212\n",
       "6095  michael bennett  2017           -0.246168           0.432726         166\n",
       "3390   gregg williams  2016           -0.229989           0.425208         131\n",
       "2157  danny trevathan  2017           -0.152300           0.452943         121\n",
       "8634  vontaze burfict  2015           -0.148928           0.418612         627"
      ]
     },
     "execution_count": 96,
     "metadata": {},
     "output_type": "execute_result"
    }
   ],
   "source": [
    "player_sentiment_df.query('user_count > 100').sort_values('compound_mean_mean').head()"
   ]
  },
  {
   "cell_type": "markdown",
   "metadata": {},
   "source": [
    "#### Players with highest sentiment"
   ]
  },
  {
   "cell_type": "code",
   "execution_count": 97,
   "metadata": {},
   "outputs": [
    {
     "data": {
      "text/html": [
       "<div>\n",
       "<style scoped>\n",
       "    .dataframe tbody tr th:only-of-type {\n",
       "        vertical-align: middle;\n",
       "    }\n",
       "\n",
       "    .dataframe tbody tr th {\n",
       "        vertical-align: top;\n",
       "    }\n",
       "\n",
       "    .dataframe thead th {\n",
       "        text-align: right;\n",
       "    }\n",
       "</style>\n",
       "<table border=\"1\" class=\"dataframe\">\n",
       "  <thead>\n",
       "    <tr style=\"text-align: right;\">\n",
       "      <th></th>\n",
       "      <th>fuzzy_name</th>\n",
       "      <th>year</th>\n",
       "      <th>compound_mean_mean</th>\n",
       "      <th>compound_mean_std</th>\n",
       "      <th>user_count</th>\n",
       "    </tr>\n",
       "  </thead>\n",
       "  <tbody>\n",
       "    <tr>\n",
       "      <th>7006</th>\n",
       "      <td>reggie corner</td>\n",
       "      <td>2016</td>\n",
       "      <td>0.212758</td>\n",
       "      <td>0.432695</td>\n",
       "      <td>898</td>\n",
       "    </tr>\n",
       "    <tr>\n",
       "      <th>3559</th>\n",
       "      <td>j.j. watt</td>\n",
       "      <td>2016</td>\n",
       "      <td>0.215113</td>\n",
       "      <td>0.359252</td>\n",
       "      <td>1068</td>\n",
       "    </tr>\n",
       "    <tr>\n",
       "      <th>3560</th>\n",
       "      <td>j.j. watt</td>\n",
       "      <td>2017</td>\n",
       "      <td>0.217987</td>\n",
       "      <td>0.365602</td>\n",
       "      <td>840</td>\n",
       "    </tr>\n",
       "    <tr>\n",
       "      <th>2324</th>\n",
       "      <td>david johnson</td>\n",
       "      <td>2016</td>\n",
       "      <td>0.240712</td>\n",
       "      <td>0.417744</td>\n",
       "      <td>228</td>\n",
       "    </tr>\n",
       "    <tr>\n",
       "      <th>7567</th>\n",
       "      <td>sean mcvay</td>\n",
       "      <td>2017</td>\n",
       "      <td>0.280502</td>\n",
       "      <td>0.392170</td>\n",
       "      <td>267</td>\n",
       "    </tr>\n",
       "  </tbody>\n",
       "</table>\n",
       "</div>"
      ],
      "text/plain": [
       "         fuzzy_name  year  compound_mean_mean  compound_mean_std  user_count\n",
       "7006  reggie corner  2016            0.212758           0.432695         898\n",
       "3559      j.j. watt  2016            0.215113           0.359252        1068\n",
       "3560      j.j. watt  2017            0.217987           0.365602         840\n",
       "2324  david johnson  2016            0.240712           0.417744         228\n",
       "7567     sean mcvay  2017            0.280502           0.392170         267"
      ]
     },
     "execution_count": 97,
     "metadata": {},
     "output_type": "execute_result"
    }
   ],
   "source": [
    "player_sentiment_df.query('user_count > 200').sort_values('compound_mean_mean').tail(5)"
   ]
  },
  {
   "cell_type": "code",
   "execution_count": 98,
   "metadata": {},
   "outputs": [],
   "source": [
    "# temporary until I re-run sentiment scoring\n",
    "player_sentiment_df = player_sentiment_df.query('fuzzy_name != \"devonta freeman\"')"
   ]
  },
  {
   "cell_type": "markdown",
   "metadata": {},
   "source": [
    "#### Players with highest std of sentiment"
   ]
  },
  {
   "cell_type": "code",
   "execution_count": 99,
   "metadata": {},
   "outputs": [
    {
     "data": {
      "text/html": [
       "<div>\n",
       "<style scoped>\n",
       "    .dataframe tbody tr th:only-of-type {\n",
       "        vertical-align: middle;\n",
       "    }\n",
       "\n",
       "    .dataframe tbody tr th {\n",
       "        vertical-align: top;\n",
       "    }\n",
       "\n",
       "    .dataframe thead th {\n",
       "        text-align: right;\n",
       "    }\n",
       "</style>\n",
       "<table border=\"1\" class=\"dataframe\">\n",
       "  <thead>\n",
       "    <tr style=\"text-align: right;\">\n",
       "      <th></th>\n",
       "      <th>fuzzy_name</th>\n",
       "      <th>year</th>\n",
       "      <th>compound_mean_mean</th>\n",
       "      <th>compound_mean_std</th>\n",
       "      <th>user_count</th>\n",
       "    </tr>\n",
       "  </thead>\n",
       "  <tbody>\n",
       "    <tr>\n",
       "      <th>6980</th>\n",
       "      <td>ray lewis</td>\n",
       "      <td>2015</td>\n",
       "      <td>-0.066220</td>\n",
       "      <td>0.508156</td>\n",
       "      <td>230</td>\n",
       "    </tr>\n",
       "    <tr>\n",
       "      <th>3665</th>\n",
       "      <td>jake locker</td>\n",
       "      <td>2017</td>\n",
       "      <td>-0.022028</td>\n",
       "      <td>0.495409</td>\n",
       "      <td>823</td>\n",
       "    </tr>\n",
       "    <tr>\n",
       "      <th>3651</th>\n",
       "      <td>jake butt</td>\n",
       "      <td>2016</td>\n",
       "      <td>-0.072136</td>\n",
       "      <td>0.485159</td>\n",
       "      <td>350</td>\n",
       "    </tr>\n",
       "    <tr>\n",
       "      <th>3664</th>\n",
       "      <td>jake locker</td>\n",
       "      <td>2016</td>\n",
       "      <td>-0.013472</td>\n",
       "      <td>0.480238</td>\n",
       "      <td>663</td>\n",
       "    </tr>\n",
       "    <tr>\n",
       "      <th>5133</th>\n",
       "      <td>kevin boss</td>\n",
       "      <td>2017</td>\n",
       "      <td>0.016014</td>\n",
       "      <td>0.472658</td>\n",
       "      <td>406</td>\n",
       "    </tr>\n",
       "  </tbody>\n",
       "</table>\n",
       "</div>"
      ],
      "text/plain": [
       "       fuzzy_name  year  compound_mean_mean  compound_mean_std  user_count\n",
       "6980    ray lewis  2015           -0.066220           0.508156         230\n",
       "3665  jake locker  2017           -0.022028           0.495409         823\n",
       "3651    jake butt  2016           -0.072136           0.485159         350\n",
       "3664  jake locker  2016           -0.013472           0.480238         663\n",
       "5133   kevin boss  2017            0.016014           0.472658         406"
      ]
     },
     "execution_count": 99,
     "metadata": {},
     "output_type": "execute_result"
    }
   ],
   "source": [
    "player_sentiment_df.query('user_count > 200').sort_values('compound_mean_std').tail(5).iloc[::-1]"
   ]
  },
  {
   "cell_type": "markdown",
   "metadata": {},
   "source": [
    "#### Join player sentiment to performance and demographics\n",
    "Include only players with at least 100 comments to avoid fitting noise"
   ]
  },
  {
   "cell_type": "code",
   "execution_count": 101,
   "metadata": {},
   "outputs": [],
   "source": [
    "join_df = (player_sentiment_df.query('user_count >= 10')\n",
    "                         .merge(covariates_df, left_on = ['fuzzy_name', 'year'],\n",
    "                                                right_on = ['Player', 'year'])\n",
    "                        )"
   ]
  },
  {
   "cell_type": "markdown",
   "metadata": {},
   "source": [
    "### Explore demographics relationship with sentiment"
   ]
  },
  {
   "cell_type": "code",
   "execution_count": 102,
   "metadata": {},
   "outputs": [
    {
     "data": {
      "image/png": "[encoded data removed]",
      "text/plain": [
       "<Figure size 432x288 with 1 Axes>"
      ]
     },
     "metadata": {
      "needs_background": "light"
     },
     "output_type": "display_data"
    }
   ],
   "source": [
    "plt.plot(join_df['z_DVOA'].values, join_df['compound_mean_mean'].values, '.',alpha= 0.3);\n",
    "plt.xlabel('z_DVOA')\n",
    "plt.ylabel('Mean sentiment');"
   ]
  },
  {
   "cell_type": "code",
   "execution_count": 103,
   "metadata": {},
   "outputs": [
    {
     "data": {
      "text/html": [
       "<div>\n",
       "<style scoped>\n",
       "    .dataframe tbody tr th:only-of-type {\n",
       "        vertical-align: middle;\n",
       "    }\n",
       "\n",
       "    .dataframe tbody tr th {\n",
       "        vertical-align: top;\n",
       "    }\n",
       "\n",
       "    .dataframe thead th {\n",
       "        text-align: right;\n",
       "    }\n",
       "</style>\n",
       "<table border=\"1\" class=\"dataframe\">\n",
       "  <thead>\n",
       "    <tr style=\"text-align: right;\">\n",
       "      <th></th>\n",
       "      <th>year</th>\n",
       "      <th>compound_mean_mean</th>\n",
       "      <th>compound_mean_std</th>\n",
       "      <th>user_count</th>\n",
       "      <th>DYAR</th>\n",
       "      <th>DVOA</th>\n",
       "      <th>TD</th>\n",
       "      <th>z_DYAR</th>\n",
       "      <th>z_DVOA</th>\n",
       "      <th>z_TD</th>\n",
       "      <th>level_1</th>\n",
       "      <th>start_year</th>\n",
       "      <th>end_year</th>\n",
       "      <th>height</th>\n",
       "      <th>weight</th>\n",
       "      <th>salary</th>\n",
       "      <th>standard_salary</th>\n",
       "      <th>Wins</th>\n",
       "      <th>total_population</th>\n",
       "      <th>metro_percent_white</th>\n",
       "      <th>metro_percent_black</th>\n",
       "      <th>clinton_vote_lead</th>\n",
       "      <th>experience</th>\n",
       "    </tr>\n",
       "    <tr>\n",
       "      <th>race</th>\n",
       "      <th></th>\n",
       "      <th></th>\n",
       "      <th></th>\n",
       "      <th></th>\n",
       "      <th></th>\n",
       "      <th></th>\n",
       "      <th></th>\n",
       "      <th></th>\n",
       "      <th></th>\n",
       "      <th></th>\n",
       "      <th></th>\n",
       "      <th></th>\n",
       "      <th></th>\n",
       "      <th></th>\n",
       "      <th></th>\n",
       "      <th></th>\n",
       "      <th></th>\n",
       "      <th></th>\n",
       "      <th></th>\n",
       "      <th></th>\n",
       "      <th></th>\n",
       "      <th></th>\n",
       "      <th></th>\n",
       "    </tr>\n",
       "  </thead>\n",
       "  <tbody>\n",
       "    <tr>\n",
       "      <th>B</th>\n",
       "      <td>2015.991304</td>\n",
       "      <td>0.138103</td>\n",
       "      <td>0.420482</td>\n",
       "      <td>119.026087</td>\n",
       "      <td>107.918841</td>\n",
       "      <td>0.680870</td>\n",
       "      <td>6.046377</td>\n",
       "      <td>0.016535</td>\n",
       "      <td>-0.010581</td>\n",
       "      <td>0.139980</td>\n",
       "      <td>4.118841</td>\n",
       "      <td>2011.892754</td>\n",
       "      <td>2017.707246</td>\n",
       "      <td>72.704348</td>\n",
       "      <td>214.817391</td>\n",
       "      <td>4.367726e+06</td>\n",
       "      <td>14.769618</td>\n",
       "      <td>7.971014</td>\n",
       "      <td>4.767395e+06</td>\n",
       "      <td>69.475942</td>\n",
       "      <td>15.362609</td>\n",
       "      <td>0.332255</td>\n",
       "      <td>4.098551</td>\n",
       "    </tr>\n",
       "    <tr>\n",
       "      <th>L</th>\n",
       "      <td>2016.000000</td>\n",
       "      <td>0.097475</td>\n",
       "      <td>0.418116</td>\n",
       "      <td>168.000000</td>\n",
       "      <td>6.000000</td>\n",
       "      <td>-11.700000</td>\n",
       "      <td>1.000000</td>\n",
       "      <td>-0.813640</td>\n",
       "      <td>-0.770682</td>\n",
       "      <td>-1.253929</td>\n",
       "      <td>5.000000</td>\n",
       "      <td>2010.000000</td>\n",
       "      <td>2016.000000</td>\n",
       "      <td>72.000000</td>\n",
       "      <td>204.000000</td>\n",
       "      <td>4.400000e+06</td>\n",
       "      <td>15.297115</td>\n",
       "      <td>11.000000</td>\n",
       "      <td>2.003144e+07</td>\n",
       "      <td>58.700000</td>\n",
       "      <td>17.100000</td>\n",
       "      <td>0.618300</td>\n",
       "      <td>6.000000</td>\n",
       "    </tr>\n",
       "    <tr>\n",
       "      <th>M</th>\n",
       "      <td>2017.000000</td>\n",
       "      <td>-0.003271</td>\n",
       "      <td>0.454762</td>\n",
       "      <td>19.000000</td>\n",
       "      <td>85.000000</td>\n",
       "      <td>35.000000</td>\n",
       "      <td>5.000000</td>\n",
       "      <td>0.691648</td>\n",
       "      <td>1.789748</td>\n",
       "      <td>0.734209</td>\n",
       "      <td>3.000000</td>\n",
       "      <td>2014.000000</td>\n",
       "      <td>2018.000000</td>\n",
       "      <td>75.000000</td>\n",
       "      <td>235.000000</td>\n",
       "      <td>2.746000e+06</td>\n",
       "      <td>14.825656</td>\n",
       "      <td>13.000000</td>\n",
       "      <td>6.047721e+06</td>\n",
       "      <td>67.500000</td>\n",
       "      <td>20.900000</td>\n",
       "      <td>0.669100</td>\n",
       "      <td>3.000000</td>\n",
       "    </tr>\n",
       "    <tr>\n",
       "      <th>S</th>\n",
       "      <td>2016.000000</td>\n",
       "      <td>0.118817</td>\n",
       "      <td>0.443402</td>\n",
       "      <td>438.200000</td>\n",
       "      <td>239.400000</td>\n",
       "      <td>4.460000</td>\n",
       "      <td>13.600000</td>\n",
       "      <td>0.019236</td>\n",
       "      <td>0.213133</td>\n",
       "      <td>-0.017613</td>\n",
       "      <td>2.600000</td>\n",
       "      <td>2013.200000</td>\n",
       "      <td>2017.400000</td>\n",
       "      <td>75.600000</td>\n",
       "      <td>216.400000</td>\n",
       "      <td>4.114634e+06</td>\n",
       "      <td>14.968948</td>\n",
       "      <td>7.600000</td>\n",
       "      <td>2.198398e+06</td>\n",
       "      <td>78.420000</td>\n",
       "      <td>11.760000</td>\n",
       "      <td>0.224721</td>\n",
       "      <td>2.800000</td>\n",
       "    </tr>\n",
       "    <tr>\n",
       "      <th>W</th>\n",
       "      <td>2015.985816</td>\n",
       "      <td>0.113456</td>\n",
       "      <td>0.420415</td>\n",
       "      <td>522.602837</td>\n",
       "      <td>300.468085</td>\n",
       "      <td>5.300709</td>\n",
       "      <td>13.354610</td>\n",
       "      <td>0.305794</td>\n",
       "      <td>0.275113</td>\n",
       "      <td>0.191021</td>\n",
       "      <td>6.156028</td>\n",
       "      <td>2009.815603</td>\n",
       "      <td>2017.595745</td>\n",
       "      <td>75.631206</td>\n",
       "      <td>230.319149</td>\n",
       "      <td>8.103426e+06</td>\n",
       "      <td>15.357898</td>\n",
       "      <td>8.546099</td>\n",
       "      <td>5.131045e+06</td>\n",
       "      <td>69.880142</td>\n",
       "      <td>15.158865</td>\n",
       "      <td>0.362582</td>\n",
       "      <td>6.170213</td>\n",
       "    </tr>\n",
       "  </tbody>\n",
       "</table>\n",
       "</div>"
      ],
      "text/plain": [
       "             year  compound_mean_mean  compound_mean_std  user_count  \\\n",
       "race                                                                   \n",
       "B     2015.991304            0.138103           0.420482  119.026087   \n",
       "L     2016.000000            0.097475           0.418116  168.000000   \n",
       "M     2017.000000           -0.003271           0.454762   19.000000   \n",
       "S     2016.000000            0.118817           0.443402  438.200000   \n",
       "W     2015.985816            0.113456           0.420415  522.602837   \n",
       "\n",
       "            DYAR       DVOA         TD    z_DYAR    z_DVOA      z_TD  \\\n",
       "race                                                                   \n",
       "B     107.918841   0.680870   6.046377  0.016535 -0.010581  0.139980   \n",
       "L       6.000000 -11.700000   1.000000 -0.813640 -0.770682 -1.253929   \n",
       "M      85.000000  35.000000   5.000000  0.691648  1.789748  0.734209   \n",
       "S     239.400000   4.460000  13.600000  0.019236  0.213133 -0.017613   \n",
       "W     300.468085   5.300709  13.354610  0.305794  0.275113  0.191021   \n",
       "\n",
       "       level_1   start_year     end_year     height      weight        salary  \\\n",
       "race                                                                            \n",
       "B     4.118841  2011.892754  2017.707246  72.704348  214.817391  4.367726e+06   \n",
       "L     5.000000  2010.000000  2016.000000  72.000000  204.000000  4.400000e+06   \n",
       "M     3.000000  2014.000000  2018.000000  75.000000  235.000000  2.746000e+06   \n",
       "S     2.600000  2013.200000  2017.400000  75.600000  216.400000  4.114634e+06   \n",
       "W     6.156028  2009.815603  2017.595745  75.631206  230.319149  8.103426e+06   \n",
       "\n",
       "      standard_salary       Wins  total_population  metro_percent_white  \\\n",
       "race                                                                      \n",
       "B           14.769618   7.971014      4.767395e+06            69.475942   \n",
       "L           15.297115  11.000000      2.003144e+07            58.700000   \n",
       "M           14.825656  13.000000      6.047721e+06            67.500000   \n",
       "S           14.968948   7.600000      2.198398e+06            78.420000   \n",
       "W           15.357898   8.546099      5.131045e+06            69.880142   \n",
       "\n",
       "      metro_percent_black  clinton_vote_lead  experience  \n",
       "race                                                      \n",
       "B               15.362609           0.332255    4.098551  \n",
       "L               17.100000           0.618300    6.000000  \n",
       "M               20.900000           0.669100    3.000000  \n",
       "S               11.760000           0.224721    2.800000  \n",
       "W               15.158865           0.362582    6.170213  "
      ]
     },
     "execution_count": 103,
     "metadata": {},
     "output_type": "execute_result"
    }
   ],
   "source": [
    "join_df.groupby('race').mean()"
   ]
  },
  {
   "cell_type": "markdown",
   "metadata": {},
   "source": [
    "#### Age / experience"
   ]
  },
  {
   "cell_type": "code",
   "execution_count": 104,
   "metadata": {},
   "outputs": [
    {
     "data": {
      "text/plain": [
       "Text(0,0.5,'Mean sentiment')"
      ]
     },
     "execution_count": 104,
     "metadata": {},
     "output_type": "execute_result"
    },
    {
     "data": {
      "image/png": "[encoded data removed]",
      "text/plain": [
       "<Figure size 360x288 with 1 Axes>"
      ]
     },
     "metadata": {
      "needs_background": "light"
     },
     "output_type": "display_data"
    }
   ],
   "source": [
    "fig, ax1 = plt.subplots(1,1, figsize = [5, 4], sharey=True)\n",
    "join_df.groupby('experience').mean().reset_index().plot('experience', 'compound_mean_mean', ax = ax1);\n",
    "ax1.set_ylabel('Mean sentiment')"
   ]
  },
  {
   "cell_type": "markdown",
   "metadata": {},
   "source": [
    "#### Height"
   ]
  },
  {
   "cell_type": "code",
   "execution_count": 105,
   "metadata": {},
   "outputs": [
    {
     "data": {
      "image/png": "[encoded data removed]",
      "text/plain": [
       "<Figure size 432x288 with 1 Axes>"
      ]
     },
     "metadata": {
      "needs_background": "light"
     },
     "output_type": "display_data"
    }
   ],
   "source": [
    "join_df.groupby('height').mean().reset_index().plot('height', 'compound_mean_mean');\n",
    "plt.xticks(range(68,90,1) );\n",
    "plt.xlabel('Height (inches)')\n",
    "plt.ylabel('Mean sentiment');"
   ]
  },
  {
   "cell_type": "markdown",
   "metadata": {},
   "source": [
    "### Team and position"
   ]
  },
  {
   "cell_type": "code",
   "execution_count": 106,
   "metadata": {},
   "outputs": [
    {
     "data": {
      "text/html": [
       "<div>\n",
       "<style scoped>\n",
       "    .dataframe tbody tr th:only-of-type {\n",
       "        vertical-align: middle;\n",
       "    }\n",
       "\n",
       "    .dataframe tbody tr th {\n",
       "        vertical-align: top;\n",
       "    }\n",
       "\n",
       "    .dataframe thead th {\n",
       "        text-align: right;\n",
       "    }\n",
       "</style>\n",
       "<table border=\"1\" class=\"dataframe\">\n",
       "  <thead>\n",
       "    <tr style=\"text-align: right;\">\n",
       "      <th></th>\n",
       "      <th>position</th>\n",
       "      <th>year</th>\n",
       "      <th>compound_mean_mean</th>\n",
       "      <th>compound_mean_std</th>\n",
       "      <th>user_count</th>\n",
       "      <th>DYAR</th>\n",
       "      <th>DVOA</th>\n",
       "      <th>TD</th>\n",
       "      <th>z_DYAR</th>\n",
       "      <th>z_DVOA</th>\n",
       "      <th>z_TD</th>\n",
       "      <th>level_1</th>\n",
       "      <th>start_year</th>\n",
       "      <th>end_year</th>\n",
       "      <th>height</th>\n",
       "      <th>weight</th>\n",
       "      <th>salary</th>\n",
       "      <th>standard_salary</th>\n",
       "      <th>Wins</th>\n",
       "      <th>total_population</th>\n",
       "      <th>metro_percent_white</th>\n",
       "      <th>metro_percent_black</th>\n",
       "      <th>clinton_vote_lead</th>\n",
       "      <th>experience</th>\n",
       "    </tr>\n",
       "  </thead>\n",
       "  <tbody>\n",
       "    <tr>\n",
       "      <th>0</th>\n",
       "      <td>qb</td>\n",
       "      <td>2015.989691</td>\n",
       "      <td>0.108519</td>\n",
       "      <td>0.419051</td>\n",
       "      <td>781.577320</td>\n",
       "      <td>437.443299</td>\n",
       "      <td>0.663918</td>\n",
       "      <td>21.154639</td>\n",
       "      <td>0.030433</td>\n",
       "      <td>0.039127</td>\n",
       "      <td>0.062883</td>\n",
       "      <td>6.237113</td>\n",
       "      <td>2009.762887</td>\n",
       "      <td>2017.731959</td>\n",
       "      <td>75.371134</td>\n",
       "      <td>224.278351</td>\n",
       "      <td>1.096479e+07</td>\n",
       "      <td>15.732799</td>\n",
       "      <td>7.783505</td>\n",
       "      <td>5.130134e+06</td>\n",
       "      <td>69.684536</td>\n",
       "      <td>14.979381</td>\n",
       "      <td>0.344178</td>\n",
       "      <td>6.226804</td>\n",
       "    </tr>\n",
       "    <tr>\n",
       "      <th>1</th>\n",
       "      <td>rb</td>\n",
       "      <td>2016.049505</td>\n",
       "      <td>0.128405</td>\n",
       "      <td>0.425990</td>\n",
       "      <td>93.534653</td>\n",
       "      <td>64.900990</td>\n",
       "      <td>-0.710891</td>\n",
       "      <td>5.623762</td>\n",
       "      <td>-0.021310</td>\n",
       "      <td>-0.044858</td>\n",
       "      <td>0.096522</td>\n",
       "      <td>3.742574</td>\n",
       "      <td>2012.376238</td>\n",
       "      <td>2017.752475</td>\n",
       "      <td>71.267327</td>\n",
       "      <td>221.504950</td>\n",
       "      <td>3.069257e+06</td>\n",
       "      <td>14.468909</td>\n",
       "      <td>8.069307</td>\n",
       "      <td>4.891116e+06</td>\n",
       "      <td>69.332673</td>\n",
       "      <td>15.905941</td>\n",
       "      <td>0.355807</td>\n",
       "      <td>3.673267</td>\n",
       "    </tr>\n",
       "    <tr>\n",
       "      <th>2</th>\n",
       "      <td>te</td>\n",
       "      <td>2016.024390</td>\n",
       "      <td>0.137677</td>\n",
       "      <td>0.422843</td>\n",
       "      <td>108.134146</td>\n",
       "      <td>66.219512</td>\n",
       "      <td>6.189024</td>\n",
       "      <td>4.317073</td>\n",
       "      <td>0.359958</td>\n",
       "      <td>0.290994</td>\n",
       "      <td>0.373829</td>\n",
       "      <td>5.390244</td>\n",
       "      <td>2010.658537</td>\n",
       "      <td>2017.536585</td>\n",
       "      <td>76.646341</td>\n",
       "      <td>254.182927</td>\n",
       "      <td>3.921181e+06</td>\n",
       "      <td>14.809068</td>\n",
       "      <td>8.378049</td>\n",
       "      <td>4.140173e+06</td>\n",
       "      <td>69.681707</td>\n",
       "      <td>16.134146</td>\n",
       "      <td>0.329809</td>\n",
       "      <td>5.365854</td>\n",
       "    </tr>\n",
       "    <tr>\n",
       "      <th>3</th>\n",
       "      <td>wr</td>\n",
       "      <td>2015.953052</td>\n",
       "      <td>0.138716</td>\n",
       "      <td>0.418256</td>\n",
       "      <td>107.990610</td>\n",
       "      <td>124.267606</td>\n",
       "      <td>2.477934</td>\n",
       "      <td>5.018779</td>\n",
       "      <td>0.086758</td>\n",
       "      <td>0.066193</td>\n",
       "      <td>0.132005</td>\n",
       "      <td>4.154930</td>\n",
       "      <td>2011.765258</td>\n",
       "      <td>2017.652582</td>\n",
       "      <td>72.666667</td>\n",
       "      <td>202.525822</td>\n",
       "      <td>4.560712e+06</td>\n",
       "      <td>14.849206</td>\n",
       "      <td>8.262911</td>\n",
       "      <td>5.043098e+06</td>\n",
       "      <td>69.787324</td>\n",
       "      <td>14.797183</td>\n",
       "      <td>0.337075</td>\n",
       "      <td>4.187793</td>\n",
       "    </tr>\n",
       "  </tbody>\n",
       "</table>\n",
       "</div>"
      ],
      "text/plain": [
       "  position         year  compound_mean_mean  compound_mean_std  user_count  \\\n",
       "0       qb  2015.989691            0.108519           0.419051  781.577320   \n",
       "1       rb  2016.049505            0.128405           0.425990   93.534653   \n",
       "2       te  2016.024390            0.137677           0.422843  108.134146   \n",
       "3       wr  2015.953052            0.138716           0.418256  107.990610   \n",
       "\n",
       "         DYAR      DVOA         TD    z_DYAR    z_DVOA      z_TD   level_1  \\\n",
       "0  437.443299  0.663918  21.154639  0.030433  0.039127  0.062883  6.237113   \n",
       "1   64.900990 -0.710891   5.623762 -0.021310 -0.044858  0.096522  3.742574   \n",
       "2   66.219512  6.189024   4.317073  0.359958  0.290994  0.373829  5.390244   \n",
       "3  124.267606  2.477934   5.018779  0.086758  0.066193  0.132005  4.154930   \n",
       "\n",
       "    start_year     end_year     height      weight        salary  \\\n",
       "0  2009.762887  2017.731959  75.371134  224.278351  1.096479e+07   \n",
       "1  2012.376238  2017.752475  71.267327  221.504950  3.069257e+06   \n",
       "2  2010.658537  2017.536585  76.646341  254.182927  3.921181e+06   \n",
       "3  2011.765258  2017.652582  72.666667  202.525822  4.560712e+06   \n",
       "\n",
       "   standard_salary      Wins  total_population  metro_percent_white  \\\n",
       "0        15.732799  7.783505      5.130134e+06            69.684536   \n",
       "1        14.468909  8.069307      4.891116e+06            69.332673   \n",
       "2        14.809068  8.378049      4.140173e+06            69.681707   \n",
       "3        14.849206  8.262911      5.043098e+06            69.787324   \n",
       "\n",
       "   metro_percent_black  clinton_vote_lead  experience  \n",
       "0            14.979381           0.344178    6.226804  \n",
       "1            15.905941           0.355807    3.673267  \n",
       "2            16.134146           0.329809    5.365854  \n",
       "3            14.797183           0.337075    4.187793  "
      ]
     },
     "execution_count": 106,
     "metadata": {},
     "output_type": "execute_result"
    }
   ],
   "source": [
    "join_df.groupby('position').mean().reset_index()"
   ]
  },
  {
   "cell_type": "markdown",
   "metadata": {},
   "source": [
    "#### Create modeling dataframe"
   ]
  },
  {
   "cell_type": "code",
   "execution_count": 107,
   "metadata": {},
   "outputs": [],
   "source": [
    "join_df['youth'] = (join_df['experience'].mean() - join_df['experience']).clip(0)\n",
    "join_df['oldness'] = (join_df['experience'] - join_df['experience'].mean()).clip(0)\n",
    "join_df['rookie'] = join_df['experience'] <=4"
   ]
  },
  {
   "cell_type": "code",
   "execution_count": 108,
   "metadata": {},
   "outputs": [],
   "source": [
    "join_df['white_black_diff'] = join_df['metro_percent_white'] - join_df['metro_percent_black']\n",
    "join_df['height_dummies'] = pd.cut(join_df['height'], [0, 72, 100], labels = ['short', 'tall'])\n",
    "join_df['standard_salary'] = join_df['standard_salary'].fillna(join_df['standard_salary'].mean())"
   ]
  },
  {
   "cell_type": "code",
   "execution_count": 109,
   "metadata": {},
   "outputs": [],
   "source": [
    "join_df.to_csv('modeling_data/nfl_model_data.tsv', sep='\\t', index=False)"
   ]
  },
  {
   "cell_type": "code",
   "execution_count": 110,
   "metadata": {},
   "outputs": [],
   "source": [
    "fit_df = join_df.copy().query('user_count > 20').replace({'L':'B', 'S':'B', 'M':'B'})"
   ]
  },
  {
   "cell_type": "markdown",
   "metadata": {},
   "source": [
    "## Regression models"
   ]
  },
  {
   "cell_type": "markdown",
   "metadata": {},
   "source": [
    "### Salary\n",
    "#### Exploration"
   ]
  },
  {
   "cell_type": "code",
   "execution_count": 112,
   "metadata": {},
   "outputs": [
    {
     "data": {
      "image/png": "[encoded data removed]",
      "text/plain": [
       "<Figure size 648x648 with 36 Axes>"
      ]
     },
     "metadata": {
      "needs_background": "light"
     },
     "output_type": "display_data"
    }
   ],
   "source": [
    "from pandas.plotting import scatter_matrix\n",
    "scatter_matrix(join_df[['compound_mean_mean', 'salary', 'standard_salary', 'z_DVOA', 'DVOA', 'experience']], alpha=0.2, figsize=(9, 9));"
   ]
  },
  {
   "cell_type": "code",
   "execution_count": 113,
   "metadata": {},
   "outputs": [
    {
     "data": {
      "text/html": [
       "<div>\n",
       "<style scoped>\n",
       "    .dataframe tbody tr th:only-of-type {\n",
       "        vertical-align: middle;\n",
       "    }\n",
       "\n",
       "    .dataframe tbody tr th {\n",
       "        vertical-align: top;\n",
       "    }\n",
       "\n",
       "    .dataframe thead th {\n",
       "        text-align: right;\n",
       "    }\n",
       "</style>\n",
       "<table border=\"1\" class=\"dataframe\">\n",
       "  <thead>\n",
       "    <tr style=\"text-align: right;\">\n",
       "      <th></th>\n",
       "      <th>salary</th>\n",
       "      <th>standard_salary</th>\n",
       "    </tr>\n",
       "    <tr>\n",
       "      <th>position</th>\n",
       "      <th></th>\n",
       "      <th></th>\n",
       "    </tr>\n",
       "  </thead>\n",
       "  <tbody>\n",
       "    <tr>\n",
       "      <th>qb</th>\n",
       "      <td>1.096479e+07</td>\n",
       "      <td>15.634494</td>\n",
       "    </tr>\n",
       "    <tr>\n",
       "      <th>rb</th>\n",
       "      <td>3.069257e+06</td>\n",
       "      <td>14.524662</td>\n",
       "    </tr>\n",
       "    <tr>\n",
       "      <th>te</th>\n",
       "      <td>3.921181e+06</td>\n",
       "      <td>14.834258</td>\n",
       "    </tr>\n",
       "    <tr>\n",
       "      <th>wr</th>\n",
       "      <td>4.560712e+06</td>\n",
       "      <td>14.857141</td>\n",
       "    </tr>\n",
       "  </tbody>\n",
       "</table>\n",
       "</div>"
      ],
      "text/plain": [
       "                salary  standard_salary\n",
       "position                               \n",
       "qb        1.096479e+07        15.634494\n",
       "rb        3.069257e+06        14.524662\n",
       "te        3.921181e+06        14.834258\n",
       "wr        4.560712e+06        14.857141"
      ]
     },
     "execution_count": 113,
     "metadata": {},
     "output_type": "execute_result"
    }
   ],
   "source": [
    "join_df.groupby('position').mean()[['salary', 'standard_salary']]"
   ]
  },
  {
   "cell_type": "markdown",
   "metadata": {},
   "source": [
    "#### Regression"
   ]
  },
  {
   "cell_type": "code",
   "execution_count": 114,
   "metadata": {},
   "outputs": [],
   "source": [
    "salary_model = smf.wls( formula = 'standard_salary ~ rookie + position + z_DVOA',\n",
    "                data = fit_df,\n",
    "               weights = 1,\n",
    "#                missing='raise'   \n",
    "               ).fit()"
   ]
  },
  {
   "cell_type": "code",
   "execution_count": 115,
   "metadata": {},
   "outputs": [
    {
     "data": {
      "text/html": [
       "<table class=\"simpletable\">\n",
       "<caption>WLS Regression Results</caption>\n",
       "<tr>\n",
       "  <th>Dep. Variable:</th>     <td>standard_salary</td> <th>  R-squared:         </th> <td>   0.405</td>\n",
       "</tr>\n",
       "<tr>\n",
       "  <th>Model:</th>                   <td>WLS</td>       <th>  Adj. R-squared:    </th> <td>   0.397</td>\n",
       "</tr>\n",
       "<tr>\n",
       "  <th>Method:</th>             <td>Least Squares</td>  <th>  F-statistic:       </th> <td>   53.55</td>\n",
       "</tr>\n",
       "<tr>\n",
       "  <th>Date:</th>             <td>Mon, 05 Nov 2018</td> <th>  Prob (F-statistic):</th> <td>2.37e-42</td>\n",
       "</tr>\n",
       "<tr>\n",
       "  <th>Time:</th>                 <td>23:17:50</td>     <th>  Log-Likelihood:    </th> <td> -490.20</td>\n",
       "</tr>\n",
       "<tr>\n",
       "  <th>No. Observations:</th>      <td>   400</td>      <th>  AIC:               </th> <td>   992.4</td>\n",
       "</tr>\n",
       "<tr>\n",
       "  <th>Df Residuals:</th>          <td>   394</td>      <th>  BIC:               </th> <td>   1016.</td>\n",
       "</tr>\n",
       "<tr>\n",
       "  <th>Df Model:</th>              <td>     5</td>      <th>                     </th>     <td> </td>   \n",
       "</tr>\n",
       "<tr>\n",
       "  <th>Covariance Type:</th>      <td>nonrobust</td>    <th>                     </th>     <td> </td>   \n",
       "</tr>\n",
       "</table>\n",
       "<table class=\"simpletable\">\n",
       "<tr>\n",
       "         <td></td>           <th>coef</th>     <th>std err</th>      <th>t</th>      <th>P>|t|</th>  <th>[0.025</th>    <th>0.975]</th>  \n",
       "</tr>\n",
       "<tr>\n",
       "  <th>Intercept</th>      <td>   16.1734</td> <td>    0.093</td> <td>  174.053</td> <td> 0.000</td> <td>   15.991</td> <td>   16.356</td>\n",
       "</tr>\n",
       "<tr>\n",
       "  <th>rookie[T.True]</th> <td>   -1.1619</td> <td>    0.084</td> <td>  -13.824</td> <td> 0.000</td> <td>   -1.327</td> <td>   -0.997</td>\n",
       "</tr>\n",
       "<tr>\n",
       "  <th>position[T.rb]</th> <td>   -0.8625</td> <td>    0.125</td> <td>   -6.890</td> <td> 0.000</td> <td>   -1.109</td> <td>   -0.616</td>\n",
       "</tr>\n",
       "<tr>\n",
       "  <th>position[T.te]</th> <td>   -0.6678</td> <td>    0.143</td> <td>   -4.669</td> <td> 0.000</td> <td>   -0.949</td> <td>   -0.387</td>\n",
       "</tr>\n",
       "<tr>\n",
       "  <th>position[T.wr]</th> <td>   -0.5945</td> <td>    0.106</td> <td>   -5.596</td> <td> 0.000</td> <td>   -0.803</td> <td>   -0.386</td>\n",
       "</tr>\n",
       "<tr>\n",
       "  <th>z_DVOA</th>         <td>    0.0016</td> <td>    0.042</td> <td>    0.037</td> <td> 0.971</td> <td>   -0.082</td> <td>    0.085</td>\n",
       "</tr>\n",
       "</table>\n",
       "<table class=\"simpletable\">\n",
       "<tr>\n",
       "  <th>Omnibus:</th>       <td> 9.910</td> <th>  Durbin-Watson:     </th> <td>   1.672</td>\n",
       "</tr>\n",
       "<tr>\n",
       "  <th>Prob(Omnibus):</th> <td> 0.007</td> <th>  Jarque-Bera (JB):  </th> <td>   5.956</td>\n",
       "</tr>\n",
       "<tr>\n",
       "  <th>Skew:</th>          <td>-0.116</td> <th>  Prob(JB):          </th> <td>  0.0509</td>\n",
       "</tr>\n",
       "<tr>\n",
       "  <th>Kurtosis:</th>      <td> 2.449</td> <th>  Cond. No.          </th> <td>    5.80</td>\n",
       "</tr>\n",
       "</table><br/><br/>Warnings:<br/>[1] Standard Errors assume that the covariance matrix of the errors is correctly specified."
      ],
      "text/plain": [
       "<class 'statsmodels.iolib.summary.Summary'>\n",
       "\"\"\"\n",
       "                            WLS Regression Results                            \n",
       "==============================================================================\n",
       "Dep. Variable:        standard_salary   R-squared:                       0.405\n",
       "Model:                            WLS   Adj. R-squared:                  0.397\n",
       "Method:                 Least Squares   F-statistic:                     53.55\n",
       "Date:                Mon, 05 Nov 2018   Prob (F-statistic):           2.37e-42\n",
       "Time:                        23:17:50   Log-Likelihood:                -490.20\n",
       "No. Observations:                 400   AIC:                             992.4\n",
       "Df Residuals:                     394   BIC:                             1016.\n",
       "Df Model:                           5                                         \n",
       "Covariance Type:            nonrobust                                         \n",
       "==================================================================================\n",
       "                     coef    std err          t      P>|t|      [0.025      0.975]\n",
       "----------------------------------------------------------------------------------\n",
       "Intercept         16.1734      0.093    174.053      0.000      15.991      16.356\n",
       "rookie[T.True]    -1.1619      0.084    -13.824      0.000      -1.327      -0.997\n",
       "position[T.rb]    -0.8625      0.125     -6.890      0.000      -1.109      -0.616\n",
       "position[T.te]    -0.6678      0.143     -4.669      0.000      -0.949      -0.387\n",
       "position[T.wr]    -0.5945      0.106     -5.596      0.000      -0.803      -0.386\n",
       "z_DVOA             0.0016      0.042      0.037      0.971      -0.082       0.085\n",
       "==============================================================================\n",
       "Omnibus:                        9.910   Durbin-Watson:                   1.672\n",
       "Prob(Omnibus):                  0.007   Jarque-Bera (JB):                5.956\n",
       "Skew:                          -0.116   Prob(JB):                       0.0509\n",
       "Kurtosis:                       2.449   Cond. No.                         5.80\n",
       "==============================================================================\n",
       "\n",
       "Warnings:\n",
       "[1] Standard Errors assume that the covariance matrix of the errors is correctly specified.\n",
       "\"\"\""
      ]
     },
     "execution_count": 115,
     "metadata": {},
     "output_type": "execute_result"
    }
   ],
   "source": [
    "salary_model.summary()"
   ]
  },
  {
   "cell_type": "markdown",
   "metadata": {},
   "source": [
    "#### Calculate residual salary"
   ]
  },
  {
   "cell_type": "code",
   "execution_count": 116,
   "metadata": {},
   "outputs": [
    {
     "data": {
      "text/html": [
       "<div>\n",
       "<style scoped>\n",
       "    .dataframe tbody tr th:only-of-type {\n",
       "        vertical-align: middle;\n",
       "    }\n",
       "\n",
       "    .dataframe tbody tr th {\n",
       "        vertical-align: top;\n",
       "    }\n",
       "\n",
       "    .dataframe thead th {\n",
       "        text-align: right;\n",
       "    }\n",
       "</style>\n",
       "<table border=\"1\" class=\"dataframe\">\n",
       "  <thead>\n",
       "    <tr style=\"text-align: right;\">\n",
       "      <th></th>\n",
       "      <th>Player</th>\n",
       "      <th>year</th>\n",
       "      <th>standard_salary</th>\n",
       "      <th>pred_std_salary</th>\n",
       "    </tr>\n",
       "  </thead>\n",
       "  <tbody>\n",
       "    <tr>\n",
       "      <th>119</th>\n",
       "      <td>deandre hopkins</td>\n",
       "      <td>2017</td>\n",
       "      <td>16.705882</td>\n",
       "      <td>14.418289</td>\n",
       "    </tr>\n",
       "    <tr>\n",
       "      <th>272</th>\n",
       "      <td>julio jones</td>\n",
       "      <td>2015</td>\n",
       "      <td>16.333207</td>\n",
       "      <td>14.417688</td>\n",
       "    </tr>\n",
       "    <tr>\n",
       "      <th>17</th>\n",
       "      <td>alshon jeffery</td>\n",
       "      <td>2016</td>\n",
       "      <td>16.228199</td>\n",
       "      <td>14.417547</td>\n",
       "    </tr>\n",
       "    <tr>\n",
       "      <th>275</th>\n",
       "      <td>julius thomas</td>\n",
       "      <td>2015</td>\n",
       "      <td>16.147654</td>\n",
       "      <td>14.342404</td>\n",
       "    </tr>\n",
       "    <tr>\n",
       "      <th>292</th>\n",
       "      <td>kirk cousins</td>\n",
       "      <td>2016</td>\n",
       "      <td>16.808890</td>\n",
       "      <td>15.013089</td>\n",
       "    </tr>\n",
       "  </tbody>\n",
       "</table>\n",
       "</div>"
      ],
      "text/plain": [
       "              Player  year  standard_salary  pred_std_salary\n",
       "119  deandre hopkins  2017        16.705882        14.418289\n",
       "272      julio jones  2015        16.333207        14.417688\n",
       "17    alshon jeffery  2016        16.228199        14.417547\n",
       "275    julius thomas  2015        16.147654        14.342404\n",
       "292     kirk cousins  2016        16.808890        15.013089"
      ]
     },
     "execution_count": 116,
     "metadata": {},
     "output_type": "execute_result"
    }
   ],
   "source": [
    "fit_df['pred_std_salary'] = salary_model.predict(fit_df)\n",
    "fit_df['std_salary_resid'] = fit_df['pred_std_salary']- fit_df['standard_salary']\n",
    "fit_df.sort_values('std_salary_resid').head(5)[['Player', 'year', 'standard_salary', 'pred_std_salary']]"
   ]
  },
  {
   "cell_type": "code",
   "execution_count": 146,
   "metadata": {},
   "outputs": [
    {
     "data": {
      "image/png": "[encoded data removed]",
      "text/plain": [
       "<Figure size 432x288 with 1 Axes>"
      ]
     },
     "metadata": {
      "needs_background": "light"
     },
     "output_type": "display_data"
    }
   ],
   "source": [
    "fit_df['std_salary_resid'].hist();\n",
    "plt.xlabel('Salary residual (z-units)');"
   ]
  },
  {
   "cell_type": "markdown",
   "metadata": {},
   "source": [
    "### Sentiment regression model"
   ]
  },
  {
   "cell_type": "code",
   "execution_count": 117,
   "metadata": {},
   "outputs": [],
   "source": [
    "\n",
    "simple_model = smf.wls( formula = 'compound_mean_mean ~ youth + oldness + z_DVOA + height_dummies + position + standard_salary + std_salary_resid'\\\n",
    "                       ' + Wins + white_black_diff * C(race) + clinton_vote_lead',\n",
    "                data = fit_df,\n",
    "               weights = 1 / (fit_df['compound_mean_std'] / np.sqrt(fit_df['user_count'])),\n",
    "#                missing='raise'   \n",
    "               ).fit()"
   ]
  },
  {
   "cell_type": "code",
   "execution_count": 118,
   "metadata": {},
   "outputs": [
    {
     "data": {
      "text/html": [
       "<table class=\"simpletable\">\n",
       "<caption>WLS Regression Results</caption>\n",
       "<tr>\n",
       "  <th>Dep. Variable:</th>    <td>compound_mean_mean</td> <th>  R-squared:         </th> <td>   0.094</td>\n",
       "</tr>\n",
       "<tr>\n",
       "  <th>Model:</th>                    <td>WLS</td>        <th>  Adj. R-squared:    </th> <td>   0.061</td>\n",
       "</tr>\n",
       "<tr>\n",
       "  <th>Method:</th>              <td>Least Squares</td>   <th>  F-statistic:       </th> <td>   2.858</td>\n",
       "</tr>\n",
       "<tr>\n",
       "  <th>Date:</th>              <td>Mon, 05 Nov 2018</td>  <th>  Prob (F-statistic):</th> <td>0.000412</td>\n",
       "</tr>\n",
       "<tr>\n",
       "  <th>Time:</th>                  <td>23:18:01</td>      <th>  Log-Likelihood:    </th> <td>  506.68</td>\n",
       "</tr>\n",
       "<tr>\n",
       "  <th>No. Observations:</th>       <td>   400</td>       <th>  AIC:               </th> <td>  -983.4</td>\n",
       "</tr>\n",
       "<tr>\n",
       "  <th>Df Residuals:</th>           <td>   385</td>       <th>  BIC:               </th> <td>  -923.5</td>\n",
       "</tr>\n",
       "<tr>\n",
       "  <th>Df Model:</th>               <td>    14</td>       <th>                     </th>     <td> </td>   \n",
       "</tr>\n",
       "<tr>\n",
       "  <th>Covariance Type:</th>       <td>nonrobust</td>     <th>                     </th>     <td> </td>   \n",
       "</tr>\n",
       "</table>\n",
       "<table class=\"simpletable\">\n",
       "<tr>\n",
       "                <td></td>                   <th>coef</th>     <th>std err</th>      <th>t</th>      <th>P>|t|</th>  <th>[0.025</th>    <th>0.975]</th>  \n",
       "</tr>\n",
       "<tr>\n",
       "  <th>Intercept</th>                     <td>    0.1330</td> <td>    0.174</td> <td>    0.765</td> <td> 0.445</td> <td>   -0.209</td> <td>    0.475</td>\n",
       "</tr>\n",
       "<tr>\n",
       "  <th>height_dummies[T.tall]</th>        <td>    0.0097</td> <td>    0.009</td> <td>    1.131</td> <td> 0.259</td> <td>   -0.007</td> <td>    0.027</td>\n",
       "</tr>\n",
       "<tr>\n",
       "  <th>position[T.rb]</th>                <td>    0.0160</td> <td>    0.015</td> <td>    1.043</td> <td> 0.297</td> <td>   -0.014</td> <td>    0.046</td>\n",
       "</tr>\n",
       "<tr>\n",
       "  <th>position[T.te]</th>                <td>    0.0138</td> <td>    0.013</td> <td>    1.033</td> <td> 0.302</td> <td>   -0.012</td> <td>    0.040</td>\n",
       "</tr>\n",
       "<tr>\n",
       "  <th>position[T.wr]</th>                <td>    0.0102</td> <td>    0.012</td> <td>    0.841</td> <td> 0.401</td> <td>   -0.014</td> <td>    0.034</td>\n",
       "</tr>\n",
       "<tr>\n",
       "  <th>C(race)[T.W]</th>                  <td>    0.0215</td> <td>    0.024</td> <td>    0.899</td> <td> 0.369</td> <td>   -0.026</td> <td>    0.069</td>\n",
       "</tr>\n",
       "<tr>\n",
       "  <th>youth</th>                         <td>    0.0035</td> <td>    0.004</td> <td>    1.001</td> <td> 0.317</td> <td>   -0.003</td> <td>    0.010</td>\n",
       "</tr>\n",
       "<tr>\n",
       "  <th>oldness</th>                       <td>   -0.0004</td> <td>    0.001</td> <td>   -0.302</td> <td> 0.763</td> <td>   -0.003</td> <td>    0.002</td>\n",
       "</tr>\n",
       "<tr>\n",
       "  <th>z_DVOA</th>                        <td>    0.0125</td> <td>    0.003</td> <td>    3.592</td> <td> 0.000</td> <td>    0.006</td> <td>    0.019</td>\n",
       "</tr>\n",
       "<tr>\n",
       "  <th>standard_salary</th>               <td>   -0.0026</td> <td>    0.011</td> <td>   -0.238</td> <td> 0.812</td> <td>   -0.024</td> <td>    0.019</td>\n",
       "</tr>\n",
       "<tr>\n",
       "  <th>std_salary_resid</th>              <td>    0.0044</td> <td>    0.010</td> <td>    0.420</td> <td> 0.675</td> <td>   -0.016</td> <td>    0.025</td>\n",
       "</tr>\n",
       "<tr>\n",
       "  <th>Wins</th>                          <td>   -0.0012</td> <td>    0.001</td> <td>   -1.009</td> <td> 0.313</td> <td>   -0.003</td> <td>    0.001</td>\n",
       "</tr>\n",
       "<tr>\n",
       "  <th>white_black_diff</th>              <td>    0.0002</td> <td>    0.000</td> <td>    0.834</td> <td> 0.405</td> <td>   -0.000</td> <td>    0.001</td>\n",
       "</tr>\n",
       "<tr>\n",
       "  <th>white_black_diff:C(race)[T.W]</th> <td>   -0.0006</td> <td>    0.000</td> <td>   -1.460</td> <td> 0.145</td> <td>   -0.001</td> <td>    0.000</td>\n",
       "</tr>\n",
       "<tr>\n",
       "  <th>clinton_vote_lead</th>             <td>    0.0158</td> <td>    0.016</td> <td>    0.968</td> <td> 0.334</td> <td>   -0.016</td> <td>    0.048</td>\n",
       "</tr>\n",
       "</table>\n",
       "<table class=\"simpletable\">\n",
       "<tr>\n",
       "  <th>Omnibus:</th>       <td>21.723</td> <th>  Durbin-Watson:     </th> <td>   1.562</td>\n",
       "</tr>\n",
       "<tr>\n",
       "  <th>Prob(Omnibus):</th> <td> 0.000</td> <th>  Jarque-Bera (JB):  </th> <td>  54.742</td>\n",
       "</tr>\n",
       "<tr>\n",
       "  <th>Skew:</th>          <td> 0.194</td> <th>  Prob(JB):          </th> <td>1.30e-12</td>\n",
       "</tr>\n",
       "<tr>\n",
       "  <th>Kurtosis:</th>      <td> 4.771</td> <th>  Cond. No.          </th> <td>3.82e+03</td>\n",
       "</tr>\n",
       "</table><br/><br/>Warnings:<br/>[1] Standard Errors assume that the covariance matrix of the errors is correctly specified.<br/>[2] The condition number is large, 3.82e+03. This might indicate that there are<br/>strong multicollinearity or other numerical problems."
      ],
      "text/plain": [
       "<class 'statsmodels.iolib.summary.Summary'>\n",
       "\"\"\"\n",
       "                            WLS Regression Results                            \n",
       "==============================================================================\n",
       "Dep. Variable:     compound_mean_mean   R-squared:                       0.094\n",
       "Model:                            WLS   Adj. R-squared:                  0.061\n",
       "Method:                 Least Squares   F-statistic:                     2.858\n",
       "Date:                Mon, 05 Nov 2018   Prob (F-statistic):           0.000412\n",
       "Time:                        23:18:01   Log-Likelihood:                 506.68\n",
       "No. Observations:                 400   AIC:                            -983.4\n",
       "Df Residuals:                     385   BIC:                            -923.5\n",
       "Df Model:                          14                                         \n",
       "Covariance Type:            nonrobust                                         \n",
       "=================================================================================================\n",
       "                                    coef    std err          t      P>|t|      [0.025      0.975]\n",
       "-------------------------------------------------------------------------------------------------\n",
       "Intercept                         0.1330      0.174      0.765      0.445      -0.209       0.475\n",
       "height_dummies[T.tall]            0.0097      0.009      1.131      0.259      -0.007       0.027\n",
       "position[T.rb]                    0.0160      0.015      1.043      0.297      -0.014       0.046\n",
       "position[T.te]                    0.0138      0.013      1.033      0.302      -0.012       0.040\n",
       "position[T.wr]                    0.0102      0.012      0.841      0.401      -0.014       0.034\n",
       "C(race)[T.W]                      0.0215      0.024      0.899      0.369      -0.026       0.069\n",
       "youth                             0.0035      0.004      1.001      0.317      -0.003       0.010\n",
       "oldness                          -0.0004      0.001     -0.302      0.763      -0.003       0.002\n",
       "z_DVOA                            0.0125      0.003      3.592      0.000       0.006       0.019\n",
       "standard_salary                  -0.0026      0.011     -0.238      0.812      -0.024       0.019\n",
       "std_salary_resid                  0.0044      0.010      0.420      0.675      -0.016       0.025\n",
       "Wins                             -0.0012      0.001     -1.009      0.313      -0.003       0.001\n",
       "white_black_diff                  0.0002      0.000      0.834      0.405      -0.000       0.001\n",
       "white_black_diff:C(race)[T.W]    -0.0006      0.000     -1.460      0.145      -0.001       0.000\n",
       "clinton_vote_lead                 0.0158      0.016      0.968      0.334      -0.016       0.048\n",
       "==============================================================================\n",
       "Omnibus:                       21.723   Durbin-Watson:                   1.562\n",
       "Prob(Omnibus):                  0.000   Jarque-Bera (JB):               54.742\n",
       "Skew:                           0.194   Prob(JB):                     1.30e-12\n",
       "Kurtosis:                       4.771   Cond. No.                     3.82e+03\n",
       "==============================================================================\n",
       "\n",
       "Warnings:\n",
       "[1] Standard Errors assume that the covariance matrix of the errors is correctly specified.\n",
       "[2] The condition number is large, 3.82e+03. This might indicate that there are\n",
       "strong multicollinearity or other numerical problems.\n",
       "\"\"\""
      ]
     },
     "execution_count": 118,
     "metadata": {},
     "output_type": "execute_result"
    }
   ],
   "source": [
    "simple_model.summary()"
   ]
  },
  {
   "cell_type": "markdown",
   "metadata": {},
   "source": [
    "## Coaches"
   ]
  },
  {
   "cell_type": "code",
   "execution_count": 63,
   "metadata": {},
   "outputs": [],
   "source": [
    "coaches_df = pd.read_csv('d:/data/sentiment_sports/covariates/nfl_coach_performance.tsv', sep='\\t')\n",
    "coaches_race_df = pd.read_csv('d:/data/sentiment_sports/covariates/nfl_coach_race.tsv', sep='\\t')"
   ]
  },
  {
   "cell_type": "code",
   "execution_count": 64,
   "metadata": {},
   "outputs": [
    {
     "data": {
      "text/html": [
       "<div>\n",
       "<style scoped>\n",
       "    .dataframe tbody tr th:only-of-type {\n",
       "        vertical-align: middle;\n",
       "    }\n",
       "\n",
       "    .dataframe tbody tr th {\n",
       "        vertical-align: top;\n",
       "    }\n",
       "\n",
       "    .dataframe thead th {\n",
       "        text-align: right;\n",
       "    }\n",
       "</style>\n",
       "<table border=\"1\" class=\"dataframe\">\n",
       "  <thead>\n",
       "    <tr style=\"text-align: right;\">\n",
       "      <th></th>\n",
       "      <th>Tm</th>\n",
       "      <th>year</th>\n",
       "      <th>W</th>\n",
       "      <th>season_WinP</th>\n",
       "    </tr>\n",
       "  </thead>\n",
       "  <tbody>\n",
       "    <tr>\n",
       "      <th>1362</th>\n",
       "      <td>New Orleans Saints</td>\n",
       "      <td>2010</td>\n",
       "      <td>11.0</td>\n",
       "      <td>0.6875</td>\n",
       "    </tr>\n",
       "    <tr>\n",
       "      <th>881</th>\n",
       "      <td>Green Bay Packers</td>\n",
       "      <td>2005</td>\n",
       "      <td>4.0</td>\n",
       "      <td>0.2500</td>\n",
       "    </tr>\n",
       "    <tr>\n",
       "      <th>2117</th>\n",
       "      <td>Washington Redskins</td>\n",
       "      <td>2009</td>\n",
       "      <td>4.0</td>\n",
       "      <td>0.2500</td>\n",
       "    </tr>\n",
       "    <tr>\n",
       "      <th>1386</th>\n",
       "      <td>New York Giants</td>\n",
       "      <td>1938</td>\n",
       "      <td>8.0</td>\n",
       "      <td>0.5000</td>\n",
       "    </tr>\n",
       "    <tr>\n",
       "      <th>1947</th>\n",
       "      <td>St. Louis Cardinals</td>\n",
       "      <td>1984</td>\n",
       "      <td>9.0</td>\n",
       "      <td>0.5625</td>\n",
       "    </tr>\n",
       "  </tbody>\n",
       "</table>\n",
       "</div>"
      ],
      "text/plain": [
       "                       Tm  year     W  season_WinP\n",
       "1362   New Orleans Saints  2010  11.0       0.6875\n",
       "881     Green Bay Packers  2005   4.0       0.2500\n",
       "2117  Washington Redskins  2009   4.0       0.2500\n",
       "1386      New York Giants  1938   8.0       0.5000\n",
       "1947  St. Louis Cardinals  1984   9.0       0.5625"
      ]
     },
     "execution_count": 64,
     "metadata": {},
     "output_type": "execute_result"
    }
   ],
   "source": [
    "team_win_df = coaches_df.groupby(['Tm', 'year']).sum()['W'].reset_index()\n",
    "team_win_df['season_WinP'] = team_win_df['W'] / 16\n",
    "team_win_df.sample(5)"
   ]
  },
  {
   "cell_type": "code",
   "execution_count": 65,
   "metadata": {},
   "outputs": [],
   "source": [
    "coaches_df['prev_year'] = coaches_df['year']-1\n",
    "coaches_df = coaches_df.merge(team_win_df.rename(columns = {'year': 'prev_year'}),\n",
    "                              on = ['prev_year', 'Tm'], how='left', suffixes = ('', '_prev') )\n",
    "coaches_df['winP_change'] = (coaches_df['season_WinP'] - coaches_df['season_WinP_prev']).fillna(0)\n",
    "coaches_df['Coach'] = coaches_df['Coach'].str.lower()\n",
    "coaches_race_df['Coach'] = coaches_race_df['Coach'].str.lower()"
   ]
  },
  {
   "cell_type": "code",
   "execution_count": 66,
   "metadata": {},
   "outputs": [
    {
     "data": {
      "text/html": [
       "<div>\n",
       "<style scoped>\n",
       "    .dataframe tbody tr th:only-of-type {\n",
       "        vertical-align: middle;\n",
       "    }\n",
       "\n",
       "    .dataframe tbody tr th {\n",
       "        vertical-align: top;\n",
       "    }\n",
       "\n",
       "    .dataframe thead th {\n",
       "        text-align: right;\n",
       "    }\n",
       "</style>\n",
       "<table border=\"1\" class=\"dataframe\">\n",
       "  <thead>\n",
       "    <tr style=\"text-align: right;\">\n",
       "      <th></th>\n",
       "      <th>year</th>\n",
       "      <th>age</th>\n",
       "      <th>Tm</th>\n",
       "      <th>league</th>\n",
       "      <th>G</th>\n",
       "      <th>W</th>\n",
       "      <th>L</th>\n",
       "      <th>Tie</th>\n",
       "      <th>season_WinP</th>\n",
       "      <th>career_WinP</th>\n",
       "      <th>Coach</th>\n",
       "      <th>prev_year</th>\n",
       "      <th>W_prev</th>\n",
       "      <th>season_WinP_prev</th>\n",
       "      <th>winP_change</th>\n",
       "    </tr>\n",
       "  </thead>\n",
       "  <tbody>\n",
       "    <tr>\n",
       "      <th>0</th>\n",
       "      <td>1963</td>\n",
       "      <td>33.0</td>\n",
       "      <td>Baltimore Colts</td>\n",
       "      <td>NFL</td>\n",
       "      <td>14</td>\n",
       "      <td>8.0</td>\n",
       "      <td>6.0</td>\n",
       "      <td>0.0</td>\n",
       "      <td>0.571</td>\n",
       "      <td>0.677</td>\n",
       "      <td>don shula</td>\n",
       "      <td>1962</td>\n",
       "      <td>7.0</td>\n",
       "      <td>0.4375</td>\n",
       "      <td>0.1335</td>\n",
       "    </tr>\n",
       "    <tr>\n",
       "      <th>1</th>\n",
       "      <td>1964</td>\n",
       "      <td>34.0</td>\n",
       "      <td>Baltimore Colts</td>\n",
       "      <td>NFL</td>\n",
       "      <td>14</td>\n",
       "      <td>12.0</td>\n",
       "      <td>2.0</td>\n",
       "      <td>0.0</td>\n",
       "      <td>0.857</td>\n",
       "      <td>0.677</td>\n",
       "      <td>don shula</td>\n",
       "      <td>1963</td>\n",
       "      <td>8.0</td>\n",
       "      <td>0.5000</td>\n",
       "      <td>0.3570</td>\n",
       "    </tr>\n",
       "    <tr>\n",
       "      <th>2</th>\n",
       "      <td>1965</td>\n",
       "      <td>35.0</td>\n",
       "      <td>Baltimore Colts</td>\n",
       "      <td>NFL</td>\n",
       "      <td>14</td>\n",
       "      <td>10.0</td>\n",
       "      <td>3.0</td>\n",
       "      <td>1.0</td>\n",
       "      <td>0.769</td>\n",
       "      <td>0.677</td>\n",
       "      <td>don shula</td>\n",
       "      <td>1964</td>\n",
       "      <td>12.0</td>\n",
       "      <td>0.7500</td>\n",
       "      <td>0.0190</td>\n",
       "    </tr>\n",
       "  </tbody>\n",
       "</table>\n",
       "</div>"
      ],
      "text/plain": [
       "   year   age               Tm league   G     W    L  Tie  season_WinP  \\\n",
       "0  1963  33.0  Baltimore Colts    NFL  14   8.0  6.0  0.0        0.571   \n",
       "1  1964  34.0  Baltimore Colts    NFL  14  12.0  2.0  0.0        0.857   \n",
       "2  1965  35.0  Baltimore Colts    NFL  14  10.0  3.0  1.0        0.769   \n",
       "\n",
       "   career_WinP      Coach  prev_year  W_prev  season_WinP_prev  winP_change  \n",
       "0        0.677  don shula       1962     7.0            0.4375       0.1335  \n",
       "1        0.677  don shula       1963     8.0            0.5000       0.3570  \n",
       "2        0.677  don shula       1964    12.0            0.7500       0.0190  "
      ]
     },
     "execution_count": 66,
     "metadata": {},
     "output_type": "execute_result"
    }
   ],
   "source": [
    "coaches_df.head(3)"
   ]
  },
  {
   "cell_type": "code",
   "execution_count": 67,
   "metadata": {},
   "outputs": [],
   "source": [
    "coaches_covariates_df = (coaches_df.merge(coaches_race_df, on = 'Coach')\n",
    "                                   .rename(columns = {'Coach':'fuzzy_name'})\n",
    "                                   .merge(player_sentiment_df, on = ['fuzzy_name', 'year'], how='inner')\n",
    "                                   )"
   ]
  },
  {
   "cell_type": "markdown",
   "metadata": {},
   "source": [
    "### Most and least popular coaches"
   ]
  },
  {
   "cell_type": "code",
   "execution_count": 69,
   "metadata": {},
   "outputs": [
    {
     "data": {
      "text/html": [
       "<div>\n",
       "<style scoped>\n",
       "    .dataframe tbody tr th:only-of-type {\n",
       "        vertical-align: middle;\n",
       "    }\n",
       "\n",
       "    .dataframe tbody tr th {\n",
       "        vertical-align: top;\n",
       "    }\n",
       "\n",
       "    .dataframe thead th {\n",
       "        text-align: right;\n",
       "    }\n",
       "</style>\n",
       "<table border=\"1\" class=\"dataframe\">\n",
       "  <thead>\n",
       "    <tr style=\"text-align: right;\">\n",
       "      <th></th>\n",
       "      <th>year</th>\n",
       "      <th>age</th>\n",
       "      <th>Tm</th>\n",
       "      <th>league</th>\n",
       "      <th>G</th>\n",
       "      <th>W</th>\n",
       "      <th>L</th>\n",
       "      <th>Tie</th>\n",
       "      <th>season_WinP</th>\n",
       "      <th>career_WinP</th>\n",
       "      <th>fuzzy_name</th>\n",
       "      <th>prev_year</th>\n",
       "      <th>W_prev</th>\n",
       "      <th>season_WinP_prev</th>\n",
       "      <th>winP_change</th>\n",
       "      <th>race</th>\n",
       "      <th>compound_mean_mean</th>\n",
       "      <th>compound_mean_std</th>\n",
       "      <th>user_count</th>\n",
       "    </tr>\n",
       "  </thead>\n",
       "  <tbody>\n",
       "    <tr>\n",
       "      <th>86</th>\n",
       "      <td>2016</td>\n",
       "      <td>48.0</td>\n",
       "      <td>Buffalo Bills</td>\n",
       "      <td>NFL</td>\n",
       "      <td>1</td>\n",
       "      <td>0.0</td>\n",
       "      <td>1.0</td>\n",
       "      <td>0.0</td>\n",
       "      <td>0.000</td>\n",
       "      <td>0.583</td>\n",
       "      <td>anthony lynn</td>\n",
       "      <td>2015</td>\n",
       "      <td>8.0</td>\n",
       "      <td>0.5000</td>\n",
       "      <td>-0.5000</td>\n",
       "      <td>B</td>\n",
       "      <td>0.490191</td>\n",
       "      <td>0.387365</td>\n",
       "      <td>11</td>\n",
       "    </tr>\n",
       "    <tr>\n",
       "      <th>99</th>\n",
       "      <td>2016</td>\n",
       "      <td>42.0</td>\n",
       "      <td>Los Angeles Rams</td>\n",
       "      <td>NFL</td>\n",
       "      <td>3</td>\n",
       "      <td>0.0</td>\n",
       "      <td>3.0</td>\n",
       "      <td>0.0</td>\n",
       "      <td>0.000</td>\n",
       "      <td>0.000</td>\n",
       "      <td>john fassel</td>\n",
       "      <td>2015</td>\n",
       "      <td>NaN</td>\n",
       "      <td>NaN</td>\n",
       "      <td>0.0000</td>\n",
       "      <td>W</td>\n",
       "      <td>0.471736</td>\n",
       "      <td>0.322150</td>\n",
       "      <td>11</td>\n",
       "    </tr>\n",
       "    <tr>\n",
       "      <th>81</th>\n",
       "      <td>2017</td>\n",
       "      <td>31.0</td>\n",
       "      <td>Los Angeles Rams</td>\n",
       "      <td>NFL</td>\n",
       "      <td>16</td>\n",
       "      <td>11.0</td>\n",
       "      <td>5.0</td>\n",
       "      <td>0.0</td>\n",
       "      <td>0.688</td>\n",
       "      <td>0.792</td>\n",
       "      <td>sean mcvay</td>\n",
       "      <td>2016</td>\n",
       "      <td>4.0</td>\n",
       "      <td>0.2500</td>\n",
       "      <td>0.4380</td>\n",
       "      <td>W</td>\n",
       "      <td>0.280502</td>\n",
       "      <td>0.392170</td>\n",
       "      <td>267</td>\n",
       "    </tr>\n",
       "    <tr>\n",
       "      <th>79</th>\n",
       "      <td>2016</td>\n",
       "      <td>38.0</td>\n",
       "      <td>Miami Dolphins</td>\n",
       "      <td>NFL</td>\n",
       "      <td>16</td>\n",
       "      <td>10.0</td>\n",
       "      <td>6.0</td>\n",
       "      <td>0.0</td>\n",
       "      <td>0.625</td>\n",
       "      <td>0.500</td>\n",
       "      <td>adam gase</td>\n",
       "      <td>2015</td>\n",
       "      <td>1.0</td>\n",
       "      <td>0.0625</td>\n",
       "      <td>0.5625</td>\n",
       "      <td>W</td>\n",
       "      <td>0.266910</td>\n",
       "      <td>0.376207</td>\n",
       "      <td>187</td>\n",
       "    </tr>\n",
       "    <tr>\n",
       "      <th>73</th>\n",
       "      <td>2015</td>\n",
       "      <td>52.0</td>\n",
       "      <td>New York Jets</td>\n",
       "      <td>NFL</td>\n",
       "      <td>16</td>\n",
       "      <td>10.0</td>\n",
       "      <td>6.0</td>\n",
       "      <td>0.0</td>\n",
       "      <td>0.625</td>\n",
       "      <td>0.424</td>\n",
       "      <td>todd bowles</td>\n",
       "      <td>2014</td>\n",
       "      <td>4.0</td>\n",
       "      <td>0.2500</td>\n",
       "      <td>0.3750</td>\n",
       "      <td>B</td>\n",
       "      <td>0.265183</td>\n",
       "      <td>0.386048</td>\n",
       "      <td>127</td>\n",
       "    </tr>\n",
       "  </tbody>\n",
       "</table>\n",
       "</div>"
      ],
      "text/plain": [
       "    year   age                Tm league   G     W    L  Tie  season_WinP  \\\n",
       "86  2016  48.0     Buffalo Bills    NFL   1   0.0  1.0  0.0        0.000   \n",
       "99  2016  42.0  Los Angeles Rams    NFL   3   0.0  3.0  0.0        0.000   \n",
       "81  2017  31.0  Los Angeles Rams    NFL  16  11.0  5.0  0.0        0.688   \n",
       "79  2016  38.0    Miami Dolphins    NFL  16  10.0  6.0  0.0        0.625   \n",
       "73  2015  52.0     New York Jets    NFL  16  10.0  6.0  0.0        0.625   \n",
       "\n",
       "    career_WinP    fuzzy_name  prev_year  W_prev  season_WinP_prev  \\\n",
       "86        0.583  anthony lynn       2015     8.0            0.5000   \n",
       "99        0.000   john fassel       2015     NaN               NaN   \n",
       "81        0.792    sean mcvay       2016     4.0            0.2500   \n",
       "79        0.500     adam gase       2015     1.0            0.0625   \n",
       "73        0.424   todd bowles       2014     4.0            0.2500   \n",
       "\n",
       "    winP_change race  compound_mean_mean  compound_mean_std  user_count  \n",
       "86      -0.5000    B            0.490191           0.387365          11  \n",
       "99       0.0000    W            0.471736           0.322150          11  \n",
       "81       0.4380    W            0.280502           0.392170         267  \n",
       "79       0.5625    W            0.266910           0.376207         187  \n",
       "73       0.3750    B            0.265183           0.386048         127  "
      ]
     },
     "execution_count": 69,
     "metadata": {},
     "output_type": "execute_result"
    }
   ],
   "source": [
    "coaches_covariates_df.sort_values('compound_mean_mean',ascending=False).head(5)"
   ]
  },
  {
   "cell_type": "code",
   "execution_count": 68,
   "metadata": {},
   "outputs": [
    {
     "data": {
      "text/html": [
       "<div>\n",
       "<style scoped>\n",
       "    .dataframe tbody tr th:only-of-type {\n",
       "        vertical-align: middle;\n",
       "    }\n",
       "\n",
       "    .dataframe tbody tr th {\n",
       "        vertical-align: top;\n",
       "    }\n",
       "\n",
       "    .dataframe thead th {\n",
       "        text-align: right;\n",
       "    }\n",
       "</style>\n",
       "<table border=\"1\" class=\"dataframe\">\n",
       "  <thead>\n",
       "    <tr style=\"text-align: right;\">\n",
       "      <th></th>\n",
       "      <th>year</th>\n",
       "      <th>age</th>\n",
       "      <th>Tm</th>\n",
       "      <th>league</th>\n",
       "      <th>G</th>\n",
       "      <th>W</th>\n",
       "      <th>L</th>\n",
       "      <th>Tie</th>\n",
       "      <th>season_WinP</th>\n",
       "      <th>career_WinP</th>\n",
       "      <th>fuzzy_name</th>\n",
       "      <th>prev_year</th>\n",
       "      <th>W_prev</th>\n",
       "      <th>season_WinP_prev</th>\n",
       "      <th>winP_change</th>\n",
       "      <th>race</th>\n",
       "      <th>compound_mean_mean</th>\n",
       "      <th>compound_mean_std</th>\n",
       "      <th>user_count</th>\n",
       "    </tr>\n",
       "  </thead>\n",
       "  <tbody>\n",
       "    <tr>\n",
       "      <th>47</th>\n",
       "      <td>2015</td>\n",
       "      <td>55.0</td>\n",
       "      <td>Indianapolis Colts</td>\n",
       "      <td>NFL</td>\n",
       "      <td>16</td>\n",
       "      <td>8.0</td>\n",
       "      <td>8.0</td>\n",
       "      <td>0.0</td>\n",
       "      <td>0.500</td>\n",
       "      <td>0.552</td>\n",
       "      <td>chuck pagano</td>\n",
       "      <td>2014</td>\n",
       "      <td>11.0</td>\n",
       "      <td>0.6875</td>\n",
       "      <td>-0.1875</td>\n",
       "      <td>W</td>\n",
       "      <td>-0.051422</td>\n",
       "      <td>0.430797</td>\n",
       "      <td>299</td>\n",
       "    </tr>\n",
       "    <tr>\n",
       "      <th>65</th>\n",
       "      <td>2017</td>\n",
       "      <td>50.0</td>\n",
       "      <td>Washington Redskins</td>\n",
       "      <td>NFL</td>\n",
       "      <td>16</td>\n",
       "      <td>7.0</td>\n",
       "      <td>9.0</td>\n",
       "      <td>0.0</td>\n",
       "      <td>0.438</td>\n",
       "      <td>0.472</td>\n",
       "      <td>jay gruden</td>\n",
       "      <td>2016</td>\n",
       "      <td>8.0</td>\n",
       "      <td>0.5000</td>\n",
       "      <td>-0.0620</td>\n",
       "      <td>W</td>\n",
       "      <td>-0.052387</td>\n",
       "      <td>0.494077</td>\n",
       "      <td>20</td>\n",
       "    </tr>\n",
       "    <tr>\n",
       "      <th>40</th>\n",
       "      <td>2016</td>\n",
       "      <td>54.0</td>\n",
       "      <td>Carolina Panthers</td>\n",
       "      <td>NFL</td>\n",
       "      <td>16</td>\n",
       "      <td>6.0</td>\n",
       "      <td>10.0</td>\n",
       "      <td>0.0</td>\n",
       "      <td>0.375</td>\n",
       "      <td>0.584</td>\n",
       "      <td>ron rivera</td>\n",
       "      <td>2015</td>\n",
       "      <td>15.0</td>\n",
       "      <td>0.9375</td>\n",
       "      <td>-0.5625</td>\n",
       "      <td>W</td>\n",
       "      <td>-0.071170</td>\n",
       "      <td>0.456273</td>\n",
       "      <td>35</td>\n",
       "    </tr>\n",
       "    <tr>\n",
       "      <th>26</th>\n",
       "      <td>2017</td>\n",
       "      <td>54.0</td>\n",
       "      <td>New Orleans Saints</td>\n",
       "      <td>NFL</td>\n",
       "      <td>16</td>\n",
       "      <td>11.0</td>\n",
       "      <td>5.0</td>\n",
       "      <td>0.0</td>\n",
       "      <td>0.688</td>\n",
       "      <td>0.607</td>\n",
       "      <td>sean payton</td>\n",
       "      <td>2016</td>\n",
       "      <td>7.0</td>\n",
       "      <td>0.4375</td>\n",
       "      <td>0.2505</td>\n",
       "      <td>W</td>\n",
       "      <td>-0.112689</td>\n",
       "      <td>0.445694</td>\n",
       "      <td>214</td>\n",
       "    </tr>\n",
       "    <tr>\n",
       "      <th>94</th>\n",
       "      <td>2017</td>\n",
       "      <td>58.0</td>\n",
       "      <td>New York Giants</td>\n",
       "      <td>NFL</td>\n",
       "      <td>4</td>\n",
       "      <td>1.0</td>\n",
       "      <td>3.0</td>\n",
       "      <td>0.0</td>\n",
       "      <td>0.250</td>\n",
       "      <td>0.212</td>\n",
       "      <td>steve spagnuolo</td>\n",
       "      <td>2016</td>\n",
       "      <td>11.0</td>\n",
       "      <td>0.6875</td>\n",
       "      <td>-0.4375</td>\n",
       "      <td>W</td>\n",
       "      <td>-0.127200</td>\n",
       "      <td>0.444799</td>\n",
       "      <td>6</td>\n",
       "    </tr>\n",
       "  </tbody>\n",
       "</table>\n",
       "</div>"
      ],
      "text/plain": [
       "    year   age                   Tm league   G     W     L  Tie  season_WinP  \\\n",
       "47  2015  55.0   Indianapolis Colts    NFL  16   8.0   8.0  0.0        0.500   \n",
       "65  2017  50.0  Washington Redskins    NFL  16   7.0   9.0  0.0        0.438   \n",
       "40  2016  54.0    Carolina Panthers    NFL  16   6.0  10.0  0.0        0.375   \n",
       "26  2017  54.0   New Orleans Saints    NFL  16  11.0   5.0  0.0        0.688   \n",
       "94  2017  58.0      New York Giants    NFL   4   1.0   3.0  0.0        0.250   \n",
       "\n",
       "    career_WinP       fuzzy_name  prev_year  W_prev  season_WinP_prev  \\\n",
       "47        0.552     chuck pagano       2014    11.0            0.6875   \n",
       "65        0.472       jay gruden       2016     8.0            0.5000   \n",
       "40        0.584       ron rivera       2015    15.0            0.9375   \n",
       "26        0.607      sean payton       2016     7.0            0.4375   \n",
       "94        0.212  steve spagnuolo       2016    11.0            0.6875   \n",
       "\n",
       "    winP_change race  compound_mean_mean  compound_mean_std  user_count  \n",
       "47      -0.1875    W           -0.051422           0.430797         299  \n",
       "65      -0.0620    W           -0.052387           0.494077          20  \n",
       "40      -0.5625    W           -0.071170           0.456273          35  \n",
       "26       0.2505    W           -0.112689           0.445694         214  \n",
       "94      -0.4375    W           -0.127200           0.444799           6  "
      ]
     },
     "execution_count": 68,
     "metadata": {},
     "output_type": "execute_result"
    }
   ],
   "source": [
    "coaches_covariates_df.sort_values('compound_mean_mean',ascending=False).tail(5)"
   ]
  },
  {
   "cell_type": "markdown",
   "metadata": {},
   "source": [
    "### Filter to coaches with enough games and comments and explore data"
   ]
  },
  {
   "cell_type": "code",
   "execution_count": 70,
   "metadata": {},
   "outputs": [],
   "source": [
    "coaches_fit_df = coaches_covariates_df.query('G >= 10 and user_count > 10')"
   ]
  },
  {
   "cell_type": "code",
   "execution_count": 71,
   "metadata": {},
   "outputs": [
    {
     "data": {
      "image/png": "[encoded data removed]",
      "text/plain": [
       "<Figure size 792x360 with 2 Axes>"
      ]
     },
     "metadata": {
      "needs_background": "light"
     },
     "output_type": "display_data"
    }
   ],
   "source": [
    "fig, axes = plt.subplots(1,2, figsize = [11, 5])\n",
    "coaches_fit_df.plot.scatter('season_WinP', 'compound_mean_mean', ax = axes[0]);\n",
    "coaches_fit_df.plot.scatter('winP_change', 'compound_mean_mean', ax = axes[1]);"
   ]
  },
  {
   "cell_type": "code",
   "execution_count": 78,
   "metadata": {},
   "outputs": [
    {
     "data": {
      "text/html": [
       "<div>\n",
       "<style scoped>\n",
       "    .dataframe tbody tr th:only-of-type {\n",
       "        vertical-align: middle;\n",
       "    }\n",
       "\n",
       "    .dataframe tbody tr th {\n",
       "        vertical-align: top;\n",
       "    }\n",
       "\n",
       "    .dataframe thead th {\n",
       "        text-align: right;\n",
       "    }\n",
       "</style>\n",
       "<table border=\"1\" class=\"dataframe\">\n",
       "  <thead>\n",
       "    <tr style=\"text-align: right;\">\n",
       "      <th></th>\n",
       "      <th>mean</th>\n",
       "      <th>count</th>\n",
       "    </tr>\n",
       "    <tr>\n",
       "      <th>race</th>\n",
       "      <th></th>\n",
       "      <th></th>\n",
       "    </tr>\n",
       "  </thead>\n",
       "  <tbody>\n",
       "    <tr>\n",
       "      <th>B</th>\n",
       "      <td>0.069253</td>\n",
       "      <td>17</td>\n",
       "    </tr>\n",
       "    <tr>\n",
       "      <th>W</th>\n",
       "      <td>0.073728</td>\n",
       "      <td>75</td>\n",
       "    </tr>\n",
       "  </tbody>\n",
       "</table>\n",
       "</div>"
      ],
      "text/plain": [
       "          mean  count\n",
       "race                 \n",
       "B     0.069253     17\n",
       "W     0.073728     75"
      ]
     },
     "execution_count": 78,
     "metadata": {},
     "output_type": "execute_result"
    }
   ],
   "source": [
    "coaches_fit_df.groupby('race').agg(['mean', 'count'])['compound_mean_mean']"
   ]
  },
  {
   "cell_type": "markdown",
   "metadata": {},
   "source": [
    "#### Regression model"
   ]
  },
  {
   "cell_type": "code",
   "execution_count": 79,
   "metadata": {},
   "outputs": [],
   "source": [
    "'''model = sm.WLS( fit_df['compound_mean_mean'].values,\n",
    "               fit_df[['youth', 'oldness', 'Wins', 'W', 'M', 'short', 'tall',\n",
    "                       'PS/G', '3P%' , 'TRB%', 'AST%','BLK%', 'STL%', 'OWS', 'DWS']],\n",
    "               fit_df['user_count']).fit()'''\n",
    "coach_model = smf.wls( formula = 'compound_mean_mean ~ season_WinP + career_WinP + winP_change + C(race)',\n",
    "                data = coaches_fit_df,\n",
    "               weights = 1 / (coaches_fit_df['compound_mean_std'] / np.sqrt(coaches_fit_df['user_count'])),\n",
    "#                missing='raise'   \n",
    "               ).fit()"
   ]
  },
  {
   "cell_type": "code",
   "execution_count": 80,
   "metadata": {},
   "outputs": [
    {
     "data": {
      "text/html": [
       "<table class=\"simpletable\">\n",
       "<caption>WLS Regression Results</caption>\n",
       "<tr>\n",
       "  <th>Dep. Variable:</th>    <td>compound_mean_mean</td> <th>  R-squared:         </th> <td>   0.292</td>\n",
       "</tr>\n",
       "<tr>\n",
       "  <th>Model:</th>                    <td>WLS</td>        <th>  Adj. R-squared:    </th> <td>   0.259</td>\n",
       "</tr>\n",
       "<tr>\n",
       "  <th>Method:</th>              <td>Least Squares</td>   <th>  F-statistic:       </th> <td>   8.962</td>\n",
       "</tr>\n",
       "<tr>\n",
       "  <th>Date:</th>              <td>Wed, 07 Nov 2018</td>  <th>  Prob (F-statistic):</th> <td>4.15e-06</td>\n",
       "</tr>\n",
       "<tr>\n",
       "  <th>Time:</th>                  <td>23:16:44</td>      <th>  Log-Likelihood:    </th> <td>  115.75</td>\n",
       "</tr>\n",
       "<tr>\n",
       "  <th>No. Observations:</th>       <td>    92</td>       <th>  AIC:               </th> <td>  -221.5</td>\n",
       "</tr>\n",
       "<tr>\n",
       "  <th>Df Residuals:</th>           <td>    87</td>       <th>  BIC:               </th> <td>  -208.9</td>\n",
       "</tr>\n",
       "<tr>\n",
       "  <th>Df Model:</th>               <td>     4</td>       <th>                     </th>     <td> </td>   \n",
       "</tr>\n",
       "<tr>\n",
       "  <th>Covariance Type:</th>       <td>nonrobust</td>     <th>                     </th>     <td> </td>   \n",
       "</tr>\n",
       "</table>\n",
       "<table class=\"simpletable\">\n",
       "<tr>\n",
       "        <td></td>          <th>coef</th>     <th>std err</th>      <th>t</th>      <th>P>|t|</th>  <th>[0.025</th>    <th>0.975]</th>  \n",
       "</tr>\n",
       "<tr>\n",
       "  <th>Intercept</th>    <td>    0.0073</td> <td>    0.036</td> <td>    0.205</td> <td> 0.838</td> <td>   -0.063</td> <td>    0.078</td>\n",
       "</tr>\n",
       "<tr>\n",
       "  <th>C(race)[T.W]</th> <td>   -0.0012</td> <td>    0.020</td> <td>   -0.060</td> <td> 0.952</td> <td>   -0.040</td> <td>    0.038</td>\n",
       "</tr>\n",
       "<tr>\n",
       "  <th>season_WinP</th>  <td>    0.0884</td> <td>    0.058</td> <td>    1.522</td> <td> 0.132</td> <td>   -0.027</td> <td>    0.204</td>\n",
       "</tr>\n",
       "<tr>\n",
       "  <th>career_WinP</th>  <td>    0.0437</td> <td>    0.093</td> <td>    0.469</td> <td> 0.641</td> <td>   -0.142</td> <td>    0.229</td>\n",
       "</tr>\n",
       "<tr>\n",
       "  <th>winP_change</th>  <td>    0.1086</td> <td>    0.038</td> <td>    2.851</td> <td> 0.005</td> <td>    0.033</td> <td>    0.184</td>\n",
       "</tr>\n",
       "</table>\n",
       "<table class=\"simpletable\">\n",
       "<tr>\n",
       "  <th>Omnibus:</th>       <td> 9.197</td> <th>  Durbin-Watson:     </th> <td>   1.562</td>\n",
       "</tr>\n",
       "<tr>\n",
       "  <th>Prob(Omnibus):</th> <td> 0.010</td> <th>  Jarque-Bera (JB):  </th> <td>  20.642</td>\n",
       "</tr>\n",
       "<tr>\n",
       "  <th>Skew:</th>          <td>-0.124</td> <th>  Prob(JB):          </th> <td>3.29e-05</td>\n",
       "</tr>\n",
       "<tr>\n",
       "  <th>Kurtosis:</th>      <td> 5.307</td> <th>  Cond. No.          </th> <td>    23.8</td>\n",
       "</tr>\n",
       "</table><br/><br/>Warnings:<br/>[1] Standard Errors assume that the covariance matrix of the errors is correctly specified."
      ],
      "text/plain": [
       "<class 'statsmodels.iolib.summary.Summary'>\n",
       "\"\"\"\n",
       "                            WLS Regression Results                            \n",
       "==============================================================================\n",
       "Dep. Variable:     compound_mean_mean   R-squared:                       0.292\n",
       "Model:                            WLS   Adj. R-squared:                  0.259\n",
       "Method:                 Least Squares   F-statistic:                     8.962\n",
       "Date:                Wed, 07 Nov 2018   Prob (F-statistic):           4.15e-06\n",
       "Time:                        23:16:44   Log-Likelihood:                 115.75\n",
       "No. Observations:                  92   AIC:                            -221.5\n",
       "Df Residuals:                      87   BIC:                            -208.9\n",
       "Df Model:                           4                                         \n",
       "Covariance Type:            nonrobust                                         \n",
       "================================================================================\n",
       "                   coef    std err          t      P>|t|      [0.025      0.975]\n",
       "--------------------------------------------------------------------------------\n",
       "Intercept        0.0073      0.036      0.205      0.838      -0.063       0.078\n",
       "C(race)[T.W]    -0.0012      0.020     -0.060      0.952      -0.040       0.038\n",
       "season_WinP      0.0884      0.058      1.522      0.132      -0.027       0.204\n",
       "career_WinP      0.0437      0.093      0.469      0.641      -0.142       0.229\n",
       "winP_change      0.1086      0.038      2.851      0.005       0.033       0.184\n",
       "==============================================================================\n",
       "Omnibus:                        9.197   Durbin-Watson:                   1.562\n",
       "Prob(Omnibus):                  0.010   Jarque-Bera (JB):               20.642\n",
       "Skew:                          -0.124   Prob(JB):                     3.29e-05\n",
       "Kurtosis:                       5.307   Cond. No.                         23.8\n",
       "==============================================================================\n",
       "\n",
       "Warnings:\n",
       "[1] Standard Errors assume that the covariance matrix of the errors is correctly specified.\n",
       "\"\"\""
      ]
     },
     "execution_count": 80,
     "metadata": {},
     "output_type": "execute_result"
    }
   ],
   "source": [
    "coach_model.summary()"
   ]
  },
  {
   "cell_type": "code",
   "execution_count": null,
   "metadata": {},
   "outputs": [],
   "source": []
  }
 ],
 "metadata": {
  "kernelspec": {
   "display_name": "Python 3",
   "language": "python",
   "name": "python3"
  },
  "language_info": {
   "codemirror_mode": {
    "name": "ipython",
    "version": 3
   },
   "file_extension": ".py",
   "mimetype": "text/x-python",
   "name": "python",
   "nbconvert_exporter": "python",
   "pygments_lexer": "ipython3",
   "version": "3.6.5"
  }
 },
 "nbformat": 4,
 "nbformat_minor": 2
}
