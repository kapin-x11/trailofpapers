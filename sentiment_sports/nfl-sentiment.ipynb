{
 "cells": [
  {
   "cell_type": "markdown",
   "metadata": {},
   "source": [
    "# Drivers of Reddit NFL sentiment\n",
    "This notebook investigates what drives the sentiment of NFL players on reddit. It roughly has N parts:\n",
    "1. Building a set of covariates for sentiment (e.g. player demographics, city demographics, performance data)\n",
    "2. Calculating the sentiment towards each player\n",
    "3. Performing a regression model to predict player sentiment\n",
    "\n",
    "This is a work in progress. For similar work on the NFL, see `nba-sentiment.ipynb`."
   ]
  },
  {
   "cell_type": "markdown",
   "metadata": {},
   "source": [
    "### Short term to-do:\n",
    "* Upload table of sentiment and player\n",
    "* Upload joined table of covariates and sentiment\n",
    "* Clean up comment matching\n",
    "  * Why does JJ Watt have low comment count?\n",
    "* Add salary data and Trump vote share\n",
    "* Try to find some subset of data where performance is correlated with sentiment\n",
    "\n",
    "### Long term to-do:\n",
    "\n",
    "Create functions for:\n",
    "  * fuzzy matching cleanup\n",
    "  * aggregation (maybe)"
   ]
  },
  {
   "cell_type": "code",
   "execution_count": 1,
   "metadata": {
    "collapsed": true
   },
   "outputs": [
    {
     "name": "stderr",
     "output_type": "stream",
     "text": [
      "C:\\ProgramData\\Anaconda3\\lib\\site-packages\\nltk\\twitter\\__init__.py:20: UserWarning: The twython library has not been installed. Some functionality from the twitter package will not be available.\n",
      "  warnings.warn(\"The twython library has not been installed. \"\n"
     ]
    }
   ],
   "source": [
    "import json\n",
    "import string\n",
    "import requests\n",
    "import pandas as pd\n",
    "import numpy as np\n",
    "import seaborn as sns\n",
    "from ast import literal_eval\n",
    "from string import punctuation\n",
    "from sner import Ner\n",
    "from nltk.sentiment.vader import SentimentIntensityAnalyzer\n",
    "import matplotlib.pyplot as plt\n",
    "%matplotlib inline"
   ]
  },
  {
   "cell_type": "code",
   "execution_count": 2,
   "metadata": {},
   "outputs": [],
   "source": [
    "import sports_sentiment as ss\n",
    "import scrape_player_data as spd"
   ]
  },
  {
   "cell_type": "code",
   "execution_count": 3,
   "metadata": {},
   "outputs": [],
   "source": [
    "# download stanford core nlp (should be a zip file of format stanford-ner-YYYY-MM-DD) (maybe from https://nlp.stanford.edu/software/CRF-NER.shtml#Download)\n",
    "# need to start the Java server:\n",
    "# cd C:\\ProgramData\\Anaconda3\\Lib\\site-packages\\sner\\stanford-ner-2018-02-27\n",
    "# java -Djava.ext.dirs=./lib -cp stanford-ner.jar edu.stanford.nlp.ie.NERServer -port 9199 -loadClassifier ./classifiers/english.all.3class.distsim.crf.ser.gz  -tokenizerFactory edu.stanford.nlp.process.WhitespaceTokenizer -tokenizerOptions tokenizeNLs=false"
   ]
  },
  {
   "cell_type": "code",
   "execution_count": 4,
   "metadata": {},
   "outputs": [],
   "source": [
    "pd.set_option('display.max_colwidth', 200)\n",
    "pd.set_option('display.max_columns', 100)"
   ]
  },
  {
   "cell_type": "markdown",
   "metadata": {},
   "source": [
    "## Constants and non-text data"
   ]
  },
  {
   "cell_type": "code",
   "execution_count": 5,
   "metadata": {},
   "outputs": [],
   "source": [
    "non_players_set = set('Baltimore Ravens Buffalo Bills Cincinnati Bengals Cleveland Browns Denver Broncos Houston Texans Indianapolis Colts ' \\\n",
    "                        'Jacksonville Jaguars Kansas City Chiefs Los Angeles Chargers Miami Dolphins New England Patriots New York Jets ' \\\n",
    "                        'Oakland Raiders Pittsburgh Steelers Tennessee Titans NFL Bowl' \\\n",
    "                       'Arizona Cardinals Atlanta Falcons Carolina Panthers Chicago Bears Dallas Cowboys Detroit Lions Green Bay Packers ' \\\n",
    "                        'Los Angeles Rams Minnesota Vikings New Orleans Saints New York Giants Philadelphia Eagles San Francisco 49ers ' \\\n",
    "                        'Seattle Seahawks Tampa Bay Buccaneers Washington Redskins' \\\n",
    "                        'Goodell Belichick Lebron'.lower().split())"
   ]
  },
  {
   "cell_type": "markdown",
   "metadata": {},
   "source": [
    "### Instantiate sentiment analyzer\n",
    "For sentiment, I use a modified version of VADER. Many words have different sentiment in the sports world as compared to general usage (e.g. \"offensive\" is not a negative word in sports)."
   ]
  },
  {
   "cell_type": "code",
   "execution_count": 6,
   "metadata": {},
   "outputs": [],
   "source": [
    "sid = SentimentIntensityAnalyzer()\n",
    "stat_words = ['steal', 'steals', 'block', 'blocked', 'blocks', 'slam', 'charges', 'rejection', 'free', 'assists']\n",
    "neutral_words = ['offense', 'offensive', 'offensively', 'defense', 'defensive', 'defensively', 'defender',\n",
    "                 'injury', 'injured', 'strain', 'questionable', 'isolation',\n",
    "                 'shoot', 'doubtful', 'play', 'plays', 'crazy', 'turnover', 'turnovers',\n",
    "                 'seriously',\n",
    "                 'rob']\n",
    "bad_words = ['foul', 'vicious', 'ridiculous', 'motherfucking', 'mediocre', 'soft']\n",
    "great_words = ['goat', 'nasty', 'prime', 'mvp']\n",
    "sid.lexicon.update({word:0.1 for word in stat_words})\n",
    "sid.lexicon.update({word:0 for word in neutral_words})\n",
    "sid.lexicon.update({word:-0.5 for word in bad_words})\n",
    "sid.lexicon.update({word:1 for word in great_words})"
   ]
  },
  {
   "cell_type": "markdown",
   "metadata": {},
   "source": [
    "## 1. Load player demographic and performance data\n",
    "### Demographics\n",
    "#### Ethnicity\n",
    "To get a list of black players, I queried Wikipedia's Categories for African American football players and Samon players. This list contained a large fraction of players, but did not label all players, nor identify white NFL players. I then supplemented this list by Googling the ethnicity of the remaining players"
   ]
  },
  {
   "cell_type": "raw",
   "metadata": {},
   "source": [
    "black_nfl_df = spd.get_category_players_wiki().assign(race = lambda row: 'B')\n",
    "samoa_nfl_df = spd.get_category_players_wiki('Category:Samoan_players_of_American_football').assign(race = 'S')"
   ]
  },
  {
   "cell_type": "raw",
   "metadata": {},
   "source": [
    "pd.concat([black_nfl_df, samoa_nfl_df]).to_csv('d:/data/sentiment_sports/covariates/nfl_race_players.tsv', sep='\\t', index = False)"
   ]
  },
  {
   "cell_type": "code",
   "execution_count": 7,
   "metadata": {},
   "outputs": [],
   "source": [
    "nonwiki_df = pd.read_csv('d:/data/sentiment_sports/covariates/nfl_players_race_unknown.csv')"
   ]
  },
  {
   "cell_type": "code",
   "execution_count": 8,
   "metadata": {},
   "outputs": [],
   "source": [
    "race_nfl_df = pd.concat([pd.read_csv('d:/data/sentiment_sports/covariates/nfl_race_players.tsv', sep='\\t'),\n",
    "                        nonwiki_df])"
   ]
  },
  {
   "cell_type": "markdown",
   "metadata": {},
   "source": [
    "#### Download demographics of recent players with weight, height, etc.\n",
    "`pro-football-reference.com` has non-racial demographic data for players going back to the fifties. Here I download those players' data, and filter to recent players."
   ]
  },
  {
   "cell_type": "raw",
   "metadata": {},
   "source": [
    "all_nfl_players = spd.download_nfl_player_stubs()"
   ]
  },
  {
   "cell_type": "raw",
   "metadata": {},
   "source": [
    "modern_df = all_players_df.query('end_year >= 2010')\n",
    "modern_df.shape"
   ]
  },
  {
   "cell_type": "raw",
   "metadata": {},
   "source": [
    "%%time\n",
    "# 54 minutes\n",
    "modern_df[['height', 'weight', 'birth_date']] = modern_df.apply(lambda row: pd.Series(spd.get_pro_football_profile(row['url'])), axis=1)"
   ]
  },
  {
   "cell_type": "raw",
   "metadata": {},
   "source": [
    "modern_df.to_csv('data/covariates/nfl_players2010-2018.tsv',\n",
    "                 sep='\\t', encoding='utf-8', index=False)"
   ]
  },
  {
   "cell_type": "code",
   "execution_count": 12,
   "metadata": {},
   "outputs": [],
   "source": [
    "demo_df = pd.read_csv('d:/data/sentiment_sports/covariates/nfl_players2010-2018.tsv', sep ='\\t', encoding = 'utf-8')\n",
    "demo_df['Player'] = demo_df['Player'].str.lower()\n",
    "demo_df['position'] = demo_df['position'].str.strip('()').str.lower().str.split('-').str[0]\n",
    "def map_name(name):\n",
    "    if '.' in name:\n",
    "        return name.replace('.', ' ').replace('  ', ' ') # <- janky\n",
    "    return name.split(' ')[0][0] + ' ' + name.split(' ')[1]\n",
    "demo_df['player_join'] = demo_df['Player'].apply(map_name)"
   ]
  },
  {
   "cell_type": "code",
   "execution_count": 13,
   "metadata": {},
   "outputs": [],
   "source": [
    "# have to manually fix some player name mappings\n",
    "player_map = {'ej manuel':'ej manuel',\n",
    "                         'marlon brown': 'ma brown',  'mike brown': 'mi brown', 'john brown': 'jo brown',\n",
    "                         'deangelo williams': 'de williams', 'david johnson':'da johnson',\n",
    "                         'trent taylor':'tr taylor', 'jj nelson': 'j j nelson',\n",
    "                         'jaron brown':'ja brown', \"nick o\\\\'leary\": \"n o'leary\"\n",
    "                         }\n",
    "demo_df['player_join'] = demo_df.apply(lambda row: player_map[row['Player']] if row['Player'] in player_map else row['player_join'], axis=1)\n",
    "position_map = {'fb':'rb'}\n",
    "demo_df['position'] = demo_df['position'].replace(position_map)"
   ]
  },
  {
   "cell_type": "markdown",
   "metadata": {},
   "source": [
    "#### Player performance\n",
    "For player performance, I download data from `footballoutsiders.com`"
   ]
  },
  {
   "cell_type": "raw",
   "metadata": {},
   "source": [
    "%%time\n",
    "performance_df = pd.concat([spd.get_year_performance_nfl(year) for year in list(range(2012, 2018))])"
   ]
  },
  {
   "cell_type": "code",
   "execution_count": 14,
   "metadata": {},
   "outputs": [],
   "source": [
    "#performance_df.to_csv('d:/data/sentiment_sports/nfl_stats_2012-2017.tsv', sep='\\t', index = False)\n",
    "performance_df = (pd.read_csv('d:/data/sentiment_sports/nfl_stats_2012-2017.tsv', sep='\\t')\n",
    "                    .rename(columns={'Team':'Tm'}))\n",
    "performance_df['player_join'] = performance_df['Player'].str.replace('.', ' ').str.lower()"
   ]
  },
  {
   "cell_type": "code",
   "execution_count": 15,
   "metadata": {},
   "outputs": [],
   "source": [
    "city_mapping = {'NE':'BOS', 'NO':'NOP', 'CAR':'CHO', 'SD':'SDG', 'LACH':'LAC', 'LARM':'LAR'}\n",
    "performance_df['Tm'] = performance_df['Tm'].replace(city_mapping)"
   ]
  },
  {
   "cell_type": "markdown",
   "metadata": {},
   "source": [
    "#### Team info\n",
    "Here I download team performance from `pro-football-outsiders.com`"
   ]
  },
  {
   "cell_type": "raw",
   "metadata": {},
   "source": [
    "def get_year(year):\n",
    "    return pd.concat(pd.read_html(f'https://www.pro-football-reference.com/years/{year}/') ).dropna().assign(year = year)\n",
    "team_df = pd.concat([get_year(year) for year in list(range(2012, 2018))])"
   ]
  },
  {
   "cell_type": "code",
   "execution_count": 16,
   "metadata": {},
   "outputs": [],
   "source": [
    "#team_df.to_csv('d:/data/sentiment_sports/covariates/nfl_teams_2012-2018.tsv', sep='\\t', index=False)\n",
    "team_df= pd.read_csv('d:/data/sentiment_sports/covariates/nfl_teams_2012-2018.tsv', sep='\\t')"
   ]
  },
  {
   "cell_type": "markdown",
   "metadata": {},
   "source": [
    "#### City demographics\n",
    "When thinking about race, we considered whether the demographics of the city influence player popularity. I downloaded census and polling data for NFL cities."
   ]
  },
  {
   "cell_type": "code",
   "execution_count": 17,
   "metadata": {},
   "outputs": [],
   "source": [
    "# city demographics\n",
    "city_df = pd.read_csv('d:/data/sentiment_sports/covariates/sports_metro_demographics.csv').drop(columns = ['census_Id', 'census_Id2', 'Geography'])"
   ]
  },
  {
   "cell_type": "raw",
   "metadata": {},
   "source": [
    "vote_df = pd.read_excel('data/covariates/2016 election results by county.xlsx')\n",
    "vote_df['county_name'] = vote_df['county_name'].str.lower().str.replace(' county', '')"
   ]
  },
  {
   "cell_type": "raw",
   "metadata": {},
   "source": [
    "msa_df = pd.read_excel('data/covariates/County to MSA Map.xlsx')\n",
    "msa_df['County'] = msa_df['County'].str.lower()\n",
    "msa_df = msa_df.rename(columns = {'County':'county_name',\n",
    "                                  'State':'state_abbr'})"
   ]
  },
  {
   "cell_type": "raw",
   "metadata": {},
   "source": [
    "vote_df = vote_df.merge(msa_df, on= ['county_name', 'state_abbr']).drop_duplicates(['state_abbr', 'county_name'])\n",
    "vote_df.sort_values('total_votes', ascending=False).to_csv('data/covariates/msa_votes.tsv', sep='\\t')"
   ]
  },
  {
   "cell_type": "code",
   "execution_count": 18,
   "metadata": {},
   "outputs": [],
   "source": [
    "vote_df = pd.read_csv('d:/data/sentiment_sports/covariates/msa_votes.tsv', sep='\\t')[['per_point_diff', 'Tm']].rename(columns={'per_point_diff':'clinton_vote_lead'})"
   ]
  },
  {
   "cell_type": "markdown",
   "metadata": {},
   "source": [
    "### Combine info\n",
    "After getting all of the data for various covariates, I combine them into a single dataframe that has performance, demographics, and city information."
   ]
  },
  {
   "cell_type": "code",
   "execution_count": 19,
   "metadata": {},
   "outputs": [
    {
     "data": {
      "text/html": [
       "<div>\n",
       "<style scoped>\n",
       "    .dataframe tbody tr th:only-of-type {\n",
       "        vertical-align: middle;\n",
       "    }\n",
       "\n",
       "    .dataframe tbody tr th {\n",
       "        vertical-align: top;\n",
       "    }\n",
       "\n",
       "    .dataframe thead th {\n",
       "        text-align: right;\n",
       "    }\n",
       "</style>\n",
       "<table border=\"1\" class=\"dataframe\">\n",
       "  <thead>\n",
       "    <tr style=\"text-align: right;\">\n",
       "      <th></th>\n",
       "      <th>Player_FO</th>\n",
       "      <th>Tm</th>\n",
       "      <th>position</th>\n",
       "      <th>DYAR</th>\n",
       "      <th>DVOA</th>\n",
       "      <th>TD</th>\n",
       "      <th>z_DYAR</th>\n",
       "      <th>z_DVOA</th>\n",
       "      <th>z_TD</th>\n",
       "      <th>year</th>\n",
       "      <th>player_join</th>\n",
       "      <th>Player</th>\n",
       "      <th>url</th>\n",
       "      <th>start_year</th>\n",
       "      <th>end_year</th>\n",
       "      <th>height</th>\n",
       "      <th>weight</th>\n",
       "      <th>birth_date</th>\n",
       "      <th>race</th>\n",
       "      <th>total_population</th>\n",
       "      <th>metro_percent_white</th>\n",
       "      <th>metro_percent_black</th>\n",
       "      <th>experience</th>\n",
       "    </tr>\n",
       "  </thead>\n",
       "  <tbody>\n",
       "    <tr>\n",
       "      <th>0</th>\n",
       "      <td>T.Brady</td>\n",
       "      <td>BOS</td>\n",
       "      <td>qb</td>\n",
       "      <td>2035</td>\n",
       "      <td>35.1</td>\n",
       "      <td>34</td>\n",
       "      <td>2.574492</td>\n",
       "      <td>1.846341</td>\n",
       "      <td>1.437475</td>\n",
       "      <td>2012</td>\n",
       "      <td>t brady</td>\n",
       "      <td>tom brady</td>\n",
       "      <td>/players/B/BradTo00.htm</td>\n",
       "      <td>2000.0</td>\n",
       "      <td>2018.0</td>\n",
       "      <td>76.0</td>\n",
       "      <td>225.0</td>\n",
       "      <td>August 3, 1977</td>\n",
       "      <td>W</td>\n",
       "      <td>4728844</td>\n",
       "      <td>77.3</td>\n",
       "      <td>8.0</td>\n",
       "      <td>12.0</td>\n",
       "    </tr>\n",
       "    <tr>\n",
       "      <th>1</th>\n",
       "      <td>S.Ridley</td>\n",
       "      <td>BOS</td>\n",
       "      <td>rb</td>\n",
       "      <td>192</td>\n",
       "      <td>6.1</td>\n",
       "      <td>12</td>\n",
       "      <td>0.954130</td>\n",
       "      <td>0.613013</td>\n",
       "      <td>1.648603</td>\n",
       "      <td>2012</td>\n",
       "      <td>s ridley</td>\n",
       "      <td>stevan ridley</td>\n",
       "      <td>/players/R/RidlSt00.htm</td>\n",
       "      <td>2011.0</td>\n",
       "      <td>2018.0</td>\n",
       "      <td>71.0</td>\n",
       "      <td>220.0</td>\n",
       "      <td>January 27, 1989</td>\n",
       "      <td>B</td>\n",
       "      <td>4728844</td>\n",
       "      <td>77.3</td>\n",
       "      <td>8.0</td>\n",
       "      <td>1.0</td>\n",
       "    </tr>\n",
       "  </tbody>\n",
       "</table>\n",
       "</div>"
      ],
      "text/plain": [
       "  Player_FO   Tm position  DYAR  DVOA  TD    z_DYAR    z_DVOA      z_TD  year  \\\n",
       "0   T.Brady  BOS       qb  2035  35.1  34  2.574492  1.846341  1.437475  2012   \n",
       "1  S.Ridley  BOS       rb   192   6.1  12  0.954130  0.613013  1.648603  2012   \n",
       "\n",
       "  player_join         Player                      url  start_year  end_year  \\\n",
       "0     t brady      tom brady  /players/B/BradTo00.htm      2000.0    2018.0   \n",
       "1    s ridley  stevan ridley  /players/R/RidlSt00.htm      2011.0    2018.0   \n",
       "\n",
       "   height  weight        birth_date race  total_population  \\\n",
       "0    76.0   225.0    August 3, 1977    W           4728844   \n",
       "1    71.0   220.0  January 27, 1989    B           4728844   \n",
       "\n",
       "   metro_percent_white  metro_percent_black  experience  \n",
       "0                 77.3                  8.0        12.0  \n",
       "1                 77.3                  8.0         1.0  "
      ]
     },
     "execution_count": 19,
     "metadata": {},
     "output_type": "execute_result"
    }
   ],
   "source": [
    "covariates_df = (performance_df.merge(demo_df, on = ['player_join', 'position'], how='left', suffixes=('_FO', ''))\n",
    "                             .merge(race_nfl_df, on='Player', how='left')\n",
    "#                      .merge(team_df, on=['Tm', 'year'])\n",
    "                      .merge(city_df, on='Tm')\n",
    "#                      .merge(vote_df, on='Tm')\n",
    "                      .dropna(subset= ['start_year'])\n",
    "                )\n",
    "covariates_df['experience'] = covariates_df['year'] - covariates_df['start_year']\n",
    "covariates_df.head(2)"
   ]
  },
  {
   "cell_type": "markdown",
   "metadata": {},
   "source": [
    "#### Player names for entity recognition and fuzzy matching\n",
    "When extracting named entities, I had to be careful with some names that are common English words (e.g. \"Brown\"). As a shorter alternative to performing NER, I also sometimes simply extracted player names as keywords."
   ]
  },
  {
   "cell_type": "code",
   "execution_count": 20,
   "metadata": {},
   "outputs": [],
   "source": [
    "UNIQUE_NAMES = {x.replace('\\\\', '') for x in set(demo_df.Player.unique())}"
   ]
  },
  {
   "cell_type": "code",
   "execution_count": 21,
   "metadata": {},
   "outputs": [],
   "source": [
    "NAMED_ENTITIES = set(' '.join(UNIQUE_NAMES).split()).union({'rg3'})\n",
    "NAMED_ENTITIES = NAMED_ENTITIES.union(non_players_set)\n",
    "# some players have common word names; don't want to detect those as entities when lowercase, but do want to when uppercase\n",
    "UPPER_ENTITIES = {'Black', 'Ball', 'Brown', 'Buddy', 'Grant', 'House', 'Smart', 'Holiday', 'Love', 'Rose', 'Smart', 'Stone', 'Temple', \n",
    "                  'Wall', 'Will', 'White', 'Wear', 'Case', 'New', 'Little', 'Shorts', 'City', 'Will', 'Wise', 'Guy', 'Still', 'Long',\n",
    "                  'Person', 'Petty', 'Good', 'Hand', 'Best', 'Free', 'Chance', 'Hope', 'Hurt', 'Weeks', 'Early', 'Means', 'Savage', 'Burden',\n",
    "                  'Petty', 'Rob'}\n",
    "NAMED_ENTITIES = NAMED_ENTITIES - {'a'} - {name.lower() for name in UPPER_ENTITIES}\n",
    "# remove periods for some names\n",
    "table = str.maketrans({key: None for key in string.punctuation})\n",
    "NOPUNCT_ENTITIES = {name.translate(table) for name in NAMED_ENTITIES}\n",
    "NAMED_ENTITIES = NAMED_ENTITIES.union(NOPUNCT_ENTITIES)"
   ]
  },
  {
   "cell_type": "markdown",
   "metadata": {},
   "source": [
    "## Calculate sentiment \n",
    "### Reddit sentiment for 2017-18 season\n",
    "I created a module, `sentiment_sports` to calculate the sentiment of comments. This function performs a few things:\n",
    "1. Separates comments into sentences\n",
    "2. Performs Named entity recognition using either NLTK, or using pre-existing list of entities\n",
    "3. Calculates sentiment using VADER with a modified lexicon"
   ]
  },
  {
   "cell_type": "code",
   "execution_count": 22,
   "metadata": {},
   "outputs": [
    {
     "name": "stdout",
     "output_type": "stream",
     "text": [
      "Loading one month of player comments\n",
      "Loaded 303436 comments\n",
      "Filtering to comments with text_length > 20 and text_length < 500\n",
      "After filter, have 244008 comments\n",
      "Chunking comments into sentences\n",
      "Chunking into sentences\n",
      "Chunked into 453435 sentences\n",
      "Extracting named entities\n",
      "Cleaning entities\n",
      "Outputting 129973 sentences which have 1-2 named entities\n",
      "Calculating sentiment\n",
      "Returning 129973 sentences with clear player name\n",
      "Loading one month of player comments\n",
      "Loaded 312038 comments\n",
      "Filtering to comments with text_length > 20 and text_length < 500\n",
      "After filter, have 259910 comments\n",
      "Chunking comments into sentences\n",
      "Chunking into sentences\n",
      "Chunked into 470543 sentences\n",
      "Extracting named entities\n",
      "Cleaning entities\n",
      "Outputting 138798 sentences which have 1-2 named entities\n",
      "Calculating sentiment\n",
      "Returning 138798 sentences with clear player name\n",
      "Loading one month of player comments\n",
      "Loaded 298597 comments\n",
      "Filtering to comments with text_length > 20 and text_length < 500\n",
      "After filter, have 251185 comments\n",
      "Chunking comments into sentences\n",
      "Chunking into sentences\n",
      "Chunked into 458440 sentences\n",
      "Extracting named entities\n",
      "Cleaning entities\n",
      "Outputting 138113 sentences which have 1-2 named entities\n",
      "Calculating sentiment\n",
      "Returning 138113 sentences with clear player name\n",
      "Loading one month of player comments\n",
      "Loaded 432445 comments\n",
      "Filtering to comments with text_length > 20 and text_length < 500\n",
      "After filter, have 381664 comments\n",
      "Chunking comments into sentences\n",
      "Chunking into sentences\n",
      "Chunked into 604768 sentences\n",
      "Extracting named entities\n",
      "Cleaning entities\n",
      "Outputting 144595 sentences which have 1-2 named entities\n",
      "Calculating sentiment\n",
      "Returning 144595 sentences with clear player name\n",
      "Loading one month of player comments\n",
      "Loaded 327962 comments\n",
      "Filtering to comments with text_length > 20 and text_length < 500\n",
      "After filter, have 276275 comments\n",
      "Chunking comments into sentences\n",
      "Chunking into sentences\n",
      "Chunked into 511333 sentences\n",
      "Extracting named entities\n",
      "Cleaning entities\n",
      "Outputting 148411 sentences which have 1-2 named entities\n",
      "Calculating sentiment\n",
      "Returning 148411 sentences with clear player name\n",
      "Loading one month of player comments\n",
      "Loaded 271405 comments\n",
      "Filtering to comments with text_length > 20 and text_length < 500\n",
      "After filter, have 229600 comments\n",
      "Chunking comments into sentences\n",
      "Chunking into sentences\n",
      "Chunked into 433684 sentences\n",
      "Extracting named entities\n",
      "Cleaning entities\n",
      "Outputting 134612 sentences which have 1-2 named entities\n",
      "Calculating sentiment\n",
      "Returning 134612 sentences with clear player name\n",
      "Wall time: 6min 14s\n"
     ]
    }
   ],
   "source": [
    "%%time\n",
    "def create_month_df(data_loc):\n",
    "    return ss.create_sentiment_df(data_loc, sid.polarity_scores, ner_set=NAMED_ENTITIES,\n",
    "                                  non_players_set=non_players_set, UPPER_NAMES = UPPER_ENTITIES)\n",
    "_, sep_df = create_month_df('d:/data/sentiment_sports/nfl_reddit_comments/201709-comments_submissions.tsv')\n",
    "_, oct_df = create_month_df('d:/data/sentiment_sports/nfl_reddit_comments/201710-comments_submissions.tsv')\n",
    "_, nov_df = create_month_df('d:/data/sentiment_sports/nfl_reddit_comments/201711-comments_submissions.tsv')\n",
    "_, dec_df = create_month_df('d:/data/sentiment_sports/nfl_reddit_comments/201712-comments_submissions.tsv')\n",
    "_, jan_df = create_month_df('d:/data/sentiment_sports/nfl_reddit_comments/201801-comments_submissions.tsv')\n",
    "_, feb_df = create_month_df('d:/data/sentiment_sports/nfl_reddit_comments/201802-comments_submissions.tsv')"
   ]
  },
  {
   "cell_type": "code",
   "execution_count": 23,
   "metadata": {},
   "outputs": [
    {
     "data": {
      "text/plain": [
       "(834502, 15)"
      ]
     },
     "execution_count": 23,
     "metadata": {},
     "output_type": "execute_result"
    }
   ],
   "source": [
    "nfl2017_df = pd.concat([sep_df, oct_df, nov_df, dec_df, jan_df, feb_df])\n",
    "nfl2017_df.shape"
   ]
  },
  {
   "cell_type": "code",
   "execution_count": 49,
   "metadata": {},
   "outputs": [
    {
     "name": "stdout",
     "output_type": "stream",
     "text": [
      "Fuzzy matching player names\n",
      "Wall time: 25min 53s\n"
     ]
    }
   ],
   "source": [
    "%%time\n",
    "# 34 minutes with 8 cores\n",
    "import importlib\n",
    "importlib.reload(ss)\n",
    "nfl2017_df = ss.fuzzy_match_players(nfl2017_df, UNIQUE_NAMES)"
   ]
  },
  {
   "cell_type": "code",
   "execution_count": 53,
   "metadata": {},
   "outputs": [],
   "source": [
    "nfl2017_df.to_csv('d:/data/sentiment_sports/nfl2017_ner_sentiment.tsv', sep='\\t',\n",
    "               index=False, encoding = 'utf-8')"
   ]
  },
  {
   "cell_type": "markdown",
   "metadata": {},
   "source": [
    "#### Save / load"
   ]
  },
  {
   "cell_type": "code",
   "execution_count": 24,
   "metadata": {},
   "outputs": [],
   "source": [
    "#nba2015_df = pd.read_csv('data/combined_months_ner_sentiment_2015.tsv',sep='\\t', encoding = 'utf-8')\n",
    "#nba2015_df['named_entities'] = nba2015_df['named_entities'].apply(literal_eval)\n",
    "#nba2016_df = pd.read_csv('data/combined_months_ner_sentiment_2016.tsv',sep='\\t', encoding = 'utf-8')\n",
    "#nba2016_df['named_entities'] = nba2016_df['named_entities'].apply(literal_eval)\n",
    "nfl2017_df = pd.read_csv('d:/data/sentiment_sports/nfl2017_ner_sentiment.tsv',sep='\\t', encoding = 'utf-8')\n",
    "nfl2017_df['named_entities'] = nfl2017_df['named_entities'].apply(literal_eval)"
   ]
  },
  {
   "cell_type": "markdown",
   "metadata": {},
   "source": [
    "#### Cleaning up name matches\n",
    "Some extracted name entities don't have a clear match (e.g. \"Rivers\" could be Austin Rivers or Doc Rivers). Here we clean those out"
   ]
  },
  {
   "cell_type": "code",
   "execution_count": 77,
   "metadata": {},
   "outputs": [
    {
     "name": "stdout",
     "output_type": "stream",
     "text": [
      "Wall time: 24.5 s\n"
     ]
    }
   ],
   "source": [
    "%%time\n",
    "nba2017_df['fuzzy_name'] = nba2017_df.apply(lambda row: name_map[row['str_entities']] if row['str_entities'] in name_map else row['fuzzy_name'], axis=1)\n",
    "#nba2016_df['fuzzy_name'] = nba2016_df.apply(lambda row: name_map[row['str_entities']] if row['str_entities'] in name_map else row['fuzzy_name'], axis=1)\n",
    "#nba2015_df['fuzzy_name'] = nba2015_df.apply(lambda row: name_map[row['str_entities']] if row['str_entities'] in name_map else row['fuzzy_name'], axis=1)"
   ]
  },
  {
   "cell_type": "markdown",
   "metadata": {},
   "source": [
    "Remove players whose names have implicit sentiment"
   ]
  },
  {
   "cell_type": "code",
   "execution_count": 155,
   "metadata": {},
   "outputs": [],
   "source": [
    "senti_players = ['maurice hurt', 'chris hope', 'tom savage', 'chandler burden', 'bryce petty', 'andrew luck', 'lucky whitehead', 'jahvid best']\n",
    "nfl2017_df = nfl2017_df[nfl2017_df['fuzzy_name'].apply(lambda row: row not in senti_players)]\n",
    "#nba2016_df = nba2016_df[nba2016_df['fuzzy_name'].apply(lambda row: row not in senti_players)]\n",
    "#nba2015_df = nba2016_df[nba2015_df['fuzzy_name'].apply(lambda row: row not in senti_players)]"
   ]
  },
  {
   "cell_type": "code",
   "execution_count": 76,
   "metadata": {},
   "outputs": [],
   "source": [
    "name_map = {name:'unclear' for name in ['rivers', 'bird', 'draymond sessions', 'jalen jalen', 'brown markelle', 'kyrie korver', 'kyrie singler',\n",
    "                    'wade drummond', 'kyrie anderson', 'kyle irving', 'kyle ingles', 'kyle turner', 'kyle turner', 'jabari maker',\n",
    "                    'walton walton', 'nene kanter', 'courtney love', 'george will', 'charles charles', 'jason aaron', 'lebron jae',\n",
    "                    'sterling lebron', 'bobby lebron', 'damien', 'cleveland', 'cleveland cleveland', 'ben ben', 'martin', \"o'bryant\",\n",
    "                                       'sam sam', 'shaquille shaquille', 'blue', 'jamal curry', 'david westbrook', 'griffin baker', 'chris pau',\n",
    "                                       'jimmy tyler', 'jamal curry', 'jamal curry' 'london','jackson tatum', 'washington']}\n",
    "name_map.update({'rodgers':'aaron rodgers',\n",
    "                'kd':'kevin durant',\n",
    "                 'lbj':'lebron james',\n",
    "                 'lma':'lamarcus aldridge'})"
   ]
  },
  {
   "cell_type": "code",
   "execution_count": 156,
   "metadata": {},
   "outputs": [
    {
     "data": {
      "text/plain": [
       "(190325, 16)"
      ]
     },
     "execution_count": 156,
     "metadata": {},
     "output_type": "execute_result"
    }
   ],
   "source": [
    "match_df = nfl2017_df.query('fuzzy_name != \"unclear\"')\n",
    "match_df.shape"
   ]
  },
  {
   "cell_type": "markdown",
   "metadata": {},
   "source": [
    "#### First calculate the average sentiment for each player from each user"
   ]
  },
  {
   "cell_type": "code",
   "execution_count": 157,
   "metadata": {},
   "outputs": [
    {
     "data": {
      "text/html": [
       "<div>\n",
       "<style scoped>\n",
       "    .dataframe tbody tr th:only-of-type {\n",
       "        vertical-align: middle;\n",
       "    }\n",
       "\n",
       "    .dataframe tbody tr th {\n",
       "        vertical-align: top;\n",
       "    }\n",
       "\n",
       "    .dataframe thead th {\n",
       "        text-align: right;\n",
       "    }\n",
       "</style>\n",
       "<table border=\"1\" class=\"dataframe\">\n",
       "  <thead>\n",
       "    <tr style=\"text-align: right;\">\n",
       "      <th></th>\n",
       "      <th>fuzzy_name</th>\n",
       "      <th>user</th>\n",
       "      <th>compound_mean</th>\n",
       "      <th>compound_std</th>\n",
       "      <th>comment_count</th>\n",
       "    </tr>\n",
       "  </thead>\n",
       "  <tbody>\n",
       "    <tr>\n",
       "      <th>0</th>\n",
       "      <td>a'shawn robinson</td>\n",
       "      <td>AshytooClassy</td>\n",
       "      <td>0.0000</td>\n",
       "      <td>NaN</td>\n",
       "      <td>1</td>\n",
       "    </tr>\n",
       "    <tr>\n",
       "      <th>1</th>\n",
       "      <td>a'shawn robinson</td>\n",
       "      <td>Brookboy</td>\n",
       "      <td>0.3612</td>\n",
       "      <td>NaN</td>\n",
       "      <td>1</td>\n",
       "    </tr>\n",
       "  </tbody>\n",
       "</table>\n",
       "</div>"
      ],
      "text/plain": [
       "         fuzzy_name           user  compound_mean  compound_std  comment_count\n",
       "0  a'shawn robinson  AshytooClassy         0.0000           NaN              1\n",
       "1  a'shawn robinson       Brookboy         0.3612           NaN              1"
      ]
     },
     "execution_count": 157,
     "metadata": {},
     "output_type": "execute_result"
    }
   ],
   "source": [
    "user_player_sentiment_df = (match_df.groupby(['fuzzy_name', 'user'])\n",
    "                                    .agg({'compound':['mean', 'std', 'count']})\n",
    "                                    .reset_index())\n",
    "user_player_sentiment_df.columns = ['fuzzy_name', 'user', 'compound_mean', 'compound_std', 'comment_count']\n",
    "user_player_sentiment_df.head(2)"
   ]
  },
  {
   "cell_type": "markdown",
   "metadata": {},
   "source": [
    "#### Then calculate the average sentiment to players across all users"
   ]
  },
  {
   "cell_type": "code",
   "execution_count": 158,
   "metadata": {},
   "outputs": [],
   "source": [
    "player_sentiment_df = (user_player_sentiment_df.query('compound_mean != 0')\n",
    "                                               .groupby('fuzzy_name')\n",
    "                                               .agg({'compound_mean':['mean', 'std', 'count']})\n",
    "                                               .reset_index() )\n",
    "player_sentiment_df.columns = ['fuzzy_name', 'compound_mean_mean', 'compound_mean_std', 'user_count']"
   ]
  },
  {
   "cell_type": "markdown",
   "metadata": {},
   "source": [
    "### Exploration of sentiment alone\n",
    "Plot of player popularity (number of users who comment on them), versus sentiment"
   ]
  },
  {
   "cell_type": "code",
   "execution_count": 159,
   "metadata": {},
   "outputs": [
    {
     "data": {
      "text/plain": [
       "Text(0,0.5,'Mean sentiment')"
      ]
     },
     "execution_count": 159,
     "metadata": {},
     "output_type": "execute_result"
    },
    {
     "data": {
      "image/png": "[encoded data removed]",
      "text/plain": [
       "<Figure size 432x288 with 1 Axes>"
      ]
     },
     "metadata": {
      "needs_background": "light"
     },
     "output_type": "display_data"
    }
   ],
   "source": [
    "player_sentiment_df.query('user_count> 100').plot('user_count', 'compound_mean_mean', kind='scatter')\n",
    "#plt.plot([100, 100], [-0.1, 0.3])\n",
    "plt.xlabel('# of users who comment on a player')\n",
    "plt.ylabel('Mean sentiment')"
   ]
  },
  {
   "cell_type": "markdown",
   "metadata": {},
   "source": [
    "#### Most commented players"
   ]
  },
  {
   "cell_type": "code",
   "execution_count": 160,
   "metadata": {},
   "outputs": [
    {
     "data": {
      "text/html": [
       "<div>\n",
       "<style scoped>\n",
       "    .dataframe tbody tr th:only-of-type {\n",
       "        vertical-align: middle;\n",
       "    }\n",
       "\n",
       "    .dataframe tbody tr th {\n",
       "        vertical-align: top;\n",
       "    }\n",
       "\n",
       "    .dataframe thead th {\n",
       "        text-align: right;\n",
       "    }\n",
       "</style>\n",
       "<table border=\"1\" class=\"dataframe\">\n",
       "  <thead>\n",
       "    <tr style=\"text-align: right;\">\n",
       "      <th></th>\n",
       "      <th>fuzzy_name</th>\n",
       "      <th>compound_mean_mean</th>\n",
       "      <th>compound_mean_std</th>\n",
       "      <th>user_count</th>\n",
       "    </tr>\n",
       "  </thead>\n",
       "  <tbody>\n",
       "    <tr>\n",
       "      <th>1480</th>\n",
       "      <td>jon weeks</td>\n",
       "      <td>0.093205</td>\n",
       "      <td>0.421378</td>\n",
       "      <td>2699</td>\n",
       "    </tr>\n",
       "    <tr>\n",
       "      <th>2602</th>\n",
       "      <td>steven means</td>\n",
       "      <td>0.074130</td>\n",
       "      <td>0.444883</td>\n",
       "      <td>2527</td>\n",
       "    </tr>\n",
       "    <tr>\n",
       "      <th>446</th>\n",
       "      <td>carson wentz</td>\n",
       "      <td>0.180723</td>\n",
       "      <td>0.389517</td>\n",
       "      <td>2194</td>\n",
       "    </tr>\n",
       "    <tr>\n",
       "      <th>965</th>\n",
       "      <td>early doucet</td>\n",
       "      <td>0.099975</td>\n",
       "      <td>0.434961</td>\n",
       "      <td>2103</td>\n",
       "    </tr>\n",
       "    <tr>\n",
       "      <th>2744</th>\n",
       "      <td>tony romo</td>\n",
       "      <td>0.197007</td>\n",
       "      <td>0.423812</td>\n",
       "      <td>1858</td>\n",
       "    </tr>\n",
       "  </tbody>\n",
       "</table>\n",
       "</div>"
      ],
      "text/plain": [
       "        fuzzy_name  compound_mean_mean  compound_mean_std  user_count\n",
       "1480     jon weeks            0.093205           0.421378        2699\n",
       "2602  steven means            0.074130           0.444883        2527\n",
       "446   carson wentz            0.180723           0.389517        2194\n",
       "965   early doucet            0.099975           0.434961        2103\n",
       "2744     tony romo            0.197007           0.423812        1858"
      ]
     },
     "execution_count": 160,
     "metadata": {},
     "output_type": "execute_result"
    }
   ],
   "source": [
    "player_sentiment_df.sort_values('user_count', ascending=False).head()"
   ]
  },
  {
   "cell_type": "markdown",
   "metadata": {},
   "source": [
    "#### Players with lowest sentiment"
   ]
  },
  {
   "cell_type": "code",
   "execution_count": 161,
   "metadata": {},
   "outputs": [
    {
     "data": {
      "text/html": [
       "<div>\n",
       "<style scoped>\n",
       "    .dataframe tbody tr th:only-of-type {\n",
       "        vertical-align: middle;\n",
       "    }\n",
       "\n",
       "    .dataframe tbody tr th {\n",
       "        vertical-align: top;\n",
       "    }\n",
       "\n",
       "    .dataframe thead th {\n",
       "        text-align: right;\n",
       "    }\n",
       "</style>\n",
       "<table border=\"1\" class=\"dataframe\">\n",
       "  <thead>\n",
       "    <tr style=\"text-align: right;\">\n",
       "      <th></th>\n",
       "      <th>fuzzy_name</th>\n",
       "      <th>compound_mean_mean</th>\n",
       "      <th>compound_mean_std</th>\n",
       "      <th>user_count</th>\n",
       "    </tr>\n",
       "  </thead>\n",
       "  <tbody>\n",
       "    <tr>\n",
       "      <th>2365</th>\n",
       "      <td>rob gronkowski</td>\n",
       "      <td>-0.486386</td>\n",
       "      <td>0.273777</td>\n",
       "      <td>108</td>\n",
       "    </tr>\n",
       "    <tr>\n",
       "      <th>2018</th>\n",
       "      <td>michael bennett</td>\n",
       "      <td>-0.250595</td>\n",
       "      <td>0.435006</td>\n",
       "      <td>178</td>\n",
       "    </tr>\n",
       "    <tr>\n",
       "      <th>711</th>\n",
       "      <td>danny trevathan</td>\n",
       "      <td>-0.141353</td>\n",
       "      <td>0.474181</td>\n",
       "      <td>117</td>\n",
       "    </tr>\n",
       "    <tr>\n",
       "      <th>1702</th>\n",
       "      <td>kevin haslam</td>\n",
       "      <td>-0.110763</td>\n",
       "      <td>0.446714</td>\n",
       "      <td>118</td>\n",
       "    </tr>\n",
       "    <tr>\n",
       "      <th>911</th>\n",
       "      <td>donald driver</td>\n",
       "      <td>-0.101735</td>\n",
       "      <td>0.490609</td>\n",
       "      <td>139</td>\n",
       "    </tr>\n",
       "  </tbody>\n",
       "</table>\n",
       "</div>"
      ],
      "text/plain": [
       "           fuzzy_name  compound_mean_mean  compound_mean_std  user_count\n",
       "2365   rob gronkowski           -0.486386           0.273777         108\n",
       "2018  michael bennett           -0.250595           0.435006         178\n",
       "711   danny trevathan           -0.141353           0.474181         117\n",
       "1702     kevin haslam           -0.110763           0.446714         118\n",
       "911     donald driver           -0.101735           0.490609         139"
      ]
     },
     "execution_count": 161,
     "metadata": {},
     "output_type": "execute_result"
    }
   ],
   "source": [
    "player_sentiment_df.query('user_count > 100').sort_values('compound_mean_mean').head()"
   ]
  },
  {
   "cell_type": "code",
   "execution_count": 162,
   "metadata": {},
   "outputs": [],
   "source": [
    "player_sentiment_df = player_sentiment_df.query('fuzzy_name != \"rob gronkowski\"')"
   ]
  },
  {
   "cell_type": "markdown",
   "metadata": {},
   "source": [
    "#### Players with highest sentiment"
   ]
  },
  {
   "cell_type": "code",
   "execution_count": 79,
   "metadata": {},
   "outputs": [
    {
     "data": {
      "text/html": [
       "<div>\n",
       "<style scoped>\n",
       "    .dataframe tbody tr th:only-of-type {\n",
       "        vertical-align: middle;\n",
       "    }\n",
       "\n",
       "    .dataframe tbody tr th {\n",
       "        vertical-align: top;\n",
       "    }\n",
       "\n",
       "    .dataframe thead th {\n",
       "        text-align: right;\n",
       "    }\n",
       "</style>\n",
       "<table border=\"1\" class=\"dataframe\">\n",
       "  <thead>\n",
       "    <tr style=\"text-align: right;\">\n",
       "      <th></th>\n",
       "      <th>fuzzy_name</th>\n",
       "      <th>compound_mean_mean</th>\n",
       "      <th>compound_mean_std</th>\n",
       "      <th>user_count</th>\n",
       "    </tr>\n",
       "  </thead>\n",
       "  <tbody>\n",
       "    <tr>\n",
       "      <th>1174</th>\n",
       "      <td>j.j. watt</td>\n",
       "      <td>0.273541</td>\n",
       "      <td>0.337039</td>\n",
       "      <td>347</td>\n",
       "    </tr>\n",
       "    <tr>\n",
       "      <th>1860</th>\n",
       "      <td>lucky whitehead</td>\n",
       "      <td>0.409953</td>\n",
       "      <td>0.322337</td>\n",
       "      <td>1376</td>\n",
       "    </tr>\n",
       "    <tr>\n",
       "      <th>117</th>\n",
       "      <td>andrew luck</td>\n",
       "      <td>0.445603</td>\n",
       "      <td>0.304644</td>\n",
       "      <td>489</td>\n",
       "    </tr>\n",
       "    <tr>\n",
       "      <th>466</th>\n",
       "      <td>champ bailey</td>\n",
       "      <td>0.495389</td>\n",
       "      <td>0.333679</td>\n",
       "      <td>295</td>\n",
       "    </tr>\n",
       "    <tr>\n",
       "      <th>1201</th>\n",
       "      <td>jahvid best</td>\n",
       "      <td>0.619011</td>\n",
       "      <td>0.200956</td>\n",
       "      <td>1440</td>\n",
       "    </tr>\n",
       "  </tbody>\n",
       "</table>\n",
       "</div>"
      ],
      "text/plain": [
       "           fuzzy_name  compound_mean_mean  compound_mean_std  user_count\n",
       "1174        j.j. watt            0.273541           0.337039         347\n",
       "1860  lucky whitehead            0.409953           0.322337        1376\n",
       "117       andrew luck            0.445603           0.304644         489\n",
       "466      champ bailey            0.495389           0.333679         295\n",
       "1201      jahvid best            0.619011           0.200956        1440"
      ]
     },
     "execution_count": 79,
     "metadata": {},
     "output_type": "execute_result"
    }
   ],
   "source": [
    "player_sentiment_df.query('user_count > 200').sort_values('compound_mean_mean').tail(5)"
   ]
  },
  {
   "cell_type": "markdown",
   "metadata": {},
   "source": [
    "#### Players with highest std of sentiment"
   ]
  },
  {
   "cell_type": "code",
   "execution_count": 80,
   "metadata": {},
   "outputs": [
    {
     "data": {
      "text/html": [
       "<div>\n",
       "<style scoped>\n",
       "    .dataframe tbody tr th:only-of-type {\n",
       "        vertical-align: middle;\n",
       "    }\n",
       "\n",
       "    .dataframe tbody tr th {\n",
       "        vertical-align: top;\n",
       "    }\n",
       "\n",
       "    .dataframe thead th {\n",
       "        text-align: right;\n",
       "    }\n",
       "</style>\n",
       "<table border=\"1\" class=\"dataframe\">\n",
       "  <thead>\n",
       "    <tr style=\"text-align: right;\">\n",
       "      <th></th>\n",
       "      <th>fuzzy_name</th>\n",
       "      <th>compound_mean_mean</th>\n",
       "      <th>compound_mean_std</th>\n",
       "      <th>user_count</th>\n",
       "    </tr>\n",
       "  </thead>\n",
       "  <tbody>\n",
       "    <tr>\n",
       "      <th>1210</th>\n",
       "      <td>jake locker</td>\n",
       "      <td>-0.017100</td>\n",
       "      <td>0.498049</td>\n",
       "      <td>969</td>\n",
       "    </tr>\n",
       "    <tr>\n",
       "      <th>2777</th>\n",
       "      <td>tress way</td>\n",
       "      <td>-0.003722</td>\n",
       "      <td>0.497811</td>\n",
       "      <td>255</td>\n",
       "    </tr>\n",
       "    <tr>\n",
       "      <th>1697</th>\n",
       "      <td>kevin boss</td>\n",
       "      <td>0.011808</td>\n",
       "      <td>0.482248</td>\n",
       "      <td>353</td>\n",
       "    </tr>\n",
       "    <tr>\n",
       "      <th>1095</th>\n",
       "      <td>gimel president</td>\n",
       "      <td>-0.029723</td>\n",
       "      <td>0.474356</td>\n",
       "      <td>560</td>\n",
       "    </tr>\n",
       "    <tr>\n",
       "      <th>1976</th>\n",
       "      <td>matt light</td>\n",
       "      <td>0.036692</td>\n",
       "      <td>0.473313</td>\n",
       "      <td>628</td>\n",
       "    </tr>\n",
       "  </tbody>\n",
       "</table>\n",
       "</div>"
      ],
      "text/plain": [
       "           fuzzy_name  compound_mean_mean  compound_mean_std  user_count\n",
       "1210      jake locker           -0.017100           0.498049         969\n",
       "2777        tress way           -0.003722           0.497811         255\n",
       "1697       kevin boss            0.011808           0.482248         353\n",
       "1095  gimel president           -0.029723           0.474356         560\n",
       "1976       matt light            0.036692           0.473313         628"
      ]
     },
     "execution_count": 80,
     "metadata": {},
     "output_type": "execute_result"
    }
   ],
   "source": [
    "player_sentiment_df.query('user_count > 200').sort_values('compound_mean_std').tail(5).iloc[::-1]"
   ]
  },
  {
   "cell_type": "markdown",
   "metadata": {},
   "source": [
    "#### Join player sentiment to performance and demographics\n",
    "Include only players with at least 100 comments to avoid fitting noise"
   ]
  },
  {
   "cell_type": "code",
   "execution_count": 192,
   "metadata": {},
   "outputs": [],
   "source": [
    "join_df = (player_sentiment_df#.query('user_count > 20')\n",
    "                         .merge(covariates_df.query('year == 2017'), left_on = 'fuzzy_name', right_on = 'Player')\n",
    "                        )"
   ]
  },
  {
   "cell_type": "markdown",
   "metadata": {},
   "source": [
    "### Explore demographics relationship with sentiment"
   ]
  },
  {
   "cell_type": "raw",
   "metadata": {},
   "source": [
    "plt.plot(join_df['z_DYAR'].values, join_df['compound_mean_mean'].values, '.',alpha= 0.2);\n",
    "plt.xlabel('z_DYAR')\n",
    "plt.ylabel('Mean sentiment');"
   ]
  },
  {
   "cell_type": "code",
   "execution_count": 136,
   "metadata": {},
   "outputs": [
    {
     "data": {
      "text/html": [
       "<div>\n",
       "<style scoped>\n",
       "    .dataframe tbody tr th:only-of-type {\n",
       "        vertical-align: middle;\n",
       "    }\n",
       "\n",
       "    .dataframe tbody tr th {\n",
       "        vertical-align: top;\n",
       "    }\n",
       "\n",
       "    .dataframe thead th {\n",
       "        text-align: right;\n",
       "    }\n",
       "</style>\n",
       "<table border=\"1\" class=\"dataframe\">\n",
       "  <thead>\n",
       "    <tr style=\"text-align: right;\">\n",
       "      <th></th>\n",
       "      <th>compound_mean_mean</th>\n",
       "      <th>compound_mean_std</th>\n",
       "      <th>user_count</th>\n",
       "      <th>DYAR</th>\n",
       "      <th>DVOA</th>\n",
       "      <th>TD</th>\n",
       "      <th>z_DYAR</th>\n",
       "      <th>z_DVOA</th>\n",
       "      <th>z_TD</th>\n",
       "      <th>year</th>\n",
       "      <th>start_year</th>\n",
       "      <th>end_year</th>\n",
       "      <th>height</th>\n",
       "      <th>weight</th>\n",
       "      <th>total_population</th>\n",
       "      <th>metro_percent_white</th>\n",
       "      <th>metro_percent_black</th>\n",
       "      <th>experience</th>\n",
       "    </tr>\n",
       "    <tr>\n",
       "      <th>race</th>\n",
       "      <th></th>\n",
       "      <th></th>\n",
       "      <th></th>\n",
       "      <th></th>\n",
       "      <th></th>\n",
       "      <th></th>\n",
       "      <th></th>\n",
       "      <th></th>\n",
       "      <th></th>\n",
       "      <th></th>\n",
       "      <th></th>\n",
       "      <th></th>\n",
       "      <th></th>\n",
       "      <th></th>\n",
       "      <th></th>\n",
       "      <th></th>\n",
       "      <th></th>\n",
       "      <th></th>\n",
       "    </tr>\n",
       "  </thead>\n",
       "  <tbody>\n",
       "    <tr>\n",
       "      <th>B</th>\n",
       "      <td>0.134179</td>\n",
       "      <td>0.424474</td>\n",
       "      <td>127.21519</td>\n",
       "      <td>122.443038</td>\n",
       "      <td>2.059494</td>\n",
       "      <td>6.898734</td>\n",
       "      <td>0.203214</td>\n",
       "      <td>0.116320</td>\n",
       "      <td>0.324007</td>\n",
       "      <td>2017.0</td>\n",
       "      <td>2013.050633</td>\n",
       "      <td>2017.860759</td>\n",
       "      <td>72.316456</td>\n",
       "      <td>212.101266</td>\n",
       "      <td>5.114018e+06</td>\n",
       "      <td>69.159459</td>\n",
       "      <td>17.516216</td>\n",
       "      <td>3.949367</td>\n",
       "    </tr>\n",
       "    <tr>\n",
       "      <th>M</th>\n",
       "      <td>0.148826</td>\n",
       "      <td>0.475065</td>\n",
       "      <td>23.00000</td>\n",
       "      <td>85.000000</td>\n",
       "      <td>35.000000</td>\n",
       "      <td>5.000000</td>\n",
       "      <td>0.691648</td>\n",
       "      <td>1.789748</td>\n",
       "      <td>0.734209</td>\n",
       "      <td>2017.0</td>\n",
       "      <td>2014.000000</td>\n",
       "      <td>2018.000000</td>\n",
       "      <td>75.000000</td>\n",
       "      <td>235.000000</td>\n",
       "      <td>6.047721e+06</td>\n",
       "      <td>67.500000</td>\n",
       "      <td>20.900000</td>\n",
       "      <td>3.000000</td>\n",
       "    </tr>\n",
       "    <tr>\n",
       "      <th>S</th>\n",
       "      <td>0.062899</td>\n",
       "      <td>0.448999</td>\n",
       "      <td>541.00000</td>\n",
       "      <td>317.000000</td>\n",
       "      <td>37.300000</td>\n",
       "      <td>7.000000</td>\n",
       "      <td>1.750139</td>\n",
       "      <td>2.361848</td>\n",
       "      <td>1.018532</td>\n",
       "      <td>2017.0</td>\n",
       "      <td>2017.000000</td>\n",
       "      <td>2018.000000</td>\n",
       "      <td>73.000000</td>\n",
       "      <td>215.000000</td>\n",
       "      <td>2.354926e+06</td>\n",
       "      <td>87.100000</td>\n",
       "      <td>8.200000</td>\n",
       "      <td>0.000000</td>\n",
       "    </tr>\n",
       "    <tr>\n",
       "      <th>W</th>\n",
       "      <td>0.123538</td>\n",
       "      <td>0.430659</td>\n",
       "      <td>369.25000</td>\n",
       "      <td>383.600000</td>\n",
       "      <td>4.160000</td>\n",
       "      <td>14.350000</td>\n",
       "      <td>0.260989</td>\n",
       "      <td>0.172789</td>\n",
       "      <td>0.328838</td>\n",
       "      <td>2017.0</td>\n",
       "      <td>2009.850000</td>\n",
       "      <td>2017.625000</td>\n",
       "      <td>75.600000</td>\n",
       "      <td>229.175000</td>\n",
       "      <td>5.468817e+06</td>\n",
       "      <td>71.027778</td>\n",
       "      <td>15.263889</td>\n",
       "      <td>7.150000</td>\n",
       "    </tr>\n",
       "  </tbody>\n",
       "</table>\n",
       "</div>"
      ],
      "text/plain": [
       "      compound_mean_mean  compound_mean_std  user_count        DYAR  \\\n",
       "race                                                                  \n",
       "B               0.134179           0.424474   127.21519  122.443038   \n",
       "M               0.148826           0.475065    23.00000   85.000000   \n",
       "S               0.062899           0.448999   541.00000  317.000000   \n",
       "W               0.123538           0.430659   369.25000  383.600000   \n",
       "\n",
       "           DVOA         TD    z_DYAR    z_DVOA      z_TD    year   start_year  \\\n",
       "race                                                                            \n",
       "B      2.059494   6.898734  0.203214  0.116320  0.324007  2017.0  2013.050633   \n",
       "M     35.000000   5.000000  0.691648  1.789748  0.734209  2017.0  2014.000000   \n",
       "S     37.300000   7.000000  1.750139  2.361848  1.018532  2017.0  2017.000000   \n",
       "W      4.160000  14.350000  0.260989  0.172789  0.328838  2017.0  2009.850000   \n",
       "\n",
       "         end_year     height      weight  total_population  \\\n",
       "race                                                         \n",
       "B     2017.860759  72.316456  212.101266      5.114018e+06   \n",
       "M     2018.000000  75.000000  235.000000      6.047721e+06   \n",
       "S     2018.000000  73.000000  215.000000      2.354926e+06   \n",
       "W     2017.625000  75.600000  229.175000      5.468817e+06   \n",
       "\n",
       "      metro_percent_white  metro_percent_black  experience  \n",
       "race                                                        \n",
       "B               69.159459            17.516216    3.949367  \n",
       "M               67.500000            20.900000    3.000000  \n",
       "S               87.100000             8.200000    0.000000  \n",
       "W               71.027778            15.263889    7.150000  "
      ]
     },
     "execution_count": 136,
     "metadata": {},
     "output_type": "execute_result"
    }
   ],
   "source": [
    "join_df.groupby('race').mean()"
   ]
  },
  {
   "cell_type": "markdown",
   "metadata": {},
   "source": [
    "#### Age / experience"
   ]
  },
  {
   "cell_type": "code",
   "execution_count": 163,
   "metadata": {},
   "outputs": [
    {
     "data": {
      "text/plain": [
       "Text(0,0.5,'Mean sentiment')"
      ]
     },
     "execution_count": 163,
     "metadata": {},
     "output_type": "execute_result"
    },
    {
     "data": {
      "image/png": "[encoded data removed]",
      "text/plain": [
       "<Figure size 864x288 with 2 Axes>"
      ]
     },
     "metadata": {
      "needs_background": "light"
     },
     "output_type": "display_data"
    }
   ],
   "source": [
    "fig, (ax1, ax2) = plt.subplots(1,2, figsize = [12, 4], sharey=True)\n",
    "#join_df.groupby('Age').mean().reset_index().plot('Age', 'compound_mean_mean', ax = ax1);\n",
    "join_df.groupby('experience').mean().reset_index().plot('experience', 'compound_mean_mean', ax = ax2);\n",
    "ax1.set_ylabel('Mean sentiment')"
   ]
  },
  {
   "cell_type": "markdown",
   "metadata": {},
   "source": [
    "#### Height"
   ]
  },
  {
   "cell_type": "code",
   "execution_count": 164,
   "metadata": {},
   "outputs": [
    {
     "data": {
      "image/png": "[encoded data removed]",
      "text/plain": [
       "<Figure size 432x288 with 1 Axes>"
      ]
     },
     "metadata": {
      "needs_background": "light"
     },
     "output_type": "display_data"
    }
   ],
   "source": [
    "join_df.groupby('height').mean().reset_index().plot('height', 'compound_mean_mean');\n",
    "plt.xticks(range(68,90,1) );\n",
    "plt.xlabel('Height (inches)')\n",
    "plt.ylabel('Mean sentiment');"
   ]
  },
  {
   "cell_type": "markdown",
   "metadata": {},
   "source": [
    "### Team and position"
   ]
  },
  {
   "cell_type": "code",
   "execution_count": 165,
   "metadata": {},
   "outputs": [
    {
     "data": {
      "text/html": [
       "<div>\n",
       "<style scoped>\n",
       "    .dataframe tbody tr th:only-of-type {\n",
       "        vertical-align: middle;\n",
       "    }\n",
       "\n",
       "    .dataframe tbody tr th {\n",
       "        vertical-align: top;\n",
       "    }\n",
       "\n",
       "    .dataframe thead th {\n",
       "        text-align: right;\n",
       "    }\n",
       "</style>\n",
       "<table border=\"1\" class=\"dataframe\">\n",
       "  <thead>\n",
       "    <tr style=\"text-align: right;\">\n",
       "      <th></th>\n",
       "      <th>position</th>\n",
       "      <th>compound_mean_mean</th>\n",
       "      <th>compound_mean_std</th>\n",
       "      <th>user_count</th>\n",
       "      <th>DYAR</th>\n",
       "      <th>DVOA</th>\n",
       "      <th>TD</th>\n",
       "      <th>z_DYAR</th>\n",
       "      <th>z_DVOA</th>\n",
       "      <th>z_TD</th>\n",
       "      <th>year</th>\n",
       "      <th>start_year</th>\n",
       "      <th>end_year</th>\n",
       "      <th>height</th>\n",
       "      <th>weight</th>\n",
       "      <th>total_population</th>\n",
       "      <th>metro_percent_white</th>\n",
       "      <th>metro_percent_black</th>\n",
       "      <th>experience</th>\n",
       "      <th>youth</th>\n",
       "      <th>oldness</th>\n",
       "    </tr>\n",
       "  </thead>\n",
       "  <tbody>\n",
       "    <tr>\n",
       "      <th>0</th>\n",
       "      <td>qb</td>\n",
       "      <td>0.127335</td>\n",
       "      <td>0.432073</td>\n",
       "      <td>534.812500</td>\n",
       "      <td>480.156250</td>\n",
       "      <td>2.743750</td>\n",
       "      <td>20.687500</td>\n",
       "      <td>0.098553</td>\n",
       "      <td>0.104913</td>\n",
       "      <td>0.179703</td>\n",
       "      <td>2017.0</td>\n",
       "      <td>2010.406250</td>\n",
       "      <td>2017.687500</td>\n",
       "      <td>75.218750</td>\n",
       "      <td>223.718750</td>\n",
       "      <td>5.275289e+06</td>\n",
       "      <td>70.731034</td>\n",
       "      <td>15.548276</td>\n",
       "      <td>6.593750</td>\n",
       "      <td>1.549070</td>\n",
       "      <td>3.175878</td>\n",
       "    </tr>\n",
       "    <tr>\n",
       "      <th>1</th>\n",
       "      <td>rb</td>\n",
       "      <td>0.131000</td>\n",
       "      <td>0.432187</td>\n",
       "      <td>82.481481</td>\n",
       "      <td>80.851852</td>\n",
       "      <td>0.377778</td>\n",
       "      <td>5.629630</td>\n",
       "      <td>0.188995</td>\n",
       "      <td>0.101627</td>\n",
       "      <td>0.280166</td>\n",
       "      <td>2017.0</td>\n",
       "      <td>2013.222222</td>\n",
       "      <td>2017.777778</td>\n",
       "      <td>70.777778</td>\n",
       "      <td>217.962963</td>\n",
       "      <td>5.562559e+06</td>\n",
       "      <td>68.708000</td>\n",
       "      <td>17.472000</td>\n",
       "      <td>3.777778</td>\n",
       "      <td>2.126110</td>\n",
       "      <td>0.936945</td>\n",
       "    </tr>\n",
       "    <tr>\n",
       "      <th>2</th>\n",
       "      <td>te</td>\n",
       "      <td>0.127740</td>\n",
       "      <td>0.417260</td>\n",
       "      <td>58.125000</td>\n",
       "      <td>45.062500</td>\n",
       "      <td>0.868750</td>\n",
       "      <td>4.250000</td>\n",
       "      <td>0.154365</td>\n",
       "      <td>0.005541</td>\n",
       "      <td>0.415078</td>\n",
       "      <td>2017.0</td>\n",
       "      <td>2011.000000</td>\n",
       "      <td>2017.625000</td>\n",
       "      <td>76.750000</td>\n",
       "      <td>253.125000</td>\n",
       "      <td>6.429379e+06</td>\n",
       "      <td>67.353333</td>\n",
       "      <td>16.900000</td>\n",
       "      <td>6.000000</td>\n",
       "      <td>1.418905</td>\n",
       "      <td>2.451963</td>\n",
       "    </tr>\n",
       "    <tr>\n",
       "      <th>3</th>\n",
       "      <td>wr</td>\n",
       "      <td>0.133776</td>\n",
       "      <td>0.422461</td>\n",
       "      <td>103.386364</td>\n",
       "      <td>153.363636</td>\n",
       "      <td>4.936364</td>\n",
       "      <td>5.386364</td>\n",
       "      <td>0.358343</td>\n",
       "      <td>0.225251</td>\n",
       "      <td>0.427133</td>\n",
       "      <td>2017.0</td>\n",
       "      <td>2012.704545</td>\n",
       "      <td>2017.909091</td>\n",
       "      <td>72.522727</td>\n",
       "      <td>200.659091</td>\n",
       "      <td>4.565720e+06</td>\n",
       "      <td>70.624390</td>\n",
       "      <td>17.182927</td>\n",
       "      <td>4.295455</td>\n",
       "      <td>1.481217</td>\n",
       "      <td>0.809730</td>\n",
       "    </tr>\n",
       "  </tbody>\n",
       "</table>\n",
       "</div>"
      ],
      "text/plain": [
       "  position  compound_mean_mean  compound_mean_std  user_count        DYAR  \\\n",
       "0       qb            0.127335           0.432073  534.812500  480.156250   \n",
       "1       rb            0.131000           0.432187   82.481481   80.851852   \n",
       "2       te            0.127740           0.417260   58.125000   45.062500   \n",
       "3       wr            0.133776           0.422461  103.386364  153.363636   \n",
       "\n",
       "       DVOA         TD    z_DYAR    z_DVOA      z_TD    year   start_year  \\\n",
       "0  2.743750  20.687500  0.098553  0.104913  0.179703  2017.0  2010.406250   \n",
       "1  0.377778   5.629630  0.188995  0.101627  0.280166  2017.0  2013.222222   \n",
       "2  0.868750   4.250000  0.154365  0.005541  0.415078  2017.0  2011.000000   \n",
       "3  4.936364   5.386364  0.358343  0.225251  0.427133  2017.0  2012.704545   \n",
       "\n",
       "      end_year     height      weight  total_population  metro_percent_white  \\\n",
       "0  2017.687500  75.218750  223.718750      5.275289e+06            70.731034   \n",
       "1  2017.777778  70.777778  217.962963      5.562559e+06            68.708000   \n",
       "2  2017.625000  76.750000  253.125000      6.429379e+06            67.353333   \n",
       "3  2017.909091  72.522727  200.659091      4.565720e+06            70.624390   \n",
       "\n",
       "   metro_percent_black  experience     youth   oldness  \n",
       "0            15.548276    6.593750  1.549070  3.175878  \n",
       "1            17.472000    3.777778  2.126110  0.936945  \n",
       "2            16.900000    6.000000  1.418905  2.451963  \n",
       "3            17.182927    4.295455  1.481217  0.809730  "
      ]
     },
     "execution_count": 165,
     "metadata": {},
     "output_type": "execute_result"
    }
   ],
   "source": [
    "join_df.groupby('position').mean().reset_index()"
   ]
  },
  {
   "cell_type": "markdown",
   "metadata": {},
   "source": [
    "#### Create modeling dataframe"
   ]
  },
  {
   "cell_type": "code",
   "execution_count": 193,
   "metadata": {},
   "outputs": [],
   "source": [
    "join_df['youth'] = (join_df['experience'].mean() - join_df['experience']).clip(0)\n",
    "join_df['oldness'] = (join_df['experience'] - join_df['experience'].mean()).clip(0)"
   ]
  },
  {
   "cell_type": "code",
   "execution_count": 194,
   "metadata": {},
   "outputs": [],
   "source": [
    "join_df = join_df.query('race == \"W\" or race == \"B\"')"
   ]
  },
  {
   "cell_type": "raw",
   "metadata": {},
   "source": [
    "join_df['ThreePP'] =join_df['ThreePP'].fillna(join_df['ThreePP'].mean())\n",
    "join_df['white_black_diff'] = join_df['metro_percent_white'] - join_df['metro_percent_black']"
   ]
  },
  {
   "cell_type": "code",
   "execution_count": 195,
   "metadata": {},
   "outputs": [],
   "source": [
    "join_df['height_dummies'] = pd.cut(join_df['height'], [0, 72, 80], labels = ['short', 'tall'])"
   ]
  },
  {
   "cell_type": "code",
   "execution_count": 170,
   "metadata": {},
   "outputs": [],
   "source": [
    "join_df.to_csv('nfl2017_model_data.tsv', sep='\\t', index=False)"
   ]
  },
  {
   "cell_type": "code",
   "execution_count": 197,
   "metadata": {},
   "outputs": [
    {
     "data": {
      "text/html": [
       "<div>\n",
       "<style scoped>\n",
       "    .dataframe tbody tr th:only-of-type {\n",
       "        vertical-align: middle;\n",
       "    }\n",
       "\n",
       "    .dataframe tbody tr th {\n",
       "        vertical-align: top;\n",
       "    }\n",
       "\n",
       "    .dataframe thead th {\n",
       "        text-align: right;\n",
       "    }\n",
       "</style>\n",
       "<table border=\"1\" class=\"dataframe\">\n",
       "  <thead>\n",
       "    <tr style=\"text-align: right;\">\n",
       "      <th></th>\n",
       "      <th>fuzzy_name</th>\n",
       "      <th>compound_mean_mean</th>\n",
       "      <th>compound_mean_std</th>\n",
       "      <th>user_count</th>\n",
       "      <th>Player_FO</th>\n",
       "      <th>Tm</th>\n",
       "      <th>position</th>\n",
       "      <th>DYAR</th>\n",
       "      <th>DVOA</th>\n",
       "      <th>TD</th>\n",
       "      <th>z_DYAR</th>\n",
       "      <th>z_DVOA</th>\n",
       "      <th>z_TD</th>\n",
       "      <th>year</th>\n",
       "      <th>player_join</th>\n",
       "      <th>Player</th>\n",
       "      <th>url</th>\n",
       "      <th>start_year</th>\n",
       "      <th>end_year</th>\n",
       "      <th>height</th>\n",
       "      <th>weight</th>\n",
       "      <th>birth_date</th>\n",
       "      <th>race</th>\n",
       "      <th>total_population</th>\n",
       "      <th>metro_percent_white</th>\n",
       "      <th>metro_percent_black</th>\n",
       "      <th>experience</th>\n",
       "      <th>youth</th>\n",
       "      <th>oldness</th>\n",
       "      <th>height_dummies</th>\n",
       "    </tr>\n",
       "  </thead>\n",
       "  <tbody>\n",
       "    <tr>\n",
       "      <th>0</th>\n",
       "      <td>aaron rodgers</td>\n",
       "      <td>0.139293</td>\n",
       "      <td>0.448441</td>\n",
       "      <td>736</td>\n",
       "      <td>A.Rodgers</td>\n",
       "      <td>GB</td>\n",
       "      <td>qb</td>\n",
       "      <td>334</td>\n",
       "      <td>7.8</td>\n",
       "      <td>16</td>\n",
       "      <td>-0.141806</td>\n",
       "      <td>0.375436</td>\n",
       "      <td>-0.386588</td>\n",
       "      <td>2017</td>\n",
       "      <td>a rodgers</td>\n",
       "      <td>aaron rodgers</td>\n",
       "      <td>/players/R/RodgAa00.htm</td>\n",
       "      <td>2005.0</td>\n",
       "      <td>2018.0</td>\n",
       "      <td>74.0</td>\n",
       "      <td>225.0</td>\n",
       "      <td>December 2, 1983</td>\n",
       "      <td>W</td>\n",
       "      <td>314555</td>\n",
       "      <td>88.0</td>\n",
       "      <td>1.9</td>\n",
       "      <td>12.0</td>\n",
       "      <td>0.000000</td>\n",
       "      <td>7.532338</td>\n",
       "      <td>tall</td>\n",
       "    </tr>\n",
       "    <tr>\n",
       "      <th>1</th>\n",
       "      <td>adam humphries</td>\n",
       "      <td>0.057700</td>\n",
       "      <td>0.802142</td>\n",
       "      <td>2</td>\n",
       "      <td>A.Humphries</td>\n",
       "      <td>TB</td>\n",
       "      <td>wr</td>\n",
       "      <td>112</td>\n",
       "      <td>5.1</td>\n",
       "      <td>1</td>\n",
       "      <td>0.006527</td>\n",
       "      <td>0.236054</td>\n",
       "      <td>-1.180475</td>\n",
       "      <td>2017</td>\n",
       "      <td>a humphries</td>\n",
       "      <td>adam humphries</td>\n",
       "      <td>/players/H/HumpAd00.htm</td>\n",
       "      <td>2015.0</td>\n",
       "      <td>2018.0</td>\n",
       "      <td>71.0</td>\n",
       "      <td>195.0</td>\n",
       "      <td>January 24, 1993</td>\n",
       "      <td>W</td>\n",
       "      <td>2927714</td>\n",
       "      <td>78.7</td>\n",
       "      <td>12.0</td>\n",
       "      <td>2.0</td>\n",
       "      <td>2.467662</td>\n",
       "      <td>0.000000</td>\n",
       "      <td>short</td>\n",
       "    </tr>\n",
       "  </tbody>\n",
       "</table>\n",
       "</div>"
      ],
      "text/plain": [
       "       fuzzy_name  compound_mean_mean  compound_mean_std  user_count  \\\n",
       "0   aaron rodgers            0.139293           0.448441         736   \n",
       "1  adam humphries            0.057700           0.802142           2   \n",
       "\n",
       "     Player_FO  Tm position  DYAR  DVOA  TD    z_DYAR    z_DVOA      z_TD  \\\n",
       "0    A.Rodgers  GB       qb   334   7.8  16 -0.141806  0.375436 -0.386588   \n",
       "1  A.Humphries  TB       wr   112   5.1   1  0.006527  0.236054 -1.180475   \n",
       "\n",
       "   year  player_join          Player                      url  start_year  \\\n",
       "0  2017    a rodgers   aaron rodgers  /players/R/RodgAa00.htm      2005.0   \n",
       "1  2017  a humphries  adam humphries  /players/H/HumpAd00.htm      2015.0   \n",
       "\n",
       "   end_year  height  weight        birth_date race  total_population  \\\n",
       "0    2018.0    74.0   225.0  December 2, 1983    W            314555   \n",
       "1    2018.0    71.0   195.0  January 24, 1993    W           2927714   \n",
       "\n",
       "   metro_percent_white  metro_percent_black  experience     youth   oldness  \\\n",
       "0                 88.0                  1.9        12.0  0.000000  7.532338   \n",
       "1                 78.7                 12.0         2.0  2.467662  0.000000   \n",
       "\n",
       "  height_dummies  \n",
       "0           tall  \n",
       "1          short  "
      ]
     },
     "execution_count": 197,
     "metadata": {},
     "output_type": "execute_result"
    }
   ],
   "source": [
    "fit_df.head(2)"
   ]
  },
  {
   "cell_type": "markdown",
   "metadata": {},
   "source": [
    "### Simple models for abstract\n",
    "First, a regression model with team wins, age, oldness, PER, and ethnicity"
   ]
  },
  {
   "cell_type": "code",
   "execution_count": 222,
   "metadata": {},
   "outputs": [],
   "source": [
    "fit_df = join_df.copy()#.query('user_count > 200 and year == 2018')#.replace({'M':'B'})"
   ]
  },
  {
   "cell_type": "code",
   "execution_count": 223,
   "metadata": {},
   "outputs": [],
   "source": [
    "import statsmodels.api as sm\n",
    "import statsmodels.formula.api as smf\n",
    "\n",
    "simple_model = smf.wls( formula = 'compound_mean_mean ~ youth + oldness + z_DYAR +  height + weight + position',\n",
    "                data = fit_df,\n",
    "#               weights = 1 / (fit_df['compound_mean_std'] / np.sqrt(fit_df['user_count'])),\n",
    "#                missing='raise'   \n",
    "               ).fit()"
   ]
  },
  {
   "cell_type": "code",
   "execution_count": 224,
   "metadata": {},
   "outputs": [
    {
     "data": {
      "text/html": [
       "<table class=\"simpletable\">\n",
       "<caption>WLS Regression Results</caption>\n",
       "<tr>\n",
       "  <th>Dep. Variable:</th>    <td>compound_mean_mean</td> <th>  R-squared:         </th> <td>   0.041</td>\n",
       "</tr>\n",
       "<tr>\n",
       "  <th>Model:</th>                    <td>WLS</td>        <th>  Adj. R-squared:    </th> <td>   0.001</td>\n",
       "</tr>\n",
       "<tr>\n",
       "  <th>Method:</th>              <td>Least Squares</td>   <th>  F-statistic:       </th> <td>   1.014</td>\n",
       "</tr>\n",
       "<tr>\n",
       "  <th>Date:</th>              <td>Sun, 07 Oct 2018</td>  <th>  Prob (F-statistic):</th>  <td> 0.427</td> \n",
       "</tr>\n",
       "<tr>\n",
       "  <th>Time:</th>                  <td>13:05:55</td>      <th>  Log-Likelihood:    </th> <td>  101.61</td>\n",
       "</tr>\n",
       "<tr>\n",
       "  <th>No. Observations:</th>       <td>   198</td>       <th>  AIC:               </th> <td>  -185.2</td>\n",
       "</tr>\n",
       "<tr>\n",
       "  <th>Df Residuals:</th>           <td>   189</td>       <th>  BIC:               </th> <td>  -155.6</td>\n",
       "</tr>\n",
       "<tr>\n",
       "  <th>Df Model:</th>               <td>     8</td>       <th>                     </th>     <td> </td>   \n",
       "</tr>\n",
       "<tr>\n",
       "  <th>Covariance Type:</th>       <td>nonrobust</td>     <th>                     </th>     <td> </td>   \n",
       "</tr>\n",
       "</table>\n",
       "<table class=\"simpletable\">\n",
       "<tr>\n",
       "         <td></td>           <th>coef</th>     <th>std err</th>      <th>t</th>      <th>P>|t|</th>  <th>[0.025</th>    <th>0.975]</th>  \n",
       "</tr>\n",
       "<tr>\n",
       "  <th>Intercept</th>      <td>    0.3104</td> <td>    0.452</td> <td>    0.687</td> <td> 0.493</td> <td>   -0.581</td> <td>    1.202</td>\n",
       "</tr>\n",
       "<tr>\n",
       "  <th>position[T.rb]</th> <td>    0.0369</td> <td>    0.046</td> <td>    0.798</td> <td> 0.426</td> <td>   -0.054</td> <td>    0.128</td>\n",
       "</tr>\n",
       "<tr>\n",
       "  <th>position[T.te]</th> <td>    0.0736</td> <td>    0.045</td> <td>    1.630</td> <td> 0.105</td> <td>   -0.015</td> <td>    0.163</td>\n",
       "</tr>\n",
       "<tr>\n",
       "  <th>position[T.wr]</th> <td>   -0.0392</td> <td>    0.040</td> <td>   -0.986</td> <td> 0.326</td> <td>   -0.118</td> <td>    0.039</td>\n",
       "</tr>\n",
       "<tr>\n",
       "  <th>youth</th>          <td>    0.0080</td> <td>    0.008</td> <td>    1.035</td> <td> 0.302</td> <td>   -0.007</td> <td>    0.023</td>\n",
       "</tr>\n",
       "<tr>\n",
       "  <th>oldness</th>        <td>    0.0019</td> <td>    0.005</td> <td>    0.383</td> <td> 0.702</td> <td>   -0.008</td> <td>    0.012</td>\n",
       "</tr>\n",
       "<tr>\n",
       "  <th>z_DYAR</th>         <td>   -0.0070</td> <td>    0.011</td> <td>   -0.655</td> <td> 0.513</td> <td>   -0.028</td> <td>    0.014</td>\n",
       "</tr>\n",
       "<tr>\n",
       "  <th>height</th>         <td>    0.0029</td> <td>    0.007</td> <td>    0.384</td> <td> 0.701</td> <td>   -0.012</td> <td>    0.018</td>\n",
       "</tr>\n",
       "<tr>\n",
       "  <th>weight</th>         <td>   -0.0019</td> <td>    0.001</td> <td>   -1.682</td> <td> 0.094</td> <td>   -0.004</td> <td>    0.000</td>\n",
       "</tr>\n",
       "</table>\n",
       "<table class=\"simpletable\">\n",
       "<tr>\n",
       "  <th>Omnibus:</th>       <td>26.631</td> <th>  Durbin-Watson:     </th> <td>   1.701</td>\n",
       "</tr>\n",
       "<tr>\n",
       "  <th>Prob(Omnibus):</th> <td> 0.000</td> <th>  Jarque-Bera (JB):  </th> <td>  94.619</td>\n",
       "</tr>\n",
       "<tr>\n",
       "  <th>Skew:</th>          <td>-0.425</td> <th>  Prob(JB):          </th> <td>2.84e-21</td>\n",
       "</tr>\n",
       "<tr>\n",
       "  <th>Kurtosis:</th>      <td> 6.278</td> <th>  Cond. No.          </th> <td>9.90e+03</td>\n",
       "</tr>\n",
       "</table><br/><br/>Warnings:<br/>[1] Standard Errors assume that the covariance matrix of the errors is correctly specified.<br/>[2] The condition number is large, 9.9e+03. This might indicate that there are<br/>strong multicollinearity or other numerical problems."
      ],
      "text/plain": [
       "<class 'statsmodels.iolib.summary.Summary'>\n",
       "\"\"\"\n",
       "                            WLS Regression Results                            \n",
       "==============================================================================\n",
       "Dep. Variable:     compound_mean_mean   R-squared:                       0.041\n",
       "Model:                            WLS   Adj. R-squared:                  0.001\n",
       "Method:                 Least Squares   F-statistic:                     1.014\n",
       "Date:                Sun, 07 Oct 2018   Prob (F-statistic):              0.427\n",
       "Time:                        13:05:55   Log-Likelihood:                 101.61\n",
       "No. Observations:                 198   AIC:                            -185.2\n",
       "Df Residuals:                     189   BIC:                            -155.6\n",
       "Df Model:                           8                                         \n",
       "Covariance Type:            nonrobust                                         \n",
       "==================================================================================\n",
       "                     coef    std err          t      P>|t|      [0.025      0.975]\n",
       "----------------------------------------------------------------------------------\n",
       "Intercept          0.3104      0.452      0.687      0.493      -0.581       1.202\n",
       "position[T.rb]     0.0369      0.046      0.798      0.426      -0.054       0.128\n",
       "position[T.te]     0.0736      0.045      1.630      0.105      -0.015       0.163\n",
       "position[T.wr]    -0.0392      0.040     -0.986      0.326      -0.118       0.039\n",
       "youth              0.0080      0.008      1.035      0.302      -0.007       0.023\n",
       "oldness            0.0019      0.005      0.383      0.702      -0.008       0.012\n",
       "z_DYAR            -0.0070      0.011     -0.655      0.513      -0.028       0.014\n",
       "height             0.0029      0.007      0.384      0.701      -0.012       0.018\n",
       "weight            -0.0019      0.001     -1.682      0.094      -0.004       0.000\n",
       "==============================================================================\n",
       "Omnibus:                       26.631   Durbin-Watson:                   1.701\n",
       "Prob(Omnibus):                  0.000   Jarque-Bera (JB):               94.619\n",
       "Skew:                          -0.425   Prob(JB):                     2.84e-21\n",
       "Kurtosis:                       6.278   Cond. No.                     9.90e+03\n",
       "==============================================================================\n",
       "\n",
       "Warnings:\n",
       "[1] Standard Errors assume that the covariance matrix of the errors is correctly specified.\n",
       "[2] The condition number is large, 9.9e+03. This might indicate that there are\n",
       "strong multicollinearity or other numerical problems.\n",
       "\"\"\""
      ]
     },
     "execution_count": 224,
     "metadata": {},
     "output_type": "execute_result"
    }
   ],
   "source": [
    "simple_model.summary()"
   ]
  },
  {
   "cell_type": "code",
   "execution_count": 225,
   "metadata": {},
   "outputs": [],
   "source": [
    "import statsmodels.api as sm\n",
    "import statsmodels.formula.api as smf\n",
    "\n",
    "simple_model = smf.wls( formula = 'compound_mean_mean ~ youth + oldness + z_DYAR +  height + weight + position',\n",
    "                data = fit_df,\n",
    "               weights = 1 / (fit_df['compound_mean_std'] / np.sqrt(fit_df['user_count'])),\n",
    "#                missing='raise'   \n",
    "               ).fit()"
   ]
  },
  {
   "cell_type": "code",
   "execution_count": 226,
   "metadata": {},
   "outputs": [
    {
     "data": {
      "text/html": [
       "<table class=\"simpletable\">\n",
       "<caption>WLS Regression Results</caption>\n",
       "<tr>\n",
       "  <th>Dep. Variable:</th>    <td>compound_mean_mean</td> <th>  R-squared:         </th> <td>   0.039</td>\n",
       "</tr>\n",
       "<tr>\n",
       "  <th>Model:</th>                    <td>WLS</td>        <th>  Adj. R-squared:    </th> <td>  -0.003</td>\n",
       "</tr>\n",
       "<tr>\n",
       "  <th>Method:</th>              <td>Least Squares</td>   <th>  F-statistic:       </th> <td>  0.9313</td>\n",
       "</tr>\n",
       "<tr>\n",
       "  <th>Date:</th>              <td>Sun, 07 Oct 2018</td>  <th>  Prob (F-statistic):</th>  <td> 0.492</td> \n",
       "</tr>\n",
       "<tr>\n",
       "  <th>Time:</th>                  <td>13:06:01</td>      <th>  Log-Likelihood:    </th> <td>  120.12</td>\n",
       "</tr>\n",
       "<tr>\n",
       "  <th>No. Observations:</th>       <td>   194</td>       <th>  AIC:               </th> <td>  -222.2</td>\n",
       "</tr>\n",
       "<tr>\n",
       "  <th>Df Residuals:</th>           <td>   185</td>       <th>  BIC:               </th> <td>  -192.8</td>\n",
       "</tr>\n",
       "<tr>\n",
       "  <th>Df Model:</th>               <td>     8</td>       <th>                     </th>     <td> </td>   \n",
       "</tr>\n",
       "<tr>\n",
       "  <th>Covariance Type:</th>       <td>nonrobust</td>     <th>                     </th>     <td> </td>   \n",
       "</tr>\n",
       "</table>\n",
       "<table class=\"simpletable\">\n",
       "<tr>\n",
       "         <td></td>           <th>coef</th>     <th>std err</th>      <th>t</th>      <th>P>|t|</th>  <th>[0.025</th>    <th>0.975]</th>  \n",
       "</tr>\n",
       "<tr>\n",
       "  <th>Intercept</th>      <td>    0.3983</td> <td>    0.355</td> <td>    1.121</td> <td> 0.264</td> <td>   -0.303</td> <td>    1.100</td>\n",
       "</tr>\n",
       "<tr>\n",
       "  <th>position[T.rb]</th> <td>    0.0095</td> <td>    0.034</td> <td>    0.279</td> <td> 0.781</td> <td>   -0.058</td> <td>    0.077</td>\n",
       "</tr>\n",
       "<tr>\n",
       "  <th>position[T.te]</th> <td>    0.0228</td> <td>    0.036</td> <td>    0.635</td> <td> 0.526</td> <td>   -0.048</td> <td>    0.094</td>\n",
       "</tr>\n",
       "<tr>\n",
       "  <th>position[T.wr]</th> <td>    0.0028</td> <td>    0.027</td> <td>    0.104</td> <td> 0.917</td> <td>   -0.050</td> <td>    0.055</td>\n",
       "</tr>\n",
       "<tr>\n",
       "  <th>youth</th>          <td>    0.0103</td> <td>    0.006</td> <td>    1.712</td> <td> 0.089</td> <td>   -0.002</td> <td>    0.022</td>\n",
       "</tr>\n",
       "<tr>\n",
       "  <th>oldness</th>        <td>    0.0019</td> <td>    0.003</td> <td>    0.600</td> <td> 0.549</td> <td>   -0.004</td> <td>    0.008</td>\n",
       "</tr>\n",
       "<tr>\n",
       "  <th>z_DYAR</th>         <td>   -0.0094</td> <td>    0.008</td> <td>   -1.155</td> <td> 0.249</td> <td>   -0.025</td> <td>    0.007</td>\n",
       "</tr>\n",
       "<tr>\n",
       "  <th>height</th>         <td>   -0.0017</td> <td>    0.006</td> <td>   -0.282</td> <td> 0.779</td> <td>   -0.014</td> <td>    0.010</td>\n",
       "</tr>\n",
       "<tr>\n",
       "  <th>weight</th>         <td>   -0.0007</td> <td>    0.001</td> <td>   -0.780</td> <td> 0.437</td> <td>   -0.002</td> <td>    0.001</td>\n",
       "</tr>\n",
       "</table>\n",
       "<table class=\"simpletable\">\n",
       "<tr>\n",
       "  <th>Omnibus:</th>       <td>36.641</td> <th>  Durbin-Watson:     </th> <td>   1.768</td>\n",
       "</tr>\n",
       "<tr>\n",
       "  <th>Prob(Omnibus):</th> <td> 0.000</td> <th>  Jarque-Bera (JB):  </th> <td> 277.636</td>\n",
       "</tr>\n",
       "<tr>\n",
       "  <th>Skew:</th>          <td>-0.348</td> <th>  Prob(JB):          </th> <td>5.15e-61</td>\n",
       "</tr>\n",
       "<tr>\n",
       "  <th>Kurtosis:</th>      <td> 8.819</td> <th>  Cond. No.          </th> <td>1.00e+04</td>\n",
       "</tr>\n",
       "</table><br/><br/>Warnings:<br/>[1] Standard Errors assume that the covariance matrix of the errors is correctly specified.<br/>[2] The condition number is large,  1e+04. This might indicate that there are<br/>strong multicollinearity or other numerical problems."
      ],
      "text/plain": [
       "<class 'statsmodels.iolib.summary.Summary'>\n",
       "\"\"\"\n",
       "                            WLS Regression Results                            \n",
       "==============================================================================\n",
       "Dep. Variable:     compound_mean_mean   R-squared:                       0.039\n",
       "Model:                            WLS   Adj. R-squared:                 -0.003\n",
       "Method:                 Least Squares   F-statistic:                    0.9313\n",
       "Date:                Sun, 07 Oct 2018   Prob (F-statistic):              0.492\n",
       "Time:                        13:06:01   Log-Likelihood:                 120.12\n",
       "No. Observations:                 194   AIC:                            -222.2\n",
       "Df Residuals:                     185   BIC:                            -192.8\n",
       "Df Model:                           8                                         \n",
       "Covariance Type:            nonrobust                                         \n",
       "==================================================================================\n",
       "                     coef    std err          t      P>|t|      [0.025      0.975]\n",
       "----------------------------------------------------------------------------------\n",
       "Intercept          0.3983      0.355      1.121      0.264      -0.303       1.100\n",
       "position[T.rb]     0.0095      0.034      0.279      0.781      -0.058       0.077\n",
       "position[T.te]     0.0228      0.036      0.635      0.526      -0.048       0.094\n",
       "position[T.wr]     0.0028      0.027      0.104      0.917      -0.050       0.055\n",
       "youth              0.0103      0.006      1.712      0.089      -0.002       0.022\n",
       "oldness            0.0019      0.003      0.600      0.549      -0.004       0.008\n",
       "z_DYAR            -0.0094      0.008     -1.155      0.249      -0.025       0.007\n",
       "height            -0.0017      0.006     -0.282      0.779      -0.014       0.010\n",
       "weight            -0.0007      0.001     -0.780      0.437      -0.002       0.001\n",
       "==============================================================================\n",
       "Omnibus:                       36.641   Durbin-Watson:                   1.768\n",
       "Prob(Omnibus):                  0.000   Jarque-Bera (JB):              277.636\n",
       "Skew:                          -0.348   Prob(JB):                     5.15e-61\n",
       "Kurtosis:                       8.819   Cond. No.                     1.00e+04\n",
       "==============================================================================\n",
       "\n",
       "Warnings:\n",
       "[1] Standard Errors assume that the covariance matrix of the errors is correctly specified.\n",
       "[2] The condition number is large,  1e+04. This might indicate that there are\n",
       "strong multicollinearity or other numerical problems.\n",
       "\"\"\""
      ]
     },
     "execution_count": 226,
     "metadata": {},
     "output_type": "execute_result"
    }
   ],
   "source": [
    "simple_model.summary()"
   ]
  },
  {
   "cell_type": "markdown",
   "metadata": {},
   "source": [
    "#### With interaction"
   ]
  },
  {
   "cell_type": "code",
   "execution_count": 176,
   "metadata": {},
   "outputs": [],
   "source": [
    "import statsmodels.api as sm\n",
    "import statsmodels.formula.api as smf\n",
    "\n",
    "simple_model = smf.wls( formula = 'compound_mean_mean ~ youth + oldness + Wins + PER + C(Race) * white_black_diff',\n",
    "                data = fit_df,\n",
    "#               weights = 1 / (fit_df['compound_mean_std'] / np.sqrt(fit_df['user_count'])),\n",
    "#                missing='raise'   \n",
    "               ).fit()"
   ]
  },
  {
   "cell_type": "code",
   "execution_count": 126,
   "metadata": {},
   "outputs": [
    {
     "data": {
      "text/html": [
       "<table class=\"simpletable\">\n",
       "<caption>WLS Regression Results</caption>\n",
       "<tr>\n",
       "  <th>Dep. Variable:</th>    <td>compound_mean_mean</td> <th>  R-squared:         </th> <td>   0.070</td>\n",
       "</tr>\n",
       "<tr>\n",
       "  <th>Model:</th>                    <td>WLS</td>        <th>  Adj. R-squared:    </th> <td>   0.049</td>\n",
       "</tr>\n",
       "<tr>\n",
       "  <th>Method:</th>              <td>Least Squares</td>   <th>  F-statistic:       </th> <td>   3.363</td>\n",
       "</tr>\n",
       "<tr>\n",
       "  <th>Date:</th>              <td>Fri, 28 Sep 2018</td>  <th>  Prob (F-statistic):</th>  <td>0.00179</td>\n",
       "</tr>\n",
       "<tr>\n",
       "  <th>Time:</th>                  <td>14:38:20</td>      <th>  Log-Likelihood:    </th> <td>  492.99</td>\n",
       "</tr>\n",
       "<tr>\n",
       "  <th>No. Observations:</th>       <td>   323</td>       <th>  AIC:               </th> <td>  -970.0</td>\n",
       "</tr>\n",
       "<tr>\n",
       "  <th>Df Residuals:</th>           <td>   315</td>       <th>  BIC:               </th> <td>  -939.8</td>\n",
       "</tr>\n",
       "<tr>\n",
       "  <th>Df Model:</th>               <td>     7</td>       <th>                     </th>     <td> </td>   \n",
       "</tr>\n",
       "<tr>\n",
       "  <th>Covariance Type:</th>       <td>nonrobust</td>     <th>                     </th>     <td> </td>   \n",
       "</tr>\n",
       "</table>\n",
       "<table class=\"simpletable\">\n",
       "<tr>\n",
       "                <td></td>                   <th>coef</th>     <th>std err</th>      <th>t</th>      <th>P>|t|</th>  <th>[0.025</th>    <th>0.975]</th>  \n",
       "</tr>\n",
       "<tr>\n",
       "  <th>Intercept</th>                     <td>    0.1118</td> <td>    0.017</td> <td>    6.412</td> <td> 0.000</td> <td>    0.077</td> <td>    0.146</td>\n",
       "</tr>\n",
       "<tr>\n",
       "  <th>C(Race)[T.W]</th>                  <td>   -0.0266</td> <td>    0.023</td> <td>   -1.133</td> <td> 0.258</td> <td>   -0.073</td> <td>    0.020</td>\n",
       "</tr>\n",
       "<tr>\n",
       "  <th>youth</th>                         <td>    0.0073</td> <td>    0.002</td> <td>    4.129</td> <td> 0.000</td> <td>    0.004</td> <td>    0.011</td>\n",
       "</tr>\n",
       "<tr>\n",
       "  <th>oldness</th>                       <td>    0.0020</td> <td>    0.001</td> <td>    1.765</td> <td> 0.079</td> <td>   -0.000</td> <td>    0.004</td>\n",
       "</tr>\n",
       "<tr>\n",
       "  <th>Wins</th>                          <td>    0.0001</td> <td>    0.000</td> <td>    0.537</td> <td> 0.592</td> <td>   -0.000</td> <td>    0.001</td>\n",
       "</tr>\n",
       "<tr>\n",
       "  <th>PER</th>                           <td>    0.0010</td> <td>    0.001</td> <td>    1.841</td> <td> 0.067</td> <td>-6.95e-05</td> <td>    0.002</td>\n",
       "</tr>\n",
       "<tr>\n",
       "  <th>white_black_diff</th>              <td>   -0.0001</td> <td>    0.000</td> <td>   -0.645</td> <td> 0.519</td> <td>   -0.001</td> <td>    0.000</td>\n",
       "</tr>\n",
       "<tr>\n",
       "  <th>C(Race)[T.W]:white_black_diff</th> <td>    0.0007</td> <td>    0.000</td> <td>    1.593</td> <td> 0.112</td> <td>   -0.000</td> <td>    0.001</td>\n",
       "</tr>\n",
       "</table>\n",
       "<table class=\"simpletable\">\n",
       "<tr>\n",
       "  <th>Omnibus:</th>       <td>58.807</td> <th>  Durbin-Watson:     </th> <td>   2.011</td>\n",
       "</tr>\n",
       "<tr>\n",
       "  <th>Prob(Omnibus):</th> <td> 0.000</td> <th>  Jarque-Bera (JB):  </th> <td> 132.801</td>\n",
       "</tr>\n",
       "<tr>\n",
       "  <th>Skew:</th>          <td>-0.907</td> <th>  Prob(JB):          </th> <td>1.45e-29</td>\n",
       "</tr>\n",
       "<tr>\n",
       "  <th>Kurtosis:</th>      <td> 5.565</td> <th>  Cond. No.          </th> <td>    607.</td>\n",
       "</tr>\n",
       "</table><br/><br/>Warnings:<br/>[1] Standard Errors assume that the covariance matrix of the errors is correctly specified."
      ],
      "text/plain": [
       "<class 'statsmodels.iolib.summary.Summary'>\n",
       "\"\"\"\n",
       "                            WLS Regression Results                            \n",
       "==============================================================================\n",
       "Dep. Variable:     compound_mean_mean   R-squared:                       0.070\n",
       "Model:                            WLS   Adj. R-squared:                  0.049\n",
       "Method:                 Least Squares   F-statistic:                     3.363\n",
       "Date:                Fri, 28 Sep 2018   Prob (F-statistic):            0.00179\n",
       "Time:                        14:38:20   Log-Likelihood:                 492.99\n",
       "No. Observations:                 323   AIC:                            -970.0\n",
       "Df Residuals:                     315   BIC:                            -939.8\n",
       "Df Model:                           7                                         \n",
       "Covariance Type:            nonrobust                                         \n",
       "=================================================================================================\n",
       "                                    coef    std err          t      P>|t|      [0.025      0.975]\n",
       "-------------------------------------------------------------------------------------------------\n",
       "Intercept                         0.1118      0.017      6.412      0.000       0.077       0.146\n",
       "C(Race)[T.W]                     -0.0266      0.023     -1.133      0.258      -0.073       0.020\n",
       "youth                             0.0073      0.002      4.129      0.000       0.004       0.011\n",
       "oldness                           0.0020      0.001      1.765      0.079      -0.000       0.004\n",
       "Wins                              0.0001      0.000      0.537      0.592      -0.000       0.001\n",
       "PER                               0.0010      0.001      1.841      0.067   -6.95e-05       0.002\n",
       "white_black_diff                 -0.0001      0.000     -0.645      0.519      -0.001       0.000\n",
       "C(Race)[T.W]:white_black_diff     0.0007      0.000      1.593      0.112      -0.000       0.001\n",
       "==============================================================================\n",
       "Omnibus:                       58.807   Durbin-Watson:                   2.011\n",
       "Prob(Omnibus):                  0.000   Jarque-Bera (JB):              132.801\n",
       "Skew:                          -0.907   Prob(JB):                     1.45e-29\n",
       "Kurtosis:                       5.565   Cond. No.                         607.\n",
       "==============================================================================\n",
       "\n",
       "Warnings:\n",
       "[1] Standard Errors assume that the covariance matrix of the errors is correctly specified.\n",
       "\"\"\""
      ]
     },
     "execution_count": 126,
     "metadata": {},
     "output_type": "execute_result"
    }
   ],
   "source": [
    "simple_model.summary()"
   ]
  },
  {
   "cell_type": "code",
   "execution_count": 127,
   "metadata": {},
   "outputs": [],
   "source": [
    "import statsmodels.api as sm\n",
    "import statsmodels.formula.api as smf\n",
    "\n",
    "simple_model = smf.wls( formula = 'compound_mean_mean ~ youth + oldness + Wins + PER + C(Race) * clinton_vote_lead',\n",
    "                data = fit_df,\n",
    "#               weights = 1 / (fit_df['compound_mean_std'] / np.sqrt(fit_df['user_count'])),\n",
    "#                missing='raise'   \n",
    "               ).fit()"
   ]
  },
  {
   "cell_type": "code",
   "execution_count": 128,
   "metadata": {},
   "outputs": [
    {
     "data": {
      "text/html": [
       "<table class=\"simpletable\">\n",
       "<caption>WLS Regression Results</caption>\n",
       "<tr>\n",
       "  <th>Dep. Variable:</th>    <td>compound_mean_mean</td> <th>  R-squared:         </th> <td>   0.077</td>\n",
       "</tr>\n",
       "<tr>\n",
       "  <th>Model:</th>                    <td>WLS</td>        <th>  Adj. R-squared:    </th> <td>   0.057</td>\n",
       "</tr>\n",
       "<tr>\n",
       "  <th>Method:</th>              <td>Least Squares</td>   <th>  F-statistic:       </th> <td>   3.769</td>\n",
       "</tr>\n",
       "<tr>\n",
       "  <th>Date:</th>              <td>Fri, 28 Sep 2018</td>  <th>  Prob (F-statistic):</th> <td>0.000610</td>\n",
       "</tr>\n",
       "<tr>\n",
       "  <th>Time:</th>                  <td>14:38:50</td>      <th>  Log-Likelihood:    </th> <td>  494.34</td>\n",
       "</tr>\n",
       "<tr>\n",
       "  <th>No. Observations:</th>       <td>   323</td>       <th>  AIC:               </th> <td>  -972.7</td>\n",
       "</tr>\n",
       "<tr>\n",
       "  <th>Df Residuals:</th>           <td>   315</td>       <th>  BIC:               </th> <td>  -942.5</td>\n",
       "</tr>\n",
       "<tr>\n",
       "  <th>Df Model:</th>               <td>     7</td>       <th>                     </th>     <td> </td>   \n",
       "</tr>\n",
       "<tr>\n",
       "  <th>Covariance Type:</th>       <td>nonrobust</td>     <th>                     </th>     <td> </td>   \n",
       "</tr>\n",
       "</table>\n",
       "<table class=\"simpletable\">\n",
       "<tr>\n",
       "                 <td></td>                   <th>coef</th>     <th>std err</th>      <th>t</th>      <th>P>|t|</th>  <th>[0.025</th>    <th>0.975]</th>  \n",
       "</tr>\n",
       "<tr>\n",
       "  <th>Intercept</th>                      <td>    0.0904</td> <td>    0.015</td> <td>    5.852</td> <td> 0.000</td> <td>    0.060</td> <td>    0.121</td>\n",
       "</tr>\n",
       "<tr>\n",
       "  <th>C(Race)[T.W]</th>                   <td>    0.0329</td> <td>    0.016</td> <td>    2.115</td> <td> 0.035</td> <td>    0.002</td> <td>    0.063</td>\n",
       "</tr>\n",
       "<tr>\n",
       "  <th>youth</th>                          <td>    0.0074</td> <td>    0.002</td> <td>    4.234</td> <td> 0.000</td> <td>    0.004</td> <td>    0.011</td>\n",
       "</tr>\n",
       "<tr>\n",
       "  <th>oldness</th>                        <td>    0.0020</td> <td>    0.001</td> <td>    1.768</td> <td> 0.078</td> <td>   -0.000</td> <td>    0.004</td>\n",
       "</tr>\n",
       "<tr>\n",
       "  <th>Wins</th>                           <td>    0.0001</td> <td>    0.000</td> <td>    0.573</td> <td> 0.567</td> <td>   -0.000</td> <td>    0.001</td>\n",
       "</tr>\n",
       "<tr>\n",
       "  <th>PER</th>                            <td>    0.0010</td> <td>    0.001</td> <td>    1.745</td> <td> 0.082</td> <td>   -0.000</td> <td>    0.002</td>\n",
       "</tr>\n",
       "<tr>\n",
       "  <th>clinton_vote_lead</th>              <td>    0.0381</td> <td>    0.018</td> <td>    2.150</td> <td> 0.032</td> <td>    0.003</td> <td>    0.073</td>\n",
       "</tr>\n",
       "<tr>\n",
       "  <th>C(Race)[T.W]:clinton_vote_lead</th> <td>   -0.0622</td> <td>    0.036</td> <td>   -1.739</td> <td> 0.083</td> <td>   -0.133</td> <td>    0.008</td>\n",
       "</tr>\n",
       "</table>\n",
       "<table class=\"simpletable\">\n",
       "<tr>\n",
       "  <th>Omnibus:</th>       <td>57.177</td> <th>  Durbin-Watson:     </th> <td>   2.002</td>\n",
       "</tr>\n",
       "<tr>\n",
       "  <th>Prob(Omnibus):</th> <td> 0.000</td> <th>  Jarque-Bera (JB):  </th> <td> 125.306</td>\n",
       "</tr>\n",
       "<tr>\n",
       "  <th>Skew:</th>          <td>-0.894</td> <th>  Prob(JB):          </th> <td>6.17e-28</td>\n",
       "</tr>\n",
       "<tr>\n",
       "  <th>Kurtosis:</th>      <td> 5.473</td> <th>  Cond. No.          </th> <td>    617.</td>\n",
       "</tr>\n",
       "</table><br/><br/>Warnings:<br/>[1] Standard Errors assume that the covariance matrix of the errors is correctly specified."
      ],
      "text/plain": [
       "<class 'statsmodels.iolib.summary.Summary'>\n",
       "\"\"\"\n",
       "                            WLS Regression Results                            \n",
       "==============================================================================\n",
       "Dep. Variable:     compound_mean_mean   R-squared:                       0.077\n",
       "Model:                            WLS   Adj. R-squared:                  0.057\n",
       "Method:                 Least Squares   F-statistic:                     3.769\n",
       "Date:                Fri, 28 Sep 2018   Prob (F-statistic):           0.000610\n",
       "Time:                        14:38:50   Log-Likelihood:                 494.34\n",
       "No. Observations:                 323   AIC:                            -972.7\n",
       "Df Residuals:                     315   BIC:                            -942.5\n",
       "Df Model:                           7                                         \n",
       "Covariance Type:            nonrobust                                         \n",
       "==================================================================================================\n",
       "                                     coef    std err          t      P>|t|      [0.025      0.975]\n",
       "--------------------------------------------------------------------------------------------------\n",
       "Intercept                          0.0904      0.015      5.852      0.000       0.060       0.121\n",
       "C(Race)[T.W]                       0.0329      0.016      2.115      0.035       0.002       0.063\n",
       "youth                              0.0074      0.002      4.234      0.000       0.004       0.011\n",
       "oldness                            0.0020      0.001      1.768      0.078      -0.000       0.004\n",
       "Wins                               0.0001      0.000      0.573      0.567      -0.000       0.001\n",
       "PER                                0.0010      0.001      1.745      0.082      -0.000       0.002\n",
       "clinton_vote_lead                  0.0381      0.018      2.150      0.032       0.003       0.073\n",
       "C(Race)[T.W]:clinton_vote_lead    -0.0622      0.036     -1.739      0.083      -0.133       0.008\n",
       "==============================================================================\n",
       "Omnibus:                       57.177   Durbin-Watson:                   2.002\n",
       "Prob(Omnibus):                  0.000   Jarque-Bera (JB):              125.306\n",
       "Skew:                          -0.894   Prob(JB):                     6.17e-28\n",
       "Kurtosis:                       5.473   Cond. No.                         617.\n",
       "==============================================================================\n",
       "\n",
       "Warnings:\n",
       "[1] Standard Errors assume that the covariance matrix of the errors is correctly specified.\n",
       "\"\"\""
      ]
     },
     "execution_count": 128,
     "metadata": {},
     "output_type": "execute_result"
    }
   ],
   "source": [
    "simple_model.summary()"
   ]
  },
  {
   "cell_type": "code",
   "execution_count": null,
   "metadata": {},
   "outputs": [],
   "source": []
  }
 ],
 "metadata": {
  "kernelspec": {
   "display_name": "Python 3",
   "language": "python",
   "name": "python3"
  },
  "language_info": {
   "codemirror_mode": {
    "name": "ipython",
    "version": 3
   },
   "file_extension": ".py",
   "mimetype": "text/x-python",
   "name": "python",
   "nbconvert_exporter": "python",
   "pygments_lexer": "ipython3",
   "version": "3.6.5"
  }
 },
 "nbformat": 4,
 "nbformat_minor": 2
}
