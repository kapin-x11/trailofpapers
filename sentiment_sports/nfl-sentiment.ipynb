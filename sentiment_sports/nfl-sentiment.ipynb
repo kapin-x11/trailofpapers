{
 "cells": [
  {
   "cell_type": "markdown",
   "metadata": {},
   "source": [
    "# Drivers of Reddit NFL sentiment\n",
    "This notebook investigates what drives the sentiment of NFL players on reddit. It roughly has N parts:\n",
    "1. Building a set of covariates for sentiment (e.g. player demographics, city demographics, performance data)\n",
    "2. Calculating the sentiment towards each player\n",
    "3. Performing a regression model to predict player sentiment\n",
    "\n",
    "This is a work in progress. For similar work on the NBA, see `nba-sentiment.ipynb`."
   ]
  },
  {
   "cell_type": "markdown",
   "metadata": {},
   "source": [
    "### Short term to-do:\n",
    "* Clean up comment matching\n",
    "  * Why does JJ Watt have low comment count?\n",
    "* Add salary data and Trump vote share\n",
    "* Try to find some subset of data where performance is correlated with sentiment\n",
    "\n",
    "### Long term to-do:\n",
    "\n",
    "Create functions for:\n",
    "  * fuzzy matching cleanup\n",
    "  * aggregation (maybe)"
   ]
  },
  {
   "cell_type": "code",
   "execution_count": 1,
   "metadata": {
    "collapsed": true
   },
   "outputs": [
    {
     "name": "stderr",
     "output_type": "stream",
     "text": [
      "C:\\Users\\map22\\Anaconda3\\lib\\site-packages\\nltk\\twitter\\__init__.py:20: UserWarning: The twython library has not been installed. Some functionality from the twitter package will not be available.\n",
      "  warnings.warn(\"The twython library has not been installed. \"\n"
     ]
    }
   ],
   "source": [
    "import json\n",
    "import string\n",
    "import requests\n",
    "import re\n",
    "import pandas as pd\n",
    "import numpy as np\n",
    "import seaborn as sns\n",
    "import statsmodels.api as sm\n",
    "import statsmodels.formula.api as smf\n",
    "from ast import literal_eval\n",
    "from string import punctuation\n",
    "from sner import Ner\n",
    "from nltk.sentiment.vader import SentimentIntensityAnalyzer\n",
    "import matplotlib.pyplot as plt\n",
    "%matplotlib inline"
   ]
  },
  {
   "cell_type": "code",
   "execution_count": 2,
   "metadata": {},
   "outputs": [],
   "source": [
    "import sports_sentiment as ss\n",
    "import scrape_player_data as spd"
   ]
  },
  {
   "cell_type": "code",
   "execution_count": 3,
   "metadata": {},
   "outputs": [],
   "source": [
    "# download stanford core nlp (should be a zip file of format stanford-ner-YYYY-MM-DD) (maybe from https://nlp.stanford.edu/software/CRF-NER.shtml#Download)\n",
    "# need to start the Java server:\n",
    "# cd C:\\ProgramData\\Anaconda3\\Lib\\site-packages\\sner\\stanford-ner-2018-02-27\n",
    "# java -Djava.ext.dirs=./lib -cp stanford-ner.jar edu.stanford.nlp.ie.NERServer -port 9199 -loadClassifier ./classifiers/english.all.3class.distsim.crf.ser.gz  -tokenizerFactory edu.stanford.nlp.process.WhitespaceTokenizer -tokenizerOptions tokenizeNLs=false"
   ]
  },
  {
   "cell_type": "code",
   "execution_count": 4,
   "metadata": {},
   "outputs": [],
   "source": [
    "pd.set_option('display.max_colwidth', 200)\n",
    "pd.set_option('display.max_columns', 100)"
   ]
  },
  {
   "cell_type": "markdown",
   "metadata": {},
   "source": [
    "## Constants and non-text data"
   ]
  },
  {
   "cell_type": "code",
   "execution_count": 5,
   "metadata": {},
   "outputs": [],
   "source": [
    "non_players_set = set('Baltimore Ravens Buffalo Bills Cincinnati Bengals Cleveland Browns Denver Broncos Houston Texans Indianapolis Colts ' \\\n",
    "                        'Jacksonville Jaguars Kansas City Chiefs Los Angeles Chargers Miami Dolphins New England Patriots New York Jets ' \\\n",
    "                        'Oakland Raiders Pittsburgh Steelers Tennessee Titans NFL Bowl ' \\\n",
    "                       'Arizona Cardinals Atlanta Falcons Carolina Panthers Chicago Bears Dallas Cowboys Detroit Lions Green Bay Packers ' \\\n",
    "                        'Los Angeles Rams Minnesota Vikings New Orleans Saints New York Giants Philadelphia Eagles San Francisco 49ers ' \\\n",
    "                        'Seattle Seahawks Tampa Bay Buccaneers Washington Redskins ' \\\n",
    "                        'Goodell Lebron jags cards hawks bucs skins'.lower().split())"
   ]
  },
  {
   "cell_type": "code",
   "execution_count": 6,
   "metadata": {},
   "outputs": [],
   "source": [
    "coaches_df = pd.read_csv('d:/data/sentiment_sports/covariates/nfl_coach_performance.tsv', sep='\\t')\n",
    "coaches_race_df = pd.read_csv('d:/data/sentiment_sports/covariates/nfl_coach_race.tsv', sep='\\t')\n",
    "coaches = set([name for coach in list(coaches_race_df.iloc[:,0]) for name in coach.split(' ')] )"
   ]
  },
  {
   "cell_type": "markdown",
   "metadata": {},
   "source": [
    "## Load covariates\n",
    "### Covariates contains only skill position players"
   ]
  },
  {
   "cell_type": "code",
   "execution_count": 7,
   "metadata": {},
   "outputs": [
    {
     "data": {
      "text/html": [
       "<div>\n",
       "<style scoped>\n",
       "    .dataframe tbody tr th:only-of-type {\n",
       "        vertical-align: middle;\n",
       "    }\n",
       "\n",
       "    .dataframe tbody tr th {\n",
       "        vertical-align: top;\n",
       "    }\n",
       "\n",
       "    .dataframe thead th {\n",
       "        text-align: right;\n",
       "    }\n",
       "</style>\n",
       "<table border=\"1\" class=\"dataframe\">\n",
       "  <thead>\n",
       "    <tr style=\"text-align: right;\">\n",
       "      <th></th>\n",
       "      <th>Player_FO</th>\n",
       "      <th>Tm</th>\n",
       "      <th>position</th>\n",
       "      <th>DYAR</th>\n",
       "      <th>DVOA</th>\n",
       "      <th>TD</th>\n",
       "      <th>z_DYAR</th>\n",
       "      <th>z_DVOA</th>\n",
       "      <th>z_TD</th>\n",
       "      <th>year</th>\n",
       "      <th>player_join</th>\n",
       "      <th>Player</th>\n",
       "      <th>level_1</th>\n",
       "      <th>start_year</th>\n",
       "      <th>end_year</th>\n",
       "      <th>url</th>\n",
       "      <th>height</th>\n",
       "      <th>weight</th>\n",
       "      <th>birth_date</th>\n",
       "      <th>race</th>\n",
       "      <th>salary</th>\n",
       "      <th>standard_salary</th>\n",
       "      <th>Wins</th>\n",
       "      <th>total_population</th>\n",
       "      <th>metro_percent_white</th>\n",
       "      <th>metro_percent_black</th>\n",
       "      <th>clinton_vote_lead</th>\n",
       "      <th>experience</th>\n",
       "    </tr>\n",
       "  </thead>\n",
       "  <tbody>\n",
       "    <tr>\n",
       "      <th>0</th>\n",
       "      <td>T.Brady</td>\n",
       "      <td>BOS</td>\n",
       "      <td>qb</td>\n",
       "      <td>2035</td>\n",
       "      <td>35.1</td>\n",
       "      <td>34</td>\n",
       "      <td>2.574492</td>\n",
       "      <td>1.846341</td>\n",
       "      <td>1.437475</td>\n",
       "      <td>2012</td>\n",
       "      <td>t brady</td>\n",
       "      <td>tom brady</td>\n",
       "      <td>12.0</td>\n",
       "      <td>2000.0</td>\n",
       "      <td>2018.0</td>\n",
       "      <td>/players/B/BradTo00.htm</td>\n",
       "      <td>76.0</td>\n",
       "      <td>225.0</td>\n",
       "      <td>August 3, 1977</td>\n",
       "      <td>W</td>\n",
       "      <td>NaN</td>\n",
       "      <td>NaN</td>\n",
       "      <td>12.0</td>\n",
       "      <td>4728844.0</td>\n",
       "      <td>77.3</td>\n",
       "      <td>8.0</td>\n",
       "      <td>0.3815</td>\n",
       "      <td>12.0</td>\n",
       "    </tr>\n",
       "    <tr>\n",
       "      <th>1</th>\n",
       "      <td>P.Manning</td>\n",
       "      <td>DEN</td>\n",
       "      <td>qb</td>\n",
       "      <td>1805</td>\n",
       "      <td>32.8</td>\n",
       "      <td>37</td>\n",
       "      <td>2.222644</td>\n",
       "      <td>1.738123</td>\n",
       "      <td>1.722051</td>\n",
       "      <td>2012</td>\n",
       "      <td>p manning</td>\n",
       "      <td>peyton manning</td>\n",
       "      <td>14.0</td>\n",
       "      <td>1998.0</td>\n",
       "      <td>2015.0</td>\n",
       "      <td>/players/M/MannPe00.htm</td>\n",
       "      <td>77.0</td>\n",
       "      <td>230.0</td>\n",
       "      <td>March 24, 1976</td>\n",
       "      <td>W</td>\n",
       "      <td>NaN</td>\n",
       "      <td>NaN</td>\n",
       "      <td>13.0</td>\n",
       "      <td>2752056.0</td>\n",
       "      <td>81.9</td>\n",
       "      <td>5.6</td>\n",
       "      <td>0.5638</td>\n",
       "      <td>14.0</td>\n",
       "    </tr>\n",
       "  </tbody>\n",
       "</table>\n",
       "</div>"
      ],
      "text/plain": [
       "   Player_FO   Tm position  DYAR  DVOA  TD    z_DYAR    z_DVOA      z_TD  \\\n",
       "0    T.Brady  BOS       qb  2035  35.1  34  2.574492  1.846341  1.437475   \n",
       "1  P.Manning  DEN       qb  1805  32.8  37  2.222644  1.738123  1.722051   \n",
       "\n",
       "   year player_join          Player  level_1  start_year  end_year  \\\n",
       "0  2012     t brady       tom brady     12.0      2000.0    2018.0   \n",
       "1  2012   p manning  peyton manning     14.0      1998.0    2015.0   \n",
       "\n",
       "                       url  height  weight      birth_date race  salary  \\\n",
       "0  /players/B/BradTo00.htm    76.0   225.0  August 3, 1977    W     NaN   \n",
       "1  /players/M/MannPe00.htm    77.0   230.0  March 24, 1976    W     NaN   \n",
       "\n",
       "   standard_salary  Wins  total_population  metro_percent_white  \\\n",
       "0              NaN  12.0         4728844.0                 77.3   \n",
       "1              NaN  13.0         2752056.0                 81.9   \n",
       "\n",
       "   metro_percent_black  clinton_vote_lead  experience  \n",
       "0                  8.0             0.3815        12.0  \n",
       "1                  5.6             0.5638        14.0  "
      ]
     },
     "execution_count": 7,
     "metadata": {},
     "output_type": "execute_result"
    }
   ],
   "source": [
    "covariates_df = pd.read_csv('d:/data/sentiment_sports/covariates/nfl_player_covariates.tsv', sep='\\t')\n",
    "covariates_df.head(2)"
   ]
  },
  {
   "cell_type": "markdown",
   "metadata": {},
   "source": [
    "#### Also load all players so that we can get names for entity extraction"
   ]
  },
  {
   "cell_type": "code",
   "execution_count": 8,
   "metadata": {},
   "outputs": [],
   "source": [
    "demo_df = pd.read_csv('d:/data/sentiment_sports/covariates/nfl_players2010-2018.tsv', sep ='\\t', encoding = 'utf-8')\n",
    "demo_df['Player'] = demo_df['Player'].str.lower()"
   ]
  },
  {
   "cell_type": "markdown",
   "metadata": {},
   "source": [
    "### Instantiate sentiment analyzer\n",
    "For sentiment, I use a modified version of VADER. Many words have different sentiment in the sports world as compared to general usage (e.g. \"offensive\" is not a negative word in sports)."
   ]
  },
  {
   "cell_type": "code",
   "execution_count": 9,
   "metadata": {},
   "outputs": [],
   "source": [
    "sid = SentimentIntensityAnalyzer()\n",
    "stat_words = ['steal', 'steals', 'block', 'blocked', 'blocks', 'slam', 'charges', 'rejection', 'free', 'assists', 'win',\n",
    "              'championship', 'championships']\n",
    "neutral_words = ['offense', 'offensive', 'offensively', 'defense', 'defensive', 'defensively', 'defender',\n",
    "                 'injury', 'injured', 'strain', 'questionable', 'isolation', 'attack',\n",
    "                 'shoot', 'doubtful', 'play', 'plays', 'crazy', 'turnover', 'turnovers',\n",
    "                 'seriously', 'rob', 'freeman', 'hardy', 'threat', 'loss', 'losses', 'playing']\n",
    "bad_words = ['foul', 'vicious', 'ridiculous', 'motherfucking', 'mediocre', 'soft',\n",
    "             'garbage', 'delusional', 'slow', 'douchey', 'cheap', 'creepy']\n",
    "great_words = ['goat', 'nasty', 'prime', 'mvp', 'master', 'all-star']\n",
    "sid.lexicon.update({word:0.1 for word in stat_words})\n",
    "sid.lexicon.update({word:0 for word in neutral_words})\n",
    "sid.lexicon.update({word:-0.5 for word in bad_words})\n",
    "sid.lexicon.update({word:1 for word in great_words})"
   ]
  },
  {
   "cell_type": "code",
   "execution_count": 10,
   "metadata": {},
   "outputs": [],
   "source": [
    "city_mapping = {'ARI':'PHO', 'CAR':'CHO', 'GNB':'GB', 'JAX':'JAC', 'KAN':'KC', 'LACH':'LAC', 'LARM':'LAR',\n",
    "                'NE':'BOS', 'NWE':'BOS', 'NOR':'NOP', 'NO':'NOP', 'SD':'SDG','SFO':'SF', 'TAM':'TB',\n",
    "                'New England Patriots': 'BOS', 'Miami Dolphins': 'MIA', 'New York Jets': 'NYJ', 'Buffalo Bills': 'BUF',\n",
    "                'Baltimore Ravens': 'BAL', 'Cincinnati Bengals': 'CIN', 'Pittsburgh Steelers': 'PIT', 'Cleveland Browns': 'CLE',\n",
    "                'Houston Texans': 'HOU', 'Indianapolis Colts': 'IND', 'Tennessee Titans': 'TEN', 'Jacksonville Jaguars': 'JAC',\n",
    "                'Denver Broncos': 'DEN', 'San Diego Chargers': 'SDG', 'Oakland Raiders': 'OAK', 'Kansas City Chiefs': 'KC',\n",
    "                'Washington Redskins': 'WAS', 'New York Giants': 'NYG', 'Dallas Cowboys': 'DAL', 'Arizona Cardinals': 'PHO',\n",
    "                'Philadelphia Eagles': 'PHI', 'Green Bay Packers': 'GB', 'Minnesota Vikings': 'MIN',\n",
    "                'Chicago Bears': 'CHI', 'Detroit Lions': 'DET', 'Atlanta Falcons': 'ATL', 'Carolina Panthers': 'CHO',\n",
    "                'New Orleans Saints': 'NOP', 'Tampa Bay Buccaneers': 'TB', 'San Francisco 49ers': 'SF', 'Seattle Seahawks': 'SEA',\n",
    "                'St. Louis Rams': 'STL', 'Los Angeles Chargers': 'LAC', 'Los Angeles Rams': 'LAR' }"
   ]
  },
  {
   "cell_type": "markdown",
   "metadata": {},
   "source": [
    "#### Player names for entity recognition and fuzzy matching\n",
    "When extracting named entities, I had to be careful with some names that are common English words (e.g. \"Brown\"). As a shorter alternative to performing NER, I also sometimes simply extracted player names as keywords."
   ]
  },
  {
   "cell_type": "code",
   "execution_count": 11,
   "metadata": {},
   "outputs": [],
   "source": [
    "UNIQUE_NAMES = {x.replace('\\\\', '') for x in set(demo_df.Player.unique())}\n",
    "UNIQUE_NAMES = UNIQUE_NAMES.union(set(coaches_race_df.iloc[:,0].str.lower()))"
   ]
  },
  {
   "cell_type": "code",
   "execution_count": 12,
   "metadata": {},
   "outputs": [],
   "source": [
    "NAMED_ENTITIES = set(' '.join(UNIQUE_NAMES).split()).union({'rg3', 'obj', 'saquads', 'cantguardmike', 'tractorcito', 'bmarsh',\n",
    "                                                            'berman', 'coughlin', 'dungy', 'mcdaniels', 'spanos', 'gronk', 'bledsoe', 'garopolo'})\n",
    "NAMED_ENTITIES = NAMED_ENTITIES.union(non_players_set)\n",
    "# some players have common word names; don't want to detect those as entities when lowercase, but do want to when uppercase\n",
    "UPPER_ENTITIES = {'Ah', 'Black', 'Ball', 'Battle', 'Bell', 'Best', 'Blue', 'Board', 'Brown', 'Buddy', 'Burden',\n",
    "                  'Case', 'Chance', 'Choice', 'City', 'Cook', 'Dare', 'Day', 'Early',\n",
    "                  'Fish', 'Free', 'Grant', 'Good', 'Hand', 'Heard', 'Hill', 'Hope', 'Hurt', 'House', 'Holiday', 'Key',\n",
    "                  'Little', 'Guy', 'Long', 'Love', 'Light', 'Line', 'Luck', 'Major', 'Means', 'New', \n",
    "                  'Pace', 'Person', 'Petty','Pool', 'Price','Rob', 'Rose', 'Red', 'Rock', 'Rush',\n",
    "                  'Savage', 'Season', 'Short', 'Shorts', 'Strong', 'Small', 'Smart', 'Star', 'Stone', 'Story', \n",
    "                  'Temple', 'Tuck', 'Wall', 'Wear', 'Weeks', 'White', 'Will', 'Way', 'West', 'Wise', 'Young', 'Gay' }\n",
    "NAMED_ENTITIES = NAMED_ENTITIES - {'a', 'g', 'ah', 'you', 'has', 'good', 'still'} - {name.lower() for name in UPPER_ENTITIES}\n",
    "# remove periods for some names\n",
    "table = str.maketrans({key: None for key in string.punctuation})\n",
    "NOPUNCT_ENTITIES = {name.translate(table) for name in NAMED_ENTITIES}\n",
    "NAMED_ENTITIES = NAMED_ENTITIES.union(NOPUNCT_ENTITIES)"
   ]
  },
  {
   "cell_type": "code",
   "execution_count": 13,
   "metadata": {},
   "outputs": [],
   "source": [
    "text_col = 'sentences'\n",
    "def create_month_df(data_loc):\n",
    "    return ss.create_sentiment_df(data_loc, sid.polarity_scores, ner_set=NAMED_ENTITIES,\n",
    "                                  non_players_set=non_players_set, UPPER_NAMES = UPPER_ENTITIES, TEXT_COL = text_col)[1]"
   ]
  },
  {
   "cell_type": "markdown",
   "metadata": {},
   "source": [
    "## Calculate sentiment \n",
    "### Reddit sentiment for 2017-18 season\n",
    "I created a module, `sentiment_sports` to calculate the sentiment of comments. This function performs a few things:\n",
    "1. Separates comments into sentences\n",
    "2. Performs Named entity recognition using either NLTK, or using pre-existing list of entities\n",
    "3. Calculates sentiment using VADER with a modified lexicon"
   ]
  },
  {
   "cell_type": "code",
   "execution_count": null,
   "metadata": {},
   "outputs": [],
   "source": [
    "%%time\n",
    "file_stub = 'd:/data/sentiment_sports/nfl_reddit_comments/{}-comments_submissions.tsv'\n",
    "year_dfs = [create_month_df(file_stub.format(year)) for year in [201709, 201710, 201711, 201712, 201801, 201802]]\n",
    "nfl2017_df = pd.concat(year_dfs)\n",
    "nfl2017_df.shape"
   ]
  },
  {
   "cell_type": "code",
   "execution_count": 35,
   "metadata": {},
   "outputs": [
    {
     "name": "stdout",
     "output_type": "stream",
     "text": [
      "Fuzzy matching player names\n",
      "Wall time: 28min 48s\n"
     ]
    }
   ],
   "source": [
    "%%time\n",
    "# 27 minutes with 8 cores\n",
    "nfl2017_df = ss.fuzzy_match_players(nfl2017_df, UNIQUE_NAMES, num_workers=5)"
   ]
  },
  {
   "cell_type": "raw",
   "metadata": {},
   "source": [
    "nfl2017_df.to_csv('d:/data/sentiment_sports/nfl2017_ner_sentiment.tsv', sep='\\t',\n",
    "               index=False, encoding = 'utf-8')"
   ]
  },
  {
   "cell_type": "markdown",
   "metadata": {},
   "source": [
    "#### 2016-2017 season"
   ]
  },
  {
   "cell_type": "code",
   "execution_count": null,
   "metadata": {},
   "outputs": [],
   "source": [
    "%%time\n",
    "file_stub = 'd:/data/sentiment_sports/nfl_reddit_comments/{}-comments_submissions.tsv'\n",
    "year_dfs = [create_month_df(file_stub.format(year)) for year in [201609, 201610, 201611, 201612, 201701, 201702]]\n",
    "nfl2016_df = pd.concat(year_dfs)\n",
    "nfl2016_df.shape"
   ]
  },
  {
   "cell_type": "code",
   "execution_count": 15,
   "metadata": {},
   "outputs": [
    {
     "name": "stdout",
     "output_type": "stream",
     "text": [
      "Fuzzy matching player names\n",
      "Wall time: 22min 50s\n"
     ]
    }
   ],
   "source": [
    "%%time\n",
    "# 27 minutes with 8 cores\n",
    "nfl2016_df = ss.fuzzy_match_players(nfl2016_df, UNIQUE_NAMES)"
   ]
  },
  {
   "cell_type": "code",
   "execution_count": 68,
   "metadata": {},
   "outputs": [],
   "source": [
    "nfl2016_df.to_csv('d:/data/sentiment_sports/nfl2016_ner_sentiment.tsv', sep='\\t',\n",
    "               index=False, encoding = 'utf-8')"
   ]
  },
  {
   "cell_type": "markdown",
   "metadata": {},
   "source": [
    "#### 2015-2016 season"
   ]
  },
  {
   "cell_type": "code",
   "execution_count": null,
   "metadata": {},
   "outputs": [],
   "source": [
    "%%time\n",
    "file_stub = 'd:/data/sentiment_sports/nfl_reddit_comments/{}-comments_submissions.tsv'\n",
    "year_dfs = [create_month_df(file_stub.format(year)) for year in [201509, 201510, 201511, 201512, 201601, 201602]]\n",
    "nfl2015_df = pd.concat(year_dfs)\n",
    "nfl2015_df.shape"
   ]
  },
  {
   "cell_type": "code",
   "execution_count": 18,
   "metadata": {},
   "outputs": [
    {
     "name": "stdout",
     "output_type": "stream",
     "text": [
      "Fuzzy matching player names\n",
      "Wall time: 23min 9s\n"
     ]
    }
   ],
   "source": [
    "%%time\n",
    "# 27 minutes with 8 cores\n",
    "nfl2015_df = ss.fuzzy_match_players(nfl2015_df, UNIQUE_NAMES)"
   ]
  },
  {
   "cell_type": "code",
   "execution_count": 71,
   "metadata": {},
   "outputs": [],
   "source": [
    "nfl2015_df.to_csv('d:/data/sentiment_sports/nfl2015_ner_sentiment.tsv', sep='\\t',\n",
    "               index=False, encoding = 'utf-8')"
   ]
  },
  {
   "cell_type": "markdown",
   "metadata": {},
   "source": [
    "#### 2014-2015 season"
   ]
  },
  {
   "cell_type": "code",
   "execution_count": null,
   "metadata": {},
   "outputs": [],
   "source": [
    "%%time\n",
    "file_stub = 'd:/data/sentiment_sports/nfl_reddit_comments/{}-comments_submissions.tsv'\n",
    "year_dfs = [create_month_df(file_stub.format(year)) for year in [201409, 201410, 201411, 201412, 201502]]\n",
    "nfl2014_df = pd.concat(year_dfs)\n",
    "nfl2014_df.shape"
   ]
  },
  {
   "cell_type": "code",
   "execution_count": 18,
   "metadata": {},
   "outputs": [
    {
     "name": "stdout",
     "output_type": "stream",
     "text": [
      "Fuzzy matching player names\n",
      "Wall time: 18min 38s\n"
     ]
    }
   ],
   "source": [
    "%%time\n",
    "# 27 minutes with 8 cores\n",
    "nfl2014_df = ss.fuzzy_match_players(nfl2014_df, UNIQUE_NAMES)"
   ]
  },
  {
   "cell_type": "code",
   "execution_count": 16,
   "metadata": {},
   "outputs": [],
   "source": [
    "nfl2014_df.to_csv('d:/data/sentiment_sports/nfl2014_ner_sentiment.tsv', sep='\\t',\n",
    "               index=False, encoding = 'utf-8')"
   ]
  },
  {
   "cell_type": "markdown",
   "metadata": {},
   "source": [
    "#### 2013-2014 season"
   ]
  },
  {
   "cell_type": "code",
   "execution_count": null,
   "metadata": {},
   "outputs": [],
   "source": [
    "%%time\n",
    "file_stub = 'd:/data/sentiment_sports/nfl_reddit_comments/{}-comments_submissions.tsv'\n",
    "year_dfs = [create_month_df(file_stub.format(year)) for year in [201309, 201310, 201311, 201312, 201401, 201402]]\n",
    "nfl2013_df = pd.concat(year_dfs)\n",
    "nfl2013_df.shape"
   ]
  },
  {
   "cell_type": "code",
   "execution_count": 48,
   "metadata": {},
   "outputs": [
    {
     "name": "stdout",
     "output_type": "stream",
     "text": [
      "Fuzzy matching player names\n",
      "Wall time: 19min 45s\n"
     ]
    }
   ],
   "source": [
    "%%time\n",
    "# 27 minutes with 8 cores\n",
    "nfl2013_df = ss.fuzzy_match_players(nfl2013_df, UNIQUE_NAMES)"
   ]
  },
  {
   "cell_type": "code",
   "execution_count": 49,
   "metadata": {},
   "outputs": [],
   "source": [
    "nfl2013_df.to_csv('d:/data/sentiment_sports/nfl2013_ner_sentiment.tsv', sep='\\t',\n",
    "               index=False, encoding = 'utf-8')"
   ]
  },
  {
   "cell_type": "markdown",
   "metadata": {},
   "source": [
    "### Load comment sentiment"
   ]
  },
  {
   "cell_type": "code",
   "execution_count": 14,
   "metadata": {},
   "outputs": [
    {
     "name": "stderr",
     "output_type": "stream",
     "text": [
      "<string>:2: DtypeWarning: Columns (1,2,4) have mixed types. Specify dtype option on import or set low_memory=False.\n"
     ]
    },
    {
     "name": "stdout",
     "output_type": "stream",
     "text": [
      "Wall time: 39.5 s\n"
     ]
    }
   ],
   "source": [
    "%%time\n",
    "nfl2013_df = pd.read_csv('d:/data/sentiment_sports/nfl2013_ner_sentiment.tsv',sep='\\t', encoding = 'utf-8')\n",
    "nfl2013_df['named_entities'] = nfl2013_df['named_entities'].apply(literal_eval)\n",
    "nfl2014_df = pd.read_csv('d:/data/sentiment_sports/nfl2014_ner_sentiment.tsv',sep='\\t', encoding = 'utf-8')\n",
    "nfl2014_df['named_entities'] = nfl2014_df['named_entities'].apply(literal_eval)\n",
    "nfl2015_df = pd.read_csv('d:/data/sentiment_sports/nfl2015_ner_sentiment.tsv',sep='\\t', encoding = 'utf-8')\n",
    "nfl2015_df['named_entities'] = nfl2015_df['named_entities'].apply(literal_eval)\n",
    "nfl2016_df = pd.read_csv('d:/data/sentiment_sports/nfl2016_ner_sentiment.tsv',sep='\\t', encoding = 'utf-8')\n",
    "nfl2016_df['named_entities'] = nfl2016_df['named_entities'].apply(literal_eval)\n",
    "nfl2017_df = pd.read_csv('d:/data/sentiment_sports/nfl2017_ner_sentiment.tsv',sep='\\t', encoding = 'utf-8')\n",
    "nfl2017_df['named_entities'] = nfl2017_df['named_entities'].apply(literal_eval)"
   ]
  },
  {
   "cell_type": "code",
   "execution_count": 15,
   "metadata": {},
   "outputs": [],
   "source": [
    "nfl2013_df['year'] = 2013\n",
    "nfl2014_df['year'] = 2014\n",
    "nfl2015_df['year'] = 2015\n",
    "nfl2016_df['year'] = 2016\n",
    "nfl2017_df['year'] = 2017"
   ]
  },
  {
   "cell_type": "code",
   "execution_count": 16,
   "metadata": {},
   "outputs": [
    {
     "name": "stderr",
     "output_type": "stream",
     "text": [
      "C:\\Users\\map22\\Anaconda3\\lib\\site-packages\\ipykernel_launcher.py:1: FutureWarning: Sorting because non-concatenation axis is not aligned. A future version\n",
      "of pandas will change to not sort by default.\n",
      "\n",
      "To accept the future behavior, pass 'sort=False'.\n",
      "\n",
      "To retain the current behavior and silence the warning, pass 'sort=True'.\n",
      "\n",
      "  \"\"\"Entry point for launching an IPython kernel.\n"
     ]
    }
   ],
   "source": [
    "nfl_df = pd.concat([nfl2013_df, nfl2014_df, nfl2015_df, nfl2016_df, nfl2017_df])"
   ]
  },
  {
   "cell_type": "markdown",
   "metadata": {},
   "source": [
    "#### Cleaning up name matches\n",
    "Some extracted name entities don't have a clear match (e.g. \"Rivers\" could be Austin Rivers or Doc Rivers). Here we clean those out"
   ]
  },
  {
   "cell_type": "code",
   "execution_count": 17,
   "metadata": {},
   "outputs": [],
   "source": [
    "name_map = {name:'unclear' for name in ['rivers', 'bird', 'brady moss']}\n",
    "name_map.update({'barr':'anthony barr', 'bmarsh':'brandon marshall', 'brady': 'tom brady', 'carr':'derek carr', \n",
    "                 'carson': 'carson palmer', 'clowney': 'jadeveon clowney', 'cousins': 'kirk cousins', 'crabtree':'michael crabtree', \n",
    "                'dak':'dak prescott', 'dalton':'andy dalton', 'dez': 'dez bryant', 'eli': 'eli manning', 'ertz':'zach ertz', 'freeman':'devonta freeman',\n",
    "                 'goff':'jared goff', 'gore':'frank gore', 'gronk':'rob gronkowski', 'gurley':'todd gurley',\n",
    "                 'ingram': 'mark ingram', 'jj': 'j.j. watt', 'kamara':'alvin kamara', 'kelce': 'travis kelce',\n",
    "                 'landry': 'jarvis landry', 'mccarron':'aj mccarron', 'obj': 'odell beckham',\n",
    "                 'peyton':'peyton manning', 'peterman':'nathan peterman', 'pryor':'terrelle pryor',\n",
    "                 'rodgers':'aaron rodgers', 'stafford':'matthew stafford', 'saquads': 'saquon barkley', 'tractorcito': 'derrick henry',\n",
    "                'vick': 'michael vick', 'watt':'j.j. watt', 'rg3':'robert griffin'})"
   ]
  },
  {
   "cell_type": "code",
   "execution_count": 18,
   "metadata": {},
   "outputs": [
    {
     "name": "stdout",
     "output_type": "stream",
     "text": [
      "Wall time: 54.3 s\n"
     ]
    }
   ],
   "source": [
    "%%time\n",
    "nfl_df['fuzzy_name'] = nfl_df.apply(lambda row: name_map[row['str_entities']] if row['str_entities'] in name_map else row['fuzzy_name'], axis=1)"
   ]
  },
  {
   "cell_type": "markdown",
   "metadata": {},
   "source": [
    "Remove players whose names have implicit sentiment"
   ]
  },
  {
   "cell_type": "code",
   "execution_count": 19,
   "metadata": {},
   "outputs": [],
   "source": [
    "senti_players = ['maurice hurt', 'chris hope', 'tom savage', 'chandler burden', 'bryce petty',\n",
    "                 'andrew luck', 'lucky whitehead', 'jahvid best', 'champ bailey']\n",
    "nfl_df = nfl_df[nfl_df['fuzzy_name'].apply(lambda row: row not in senti_players)]"
   ]
  },
  {
   "cell_type": "markdown",
   "metadata": {},
   "source": [
    "#### Query to investigate non-mappings"
   ]
  },
  {
   "cell_type": "raw",
   "metadata": {},
   "source": [
    "nfl_df.merge(pd.DataFrame(nfl_df.str_entities.value_counts().head(500).index, columns = ['str_entities']), on='str_entities').query('fuzzy_name == \"unclear\" and str_entities != \"you\"').sample(50)"
   ]
  },
  {
   "cell_type": "raw",
   "metadata": {},
   "source": [
    "ss.extract_known_ner(nfl2017_df[nfl2017_df.sentences == \"thanks josh mcdaniels.\"], NAMED_ENTITIES)"
   ]
  },
  {
   "cell_type": "raw",
   "metadata": {},
   "source": [
    "import importlib\n",
    "importlib.reload(ss)\n",
    "ss.clean_entities(nfl2017_df[nfl2017_df.sentences == \"jags would have a worse record under eli than they do right now.\"])"
   ]
  },
  {
   "cell_type": "markdown",
   "metadata": {},
   "source": [
    "#### Combine seasons into a single dataframe"
   ]
  },
  {
   "cell_type": "code",
   "execution_count": 20,
   "metadata": {},
   "outputs": [
    {
     "data": {
      "text/plain": [
       "(1238563, 20)"
      ]
     },
     "execution_count": 20,
     "metadata": {},
     "output_type": "execute_result"
    }
   ],
   "source": [
    "match_df = nfl_df.query('fuzzy_name != \"unclear\"')\n",
    "match_df.shape"
   ]
  },
  {
   "cell_type": "markdown",
   "metadata": {},
   "source": [
    "### User-level metrics"
   ]
  },
  {
   "cell_type": "code",
   "execution_count": 23,
   "metadata": {},
   "outputs": [],
   "source": [
    "user_df = match_df.groupby('user').agg({'score':['sum', 'count', 'mean']}).fillna(0)\n",
    "user_df.columns = ['user_total_score', 'user_total_comments', 'user_mean_score']"
   ]
  },
  {
   "cell_type": "markdown",
   "metadata": {},
   "source": [
    "#### First calculate the average sentiment for each player from each user"
   ]
  },
  {
   "cell_type": "code",
   "execution_count": 24,
   "metadata": {},
   "outputs": [
    {
     "data": {
      "text/html": [
       "<div>\n",
       "<style scoped>\n",
       "    .dataframe tbody tr th:only-of-type {\n",
       "        vertical-align: middle;\n",
       "    }\n",
       "\n",
       "    .dataframe tbody tr th {\n",
       "        vertical-align: top;\n",
       "    }\n",
       "\n",
       "    .dataframe thead th {\n",
       "        text-align: right;\n",
       "    }\n",
       "</style>\n",
       "<table border=\"1\" class=\"dataframe\">\n",
       "  <thead>\n",
       "    <tr style=\"text-align: right;\">\n",
       "      <th></th>\n",
       "      <th>fuzzy_name</th>\n",
       "      <th>user</th>\n",
       "      <th>year</th>\n",
       "      <th>flair</th>\n",
       "      <th>compound_mean</th>\n",
       "      <th>compound_std</th>\n",
       "      <th>comment_count</th>\n",
       "    </tr>\n",
       "  </thead>\n",
       "  <tbody>\n",
       "    <tr>\n",
       "      <th>0</th>\n",
       "      <td>a'shawn robinson</td>\n",
       "      <td>AshytooClassy</td>\n",
       "      <td>2017</td>\n",
       "      <td>Lions</td>\n",
       "      <td>0.0</td>\n",
       "      <td>NaN</td>\n",
       "      <td>1</td>\n",
       "    </tr>\n",
       "  </tbody>\n",
       "</table>\n",
       "</div>"
      ],
      "text/plain": [
       "         fuzzy_name           user  year  flair  compound_mean  compound_std  \\\n",
       "0  a'shawn robinson  AshytooClassy  2017  Lions            0.0           NaN   \n",
       "\n",
       "   comment_count  \n",
       "0              1  "
      ]
     },
     "execution_count": 24,
     "metadata": {},
     "output_type": "execute_result"
    }
   ],
   "source": [
    "user_player_sentiment_df = (match_df.groupby(['fuzzy_name', 'user', 'year', 'flair'])\n",
    "                                    .agg({'compound':['mean', 'std', 'count']})\n",
    "                                    .reset_index())\n",
    "user_player_sentiment_df.columns = ['fuzzy_name', 'user', 'year', 'flair', 'compound_mean', 'compound_std', 'comment_count']\n",
    "user_player_sentiment_df.head(1)"
   ]
  },
  {
   "cell_type": "markdown",
   "metadata": {},
   "source": [
    "#### Match user flairs to teams"
   ]
  },
  {
   "cell_type": "code",
   "execution_count": 25,
   "metadata": {},
   "outputs": [],
   "source": [
    "city_mapping.update({'Falcons':'ATL', 'Ravens':'BAL', 'Patriots':'BOS', \n",
    "                     'Panthers':'CHO', 'Browns':'CLE', 'Bears':'CHI',\n",
    "                'Cowboys':'DAL', 'Broncos':'DEN', 'Lions':'DET', \n",
    "                'Lakers':'LAL', 'Rams':'LAR', \n",
    "              'Giants':'NYG',  'Jets':'NYJ', 'Texans':'HOU',\n",
    "              'Vikings':'MIN', 'Dolphins':'MIA',\n",
    "              'Eagles':'PHI', 'Cardinals':'PHO', \n",
    "              'Colts':'IND','Redskins':'WAS', \n",
    "              'Saints':'NOP', 'Titans':'TEN', \n",
    "              'Packers':'GB', 'Seahawks':'SEA', 'Steelers':'PIT','Raiders':'OAK',\n",
    "                'Chiefs':'KC','Bills':'BUF', 'Jaguars':'JAC', '49ers':'SF',\n",
    "                'Chargers':'LAC', 'Bengals':'CIN', 'Buccaneers':'TB'})\n",
    "def get_flair(flair_string, flair_dict, flair_regex):\n",
    "    ''' Match flairs that are team name, or have team abbreviation within brackets'''\n",
    "    if flair_string in flair_dict:\n",
    "        return flair_dict[flair_string]\n",
    "    elif re.match(flair_regex, flair_string):\n",
    "        return re.search(flair_regex, flair_string).groups(1)[0]\n",
    "    return 'no_team'\n",
    "flair_regex = '^\\[(\\w{3})\\]'\n",
    "user_player_sentiment_df['user_Tm'] = user_player_sentiment_df['flair'].apply(lambda row: get_flair(row, city_mapping, flair_regex))"
   ]
  },
  {
   "cell_type": "code",
   "execution_count": 26,
   "metadata": {},
   "outputs": [],
   "source": [
    "city_df = pd.read_csv('d:/data/sentiment_sports/covariates/sports_metro_demographics.csv').drop(columns = ['census_Id', 'census_Id2', 'Geography'])\n",
    "vote_df = pd.read_csv('d:/data/sentiment_sports/covariates/msa_votes.tsv', sep='\\t')[['per_point_diff', 'Tm']].rename(columns={'per_point_diff':'clinton_vote_lead'})"
   ]
  },
  {
   "cell_type": "code",
   "execution_count": 27,
   "metadata": {},
   "outputs": [],
   "source": [
    "user_player_regression_df = (user_player_sentiment_df.rename(columns = {'fuzzy_name':'Player'})\n",
    "                         .merge(covariates_df, on = ['Player', 'year'], how = 'left')\n",
    "                         .merge(user_df, on='user', how='left'))\n",
    "user_player_regression_df['team_match'] = user_player_regression_df['Tm'] == user_player_regression_df['user_Tm']\n",
    "user_player_regression_df = (user_player_regression_df.drop(columns = ['metro_percent_white', 'metro_percent_black', 'clinton_vote_lead', 'total_population'])\n",
    "                                    .merge(vote_df.rename(columns = {'Tm':'user_Tm'}), on='user_Tm', how='left')\n",
    "                                    .merge(city_df.rename(columns = {'Tm':'user_Tm'}), on='user_Tm', how='left'))\n",
    "user_player_regression_df['youth'] = (user_player_regression_df['experience'].mean() - user_player_regression_df['experience']).clip(0)\n",
    "user_player_regression_df['oldness'] = (user_player_regression_df['experience'] - user_player_regression_df['experience'].mean()).clip(0)\n",
    "user_player_regression_df['rookie'] = user_player_regression_df['experience'] <=4\n",
    "user_player_regression_df['white_black_diff'] = user_player_regression_df['metro_percent_white'] - user_player_regression_df['metro_percent_black']\n",
    "user_player_regression_df['height_dummies'] = pd.cut(user_player_regression_df['height'], [0, 72, 100], labels = ['short', 'tall'])\n",
    "user_player_regression_df['standard_salary'] = user_player_regression_df['standard_salary'].fillna(user_player_regression_df['standard_salary'].mean())"
   ]
  },
  {
   "cell_type": "code",
   "execution_count": 28,
   "metadata": {},
   "outputs": [],
   "source": [
    "user_player_regression_df.to_csv('d:/data/sentiment_sports/nfl_user_player_sentiment.tsv', sep='\\t', index=False)\n",
    "#user_player_regression_df = pd.read_csv('d:/data/sentiment_sports/nfl_user_player_sentiment.tsv', sep='\\t')"
   ]
  },
  {
   "cell_type": "markdown",
   "metadata": {},
   "source": [
    "#### Then calculate the average sentiment to players across all users"
   ]
  },
  {
   "cell_type": "code",
   "execution_count": 30,
   "metadata": {},
   "outputs": [],
   "source": [
    "player_sentiment_df = (user_player_sentiment_df.query('compound_mean != 0')\n",
    "                                               .groupby(['fuzzy_name', 'year'])\n",
    "                                               .agg({'compound_mean':['mean', 'std', 'count']})\n",
    "                                               .reset_index() )\n",
    "player_sentiment_df.columns = ['fuzzy_name', 'year', 'compound_mean_mean', 'compound_mean_std', 'user_count']"
   ]
  },
  {
   "cell_type": "markdown",
   "metadata": {},
   "source": [
    "### Exploration of sentiment alone\n",
    "Plot of player popularity (number of users who comment on them), versus sentiment"
   ]
  },
  {
   "cell_type": "code",
   "execution_count": 94,
   "metadata": {},
   "outputs": [
    {
     "data": {
      "text/plain": [
       "Text(0,0.5,'Mean sentiment')"
      ]
     },
     "execution_count": 94,
     "metadata": {},
     "output_type": "execute_result"
    },
    {
     "data": {
      "image/png": "[encoded data removed]",
      "text/plain": [
       "<Figure size 432x288 with 1 Axes>"
      ]
     },
     "metadata": {
      "needs_background": "light"
     },
     "output_type": "display_data"
    }
   ],
   "source": [
    "player_sentiment_df.query('user_count> 100').plot('user_count', 'compound_mean_mean', kind='scatter', alpha = 0.5)\n",
    "#plt.plot([100, 100], [-0.1, 0.3])\n",
    "plt.xlabel('# of users who comment on a player')\n",
    "plt.ylabel('Mean sentiment')"
   ]
  },
  {
   "cell_type": "markdown",
   "metadata": {},
   "source": [
    "#### Most commented players"
   ]
  },
  {
   "cell_type": "code",
   "execution_count": 95,
   "metadata": {},
   "outputs": [
    {
     "data": {
      "text/html": [
       "<div>\n",
       "<style scoped>\n",
       "    .dataframe tbody tr th:only-of-type {\n",
       "        vertical-align: middle;\n",
       "    }\n",
       "\n",
       "    .dataframe tbody tr th {\n",
       "        vertical-align: top;\n",
       "    }\n",
       "\n",
       "    .dataframe thead th {\n",
       "        text-align: right;\n",
       "    }\n",
       "</style>\n",
       "<table border=\"1\" class=\"dataframe\">\n",
       "  <thead>\n",
       "    <tr style=\"text-align: right;\">\n",
       "      <th></th>\n",
       "      <th>fuzzy_name</th>\n",
       "      <th>year</th>\n",
       "      <th>compound_mean_mean</th>\n",
       "      <th>compound_mean_std</th>\n",
       "      <th>user_count</th>\n",
       "    </tr>\n",
       "  </thead>\n",
       "  <tbody>\n",
       "    <tr>\n",
       "      <th>8215</th>\n",
       "      <td>tom brady</td>\n",
       "      <td>2017</td>\n",
       "      <td>0.085859</td>\n",
       "      <td>0.382076</td>\n",
       "      <td>5273</td>\n",
       "    </tr>\n",
       "    <tr>\n",
       "      <th>8214</th>\n",
       "      <td>tom brady</td>\n",
       "      <td>2016</td>\n",
       "      <td>0.095046</td>\n",
       "      <td>0.381020</td>\n",
       "      <td>4965</td>\n",
       "    </tr>\n",
       "    <tr>\n",
       "      <th>8213</th>\n",
       "      <td>tom brady</td>\n",
       "      <td>2015</td>\n",
       "      <td>0.079699</td>\n",
       "      <td>0.382783</td>\n",
       "      <td>4152</td>\n",
       "    </tr>\n",
       "    <tr>\n",
       "      <th>6770</th>\n",
       "      <td>peyton manning</td>\n",
       "      <td>2015</td>\n",
       "      <td>0.070516</td>\n",
       "      <td>0.391246</td>\n",
       "      <td>2884</td>\n",
       "    </tr>\n",
       "    <tr>\n",
       "      <th>63</th>\n",
       "      <td>aaron rodgers</td>\n",
       "      <td>2016</td>\n",
       "      <td>0.078407</td>\n",
       "      <td>0.396450</td>\n",
       "      <td>2674</td>\n",
       "    </tr>\n",
       "  </tbody>\n",
       "</table>\n",
       "</div>"
      ],
      "text/plain": [
       "          fuzzy_name  year  compound_mean_mean  compound_mean_std  user_count\n",
       "8215       tom brady  2017            0.085859           0.382076        5273\n",
       "8214       tom brady  2016            0.095046           0.381020        4965\n",
       "8213       tom brady  2015            0.079699           0.382783        4152\n",
       "6770  peyton manning  2015            0.070516           0.391246        2884\n",
       "63     aaron rodgers  2016            0.078407           0.396450        2674"
      ]
     },
     "execution_count": 95,
     "metadata": {},
     "output_type": "execute_result"
    }
   ],
   "source": [
    "player_sentiment_df.sort_values('user_count', ascending=False).head()"
   ]
  },
  {
   "cell_type": "markdown",
   "metadata": {},
   "source": [
    "#### Players with lowest sentiment"
   ]
  },
  {
   "cell_type": "code",
   "execution_count": 96,
   "metadata": {},
   "outputs": [
    {
     "data": {
      "text/html": [
       "<div>\n",
       "<style scoped>\n",
       "    .dataframe tbody tr th:only-of-type {\n",
       "        vertical-align: middle;\n",
       "    }\n",
       "\n",
       "    .dataframe tbody tr th {\n",
       "        vertical-align: top;\n",
       "    }\n",
       "\n",
       "    .dataframe thead th {\n",
       "        text-align: right;\n",
       "    }\n",
       "</style>\n",
       "<table border=\"1\" class=\"dataframe\">\n",
       "  <thead>\n",
       "    <tr style=\"text-align: right;\">\n",
       "      <th></th>\n",
       "      <th>fuzzy_name</th>\n",
       "      <th>year</th>\n",
       "      <th>compound_mean_mean</th>\n",
       "      <th>compound_mean_std</th>\n",
       "      <th>user_count</th>\n",
       "    </tr>\n",
       "  </thead>\n",
       "  <tbody>\n",
       "    <tr>\n",
       "      <th>3391</th>\n",
       "      <td>gregg williams</td>\n",
       "      <td>2017</td>\n",
       "      <td>-0.292426</td>\n",
       "      <td>0.401353</td>\n",
       "      <td>212</td>\n",
       "    </tr>\n",
       "    <tr>\n",
       "      <th>6095</th>\n",
       "      <td>michael bennett</td>\n",
       "      <td>2017</td>\n",
       "      <td>-0.246168</td>\n",
       "      <td>0.432726</td>\n",
       "      <td>166</td>\n",
       "    </tr>\n",
       "    <tr>\n",
       "      <th>3390</th>\n",
       "      <td>gregg williams</td>\n",
       "      <td>2016</td>\n",
       "      <td>-0.229989</td>\n",
       "      <td>0.425208</td>\n",
       "      <td>131</td>\n",
       "    </tr>\n",
       "    <tr>\n",
       "      <th>2157</th>\n",
       "      <td>danny trevathan</td>\n",
       "      <td>2017</td>\n",
       "      <td>-0.152300</td>\n",
       "      <td>0.452943</td>\n",
       "      <td>121</td>\n",
       "    </tr>\n",
       "    <tr>\n",
       "      <th>8634</th>\n",
       "      <td>vontaze burfict</td>\n",
       "      <td>2015</td>\n",
       "      <td>-0.148928</td>\n",
       "      <td>0.418612</td>\n",
       "      <td>627</td>\n",
       "    </tr>\n",
       "  </tbody>\n",
       "</table>\n",
       "</div>"
      ],
      "text/plain": [
       "           fuzzy_name  year  compound_mean_mean  compound_mean_std  user_count\n",
       "3391   gregg williams  2017           -0.292426           0.401353         212\n",
       "6095  michael bennett  2017           -0.246168           0.432726         166\n",
       "3390   gregg williams  2016           -0.229989           0.425208         131\n",
       "2157  danny trevathan  2017           -0.152300           0.452943         121\n",
       "8634  vontaze burfict  2015           -0.148928           0.418612         627"
      ]
     },
     "execution_count": 96,
     "metadata": {},
     "output_type": "execute_result"
    }
   ],
   "source": [
    "player_sentiment_df.query('user_count > 100').sort_values('compound_mean_mean').head()"
   ]
  },
  {
   "cell_type": "markdown",
   "metadata": {},
   "source": [
    "#### Players with highest sentiment"
   ]
  },
  {
   "cell_type": "code",
   "execution_count": 97,
   "metadata": {},
   "outputs": [
    {
     "data": {
      "text/html": [
       "<div>\n",
       "<style scoped>\n",
       "    .dataframe tbody tr th:only-of-type {\n",
       "        vertical-align: middle;\n",
       "    }\n",
       "\n",
       "    .dataframe tbody tr th {\n",
       "        vertical-align: top;\n",
       "    }\n",
       "\n",
       "    .dataframe thead th {\n",
       "        text-align: right;\n",
       "    }\n",
       "</style>\n",
       "<table border=\"1\" class=\"dataframe\">\n",
       "  <thead>\n",
       "    <tr style=\"text-align: right;\">\n",
       "      <th></th>\n",
       "      <th>fuzzy_name</th>\n",
       "      <th>year</th>\n",
       "      <th>compound_mean_mean</th>\n",
       "      <th>compound_mean_std</th>\n",
       "      <th>user_count</th>\n",
       "    </tr>\n",
       "  </thead>\n",
       "  <tbody>\n",
       "    <tr>\n",
       "      <th>7006</th>\n",
       "      <td>reggie corner</td>\n",
       "      <td>2016</td>\n",
       "      <td>0.212758</td>\n",
       "      <td>0.432695</td>\n",
       "      <td>898</td>\n",
       "    </tr>\n",
       "    <tr>\n",
       "      <th>3559</th>\n",
       "      <td>j.j. watt</td>\n",
       "      <td>2016</td>\n",
       "      <td>0.215113</td>\n",
       "      <td>0.359252</td>\n",
       "      <td>1068</td>\n",
       "    </tr>\n",
       "    <tr>\n",
       "      <th>3560</th>\n",
       "      <td>j.j. watt</td>\n",
       "      <td>2017</td>\n",
       "      <td>0.217987</td>\n",
       "      <td>0.365602</td>\n",
       "      <td>840</td>\n",
       "    </tr>\n",
       "    <tr>\n",
       "      <th>2324</th>\n",
       "      <td>david johnson</td>\n",
       "      <td>2016</td>\n",
       "      <td>0.240712</td>\n",
       "      <td>0.417744</td>\n",
       "      <td>228</td>\n",
       "    </tr>\n",
       "    <tr>\n",
       "      <th>7567</th>\n",
       "      <td>sean mcvay</td>\n",
       "      <td>2017</td>\n",
       "      <td>0.280502</td>\n",
       "      <td>0.392170</td>\n",
       "      <td>267</td>\n",
       "    </tr>\n",
       "  </tbody>\n",
       "</table>\n",
       "</div>"
      ],
      "text/plain": [
       "         fuzzy_name  year  compound_mean_mean  compound_mean_std  user_count\n",
       "7006  reggie corner  2016            0.212758           0.432695         898\n",
       "3559      j.j. watt  2016            0.215113           0.359252        1068\n",
       "3560      j.j. watt  2017            0.217987           0.365602         840\n",
       "2324  david johnson  2016            0.240712           0.417744         228\n",
       "7567     sean mcvay  2017            0.280502           0.392170         267"
      ]
     },
     "execution_count": 97,
     "metadata": {},
     "output_type": "execute_result"
    }
   ],
   "source": [
    "player_sentiment_df.query('user_count > 200').sort_values('compound_mean_mean').tail(5)"
   ]
  },
  {
   "cell_type": "code",
   "execution_count": 98,
   "metadata": {},
   "outputs": [],
   "source": [
    "# temporary until I re-run sentiment scoring\n",
    "player_sentiment_df = player_sentiment_df.query('fuzzy_name != \"devonta freeman\"')"
   ]
  },
  {
   "cell_type": "markdown",
   "metadata": {},
   "source": [
    "#### Players with highest std of sentiment"
   ]
  },
  {
   "cell_type": "code",
   "execution_count": 99,
   "metadata": {},
   "outputs": [
    {
     "data": {
      "text/html": [
       "<div>\n",
       "<style scoped>\n",
       "    .dataframe tbody tr th:only-of-type {\n",
       "        vertical-align: middle;\n",
       "    }\n",
       "\n",
       "    .dataframe tbody tr th {\n",
       "        vertical-align: top;\n",
       "    }\n",
       "\n",
       "    .dataframe thead th {\n",
       "        text-align: right;\n",
       "    }\n",
       "</style>\n",
       "<table border=\"1\" class=\"dataframe\">\n",
       "  <thead>\n",
       "    <tr style=\"text-align: right;\">\n",
       "      <th></th>\n",
       "      <th>fuzzy_name</th>\n",
       "      <th>year</th>\n",
       "      <th>compound_mean_mean</th>\n",
       "      <th>compound_mean_std</th>\n",
       "      <th>user_count</th>\n",
       "    </tr>\n",
       "  </thead>\n",
       "  <tbody>\n",
       "    <tr>\n",
       "      <th>6980</th>\n",
       "      <td>ray lewis</td>\n",
       "      <td>2015</td>\n",
       "      <td>-0.066220</td>\n",
       "      <td>0.508156</td>\n",
       "      <td>230</td>\n",
       "    </tr>\n",
       "    <tr>\n",
       "      <th>3665</th>\n",
       "      <td>jake locker</td>\n",
       "      <td>2017</td>\n",
       "      <td>-0.022028</td>\n",
       "      <td>0.495409</td>\n",
       "      <td>823</td>\n",
       "    </tr>\n",
       "    <tr>\n",
       "      <th>3651</th>\n",
       "      <td>jake butt</td>\n",
       "      <td>2016</td>\n",
       "      <td>-0.072136</td>\n",
       "      <td>0.485159</td>\n",
       "      <td>350</td>\n",
       "    </tr>\n",
       "    <tr>\n",
       "      <th>3664</th>\n",
       "      <td>jake locker</td>\n",
       "      <td>2016</td>\n",
       "      <td>-0.013472</td>\n",
       "      <td>0.480238</td>\n",
       "      <td>663</td>\n",
       "    </tr>\n",
       "    <tr>\n",
       "      <th>5133</th>\n",
       "      <td>kevin boss</td>\n",
       "      <td>2017</td>\n",
       "      <td>0.016014</td>\n",
       "      <td>0.472658</td>\n",
       "      <td>406</td>\n",
       "    </tr>\n",
       "  </tbody>\n",
       "</table>\n",
       "</div>"
      ],
      "text/plain": [
       "       fuzzy_name  year  compound_mean_mean  compound_mean_std  user_count\n",
       "6980    ray lewis  2015           -0.066220           0.508156         230\n",
       "3665  jake locker  2017           -0.022028           0.495409         823\n",
       "3651    jake butt  2016           -0.072136           0.485159         350\n",
       "3664  jake locker  2016           -0.013472           0.480238         663\n",
       "5133   kevin boss  2017            0.016014           0.472658         406"
      ]
     },
     "execution_count": 99,
     "metadata": {},
     "output_type": "execute_result"
    }
   ],
   "source": [
    "player_sentiment_df.query('user_count > 200').sort_values('compound_mean_std').tail(5).iloc[::-1]"
   ]
  },
  {
   "cell_type": "markdown",
   "metadata": {},
   "source": [
    "#### Join player sentiment to performance and demographics\n",
    "Include only players with at least 100 comments to avoid fitting noise"
   ]
  },
  {
   "cell_type": "code",
   "execution_count": 31,
   "metadata": {},
   "outputs": [],
   "source": [
    "join_df = (player_sentiment_df.query('user_count >= 10')\n",
    "                         .merge(covariates_df, left_on = ['fuzzy_name', 'year'],\n",
    "                                                right_on = ['Player', 'year'])\n",
    "                        )"
   ]
  },
  {
   "cell_type": "markdown",
   "metadata": {},
   "source": [
    "### Explore demographics relationship with sentiment"
   ]
  },
  {
   "cell_type": "code",
   "execution_count": 32,
   "metadata": {},
   "outputs": [
    {
     "data": {
      "image/png": "[encoded data removed]",
      "text/plain": [
       "<Figure size 432x288 with 1 Axes>"
      ]
     },
     "metadata": {
      "needs_background": "light"
     },
     "output_type": "display_data"
    }
   ],
   "source": [
    "plt.plot(join_df['z_DVOA'].values, join_df['compound_mean_mean'].values, '.',alpha= 0.3);\n",
    "plt.xlabel('z_DVOA')\n",
    "plt.ylabel('Mean sentiment');"
   ]
  },
  {
   "cell_type": "code",
   "execution_count": 33,
   "metadata": {},
   "outputs": [
    {
     "data": {
      "text/html": [
       "<div>\n",
       "<style scoped>\n",
       "    .dataframe tbody tr th:only-of-type {\n",
       "        vertical-align: middle;\n",
       "    }\n",
       "\n",
       "    .dataframe tbody tr th {\n",
       "        vertical-align: top;\n",
       "    }\n",
       "\n",
       "    .dataframe thead th {\n",
       "        text-align: right;\n",
       "    }\n",
       "</style>\n",
       "<table border=\"1\" class=\"dataframe\">\n",
       "  <thead>\n",
       "    <tr style=\"text-align: right;\">\n",
       "      <th></th>\n",
       "      <th>year</th>\n",
       "      <th>compound_mean_mean</th>\n",
       "      <th>compound_mean_std</th>\n",
       "      <th>user_count</th>\n",
       "      <th>DYAR</th>\n",
       "      <th>DVOA</th>\n",
       "      <th>TD</th>\n",
       "      <th>z_DYAR</th>\n",
       "      <th>z_DVOA</th>\n",
       "      <th>z_TD</th>\n",
       "      <th>level_1</th>\n",
       "      <th>start_year</th>\n",
       "      <th>end_year</th>\n",
       "      <th>height</th>\n",
       "      <th>weight</th>\n",
       "      <th>salary</th>\n",
       "      <th>standard_salary</th>\n",
       "      <th>Wins</th>\n",
       "      <th>total_population</th>\n",
       "      <th>metro_percent_white</th>\n",
       "      <th>metro_percent_black</th>\n",
       "      <th>clinton_vote_lead</th>\n",
       "      <th>experience</th>\n",
       "    </tr>\n",
       "    <tr>\n",
       "      <th>race</th>\n",
       "      <th></th>\n",
       "      <th></th>\n",
       "      <th></th>\n",
       "      <th></th>\n",
       "      <th></th>\n",
       "      <th></th>\n",
       "      <th></th>\n",
       "      <th></th>\n",
       "      <th></th>\n",
       "      <th></th>\n",
       "      <th></th>\n",
       "      <th></th>\n",
       "      <th></th>\n",
       "      <th></th>\n",
       "      <th></th>\n",
       "      <th></th>\n",
       "      <th></th>\n",
       "      <th></th>\n",
       "      <th></th>\n",
       "      <th></th>\n",
       "      <th></th>\n",
       "      <th></th>\n",
       "      <th></th>\n",
       "    </tr>\n",
       "  </thead>\n",
       "  <tbody>\n",
       "    <tr>\n",
       "      <th>B</th>\n",
       "      <td>2014.977702</td>\n",
       "      <td>0.136303</td>\n",
       "      <td>0.422472</td>\n",
       "      <td>110.399657</td>\n",
       "      <td>104.138937</td>\n",
       "      <td>0.644768</td>\n",
       "      <td>6.013722</td>\n",
       "      <td>0.035807</td>\n",
       "      <td>0.011971</td>\n",
       "      <td>0.133425</td>\n",
       "      <td>4.094340</td>\n",
       "      <td>2010.903945</td>\n",
       "      <td>2017.276158</td>\n",
       "      <td>72.674099</td>\n",
       "      <td>214.970840</td>\n",
       "      <td>4.088832e+06</td>\n",
       "      <td>14.703781</td>\n",
       "      <td>7.986278</td>\n",
       "      <td>4.830830e+06</td>\n",
       "      <td>69.584906</td>\n",
       "      <td>15.749743</td>\n",
       "      <td>0.333479</td>\n",
       "      <td>4.073756</td>\n",
       "    </tr>\n",
       "    <tr>\n",
       "      <th>L</th>\n",
       "      <td>2014.000000</td>\n",
       "      <td>0.111000</td>\n",
       "      <td>0.417682</td>\n",
       "      <td>162.000000</td>\n",
       "      <td>91.333333</td>\n",
       "      <td>-0.666667</td>\n",
       "      <td>4.333333</td>\n",
       "      <td>0.224904</td>\n",
       "      <td>-0.147852</td>\n",
       "      <td>-0.055956</td>\n",
       "      <td>8.000000</td>\n",
       "      <td>2005.666667</td>\n",
       "      <td>2015.000000</td>\n",
       "      <td>73.666667</td>\n",
       "      <td>219.666667</td>\n",
       "      <td>4.400000e+06</td>\n",
       "      <td>15.297115</td>\n",
       "      <td>7.333333</td>\n",
       "      <td>1.522522e+07</td>\n",
       "      <td>57.500000</td>\n",
       "      <td>22.566667</td>\n",
       "      <td>0.552600</td>\n",
       "      <td>8.333333</td>\n",
       "    </tr>\n",
       "    <tr>\n",
       "      <th>M</th>\n",
       "      <td>2015.000000</td>\n",
       "      <td>0.018989</td>\n",
       "      <td>0.458930</td>\n",
       "      <td>17.500000</td>\n",
       "      <td>117.500000</td>\n",
       "      <td>28.550000</td>\n",
       "      <td>3.500000</td>\n",
       "      <td>0.488192</td>\n",
       "      <td>1.560898</td>\n",
       "      <td>-0.031140</td>\n",
       "      <td>5.000000</td>\n",
       "      <td>2010.000000</td>\n",
       "      <td>2016.500000</td>\n",
       "      <td>72.000000</td>\n",
       "      <td>206.000000</td>\n",
       "      <td>2.746000e+06</td>\n",
       "      <td>14.825656</td>\n",
       "      <td>12.000000</td>\n",
       "      <td>3.648984e+06</td>\n",
       "      <td>62.850000</td>\n",
       "      <td>27.900000</td>\n",
       "      <td>0.664550</td>\n",
       "      <td>5.000000</td>\n",
       "    </tr>\n",
       "    <tr>\n",
       "      <th>S</th>\n",
       "      <td>2015.000000</td>\n",
       "      <td>0.131202</td>\n",
       "      <td>0.443592</td>\n",
       "      <td>252.111111</td>\n",
       "      <td>135.111111</td>\n",
       "      <td>-2.900000</td>\n",
       "      <td>9.777778</td>\n",
       "      <td>-0.195090</td>\n",
       "      <td>-0.167218</td>\n",
       "      <td>0.105338</td>\n",
       "      <td>2.333333</td>\n",
       "      <td>2012.555556</td>\n",
       "      <td>2017.000000</td>\n",
       "      <td>75.888889</td>\n",
       "      <td>234.333333</td>\n",
       "      <td>2.735576e+06</td>\n",
       "      <td>14.376689</td>\n",
       "      <td>6.888889</td>\n",
       "      <td>2.690718e+06</td>\n",
       "      <td>75.055556</td>\n",
       "      <td>15.566667</td>\n",
       "      <td>0.288634</td>\n",
       "      <td>2.444444</td>\n",
       "    </tr>\n",
       "    <tr>\n",
       "      <th>W</th>\n",
       "      <td>2014.866667</td>\n",
       "      <td>0.119285</td>\n",
       "      <td>0.419556</td>\n",
       "      <td>463.552941</td>\n",
       "      <td>290.576471</td>\n",
       "      <td>3.884314</td>\n",
       "      <td>13.129412</td>\n",
       "      <td>0.265109</td>\n",
       "      <td>0.232007</td>\n",
       "      <td>0.172663</td>\n",
       "      <td>5.772549</td>\n",
       "      <td>2009.074510</td>\n",
       "      <td>2017.309804</td>\n",
       "      <td>75.552941</td>\n",
       "      <td>229.639216</td>\n",
       "      <td>7.526753e+06</td>\n",
       "      <td>15.259475</td>\n",
       "      <td>8.372549</td>\n",
       "      <td>4.854990e+06</td>\n",
       "      <td>70.780784</td>\n",
       "      <td>15.344314</td>\n",
       "      <td>0.347666</td>\n",
       "      <td>5.792157</td>\n",
       "    </tr>\n",
       "  </tbody>\n",
       "</table>\n",
       "</div>"
      ],
      "text/plain": [
       "             year  compound_mean_mean  compound_mean_std  user_count  \\\n",
       "race                                                                   \n",
       "B     2014.977702            0.136303           0.422472  110.399657   \n",
       "L     2014.000000            0.111000           0.417682  162.000000   \n",
       "M     2015.000000            0.018989           0.458930   17.500000   \n",
       "S     2015.000000            0.131202           0.443592  252.111111   \n",
       "W     2014.866667            0.119285           0.419556  463.552941   \n",
       "\n",
       "            DYAR       DVOA         TD    z_DYAR    z_DVOA      z_TD  \\\n",
       "race                                                                   \n",
       "B     104.138937   0.644768   6.013722  0.035807  0.011971  0.133425   \n",
       "L      91.333333  -0.666667   4.333333  0.224904 -0.147852 -0.055956   \n",
       "M     117.500000  28.550000   3.500000  0.488192  1.560898 -0.031140   \n",
       "S     135.111111  -2.900000   9.777778 -0.195090 -0.167218  0.105338   \n",
       "W     290.576471   3.884314  13.129412  0.265109  0.232007  0.172663   \n",
       "\n",
       "       level_1   start_year     end_year     height      weight        salary  \\\n",
       "race                                                                            \n",
       "B     4.094340  2010.903945  2017.276158  72.674099  214.970840  4.088832e+06   \n",
       "L     8.000000  2005.666667  2015.000000  73.666667  219.666667  4.400000e+06   \n",
       "M     5.000000  2010.000000  2016.500000  72.000000  206.000000  2.746000e+06   \n",
       "S     2.333333  2012.555556  2017.000000  75.888889  234.333333  2.735576e+06   \n",
       "W     5.772549  2009.074510  2017.309804  75.552941  229.639216  7.526753e+06   \n",
       "\n",
       "      standard_salary       Wins  total_population  metro_percent_white  \\\n",
       "race                                                                      \n",
       "B           14.703781   7.986278      4.830830e+06            69.584906   \n",
       "L           15.297115   7.333333      1.522522e+07            57.500000   \n",
       "M           14.825656  12.000000      3.648984e+06            62.850000   \n",
       "S           14.376689   6.888889      2.690718e+06            75.055556   \n",
       "W           15.259475   8.372549      4.854990e+06            70.780784   \n",
       "\n",
       "      metro_percent_black  clinton_vote_lead  experience  \n",
       "race                                                      \n",
       "B               15.749743           0.333479    4.073756  \n",
       "L               22.566667           0.552600    8.333333  \n",
       "M               27.900000           0.664550    5.000000  \n",
       "S               15.566667           0.288634    2.444444  \n",
       "W               15.344314           0.347666    5.792157  "
      ]
     },
     "execution_count": 33,
     "metadata": {},
     "output_type": "execute_result"
    }
   ],
   "source": [
    "join_df.groupby('race').mean()"
   ]
  },
  {
   "cell_type": "markdown",
   "metadata": {},
   "source": [
    "#### Age / experience"
   ]
  },
  {
   "cell_type": "code",
   "execution_count": 34,
   "metadata": {},
   "outputs": [
    {
     "data": {
      "text/plain": [
       "Text(0,0.5,'Mean sentiment')"
      ]
     },
     "execution_count": 34,
     "metadata": {},
     "output_type": "execute_result"
    },
    {
     "data": {
      "image/png": "[encoded data removed]",
      "text/plain": [
       "<Figure size 360x288 with 1 Axes>"
      ]
     },
     "metadata": {
      "needs_background": "light"
     },
     "output_type": "display_data"
    }
   ],
   "source": [
    "fig, ax1 = plt.subplots(1,1, figsize = [5, 4], sharey=True)\n",
    "join_df.groupby('experience').mean().reset_index().plot('experience', 'compound_mean_mean', ax = ax1);\n",
    "ax1.set_ylabel('Mean sentiment')"
   ]
  },
  {
   "cell_type": "markdown",
   "metadata": {},
   "source": [
    "#### Height"
   ]
  },
  {
   "cell_type": "code",
   "execution_count": 35,
   "metadata": {},
   "outputs": [
    {
     "data": {
      "image/png": "[encoded data removed]",
      "text/plain": [
       "<Figure size 432x288 with 1 Axes>"
      ]
     },
     "metadata": {
      "needs_background": "light"
     },
     "output_type": "display_data"
    }
   ],
   "source": [
    "join_df.groupby('height').mean().reset_index().plot('height', 'compound_mean_mean');\n",
    "plt.xticks(range(68,90,1) );\n",
    "plt.xlabel('Height (inches)')\n",
    "plt.ylabel('Mean sentiment');"
   ]
  },
  {
   "cell_type": "markdown",
   "metadata": {},
   "source": [
    "### Team and position"
   ]
  },
  {
   "cell_type": "code",
   "execution_count": 36,
   "metadata": {},
   "outputs": [
    {
     "data": {
      "text/html": [
       "<div>\n",
       "<style scoped>\n",
       "    .dataframe tbody tr th:only-of-type {\n",
       "        vertical-align: middle;\n",
       "    }\n",
       "\n",
       "    .dataframe tbody tr th {\n",
       "        vertical-align: top;\n",
       "    }\n",
       "\n",
       "    .dataframe thead th {\n",
       "        text-align: right;\n",
       "    }\n",
       "</style>\n",
       "<table border=\"1\" class=\"dataframe\">\n",
       "  <thead>\n",
       "    <tr style=\"text-align: right;\">\n",
       "      <th></th>\n",
       "      <th>position</th>\n",
       "      <th>year</th>\n",
       "      <th>compound_mean_mean</th>\n",
       "      <th>compound_mean_std</th>\n",
       "      <th>user_count</th>\n",
       "      <th>DYAR</th>\n",
       "      <th>DVOA</th>\n",
       "      <th>TD</th>\n",
       "      <th>z_DYAR</th>\n",
       "      <th>z_DVOA</th>\n",
       "      <th>z_TD</th>\n",
       "      <th>level_1</th>\n",
       "      <th>start_year</th>\n",
       "      <th>end_year</th>\n",
       "      <th>height</th>\n",
       "      <th>weight</th>\n",
       "      <th>salary</th>\n",
       "      <th>standard_salary</th>\n",
       "      <th>Wins</th>\n",
       "      <th>total_population</th>\n",
       "      <th>metro_percent_white</th>\n",
       "      <th>metro_percent_black</th>\n",
       "      <th>clinton_vote_lead</th>\n",
       "      <th>experience</th>\n",
       "    </tr>\n",
       "  </thead>\n",
       "  <tbody>\n",
       "    <tr>\n",
       "      <th>0</th>\n",
       "      <td>qb</td>\n",
       "      <td>2014.875000</td>\n",
       "      <td>0.112851</td>\n",
       "      <td>0.419016</td>\n",
       "      <td>679.562500</td>\n",
       "      <td>399.539773</td>\n",
       "      <td>-0.302841</td>\n",
       "      <td>19.812500</td>\n",
       "      <td>0.034534</td>\n",
       "      <td>0.049429</td>\n",
       "      <td>0.053473</td>\n",
       "      <td>5.920455</td>\n",
       "      <td>2008.909091</td>\n",
       "      <td>2017.460227</td>\n",
       "      <td>75.375000</td>\n",
       "      <td>224.255682</td>\n",
       "      <td>9.831701e+06</td>\n",
       "      <td>15.549917</td>\n",
       "      <td>7.562500</td>\n",
       "      <td>4.986120e+06</td>\n",
       "      <td>70.020455</td>\n",
       "      <td>15.311364</td>\n",
       "      <td>0.341755</td>\n",
       "      <td>5.965909</td>\n",
       "    </tr>\n",
       "    <tr>\n",
       "      <th>1</th>\n",
       "      <td>rb</td>\n",
       "      <td>2014.955556</td>\n",
       "      <td>0.137158</td>\n",
       "      <td>0.426211</td>\n",
       "      <td>92.672222</td>\n",
       "      <td>70.600000</td>\n",
       "      <td>-0.465000</td>\n",
       "      <td>5.833333</td>\n",
       "      <td>0.030278</td>\n",
       "      <td>0.012706</td>\n",
       "      <td>0.121017</td>\n",
       "      <td>3.766667</td>\n",
       "      <td>2011.294444</td>\n",
       "      <td>2017.188889</td>\n",
       "      <td>71.122222</td>\n",
       "      <td>219.894444</td>\n",
       "      <td>2.975282e+06</td>\n",
       "      <td>14.419351</td>\n",
       "      <td>8.116667</td>\n",
       "      <td>4.819916e+06</td>\n",
       "      <td>69.682222</td>\n",
       "      <td>15.955000</td>\n",
       "      <td>0.338489</td>\n",
       "      <td>3.661111</td>\n",
       "    </tr>\n",
       "    <tr>\n",
       "      <th>2</th>\n",
       "      <td>te</td>\n",
       "      <td>2014.916084</td>\n",
       "      <td>0.132552</td>\n",
       "      <td>0.422830</td>\n",
       "      <td>93.993007</td>\n",
       "      <td>61.965035</td>\n",
       "      <td>4.809790</td>\n",
       "      <td>4.503497</td>\n",
       "      <td>0.305084</td>\n",
       "      <td>0.209057</td>\n",
       "      <td>0.336428</td>\n",
       "      <td>5.000000</td>\n",
       "      <td>2009.930070</td>\n",
       "      <td>2017.209790</td>\n",
       "      <td>76.615385</td>\n",
       "      <td>254.223776</td>\n",
       "      <td>3.632927e+06</td>\n",
       "      <td>14.719151</td>\n",
       "      <td>8.447552</td>\n",
       "      <td>4.457277e+06</td>\n",
       "      <td>69.996503</td>\n",
       "      <td>16.166434</td>\n",
       "      <td>0.342296</td>\n",
       "      <td>4.986014</td>\n",
       "    </tr>\n",
       "    <tr>\n",
       "      <th>3</th>\n",
       "      <td>wr</td>\n",
       "      <td>2014.977337</td>\n",
       "      <td>0.135777</td>\n",
       "      <td>0.420742</td>\n",
       "      <td>100.946176</td>\n",
       "      <td>126.478754</td>\n",
       "      <td>2.392635</td>\n",
       "      <td>5.045326</td>\n",
       "      <td>0.094104</td>\n",
       "      <td>0.074879</td>\n",
       "      <td>0.122466</td>\n",
       "      <td>4.189802</td>\n",
       "      <td>2010.764873</td>\n",
       "      <td>2017.249292</td>\n",
       "      <td>72.688385</td>\n",
       "      <td>203.008499</td>\n",
       "      <td>4.363012e+06</td>\n",
       "      <td>14.806699</td>\n",
       "      <td>8.212465</td>\n",
       "      <td>4.954827e+06</td>\n",
       "      <td>70.013881</td>\n",
       "      <td>15.524079</td>\n",
       "      <td>0.336069</td>\n",
       "      <td>4.212465</td>\n",
       "    </tr>\n",
       "  </tbody>\n",
       "</table>\n",
       "</div>"
      ],
      "text/plain": [
       "  position         year  compound_mean_mean  compound_mean_std  user_count  \\\n",
       "0       qb  2014.875000            0.112851           0.419016  679.562500   \n",
       "1       rb  2014.955556            0.137158           0.426211   92.672222   \n",
       "2       te  2014.916084            0.132552           0.422830   93.993007   \n",
       "3       wr  2014.977337            0.135777           0.420742  100.946176   \n",
       "\n",
       "         DYAR      DVOA         TD    z_DYAR    z_DVOA      z_TD   level_1  \\\n",
       "0  399.539773 -0.302841  19.812500  0.034534  0.049429  0.053473  5.920455   \n",
       "1   70.600000 -0.465000   5.833333  0.030278  0.012706  0.121017  3.766667   \n",
       "2   61.965035  4.809790   4.503497  0.305084  0.209057  0.336428  5.000000   \n",
       "3  126.478754  2.392635   5.045326  0.094104  0.074879  0.122466  4.189802   \n",
       "\n",
       "    start_year     end_year     height      weight        salary  \\\n",
       "0  2008.909091  2017.460227  75.375000  224.255682  9.831701e+06   \n",
       "1  2011.294444  2017.188889  71.122222  219.894444  2.975282e+06   \n",
       "2  2009.930070  2017.209790  76.615385  254.223776  3.632927e+06   \n",
       "3  2010.764873  2017.249292  72.688385  203.008499  4.363012e+06   \n",
       "\n",
       "   standard_salary      Wins  total_population  metro_percent_white  \\\n",
       "0        15.549917  7.562500      4.986120e+06            70.020455   \n",
       "1        14.419351  8.116667      4.819916e+06            69.682222   \n",
       "2        14.719151  8.447552      4.457277e+06            69.996503   \n",
       "3        14.806699  8.212465      4.954827e+06            70.013881   \n",
       "\n",
       "   metro_percent_black  clinton_vote_lead  experience  \n",
       "0            15.311364           0.341755    5.965909  \n",
       "1            15.955000           0.338489    3.661111  \n",
       "2            16.166434           0.342296    4.986014  \n",
       "3            15.524079           0.336069    4.212465  "
      ]
     },
     "execution_count": 36,
     "metadata": {},
     "output_type": "execute_result"
    }
   ],
   "source": [
    "join_df.groupby('position').mean().reset_index()"
   ]
  },
  {
   "cell_type": "markdown",
   "metadata": {},
   "source": [
    "#### Create modeling dataframe"
   ]
  },
  {
   "cell_type": "code",
   "execution_count": 37,
   "metadata": {},
   "outputs": [],
   "source": [
    "join_df['youth'] = (join_df['experience'].mean() - join_df['experience']).clip(0)\n",
    "join_df['oldness'] = (join_df['experience'] - join_df['experience'].mean()).clip(0)\n",
    "join_df['rookie'] = join_df['experience'] <=1"
   ]
  },
  {
   "cell_type": "code",
   "execution_count": 38,
   "metadata": {},
   "outputs": [],
   "source": [
    "join_df['white_black_diff'] = join_df['metro_percent_white'] - join_df['metro_percent_black']\n",
    "join_df['height_dummies'] = pd.cut(join_df['height'], [0, 72, 100], labels = ['short', 'tall'])\n",
    "join_df['standard_salary'] = join_df['standard_salary'].fillna(join_df['standard_salary'].mean())"
   ]
  },
  {
   "cell_type": "code",
   "execution_count": 39,
   "metadata": {},
   "outputs": [],
   "source": [
    "#join_df.to_csv('modeling_data/nfl_model_data.tsv', sep='\\t', index=False)"
   ]
  },
  {
   "cell_type": "code",
   "execution_count": 40,
   "metadata": {},
   "outputs": [],
   "source": [
    "fit_df = join_df.copy().query('user_count > 20').replace({'L':'B', 'S':'B', 'M':'B'})"
   ]
  },
  {
   "cell_type": "markdown",
   "metadata": {},
   "source": [
    "## Regression models"
   ]
  },
  {
   "cell_type": "markdown",
   "metadata": {},
   "source": [
    "### Salary\n",
    "#### Exploration"
   ]
  },
  {
   "cell_type": "code",
   "execution_count": 41,
   "metadata": {},
   "outputs": [
    {
     "data": {
      "image/png": "[encoded data removed]",
      "text/plain": [
       "<Figure size 648x648 with 36 Axes>"
      ]
     },
     "metadata": {
      "needs_background": "light"
     },
     "output_type": "display_data"
    }
   ],
   "source": [
    "from pandas.plotting import scatter_matrix\n",
    "scatter_matrix(join_df[['compound_mean_mean', 'salary', 'standard_salary', 'z_DVOA', 'DVOA', 'experience']], alpha=0.2, figsize=(9, 9));"
   ]
  },
  {
   "cell_type": "code",
   "execution_count": 42,
   "metadata": {},
   "outputs": [
    {
     "data": {
      "text/html": [
       "<div>\n",
       "<style scoped>\n",
       "    .dataframe tbody tr th:only-of-type {\n",
       "        vertical-align: middle;\n",
       "    }\n",
       "\n",
       "    .dataframe tbody tr th {\n",
       "        vertical-align: top;\n",
       "    }\n",
       "\n",
       "    .dataframe thead th {\n",
       "        text-align: right;\n",
       "    }\n",
       "</style>\n",
       "<table border=\"1\" class=\"dataframe\">\n",
       "  <thead>\n",
       "    <tr style=\"text-align: right;\">\n",
       "      <th></th>\n",
       "      <th>salary</th>\n",
       "      <th>standard_salary</th>\n",
       "    </tr>\n",
       "    <tr>\n",
       "      <th>position</th>\n",
       "      <th></th>\n",
       "      <th></th>\n",
       "    </tr>\n",
       "  </thead>\n",
       "  <tbody>\n",
       "    <tr>\n",
       "      <th>qb</th>\n",
       "      <td>9.831701e+06</td>\n",
       "      <td>15.343171</td>\n",
       "    </tr>\n",
       "    <tr>\n",
       "      <th>rb</th>\n",
       "      <td>2.975282e+06</td>\n",
       "      <td>14.550087</td>\n",
       "    </tr>\n",
       "    <tr>\n",
       "      <th>te</th>\n",
       "      <td>3.632927e+06</td>\n",
       "      <td>14.770583</td>\n",
       "    </tr>\n",
       "    <tr>\n",
       "      <th>wr</th>\n",
       "      <td>4.363012e+06</td>\n",
       "      <td>14.821467</td>\n",
       "    </tr>\n",
       "  </tbody>\n",
       "</table>\n",
       "</div>"
      ],
      "text/plain": [
       "                salary  standard_salary\n",
       "position                               \n",
       "qb        9.831701e+06        15.343171\n",
       "rb        2.975282e+06        14.550087\n",
       "te        3.632927e+06        14.770583\n",
       "wr        4.363012e+06        14.821467"
      ]
     },
     "execution_count": 42,
     "metadata": {},
     "output_type": "execute_result"
    }
   ],
   "source": [
    "join_df.groupby('position').mean()[['salary', 'standard_salary']]"
   ]
  },
  {
   "cell_type": "markdown",
   "metadata": {},
   "source": [
    "#### Regression"
   ]
  },
  {
   "cell_type": "code",
   "execution_count": 43,
   "metadata": {},
   "outputs": [],
   "source": [
    "salary_model = smf.wls( formula = 'standard_salary ~ rookie + position + z_DVOA',\n",
    "                data = fit_df,\n",
    "               weights = 1,\n",
    "#                missing='raise'   \n",
    "               ).fit()"
   ]
  },
  {
   "cell_type": "code",
   "execution_count": 44,
   "metadata": {},
   "outputs": [
    {
     "data": {
      "text/html": [
       "<table class=\"simpletable\">\n",
       "<caption>WLS Regression Results</caption>\n",
       "<tr>\n",
       "  <th>Dep. Variable:</th>     <td>standard_salary</td> <th>  R-squared:         </th> <td>   0.249</td>\n",
       "</tr>\n",
       "<tr>\n",
       "  <th>Model:</th>                   <td>WLS</td>       <th>  Adj. R-squared:    </th> <td>   0.243</td>\n",
       "</tr>\n",
       "<tr>\n",
       "  <th>Method:</th>             <td>Least Squares</td>  <th>  F-statistic:       </th> <td>   45.26</td>\n",
       "</tr>\n",
       "<tr>\n",
       "  <th>Date:</th>             <td>Thu, 20 Dec 2018</td> <th>  Prob (F-statistic):</th> <td>2.14e-40</td>\n",
       "</tr>\n",
       "<tr>\n",
       "  <th>Time:</th>                 <td>23:24:06</td>     <th>  Log-Likelihood:    </th> <td> -850.61</td>\n",
       "</tr>\n",
       "<tr>\n",
       "  <th>No. Observations:</th>      <td>   690</td>      <th>  AIC:               </th> <td>   1713.</td>\n",
       "</tr>\n",
       "<tr>\n",
       "  <th>Df Residuals:</th>          <td>   684</td>      <th>  BIC:               </th> <td>   1740.</td>\n",
       "</tr>\n",
       "<tr>\n",
       "  <th>Df Model:</th>              <td>     5</td>      <th>                     </th>     <td> </td>   \n",
       "</tr>\n",
       "<tr>\n",
       "  <th>Covariance Type:</th>      <td>nonrobust</td>    <th>                     </th>     <td> </td>   \n",
       "</tr>\n",
       "</table>\n",
       "<table class=\"simpletable\">\n",
       "<tr>\n",
       "         <td></td>           <th>coef</th>     <th>std err</th>      <th>t</th>      <th>P>|t|</th>  <th>[0.025</th>    <th>0.975]</th>  \n",
       "</tr>\n",
       "<tr>\n",
       "  <th>Intercept</th>      <td>   15.5592</td> <td>    0.065</td> <td>  238.667</td> <td> 0.000</td> <td>   15.431</td> <td>   15.687</td>\n",
       "</tr>\n",
       "<tr>\n",
       "  <th>rookie[T.True]</th> <td>   -0.9790</td> <td>    0.077</td> <td>  -12.662</td> <td> 0.000</td> <td>   -1.131</td> <td>   -0.827</td>\n",
       "</tr>\n",
       "<tr>\n",
       "  <th>position[T.rb]</th> <td>   -0.6758</td> <td>    0.094</td> <td>   -7.177</td> <td> 0.000</td> <td>   -0.861</td> <td>   -0.491</td>\n",
       "</tr>\n",
       "<tr>\n",
       "  <th>position[T.te]</th> <td>   -0.5212</td> <td>    0.109</td> <td>   -4.768</td> <td> 0.000</td> <td>   -0.736</td> <td>   -0.307</td>\n",
       "</tr>\n",
       "<tr>\n",
       "  <th>position[T.wr]</th> <td>   -0.4650</td> <td>    0.080</td> <td>   -5.811</td> <td> 0.000</td> <td>   -0.622</td> <td>   -0.308</td>\n",
       "</tr>\n",
       "<tr>\n",
       "  <th>z_DVOA</th>         <td>    0.0180</td> <td>    0.033</td> <td>    0.555</td> <td> 0.579</td> <td>   -0.046</td> <td>    0.082</td>\n",
       "</tr>\n",
       "</table>\n",
       "<table class=\"simpletable\">\n",
       "<tr>\n",
       "  <th>Omnibus:</th>       <td>18.036</td> <th>  Durbin-Watson:     </th> <td>   1.546</td>\n",
       "</tr>\n",
       "<tr>\n",
       "  <th>Prob(Omnibus):</th> <td> 0.000</td> <th>  Jarque-Bera (JB):  </th> <td>  12.780</td>\n",
       "</tr>\n",
       "<tr>\n",
       "  <th>Skew:</th>          <td>-0.218</td> <th>  Prob(JB):          </th> <td> 0.00168</td>\n",
       "</tr>\n",
       "<tr>\n",
       "  <th>Kurtosis:</th>      <td> 2.496</td> <th>  Cond. No.          </th> <td>    5.23</td>\n",
       "</tr>\n",
       "</table><br/><br/>Warnings:<br/>[1] Standard Errors assume that the covariance matrix of the errors is correctly specified."
      ],
      "text/plain": [
       "<class 'statsmodels.iolib.summary.Summary'>\n",
       "\"\"\"\n",
       "                            WLS Regression Results                            \n",
       "==============================================================================\n",
       "Dep. Variable:        standard_salary   R-squared:                       0.249\n",
       "Model:                            WLS   Adj. R-squared:                  0.243\n",
       "Method:                 Least Squares   F-statistic:                     45.26\n",
       "Date:                Thu, 20 Dec 2018   Prob (F-statistic):           2.14e-40\n",
       "Time:                        23:24:06   Log-Likelihood:                -850.61\n",
       "No. Observations:                 690   AIC:                             1713.\n",
       "Df Residuals:                     684   BIC:                             1740.\n",
       "Df Model:                           5                                         \n",
       "Covariance Type:            nonrobust                                         \n",
       "==================================================================================\n",
       "                     coef    std err          t      P>|t|      [0.025      0.975]\n",
       "----------------------------------------------------------------------------------\n",
       "Intercept         15.5592      0.065    238.667      0.000      15.431      15.687\n",
       "rookie[T.True]    -0.9790      0.077    -12.662      0.000      -1.131      -0.827\n",
       "position[T.rb]    -0.6758      0.094     -7.177      0.000      -0.861      -0.491\n",
       "position[T.te]    -0.5212      0.109     -4.768      0.000      -0.736      -0.307\n",
       "position[T.wr]    -0.4650      0.080     -5.811      0.000      -0.622      -0.308\n",
       "z_DVOA             0.0180      0.033      0.555      0.579      -0.046       0.082\n",
       "==============================================================================\n",
       "Omnibus:                       18.036   Durbin-Watson:                   1.546\n",
       "Prob(Omnibus):                  0.000   Jarque-Bera (JB):               12.780\n",
       "Skew:                          -0.218   Prob(JB):                      0.00168\n",
       "Kurtosis:                       2.496   Cond. No.                         5.23\n",
       "==============================================================================\n",
       "\n",
       "Warnings:\n",
       "[1] Standard Errors assume that the covariance matrix of the errors is correctly specified.\n",
       "\"\"\""
      ]
     },
     "execution_count": 44,
     "metadata": {},
     "output_type": "execute_result"
    }
   ],
   "source": [
    "salary_model.summary()"
   ]
  },
  {
   "cell_type": "markdown",
   "metadata": {},
   "source": [
    "#### Calculate residual salary"
   ]
  },
  {
   "cell_type": "code",
   "execution_count": 45,
   "metadata": {},
   "outputs": [
    {
     "data": {
      "text/html": [
       "<div>\n",
       "<style scoped>\n",
       "    .dataframe tbody tr th:only-of-type {\n",
       "        vertical-align: middle;\n",
       "    }\n",
       "\n",
       "    .dataframe tbody tr th {\n",
       "        vertical-align: top;\n",
       "    }\n",
       "\n",
       "    .dataframe thead th {\n",
       "        text-align: right;\n",
       "    }\n",
       "</style>\n",
       "<table border=\"1\" class=\"dataframe\">\n",
       "  <thead>\n",
       "    <tr style=\"text-align: right;\">\n",
       "      <th></th>\n",
       "      <th>Player</th>\n",
       "      <th>year</th>\n",
       "      <th>standard_salary</th>\n",
       "      <th>pred_std_salary</th>\n",
       "    </tr>\n",
       "  </thead>\n",
       "  <tbody>\n",
       "    <tr>\n",
       "      <th>126</th>\n",
       "      <td>calvin johnson</td>\n",
       "      <td>2015</td>\n",
       "      <td>16.838761</td>\n",
       "      <td>15.107814</td>\n",
       "    </tr>\n",
       "    <tr>\n",
       "      <th>10</th>\n",
       "      <td>adrian peterson</td>\n",
       "      <td>2015</td>\n",
       "      <td>16.549878</td>\n",
       "      <td>14.886236</td>\n",
       "    </tr>\n",
       "    <tr>\n",
       "      <th>316</th>\n",
       "      <td>ezekiel elliott</td>\n",
       "      <td>2017</td>\n",
       "      <td>15.551034</td>\n",
       "      <td>13.921549</td>\n",
       "    </tr>\n",
       "    <tr>\n",
       "      <th>211</th>\n",
       "      <td>deandre hopkins</td>\n",
       "      <td>2017</td>\n",
       "      <td>16.705882</td>\n",
       "      <td>15.108240</td>\n",
       "    </tr>\n",
       "    <tr>\n",
       "      <th>259</th>\n",
       "      <td>dez bryant</td>\n",
       "      <td>2017</td>\n",
       "      <td>16.648724</td>\n",
       "      <td>15.076311</td>\n",
       "    </tr>\n",
       "  </tbody>\n",
       "</table>\n",
       "</div>"
      ],
      "text/plain": [
       "              Player  year  standard_salary  pred_std_salary\n",
       "126   calvin johnson  2015        16.838761        15.107814\n",
       "10   adrian peterson  2015        16.549878        14.886236\n",
       "316  ezekiel elliott  2017        15.551034        13.921549\n",
       "211  deandre hopkins  2017        16.705882        15.108240\n",
       "259       dez bryant  2017        16.648724        15.076311"
      ]
     },
     "execution_count": 45,
     "metadata": {},
     "output_type": "execute_result"
    }
   ],
   "source": [
    "fit_df['pred_std_salary'] = salary_model.predict(fit_df)\n",
    "fit_df['std_salary_resid'] = fit_df['pred_std_salary']- fit_df['standard_salary']\n",
    "fit_df.sort_values('std_salary_resid').head(5)[['Player', 'year', 'standard_salary', 'pred_std_salary']]"
   ]
  },
  {
   "cell_type": "code",
   "execution_count": 46,
   "metadata": {},
   "outputs": [
    {
     "data": {
      "image/png": "[encoded data removed]",
      "text/plain": [
       "<Figure size 432x288 with 1 Axes>"
      ]
     },
     "metadata": {
      "needs_background": "light"
     },
     "output_type": "display_data"
    }
   ],
   "source": [
    "fit_df['std_salary_resid'].hist();\n",
    "plt.xlabel('Salary residual (z-units)');"
   ]
  },
  {
   "cell_type": "markdown",
   "metadata": {},
   "source": [
    "### Sentiment regression model"
   ]
  },
  {
   "cell_type": "code",
   "execution_count": 78,
   "metadata": {},
   "outputs": [],
   "source": [
    "simple_model = smf.wls( formula = 'compound_mean_mean ~ z_DVOA * C(race) + youth + oldness + rookie + position + Wins   + standard_salary + std_salary_resid',#\\\n",
    "                       #' + white_black_diff * C(race) + clinton_vote_lead',',#'\n",
    "                data = fit_df,\n",
    "               weights = 1 / (fit_df['compound_mean_std'] / np.sqrt(fit_df['user_count'])),\n",
    "#                missing='raise'   \n",
    "               ).fit(cov_type='cluster', cov_kwds={'groups' : fit_df['Player']})"
   ]
  },
  {
   "cell_type": "code",
   "execution_count": 79,
   "metadata": {},
   "outputs": [
    {
     "data": {
      "text/html": [
       "<table class=\"simpletable\">\n",
       "<caption>WLS Regression Results</caption>\n",
       "<tr>\n",
       "  <th>Dep. Variable:</th>    <td>compound_mean_mean</td> <th>  R-squared:         </th> <td>   0.114</td> \n",
       "</tr>\n",
       "<tr>\n",
       "  <th>Model:</th>                    <td>WLS</td>        <th>  Adj. R-squared:    </th> <td>   0.100</td> \n",
       "</tr>\n",
       "<tr>\n",
       "  <th>Method:</th>              <td>Least Squares</td>   <th>  F-statistic:       </th> <td>   155.7</td> \n",
       "</tr>\n",
       "<tr>\n",
       "  <th>Date:</th>              <td>Thu, 20 Dec 2018</td>  <th>  Prob (F-statistic):</th> <td>3.24e-117</td>\n",
       "</tr>\n",
       "<tr>\n",
       "  <th>Time:</th>                  <td>23:34:59</td>      <th>  Log-Likelihood:    </th> <td>  873.67</td> \n",
       "</tr>\n",
       "<tr>\n",
       "  <th>No. Observations:</th>       <td>   690</td>       <th>  AIC:               </th> <td>  -1723.</td> \n",
       "</tr>\n",
       "<tr>\n",
       "  <th>Df Residuals:</th>           <td>   678</td>       <th>  BIC:               </th> <td>  -1669.</td> \n",
       "</tr>\n",
       "<tr>\n",
       "  <th>Df Model:</th>               <td>    11</td>       <th>                     </th>     <td> </td>    \n",
       "</tr>\n",
       "<tr>\n",
       "  <th>Covariance Type:</th>        <td>cluster</td>      <th>                     </th>     <td> </td>    \n",
       "</tr>\n",
       "</table>\n",
       "<table class=\"simpletable\">\n",
       "<tr>\n",
       "           <td></td>              <th>coef</th>     <th>std err</th>      <th>z</th>      <th>P>|z|</th>  <th>[0.025</th>    <th>0.975]</th>  \n",
       "</tr>\n",
       "<tr>\n",
       "  <th>Intercept</th>           <td>    0.0057</td> <td>    0.001</td> <td>    5.111</td> <td> 0.000</td> <td>    0.003</td> <td>    0.008</td>\n",
       "</tr>\n",
       "<tr>\n",
       "  <th>C(race)[T.W]</th>        <td>    0.0019</td> <td>    0.009</td> <td>    0.211</td> <td> 0.833</td> <td>   -0.016</td> <td>    0.019</td>\n",
       "</tr>\n",
       "<tr>\n",
       "  <th>rookie[T.True]</th>      <td>    0.0354</td> <td>    0.012</td> <td>    2.841</td> <td> 0.004</td> <td>    0.011</td> <td>    0.060</td>\n",
       "</tr>\n",
       "<tr>\n",
       "  <th>position[T.rb]</th>      <td>    0.0303</td> <td>    0.009</td> <td>    3.226</td> <td> 0.001</td> <td>    0.012</td> <td>    0.049</td>\n",
       "</tr>\n",
       "<tr>\n",
       "  <th>position[T.te]</th>      <td>    0.0161</td> <td>    0.011</td> <td>    1.458</td> <td> 0.145</td> <td>   -0.006</td> <td>    0.038</td>\n",
       "</tr>\n",
       "<tr>\n",
       "  <th>position[T.wr]</th>      <td>    0.0194</td> <td>    0.010</td> <td>    2.011</td> <td> 0.044</td> <td>    0.000</td> <td>    0.038</td>\n",
       "</tr>\n",
       "<tr>\n",
       "  <th>z_DVOA</th>              <td>    0.0129</td> <td>    0.004</td> <td>    3.201</td> <td> 0.001</td> <td>    0.005</td> <td>    0.021</td>\n",
       "</tr>\n",
       "<tr>\n",
       "  <th>z_DVOA:C(race)[T.W]</th> <td>   -0.0005</td> <td>    0.005</td> <td>   -0.092</td> <td> 0.927</td> <td>   -0.010</td> <td>    0.009</td>\n",
       "</tr>\n",
       "<tr>\n",
       "  <th>youth</th>               <td>    0.0025</td> <td>    0.003</td> <td>    0.775</td> <td> 0.439</td> <td>   -0.004</td> <td>    0.009</td>\n",
       "</tr>\n",
       "<tr>\n",
       "  <th>oldness</th>             <td>   -0.0006</td> <td>    0.001</td> <td>   -0.519</td> <td> 0.604</td> <td>   -0.003</td> <td>    0.002</td>\n",
       "</tr>\n",
       "<tr>\n",
       "  <th>Wins</th>                <td>   -0.0014</td> <td>    0.001</td> <td>   -1.637</td> <td> 0.102</td> <td>   -0.003</td> <td>    0.000</td>\n",
       "</tr>\n",
       "<tr>\n",
       "  <th>standard_salary</th>     <td>    0.0067</td> <td>    0.001</td> <td>    7.984</td> <td> 0.000</td> <td>    0.005</td> <td>    0.008</td>\n",
       "</tr>\n",
       "<tr>\n",
       "  <th>std_salary_resid</th>    <td>    0.0091</td> <td>    0.003</td> <td>    2.778</td> <td> 0.005</td> <td>    0.003</td> <td>    0.016</td>\n",
       "</tr>\n",
       "</table>\n",
       "<table class=\"simpletable\">\n",
       "<tr>\n",
       "  <th>Omnibus:</th>       <td>25.630</td> <th>  Durbin-Watson:     </th> <td>   1.590</td>\n",
       "</tr>\n",
       "<tr>\n",
       "  <th>Prob(Omnibus):</th> <td> 0.000</td> <th>  Jarque-Bera (JB):  </th> <td>  54.335</td>\n",
       "</tr>\n",
       "<tr>\n",
       "  <th>Skew:</th>          <td> 0.184</td> <th>  Prob(JB):          </th> <td>1.59e-12</td>\n",
       "</tr>\n",
       "<tr>\n",
       "  <th>Kurtosis:</th>      <td> 4.325</td> <th>  Cond. No.          </th> <td>1.39e+17</td>\n",
       "</tr>\n",
       "</table><br/><br/>Warnings:<br/>[1] Standard Errors are robust tocluster correlation (cluster)<br/>[2] The smallest eigenvalue is 3.59e-28. This might indicate that there are<br/>strong multicollinearity problems or that the design matrix is singular."
      ],
      "text/plain": [
       "<class 'statsmodels.iolib.summary.Summary'>\n",
       "\"\"\"\n",
       "                            WLS Regression Results                            \n",
       "==============================================================================\n",
       "Dep. Variable:     compound_mean_mean   R-squared:                       0.114\n",
       "Model:                            WLS   Adj. R-squared:                  0.100\n",
       "Method:                 Least Squares   F-statistic:                     155.7\n",
       "Date:                Thu, 20 Dec 2018   Prob (F-statistic):          3.24e-117\n",
       "Time:                        23:34:59   Log-Likelihood:                 873.67\n",
       "No. Observations:                 690   AIC:                            -1723.\n",
       "Df Residuals:                     678   BIC:                            -1669.\n",
       "Df Model:                          11                                         \n",
       "Covariance Type:              cluster                                         \n",
       "=======================================================================================\n",
       "                          coef    std err          z      P>|z|      [0.025      0.975]\n",
       "---------------------------------------------------------------------------------------\n",
       "Intercept               0.0057      0.001      5.111      0.000       0.003       0.008\n",
       "C(race)[T.W]            0.0019      0.009      0.211      0.833      -0.016       0.019\n",
       "rookie[T.True]          0.0354      0.012      2.841      0.004       0.011       0.060\n",
       "position[T.rb]          0.0303      0.009      3.226      0.001       0.012       0.049\n",
       "position[T.te]          0.0161      0.011      1.458      0.145      -0.006       0.038\n",
       "position[T.wr]          0.0194      0.010      2.011      0.044       0.000       0.038\n",
       "z_DVOA                  0.0129      0.004      3.201      0.001       0.005       0.021\n",
       "z_DVOA:C(race)[T.W]    -0.0005      0.005     -0.092      0.927      -0.010       0.009\n",
       "youth                   0.0025      0.003      0.775      0.439      -0.004       0.009\n",
       "oldness                -0.0006      0.001     -0.519      0.604      -0.003       0.002\n",
       "Wins                   -0.0014      0.001     -1.637      0.102      -0.003       0.000\n",
       "standard_salary         0.0067      0.001      7.984      0.000       0.005       0.008\n",
       "std_salary_resid        0.0091      0.003      2.778      0.005       0.003       0.016\n",
       "==============================================================================\n",
       "Omnibus:                       25.630   Durbin-Watson:                   1.590\n",
       "Prob(Omnibus):                  0.000   Jarque-Bera (JB):               54.335\n",
       "Skew:                           0.184   Prob(JB):                     1.59e-12\n",
       "Kurtosis:                       4.325   Cond. No.                     1.39e+17\n",
       "==============================================================================\n",
       "\n",
       "Warnings:\n",
       "[1] Standard Errors are robust tocluster correlation (cluster)\n",
       "[2] The smallest eigenvalue is 3.59e-28. This might indicate that there are\n",
       "strong multicollinearity problems or that the design matrix is singular.\n",
       "\"\"\""
      ]
     },
     "execution_count": 79,
     "metadata": {},
     "output_type": "execute_result"
    }
   ],
   "source": [
    "simple_model.summary()"
   ]
  },
  {
   "cell_type": "markdown",
   "metadata": {},
   "source": [
    "## Coaches"
   ]
  },
  {
   "cell_type": "code",
   "execution_count": 30,
   "metadata": {},
   "outputs": [],
   "source": [
    "coaches_df = pd.read_csv('d:/data/sentiment_sports/covariates/nfl_coach_performance.tsv', sep='\\t')\n",
    "coaches_race_df = pd.read_csv('d:/data/sentiment_sports/covariates/nfl_coach_race.tsv', sep='\\t')"
   ]
  },
  {
   "cell_type": "code",
   "execution_count": 31,
   "metadata": {},
   "outputs": [
    {
     "data": {
      "text/html": [
       "<div>\n",
       "<style scoped>\n",
       "    .dataframe tbody tr th:only-of-type {\n",
       "        vertical-align: middle;\n",
       "    }\n",
       "\n",
       "    .dataframe tbody tr th {\n",
       "        vertical-align: top;\n",
       "    }\n",
       "\n",
       "    .dataframe thead th {\n",
       "        text-align: right;\n",
       "    }\n",
       "</style>\n",
       "<table border=\"1\" class=\"dataframe\">\n",
       "  <thead>\n",
       "    <tr style=\"text-align: right;\">\n",
       "      <th></th>\n",
       "      <th>Tm</th>\n",
       "      <th>year</th>\n",
       "      <th>W</th>\n",
       "      <th>season_WinP</th>\n",
       "    </tr>\n",
       "  </thead>\n",
       "  <tbody>\n",
       "    <tr>\n",
       "      <th>663</th>\n",
       "      <td>Denver Broncos</td>\n",
       "      <td>1981</td>\n",
       "      <td>10.0</td>\n",
       "      <td>0.6250</td>\n",
       "    </tr>\n",
       "    <tr>\n",
       "      <th>1541</th>\n",
       "      <td>Oakland Raiders</td>\n",
       "      <td>1976</td>\n",
       "      <td>13.0</td>\n",
       "      <td>0.8125</td>\n",
       "    </tr>\n",
       "    <tr>\n",
       "      <th>941</th>\n",
       "      <td>Houston Texans</td>\n",
       "      <td>2003</td>\n",
       "      <td>5.0</td>\n",
       "      <td>0.3125</td>\n",
       "    </tr>\n",
       "    <tr>\n",
       "      <th>593</th>\n",
       "      <td>Dallas Cowboys</td>\n",
       "      <td>1985</td>\n",
       "      <td>10.0</td>\n",
       "      <td>0.6250</td>\n",
       "    </tr>\n",
       "    <tr>\n",
       "      <th>1272</th>\n",
       "      <td>Minnesota Vikings</td>\n",
       "      <td>2018</td>\n",
       "      <td>4.0</td>\n",
       "      <td>0.2500</td>\n",
       "    </tr>\n",
       "  </tbody>\n",
       "</table>\n",
       "</div>"
      ],
      "text/plain": [
       "                     Tm  year     W  season_WinP\n",
       "663      Denver Broncos  1981  10.0       0.6250\n",
       "1541    Oakland Raiders  1976  13.0       0.8125\n",
       "941      Houston Texans  2003   5.0       0.3125\n",
       "593      Dallas Cowboys  1985  10.0       0.6250\n",
       "1272  Minnesota Vikings  2018   4.0       0.2500"
      ]
     },
     "execution_count": 31,
     "metadata": {},
     "output_type": "execute_result"
    }
   ],
   "source": [
    "team_win_df = coaches_df.groupby(['Tm', 'year']).sum()['W'].reset_index()\n",
    "team_win_df['season_WinP'] = team_win_df['W'] / 16\n",
    "team_win_df.sample(5)"
   ]
  },
  {
   "cell_type": "code",
   "execution_count": 32,
   "metadata": {},
   "outputs": [],
   "source": [
    "coach_tenure = coaches_df.groupby(['Tm', 'Coach']).apply(lambda df: df.rank())[['year']].rename(columns={'year':'tenure'})\n",
    "coaches_df = coaches_df.join(coach_tenure)\n",
    "coaches_df['rookie'] = coaches_df['tenure'] == 1"
   ]
  },
  {
   "cell_type": "code",
   "execution_count": 33,
   "metadata": {},
   "outputs": [],
   "source": [
    "coaches_df['prev_year'] = coaches_df['year']-1\n",
    "coaches_df = coaches_df.merge(team_win_df.rename(columns = {'year': 'prev_year'}),\n",
    "                              on = ['prev_year', 'Tm'], how='left', suffixes = ('', '_prev') )\n",
    "coaches_df['winP_change'] = (coaches_df['season_WinP'] - coaches_df['season_WinP_prev']).fillna(0)\n",
    "coaches_df['Coach'] = coaches_df['Coach'].str.lower()\n",
    "coaches_race_df['Coach'] = coaches_race_df['Coach'].str.lower()"
   ]
  },
  {
   "cell_type": "code",
   "execution_count": 34,
   "metadata": {},
   "outputs": [
    {
     "data": {
      "text/html": [
       "<div>\n",
       "<style scoped>\n",
       "    .dataframe tbody tr th:only-of-type {\n",
       "        vertical-align: middle;\n",
       "    }\n",
       "\n",
       "    .dataframe tbody tr th {\n",
       "        vertical-align: top;\n",
       "    }\n",
       "\n",
       "    .dataframe thead th {\n",
       "        text-align: right;\n",
       "    }\n",
       "</style>\n",
       "<table border=\"1\" class=\"dataframe\">\n",
       "  <thead>\n",
       "    <tr style=\"text-align: right;\">\n",
       "      <th></th>\n",
       "      <th>year</th>\n",
       "      <th>age</th>\n",
       "      <th>Tm</th>\n",
       "      <th>league</th>\n",
       "      <th>G</th>\n",
       "      <th>W</th>\n",
       "      <th>L</th>\n",
       "      <th>Tie</th>\n",
       "      <th>season_WinP</th>\n",
       "      <th>career_WinP</th>\n",
       "      <th>Coach</th>\n",
       "      <th>tenure</th>\n",
       "      <th>rookie</th>\n",
       "      <th>prev_year</th>\n",
       "      <th>W_prev</th>\n",
       "      <th>season_WinP_prev</th>\n",
       "      <th>winP_change</th>\n",
       "    </tr>\n",
       "  </thead>\n",
       "  <tbody>\n",
       "    <tr>\n",
       "      <th>0</th>\n",
       "      <td>1963</td>\n",
       "      <td>33.0</td>\n",
       "      <td>Baltimore Colts</td>\n",
       "      <td>NFL</td>\n",
       "      <td>14</td>\n",
       "      <td>8.0</td>\n",
       "      <td>6.0</td>\n",
       "      <td>0.0</td>\n",
       "      <td>0.571</td>\n",
       "      <td>0.677</td>\n",
       "      <td>don shula</td>\n",
       "      <td>1.0</td>\n",
       "      <td>True</td>\n",
       "      <td>1962</td>\n",
       "      <td>7.0</td>\n",
       "      <td>0.4375</td>\n",
       "      <td>0.1335</td>\n",
       "    </tr>\n",
       "    <tr>\n",
       "      <th>1</th>\n",
       "      <td>1964</td>\n",
       "      <td>34.0</td>\n",
       "      <td>Baltimore Colts</td>\n",
       "      <td>NFL</td>\n",
       "      <td>14</td>\n",
       "      <td>12.0</td>\n",
       "      <td>2.0</td>\n",
       "      <td>0.0</td>\n",
       "      <td>0.857</td>\n",
       "      <td>0.677</td>\n",
       "      <td>don shula</td>\n",
       "      <td>2.0</td>\n",
       "      <td>False</td>\n",
       "      <td>1963</td>\n",
       "      <td>8.0</td>\n",
       "      <td>0.5000</td>\n",
       "      <td>0.3570</td>\n",
       "    </tr>\n",
       "    <tr>\n",
       "      <th>2</th>\n",
       "      <td>1965</td>\n",
       "      <td>35.0</td>\n",
       "      <td>Baltimore Colts</td>\n",
       "      <td>NFL</td>\n",
       "      <td>14</td>\n",
       "      <td>10.0</td>\n",
       "      <td>3.0</td>\n",
       "      <td>1.0</td>\n",
       "      <td>0.769</td>\n",
       "      <td>0.677</td>\n",
       "      <td>don shula</td>\n",
       "      <td>3.0</td>\n",
       "      <td>False</td>\n",
       "      <td>1964</td>\n",
       "      <td>12.0</td>\n",
       "      <td>0.7500</td>\n",
       "      <td>0.0190</td>\n",
       "    </tr>\n",
       "  </tbody>\n",
       "</table>\n",
       "</div>"
      ],
      "text/plain": [
       "   year   age               Tm league   G     W    L  Tie  season_WinP  \\\n",
       "0  1963  33.0  Baltimore Colts    NFL  14   8.0  6.0  0.0        0.571   \n",
       "1  1964  34.0  Baltimore Colts    NFL  14  12.0  2.0  0.0        0.857   \n",
       "2  1965  35.0  Baltimore Colts    NFL  14  10.0  3.0  1.0        0.769   \n",
       "\n",
       "   career_WinP      Coach  tenure  rookie  prev_year  W_prev  \\\n",
       "0        0.677  don shula     1.0    True       1962     7.0   \n",
       "1        0.677  don shula     2.0   False       1963     8.0   \n",
       "2        0.677  don shula     3.0   False       1964    12.0   \n",
       "\n",
       "   season_WinP_prev  winP_change  \n",
       "0            0.4375       0.1335  \n",
       "1            0.5000       0.3570  \n",
       "2            0.7500       0.0190  "
      ]
     },
     "execution_count": 34,
     "metadata": {},
     "output_type": "execute_result"
    }
   ],
   "source": [
    "coaches_df.head(3)"
   ]
  },
  {
   "cell_type": "code",
   "execution_count": 35,
   "metadata": {},
   "outputs": [],
   "source": [
    "coaches_covariates_df = (coaches_df.merge(coaches_race_df, on = 'Coach')\n",
    "                                   .rename(columns = {'Coach':'fuzzy_name'})\n",
    "                                   .merge(player_sentiment_df, on = ['fuzzy_name', 'year'], how='inner')\n",
    "                                   )"
   ]
  },
  {
   "cell_type": "markdown",
   "metadata": {},
   "source": [
    "### Most and least popular coaches"
   ]
  },
  {
   "cell_type": "code",
   "execution_count": 37,
   "metadata": {},
   "outputs": [
    {
     "data": {
      "text/html": [
       "<div>\n",
       "<style scoped>\n",
       "    .dataframe tbody tr th:only-of-type {\n",
       "        vertical-align: middle;\n",
       "    }\n",
       "\n",
       "    .dataframe tbody tr th {\n",
       "        vertical-align: top;\n",
       "    }\n",
       "\n",
       "    .dataframe thead th {\n",
       "        text-align: right;\n",
       "    }\n",
       "</style>\n",
       "<table border=\"1\" class=\"dataframe\">\n",
       "  <thead>\n",
       "    <tr style=\"text-align: right;\">\n",
       "      <th></th>\n",
       "      <th>year</th>\n",
       "      <th>age</th>\n",
       "      <th>Tm</th>\n",
       "      <th>league</th>\n",
       "      <th>G</th>\n",
       "      <th>W</th>\n",
       "      <th>L</th>\n",
       "      <th>Tie</th>\n",
       "      <th>season_WinP</th>\n",
       "      <th>career_WinP</th>\n",
       "      <th>fuzzy_name</th>\n",
       "      <th>tenure</th>\n",
       "      <th>rookie</th>\n",
       "      <th>prev_year</th>\n",
       "      <th>W_prev</th>\n",
       "      <th>season_WinP_prev</th>\n",
       "      <th>winP_change</th>\n",
       "      <th>race</th>\n",
       "      <th>compound_mean_mean</th>\n",
       "      <th>compound_mean_std</th>\n",
       "      <th>user_count</th>\n",
       "    </tr>\n",
       "  </thead>\n",
       "  <tbody>\n",
       "    <tr>\n",
       "      <th>143</th>\n",
       "      <td>2016</td>\n",
       "      <td>48.0</td>\n",
       "      <td>Buffalo Bills</td>\n",
       "      <td>NFL</td>\n",
       "      <td>1</td>\n",
       "      <td>0.0</td>\n",
       "      <td>1.0</td>\n",
       "      <td>0.0</td>\n",
       "      <td>0.000</td>\n",
       "      <td>0.583</td>\n",
       "      <td>anthony lynn</td>\n",
       "      <td>1.0</td>\n",
       "      <td>True</td>\n",
       "      <td>2015</td>\n",
       "      <td>8.0</td>\n",
       "      <td>0.5000</td>\n",
       "      <td>-0.5000</td>\n",
       "      <td>B</td>\n",
       "      <td>0.490191</td>\n",
       "      <td>0.387365</td>\n",
       "      <td>11</td>\n",
       "    </tr>\n",
       "    <tr>\n",
       "      <th>163</th>\n",
       "      <td>2016</td>\n",
       "      <td>42.0</td>\n",
       "      <td>Los Angeles Rams</td>\n",
       "      <td>NFL</td>\n",
       "      <td>3</td>\n",
       "      <td>0.0</td>\n",
       "      <td>3.0</td>\n",
       "      <td>0.0</td>\n",
       "      <td>0.000</td>\n",
       "      <td>0.000</td>\n",
       "      <td>john fassel</td>\n",
       "      <td>1.0</td>\n",
       "      <td>True</td>\n",
       "      <td>2015</td>\n",
       "      <td>NaN</td>\n",
       "      <td>NaN</td>\n",
       "      <td>0.0000</td>\n",
       "      <td>W</td>\n",
       "      <td>0.471736</td>\n",
       "      <td>0.322150</td>\n",
       "      <td>11</td>\n",
       "    </tr>\n",
       "    <tr>\n",
       "      <th>136</th>\n",
       "      <td>2017</td>\n",
       "      <td>31.0</td>\n",
       "      <td>Los Angeles Rams</td>\n",
       "      <td>NFL</td>\n",
       "      <td>16</td>\n",
       "      <td>11.0</td>\n",
       "      <td>5.0</td>\n",
       "      <td>0.0</td>\n",
       "      <td>0.688</td>\n",
       "      <td>0.792</td>\n",
       "      <td>sean mcvay</td>\n",
       "      <td>1.0</td>\n",
       "      <td>True</td>\n",
       "      <td>2016</td>\n",
       "      <td>4.0</td>\n",
       "      <td>0.2500</td>\n",
       "      <td>0.4380</td>\n",
       "      <td>W</td>\n",
       "      <td>0.280502</td>\n",
       "      <td>0.392170</td>\n",
       "      <td>267</td>\n",
       "    </tr>\n",
       "    <tr>\n",
       "      <th>134</th>\n",
       "      <td>2016</td>\n",
       "      <td>38.0</td>\n",
       "      <td>Miami Dolphins</td>\n",
       "      <td>NFL</td>\n",
       "      <td>16</td>\n",
       "      <td>10.0</td>\n",
       "      <td>6.0</td>\n",
       "      <td>0.0</td>\n",
       "      <td>0.625</td>\n",
       "      <td>0.500</td>\n",
       "      <td>adam gase</td>\n",
       "      <td>1.0</td>\n",
       "      <td>True</td>\n",
       "      <td>2015</td>\n",
       "      <td>1.0</td>\n",
       "      <td>0.0625</td>\n",
       "      <td>0.5625</td>\n",
       "      <td>W</td>\n",
       "      <td>0.266910</td>\n",
       "      <td>0.376207</td>\n",
       "      <td>187</td>\n",
       "    </tr>\n",
       "    <tr>\n",
       "      <th>124</th>\n",
       "      <td>2015</td>\n",
       "      <td>52.0</td>\n",
       "      <td>New York Jets</td>\n",
       "      <td>NFL</td>\n",
       "      <td>16</td>\n",
       "      <td>10.0</td>\n",
       "      <td>6.0</td>\n",
       "      <td>0.0</td>\n",
       "      <td>0.625</td>\n",
       "      <td>0.424</td>\n",
       "      <td>todd bowles</td>\n",
       "      <td>1.0</td>\n",
       "      <td>True</td>\n",
       "      <td>2014</td>\n",
       "      <td>4.0</td>\n",
       "      <td>0.2500</td>\n",
       "      <td>0.3750</td>\n",
       "      <td>B</td>\n",
       "      <td>0.265183</td>\n",
       "      <td>0.386048</td>\n",
       "      <td>127</td>\n",
       "    </tr>\n",
       "  </tbody>\n",
       "</table>\n",
       "</div>"
      ],
      "text/plain": [
       "     year   age                Tm league   G     W    L  Tie  season_WinP  \\\n",
       "143  2016  48.0     Buffalo Bills    NFL   1   0.0  1.0  0.0        0.000   \n",
       "163  2016  42.0  Los Angeles Rams    NFL   3   0.0  3.0  0.0        0.000   \n",
       "136  2017  31.0  Los Angeles Rams    NFL  16  11.0  5.0  0.0        0.688   \n",
       "134  2016  38.0    Miami Dolphins    NFL  16  10.0  6.0  0.0        0.625   \n",
       "124  2015  52.0     New York Jets    NFL  16  10.0  6.0  0.0        0.625   \n",
       "\n",
       "     career_WinP    fuzzy_name  tenure  rookie  prev_year  W_prev  \\\n",
       "143        0.583  anthony lynn     1.0    True       2015     8.0   \n",
       "163        0.000   john fassel     1.0    True       2015     NaN   \n",
       "136        0.792    sean mcvay     1.0    True       2016     4.0   \n",
       "134        0.500     adam gase     1.0    True       2015     1.0   \n",
       "124        0.424   todd bowles     1.0    True       2014     4.0   \n",
       "\n",
       "     season_WinP_prev  winP_change race  compound_mean_mean  \\\n",
       "143            0.5000      -0.5000    B            0.490191   \n",
       "163               NaN       0.0000    W            0.471736   \n",
       "136            0.2500       0.4380    W            0.280502   \n",
       "134            0.0625       0.5625    W            0.266910   \n",
       "124            0.2500       0.3750    B            0.265183   \n",
       "\n",
       "     compound_mean_std  user_count  \n",
       "143           0.387365          11  \n",
       "163           0.322150          11  \n",
       "136           0.392170         267  \n",
       "134           0.376207         187  \n",
       "124           0.386048         127  "
      ]
     },
     "execution_count": 37,
     "metadata": {},
     "output_type": "execute_result"
    }
   ],
   "source": [
    "coaches_covariates_df.sort_values('compound_mean_mean',ascending=False).head(5)"
   ]
  },
  {
   "cell_type": "code",
   "execution_count": 38,
   "metadata": {},
   "outputs": [
    {
     "data": {
      "text/html": [
       "<div>\n",
       "<style scoped>\n",
       "    .dataframe tbody tr th:only-of-type {\n",
       "        vertical-align: middle;\n",
       "    }\n",
       "\n",
       "    .dataframe tbody tr th {\n",
       "        vertical-align: top;\n",
       "    }\n",
       "\n",
       "    .dataframe thead th {\n",
       "        text-align: right;\n",
       "    }\n",
       "</style>\n",
       "<table border=\"1\" class=\"dataframe\">\n",
       "  <thead>\n",
       "    <tr style=\"text-align: right;\">\n",
       "      <th></th>\n",
       "      <th>year</th>\n",
       "      <th>age</th>\n",
       "      <th>Tm</th>\n",
       "      <th>league</th>\n",
       "      <th>G</th>\n",
       "      <th>W</th>\n",
       "      <th>L</th>\n",
       "      <th>Tie</th>\n",
       "      <th>season_WinP</th>\n",
       "      <th>career_WinP</th>\n",
       "      <th>fuzzy_name</th>\n",
       "      <th>tenure</th>\n",
       "      <th>rookie</th>\n",
       "      <th>prev_year</th>\n",
       "      <th>W_prev</th>\n",
       "      <th>season_WinP_prev</th>\n",
       "      <th>winP_change</th>\n",
       "      <th>race</th>\n",
       "      <th>compound_mean_mean</th>\n",
       "      <th>compound_mean_std</th>\n",
       "      <th>user_count</th>\n",
       "    </tr>\n",
       "  </thead>\n",
       "  <tbody>\n",
       "    <tr>\n",
       "      <th>70</th>\n",
       "      <td>2016</td>\n",
       "      <td>54.0</td>\n",
       "      <td>Carolina Panthers</td>\n",
       "      <td>NFL</td>\n",
       "      <td>16</td>\n",
       "      <td>6.0</td>\n",
       "      <td>10.0</td>\n",
       "      <td>0.0</td>\n",
       "      <td>0.375</td>\n",
       "      <td>0.584</td>\n",
       "      <td>ron rivera</td>\n",
       "      <td>6.0</td>\n",
       "      <td>False</td>\n",
       "      <td>2015</td>\n",
       "      <td>15.0</td>\n",
       "      <td>0.9375</td>\n",
       "      <td>-0.5625</td>\n",
       "      <td>W</td>\n",
       "      <td>-0.071170</td>\n",
       "      <td>0.456273</td>\n",
       "      <td>35</td>\n",
       "    </tr>\n",
       "    <tr>\n",
       "      <th>19</th>\n",
       "      <td>2014</td>\n",
       "      <td>59.0</td>\n",
       "      <td>Denver Broncos</td>\n",
       "      <td>NFL</td>\n",
       "      <td>16</td>\n",
       "      <td>12.0</td>\n",
       "      <td>4.0</td>\n",
       "      <td>0.0</td>\n",
       "      <td>0.750</td>\n",
       "      <td>0.520</td>\n",
       "      <td>john fox</td>\n",
       "      <td>4.0</td>\n",
       "      <td>False</td>\n",
       "      <td>2013</td>\n",
       "      <td>13.0</td>\n",
       "      <td>0.8125</td>\n",
       "      <td>-0.0625</td>\n",
       "      <td>W</td>\n",
       "      <td>-0.076513</td>\n",
       "      <td>0.452413</td>\n",
       "      <td>81</td>\n",
       "    </tr>\n",
       "    <tr>\n",
       "      <th>72</th>\n",
       "      <td>2013</td>\n",
       "      <td>54.0</td>\n",
       "      <td>Atlanta Falcons</td>\n",
       "      <td>NFL</td>\n",
       "      <td>16</td>\n",
       "      <td>4.0</td>\n",
       "      <td>12.0</td>\n",
       "      <td>0.0</td>\n",
       "      <td>0.250</td>\n",
       "      <td>0.589</td>\n",
       "      <td>mike smith</td>\n",
       "      <td>6.0</td>\n",
       "      <td>False</td>\n",
       "      <td>2012</td>\n",
       "      <td>13.0</td>\n",
       "      <td>0.8125</td>\n",
       "      <td>-0.5625</td>\n",
       "      <td>W</td>\n",
       "      <td>-0.077130</td>\n",
       "      <td>0.484204</td>\n",
       "      <td>54</td>\n",
       "    </tr>\n",
       "    <tr>\n",
       "      <th>47</th>\n",
       "      <td>2017</td>\n",
       "      <td>54.0</td>\n",
       "      <td>New Orleans Saints</td>\n",
       "      <td>NFL</td>\n",
       "      <td>16</td>\n",
       "      <td>11.0</td>\n",
       "      <td>5.0</td>\n",
       "      <td>0.0</td>\n",
       "      <td>0.688</td>\n",
       "      <td>0.607</td>\n",
       "      <td>sean payton</td>\n",
       "      <td>11.0</td>\n",
       "      <td>False</td>\n",
       "      <td>2016</td>\n",
       "      <td>7.0</td>\n",
       "      <td>0.4375</td>\n",
       "      <td>0.2505</td>\n",
       "      <td>W</td>\n",
       "      <td>-0.112689</td>\n",
       "      <td>0.445694</td>\n",
       "      <td>214</td>\n",
       "    </tr>\n",
       "    <tr>\n",
       "      <th>154</th>\n",
       "      <td>2017</td>\n",
       "      <td>58.0</td>\n",
       "      <td>New York Giants</td>\n",
       "      <td>NFL</td>\n",
       "      <td>4</td>\n",
       "      <td>1.0</td>\n",
       "      <td>3.0</td>\n",
       "      <td>0.0</td>\n",
       "      <td>0.250</td>\n",
       "      <td>0.212</td>\n",
       "      <td>steve spagnuolo</td>\n",
       "      <td>1.0</td>\n",
       "      <td>True</td>\n",
       "      <td>2016</td>\n",
       "      <td>11.0</td>\n",
       "      <td>0.6875</td>\n",
       "      <td>-0.4375</td>\n",
       "      <td>W</td>\n",
       "      <td>-0.127200</td>\n",
       "      <td>0.444799</td>\n",
       "      <td>6</td>\n",
       "    </tr>\n",
       "  </tbody>\n",
       "</table>\n",
       "</div>"
      ],
      "text/plain": [
       "     year   age                  Tm league   G     W     L  Tie  season_WinP  \\\n",
       "70   2016  54.0   Carolina Panthers    NFL  16   6.0  10.0  0.0        0.375   \n",
       "19   2014  59.0      Denver Broncos    NFL  16  12.0   4.0  0.0        0.750   \n",
       "72   2013  54.0     Atlanta Falcons    NFL  16   4.0  12.0  0.0        0.250   \n",
       "47   2017  54.0  New Orleans Saints    NFL  16  11.0   5.0  0.0        0.688   \n",
       "154  2017  58.0     New York Giants    NFL   4   1.0   3.0  0.0        0.250   \n",
       "\n",
       "     career_WinP       fuzzy_name  tenure  rookie  prev_year  W_prev  \\\n",
       "70         0.584       ron rivera     6.0   False       2015    15.0   \n",
       "19         0.520         john fox     4.0   False       2013    13.0   \n",
       "72         0.589       mike smith     6.0   False       2012    13.0   \n",
       "47         0.607      sean payton    11.0   False       2016     7.0   \n",
       "154        0.212  steve spagnuolo     1.0    True       2016    11.0   \n",
       "\n",
       "     season_WinP_prev  winP_change race  compound_mean_mean  \\\n",
       "70             0.9375      -0.5625    W           -0.071170   \n",
       "19             0.8125      -0.0625    W           -0.076513   \n",
       "72             0.8125      -0.5625    W           -0.077130   \n",
       "47             0.4375       0.2505    W           -0.112689   \n",
       "154            0.6875      -0.4375    W           -0.127200   \n",
       "\n",
       "     compound_mean_std  user_count  \n",
       "70            0.456273          35  \n",
       "19            0.452413          81  \n",
       "72            0.484204          54  \n",
       "47            0.445694         214  \n",
       "154           0.444799           6  "
      ]
     },
     "execution_count": 38,
     "metadata": {},
     "output_type": "execute_result"
    }
   ],
   "source": [
    "coaches_covariates_df.sort_values('compound_mean_mean',ascending=False).tail(5)"
   ]
  },
  {
   "cell_type": "markdown",
   "metadata": {},
   "source": [
    "### Filter to coaches with enough games and comments and explore data"
   ]
  },
  {
   "cell_type": "code",
   "execution_count": 39,
   "metadata": {},
   "outputs": [],
   "source": [
    "coaches_fit_df = coaches_covariates_df.query('G >= 10 and user_count > 10')\n",
    "coaches_covariates_df.to_csv('modeling_data/nfl_coaches_covariates.tsv', sep='\\t', index=False)"
   ]
  },
  {
   "cell_type": "code",
   "execution_count": 40,
   "metadata": {},
   "outputs": [
    {
     "data": {
      "image/png": "[encoded data removed]",
      "text/plain": [
       "<Figure size 1080x360 with 3 Axes>"
      ]
     },
     "metadata": {
      "needs_background": "light"
     },
     "output_type": "display_data"
    }
   ],
   "source": [
    "fig, axes = plt.subplots(1,3, figsize = [15, 5])\n",
    "coaches_fit_df.plot.scatter('season_WinP', 'compound_mean_mean', ax = axes[0]);\n",
    "coaches_fit_df.plot.scatter('winP_change', 'compound_mean_mean', ax = axes[1]);\n",
    "coaches_fit_df.plot.scatter('tenure', 'compound_mean_mean', ax = axes[2]);"
   ]
  },
  {
   "cell_type": "code",
   "execution_count": 41,
   "metadata": {},
   "outputs": [
    {
     "data": {
      "text/html": [
       "<div>\n",
       "<style scoped>\n",
       "    .dataframe tbody tr th:only-of-type {\n",
       "        vertical-align: middle;\n",
       "    }\n",
       "\n",
       "    .dataframe tbody tr th {\n",
       "        vertical-align: top;\n",
       "    }\n",
       "\n",
       "    .dataframe thead th {\n",
       "        text-align: right;\n",
       "    }\n",
       "</style>\n",
       "<table border=\"1\" class=\"dataframe\">\n",
       "  <thead>\n",
       "    <tr style=\"text-align: right;\">\n",
       "      <th></th>\n",
       "      <th>mean</th>\n",
       "      <th>count</th>\n",
       "    </tr>\n",
       "    <tr>\n",
       "      <th>race</th>\n",
       "      <th></th>\n",
       "      <th></th>\n",
       "    </tr>\n",
       "  </thead>\n",
       "  <tbody>\n",
       "    <tr>\n",
       "      <th>B</th>\n",
       "      <td>0.050933</td>\n",
       "      <td>24</td>\n",
       "    </tr>\n",
       "    <tr>\n",
       "      <th>W</th>\n",
       "      <td>0.071046</td>\n",
       "      <td>130</td>\n",
       "    </tr>\n",
       "  </tbody>\n",
       "</table>\n",
       "</div>"
      ],
      "text/plain": [
       "          mean  count\n",
       "race                 \n",
       "B     0.050933     24\n",
       "W     0.071046    130"
      ]
     },
     "execution_count": 41,
     "metadata": {},
     "output_type": "execute_result"
    }
   ],
   "source": [
    "coaches_fit_df.groupby('race').agg(['mean', 'count'])['compound_mean_mean']"
   ]
  },
  {
   "cell_type": "markdown",
   "metadata": {},
   "source": [
    "#### Regression model full - no clustering"
   ]
  },
  {
   "cell_type": "code",
   "execution_count": 45,
   "metadata": {},
   "outputs": [],
   "source": [
    "'''model = sm.WLS( fit_df['compound_mean_mean'].values,\n",
    "               fit_df[['youth', 'oldness', 'Wins', 'W', 'M', 'short', 'tall',\n",
    "                       'PS/G', '3P%' , 'TRB%', 'AST%','BLK%', 'STL%', 'OWS', 'DWS']],\n",
    "               fit_df['user_count']).fit()'''\n",
    "coach_model = smf.wls( formula = 'compound_mean_mean ~ age + tenure + rookie + season_WinP + winP_change + career_WinP + C(race)',\n",
    "                data = coaches_fit_df,\n",
    "               weights = 1 / (coaches_fit_df['compound_mean_std'] / np.sqrt(coaches_fit_df['user_count'])),\n",
    "#                missing='raise'   \n",
    "               ).fit()"
   ]
  },
  {
   "cell_type": "code",
   "execution_count": 46,
   "metadata": {},
   "outputs": [
    {
     "data": {
      "text/html": [
       "<table class=\"simpletable\">\n",
       "<caption>WLS Regression Results</caption>\n",
       "<tr>\n",
       "  <th>Dep. Variable:</th>    <td>compound_mean_mean</td> <th>  R-squared:         </th> <td>   0.330</td>\n",
       "</tr>\n",
       "<tr>\n",
       "  <th>Model:</th>                    <td>WLS</td>        <th>  Adj. R-squared:    </th> <td>   0.298</td>\n",
       "</tr>\n",
       "<tr>\n",
       "  <th>Method:</th>              <td>Least Squares</td>   <th>  F-statistic:       </th> <td>   10.29</td>\n",
       "</tr>\n",
       "<tr>\n",
       "  <th>Date:</th>              <td>Sun, 16 Dec 2018</td>  <th>  Prob (F-statistic):</th> <td>1.88e-10</td>\n",
       "</tr>\n",
       "<tr>\n",
       "  <th>Time:</th>                  <td>20:29:31</td>      <th>  Log-Likelihood:    </th> <td>  198.93</td>\n",
       "</tr>\n",
       "<tr>\n",
       "  <th>No. Observations:</th>       <td>   154</td>       <th>  AIC:               </th> <td>  -381.9</td>\n",
       "</tr>\n",
       "<tr>\n",
       "  <th>Df Residuals:</th>           <td>   146</td>       <th>  BIC:               </th> <td>  -357.6</td>\n",
       "</tr>\n",
       "<tr>\n",
       "  <th>Df Model:</th>               <td>     7</td>       <th>                     </th>     <td> </td>   \n",
       "</tr>\n",
       "<tr>\n",
       "  <th>Covariance Type:</th>       <td>nonrobust</td>     <th>                     </th>     <td> </td>   \n",
       "</tr>\n",
       "</table>\n",
       "<table class=\"simpletable\">\n",
       "<tr>\n",
       "         <td></td>           <th>coef</th>     <th>std err</th>      <th>t</th>      <th>P>|t|</th>  <th>[0.025</th>    <th>0.975]</th>  \n",
       "</tr>\n",
       "<tr>\n",
       "  <th>Intercept</th>      <td>    0.0847</td> <td>    0.049</td> <td>    1.721</td> <td> 0.087</td> <td>   -0.013</td> <td>    0.182</td>\n",
       "</tr>\n",
       "<tr>\n",
       "  <th>rookie[T.True]</th> <td>    0.0668</td> <td>    0.016</td> <td>    4.306</td> <td> 0.000</td> <td>    0.036</td> <td>    0.097</td>\n",
       "</tr>\n",
       "<tr>\n",
       "  <th>C(race)[T.W]</th>   <td>    0.0158</td> <td>    0.016</td> <td>    1.001</td> <td> 0.318</td> <td>   -0.015</td> <td>    0.047</td>\n",
       "</tr>\n",
       "<tr>\n",
       "  <th>age</th>            <td>   -0.0021</td> <td>    0.001</td> <td>   -2.530</td> <td> 0.012</td> <td>   -0.004</td> <td>   -0.000</td>\n",
       "</tr>\n",
       "<tr>\n",
       "  <th>tenure</th>         <td>    0.0020</td> <td>    0.001</td> <td>    1.342</td> <td> 0.182</td> <td>   -0.001</td> <td>    0.005</td>\n",
       "</tr>\n",
       "<tr>\n",
       "  <th>season_WinP</th>    <td>    0.1439</td> <td>    0.044</td> <td>    3.302</td> <td> 0.001</td> <td>    0.058</td> <td>    0.230</td>\n",
       "</tr>\n",
       "<tr>\n",
       "  <th>winP_change</th>    <td>    0.0259</td> <td>    0.031</td> <td>    0.823</td> <td> 0.412</td> <td>   -0.036</td> <td>    0.088</td>\n",
       "</tr>\n",
       "<tr>\n",
       "  <th>career_WinP</th>    <td>   -0.0198</td> <td>    0.070</td> <td>   -0.285</td> <td> 0.776</td> <td>   -0.157</td> <td>    0.118</td>\n",
       "</tr>\n",
       "</table>\n",
       "<table class=\"simpletable\">\n",
       "<tr>\n",
       "  <th>Omnibus:</th>       <td> 3.852</td> <th>  Durbin-Watson:     </th> <td>   1.832</td>\n",
       "</tr>\n",
       "<tr>\n",
       "  <th>Prob(Omnibus):</th> <td> 0.146</td> <th>  Jarque-Bera (JB):  </th> <td>   4.215</td>\n",
       "</tr>\n",
       "<tr>\n",
       "  <th>Skew:</th>          <td>-0.145</td> <th>  Prob(JB):          </th> <td>   0.122</td>\n",
       "</tr>\n",
       "<tr>\n",
       "  <th>Kurtosis:</th>      <td> 3.757</td> <th>  Cond. No.          </th> <td>    843.</td>\n",
       "</tr>\n",
       "</table><br/><br/>Warnings:<br/>[1] Standard Errors assume that the covariance matrix of the errors is correctly specified."
      ],
      "text/plain": [
       "<class 'statsmodels.iolib.summary.Summary'>\n",
       "\"\"\"\n",
       "                            WLS Regression Results                            \n",
       "==============================================================================\n",
       "Dep. Variable:     compound_mean_mean   R-squared:                       0.330\n",
       "Model:                            WLS   Adj. R-squared:                  0.298\n",
       "Method:                 Least Squares   F-statistic:                     10.29\n",
       "Date:                Sun, 16 Dec 2018   Prob (F-statistic):           1.88e-10\n",
       "Time:                        20:29:31   Log-Likelihood:                 198.93\n",
       "No. Observations:                 154   AIC:                            -381.9\n",
       "Df Residuals:                     146   BIC:                            -357.6\n",
       "Df Model:                           7                                         \n",
       "Covariance Type:            nonrobust                                         \n",
       "==================================================================================\n",
       "                     coef    std err          t      P>|t|      [0.025      0.975]\n",
       "----------------------------------------------------------------------------------\n",
       "Intercept          0.0847      0.049      1.721      0.087      -0.013       0.182\n",
       "rookie[T.True]     0.0668      0.016      4.306      0.000       0.036       0.097\n",
       "C(race)[T.W]       0.0158      0.016      1.001      0.318      -0.015       0.047\n",
       "age               -0.0021      0.001     -2.530      0.012      -0.004      -0.000\n",
       "tenure             0.0020      0.001      1.342      0.182      -0.001       0.005\n",
       "season_WinP        0.1439      0.044      3.302      0.001       0.058       0.230\n",
       "winP_change        0.0259      0.031      0.823      0.412      -0.036       0.088\n",
       "career_WinP       -0.0198      0.070     -0.285      0.776      -0.157       0.118\n",
       "==============================================================================\n",
       "Omnibus:                        3.852   Durbin-Watson:                   1.832\n",
       "Prob(Omnibus):                  0.146   Jarque-Bera (JB):                4.215\n",
       "Skew:                          -0.145   Prob(JB):                        0.122\n",
       "Kurtosis:                       3.757   Cond. No.                         843.\n",
       "==============================================================================\n",
       "\n",
       "Warnings:\n",
       "[1] Standard Errors assume that the covariance matrix of the errors is correctly specified.\n",
       "\"\"\""
      ]
     },
     "execution_count": 46,
     "metadata": {},
     "output_type": "execute_result"
    }
   ],
   "source": [
    "coach_model.summary()"
   ]
  },
  {
   "cell_type": "markdown",
   "metadata": {},
   "source": [
    "#### Regression model full - with clustering"
   ]
  },
  {
   "cell_type": "code",
   "execution_count": 57,
   "metadata": {},
   "outputs": [],
   "source": [
    "'''model = sm.WLS( fit_df['compound_mean_mean'].values,\n",
    "               fit_df[['youth', 'oldness', 'Wins', 'W', 'M', 'short', 'tall',\n",
    "                       'PS/G', '3P%' , 'TRB%', 'AST%','BLK%', 'STL%', 'OWS', 'DWS']],\n",
    "               fit_df['user_count']).fit()'''\n",
    "coach_model = smf.wls( formula = 'compound_mean_mean ~ age + tenure + rookie + career_WinP + winP_change + season_WinP + C(race)',\n",
    "                data = coaches_fit_df,\n",
    "               weights = 1 / (coaches_fit_df['compound_mean_std'] / np.sqrt(coaches_fit_df['user_count'])),\n",
    "#                missing='raise'   \n",
    "               ).fit(cov_type='cluster', cov_kwds={'groups' : coaches_fit_df['fuzzy_name']})"
   ]
  },
  {
   "cell_type": "code",
   "execution_count": 58,
   "metadata": {},
   "outputs": [
    {
     "data": {
      "text/html": [
       "<table class=\"simpletable\">\n",
       "<caption>WLS Regression Results</caption>\n",
       "<tr>\n",
       "  <th>Dep. Variable:</th>    <td>compound_mean_mean</td> <th>  R-squared:         </th> <td>   0.330</td>\n",
       "</tr>\n",
       "<tr>\n",
       "  <th>Model:</th>                    <td>WLS</td>        <th>  Adj. R-squared:    </th> <td>   0.298</td>\n",
       "</tr>\n",
       "<tr>\n",
       "  <th>Method:</th>              <td>Least Squares</td>   <th>  F-statistic:       </th> <td>   9.790</td>\n",
       "</tr>\n",
       "<tr>\n",
       "  <th>Date:</th>              <td>Sun, 16 Dec 2018</td>  <th>  Prob (F-statistic):</th> <td>9.20e-08</td>\n",
       "</tr>\n",
       "<tr>\n",
       "  <th>Time:</th>                  <td>21:03:36</td>      <th>  Log-Likelihood:    </th> <td>  198.93</td>\n",
       "</tr>\n",
       "<tr>\n",
       "  <th>No. Observations:</th>       <td>   154</td>       <th>  AIC:               </th> <td>  -381.9</td>\n",
       "</tr>\n",
       "<tr>\n",
       "  <th>Df Residuals:</th>           <td>   146</td>       <th>  BIC:               </th> <td>  -357.6</td>\n",
       "</tr>\n",
       "<tr>\n",
       "  <th>Df Model:</th>               <td>     7</td>       <th>                     </th>     <td> </td>   \n",
       "</tr>\n",
       "<tr>\n",
       "  <th>Covariance Type:</th>        <td>cluster</td>      <th>                     </th>     <td> </td>   \n",
       "</tr>\n",
       "</table>\n",
       "<table class=\"simpletable\">\n",
       "<tr>\n",
       "         <td></td>           <th>coef</th>     <th>std err</th>      <th>z</th>      <th>P>|z|</th>  <th>[0.025</th>    <th>0.975]</th>  \n",
       "</tr>\n",
       "<tr>\n",
       "  <th>Intercept</th>      <td>    0.0847</td> <td>    0.061</td> <td>    1.400</td> <td> 0.162</td> <td>   -0.034</td> <td>    0.203</td>\n",
       "</tr>\n",
       "<tr>\n",
       "  <th>rookie[T.True]</th> <td>    0.0668</td> <td>    0.017</td> <td>    4.012</td> <td> 0.000</td> <td>    0.034</td> <td>    0.099</td>\n",
       "</tr>\n",
       "<tr>\n",
       "  <th>C(race)[T.W]</th>   <td>    0.0158</td> <td>    0.017</td> <td>    0.910</td> <td> 0.363</td> <td>   -0.018</td> <td>    0.050</td>\n",
       "</tr>\n",
       "<tr>\n",
       "  <th>age</th>            <td>   -0.0021</td> <td>    0.001</td> <td>   -2.040</td> <td> 0.041</td> <td>   -0.004</td> <td>-8.36e-05</td>\n",
       "</tr>\n",
       "<tr>\n",
       "  <th>tenure</th>         <td>    0.0020</td> <td>    0.002</td> <td>    1.158</td> <td> 0.247</td> <td>   -0.001</td> <td>    0.005</td>\n",
       "</tr>\n",
       "<tr>\n",
       "  <th>career_WinP</th>    <td>   -0.0198</td> <td>    0.087</td> <td>   -0.228</td> <td> 0.820</td> <td>   -0.190</td> <td>    0.151</td>\n",
       "</tr>\n",
       "<tr>\n",
       "  <th>winP_change</th>    <td>    0.0259</td> <td>    0.034</td> <td>    0.771</td> <td> 0.440</td> <td>   -0.040</td> <td>    0.092</td>\n",
       "</tr>\n",
       "<tr>\n",
       "  <th>season_WinP</th>    <td>    0.1439</td> <td>    0.046</td> <td>    3.140</td> <td> 0.002</td> <td>    0.054</td> <td>    0.234</td>\n",
       "</tr>\n",
       "</table>\n",
       "<table class=\"simpletable\">\n",
       "<tr>\n",
       "  <th>Omnibus:</th>       <td> 3.852</td> <th>  Durbin-Watson:     </th> <td>   1.832</td>\n",
       "</tr>\n",
       "<tr>\n",
       "  <th>Prob(Omnibus):</th> <td> 0.146</td> <th>  Jarque-Bera (JB):  </th> <td>   4.215</td>\n",
       "</tr>\n",
       "<tr>\n",
       "  <th>Skew:</th>          <td>-0.145</td> <th>  Prob(JB):          </th> <td>   0.122</td>\n",
       "</tr>\n",
       "<tr>\n",
       "  <th>Kurtosis:</th>      <td> 3.757</td> <th>  Cond. No.          </th> <td>    843.</td>\n",
       "</tr>\n",
       "</table><br/><br/>Warnings:<br/>[1] Standard Errors are robust tocluster correlation (cluster)"
      ],
      "text/plain": [
       "<class 'statsmodels.iolib.summary.Summary'>\n",
       "\"\"\"\n",
       "                            WLS Regression Results                            \n",
       "==============================================================================\n",
       "Dep. Variable:     compound_mean_mean   R-squared:                       0.330\n",
       "Model:                            WLS   Adj. R-squared:                  0.298\n",
       "Method:                 Least Squares   F-statistic:                     9.790\n",
       "Date:                Sun, 16 Dec 2018   Prob (F-statistic):           9.20e-08\n",
       "Time:                        21:03:36   Log-Likelihood:                 198.93\n",
       "No. Observations:                 154   AIC:                            -381.9\n",
       "Df Residuals:                     146   BIC:                            -357.6\n",
       "Df Model:                           7                                         \n",
       "Covariance Type:              cluster                                         \n",
       "==================================================================================\n",
       "                     coef    std err          z      P>|z|      [0.025      0.975]\n",
       "----------------------------------------------------------------------------------\n",
       "Intercept          0.0847      0.061      1.400      0.162      -0.034       0.203\n",
       "rookie[T.True]     0.0668      0.017      4.012      0.000       0.034       0.099\n",
       "C(race)[T.W]       0.0158      0.017      0.910      0.363      -0.018       0.050\n",
       "age               -0.0021      0.001     -2.040      0.041      -0.004   -8.36e-05\n",
       "tenure             0.0020      0.002      1.158      0.247      -0.001       0.005\n",
       "career_WinP       -0.0198      0.087     -0.228      0.820      -0.190       0.151\n",
       "winP_change        0.0259      0.034      0.771      0.440      -0.040       0.092\n",
       "season_WinP        0.1439      0.046      3.140      0.002       0.054       0.234\n",
       "==============================================================================\n",
       "Omnibus:                        3.852   Durbin-Watson:                   1.832\n",
       "Prob(Omnibus):                  0.146   Jarque-Bera (JB):                4.215\n",
       "Skew:                          -0.145   Prob(JB):                        0.122\n",
       "Kurtosis:                       3.757   Cond. No.                         843.\n",
       "==============================================================================\n",
       "\n",
       "Warnings:\n",
       "[1] Standard Errors are robust tocluster correlation (cluster)\n",
       "\"\"\""
      ]
     },
     "execution_count": 58,
     "metadata": {},
     "output_type": "execute_result"
    }
   ],
   "source": [
    "coach_model.summary()"
   ]
  },
  {
   "cell_type": "markdown",
   "metadata": {},
   "source": [
    "#### Coaches regression full with interaction - clustered errors"
   ]
  },
  {
   "cell_type": "code",
   "execution_count": 49,
   "metadata": {},
   "outputs": [
    {
     "name": "stderr",
     "output_type": "stream",
     "text": [
      "C:\\Users\\map22\\Anaconda3\\lib\\site-packages\\ipykernel_launcher.py:1: SettingWithCopyWarning: \n",
      "A value is trying to be set on a copy of a slice from a DataFrame.\n",
      "Try using .loc[row_indexer,col_indexer] = value instead\n",
      "\n",
      "See the caveats in the documentation: http://pandas.pydata.org/pandas-docs/stable/indexing.html#indexing-view-versus-copy\n",
      "  \"\"\"Entry point for launching an IPython kernel.\n"
     ]
    }
   ],
   "source": [
    "coaches_fit_df['demean_WinP'] = coaches_fit_df['season_WinP'] - coaches_fit_df['season_WinP'].mean()"
   ]
  },
  {
   "cell_type": "code",
   "execution_count": 59,
   "metadata": {},
   "outputs": [],
   "source": [
    "'''model = sm.WLS( fit_df['compound_mean_mean'].values,\n",
    "               fit_df[['youth', 'oldness', 'Wins', 'W', 'M', 'short', 'tall',\n",
    "                       'PS/G', '3P%' , 'TRB%', 'AST%','BLK%', 'STL%', 'OWS', 'DWS']],\n",
    "               fit_df['user_count']).fit()'''\n",
    "coach_model_clustered = smf.wls( formula = 'compound_mean_mean ~ age + tenure + rookie + winP_change + career_WinP + demean_WinP * C(race)',\n",
    "                data = coaches_fit_df,\n",
    "               weights = 1 / (coaches_fit_df['compound_mean_std'] / np.sqrt(coaches_fit_df['user_count'])),\n",
    "#                missing='raise'   \n",
    "               ).fit(cov_type='cluster', cov_kwds={'groups' : coaches_fit_df['fuzzy_name']})"
   ]
  },
  {
   "cell_type": "code",
   "execution_count": 60,
   "metadata": {},
   "outputs": [
    {
     "data": {
      "text/html": [
       "<table class=\"simpletable\">\n",
       "<caption>WLS Regression Results</caption>\n",
       "<tr>\n",
       "  <th>Dep. Variable:</th>    <td>compound_mean_mean</td> <th>  R-squared:         </th> <td>   0.333</td>\n",
       "</tr>\n",
       "<tr>\n",
       "  <th>Model:</th>                    <td>WLS</td>        <th>  Adj. R-squared:    </th> <td>   0.296</td>\n",
       "</tr>\n",
       "<tr>\n",
       "  <th>Method:</th>              <td>Least Squares</td>   <th>  F-statistic:       </th> <td>   10.38</td>\n",
       "</tr>\n",
       "<tr>\n",
       "  <th>Date:</th>              <td>Sun, 16 Dec 2018</td>  <th>  Prob (F-statistic):</th> <td>1.33e-08</td>\n",
       "</tr>\n",
       "<tr>\n",
       "  <th>Time:</th>                  <td>21:05:33</td>      <th>  Log-Likelihood:    </th> <td>  199.24</td>\n",
       "</tr>\n",
       "<tr>\n",
       "  <th>No. Observations:</th>       <td>   154</td>       <th>  AIC:               </th> <td>  -380.5</td>\n",
       "</tr>\n",
       "<tr>\n",
       "  <th>Df Residuals:</th>           <td>   145</td>       <th>  BIC:               </th> <td>  -353.1</td>\n",
       "</tr>\n",
       "<tr>\n",
       "  <th>Df Model:</th>               <td>     8</td>       <th>                     </th>     <td> </td>   \n",
       "</tr>\n",
       "<tr>\n",
       "  <th>Covariance Type:</th>        <td>cluster</td>      <th>                     </th>     <td> </td>   \n",
       "</tr>\n",
       "</table>\n",
       "<table class=\"simpletable\">\n",
       "<tr>\n",
       "              <td></td>                <th>coef</th>     <th>std err</th>      <th>z</th>      <th>P>|z|</th>  <th>[0.025</th>    <th>0.975]</th>  \n",
       "</tr>\n",
       "<tr>\n",
       "  <th>Intercept</th>                <td>    0.1593</td> <td>    0.063</td> <td>    2.547</td> <td> 0.011</td> <td>    0.037</td> <td>    0.282</td>\n",
       "</tr>\n",
       "<tr>\n",
       "  <th>rookie[T.True]</th>           <td>    0.0667</td> <td>    0.017</td> <td>    3.989</td> <td> 0.000</td> <td>    0.034</td> <td>    0.100</td>\n",
       "</tr>\n",
       "<tr>\n",
       "  <th>C(race)[T.W]</th>             <td>    0.0190</td> <td>    0.018</td> <td>    1.060</td> <td> 0.289</td> <td>   -0.016</td> <td>    0.054</td>\n",
       "</tr>\n",
       "<tr>\n",
       "  <th>age</th>                      <td>   -0.0023</td> <td>    0.001</td> <td>   -2.089</td> <td> 0.037</td> <td>   -0.004</td> <td>   -0.000</td>\n",
       "</tr>\n",
       "<tr>\n",
       "  <th>tenure</th>                   <td>    0.0021</td> <td>    0.002</td> <td>    1.237</td> <td> 0.216</td> <td>   -0.001</td> <td>    0.005</td>\n",
       "</tr>\n",
       "<tr>\n",
       "  <th>winP_change</th>              <td>    0.0234</td> <td>    0.034</td> <td>    0.687</td> <td> 0.492</td> <td>   -0.043</td> <td>    0.090</td>\n",
       "</tr>\n",
       "<tr>\n",
       "  <th>career_WinP</th>              <td>   -0.0169</td> <td>    0.087</td> <td>   -0.194</td> <td> 0.846</td> <td>   -0.187</td> <td>    0.154</td>\n",
       "</tr>\n",
       "<tr>\n",
       "  <th>demean_WinP</th>              <td>    0.1002</td> <td>    0.065</td> <td>    1.536</td> <td> 0.125</td> <td>   -0.028</td> <td>    0.228</td>\n",
       "</tr>\n",
       "<tr>\n",
       "  <th>demean_WinP:C(race)[T.W]</th> <td>    0.0534</td> <td>    0.059</td> <td>    0.899</td> <td> 0.369</td> <td>   -0.063</td> <td>    0.170</td>\n",
       "</tr>\n",
       "</table>\n",
       "<table class=\"simpletable\">\n",
       "<tr>\n",
       "  <th>Omnibus:</th>       <td> 4.198</td> <th>  Durbin-Watson:     </th> <td>   1.852</td>\n",
       "</tr>\n",
       "<tr>\n",
       "  <th>Prob(Omnibus):</th> <td> 0.123</td> <th>  Jarque-Bera (JB):  </th> <td>   4.971</td>\n",
       "</tr>\n",
       "<tr>\n",
       "  <th>Skew:</th>          <td>-0.124</td> <th>  Prob(JB):          </th> <td>  0.0833</td>\n",
       "</tr>\n",
       "<tr>\n",
       "  <th>Kurtosis:</th>      <td> 3.844</td> <th>  Cond. No.          </th> <td>1.07e+03</td>\n",
       "</tr>\n",
       "</table><br/><br/>Warnings:<br/>[1] Standard Errors are robust tocluster correlation (cluster)<br/>[2] The condition number is large, 1.07e+03. This might indicate that there are<br/>strong multicollinearity or other numerical problems."
      ],
      "text/plain": [
       "<class 'statsmodels.iolib.summary.Summary'>\n",
       "\"\"\"\n",
       "                            WLS Regression Results                            \n",
       "==============================================================================\n",
       "Dep. Variable:     compound_mean_mean   R-squared:                       0.333\n",
       "Model:                            WLS   Adj. R-squared:                  0.296\n",
       "Method:                 Least Squares   F-statistic:                     10.38\n",
       "Date:                Sun, 16 Dec 2018   Prob (F-statistic):           1.33e-08\n",
       "Time:                        21:05:33   Log-Likelihood:                 199.24\n",
       "No. Observations:                 154   AIC:                            -380.5\n",
       "Df Residuals:                     145   BIC:                            -353.1\n",
       "Df Model:                           8                                         \n",
       "Covariance Type:              cluster                                         \n",
       "============================================================================================\n",
       "                               coef    std err          z      P>|z|      [0.025      0.975]\n",
       "--------------------------------------------------------------------------------------------\n",
       "Intercept                    0.1593      0.063      2.547      0.011       0.037       0.282\n",
       "rookie[T.True]               0.0667      0.017      3.989      0.000       0.034       0.100\n",
       "C(race)[T.W]                 0.0190      0.018      1.060      0.289      -0.016       0.054\n",
       "age                         -0.0023      0.001     -2.089      0.037      -0.004      -0.000\n",
       "tenure                       0.0021      0.002      1.237      0.216      -0.001       0.005\n",
       "winP_change                  0.0234      0.034      0.687      0.492      -0.043       0.090\n",
       "career_WinP                 -0.0169      0.087     -0.194      0.846      -0.187       0.154\n",
       "demean_WinP                  0.1002      0.065      1.536      0.125      -0.028       0.228\n",
       "demean_WinP:C(race)[T.W]     0.0534      0.059      0.899      0.369      -0.063       0.170\n",
       "==============================================================================\n",
       "Omnibus:                        4.198   Durbin-Watson:                   1.852\n",
       "Prob(Omnibus):                  0.123   Jarque-Bera (JB):                4.971\n",
       "Skew:                          -0.124   Prob(JB):                       0.0833\n",
       "Kurtosis:                       3.844   Cond. No.                     1.07e+03\n",
       "==============================================================================\n",
       "\n",
       "Warnings:\n",
       "[1] Standard Errors are robust tocluster correlation (cluster)\n",
       "[2] The condition number is large, 1.07e+03. This might indicate that there are\n",
       "strong multicollinearity or other numerical problems.\n",
       "\"\"\""
      ]
     },
     "execution_count": 60,
     "metadata": {},
     "output_type": "execute_result"
    }
   ],
   "source": [
    "coach_model_clustered.summary()"
   ]
  },
  {
   "cell_type": "markdown",
   "metadata": {},
   "source": [
    "#### Coaches regression performance only - clustered errors"
   ]
  },
  {
   "cell_type": "code",
   "execution_count": 62,
   "metadata": {},
   "outputs": [],
   "source": [
    "'''model = sm.WLS( fit_df['compound_mean_mean'].values,\n",
    "               fit_df[['youth', 'oldness', 'Wins', 'W', 'M', 'short', 'tall',\n",
    "                       'PS/G', '3P%' , 'TRB%', 'AST%','BLK%', 'STL%', 'OWS', 'DWS']],\n",
    "               fit_df['user_count']).fit()'''\n",
    "coach_model_clustered = smf.wls( formula = 'compound_mean_mean ~ winP_change + career_WinP + season_WinP',\n",
    "                data = coaches_fit_df,\n",
    "               weights = 1 / (coaches_fit_df['compound_mean_std'] / np.sqrt(coaches_fit_df['user_count'])),\n",
    "#                missing='raise'   \n",
    "               ).fit(cov_type='cluster', cov_kwds={'groups' : coaches_fit_df['fuzzy_name']})"
   ]
  },
  {
   "cell_type": "code",
   "execution_count": 63,
   "metadata": {},
   "outputs": [
    {
     "data": {
      "text/html": [
       "<table class=\"simpletable\">\n",
       "<caption>WLS Regression Results</caption>\n",
       "<tr>\n",
       "  <th>Dep. Variable:</th>    <td>compound_mean_mean</td> <th>  R-squared:         </th> <td>   0.201</td>\n",
       "</tr>\n",
       "<tr>\n",
       "  <th>Model:</th>                    <td>WLS</td>        <th>  Adj. R-squared:    </th> <td>   0.185</td>\n",
       "</tr>\n",
       "<tr>\n",
       "  <th>Method:</th>              <td>Least Squares</td>   <th>  F-statistic:       </th> <td>   9.281</td>\n",
       "</tr>\n",
       "<tr>\n",
       "  <th>Date:</th>              <td>Sun, 16 Dec 2018</td>  <th>  Prob (F-statistic):</th> <td>4.94e-05</td>\n",
       "</tr>\n",
       "<tr>\n",
       "  <th>Time:</th>                  <td>21:10:51</td>      <th>  Log-Likelihood:    </th> <td>  185.33</td>\n",
       "</tr>\n",
       "<tr>\n",
       "  <th>No. Observations:</th>       <td>   154</td>       <th>  AIC:               </th> <td>  -362.7</td>\n",
       "</tr>\n",
       "<tr>\n",
       "  <th>Df Residuals:</th>           <td>   150</td>       <th>  BIC:               </th> <td>  -350.5</td>\n",
       "</tr>\n",
       "<tr>\n",
       "  <th>Df Model:</th>               <td>     3</td>       <th>                     </th>     <td> </td>   \n",
       "</tr>\n",
       "<tr>\n",
       "  <th>Covariance Type:</th>        <td>cluster</td>      <th>                     </th>     <td> </td>   \n",
       "</tr>\n",
       "</table>\n",
       "<table class=\"simpletable\">\n",
       "<tr>\n",
       "       <td></td>          <th>coef</th>     <th>std err</th>      <th>z</th>      <th>P>|z|</th>  <th>[0.025</th>    <th>0.975]</th>  \n",
       "</tr>\n",
       "<tr>\n",
       "  <th>Intercept</th>   <td>    0.0303</td> <td>    0.035</td> <td>    0.867</td> <td> 0.386</td> <td>   -0.038</td> <td>    0.099</td>\n",
       "</tr>\n",
       "<tr>\n",
       "  <th>winP_change</th> <td>    0.0886</td> <td>    0.040</td> <td>    2.214</td> <td> 0.027</td> <td>    0.010</td> <td>    0.167</td>\n",
       "</tr>\n",
       "<tr>\n",
       "  <th>career_WinP</th> <td>   -0.0144</td> <td>    0.099</td> <td>   -0.145</td> <td> 0.885</td> <td>   -0.209</td> <td>    0.180</td>\n",
       "</tr>\n",
       "<tr>\n",
       "  <th>season_WinP</th> <td>    0.0927</td> <td>    0.050</td> <td>    1.838</td> <td> 0.066</td> <td>   -0.006</td> <td>    0.192</td>\n",
       "</tr>\n",
       "</table>\n",
       "<table class=\"simpletable\">\n",
       "<tr>\n",
       "  <th>Omnibus:</th>       <td> 6.355</td> <th>  Durbin-Watson:     </th> <td>   1.708</td>\n",
       "</tr>\n",
       "<tr>\n",
       "  <th>Prob(Omnibus):</th> <td> 0.042</td> <th>  Jarque-Bera (JB):  </th> <td>   8.859</td>\n",
       "</tr>\n",
       "<tr>\n",
       "  <th>Skew:</th>          <td> 0.192</td> <th>  Prob(JB):          </th> <td>  0.0119</td>\n",
       "</tr>\n",
       "<tr>\n",
       "  <th>Kurtosis:</th>      <td> 4.110</td> <th>  Cond. No.          </th> <td>    18.4</td>\n",
       "</tr>\n",
       "</table><br/><br/>Warnings:<br/>[1] Standard Errors are robust tocluster correlation (cluster)"
      ],
      "text/plain": [
       "<class 'statsmodels.iolib.summary.Summary'>\n",
       "\"\"\"\n",
       "                            WLS Regression Results                            \n",
       "==============================================================================\n",
       "Dep. Variable:     compound_mean_mean   R-squared:                       0.201\n",
       "Model:                            WLS   Adj. R-squared:                  0.185\n",
       "Method:                 Least Squares   F-statistic:                     9.281\n",
       "Date:                Sun, 16 Dec 2018   Prob (F-statistic):           4.94e-05\n",
       "Time:                        21:10:51   Log-Likelihood:                 185.33\n",
       "No. Observations:                 154   AIC:                            -362.7\n",
       "Df Residuals:                     150   BIC:                            -350.5\n",
       "Df Model:                           3                                         \n",
       "Covariance Type:              cluster                                         \n",
       "===============================================================================\n",
       "                  coef    std err          z      P>|z|      [0.025      0.975]\n",
       "-------------------------------------------------------------------------------\n",
       "Intercept       0.0303      0.035      0.867      0.386      -0.038       0.099\n",
       "winP_change     0.0886      0.040      2.214      0.027       0.010       0.167\n",
       "career_WinP    -0.0144      0.099     -0.145      0.885      -0.209       0.180\n",
       "season_WinP     0.0927      0.050      1.838      0.066      -0.006       0.192\n",
       "==============================================================================\n",
       "Omnibus:                        6.355   Durbin-Watson:                   1.708\n",
       "Prob(Omnibus):                  0.042   Jarque-Bera (JB):                8.859\n",
       "Skew:                           0.192   Prob(JB):                       0.0119\n",
       "Kurtosis:                       4.110   Cond. No.                         18.4\n",
       "==============================================================================\n",
       "\n",
       "Warnings:\n",
       "[1] Standard Errors are robust tocluster correlation (cluster)\n",
       "\"\"\""
      ]
     },
     "execution_count": 63,
     "metadata": {},
     "output_type": "execute_result"
    }
   ],
   "source": [
    "coach_model_clustered.summary()"
   ]
  },
  {
   "cell_type": "markdown",
   "metadata": {},
   "source": [
    "#### Coaches regression performance + race - clustered errors"
   ]
  },
  {
   "cell_type": "code",
   "execution_count": 64,
   "metadata": {},
   "outputs": [],
   "source": [
    "'''model = sm.WLS( fit_df['compound_mean_mean'].values,\n",
    "               fit_df[['youth', 'oldness', 'Wins', 'W', 'M', 'short', 'tall',\n",
    "                       'PS/G', '3P%' , 'TRB%', 'AST%','BLK%', 'STL%', 'OWS', 'DWS']],\n",
    "               fit_df['user_count']).fit()'''\n",
    "coach_model_clustered = smf.wls( formula = 'compound_mean_mean ~ winP_change + career_WinP + season_WinP + C(race)',\n",
    "                data = coaches_fit_df,\n",
    "               weights = 1 / (coaches_fit_df['compound_mean_std'] / np.sqrt(coaches_fit_df['user_count'])),\n",
    "#                missing='raise'   \n",
    "               ).fit(cov_type='cluster', cov_kwds={'groups' : coaches_fit_df['fuzzy_name']})"
   ]
  },
  {
   "cell_type": "code",
   "execution_count": 65,
   "metadata": {},
   "outputs": [
    {
     "data": {
      "text/html": [
       "<table class=\"simpletable\">\n",
       "<caption>WLS Regression Results</caption>\n",
       "<tr>\n",
       "  <th>Dep. Variable:</th>    <td>compound_mean_mean</td> <th>  R-squared:         </th> <td>   0.205</td>\n",
       "</tr>\n",
       "<tr>\n",
       "  <th>Model:</th>                    <td>WLS</td>        <th>  Adj. R-squared:    </th> <td>   0.183</td>\n",
       "</tr>\n",
       "<tr>\n",
       "  <th>Method:</th>              <td>Least Squares</td>   <th>  F-statistic:       </th> <td>   7.846</td>\n",
       "</tr>\n",
       "<tr>\n",
       "  <th>Date:</th>              <td>Sun, 16 Dec 2018</td>  <th>  Prob (F-statistic):</th> <td>4.82e-05</td>\n",
       "</tr>\n",
       "<tr>\n",
       "  <th>Time:</th>                  <td>21:35:38</td>      <th>  Log-Likelihood:    </th> <td>  185.67</td>\n",
       "</tr>\n",
       "<tr>\n",
       "  <th>No. Observations:</th>       <td>   154</td>       <th>  AIC:               </th> <td>  -361.3</td>\n",
       "</tr>\n",
       "<tr>\n",
       "  <th>Df Residuals:</th>           <td>   149</td>       <th>  BIC:               </th> <td>  -346.2</td>\n",
       "</tr>\n",
       "<tr>\n",
       "  <th>Df Model:</th>               <td>     4</td>       <th>                     </th>     <td> </td>   \n",
       "</tr>\n",
       "<tr>\n",
       "  <th>Covariance Type:</th>        <td>cluster</td>      <th>                     </th>     <td> </td>   \n",
       "</tr>\n",
       "</table>\n",
       "<table class=\"simpletable\">\n",
       "<tr>\n",
       "        <td></td>          <th>coef</th>     <th>std err</th>      <th>z</th>      <th>P>|z|</th>  <th>[0.025</th>    <th>0.975]</th>  \n",
       "</tr>\n",
       "<tr>\n",
       "  <th>Intercept</th>    <td>    0.0219</td> <td>    0.037</td> <td>    0.591</td> <td> 0.555</td> <td>   -0.051</td> <td>    0.095</td>\n",
       "</tr>\n",
       "<tr>\n",
       "  <th>C(race)[T.W]</th> <td>    0.0136</td> <td>    0.018</td> <td>    0.763</td> <td> 0.445</td> <td>   -0.021</td> <td>    0.048</td>\n",
       "</tr>\n",
       "<tr>\n",
       "  <th>winP_change</th>  <td>    0.0904</td> <td>    0.040</td> <td>    2.273</td> <td> 0.023</td> <td>    0.012</td> <td>    0.168</td>\n",
       "</tr>\n",
       "<tr>\n",
       "  <th>career_WinP</th>  <td>   -0.0171</td> <td>    0.099</td> <td>   -0.173</td> <td> 0.863</td> <td>   -0.211</td> <td>    0.176</td>\n",
       "</tr>\n",
       "<tr>\n",
       "  <th>season_WinP</th>  <td>    0.0889</td> <td>    0.051</td> <td>    1.730</td> <td> 0.084</td> <td>   -0.012</td> <td>    0.190</td>\n",
       "</tr>\n",
       "</table>\n",
       "<table class=\"simpletable\">\n",
       "<tr>\n",
       "  <th>Omnibus:</th>       <td> 6.403</td> <th>  Durbin-Watson:     </th> <td>   1.714</td>\n",
       "</tr>\n",
       "<tr>\n",
       "  <th>Prob(Omnibus):</th> <td> 0.041</td> <th>  Jarque-Bera (JB):  </th> <td>   9.188</td>\n",
       "</tr>\n",
       "<tr>\n",
       "  <th>Skew:</th>          <td> 0.178</td> <th>  Prob(JB):          </th> <td>  0.0101</td>\n",
       "</tr>\n",
       "<tr>\n",
       "  <th>Kurtosis:</th>      <td> 4.142</td> <th>  Cond. No.          </th> <td>    22.6</td>\n",
       "</tr>\n",
       "</table><br/><br/>Warnings:<br/>[1] Standard Errors are robust tocluster correlation (cluster)"
      ],
      "text/plain": [
       "<class 'statsmodels.iolib.summary.Summary'>\n",
       "\"\"\"\n",
       "                            WLS Regression Results                            \n",
       "==============================================================================\n",
       "Dep. Variable:     compound_mean_mean   R-squared:                       0.205\n",
       "Model:                            WLS   Adj. R-squared:                  0.183\n",
       "Method:                 Least Squares   F-statistic:                     7.846\n",
       "Date:                Sun, 16 Dec 2018   Prob (F-statistic):           4.82e-05\n",
       "Time:                        21:35:38   Log-Likelihood:                 185.67\n",
       "No. Observations:                 154   AIC:                            -361.3\n",
       "Df Residuals:                     149   BIC:                            -346.2\n",
       "Df Model:                           4                                         \n",
       "Covariance Type:              cluster                                         \n",
       "================================================================================\n",
       "                   coef    std err          z      P>|z|      [0.025      0.975]\n",
       "--------------------------------------------------------------------------------\n",
       "Intercept        0.0219      0.037      0.591      0.555      -0.051       0.095\n",
       "C(race)[T.W]     0.0136      0.018      0.763      0.445      -0.021       0.048\n",
       "winP_change      0.0904      0.040      2.273      0.023       0.012       0.168\n",
       "career_WinP     -0.0171      0.099     -0.173      0.863      -0.211       0.176\n",
       "season_WinP      0.0889      0.051      1.730      0.084      -0.012       0.190\n",
       "==============================================================================\n",
       "Omnibus:                        6.403   Durbin-Watson:                   1.714\n",
       "Prob(Omnibus):                  0.041   Jarque-Bera (JB):                9.188\n",
       "Skew:                           0.178   Prob(JB):                       0.0101\n",
       "Kurtosis:                       4.142   Cond. No.                         22.6\n",
       "==============================================================================\n",
       "\n",
       "Warnings:\n",
       "[1] Standard Errors are robust tocluster correlation (cluster)\n",
       "\"\"\""
      ]
     },
     "execution_count": 65,
     "metadata": {},
     "output_type": "execute_result"
    }
   ],
   "source": [
    "coach_model_clustered.summary()"
   ]
  },
  {
   "cell_type": "markdown",
   "metadata": {},
   "source": [
    "#### Coaches regression performance + tenure - clustered errors"
   ]
  },
  {
   "cell_type": "code",
   "execution_count": 66,
   "metadata": {},
   "outputs": [],
   "source": [
    "'''model = sm.WLS( fit_df['compound_mean_mean'].values,\n",
    "               fit_df[['youth', 'oldness', 'Wins', 'W', 'M', 'short', 'tall',\n",
    "                       'PS/G', '3P%' , 'TRB%', 'AST%','BLK%', 'STL%', 'OWS', 'DWS']],\n",
    "               fit_df['user_count']).fit()'''\n",
    "coach_model_clustered = smf.wls( formula = 'compound_mean_mean ~ winP_change + career_WinP + season_WinP + age + tenure + rookie',\n",
    "                data = coaches_fit_df,\n",
    "               weights = 1 / (coaches_fit_df['compound_mean_std'] / np.sqrt(coaches_fit_df['user_count'])),\n",
    "#                missing='raise'   \n",
    "               ).fit(cov_type='cluster', cov_kwds={'groups' : coaches_fit_df['fuzzy_name']})"
   ]
  },
  {
   "cell_type": "code",
   "execution_count": 67,
   "metadata": {},
   "outputs": [
    {
     "data": {
      "text/html": [
       "<table class=\"simpletable\">\n",
       "<caption>WLS Regression Results</caption>\n",
       "<tr>\n",
       "  <th>Dep. Variable:</th>    <td>compound_mean_mean</td> <th>  R-squared:         </th> <td>   0.326</td>\n",
       "</tr>\n",
       "<tr>\n",
       "  <th>Model:</th>                    <td>WLS</td>        <th>  Adj. R-squared:    </th> <td>   0.298</td>\n",
       "</tr>\n",
       "<tr>\n",
       "  <th>Method:</th>              <td>Least Squares</td>   <th>  F-statistic:       </th> <td>   10.11</td>\n",
       "</tr>\n",
       "<tr>\n",
       "  <th>Date:</th>              <td>Sun, 16 Dec 2018</td>  <th>  Prob (F-statistic):</th> <td>1.97e-07</td>\n",
       "</tr>\n",
       "<tr>\n",
       "  <th>Time:</th>                  <td>21:36:47</td>      <th>  Log-Likelihood:    </th> <td>  198.40</td>\n",
       "</tr>\n",
       "<tr>\n",
       "  <th>No. Observations:</th>       <td>   154</td>       <th>  AIC:               </th> <td>  -382.8</td>\n",
       "</tr>\n",
       "<tr>\n",
       "  <th>Df Residuals:</th>           <td>   147</td>       <th>  BIC:               </th> <td>  -361.5</td>\n",
       "</tr>\n",
       "<tr>\n",
       "  <th>Df Model:</th>               <td>     6</td>       <th>                     </th>     <td> </td>   \n",
       "</tr>\n",
       "<tr>\n",
       "  <th>Covariance Type:</th>        <td>cluster</td>      <th>                     </th>     <td> </td>   \n",
       "</tr>\n",
       "</table>\n",
       "<table class=\"simpletable\">\n",
       "<tr>\n",
       "         <td></td>           <th>coef</th>     <th>std err</th>      <th>z</th>      <th>P>|z|</th>  <th>[0.025</th>    <th>0.975]</th>  \n",
       "</tr>\n",
       "<tr>\n",
       "  <th>Intercept</th>      <td>    0.0908</td> <td>    0.063</td> <td>    1.438</td> <td> 0.150</td> <td>   -0.033</td> <td>    0.215</td>\n",
       "</tr>\n",
       "<tr>\n",
       "  <th>rookie[T.True]</th> <td>    0.0662</td> <td>    0.017</td> <td>    3.971</td> <td> 0.000</td> <td>    0.034</td> <td>    0.099</td>\n",
       "</tr>\n",
       "<tr>\n",
       "  <th>winP_change</th>    <td>    0.0228</td> <td>    0.033</td> <td>    0.682</td> <td> 0.495</td> <td>   -0.043</td> <td>    0.088</td>\n",
       "</tr>\n",
       "<tr>\n",
       "  <th>career_WinP</th>    <td>   -0.0125</td> <td>    0.089</td> <td>   -0.141</td> <td> 0.888</td> <td>   -0.186</td> <td>    0.161</td>\n",
       "</tr>\n",
       "<tr>\n",
       "  <th>season_WinP</th>    <td>    0.1495</td> <td>    0.045</td> <td>    3.336</td> <td> 0.001</td> <td>    0.062</td> <td>    0.237</td>\n",
       "</tr>\n",
       "<tr>\n",
       "  <th>age</th>            <td>   -0.0021</td> <td>    0.001</td> <td>   -1.948</td> <td> 0.051</td> <td>   -0.004</td> <td> 1.24e-05</td>\n",
       "</tr>\n",
       "<tr>\n",
       "  <th>tenure</th>         <td>    0.0017</td> <td>    0.002</td> <td>    0.955</td> <td> 0.340</td> <td>   -0.002</td> <td>    0.005</td>\n",
       "</tr>\n",
       "</table>\n",
       "<table class=\"simpletable\">\n",
       "<tr>\n",
       "  <th>Omnibus:</th>       <td> 3.227</td> <th>  Durbin-Watson:     </th> <td>   1.819</td>\n",
       "</tr>\n",
       "<tr>\n",
       "  <th>Prob(Omnibus):</th> <td> 0.199</td> <th>  Jarque-Bera (JB):  </th> <td>   3.320</td>\n",
       "</tr>\n",
       "<tr>\n",
       "  <th>Skew:</th>          <td>-0.119</td> <th>  Prob(JB):          </th> <td>   0.190</td>\n",
       "</tr>\n",
       "<tr>\n",
       "  <th>Kurtosis:</th>      <td> 3.678</td> <th>  Cond. No.          </th> <td>    843.</td>\n",
       "</tr>\n",
       "</table><br/><br/>Warnings:<br/>[1] Standard Errors are robust tocluster correlation (cluster)"
      ],
      "text/plain": [
       "<class 'statsmodels.iolib.summary.Summary'>\n",
       "\"\"\"\n",
       "                            WLS Regression Results                            \n",
       "==============================================================================\n",
       "Dep. Variable:     compound_mean_mean   R-squared:                       0.326\n",
       "Model:                            WLS   Adj. R-squared:                  0.298\n",
       "Method:                 Least Squares   F-statistic:                     10.11\n",
       "Date:                Sun, 16 Dec 2018   Prob (F-statistic):           1.97e-07\n",
       "Time:                        21:36:47   Log-Likelihood:                 198.40\n",
       "No. Observations:                 154   AIC:                            -382.8\n",
       "Df Residuals:                     147   BIC:                            -361.5\n",
       "Df Model:                           6                                         \n",
       "Covariance Type:              cluster                                         \n",
       "==================================================================================\n",
       "                     coef    std err          z      P>|z|      [0.025      0.975]\n",
       "----------------------------------------------------------------------------------\n",
       "Intercept          0.0908      0.063      1.438      0.150      -0.033       0.215\n",
       "rookie[T.True]     0.0662      0.017      3.971      0.000       0.034       0.099\n",
       "winP_change        0.0228      0.033      0.682      0.495      -0.043       0.088\n",
       "career_WinP       -0.0125      0.089     -0.141      0.888      -0.186       0.161\n",
       "season_WinP        0.1495      0.045      3.336      0.001       0.062       0.237\n",
       "age               -0.0021      0.001     -1.948      0.051      -0.004    1.24e-05\n",
       "tenure             0.0017      0.002      0.955      0.340      -0.002       0.005\n",
       "==============================================================================\n",
       "Omnibus:                        3.227   Durbin-Watson:                   1.819\n",
       "Prob(Omnibus):                  0.199   Jarque-Bera (JB):                3.320\n",
       "Skew:                          -0.119   Prob(JB):                        0.190\n",
       "Kurtosis:                       3.678   Cond. No.                         843.\n",
       "==============================================================================\n",
       "\n",
       "Warnings:\n",
       "[1] Standard Errors are robust tocluster correlation (cluster)\n",
       "\"\"\""
      ]
     },
     "execution_count": 67,
     "metadata": {},
     "output_type": "execute_result"
    }
   ],
   "source": [
    "coach_model_clustered.summary()"
   ]
  },
  {
   "cell_type": "code",
   "execution_count": null,
   "metadata": {},
   "outputs": [],
   "source": []
  }
 ],
 "metadata": {
  "kernelspec": {
   "display_name": "Python 3",
   "language": "python",
   "name": "python3"
  },
  "language_info": {
   "codemirror_mode": {
    "name": "ipython",
    "version": 3
   },
   "file_extension": ".py",
   "mimetype": "text/x-python",
   "name": "python",
   "nbconvert_exporter": "python",
   "pygments_lexer": "ipython3",
   "version": "3.6.4"
  }
 },
 "nbformat": 4,
 "nbformat_minor": 2
}
