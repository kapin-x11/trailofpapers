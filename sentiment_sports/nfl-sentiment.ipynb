{
 "cells": [
  {
   "cell_type": "markdown",
   "metadata": {},
   "source": [
    "# Drivers of Reddit NFL sentiment\n",
    "This notebook investigates what drives the sentiment of NFL players on reddit. It roughly has N parts:\n",
    "1. Building a set of covariates for sentiment (e.g. player demographics, city demographics, performance data)\n",
    "2. Calculating the sentiment towards each player\n",
    "3. Performing a regression model to predict player sentiment\n",
    "\n",
    "This is a work in progress. For similar work on the NFL, see `nba-sentiment.ipynb`."
   ]
  },
  {
   "cell_type": "markdown",
   "metadata": {},
   "source": [
    "### Short term to-do:\n",
    "* Clean up comment matching\n",
    "  * Why does JJ Watt have low comment count?\n",
    "* Add salary data and Trump vote share\n",
    "* Try to find some subset of data where performance is correlated with sentiment\n",
    "\n",
    "### Long term to-do:\n",
    "\n",
    "Create functions for:\n",
    "  * fuzzy matching cleanup\n",
    "  * aggregation (maybe)"
   ]
  },
  {
   "cell_type": "code",
   "execution_count": 1,
   "metadata": {
    "collapsed": true
   },
   "outputs": [
    {
     "name": "stderr",
     "output_type": "stream",
     "text": [
      "C:\\ProgramData\\Anaconda3\\lib\\site-packages\\nltk\\twitter\\__init__.py:20: UserWarning: The twython library has not been installed. Some functionality from the twitter package will not be available.\n",
      "  warnings.warn(\"The twython library has not been installed. \"\n"
     ]
    }
   ],
   "source": [
    "import json\n",
    "import string\n",
    "import requests\n",
    "import pandas as pd\n",
    "import numpy as np\n",
    "import seaborn as sns\n",
    "from ast import literal_eval\n",
    "from string import punctuation\n",
    "from sner import Ner\n",
    "from nltk.sentiment.vader import SentimentIntensityAnalyzer\n",
    "import matplotlib.pyplot as plt\n",
    "%matplotlib inline"
   ]
  },
  {
   "cell_type": "code",
   "execution_count": 2,
   "metadata": {},
   "outputs": [],
   "source": [
    "import sports_sentiment as ss\n",
    "import scrape_player_data as spd"
   ]
  },
  {
   "cell_type": "code",
   "execution_count": 3,
   "metadata": {},
   "outputs": [],
   "source": [
    "# download stanford core nlp (should be a zip file of format stanford-ner-YYYY-MM-DD) (maybe from https://nlp.stanford.edu/software/CRF-NER.shtml#Download)\n",
    "# need to start the Java server:\n",
    "# cd C:\\ProgramData\\Anaconda3\\Lib\\site-packages\\sner\\stanford-ner-2018-02-27\n",
    "# java -Djava.ext.dirs=./lib -cp stanford-ner.jar edu.stanford.nlp.ie.NERServer -port 9199 -loadClassifier ./classifiers/english.all.3class.distsim.crf.ser.gz  -tokenizerFactory edu.stanford.nlp.process.WhitespaceTokenizer -tokenizerOptions tokenizeNLs=false"
   ]
  },
  {
   "cell_type": "code",
   "execution_count": 4,
   "metadata": {},
   "outputs": [],
   "source": [
    "pd.set_option('display.max_colwidth', 200)\n",
    "pd.set_option('display.max_columns', 100)"
   ]
  },
  {
   "cell_type": "markdown",
   "metadata": {},
   "source": [
    "## Constants and non-text data"
   ]
  },
  {
   "cell_type": "code",
   "execution_count": 5,
   "metadata": {},
   "outputs": [],
   "source": [
    "non_players_set = set('Baltimore Ravens Buffalo Bills Cincinnati Bengals Cleveland Browns Denver Broncos Houston Texans Indianapolis Colts ' \\\n",
    "                        'Jacksonville Jaguars Kansas City Chiefs Los Angeles Chargers Miami Dolphins New England Patriots New York Jets ' \\\n",
    "                        'Oakland Raiders Pittsburgh Steelers Tennessee Titans NFL Bowl ' \\\n",
    "                       'Arizona Cardinals Atlanta Falcons Carolina Panthers Chicago Bears Dallas Cowboys Detroit Lions Green Bay Packers ' \\\n",
    "                        'Los Angeles Rams Minnesota Vikings New Orleans Saints New York Giants Philadelphia Eagles San Francisco 49ers ' \\\n",
    "                        'Seattle Seahawks Tampa Bay Buccaneers Washington Redskins ' \\\n",
    "                        'Goodell Lebron jags cards hawks bucs skins'.lower().split())"
   ]
  },
  {
   "cell_type": "code",
   "execution_count": 6,
   "metadata": {},
   "outputs": [],
   "source": [
    "#coaches2018_df = pd.read_html('https://en.wikipedia.org/wiki/List_of_current_National_Football_League_head_coaches')[0].iloc[2:, 1].str.strip(string.punctuation).str.lower().str.split(' ').str[-1]\n",
    "#coaches2018_df.to_csv('d:/data/sentiment_sports/nfl_coaches_2018.csv', index=False)\n",
    "coaches = set(pd.read_csv('d:/data/sentiment_sports/nfl_coaches_2018.csv', header = None).iloc[:,0])"
   ]
  },
  {
   "cell_type": "code",
   "execution_count": 7,
   "metadata": {},
   "outputs": [],
   "source": [
    "non_players_set = non_players_set.union(set(coaches))"
   ]
  },
  {
   "cell_type": "markdown",
   "metadata": {},
   "source": [
    "### Instantiate sentiment analyzer\n",
    "For sentiment, I use a modified version of VADER. Many words have different sentiment in the sports world as compared to general usage (e.g. \"offensive\" is not a negative word in sports)."
   ]
  },
  {
   "cell_type": "code",
   "execution_count": 10,
   "metadata": {},
   "outputs": [],
   "source": [
    "sid = SentimentIntensityAnalyzer()\n",
    "stat_words = ['steal', 'steals', 'block', 'blocked', 'blocks', 'slam', 'charges', 'rejection', 'free', 'assists', 'win',\n",
    "              'championship', 'championships']\n",
    "neutral_words = ['offense', 'offensive', 'offensively', 'defense', 'defensive', 'defensively', 'defender',\n",
    "                 'injury', 'injured', 'strain', 'questionable', 'isolation', 'attack',\n",
    "                 'shoot', 'doubtful', 'play', 'plays', 'crazy', 'turnover', 'turnovers',\n",
    "                 'seriously', 'rob', 'freeman', 'hardy', 'threat', 'loss', 'losses', 'playing']\n",
    "bad_words = ['foul', 'vicious', 'ridiculous', 'motherfucking', 'mediocre', 'soft',\n",
    "             'garbage', 'delusional', 'slow', 'douchey', 'cheap', 'creepy']\n",
    "great_words = ['goat', 'nasty', 'prime', 'mvp', 'master', 'all-star']\n",
    "sid.lexicon.update({word:0.1 for word in stat_words})\n",
    "sid.lexicon.update({word:0 for word in neutral_words})\n",
    "sid.lexicon.update({word:-0.5 for word in bad_words})\n",
    "sid.lexicon.update({word:1 for word in great_words})"
   ]
  },
  {
   "cell_type": "code",
   "execution_count": 114,
   "metadata": {},
   "outputs": [],
   "source": [
    "city_mapping = {'ARI':'PHO', 'CAR':'CHO', 'GNB':'GB', 'JAX':'JAC', 'KAN':'KC', 'LACH':'LAC', 'LARM':'LAR',\n",
    "                'NE':'BOS', 'NWE':'BOS', 'NOR':'NOP', 'NO':'NOP', 'SD':'SDG','SFO':'SF', 'TAM':'TB',\n",
    "                'New England Patriots': 'BOS', 'Miami Dolphins': 'MIA', 'New York Jets': 'NYJ', 'Buffalo Bills': 'BUF',\n",
    "                'Baltimore Ravens': 'BAL', 'Cincinnati Bengals': 'CIN', 'Pittsburgh Steelers': 'PIT', 'Cleveland Browns': 'CLE',\n",
    "                'Houston Texans': 'HOU', 'Indianapolis Colts': 'IND', 'Tennessee Titans': 'TEN', 'Jacksonville Jaguars': 'JAC',\n",
    "                'Denver Broncos': 'DEN', 'San Diego Chargers': 'SDG', 'Oakland Raiders': 'OAK', 'Kansas City Chiefs': 'KC',\n",
    "                'Washington Redskins': 'WAS', 'New York Giants': 'NYG', 'Dallas Cowboys': 'DAL', 'Arizona Cardinals': 'PHO',\n",
    "                'Philadelphia Eagles': 'PHI', 'Green Bay Packers': 'GB', 'Minnesota Vikings': 'MIN',\n",
    "                'Chicago Bears': 'CHI', 'Detroit Lions': 'DET', 'Atlanta Falcons': 'ATL', 'Carolina Panthers': 'CHO',\n",
    "                'New Orleans Saints': 'NOP', 'Tampa Bay Buccaneers': 'TB', 'San Francisco 49ers': 'SF', 'Seattle Seahawks': 'SEA',\n",
    "                'St. Louis Rams': 'STL', 'Los Angeles Chargers': 'LAC', 'Los Angeles Rams': 'LAR' }"
   ]
  },
  {
   "cell_type": "markdown",
   "metadata": {},
   "source": [
    "## 1. Load player demographic and performance data\n",
    "### Demographics\n",
    "#### Ethnicity\n",
    "To get a list of black players, I queried Wikipedia's Categories for African American football players and Samon players. This list contained a large fraction of players, but did not label all players, nor identify white NFL players. I then supplemented this list by Googling the ethnicity of the remaining players"
   ]
  },
  {
   "cell_type": "raw",
   "metadata": {},
   "source": [
    "black_nfl_df = spd.get_category_players_wiki().assign(race = lambda row: 'B')\n",
    "samoa_nfl_df = spd.get_category_players_wiki('Category:Samoan_players_of_American_football').assign(race = 'S')"
   ]
  },
  {
   "cell_type": "raw",
   "metadata": {},
   "source": [
    "pd.concat([black_nfl_df, samoa_nfl_df]).to_csv('d:/data/sentiment_sports/covariates/nfl_race_players.tsv', sep='\\t', index = False)"
   ]
  },
  {
   "cell_type": "code",
   "execution_count": 9,
   "metadata": {},
   "outputs": [],
   "source": [
    "nonwiki_df = pd.read_csv('d:/data/sentiment_sports/covariates/nfl_players_race_unknown.csv')"
   ]
  },
  {
   "cell_type": "code",
   "execution_count": 11,
   "metadata": {},
   "outputs": [],
   "source": [
    "race_nfl_df = pd.concat([pd.read_csv('d:/data/sentiment_sports/covariates/nfl_race_players.tsv', sep='\\t'),\n",
    "                        nonwiki_df])"
   ]
  },
  {
   "cell_type": "markdown",
   "metadata": {},
   "source": [
    "#### Download demographics of recent players with weight, height, etc.\n",
    "`pro-football-reference.com` has non-racial demographic data for players going back to the fifties. Here I download those players' data, and filter to recent players."
   ]
  },
  {
   "cell_type": "raw",
   "metadata": {},
   "source": [
    "all_nfl_players_df = spd.download_nfl_player_stubs()"
   ]
  },
  {
   "cell_type": "raw",
   "metadata": {},
   "source": [
    "modern_df = all_nfl_players_df.query('end_year >= 2010')\n",
    "modern_df.shape"
   ]
  },
  {
   "cell_type": "raw",
   "metadata": {},
   "source": [
    "%%time\n",
    "# 1hr 44 min\n",
    "demo_df = modern_df.groupby('Player').apply(spd.get_pro_football_profile).reset_index()"
   ]
  },
  {
   "cell_type": "raw",
   "metadata": {},
   "source": [
    "demo_df['year'] = demo_df['year'].astype(int)"
   ]
  },
  {
   "cell_type": "raw",
   "metadata": {},
   "source": [
    "demo_df.to_csv('d:/data/sentiment_sports/covariates/nfl_players2010-2018.tsv',\n",
    "                 sep='\\t', encoding='utf-8', index=False)"
   ]
  },
  {
   "cell_type": "code",
   "execution_count": 12,
   "metadata": {},
   "outputs": [],
   "source": [
    "demo_df = pd.read_csv('d:/data/sentiment_sports/covariates/nfl_players2010-2018.tsv', sep ='\\t', encoding = 'utf-8')\n",
    "demo_df['Player'] = demo_df['Player'].str.lower()\n",
    "demo_df['position'] = demo_df['position'].str.strip('()').str.lower().str.split('-').str[0]\n",
    "def map_name(name):\n",
    "    if '.' in name:\n",
    "        return name.replace('.', ' ').replace('  ', ' ') # <- janky\n",
    "    return name.split(' ')[0][0] + ' ' + name.split(' ')[1]\n",
    "demo_df['player_join'] = demo_df['Player'].apply(map_name)"
   ]
  },
  {
   "cell_type": "code",
   "execution_count": 15,
   "metadata": {},
   "outputs": [],
   "source": [
    "# have to manually fix some player name mappings\n",
    "player_map = {'ej manuel':'ej manuel',\n",
    "                         'marlon brown': 'ma brown',  'mike brown': 'mi brown', 'john brown': 'jo brown',\n",
    "                         'deangelo williams': 'de williams', 'david johnson':'da johnson',\n",
    "                         'trent taylor':'tr taylor', 'jj nelson': 'j j nelson',\n",
    "                         'jaron brown':'ja brown', \"nick o\\\\'leary\": \"n o'leary\"\n",
    "                         }\n",
    "demo_df['player_join'] = demo_df.apply(lambda row: player_map[row['Player']] if row['Player'] in player_map else row['player_join'], axis=1)\n",
    "position_map = {'fb':'rb'}\n",
    "demo_df['position'] = demo_df['position'].replace(position_map)\n",
    "demo_df['Tm'] = demo_df['Tm'].replace(city_mapping)"
   ]
  },
  {
   "cell_type": "markdown",
   "metadata": {},
   "source": [
    "#### Player performance\n",
    "For player performance, I download data from `footballoutsiders.com`"
   ]
  },
  {
   "cell_type": "raw",
   "metadata": {},
   "source": [
    "%%time\n",
    "performance_df = pd.concat([spd.get_year_performance_nfl(year) for year in list(range(2012, 2018))])"
   ]
  },
  {
   "cell_type": "code",
   "execution_count": 13,
   "metadata": {},
   "outputs": [],
   "source": [
    "#performance_df.to_csv('d:/data/sentiment_sports/nfl_stats_2012-2017.tsv', sep='\\t', index = False)\n",
    "performance_df = (pd.read_csv('d:/data/sentiment_sports/nfl_stats_2012-2017.tsv', sep='\\t')\n",
    "                    .rename(columns={'Team':'Tm'}))\n",
    "performance_df['player_join'] = performance_df['Player'].str.replace('.', ' ').str.lower()"
   ]
  },
  {
   "cell_type": "code",
   "execution_count": 16,
   "metadata": {},
   "outputs": [],
   "source": [
    "performance_df['Tm'] = performance_df['Tm'].replace(city_mapping)"
   ]
  },
  {
   "cell_type": "markdown",
   "metadata": {},
   "source": [
    "#### Team info\n",
    "Here I download team performance from `pro-football-outsiders.com`"
   ]
  },
  {
   "cell_type": "raw",
   "metadata": {},
   "source": [
    "def get_year(year):\n",
    "    return pd.concat(pd.read_html(f'https://www.pro-football-reference.com/years/{year}/') ).dropna().assign(year = year)\n",
    "team_df = pd.concat([get_year(year) for year in list(range(2012, 2018))])"
   ]
  },
  {
   "cell_type": "code",
   "execution_count": 115,
   "metadata": {},
   "outputs": [],
   "source": [
    "#team_df.to_csv('d:/data/sentiment_sports/covariates/nfl_teams_2012-2018.tsv', sep='\\t', index=False)\n",
    "team_df= (pd.read_csv('d:/data/sentiment_sports/covariates/nfl_teams_2012-2018.tsv', sep='\\t')\n",
    "            .rename(columns = {'W':'Wins'}))[['Tm', 'Wins', 'year']]"
   ]
  },
  {
   "cell_type": "code",
   "execution_count": 116,
   "metadata": {},
   "outputs": [],
   "source": [
    "team_df['Tm'] = team_df['Tm'].str.strip(string.punctuation)\n",
    "team_df['Tm'] = team_df['Tm'].replace(city_mapping)"
   ]
  },
  {
   "cell_type": "markdown",
   "metadata": {},
   "source": [
    "#### Salary"
   ]
  },
  {
   "cell_type": "raw",
   "metadata": {},
   "source": [
    "positions = ['quarterback', 'running-back', 'fullback', 'tight-end', 'wide-receiver']\n",
    "def get_salary_year(year, position):\n",
    "    import locale\n",
    "    locale.setlocale( locale.LC_ALL, 'en_US.UTF-8' )\n",
    "    spotrac_url = f'https://www.spotrac.com/nfl/positional/{year}/{position}/'\n",
    "    year_df = pd.read_html(spotrac_url)[1].iloc[:, 2:4].assign(year = year)\n",
    "    year_df['Player'] = year_df.iloc[:,0].str.lower()\n",
    "    year_df['salary'] = year_df.iloc[:,1].str[1:].apply(locale.atoi) # convert $NNN,NNN to an int\n",
    "    return year_df[['Player', 'salary', 'year']]\n",
    "salary_df = pd.concat([get_salary_year(year, position)\n",
    "                           for year in range(2014, 2019)\n",
    "                           for position in positions])\n",
    "salary_df = salary_df.query('salary > 0')"
   ]
  },
  {
   "cell_type": "code",
   "execution_count": 57,
   "metadata": {},
   "outputs": [
    {
     "data": {
      "image/png": "[encoded data removed]",
      "text/plain": [
       "<Figure size 432x288 with 1 Axes>"
      ]
     },
     "metadata": {
      "needs_background": "light"
     },
     "output_type": "display_data"
    }
   ],
   "source": [
    "np.log(salary_df['salary']).hist();"
   ]
  },
  {
   "cell_type": "raw",
   "metadata": {},
   "source": [
    "salary_df['standard_salary'] = np.log(salary_df['salary'])"
   ]
  },
  {
   "cell_type": "raw",
   "metadata": {},
   "source": [
    "salary_df.to_csv('d:/data/sentiment_sports/covariates/nfl_salary.tsv', sep='\\t', index=False)"
   ]
  },
  {
   "cell_type": "code",
   "execution_count": 17,
   "metadata": {},
   "outputs": [],
   "source": [
    "salary_df = pd.read_csv('d:/data/sentiment_sports/covariates/nfl_salary.tsv', sep='\\t')"
   ]
  },
  {
   "cell_type": "markdown",
   "metadata": {},
   "source": [
    "#### City demographics\n",
    "When thinking about race, we considered whether the demographics of the city influence player popularity. I downloaded census and polling data for NFL cities."
   ]
  },
  {
   "cell_type": "code",
   "execution_count": 18,
   "metadata": {},
   "outputs": [],
   "source": [
    "# city demographics\n",
    "city_df = pd.read_csv('d:/data/sentiment_sports/covariates/sports_metro_demographics.csv').drop(columns = ['census_Id', 'census_Id2', 'Geography'])"
   ]
  },
  {
   "cell_type": "raw",
   "metadata": {},
   "source": [
    "vote_df = pd.read_excel('data/covariates/2016 election results by county.xlsx')\n",
    "vote_df['county_name'] = vote_df['county_name'].str.lower().str.replace(' county', '')"
   ]
  },
  {
   "cell_type": "raw",
   "metadata": {},
   "source": [
    "msa_df = pd.read_excel('data/covariates/County to MSA Map.xlsx')\n",
    "msa_df['County'] = msa_df['County'].str.lower()\n",
    "msa_df = msa_df.rename(columns = {'County':'county_name',\n",
    "                                  'State':'state_abbr'})"
   ]
  },
  {
   "cell_type": "raw",
   "metadata": {},
   "source": [
    "vote_df = vote_df.merge(msa_df, on= ['county_name', 'state_abbr']).drop_duplicates(['state_abbr', 'county_name'])\n",
    "vote_df.sort_values('total_votes', ascending=False).to_csv('data/covariates/msa_votes.tsv', sep='\\t')"
   ]
  },
  {
   "cell_type": "code",
   "execution_count": 19,
   "metadata": {},
   "outputs": [],
   "source": [
    "vote_df = pd.read_csv('d:/data/sentiment_sports/covariates/msa_votes.tsv', sep='\\t')[['per_point_diff', 'Tm']].rename(columns={'per_point_diff':'clinton_vote_lead'})"
   ]
  },
  {
   "cell_type": "markdown",
   "metadata": {},
   "source": [
    "### Combine info\n",
    "After getting all of the data for various covariates, I combine them into a single dataframe that has performance, demographics, and city information."
   ]
  },
  {
   "cell_type": "code",
   "execution_count": 117,
   "metadata": {},
   "outputs": [
    {
     "data": {
      "text/html": [
       "<div>\n",
       "<style scoped>\n",
       "    .dataframe tbody tr th:only-of-type {\n",
       "        vertical-align: middle;\n",
       "    }\n",
       "\n",
       "    .dataframe tbody tr th {\n",
       "        vertical-align: top;\n",
       "    }\n",
       "\n",
       "    .dataframe thead th {\n",
       "        text-align: right;\n",
       "    }\n",
       "</style>\n",
       "<table border=\"1\" class=\"dataframe\">\n",
       "  <thead>\n",
       "    <tr style=\"text-align: right;\">\n",
       "      <th></th>\n",
       "      <th>Player_FO</th>\n",
       "      <th>Tm</th>\n",
       "      <th>position</th>\n",
       "      <th>DYAR</th>\n",
       "      <th>DVOA</th>\n",
       "      <th>TD</th>\n",
       "      <th>z_DYAR</th>\n",
       "      <th>z_DVOA</th>\n",
       "      <th>z_TD</th>\n",
       "      <th>year</th>\n",
       "      <th>player_join</th>\n",
       "      <th>Player</th>\n",
       "      <th>level_1</th>\n",
       "      <th>start_year</th>\n",
       "      <th>end_year</th>\n",
       "      <th>url</th>\n",
       "      <th>height</th>\n",
       "      <th>weight</th>\n",
       "      <th>birth_date</th>\n",
       "      <th>race</th>\n",
       "      <th>salary</th>\n",
       "      <th>standard_salary</th>\n",
       "      <th>Wins</th>\n",
       "      <th>total_population</th>\n",
       "      <th>metro_percent_white</th>\n",
       "      <th>metro_percent_black</th>\n",
       "      <th>clinton_vote_lead</th>\n",
       "      <th>experience</th>\n",
       "    </tr>\n",
       "  </thead>\n",
       "  <tbody>\n",
       "    <tr>\n",
       "      <th>0</th>\n",
       "      <td>T.Brady</td>\n",
       "      <td>BOS</td>\n",
       "      <td>qb</td>\n",
       "      <td>2035</td>\n",
       "      <td>35.1</td>\n",
       "      <td>34</td>\n",
       "      <td>2.574492</td>\n",
       "      <td>1.846341</td>\n",
       "      <td>1.437475</td>\n",
       "      <td>2012</td>\n",
       "      <td>t brady</td>\n",
       "      <td>tom brady</td>\n",
       "      <td>12.0</td>\n",
       "      <td>2000.0</td>\n",
       "      <td>2018.0</td>\n",
       "      <td>/players/B/BradTo00.htm</td>\n",
       "      <td>76.0</td>\n",
       "      <td>225.0</td>\n",
       "      <td>August 3, 1977</td>\n",
       "      <td>W</td>\n",
       "      <td>NaN</td>\n",
       "      <td>NaN</td>\n",
       "      <td>12.0</td>\n",
       "      <td>4728844.0</td>\n",
       "      <td>77.3</td>\n",
       "      <td>8.0</td>\n",
       "      <td>0.3815</td>\n",
       "      <td>12.0</td>\n",
       "    </tr>\n",
       "    <tr>\n",
       "      <th>1</th>\n",
       "      <td>P.Manning</td>\n",
       "      <td>DEN</td>\n",
       "      <td>qb</td>\n",
       "      <td>1805</td>\n",
       "      <td>32.8</td>\n",
       "      <td>37</td>\n",
       "      <td>2.222644</td>\n",
       "      <td>1.738123</td>\n",
       "      <td>1.722051</td>\n",
       "      <td>2012</td>\n",
       "      <td>p manning</td>\n",
       "      <td>peyton manning</td>\n",
       "      <td>14.0</td>\n",
       "      <td>1998.0</td>\n",
       "      <td>2015.0</td>\n",
       "      <td>/players/M/MannPe00.htm</td>\n",
       "      <td>77.0</td>\n",
       "      <td>230.0</td>\n",
       "      <td>March 24, 1976</td>\n",
       "      <td>W</td>\n",
       "      <td>NaN</td>\n",
       "      <td>NaN</td>\n",
       "      <td>13.0</td>\n",
       "      <td>2752056.0</td>\n",
       "      <td>81.9</td>\n",
       "      <td>5.6</td>\n",
       "      <td>0.5638</td>\n",
       "      <td>14.0</td>\n",
       "    </tr>\n",
       "  </tbody>\n",
       "</table>\n",
       "</div>"
      ],
      "text/plain": [
       "   Player_FO   Tm position  DYAR  DVOA  TD    z_DYAR    z_DVOA      z_TD  \\\n",
       "0    T.Brady  BOS       qb  2035  35.1  34  2.574492  1.846341  1.437475   \n",
       "1  P.Manning  DEN       qb  1805  32.8  37  2.222644  1.738123  1.722051   \n",
       "\n",
       "   year player_join          Player  level_1  start_year  end_year  \\\n",
       "0  2012     t brady       tom brady     12.0      2000.0    2018.0   \n",
       "1  2012   p manning  peyton manning     14.0      1998.0    2015.0   \n",
       "\n",
       "                       url  height  weight      birth_date race  salary  \\\n",
       "0  /players/B/BradTo00.htm    76.0   225.0  August 3, 1977    W     NaN   \n",
       "1  /players/M/MannPe00.htm    77.0   230.0  March 24, 1976    W     NaN   \n",
       "\n",
       "   standard_salary  Wins  total_population  metro_percent_white  \\\n",
       "0              NaN  12.0         4728844.0                 77.3   \n",
       "1              NaN  13.0         2752056.0                 81.9   \n",
       "\n",
       "   metro_percent_black  clinton_vote_lead  experience  \n",
       "0                  8.0             0.3815        12.0  \n",
       "1                  5.6             0.5638        14.0  "
      ]
     },
     "execution_count": 117,
     "metadata": {},
     "output_type": "execute_result"
    }
   ],
   "source": [
    "covariates_df = (performance_df.merge(demo_df, on = ['player_join', 'position', 'Tm', 'year'], how='left', suffixes=('_FO', ''))\n",
    "                             .merge(race_nfl_df, on='Player', how='left')\n",
    "                             .merge(salary_df, on=['Player', 'year'], how='left')\n",
    "                      .merge(team_df, on=['Tm', 'year'], how ='left')\n",
    "                      .merge(city_df, on='Tm', how='left')\n",
    "                      .merge(vote_df, on='Tm', how='left')\n",
    "                      .dropna(subset= ['start_year'])\n",
    "                )\n",
    "covariates_df['experience'] = covariates_df['year'] - covariates_df['start_year']\n",
    "covariates_df.head(2)"
   ]
  },
  {
   "cell_type": "markdown",
   "metadata": {},
   "source": [
    "#### Player names for entity recognition and fuzzy matching\n",
    "When extracting named entities, I had to be careful with some names that are common English words (e.g. \"Brown\"). As a shorter alternative to performing NER, I also sometimes simply extracted player names as keywords."
   ]
  },
  {
   "cell_type": "code",
   "execution_count": 21,
   "metadata": {},
   "outputs": [],
   "source": [
    "UNIQUE_NAMES = {x.replace('\\\\', '') for x in set(demo_df.Player.unique())}"
   ]
  },
  {
   "cell_type": "code",
   "execution_count": 22,
   "metadata": {},
   "outputs": [],
   "source": [
    "NAMED_ENTITIES = set(' '.join(UNIQUE_NAMES).split()).union({'rg3', 'obj', 'saquads', 'cantguardmike', 'tractorcito', 'bmarsh',\n",
    "                                                            'berman', 'coughlin', 'dungy', 'mcdaniels', 'spanos', 'gronk', 'bledsoe', 'garopolo'})\n",
    "NAMED_ENTITIES = NAMED_ENTITIES.union(non_players_set)\n",
    "# some players have common word names; don't want to detect those as entities when lowercase, but do want to when uppercase\n",
    "UPPER_ENTITIES = {'Ah', 'Black', 'Ball', 'Battle', 'Bell', 'Best', 'Blue', 'Board', 'Brown', 'Buddy', 'Burden',\n",
    "                  'Case', 'Chance', 'Choice', 'City', 'Cook', 'Dare', 'Day', 'Early',\n",
    "                  'Fish', 'Free', 'Grant', 'Good', 'Hand', 'Heard', 'Hill', 'Hope', 'Hurt', 'House', 'Holiday', 'Key',\n",
    "                  'Little', 'Guy', 'Long', 'Love', 'Light', 'Line', 'Luck', 'Major', 'Means', 'New', \n",
    "                  'Pace', 'Person', 'Petty','Pool', 'Price','Rob', 'Rose', 'Red', 'Rock', 'Rush',\n",
    "                  'Savage', 'Season', 'Short', 'Shorts', 'Strong', 'Small', 'Smart', 'Star', 'Stone', 'Story', \n",
    "                  'Temple', 'Tuck', 'Wall', 'Wear', 'Weeks', 'White', 'Will', 'Way', 'West', 'Wise', 'Young', }\n",
    "NAMED_ENTITIES = NAMED_ENTITIES - {'a', 'g', 'ah', 'you', 'has', 'good', 'still'} - {name.lower() for name in UPPER_ENTITIES}\n",
    "# remove periods for some names\n",
    "table = str.maketrans({key: None for key in string.punctuation})\n",
    "NOPUNCT_ENTITIES = {name.translate(table) for name in NAMED_ENTITIES}\n",
    "NAMED_ENTITIES = NAMED_ENTITIES.union(NOPUNCT_ENTITIES)"
   ]
  },
  {
   "cell_type": "code",
   "execution_count": 60,
   "metadata": {},
   "outputs": [],
   "source": [
    "import importlib\n",
    "importlib.reload(ss)\n",
    "def create_month_df(data_loc):\n",
    "    return ss.create_sentiment_df(data_loc, sid.polarity_scores, ner_set=NAMED_ENTITIES,\n",
    "                                  non_players_set=non_players_set, UPPER_NAMES = UPPER_ENTITIES)"
   ]
  },
  {
   "cell_type": "markdown",
   "metadata": {},
   "source": [
    "## Calculate sentiment \n",
    "### Reddit sentiment for 2017-18 season\n",
    "I created a module, `sentiment_sports` to calculate the sentiment of comments. This function performs a few things:\n",
    "1. Separates comments into sentences\n",
    "2. Performs Named entity recognition using either NLTK, or using pre-existing list of entities\n",
    "3. Calculates sentiment using VADER with a modified lexicon"
   ]
  },
  {
   "cell_type": "code",
   "execution_count": 61,
   "metadata": {},
   "outputs": [
    {
     "name": "stdout",
     "output_type": "stream",
     "text": [
      "Loading one month of player comments\n",
      "Loaded 303436 comments\n",
      "Filtering to comments with text_length > 20 and text_length < 500\n",
      "After filter, have 244008 comments\n",
      "Chunking comments into sentences\n",
      "Chunking into sentences\n",
      "Chunked into 453435 sentences\n",
      "Extracting named entities\n",
      "Cleaning entities\n",
      "Outputting 84657 sentences which have 1-2 named entities\n",
      "Calculating sentiment\n",
      "Returning 84657 sentences with sentiment and extracted entities\n",
      "Wall time: 53.1 s\n"
     ]
    }
   ],
   "source": [
    "%%time\n",
    "_, sep_df = create_month_df('d:/data/sentiment_sports/nfl_reddit_comments/201709-comments_submissions.tsv')\n",
    "#_, oct_df = create_month_df('d:/data/sentiment_sports/nfl_reddit_comments/201710-comments_submissions.tsv')\n",
    "#_, nov_df = create_month_df('d:/data/sentiment_sports/nfl_reddit_comments/201711-comments_submissions.tsv')\n",
    "#_, dec_df = create_month_df('d:/data/sentiment_sports/nfl_reddit_comments/201712-comments_submissions.tsv')\n",
    "#_, jan_df = create_month_df('d:/data/sentiment_sports/nfl_reddit_comments/201801-comments_submissions.tsv')\n",
    "#_, feb_df = create_month_df('d:/data/sentiment_sports/nfl_reddit_comments/201802-comments_submissions.tsv')"
   ]
  },
  {
   "cell_type": "code",
   "execution_count": 25,
   "metadata": {},
   "outputs": [
    {
     "data": {
      "text/plain": [
       "(553054, 15)"
      ]
     },
     "execution_count": 25,
     "metadata": {},
     "output_type": "execute_result"
    }
   ],
   "source": [
    "#600k pre non_player filter\n",
    "nfl2017_df = pd.concat([sep_df, oct_df, nov_df, dec_df, jan_df, feb_df])\n",
    "nfl2017_df.shape"
   ]
  },
  {
   "cell_type": "code",
   "execution_count": 26,
   "metadata": {},
   "outputs": [
    {
     "name": "stdout",
     "output_type": "stream",
     "text": [
      "Fuzzy matching player names\n",
      "Wall time: 23min\n"
     ]
    }
   ],
   "source": [
    "%%time\n",
    "# 27 minutes with 8 cores\n",
    "nfl2017_df = ss.fuzzy_match_players(nfl2017_df, UNIQUE_NAMES)"
   ]
  },
  {
   "cell_type": "code",
   "execution_count": null,
   "metadata": {},
   "outputs": [],
   "source": [
    "nfl2017_df.to_csv('d:/data/sentiment_sports/nfl2017_ner_sentiment.tsv', sep='\\t',\n",
    "               index=False, encoding = 'utf-8')"
   ]
  },
  {
   "cell_type": "markdown",
   "metadata": {},
   "source": [
    "#### 2016-2017 season"
   ]
  },
  {
   "cell_type": "code",
   "execution_count": null,
   "metadata": {},
   "outputs": [],
   "source": [
    "%%time\n",
    "year =2016\n",
    "_, sep_df = create_month_df(f'd:/data/sentiment_sports/nfl_reddit_comments/{year}09-comments_submissions.tsv')\n",
    "_, oct_df = create_month_df(f'd:/data/sentiment_sports/nfl_reddit_comments/{year}10-comments_submissions.tsv')\n",
    "_, nov_df = create_month_df(f'd:/data/sentiment_sports/nfl_reddit_comments/{year}11-comments_submissions.tsv')\n",
    "_, dec_df = create_month_df(f'd:/data/sentiment_sports/nfl_reddit_comments/{year}12-comments_submissions.tsv')\n",
    "_, jan_df = create_month_df(f'd:/data/sentiment_sports/nfl_reddit_comments/{year+1}01-comments_submissions.tsv')\n",
    "_, feb_df = create_month_df(f'd:/data/sentiment_sports/nfl_reddit_comments/{year+1}02-comments_submissions.tsv')"
   ]
  },
  {
   "cell_type": "code",
   "execution_count": 26,
   "metadata": {},
   "outputs": [
    {
     "data": {
      "text/plain": [
       "(525898, 15)"
      ]
     },
     "execution_count": 26,
     "metadata": {},
     "output_type": "execute_result"
    }
   ],
   "source": [
    "nfl2016_df = pd.concat([sep_df, oct_df, nov_df, dec_df, jan_df, feb_df])\n",
    "nfl2016_df.shape"
   ]
  },
  {
   "cell_type": "code",
   "execution_count": 27,
   "metadata": {},
   "outputs": [
    {
     "name": "stdout",
     "output_type": "stream",
     "text": [
      "Fuzzy matching player names\n",
      "Wall time: 1h 1min 4s\n"
     ]
    }
   ],
   "source": [
    "%%time\n",
    "# 27 minutes with 8 cores\n",
    "nfl2016_df = ss.fuzzy_match_players(nfl2016_df, UNIQUE_NAMES, num_workers = 6)"
   ]
  },
  {
   "cell_type": "code",
   "execution_count": 28,
   "metadata": {},
   "outputs": [],
   "source": [
    "nfl2016_df.to_csv('d:/data/sentiment_sports/nfl2016_ner_sentiment.tsv', sep='\\t',\n",
    "               index=False, encoding = 'utf-8')"
   ]
  },
  {
   "cell_type": "markdown",
   "metadata": {},
   "source": [
    "#### 2015-2016 season"
   ]
  },
  {
   "cell_type": "code",
   "execution_count": null,
   "metadata": {},
   "outputs": [],
   "source": [
    "%%time\n",
    "year =2015\n",
    "_, sep_df = create_month_df(f'd:/data/sentiment_sports/nfl_reddit_comments/{year}09-comments_submissions.tsv')\n",
    "_, oct_df = create_month_df(f'd:/data/sentiment_sports/nfl_reddit_comments/{year}10-comments_submissions.tsv')\n",
    "_, nov_df = create_month_df(f'd:/data/sentiment_sports/nfl_reddit_comments/{year}11-comments_submissions.tsv')\n",
    "_, dec_df = create_month_df(f'd:/data/sentiment_sports/nfl_reddit_comments/{year}12-comments_submissions.tsv')\n",
    "_, jan_df = create_month_df(f'd:/data/sentiment_sports/nfl_reddit_comments/{year+1}01-comments_submissions.tsv')\n",
    "_, feb_df = create_month_df(f'd:/data/sentiment_sports/nfl_reddit_comments/{year+1}02-comments_submissions.tsv')"
   ]
  },
  {
   "cell_type": "code",
   "execution_count": 30,
   "metadata": {},
   "outputs": [
    {
     "data": {
      "text/plain": [
       "(532998, 15)"
      ]
     },
     "execution_count": 30,
     "metadata": {},
     "output_type": "execute_result"
    }
   ],
   "source": [
    "nfl2015_df = pd.concat([sep_df, oct_df, nov_df, dec_df, jan_df, feb_df])\n",
    "nfl2015_df.shape"
   ]
  },
  {
   "cell_type": "code",
   "execution_count": 31,
   "metadata": {},
   "outputs": [
    {
     "name": "stdout",
     "output_type": "stream",
     "text": [
      "Fuzzy matching player names\n",
      "Wall time: 49min 55s\n"
     ]
    }
   ],
   "source": [
    "%%time\n",
    "# 27 minutes with 8 cores\n",
    "nfl2015_df = ss.fuzzy_match_players(nfl2015_df, UNIQUE_NAMES)"
   ]
  },
  {
   "cell_type": "code",
   "execution_count": 32,
   "metadata": {},
   "outputs": [],
   "source": [
    "nfl2015_df.to_csv('d:/data/sentiment_sports/nfl2015_ner_sentiment.tsv', sep='\\t',\n",
    "               index=False, encoding = 'utf-8')"
   ]
  },
  {
   "cell_type": "markdown",
   "metadata": {},
   "source": [
    "### Load comment sentiment"
   ]
  },
  {
   "cell_type": "code",
   "execution_count": 23,
   "metadata": {},
   "outputs": [],
   "source": [
    "nfl2015_df = pd.read_csv('d:/data/sentiment_sports/nfl2015_ner_sentiment.tsv',sep='\\t', encoding = 'utf-8')\n",
    "nfl2015_df['named_entities'] = nfl2015_df['named_entities'].apply(literal_eval)\n",
    "nfl2016_df = pd.read_csv('d:/data/sentiment_sports/nfl2016_ner_sentiment.tsv',sep='\\t', encoding = 'utf-8')\n",
    "nfl2016_df['named_entities'] = nfl2016_df['named_entities'].apply(literal_eval)\n",
    "nfl2017_df = pd.read_csv('d:/data/sentiment_sports/nfl2017_ner_sentiment.tsv',sep='\\t', encoding = 'utf-8')\n",
    "nfl2017_df['named_entities'] = nfl2017_df['named_entities'].apply(literal_eval)"
   ]
  },
  {
   "cell_type": "code",
   "execution_count": 24,
   "metadata": {},
   "outputs": [],
   "source": [
    "nfl2015_df['year'] = 2015\n",
    "nfl2016_df['year'] = 2016\n",
    "nfl2017_df['year'] = 2017"
   ]
  },
  {
   "cell_type": "markdown",
   "metadata": {},
   "source": [
    "#### Cleaning up name matches\n",
    "Some extracted name entities don't have a clear match (e.g. \"Rivers\" could be Austin Rivers or Doc Rivers). Here we clean those out"
   ]
  },
  {
   "cell_type": "code",
   "execution_count": 25,
   "metadata": {},
   "outputs": [],
   "source": [
    "name_map = {name:'unclear' for name in ['rivers', 'bird', 'brady moss']}\n",
    "name_map.update({'barr':'anthony barr', 'bmarsh':'brandon marshall', 'brady': 'tom brady', 'carr':'derek carr', \n",
    "                 'carson': 'carson palmer', 'clowney': 'jadeveon clowney', 'cousins': 'kirk cousins', 'crabtree':'michael crabtree', \n",
    "                'dak':'dak prescott', 'dalton':'andy dalton', 'dez': 'dez bryant', 'eli': 'eli manning', 'ertz':'zach ertz', 'freeman':'devonta freeman',\n",
    "                 'goff':'jared goff', 'gore':'frank gore', 'gronk':'rob gronkowski', 'gurley':'todd gurley',\n",
    "                 'ingram': 'mark ingram', 'jj': 'j.j. watt', 'kamara':'alvin kamara', 'kelce': 'travis kelce',\n",
    "                 'landry': 'jarvis landry', 'mccarron':'aj mccarron', 'obj': 'odell beckham',\n",
    "                 'peyton':'peyton manning', 'peterman':'nathan peterman', 'pryor':'terrelle pryor',\n",
    "                 'rodgers':'aaron rodgers', 'stafford':'matthew stafford', 'saquads': 'saquon barkley', 'tractorcito': 'derrick henry',\n",
    "                'vick': 'michael vick', 'watt':'j.j. watt'})"
   ]
  },
  {
   "cell_type": "code",
   "execution_count": 26,
   "metadata": {},
   "outputs": [
    {
     "name": "stdout",
     "output_type": "stream",
     "text": [
      "Wall time: 31.1 s\n"
     ]
    }
   ],
   "source": [
    "%%time\n",
    "nfl2017_df['fuzzy_name'] = nfl2017_df.apply(lambda row: name_map[row['str_entities']] if row['str_entities'] in name_map else row['fuzzy_name'], axis=1)\n",
    "nfl2016_df['fuzzy_name'] = nfl2016_df.apply(lambda row: name_map[row['str_entities']] if row['str_entities'] in name_map else row['fuzzy_name'], axis=1)\n",
    "nfl2015_df['fuzzy_name'] = nfl2015_df.apply(lambda row: name_map[row['str_entities']] if row['str_entities'] in name_map else row['fuzzy_name'], axis=1)"
   ]
  },
  {
   "cell_type": "markdown",
   "metadata": {},
   "source": [
    "Remove players whose names have implicit sentiment"
   ]
  },
  {
   "cell_type": "code",
   "execution_count": 27,
   "metadata": {},
   "outputs": [],
   "source": [
    "senti_players = ['maurice hurt', 'chris hope', 'tom savage', 'chandler burden', 'bryce petty',\n",
    "                 'andrew luck', 'lucky whitehead', 'jahvid best', 'champ bailey']\n",
    "nfl2017_df = nfl2017_df[nfl2017_df['fuzzy_name'].apply(lambda row: row not in senti_players)]\n",
    "nfl2016_df = nfl2016_df[nfl2016_df['fuzzy_name'].apply(lambda row: row not in senti_players)]\n",
    "nfl2015_df = nfl2015_df[nfl2015_df['fuzzy_name'].apply(lambda row: row not in senti_players)]"
   ]
  },
  {
   "cell_type": "markdown",
   "metadata": {},
   "source": [
    "#### Query to investigate non-mappings"
   ]
  },
  {
   "cell_type": "raw",
   "metadata": {},
   "source": [
    "nfl2017_df.merge(pd.DataFrame(nfl2017_df.str_entities.value_counts().head(500).index, columns = ['str_entities']), on='str_entities').query('fuzzy_name == \"unclear\" and str_entities != \"you\"').sample(50)"
   ]
  },
  {
   "cell_type": "raw",
   "metadata": {},
   "source": [
    "ss.extract_known_ner(nfl2017_df[nfl2017_df.sentences == \"thanks josh mcdaniels.\"], NAMED_ENTITIES)"
   ]
  },
  {
   "cell_type": "raw",
   "metadata": {},
   "source": [
    "import importlib\n",
    "importlib.reload(ss)\n",
    "ss.clean_entities(nfl2017_df[nfl2017_df.sentences == \"jags would have a worse record under eli than they do right now.\"])"
   ]
  },
  {
   "cell_type": "markdown",
   "metadata": {},
   "source": [
    "#### First calculate the average sentiment for each player from each user"
   ]
  },
  {
   "cell_type": "code",
   "execution_count": 28,
   "metadata": {},
   "outputs": [],
   "source": [
    "nfl_df = pd.concat([nfl2015_df, nfl2016_df, nfl2017_df])"
   ]
  },
  {
   "cell_type": "code",
   "execution_count": 29,
   "metadata": {},
   "outputs": [
    {
     "data": {
      "text/plain": [
       "(628844, 17)"
      ]
     },
     "execution_count": 29,
     "metadata": {},
     "output_type": "execute_result"
    }
   ],
   "source": [
    "match_df = nfl_df.query('fuzzy_name != \"unclear\"')\n",
    "match_df.shape"
   ]
  },
  {
   "cell_type": "code",
   "execution_count": 157,
   "metadata": {},
   "outputs": [
    {
     "data": {
      "text/html": [
       "<div>\n",
       "<style scoped>\n",
       "    .dataframe tbody tr th:only-of-type {\n",
       "        vertical-align: middle;\n",
       "    }\n",
       "\n",
       "    .dataframe tbody tr th {\n",
       "        vertical-align: top;\n",
       "    }\n",
       "\n",
       "    .dataframe thead th {\n",
       "        text-align: right;\n",
       "    }\n",
       "</style>\n",
       "<table border=\"1\" class=\"dataframe\">\n",
       "  <thead>\n",
       "    <tr style=\"text-align: right;\">\n",
       "      <th></th>\n",
       "      <th>fuzzy_name</th>\n",
       "      <th>user</th>\n",
       "      <th>year</th>\n",
       "      <th>flair</th>\n",
       "      <th>compound_mean</th>\n",
       "      <th>compound_std</th>\n",
       "      <th>comment_count</th>\n",
       "    </tr>\n",
       "  </thead>\n",
       "  <tbody>\n",
       "    <tr>\n",
       "      <th>0</th>\n",
       "      <td>a'shawn robinson</td>\n",
       "      <td>AshytooClassy</td>\n",
       "      <td>2017</td>\n",
       "      <td>Lions</td>\n",
       "      <td>0.0</td>\n",
       "      <td>NaN</td>\n",
       "      <td>1</td>\n",
       "    </tr>\n",
       "  </tbody>\n",
       "</table>\n",
       "</div>"
      ],
      "text/plain": [
       "         fuzzy_name           user  year  flair  compound_mean  compound_std  \\\n",
       "0  a'shawn robinson  AshytooClassy  2017  Lions            0.0           NaN   \n",
       "\n",
       "   comment_count  \n",
       "0              1  "
      ]
     },
     "execution_count": 157,
     "metadata": {},
     "output_type": "execute_result"
    }
   ],
   "source": [
    "user_player_sentiment_df = (match_df.groupby(['fuzzy_name', 'user', 'year', 'flair'])\n",
    "                                    .agg({'compound':['mean', 'std', 'count']})\n",
    "                                    .reset_index())\n",
    "user_player_sentiment_df.columns = ['fuzzy_name', 'user', 'year', 'flair', 'compound_mean', 'compound_std', 'comment_count']\n",
    "user_player_sentiment_df.head(1)"
   ]
  },
  {
   "cell_type": "markdown",
   "metadata": {},
   "source": [
    "#### Then calculate the average sentiment to players across all users"
   ]
  },
  {
   "cell_type": "code",
   "execution_count": 32,
   "metadata": {},
   "outputs": [],
   "source": [
    "player_sentiment_df = (user_player_sentiment_df.query('compound_mean != 0')\n",
    "                                               .groupby(['fuzzy_name', 'year'])\n",
    "                                               .agg({'compound_mean':['mean', 'std', 'count']})\n",
    "                                               .reset_index() )\n",
    "player_sentiment_df.columns = ['fuzzy_name', 'year', 'compound_mean_mean', 'compound_mean_std', 'user_count']"
   ]
  },
  {
   "cell_type": "markdown",
   "metadata": {},
   "source": [
    "### Exploration of sentiment alone\n",
    "Plot of player popularity (number of users who comment on them), versus sentiment"
   ]
  },
  {
   "cell_type": "code",
   "execution_count": 116,
   "metadata": {},
   "outputs": [
    {
     "data": {
      "text/plain": [
       "Text(0,0.5,'Mean sentiment')"
      ]
     },
     "execution_count": 116,
     "metadata": {},
     "output_type": "execute_result"
    },
    {
     "data": {
      "image/png": "[encoded data removed]",
      "text/plain": [
       "<Figure size 432x288 with 1 Axes>"
      ]
     },
     "metadata": {
      "needs_background": "light"
     },
     "output_type": "display_data"
    }
   ],
   "source": [
    "player_sentiment_df.query('user_count> 100').plot('user_count', 'compound_mean_mean', kind='scatter', alpha = 0.5)\n",
    "#plt.plot([100, 100], [-0.1, 0.3])\n",
    "plt.xlabel('# of users who comment on a player')\n",
    "plt.ylabel('Mean sentiment')"
   ]
  },
  {
   "cell_type": "markdown",
   "metadata": {},
   "source": [
    "#### Most commented players"
   ]
  },
  {
   "cell_type": "code",
   "execution_count": 138,
   "metadata": {},
   "outputs": [
    {
     "data": {
      "text/html": [
       "<div>\n",
       "<style scoped>\n",
       "    .dataframe tbody tr th:only-of-type {\n",
       "        vertical-align: middle;\n",
       "    }\n",
       "\n",
       "    .dataframe tbody tr th {\n",
       "        vertical-align: top;\n",
       "    }\n",
       "\n",
       "    .dataframe thead th {\n",
       "        text-align: right;\n",
       "    }\n",
       "</style>\n",
       "<table border=\"1\" class=\"dataframe\">\n",
       "  <thead>\n",
       "    <tr style=\"text-align: right;\">\n",
       "      <th></th>\n",
       "      <th>fuzzy_name</th>\n",
       "      <th>year</th>\n",
       "      <th>compound_mean_mean</th>\n",
       "      <th>compound_mean_std</th>\n",
       "      <th>user_count</th>\n",
       "    </tr>\n",
       "  </thead>\n",
       "  <tbody>\n",
       "    <tr>\n",
       "      <th>8122</th>\n",
       "      <td>tom brady</td>\n",
       "      <td>2017</td>\n",
       "      <td>0.100009</td>\n",
       "      <td>0.393209</td>\n",
       "      <td>6023</td>\n",
       "    </tr>\n",
       "    <tr>\n",
       "      <th>8121</th>\n",
       "      <td>tom brady</td>\n",
       "      <td>2016</td>\n",
       "      <td>0.112220</td>\n",
       "      <td>0.391103</td>\n",
       "      <td>5252</td>\n",
       "    </tr>\n",
       "    <tr>\n",
       "      <th>8120</th>\n",
       "      <td>tom brady</td>\n",
       "      <td>2015</td>\n",
       "      <td>0.088062</td>\n",
       "      <td>0.397033</td>\n",
       "      <td>4457</td>\n",
       "    </tr>\n",
       "    <tr>\n",
       "      <th>6683</th>\n",
       "      <td>peyton manning</td>\n",
       "      <td>2015</td>\n",
       "      <td>0.078099</td>\n",
       "      <td>0.409975</td>\n",
       "      <td>3001</td>\n",
       "    </tr>\n",
       "    <tr>\n",
       "      <th>63</th>\n",
       "      <td>aaron rodgers</td>\n",
       "      <td>2017</td>\n",
       "      <td>0.106130</td>\n",
       "      <td>0.405143</td>\n",
       "      <td>2884</td>\n",
       "    </tr>\n",
       "  </tbody>\n",
       "</table>\n",
       "</div>"
      ],
      "text/plain": [
       "          fuzzy_name  year  compound_mean_mean  compound_mean_std  user_count\n",
       "8122       tom brady  2017            0.100009           0.393209        6023\n",
       "8121       tom brady  2016            0.112220           0.391103        5252\n",
       "8120       tom brady  2015            0.088062           0.397033        4457\n",
       "6683  peyton manning  2015            0.078099           0.409975        3001\n",
       "63     aaron rodgers  2017            0.106130           0.405143        2884"
      ]
     },
     "execution_count": 138,
     "metadata": {},
     "output_type": "execute_result"
    }
   ],
   "source": [
    "player_sentiment_df.sort_values('user_count', ascending=False).head()"
   ]
  },
  {
   "cell_type": "markdown",
   "metadata": {},
   "source": [
    "#### Players with lowest sentiment"
   ]
  },
  {
   "cell_type": "code",
   "execution_count": 112,
   "metadata": {},
   "outputs": [
    {
     "data": {
      "text/html": [
       "<div>\n",
       "<style scoped>\n",
       "    .dataframe tbody tr th:only-of-type {\n",
       "        vertical-align: middle;\n",
       "    }\n",
       "\n",
       "    .dataframe tbody tr th {\n",
       "        vertical-align: top;\n",
       "    }\n",
       "\n",
       "    .dataframe thead th {\n",
       "        text-align: right;\n",
       "    }\n",
       "</style>\n",
       "<table border=\"1\" class=\"dataframe\">\n",
       "  <thead>\n",
       "    <tr style=\"text-align: right;\">\n",
       "      <th></th>\n",
       "      <th>fuzzy_name</th>\n",
       "      <th>year</th>\n",
       "      <th>compound_mean_mean</th>\n",
       "      <th>compound_mean_std</th>\n",
       "      <th>user_count</th>\n",
       "    </tr>\n",
       "  </thead>\n",
       "  <tbody>\n",
       "    <tr>\n",
       "      <th>6032</th>\n",
       "      <td>michael bennett</td>\n",
       "      <td>2017</td>\n",
       "      <td>-0.246940</td>\n",
       "      <td>0.435785</td>\n",
       "      <td>196</td>\n",
       "    </tr>\n",
       "    <tr>\n",
       "      <th>2159</th>\n",
       "      <td>danny trevathan</td>\n",
       "      <td>2017</td>\n",
       "      <td>-0.154172</td>\n",
       "      <td>0.460932</td>\n",
       "      <td>129</td>\n",
       "    </tr>\n",
       "    <tr>\n",
       "      <th>8543</th>\n",
       "      <td>vontaze burfict</td>\n",
       "      <td>2015</td>\n",
       "      <td>-0.148135</td>\n",
       "      <td>0.425746</td>\n",
       "      <td>635</td>\n",
       "    </tr>\n",
       "    <tr>\n",
       "      <th>8544</th>\n",
       "      <td>vontaze burfict</td>\n",
       "      <td>2016</td>\n",
       "      <td>-0.128823</td>\n",
       "      <td>0.445835</td>\n",
       "      <td>454</td>\n",
       "    </tr>\n",
       "    <tr>\n",
       "      <th>491</th>\n",
       "      <td>aqib talib</td>\n",
       "      <td>2017</td>\n",
       "      <td>-0.116155</td>\n",
       "      <td>0.413003</td>\n",
       "      <td>367</td>\n",
       "    </tr>\n",
       "  </tbody>\n",
       "</table>\n",
       "</div>"
      ],
      "text/plain": [
       "           fuzzy_name  year  compound_mean_mean  compound_mean_std  user_count\n",
       "6032  michael bennett  2017           -0.246940           0.435785         196\n",
       "2159  danny trevathan  2017           -0.154172           0.460932         129\n",
       "8543  vontaze burfict  2015           -0.148135           0.425746         635\n",
       "8544  vontaze burfict  2016           -0.128823           0.445835         454\n",
       "491        aqib talib  2017           -0.116155           0.413003         367"
      ]
     },
     "execution_count": 112,
     "metadata": {},
     "output_type": "execute_result"
    }
   ],
   "source": [
    "player_sentiment_df.query('user_count > 100').sort_values('compound_mean_mean').head()"
   ]
  },
  {
   "cell_type": "markdown",
   "metadata": {},
   "source": [
    "#### Players with highest sentiment"
   ]
  },
  {
   "cell_type": "code",
   "execution_count": 143,
   "metadata": {},
   "outputs": [
    {
     "data": {
      "text/html": [
       "<div>\n",
       "<style scoped>\n",
       "    .dataframe tbody tr th:only-of-type {\n",
       "        vertical-align: middle;\n",
       "    }\n",
       "\n",
       "    .dataframe tbody tr th {\n",
       "        vertical-align: top;\n",
       "    }\n",
       "\n",
       "    .dataframe thead th {\n",
       "        text-align: right;\n",
       "    }\n",
       "</style>\n",
       "<table border=\"1\" class=\"dataframe\">\n",
       "  <thead>\n",
       "    <tr style=\"text-align: right;\">\n",
       "      <th></th>\n",
       "      <th>fuzzy_name</th>\n",
       "      <th>year</th>\n",
       "      <th>compound_mean_mean</th>\n",
       "      <th>compound_mean_std</th>\n",
       "      <th>user_count</th>\n",
       "    </tr>\n",
       "  </thead>\n",
       "  <tbody>\n",
       "    <tr>\n",
       "      <th>3517</th>\n",
       "      <td>j.j. watt</td>\n",
       "      <td>2017</td>\n",
       "      <td>0.237955</td>\n",
       "      <td>0.369052</td>\n",
       "      <td>921</td>\n",
       "    </tr>\n",
       "    <tr>\n",
       "      <th>2331</th>\n",
       "      <td>david johnson</td>\n",
       "      <td>2016</td>\n",
       "      <td>0.244761</td>\n",
       "      <td>0.422810</td>\n",
       "      <td>241</td>\n",
       "    </tr>\n",
       "    <tr>\n",
       "      <th>2658</th>\n",
       "      <td>devonta freeman</td>\n",
       "      <td>2016</td>\n",
       "      <td>0.355716</td>\n",
       "      <td>0.338264</td>\n",
       "      <td>321</td>\n",
       "    </tr>\n",
       "    <tr>\n",
       "      <th>2659</th>\n",
       "      <td>devonta freeman</td>\n",
       "      <td>2017</td>\n",
       "      <td>0.369017</td>\n",
       "      <td>0.339762</td>\n",
       "      <td>277</td>\n",
       "    </tr>\n",
       "    <tr>\n",
       "      <th>2657</th>\n",
       "      <td>devonta freeman</td>\n",
       "      <td>2015</td>\n",
       "      <td>0.389680</td>\n",
       "      <td>0.323972</td>\n",
       "      <td>408</td>\n",
       "    </tr>\n",
       "  </tbody>\n",
       "</table>\n",
       "</div>"
      ],
      "text/plain": [
       "           fuzzy_name  year  compound_mean_mean  compound_mean_std  user_count\n",
       "3517        j.j. watt  2017            0.237955           0.369052         921\n",
       "2331    david johnson  2016            0.244761           0.422810         241\n",
       "2658  devonta freeman  2016            0.355716           0.338264         321\n",
       "2659  devonta freeman  2017            0.369017           0.339762         277\n",
       "2657  devonta freeman  2015            0.389680           0.323972         408"
      ]
     },
     "execution_count": 143,
     "metadata": {},
     "output_type": "execute_result"
    }
   ],
   "source": [
    "player_sentiment_df.query('user_count > 200').sort_values('compound_mean_mean').tail(5)"
   ]
  },
  {
   "cell_type": "code",
   "execution_count": 146,
   "metadata": {},
   "outputs": [],
   "source": [
    "# temporary until I re-run sentiment scoring\n",
    "player_sentiment_df = player_sentiment_df.query('fuzzy_name != \"devonta freeman\"')"
   ]
  },
  {
   "cell_type": "markdown",
   "metadata": {},
   "source": [
    "#### Players with highest std of sentiment"
   ]
  },
  {
   "cell_type": "code",
   "execution_count": 147,
   "metadata": {},
   "outputs": [
    {
     "data": {
      "text/html": [
       "<div>\n",
       "<style scoped>\n",
       "    .dataframe tbody tr th:only-of-type {\n",
       "        vertical-align: middle;\n",
       "    }\n",
       "\n",
       "    .dataframe tbody tr th {\n",
       "        vertical-align: top;\n",
       "    }\n",
       "\n",
       "    .dataframe thead th {\n",
       "        text-align: right;\n",
       "    }\n",
       "</style>\n",
       "<table border=\"1\" class=\"dataframe\">\n",
       "  <thead>\n",
       "    <tr style=\"text-align: right;\">\n",
       "      <th></th>\n",
       "      <th>fuzzy_name</th>\n",
       "      <th>year</th>\n",
       "      <th>compound_mean_mean</th>\n",
       "      <th>compound_mean_std</th>\n",
       "      <th>user_count</th>\n",
       "    </tr>\n",
       "  </thead>\n",
       "  <tbody>\n",
       "    <tr>\n",
       "      <th>3617</th>\n",
       "      <td>jake locker</td>\n",
       "      <td>2017</td>\n",
       "      <td>-0.021055</td>\n",
       "      <td>0.498718</td>\n",
       "      <td>925</td>\n",
       "    </tr>\n",
       "    <tr>\n",
       "      <th>3604</th>\n",
       "      <td>jake butt</td>\n",
       "      <td>2016</td>\n",
       "      <td>-0.055289</td>\n",
       "      <td>0.486843</td>\n",
       "      <td>364</td>\n",
       "    </tr>\n",
       "    <tr>\n",
       "      <th>3616</th>\n",
       "      <td>jake locker</td>\n",
       "      <td>2016</td>\n",
       "      <td>-0.004862</td>\n",
       "      <td>0.484268</td>\n",
       "      <td>730</td>\n",
       "    </tr>\n",
       "    <tr>\n",
       "      <th>624</th>\n",
       "      <td>bear pascoe</td>\n",
       "      <td>2017</td>\n",
       "      <td>0.110882</td>\n",
       "      <td>0.481373</td>\n",
       "      <td>209</td>\n",
       "    </tr>\n",
       "    <tr>\n",
       "      <th>5065</th>\n",
       "      <td>kevin boss</td>\n",
       "      <td>2017</td>\n",
       "      <td>0.004269</td>\n",
       "      <td>0.476982</td>\n",
       "      <td>437</td>\n",
       "    </tr>\n",
       "  </tbody>\n",
       "</table>\n",
       "</div>"
      ],
      "text/plain": [
       "       fuzzy_name  year  compound_mean_mean  compound_mean_std  user_count\n",
       "3617  jake locker  2017           -0.021055           0.498718         925\n",
       "3604    jake butt  2016           -0.055289           0.486843         364\n",
       "3616  jake locker  2016           -0.004862           0.484268         730\n",
       "624   bear pascoe  2017            0.110882           0.481373         209\n",
       "5065   kevin boss  2017            0.004269           0.476982         437"
      ]
     },
     "execution_count": 147,
     "metadata": {},
     "output_type": "execute_result"
    }
   ],
   "source": [
    "player_sentiment_df.query('user_count > 200').sort_values('compound_mean_std').tail(5).iloc[::-1]"
   ]
  },
  {
   "cell_type": "markdown",
   "metadata": {},
   "source": [
    "#### Join player sentiment to performance and demographics\n",
    "Include only players with at least 100 comments to avoid fitting noise"
   ]
  },
  {
   "cell_type": "code",
   "execution_count": 119,
   "metadata": {},
   "outputs": [],
   "source": [
    "join_df = (player_sentiment_df#.query('user_count > 20')\n",
    "                         .merge(covariates_df, left_on = ['fuzzy_name', 'year'],\n",
    "                                                right_on = ['Player', 'year'])\n",
    "                        )"
   ]
  },
  {
   "cell_type": "markdown",
   "metadata": {},
   "source": [
    "### Explore demographics relationship with sentiment"
   ]
  },
  {
   "cell_type": "code",
   "execution_count": 253,
   "metadata": {},
   "outputs": [
    {
     "data": {
      "image/png": "[encoded data removed]",
      "text/plain": [
       "<Figure size 432x288 with 1 Axes>"
      ]
     },
     "metadata": {
      "needs_background": "light"
     },
     "output_type": "display_data"
    }
   ],
   "source": [
    "plt.plot(join_df['z_DVOA'].values, join_df['compound_mean_mean'].values, '.',alpha= 0.3);\n",
    "plt.xlabel('z_DVOA')\n",
    "plt.ylabel('Mean sentiment');"
   ]
  },
  {
   "cell_type": "code",
   "execution_count": 254,
   "metadata": {},
   "outputs": [
    {
     "data": {
      "text/html": [
       "<div>\n",
       "<style scoped>\n",
       "    .dataframe tbody tr th:only-of-type {\n",
       "        vertical-align: middle;\n",
       "    }\n",
       "\n",
       "    .dataframe tbody tr th {\n",
       "        vertical-align: top;\n",
       "    }\n",
       "\n",
       "    .dataframe thead th {\n",
       "        text-align: right;\n",
       "    }\n",
       "</style>\n",
       "<table border=\"1\" class=\"dataframe\">\n",
       "  <thead>\n",
       "    <tr style=\"text-align: right;\">\n",
       "      <th></th>\n",
       "      <th>year</th>\n",
       "      <th>compound_mean_mean</th>\n",
       "      <th>compound_mean_std</th>\n",
       "      <th>user_count</th>\n",
       "      <th>DYAR</th>\n",
       "      <th>DVOA</th>\n",
       "      <th>TD</th>\n",
       "      <th>z_DYAR</th>\n",
       "      <th>z_DVOA</th>\n",
       "      <th>z_TD</th>\n",
       "      <th>level_1</th>\n",
       "      <th>start_year</th>\n",
       "      <th>end_year</th>\n",
       "      <th>height</th>\n",
       "      <th>weight</th>\n",
       "      <th>salary</th>\n",
       "      <th>standard_salary</th>\n",
       "      <th>total_population</th>\n",
       "      <th>metro_percent_white</th>\n",
       "      <th>metro_percent_black</th>\n",
       "      <th>clinton_vote_lead</th>\n",
       "      <th>experience</th>\n",
       "    </tr>\n",
       "    <tr>\n",
       "      <th>race</th>\n",
       "      <th></th>\n",
       "      <th></th>\n",
       "      <th></th>\n",
       "      <th></th>\n",
       "      <th></th>\n",
       "      <th></th>\n",
       "      <th></th>\n",
       "      <th></th>\n",
       "      <th></th>\n",
       "      <th></th>\n",
       "      <th></th>\n",
       "      <th></th>\n",
       "      <th></th>\n",
       "      <th></th>\n",
       "      <th></th>\n",
       "      <th></th>\n",
       "      <th></th>\n",
       "      <th></th>\n",
       "      <th></th>\n",
       "      <th></th>\n",
       "      <th></th>\n",
       "      <th></th>\n",
       "    </tr>\n",
       "  </thead>\n",
       "  <tbody>\n",
       "    <tr>\n",
       "      <th>B</th>\n",
       "      <td>2016.000000</td>\n",
       "      <td>0.147722</td>\n",
       "      <td>0.420984</td>\n",
       "      <td>102.312207</td>\n",
       "      <td>92.802817</td>\n",
       "      <td>-0.606103</td>\n",
       "      <td>5.377934</td>\n",
       "      <td>-0.081285</td>\n",
       "      <td>-0.083909</td>\n",
       "      <td>-0.008029</td>\n",
       "      <td>3.854460</td>\n",
       "      <td>2012.171362</td>\n",
       "      <td>2017.680751</td>\n",
       "      <td>72.809859</td>\n",
       "      <td>215.542254</td>\n",
       "      <td>3.846497e+06</td>\n",
       "      <td>14.616503</td>\n",
       "      <td>4.913894e+06</td>\n",
       "      <td>69.795070</td>\n",
       "      <td>15.234272</td>\n",
       "      <td>0.320263</td>\n",
       "      <td>3.828638</td>\n",
       "    </tr>\n",
       "    <tr>\n",
       "      <th>L</th>\n",
       "      <td>2016.000000</td>\n",
       "      <td>0.119213</td>\n",
       "      <td>0.425482</td>\n",
       "      <td>172.000000</td>\n",
       "      <td>6.000000</td>\n",
       "      <td>-11.700000</td>\n",
       "      <td>1.000000</td>\n",
       "      <td>-0.813640</td>\n",
       "      <td>-0.770682</td>\n",
       "      <td>-1.253929</td>\n",
       "      <td>5.000000</td>\n",
       "      <td>2010.000000</td>\n",
       "      <td>2016.000000</td>\n",
       "      <td>72.000000</td>\n",
       "      <td>204.000000</td>\n",
       "      <td>4.400000e+06</td>\n",
       "      <td>15.297115</td>\n",
       "      <td>2.003144e+07</td>\n",
       "      <td>58.700000</td>\n",
       "      <td>17.100000</td>\n",
       "      <td>0.618300</td>\n",
       "      <td>6.000000</td>\n",
       "    </tr>\n",
       "    <tr>\n",
       "      <th>M</th>\n",
       "      <td>2016.500000</td>\n",
       "      <td>0.100318</td>\n",
       "      <td>0.420494</td>\n",
       "      <td>14.000000</td>\n",
       "      <td>1.000000</td>\n",
       "      <td>3.550000</td>\n",
       "      <td>3.000000</td>\n",
       "      <td>-0.341686</td>\n",
       "      <td>0.244330</td>\n",
       "      <td>-0.198692</td>\n",
       "      <td>2.500000</td>\n",
       "      <td>2014.000000</td>\n",
       "      <td>2018.000000</td>\n",
       "      <td>75.000000</td>\n",
       "      <td>235.000000</td>\n",
       "      <td>1.674250e+06</td>\n",
       "      <td>14.067249</td>\n",
       "      <td>6.047721e+06</td>\n",
       "      <td>67.500000</td>\n",
       "      <td>20.900000</td>\n",
       "      <td>0.669100</td>\n",
       "      <td>2.500000</td>\n",
       "    </tr>\n",
       "    <tr>\n",
       "      <th>S</th>\n",
       "      <td>2015.900000</td>\n",
       "      <td>0.072302</td>\n",
       "      <td>0.436515</td>\n",
       "      <td>241.900000</td>\n",
       "      <td>132.500000</td>\n",
       "      <td>-0.560000</td>\n",
       "      <td>8.400000</td>\n",
       "      <td>-0.293282</td>\n",
       "      <td>-0.073992</td>\n",
       "      <td>-0.273497</td>\n",
       "      <td>2.700000</td>\n",
       "      <td>2013.100000</td>\n",
       "      <td>2017.300000</td>\n",
       "      <td>73.300000</td>\n",
       "      <td>213.400000</td>\n",
       "      <td>2.752745e+06</td>\n",
       "      <td>14.412318</td>\n",
       "      <td>2.661782e+06</td>\n",
       "      <td>77.990000</td>\n",
       "      <td>12.550000</td>\n",
       "      <td>0.227165</td>\n",
       "      <td>2.800000</td>\n",
       "    </tr>\n",
       "    <tr>\n",
       "      <th>W</th>\n",
       "      <td>2015.951515</td>\n",
       "      <td>0.123257</td>\n",
       "      <td>0.429814</td>\n",
       "      <td>449.454545</td>\n",
       "      <td>258.224242</td>\n",
       "      <td>3.572121</td>\n",
       "      <td>11.830303</td>\n",
       "      <td>0.195704</td>\n",
       "      <td>0.185502</td>\n",
       "      <td>0.123233</td>\n",
       "      <td>5.709091</td>\n",
       "      <td>2010.230303</td>\n",
       "      <td>2017.612121</td>\n",
       "      <td>75.703030</td>\n",
       "      <td>232.993939</td>\n",
       "      <td>7.117442e+06</td>\n",
       "      <td>15.128777</td>\n",
       "      <td>5.033248e+06</td>\n",
       "      <td>69.804848</td>\n",
       "      <td>15.238182</td>\n",
       "      <td>0.353078</td>\n",
       "      <td>5.721212</td>\n",
       "    </tr>\n",
       "  </tbody>\n",
       "</table>\n",
       "</div>"
      ],
      "text/plain": [
       "             year  compound_mean_mean  compound_mean_std  user_count  \\\n",
       "race                                                                   \n",
       "B     2016.000000            0.147722           0.420984  102.312207   \n",
       "L     2016.000000            0.119213           0.425482  172.000000   \n",
       "M     2016.500000            0.100318           0.420494   14.000000   \n",
       "S     2015.900000            0.072302           0.436515  241.900000   \n",
       "W     2015.951515            0.123257           0.429814  449.454545   \n",
       "\n",
       "            DYAR       DVOA         TD    z_DYAR    z_DVOA      z_TD  \\\n",
       "race                                                                   \n",
       "B      92.802817  -0.606103   5.377934 -0.081285 -0.083909 -0.008029   \n",
       "L       6.000000 -11.700000   1.000000 -0.813640 -0.770682 -1.253929   \n",
       "M       1.000000   3.550000   3.000000 -0.341686  0.244330 -0.198692   \n",
       "S     132.500000  -0.560000   8.400000 -0.293282 -0.073992 -0.273497   \n",
       "W     258.224242   3.572121  11.830303  0.195704  0.185502  0.123233   \n",
       "\n",
       "       level_1   start_year     end_year     height      weight        salary  \\\n",
       "race                                                                            \n",
       "B     3.854460  2012.171362  2017.680751  72.809859  215.542254  3.846497e+06   \n",
       "L     5.000000  2010.000000  2016.000000  72.000000  204.000000  4.400000e+06   \n",
       "M     2.500000  2014.000000  2018.000000  75.000000  235.000000  1.674250e+06   \n",
       "S     2.700000  2013.100000  2017.300000  73.300000  213.400000  2.752745e+06   \n",
       "W     5.709091  2010.230303  2017.612121  75.703030  232.993939  7.117442e+06   \n",
       "\n",
       "      standard_salary  total_population  metro_percent_white  \\\n",
       "race                                                           \n",
       "B           14.616503      4.913894e+06            69.795070   \n",
       "L           15.297115      2.003144e+07            58.700000   \n",
       "M           14.067249      6.047721e+06            67.500000   \n",
       "S           14.412318      2.661782e+06            77.990000   \n",
       "W           15.128777      5.033248e+06            69.804848   \n",
       "\n",
       "      metro_percent_black  clinton_vote_lead  experience  \n",
       "race                                                      \n",
       "B               15.234272           0.320263    3.828638  \n",
       "L               17.100000           0.618300    6.000000  \n",
       "M               20.900000           0.669100    2.500000  \n",
       "S               12.550000           0.227165    2.800000  \n",
       "W               15.238182           0.353078    5.721212  "
      ]
     },
     "execution_count": 254,
     "metadata": {},
     "output_type": "execute_result"
    }
   ],
   "source": [
    "join_df.groupby('race').mean()"
   ]
  },
  {
   "cell_type": "markdown",
   "metadata": {},
   "source": [
    "#### Age / experience"
   ]
  },
  {
   "cell_type": "code",
   "execution_count": 259,
   "metadata": {},
   "outputs": [
    {
     "data": {
      "text/plain": [
       "Text(0,0.5,'Mean sentiment')"
      ]
     },
     "execution_count": 259,
     "metadata": {},
     "output_type": "execute_result"
    },
    {
     "data": {
      "image/png": "[encoded data removed]",
      "text/plain": [
       "<Figure size 360x288 with 1 Axes>"
      ]
     },
     "metadata": {
      "needs_background": "light"
     },
     "output_type": "display_data"
    }
   ],
   "source": [
    "fig, ax1 = plt.subplots(1,1, figsize = [5, 4], sharey=True)\n",
    "join_df.groupby('experience').mean().reset_index().plot('experience', 'compound_mean_mean', ax = ax1);\n",
    "ax1.set_ylabel('Mean sentiment')"
   ]
  },
  {
   "cell_type": "markdown",
   "metadata": {},
   "source": [
    "#### Height"
   ]
  },
  {
   "cell_type": "code",
   "execution_count": 175,
   "metadata": {},
   "outputs": [
    {
     "data": {
      "image/png": "[encoded data removed]",
      "text/plain": [
       "<Figure size 432x288 with 1 Axes>"
      ]
     },
     "metadata": {
      "needs_background": "light"
     },
     "output_type": "display_data"
    }
   ],
   "source": [
    "join_df.groupby('height').mean().reset_index().plot('height', 'compound_mean_mean');\n",
    "plt.xticks(range(68,90,1) );\n",
    "plt.xlabel('Height (inches)')\n",
    "plt.ylabel('Mean sentiment');"
   ]
  },
  {
   "cell_type": "markdown",
   "metadata": {},
   "source": [
    "### Team and position"
   ]
  },
  {
   "cell_type": "code",
   "execution_count": 260,
   "metadata": {},
   "outputs": [
    {
     "data": {
      "text/html": [
       "<div>\n",
       "<style scoped>\n",
       "    .dataframe tbody tr th:only-of-type {\n",
       "        vertical-align: middle;\n",
       "    }\n",
       "\n",
       "    .dataframe tbody tr th {\n",
       "        vertical-align: top;\n",
       "    }\n",
       "\n",
       "    .dataframe thead th {\n",
       "        text-align: right;\n",
       "    }\n",
       "</style>\n",
       "<table border=\"1\" class=\"dataframe\">\n",
       "  <thead>\n",
       "    <tr style=\"text-align: right;\">\n",
       "      <th></th>\n",
       "      <th>position</th>\n",
       "      <th>year</th>\n",
       "      <th>compound_mean_mean</th>\n",
       "      <th>compound_mean_std</th>\n",
       "      <th>user_count</th>\n",
       "      <th>DYAR</th>\n",
       "      <th>DVOA</th>\n",
       "      <th>TD</th>\n",
       "      <th>z_DYAR</th>\n",
       "      <th>z_DVOA</th>\n",
       "      <th>z_TD</th>\n",
       "      <th>level_1</th>\n",
       "      <th>start_year</th>\n",
       "      <th>end_year</th>\n",
       "      <th>height</th>\n",
       "      <th>weight</th>\n",
       "      <th>salary</th>\n",
       "      <th>standard_salary</th>\n",
       "      <th>total_population</th>\n",
       "      <th>metro_percent_white</th>\n",
       "      <th>metro_percent_black</th>\n",
       "      <th>clinton_vote_lead</th>\n",
       "      <th>experience</th>\n",
       "    </tr>\n",
       "  </thead>\n",
       "  <tbody>\n",
       "    <tr>\n",
       "      <th>0</th>\n",
       "      <td>qb</td>\n",
       "      <td>2015.989691</td>\n",
       "      <td>0.117325</td>\n",
       "      <td>0.424450</td>\n",
       "      <td>832.010309</td>\n",
       "      <td>437.443299</td>\n",
       "      <td>0.663918</td>\n",
       "      <td>21.154639</td>\n",
       "      <td>0.030433</td>\n",
       "      <td>0.039127</td>\n",
       "      <td>0.062883</td>\n",
       "      <td>6.237113</td>\n",
       "      <td>2009.762887</td>\n",
       "      <td>2017.731959</td>\n",
       "      <td>75.371134</td>\n",
       "      <td>224.278351</td>\n",
       "      <td>1.096479e+07</td>\n",
       "      <td>15.732799</td>\n",
       "      <td>5.130134e+06</td>\n",
       "      <td>69.684536</td>\n",
       "      <td>14.979381</td>\n",
       "      <td>0.344178</td>\n",
       "      <td>6.226804</td>\n",
       "    </tr>\n",
       "    <tr>\n",
       "      <th>1</th>\n",
       "      <td>rb</td>\n",
       "      <td>2016.016807</td>\n",
       "      <td>0.148632</td>\n",
       "      <td>0.421472</td>\n",
       "      <td>83.352941</td>\n",
       "      <td>58.991597</td>\n",
       "      <td>-1.149580</td>\n",
       "      <td>5.285714</td>\n",
       "      <td>-0.077998</td>\n",
       "      <td>-0.076357</td>\n",
       "      <td>-0.008293</td>\n",
       "      <td>3.596639</td>\n",
       "      <td>2012.512605</td>\n",
       "      <td>2017.655462</td>\n",
       "      <td>71.226891</td>\n",
       "      <td>220.722689</td>\n",
       "      <td>2.779804e+06</td>\n",
       "      <td>14.356935</td>\n",
       "      <td>5.205743e+06</td>\n",
       "      <td>69.663866</td>\n",
       "      <td>15.714286</td>\n",
       "      <td>0.343379</td>\n",
       "      <td>3.504202</td>\n",
       "    </tr>\n",
       "    <tr>\n",
       "      <th>2</th>\n",
       "      <td>te</td>\n",
       "      <td>2015.961240</td>\n",
       "      <td>0.135099</td>\n",
       "      <td>0.431612</td>\n",
       "      <td>41.635659</td>\n",
       "      <td>39.178295</td>\n",
       "      <td>0.145736</td>\n",
       "      <td>3.596899</td>\n",
       "      <td>0.024285</td>\n",
       "      <td>-0.006770</td>\n",
       "      <td>0.079207</td>\n",
       "      <td>4.720930</td>\n",
       "      <td>2011.271318</td>\n",
       "      <td>2017.589147</td>\n",
       "      <td>76.682171</td>\n",
       "      <td>255.550388</td>\n",
       "      <td>3.286496e+06</td>\n",
       "      <td>14.581980</td>\n",
       "      <td>4.629318e+06</td>\n",
       "      <td>69.894574</td>\n",
       "      <td>15.875194</td>\n",
       "      <td>0.318681</td>\n",
       "      <td>4.689922</td>\n",
       "    </tr>\n",
       "    <tr>\n",
       "      <th>3</th>\n",
       "      <td>wr</td>\n",
       "      <td>2015.984556</td>\n",
       "      <td>0.146002</td>\n",
       "      <td>0.420724</td>\n",
       "      <td>94.088803</td>\n",
       "      <td>111.845560</td>\n",
       "      <td>1.446332</td>\n",
       "      <td>4.590734</td>\n",
       "      <td>-0.013780</td>\n",
       "      <td>0.000019</td>\n",
       "      <td>-0.010825</td>\n",
       "      <td>3.779923</td>\n",
       "      <td>2012.169884</td>\n",
       "      <td>2017.656371</td>\n",
       "      <td>72.525097</td>\n",
       "      <td>201.104247</td>\n",
       "      <td>3.972911e+06</td>\n",
       "      <td>14.652317</td>\n",
       "      <td>4.896760e+06</td>\n",
       "      <td>70.109266</td>\n",
       "      <td>14.739768</td>\n",
       "      <td>0.322628</td>\n",
       "      <td>3.814672</td>\n",
       "    </tr>\n",
       "  </tbody>\n",
       "</table>\n",
       "</div>"
      ],
      "text/plain": [
       "  position         year  compound_mean_mean  compound_mean_std  user_count  \\\n",
       "0       qb  2015.989691            0.117325           0.424450  832.010309   \n",
       "1       rb  2016.016807            0.148632           0.421472   83.352941   \n",
       "2       te  2015.961240            0.135099           0.431612   41.635659   \n",
       "3       wr  2015.984556            0.146002           0.420724   94.088803   \n",
       "\n",
       "         DYAR      DVOA         TD    z_DYAR    z_DVOA      z_TD   level_1  \\\n",
       "0  437.443299  0.663918  21.154639  0.030433  0.039127  0.062883  6.237113   \n",
       "1   58.991597 -1.149580   5.285714 -0.077998 -0.076357 -0.008293  3.596639   \n",
       "2   39.178295  0.145736   3.596899  0.024285 -0.006770  0.079207  4.720930   \n",
       "3  111.845560  1.446332   4.590734 -0.013780  0.000019 -0.010825  3.779923   \n",
       "\n",
       "    start_year     end_year     height      weight        salary  \\\n",
       "0  2009.762887  2017.731959  75.371134  224.278351  1.096479e+07   \n",
       "1  2012.512605  2017.655462  71.226891  220.722689  2.779804e+06   \n",
       "2  2011.271318  2017.589147  76.682171  255.550388  3.286496e+06   \n",
       "3  2012.169884  2017.656371  72.525097  201.104247  3.972911e+06   \n",
       "\n",
       "   standard_salary  total_population  metro_percent_white  \\\n",
       "0        15.732799      5.130134e+06            69.684536   \n",
       "1        14.356935      5.205743e+06            69.663866   \n",
       "2        14.581980      4.629318e+06            69.894574   \n",
       "3        14.652317      4.896760e+06            70.109266   \n",
       "\n",
       "   metro_percent_black  clinton_vote_lead  experience  \n",
       "0            14.979381           0.344178    6.226804  \n",
       "1            15.714286           0.343379    3.504202  \n",
       "2            15.875194           0.318681    4.689922  \n",
       "3            14.739768           0.322628    3.814672  "
      ]
     },
     "execution_count": 260,
     "metadata": {},
     "output_type": "execute_result"
    }
   ],
   "source": [
    "join_df.groupby('position').mean().reset_index()"
   ]
  },
  {
   "cell_type": "markdown",
   "metadata": {},
   "source": [
    "#### Create modeling dataframe"
   ]
  },
  {
   "cell_type": "code",
   "execution_count": 120,
   "metadata": {},
   "outputs": [],
   "source": [
    "join_df['youth'] = (join_df['experience'].mean() - join_df['experience']).clip(0)\n",
    "join_df['oldness'] = (join_df['experience'] - join_df['experience'].mean()).clip(0)\n",
    "join_df['rookie'] = join_df['experience'] <=4"
   ]
  },
  {
   "cell_type": "code",
   "execution_count": 129,
   "metadata": {},
   "outputs": [],
   "source": [
    "join_df['white_black_diff'] = join_df['metro_percent_white'] - join_df['metro_percent_black']\n",
    "join_df['height_dummies'] = pd.cut(join_df['height'], [0, 72, 100], labels = ['short', 'tall'])\n",
    "join_df['standard_salary'] = join_df['standard_salary'].fillna(join_df['standard_salary'].mean())"
   ]
  },
  {
   "cell_type": "code",
   "execution_count": 122,
   "metadata": {},
   "outputs": [],
   "source": [
    "join_df.to_csv('modeling_data/nfl_model_data.tsv', sep='\\t', index=False)"
   ]
  },
  {
   "cell_type": "code",
   "execution_count": 141,
   "metadata": {},
   "outputs": [],
   "source": [
    "fit_df = join_df.copy().query('user_count > 20').replace({'L':'B', 'S':'B', 'M':'B'})"
   ]
  },
  {
   "cell_type": "markdown",
   "metadata": {},
   "source": [
    "## Regression models"
   ]
  },
  {
   "cell_type": "code",
   "execution_count": 124,
   "metadata": {},
   "outputs": [],
   "source": [
    "import statsmodels.api as sm\n",
    "import statsmodels.formula.api as smf"
   ]
  },
  {
   "cell_type": "markdown",
   "metadata": {},
   "source": [
    "### Salary\n",
    "#### Exploration"
   ]
  },
  {
   "cell_type": "code",
   "execution_count": 41,
   "metadata": {},
   "outputs": [
    {
     "data": {
      "image/png": "[encoded data removed]",
      "text/plain": [
       "<Figure size 648x648 with 36 Axes>"
      ]
     },
     "metadata": {
      "needs_background": "light"
     },
     "output_type": "display_data"
    }
   ],
   "source": [
    "from pandas.plotting import scatter_matrix\n",
    "scatter_matrix(join_df[['compound_mean_mean', 'salary', 'standard_salary', 'z_DVOA', 'DVOA', 'experience']], alpha=0.2, figsize=(9, 9));"
   ]
  },
  {
   "cell_type": "code",
   "execution_count": 104,
   "metadata": {},
   "outputs": [
    {
     "data": {
      "text/html": [
       "<div>\n",
       "<style scoped>\n",
       "    .dataframe tbody tr th:only-of-type {\n",
       "        vertical-align: middle;\n",
       "    }\n",
       "\n",
       "    .dataframe tbody tr th {\n",
       "        vertical-align: top;\n",
       "    }\n",
       "\n",
       "    .dataframe thead th {\n",
       "        text-align: right;\n",
       "    }\n",
       "</style>\n",
       "<table border=\"1\" class=\"dataframe\">\n",
       "  <thead>\n",
       "    <tr style=\"text-align: right;\">\n",
       "      <th></th>\n",
       "      <th>salary</th>\n",
       "      <th>standard_salary</th>\n",
       "    </tr>\n",
       "    <tr>\n",
       "      <th>position</th>\n",
       "      <th></th>\n",
       "      <th></th>\n",
       "    </tr>\n",
       "  </thead>\n",
       "  <tbody>\n",
       "    <tr>\n",
       "      <th>qb</th>\n",
       "      <td>1.086611e+07</td>\n",
       "      <td>15.568592</td>\n",
       "    </tr>\n",
       "    <tr>\n",
       "      <th>rb</th>\n",
       "      <td>2.402827e+06</td>\n",
       "      <td>14.283724</td>\n",
       "    </tr>\n",
       "    <tr>\n",
       "      <th>te</th>\n",
       "      <td>3.079251e+06</td>\n",
       "      <td>14.535788</td>\n",
       "    </tr>\n",
       "    <tr>\n",
       "      <th>wr</th>\n",
       "      <td>4.024754e+06</td>\n",
       "      <td>14.686230</td>\n",
       "    </tr>\n",
       "  </tbody>\n",
       "</table>\n",
       "</div>"
      ],
      "text/plain": [
       "                salary  standard_salary\n",
       "position                               \n",
       "qb        1.086611e+07        15.568592\n",
       "rb        2.402827e+06        14.283724\n",
       "te        3.079251e+06        14.535788\n",
       "wr        4.024754e+06        14.686230"
      ]
     },
     "execution_count": 104,
     "metadata": {},
     "output_type": "execute_result"
    }
   ],
   "source": [
    "join_df.groupby('position').mean()[['salary', 'standard_salary']]"
   ]
  },
  {
   "cell_type": "markdown",
   "metadata": {},
   "source": [
    "#### Regression"
   ]
  },
  {
   "cell_type": "code",
   "execution_count": 143,
   "metadata": {},
   "outputs": [],
   "source": [
    "salary_model = smf.wls( formula = 'standard_salary ~ rookie + position + z_DVOA',\n",
    "                data = fit_df,\n",
    "               weights = 1,\n",
    "#                missing='raise'   \n",
    "               ).fit()"
   ]
  },
  {
   "cell_type": "code",
   "execution_count": 144,
   "metadata": {},
   "outputs": [
    {
     "data": {
      "text/html": [
       "<table class=\"simpletable\">\n",
       "<caption>WLS Regression Results</caption>\n",
       "<tr>\n",
       "  <th>Dep. Variable:</th>     <td>standard_salary</td> <th>  R-squared:         </th> <td>   0.399</td>\n",
       "</tr>\n",
       "<tr>\n",
       "  <th>Model:</th>                   <td>WLS</td>       <th>  Adj. R-squared:    </th> <td>   0.391</td>\n",
       "</tr>\n",
       "<tr>\n",
       "  <th>Method:</th>             <td>Least Squares</td>  <th>  F-statistic:       </th> <td>   53.85</td>\n",
       "</tr>\n",
       "<tr>\n",
       "  <th>Date:</th>             <td>Sun, 28 Oct 2018</td> <th>  Prob (F-statistic):</th> <td>7.84e-43</td>\n",
       "</tr>\n",
       "<tr>\n",
       "  <th>Time:</th>                 <td>22:32:59</td>     <th>  Log-Likelihood:    </th> <td> -507.32</td>\n",
       "</tr>\n",
       "<tr>\n",
       "  <th>No. Observations:</th>      <td>   412</td>      <th>  AIC:               </th> <td>   1027.</td>\n",
       "</tr>\n",
       "<tr>\n",
       "  <th>Df Residuals:</th>          <td>   406</td>      <th>  BIC:               </th> <td>   1051.</td>\n",
       "</tr>\n",
       "<tr>\n",
       "  <th>Df Model:</th>              <td>     5</td>      <th>                     </th>     <td> </td>   \n",
       "</tr>\n",
       "<tr>\n",
       "  <th>Covariance Type:</th>      <td>nonrobust</td>    <th>                     </th>     <td> </td>   \n",
       "</tr>\n",
       "</table>\n",
       "<table class=\"simpletable\">\n",
       "<tr>\n",
       "         <td></td>           <th>coef</th>     <th>std err</th>      <th>t</th>      <th>P>|t|</th>  <th>[0.025</th>    <th>0.975]</th>  \n",
       "</tr>\n",
       "<tr>\n",
       "  <th>Intercept</th>      <td>   16.1434</td> <td>    0.093</td> <td>  173.120</td> <td> 0.000</td> <td>   15.960</td> <td>   16.327</td>\n",
       "</tr>\n",
       "<tr>\n",
       "  <th>rookie[T.True]</th> <td>   -1.1485</td> <td>    0.084</td> <td>  -13.749</td> <td> 0.000</td> <td>   -1.313</td> <td>   -0.984</td>\n",
       "</tr>\n",
       "<tr>\n",
       "  <th>position[T.rb]</th> <td>   -0.8782</td> <td>    0.124</td> <td>   -7.056</td> <td> 0.000</td> <td>   -1.123</td> <td>   -0.634</td>\n",
       "</tr>\n",
       "<tr>\n",
       "  <th>position[T.te]</th> <td>   -0.7350</td> <td>    0.140</td> <td>   -5.254</td> <td> 0.000</td> <td>   -1.010</td> <td>   -0.460</td>\n",
       "</tr>\n",
       "<tr>\n",
       "  <th>position[T.wr]</th> <td>   -0.5797</td> <td>    0.106</td> <td>   -5.444</td> <td> 0.000</td> <td>   -0.789</td> <td>   -0.370</td>\n",
       "</tr>\n",
       "<tr>\n",
       "  <th>z_DVOA</th>         <td>    0.0071</td> <td>    0.042</td> <td>    0.169</td> <td> 0.866</td> <td>   -0.076</td> <td>    0.090</td>\n",
       "</tr>\n",
       "</table>\n",
       "<table class=\"simpletable\">\n",
       "<tr>\n",
       "  <th>Omnibus:</th>       <td>11.994</td> <th>  Durbin-Watson:     </th> <td>   1.669</td>\n",
       "</tr>\n",
       "<tr>\n",
       "  <th>Prob(Omnibus):</th> <td> 0.002</td> <th>  Jarque-Bera (JB):  </th> <td>   6.457</td>\n",
       "</tr>\n",
       "<tr>\n",
       "  <th>Skew:</th>          <td>-0.080</td> <th>  Prob(JB):          </th> <td>  0.0396</td>\n",
       "</tr>\n",
       "<tr>\n",
       "  <th>Kurtosis:</th>      <td> 2.408</td> <th>  Cond. No.          </th> <td>    5.85</td>\n",
       "</tr>\n",
       "</table><br/><br/>Warnings:<br/>[1] Standard Errors assume that the covariance matrix of the errors is correctly specified."
      ],
      "text/plain": [
       "<class 'statsmodels.iolib.summary.Summary'>\n",
       "\"\"\"\n",
       "                            WLS Regression Results                            \n",
       "==============================================================================\n",
       "Dep. Variable:        standard_salary   R-squared:                       0.399\n",
       "Model:                            WLS   Adj. R-squared:                  0.391\n",
       "Method:                 Least Squares   F-statistic:                     53.85\n",
       "Date:                Sun, 28 Oct 2018   Prob (F-statistic):           7.84e-43\n",
       "Time:                        22:32:59   Log-Likelihood:                -507.32\n",
       "No. Observations:                 412   AIC:                             1027.\n",
       "Df Residuals:                     406   BIC:                             1051.\n",
       "Df Model:                           5                                         \n",
       "Covariance Type:            nonrobust                                         \n",
       "==================================================================================\n",
       "                     coef    std err          t      P>|t|      [0.025      0.975]\n",
       "----------------------------------------------------------------------------------\n",
       "Intercept         16.1434      0.093    173.120      0.000      15.960      16.327\n",
       "rookie[T.True]    -1.1485      0.084    -13.749      0.000      -1.313      -0.984\n",
       "position[T.rb]    -0.8782      0.124     -7.056      0.000      -1.123      -0.634\n",
       "position[T.te]    -0.7350      0.140     -5.254      0.000      -1.010      -0.460\n",
       "position[T.wr]    -0.5797      0.106     -5.444      0.000      -0.789      -0.370\n",
       "z_DVOA             0.0071      0.042      0.169      0.866      -0.076       0.090\n",
       "==============================================================================\n",
       "Omnibus:                       11.994   Durbin-Watson:                   1.669\n",
       "Prob(Omnibus):                  0.002   Jarque-Bera (JB):                6.457\n",
       "Skew:                          -0.080   Prob(JB):                       0.0396\n",
       "Kurtosis:                       2.408   Cond. No.                         5.85\n",
       "==============================================================================\n",
       "\n",
       "Warnings:\n",
       "[1] Standard Errors assume that the covariance matrix of the errors is correctly specified.\n",
       "\"\"\""
      ]
     },
     "execution_count": 144,
     "metadata": {},
     "output_type": "execute_result"
    }
   ],
   "source": [
    "salary_model.summary()"
   ]
  },
  {
   "cell_type": "markdown",
   "metadata": {},
   "source": [
    "#### Calculate residual salary"
   ]
  },
  {
   "cell_type": "code",
   "execution_count": 145,
   "metadata": {},
   "outputs": [
    {
     "data": {
      "text/html": [
       "<div>\n",
       "<style scoped>\n",
       "    .dataframe tbody tr th:only-of-type {\n",
       "        vertical-align: middle;\n",
       "    }\n",
       "\n",
       "    .dataframe tbody tr th {\n",
       "        vertical-align: top;\n",
       "    }\n",
       "\n",
       "    .dataframe thead th {\n",
       "        text-align: right;\n",
       "    }\n",
       "</style>\n",
       "<table border=\"1\" class=\"dataframe\">\n",
       "  <thead>\n",
       "    <tr style=\"text-align: right;\">\n",
       "      <th></th>\n",
       "      <th>Player</th>\n",
       "      <th>year</th>\n",
       "      <th>standard_salary</th>\n",
       "      <th>pred_std_salary</th>\n",
       "    </tr>\n",
       "  </thead>\n",
       "  <tbody>\n",
       "    <tr>\n",
       "      <th>154</th>\n",
       "      <td>deandre hopkins</td>\n",
       "      <td>2017</td>\n",
       "      <td>16.705882</td>\n",
       "      <td>14.420738</td>\n",
       "    </tr>\n",
       "    <tr>\n",
       "      <th>339</th>\n",
       "      <td>julio jones</td>\n",
       "      <td>2015</td>\n",
       "      <td>16.333207</td>\n",
       "      <td>14.417981</td>\n",
       "    </tr>\n",
       "    <tr>\n",
       "      <th>342</th>\n",
       "      <td>julius thomas</td>\n",
       "      <td>2015</td>\n",
       "      <td>16.147654</td>\n",
       "      <td>14.253476</td>\n",
       "    </tr>\n",
       "    <tr>\n",
       "      <th>25</th>\n",
       "      <td>alshon jeffery</td>\n",
       "      <td>2016</td>\n",
       "      <td>16.228199</td>\n",
       "      <td>14.417336</td>\n",
       "    </tr>\n",
       "    <tr>\n",
       "      <th>363</th>\n",
       "      <td>kirk cousins</td>\n",
       "      <td>2016</td>\n",
       "      <td>16.808890</td>\n",
       "      <td>15.001838</td>\n",
       "    </tr>\n",
       "  </tbody>\n",
       "</table>\n",
       "</div>"
      ],
      "text/plain": [
       "              Player  year  standard_salary  pred_std_salary\n",
       "154  deandre hopkins  2017        16.705882        14.420738\n",
       "339      julio jones  2015        16.333207        14.417981\n",
       "342    julius thomas  2015        16.147654        14.253476\n",
       "25    alshon jeffery  2016        16.228199        14.417336\n",
       "363     kirk cousins  2016        16.808890        15.001838"
      ]
     },
     "execution_count": 145,
     "metadata": {},
     "output_type": "execute_result"
    }
   ],
   "source": [
    "fit_df['pred_std_salary'] = salary_model.predict(fit_df)\n",
    "fit_df['std_salary_resid'] = fit_df['pred_std_salary']- fit_df['standard_salary']\n",
    "fit_df.sort_values('std_salary_resid').head(5)[['Player', 'year', 'standard_salary', 'pred_std_salary']]"
   ]
  },
  {
   "cell_type": "code",
   "execution_count": 146,
   "metadata": {},
   "outputs": [
    {
     "data": {
      "image/png": "[encoded data removed]",
      "text/plain": [
       "<Figure size 432x288 with 1 Axes>"
      ]
     },
     "metadata": {
      "needs_background": "light"
     },
     "output_type": "display_data"
    }
   ],
   "source": [
    "fit_df['std_salary_resid'].hist();\n",
    "plt.xlabel('Salary residual (z-units)');"
   ]
  },
  {
   "cell_type": "markdown",
   "metadata": {},
   "source": [
    "### Sentiment regression model"
   ]
  },
  {
   "cell_type": "code",
   "execution_count": 153,
   "metadata": {},
   "outputs": [],
   "source": [
    "import statsmodels.api as sm\n",
    "import statsmodels.formula.api as smf\n",
    "\n",
    "simple_model = smf.wls( formula = 'compound_mean_mean ~ youth + oldness + z_DVOA + height_dummies + position + standard_salary + std_salary_resid'\\\n",
    "                       ' + Wins + white_black_diff * C(race) + clinton_vote_lead',\n",
    "                data = fit_df,\n",
    "               weights = 1 / (fit_df['compound_mean_std'] / np.sqrt(fit_df['user_count'])),\n",
    "#                missing='raise'   \n",
    "               ).fit()"
   ]
  },
  {
   "cell_type": "code",
   "execution_count": 154,
   "metadata": {},
   "outputs": [
    {
     "data": {
      "text/html": [
       "<table class=\"simpletable\">\n",
       "<caption>WLS Regression Results</caption>\n",
       "<tr>\n",
       "  <th>Dep. Variable:</th>    <td>compound_mean_mean</td> <th>  R-squared:         </th> <td>   0.091</td>\n",
       "</tr>\n",
       "<tr>\n",
       "  <th>Model:</th>                    <td>WLS</td>        <th>  Adj. R-squared:    </th> <td>   0.058</td>\n",
       "</tr>\n",
       "<tr>\n",
       "  <th>Method:</th>              <td>Least Squares</td>   <th>  F-statistic:       </th> <td>   2.823</td>\n",
       "</tr>\n",
       "<tr>\n",
       "  <th>Date:</th>              <td>Sun, 28 Oct 2018</td>  <th>  Prob (F-statistic):</th> <td>0.000478</td>\n",
       "</tr>\n",
       "<tr>\n",
       "  <th>Time:</th>                  <td>22:33:46</td>      <th>  Log-Likelihood:    </th> <td>  488.65</td>\n",
       "</tr>\n",
       "<tr>\n",
       "  <th>No. Observations:</th>       <td>   412</td>       <th>  AIC:               </th> <td>  -947.3</td>\n",
       "</tr>\n",
       "<tr>\n",
       "  <th>Df Residuals:</th>           <td>   397</td>       <th>  BIC:               </th> <td>  -887.0</td>\n",
       "</tr>\n",
       "<tr>\n",
       "  <th>Df Model:</th>               <td>    14</td>       <th>                     </th>     <td> </td>   \n",
       "</tr>\n",
       "<tr>\n",
       "  <th>Covariance Type:</th>       <td>nonrobust</td>     <th>                     </th>     <td> </td>   \n",
       "</tr>\n",
       "</table>\n",
       "<table class=\"simpletable\">\n",
       "<tr>\n",
       "                <td></td>                   <th>coef</th>     <th>std err</th>      <th>t</th>      <th>P>|t|</th>  <th>[0.025</th>    <th>0.975]</th>  \n",
       "</tr>\n",
       "<tr>\n",
       "  <th>Intercept</th>                     <td>    0.2585</td> <td>    0.177</td> <td>    1.463</td> <td> 0.144</td> <td>   -0.089</td> <td>    0.606</td>\n",
       "</tr>\n",
       "<tr>\n",
       "  <th>height_dummies[T.tall]</th>        <td>    0.0017</td> <td>    0.009</td> <td>    0.187</td> <td> 0.852</td> <td>   -0.016</td> <td>    0.020</td>\n",
       "</tr>\n",
       "<tr>\n",
       "  <th>position[T.rb]</th>                <td>    0.0192</td> <td>    0.016</td> <td>    1.190</td> <td> 0.235</td> <td>   -0.013</td> <td>    0.051</td>\n",
       "</tr>\n",
       "<tr>\n",
       "  <th>position[T.te]</th>                <td>   -0.0004</td> <td>    0.015</td> <td>   -0.024</td> <td> 0.981</td> <td>   -0.030</td> <td>    0.029</td>\n",
       "</tr>\n",
       "<tr>\n",
       "  <th>position[T.wr]</th>                <td>   -0.0037</td> <td>    0.012</td> <td>   -0.296</td> <td> 0.768</td> <td>   -0.028</td> <td>    0.021</td>\n",
       "</tr>\n",
       "<tr>\n",
       "  <th>C(race)[T.W]</th>                  <td>   -0.0201</td> <td>    0.025</td> <td>   -0.807</td> <td> 0.420</td> <td>   -0.069</td> <td>    0.029</td>\n",
       "</tr>\n",
       "<tr>\n",
       "  <th>youth</th>                         <td>    0.0040</td> <td>    0.004</td> <td>    1.062</td> <td> 0.289</td> <td>   -0.003</td> <td>    0.011</td>\n",
       "</tr>\n",
       "<tr>\n",
       "  <th>oldness</th>                       <td>   -0.0002</td> <td>    0.001</td> <td>   -0.134</td> <td> 0.894</td> <td>   -0.003</td> <td>    0.002</td>\n",
       "</tr>\n",
       "<tr>\n",
       "  <th>z_DVOA</th>                        <td>    0.0092</td> <td>    0.004</td> <td>    2.467</td> <td> 0.014</td> <td>    0.002</td> <td>    0.017</td>\n",
       "</tr>\n",
       "<tr>\n",
       "  <th>standard_salary</th>               <td>   -0.0069</td> <td>    0.011</td> <td>   -0.614</td> <td> 0.540</td> <td>   -0.029</td> <td>    0.015</td>\n",
       "</tr>\n",
       "<tr>\n",
       "  <th>std_salary_resid</th>              <td>   -0.0016</td> <td>    0.011</td> <td>   -0.147</td> <td> 0.883</td> <td>   -0.023</td> <td>    0.020</td>\n",
       "</tr>\n",
       "<tr>\n",
       "  <th>Wins</th>                          <td>    0.0001</td> <td>    0.001</td> <td>    0.124</td> <td> 0.902</td> <td>   -0.002</td> <td>    0.003</td>\n",
       "</tr>\n",
       "<tr>\n",
       "  <th>white_black_diff</th>              <td>   -0.0006</td> <td>    0.000</td> <td>   -2.003</td> <td> 0.046</td> <td>   -0.001</td> <td>-1.11e-05</td>\n",
       "</tr>\n",
       "<tr>\n",
       "  <th>white_black_diff:C(race)[T.W]</th> <td>    0.0002</td> <td>    0.000</td> <td>    0.613</td> <td> 0.540</td> <td>   -0.001</td> <td>    0.001</td>\n",
       "</tr>\n",
       "<tr>\n",
       "  <th>clinton_vote_lead</th>             <td>   -0.0041</td> <td>    0.017</td> <td>   -0.234</td> <td> 0.815</td> <td>   -0.038</td> <td>    0.030</td>\n",
       "</tr>\n",
       "</table>\n",
       "<table class=\"simpletable\">\n",
       "<tr>\n",
       "  <th>Omnibus:</th>       <td>50.399</td> <th>  Durbin-Watson:     </th> <td>   1.493</td>\n",
       "</tr>\n",
       "<tr>\n",
       "  <th>Prob(Omnibus):</th> <td> 0.000</td> <th>  Jarque-Bera (JB):  </th> <td> 134.350</td>\n",
       "</tr>\n",
       "<tr>\n",
       "  <th>Skew:</th>          <td> 0.589</td> <th>  Prob(JB):          </th> <td>6.70e-30</td>\n",
       "</tr>\n",
       "<tr>\n",
       "  <th>Kurtosis:</th>      <td> 5.538</td> <th>  Cond. No.          </th> <td>3.58e+03</td>\n",
       "</tr>\n",
       "</table><br/><br/>Warnings:<br/>[1] Standard Errors assume that the covariance matrix of the errors is correctly specified.<br/>[2] The condition number is large, 3.58e+03. This might indicate that there are<br/>strong multicollinearity or other numerical problems."
      ],
      "text/plain": [
       "<class 'statsmodels.iolib.summary.Summary'>\n",
       "\"\"\"\n",
       "                            WLS Regression Results                            \n",
       "==============================================================================\n",
       "Dep. Variable:     compound_mean_mean   R-squared:                       0.091\n",
       "Model:                            WLS   Adj. R-squared:                  0.058\n",
       "Method:                 Least Squares   F-statistic:                     2.823\n",
       "Date:                Sun, 28 Oct 2018   Prob (F-statistic):           0.000478\n",
       "Time:                        22:33:46   Log-Likelihood:                 488.65\n",
       "No. Observations:                 412   AIC:                            -947.3\n",
       "Df Residuals:                     397   BIC:                            -887.0\n",
       "Df Model:                          14                                         \n",
       "Covariance Type:            nonrobust                                         \n",
       "=================================================================================================\n",
       "                                    coef    std err          t      P>|t|      [0.025      0.975]\n",
       "-------------------------------------------------------------------------------------------------\n",
       "Intercept                         0.2585      0.177      1.463      0.144      -0.089       0.606\n",
       "height_dummies[T.tall]            0.0017      0.009      0.187      0.852      -0.016       0.020\n",
       "position[T.rb]                    0.0192      0.016      1.190      0.235      -0.013       0.051\n",
       "position[T.te]                   -0.0004      0.015     -0.024      0.981      -0.030       0.029\n",
       "position[T.wr]                   -0.0037      0.012     -0.296      0.768      -0.028       0.021\n",
       "C(race)[T.W]                     -0.0201      0.025     -0.807      0.420      -0.069       0.029\n",
       "youth                             0.0040      0.004      1.062      0.289      -0.003       0.011\n",
       "oldness                          -0.0002      0.001     -0.134      0.894      -0.003       0.002\n",
       "z_DVOA                            0.0092      0.004      2.467      0.014       0.002       0.017\n",
       "standard_salary                  -0.0069      0.011     -0.614      0.540      -0.029       0.015\n",
       "std_salary_resid                 -0.0016      0.011     -0.147      0.883      -0.023       0.020\n",
       "Wins                              0.0001      0.001      0.124      0.902      -0.002       0.003\n",
       "white_black_diff                 -0.0006      0.000     -2.003      0.046      -0.001   -1.11e-05\n",
       "white_black_diff:C(race)[T.W]     0.0002      0.000      0.613      0.540      -0.001       0.001\n",
       "clinton_vote_lead                -0.0041      0.017     -0.234      0.815      -0.038       0.030\n",
       "==============================================================================\n",
       "Omnibus:                       50.399   Durbin-Watson:                   1.493\n",
       "Prob(Omnibus):                  0.000   Jarque-Bera (JB):              134.350\n",
       "Skew:                           0.589   Prob(JB):                     6.70e-30\n",
       "Kurtosis:                       5.538   Cond. No.                     3.58e+03\n",
       "==============================================================================\n",
       "\n",
       "Warnings:\n",
       "[1] Standard Errors assume that the covariance matrix of the errors is correctly specified.\n",
       "[2] The condition number is large, 3.58e+03. This might indicate that there are\n",
       "strong multicollinearity or other numerical problems.\n",
       "\"\"\""
      ]
     },
     "execution_count": 154,
     "metadata": {},
     "output_type": "execute_result"
    }
   ],
   "source": [
    "simple_model.summary()"
   ]
  },
  {
   "cell_type": "code",
   "execution_count": null,
   "metadata": {},
   "outputs": [],
   "source": []
  }
 ],
 "metadata": {
  "kernelspec": {
   "display_name": "Python 3",
   "language": "python",
   "name": "python3"
  },
  "language_info": {
   "codemirror_mode": {
    "name": "ipython",
    "version": 3
   },
   "file_extension": ".py",
   "mimetype": "text/x-python",
   "name": "python",
   "nbconvert_exporter": "python",
   "pygments_lexer": "ipython3",
   "version": "3.6.5"
  }
 },
 "nbformat": 4,
 "nbformat_minor": 2
}
