{
 "cells": [
  {
   "cell_type": "markdown",
   "metadata": {},
   "source": [
    "# Regression to see if salaries have gone up"
   ]
  },
  {
   "cell_type": "code",
   "execution_count": 1,
   "metadata": {},
   "outputs": [],
   "source": [
    "import pandas as pd\n",
    "import numpy as np"
   ]
  },
  {
   "cell_type": "code",
   "execution_count": 85,
   "metadata": {},
   "outputs": [],
   "source": [
    "salary_pdf = pd.read_csv(r'C:\\Users\\map22\\Google Drive\\Old stuff\\Analysis\\swe_salary\\swe_salary_data.tsv', sep='\\t',\n",
    "                        header =None, names = ['description', 'level_details', 'yoe', 'tc_details', 'tc', 'date', 'loc'])\n",
    "\n",
    "\n",
    "salary_pdf['company'] = salary_pdf['description'].str.extract('^(\\w+)')\n",
    "salary_pdf['company'] = salary_pdf['company'].str.capitalize()"
   ]
  },
  {
   "cell_type": "code",
   "execution_count": 86,
   "metadata": {},
   "outputs": [],
   "source": [
    "salary_pdf['level_details'] =salary_pdf['level_details'].str.replace('SDE II', 'SDEII')\n",
    "salary_pdf['level_details'] =salary_pdf['level_details'].str.replace('SWE II', 'SWEII')\n",
    "salary_pdf['level_details'] =salary_pdf['level_details'].str.replace('Software Engineer II', 'SWEII')\n",
    "salary_pdf['level_details'] =salary_pdf['level_details'].str.replace('ICT ', 'ICT')\n",
    "salary_pdf['level'] = salary_pdf['level_details'].str.extract('^(\\w+)')\n",
    "salary_pdf['level'] = salary_pdf['level'].str.upper()\n",
    "def calc_level(row):\n",
    "    common_dict= {'L5':'senior', 'SENIOR':'senior',\n",
    "                   'L4':'swe2', 'T4':'swe2', 'L3':'swe2',\n",
    "                  '4':'swe2', '5':'senior', '3':'swe2', 'T3':'swe2',\n",
    "                  'E4':'swe2', 'E5':'senior',\n",
    "                   'SWEIII': 'senior', 'SDEIII':'senior', 'SDEII':'swe2', \n",
    "                 'IC4':'swe2',  'IC5':'senior', 'IC3':'swe2',\n",
    "                 'E6':'staff', 'L6':'staff', 'STAFF':'staff','6':'staff',\n",
    "                 'T6':'staff', 'IC6':'staff'}\n",
    "    level_map = {'Amazon':common_dict.copy(),\n",
    "                 'Google':common_dict.copy(),\n",
    "                 'Facebook': common_dict.copy(),\n",
    "                 'Uber':{'5A':'senior', 'SENIOR':'senior', 'L5':'senior','L4':'swe2',\n",
    "                         'SWEII':'swe2', '4':'swe2', 'L5A':'senior'},\n",
    "                 'Apple':common_dict.copy(),\n",
    "                 'Microsoft':{},\n",
    "                 'Salesforce':common_dict.copy()}\n",
    "    level_map['Amazon'].update({'L6':'senior', '6':'senior',\n",
    "                                'L5':'swe2', '5':'swe2'})\n",
    "    level_map['Apple'].update({'ICT4':'senior', 'ITC4':'senior',\n",
    "                               'ITC3':'swe2', 'ICT3':'swe2', })\n",
    "    company_map = level_map[row['company']]\n",
    "    return company_map[row['level']]\n",
    "salary_pdf['common_level'] = salary_pdf.apply(calc_level, axis = 1)"
   ]
  },
  {
   "cell_type": "code",
   "execution_count": 87,
   "metadata": {},
   "outputs": [],
   "source": [
    "salary_pdf['year'] = pd.to_datetime(salary_pdf['date']).dt.year\n",
    "salary_pdf['month'] = pd.to_datetime(salary_pdf['date']).dt.month"
   ]
  },
  {
   "cell_type": "code",
   "execution_count": 88,
   "metadata": {},
   "outputs": [],
   "source": [
    "salary_pdf['west_coast'] = salary_pdf['loc'].str.contains('CA|WA')\n",
    "salary_pdf['cali'] = salary_pdf['loc'].str.contains('CA')\n",
    "salary_pdf['wa'] = salary_pdf['loc'].str.contains('WA')"
   ]
  },
  {
   "cell_type": "markdown",
   "metadata": {},
   "source": [
    "### Regression"
   ]
  },
  {
   "cell_type": "code",
   "execution_count": 89,
   "metadata": {},
   "outputs": [],
   "source": [
    "import statsmodels.formula.api as smf"
   ]
  },
  {
   "cell_type": "code",
   "execution_count": 100,
   "metadata": {},
   "outputs": [],
   "source": [
    "fit_pdf = salary_pdf.loc[(salary_pdf['year'] > 2017) & salary_pdf['west_coast']]\n",
    "salary_model = smf.ols('tc ~ common_level + company+ C(year) + cali -1', data = fit_pdf)\n",
    "salary_results = salary_model.fit()"
   ]
  },
  {
   "cell_type": "code",
   "execution_count": 99,
   "metadata": {},
   "outputs": [
    {
     "data": {
      "text/html": [
       "<table class=\"simpletable\">\n",
       "<caption>OLS Regression Results</caption>\n",
       "<tr>\n",
       "  <th>Dep. Variable:</th>           <td>tc</td>        <th>  R-squared:         </th> <td>   0.641</td> \n",
       "</tr>\n",
       "<tr>\n",
       "  <th>Model:</th>                   <td>OLS</td>       <th>  Adj. R-squared:    </th> <td>   0.638</td> \n",
       "</tr>\n",
       "<tr>\n",
       "  <th>Method:</th>             <td>Least Squares</td>  <th>  F-statistic:       </th> <td>   291.0</td> \n",
       "</tr>\n",
       "<tr>\n",
       "  <th>Date:</th>             <td>Tue, 21 Apr 2020</td> <th>  Prob (F-statistic):</th>  <td>  0.00</td>  \n",
       "</tr>\n",
       "<tr>\n",
       "  <th>Time:</th>                 <td>14:50:08</td>     <th>  Log-Likelihood:    </th> <td> -9275.1</td> \n",
       "</tr>\n",
       "<tr>\n",
       "  <th>No. Observations:</th>      <td>  1644</td>      <th>  AIC:               </th> <td>1.857e+04</td>\n",
       "</tr>\n",
       "<tr>\n",
       "  <th>Df Residuals:</th>          <td>  1633</td>      <th>  BIC:               </th> <td>1.863e+04</td>\n",
       "</tr>\n",
       "<tr>\n",
       "  <th>Df Model:</th>              <td>    10</td>      <th>                     </th>     <td> </td>    \n",
       "</tr>\n",
       "<tr>\n",
       "  <th>Covariance Type:</th>      <td>nonrobust</td>    <th>                     </th>     <td> </td>    \n",
       "</tr>\n",
       "</table>\n",
       "<table class=\"simpletable\">\n",
       "<tr>\n",
       "            <td></td>               <th>coef</th>     <th>std err</th>      <th>t</th>      <th>P>|t|</th>  <th>[0.025</th>    <th>0.975]</th>  \n",
       "</tr>\n",
       "<tr>\n",
       "  <th>common_level[senior]</th>  <td>  313.1069</td> <td>    5.698</td> <td>   54.950</td> <td> 0.000</td> <td>  301.931</td> <td>  324.283</td>\n",
       "</tr>\n",
       "<tr>\n",
       "  <th>common_level[staff]</th>   <td>  486.4201</td> <td>    8.873</td> <td>   54.821</td> <td> 0.000</td> <td>  469.017</td> <td>  503.824</td>\n",
       "</tr>\n",
       "<tr>\n",
       "  <th>common_level[swe2]</th>    <td>  206.8222</td> <td>    7.088</td> <td>   29.181</td> <td> 0.000</td> <td>  192.920</td> <td>  220.724</td>\n",
       "</tr>\n",
       "<tr>\n",
       "  <th>company[T.Apple]</th>      <td>   -6.7357</td> <td>    6.896</td> <td>   -0.977</td> <td> 0.329</td> <td>  -20.262</td> <td>    6.790</td>\n",
       "</tr>\n",
       "<tr>\n",
       "  <th>company[T.Facebook]</th>   <td>   45.8590</td> <td>    6.311</td> <td>    7.266</td> <td> 0.000</td> <td>   33.480</td> <td>   58.238</td>\n",
       "</tr>\n",
       "<tr>\n",
       "  <th>company[T.Google]</th>     <td>   36.9601</td> <td>    7.672</td> <td>    4.817</td> <td> 0.000</td> <td>   21.911</td> <td>   52.009</td>\n",
       "</tr>\n",
       "<tr>\n",
       "  <th>company[T.Salesforce]</th> <td>  -94.1614</td> <td>    9.540</td> <td>   -9.870</td> <td> 0.000</td> <td> -112.874</td> <td>  -75.449</td>\n",
       "</tr>\n",
       "<tr>\n",
       "  <th>company[T.Uber]</th>       <td>   48.2188</td> <td>    7.944</td> <td>    6.070</td> <td> 0.000</td> <td>   32.638</td> <td>   63.800</td>\n",
       "</tr>\n",
       "<tr>\n",
       "  <th>C(year)[T.2019]</th>       <td>    1.0002</td> <td>    4.261</td> <td>    0.235</td> <td> 0.814</td> <td>   -7.357</td> <td>    9.358</td>\n",
       "</tr>\n",
       "<tr>\n",
       "  <th>C(year)[T.2020]</th>       <td>   12.8935</td> <td>    5.001</td> <td>    2.578</td> <td> 0.010</td> <td>    3.085</td> <td>   22.703</td>\n",
       "</tr>\n",
       "<tr>\n",
       "  <th>cali[T.True]</th>          <td>   11.3800</td> <td>    4.326</td> <td>    2.631</td> <td> 0.009</td> <td>    2.896</td> <td>   19.864</td>\n",
       "</tr>\n",
       "</table>\n",
       "<table class=\"simpletable\">\n",
       "<tr>\n",
       "  <th>Omnibus:</th>       <td>387.819</td> <th>  Durbin-Watson:     </th> <td>   1.371</td>\n",
       "</tr>\n",
       "<tr>\n",
       "  <th>Prob(Omnibus):</th> <td> 0.000</td>  <th>  Jarque-Bera (JB):  </th> <td>2433.667</td>\n",
       "</tr>\n",
       "<tr>\n",
       "  <th>Skew:</th>          <td> 0.949</td>  <th>  Prob(JB):          </th> <td>    0.00</td>\n",
       "</tr>\n",
       "<tr>\n",
       "  <th>Kurtosis:</th>      <td> 8.650</td>  <th>  Cond. No.          </th> <td>    12.2</td>\n",
       "</tr>\n",
       "</table><br/><br/>Warnings:<br/>[1] Standard Errors assume that the covariance matrix of the errors is correctly specified."
      ],
      "text/plain": [
       "<class 'statsmodels.iolib.summary.Summary'>\n",
       "\"\"\"\n",
       "                            OLS Regression Results                            \n",
       "==============================================================================\n",
       "Dep. Variable:                     tc   R-squared:                       0.641\n",
       "Model:                            OLS   Adj. R-squared:                  0.638\n",
       "Method:                 Least Squares   F-statistic:                     291.0\n",
       "Date:                Tue, 21 Apr 2020   Prob (F-statistic):               0.00\n",
       "Time:                        14:50:08   Log-Likelihood:                -9275.1\n",
       "No. Observations:                1644   AIC:                         1.857e+04\n",
       "Df Residuals:                    1633   BIC:                         1.863e+04\n",
       "Df Model:                          10                                         \n",
       "Covariance Type:            nonrobust                                         \n",
       "=========================================================================================\n",
       "                            coef    std err          t      P>|t|      [0.025      0.975]\n",
       "-----------------------------------------------------------------------------------------\n",
       "common_level[senior]    313.1069      5.698     54.950      0.000     301.931     324.283\n",
       "common_level[staff]     486.4201      8.873     54.821      0.000     469.017     503.824\n",
       "common_level[swe2]      206.8222      7.088     29.181      0.000     192.920     220.724\n",
       "company[T.Apple]         -6.7357      6.896     -0.977      0.329     -20.262       6.790\n",
       "company[T.Facebook]      45.8590      6.311      7.266      0.000      33.480      58.238\n",
       "company[T.Google]        36.9601      7.672      4.817      0.000      21.911      52.009\n",
       "company[T.Salesforce]   -94.1614      9.540     -9.870      0.000    -112.874     -75.449\n",
       "company[T.Uber]          48.2188      7.944      6.070      0.000      32.638      63.800\n",
       "C(year)[T.2019]           1.0002      4.261      0.235      0.814      -7.357       9.358\n",
       "C(year)[T.2020]          12.8935      5.001      2.578      0.010       3.085      22.703\n",
       "cali[T.True]             11.3800      4.326      2.631      0.009       2.896      19.864\n",
       "==============================================================================\n",
       "Omnibus:                      387.819   Durbin-Watson:                   1.371\n",
       "Prob(Omnibus):                  0.000   Jarque-Bera (JB):             2433.667\n",
       "Skew:                           0.949   Prob(JB):                         0.00\n",
       "Kurtosis:                       8.650   Cond. No.                         12.2\n",
       "==============================================================================\n",
       "\n",
       "Warnings:\n",
       "[1] Standard Errors assume that the covariance matrix of the errors is correctly specified.\n",
       "\"\"\""
      ]
     },
     "execution_count": 99,
     "metadata": {},
     "output_type": "execute_result"
    }
   ],
   "source": [
    "salary_results.summary()"
   ]
  },
  {
   "cell_type": "code",
   "execution_count": null,
   "metadata": {},
   "outputs": [],
   "source": []
  }
 ],
 "metadata": {
  "kernelspec": {
   "display_name": "Python 3",
   "language": "python",
   "name": "python3"
  },
  "language_info": {
   "codemirror_mode": {
    "name": "ipython",
    "version": 3
   },
   "file_extension": ".py",
   "mimetype": "text/x-python",
   "name": "python",
   "nbconvert_exporter": "python",
   "pygments_lexer": "ipython3",
   "version": "3.7.0"
  }
 },
 "nbformat": 4,
 "nbformat_minor": 4
}
