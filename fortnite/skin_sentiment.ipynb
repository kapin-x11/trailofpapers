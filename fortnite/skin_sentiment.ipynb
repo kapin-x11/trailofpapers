{
 "cells": [
  {
   "cell_type": "markdown",
   "metadata": {},
   "source": [
    "# To do:\n",
    "Groupby skin and look at sentiment outliers\n",
    "Make sure non-humans are represented\n",
    "For gender, score unknown and non-human separately"
   ]
  },
  {
   "cell_type": "code",
   "execution_count": 1,
   "metadata": {},
   "outputs": [],
   "source": [
    "import pandas as pd\n",
    "pd.set_option('display.max_colwidth', 100)\n",
    "import sys, os\n",
    "%matplotlib inline\n",
    "import matplotlib.pyplot as plt\n",
    "import statsmodels.formula.api as smf"
   ]
  },
  {
   "cell_type": "code",
   "execution_count": 2,
   "metadata": {},
   "outputs": [],
   "source": [
    "sys.path.append(os.path.join(os.path.curdir, '..', 'sentiment_sports'))\n",
    "import sports_sentiment as ss"
   ]
  },
  {
   "cell_type": "markdown",
   "metadata": {},
   "source": [
    "### Load sentiment analyzer"
   ]
  },
  {
   "cell_type": "code",
   "execution_count": 3,
   "metadata": {},
   "outputs": [
    {
     "name": "stderr",
     "output_type": "stream",
     "text": [
      "C:\\Users\\map22\\Anaconda3\\lib\\site-packages\\nltk\\twitter\\__init__.py:20: UserWarning: The twython library has not been installed. Some functionality from the twitter package will not be available.\n",
      "  warnings.warn(\"The twython library has not been installed. \"\n"
     ]
    }
   ],
   "source": [
    "from nltk.sentiment.vader import SentimentIntensityAnalyzer\n",
    "sid = SentimentIntensityAnalyzer()\n",
    "stat_words = ['kills']\n",
    "neutral_words = []\n",
    "bad_words = ['uninstall']\n",
    "great_words = []\n",
    "sid.lexicon.update({word:0.1 for word in stat_words})\n",
    "sid.lexicon.update({word:0 for word in neutral_words})\n",
    "sid.lexicon.update({word:-0.5 for word in bad_words})\n",
    "sid.lexicon.update({word:1 for word in great_words})"
   ]
  },
  {
   "cell_type": "markdown",
   "metadata": {},
   "source": [
    "## Create words for known token NER\n",
    "Load a list of all skins"
   ]
  },
  {
   "cell_type": "code",
   "execution_count": 4,
   "metadata": {},
   "outputs": [],
   "source": [
    "skin_df = pd.read_csv('modeling_data/labeled_skin_covariates.tsv', sep='\\t')\n",
    "SKIN_SET = set(skin_df['skin_name'].tolist())\n",
    "SKIN_SET = SKIN_SET | set(skin.lower() for skin in SKIN_SET)\n",
    "SKIN_SET = set(word.replace('the ', '') for word in SKIN_SET)\n",
    "SKIN_SET = SKIN_SET | set(skin.replace('.', '') for skin in SKIN_SET )\n",
    "UPPER_ENTITIES = {'A.I.M', 'Powder', 'Focus', 'Dream', 'Rush', 'Aim',\n",
    "                  'Guild', 'Grind', 'Ruin', 'Spike', 'Clutch', 'Bullseye',\n",
    "                 'Fate', 'Oblivion', 'Splode', 'Scout', 'Rebel'}\n",
    "MIXED_ENTITIES = set(skin.capitalize() for skin in SKIN_SET if len(skin.split()) > 1)\n",
    "SKIN_SET = SKIN_SET -  {name.lower() for name in UPPER_ENTITIES} | UPPER_ENTITIES | MIXED_ENTITIES"
   ]
  },
  {
   "cell_type": "markdown",
   "metadata": {},
   "source": [
    "Add streamers and game modes (\"Blitz) to non skins set"
   ]
  },
  {
   "cell_type": "code",
   "execution_count": 15,
   "metadata": {},
   "outputs": [],
   "source": [
    "NON_SKINS_SET = {'ninja', 'tfue', 'epic', 'bugha', 'reverse3k',\n",
    "             'daequen', 'sypherpk', 'nickmercs', 'hamlinz', 'nickeh30',\n",
    "             'Horde Rush', 'Aim assist', 'Storm tracker', 'Fortnite tracker', 'Blitz', 'blitz'}\n",
    "NAMED_ENTITIES = SKIN_SET | NON_SKINS_SET\n",
    "start_filter =  '^(' +  '|'.join( UPPER_ENTITIES) +')' # this may be too strict; I don't think Rush or Grind have this problem"
   ]
  },
  {
   "cell_type": "markdown",
   "metadata": {},
   "source": [
    "## Load some data"
   ]
  },
  {
   "cell_type": "code",
   "execution_count": 6,
   "metadata": {},
   "outputs": [],
   "source": [
    "months_2019 = [f'2019{month:02}' for month in range(1,8)]\n",
    "months_2018 = [f'2018{month:02}' for month in range(9,13)]\n",
    "months_overall = months_2018 + months_2019"
   ]
  },
  {
   "cell_type": "code",
   "execution_count": 25,
   "metadata": {},
   "outputs": [
    {
     "name": "stdout",
     "output_type": "stream",
     "text": [
      "Loading file: d:/data/fortnite/201809-fortnitebr-comments_submissions.tsv\n",
      "Chunking into sentences\n",
      "Reshaping and fixing whitespace / punctuation\n",
      "Chunked into 751364 sentences\n",
      "Extracting entities using 1,2,3-grams\n"
     ]
    },
    {
     "name": "stderr",
     "output_type": "stream",
     "text": [
      "C:\\Users\\map22\\Anaconda3\\lib\\site-packages\\pandas\\core\\indexing.py:494: SettingWithCopyWarning: \n",
      "A value is trying to be set on a copy of a slice from a DataFrame.\n",
      "Try using .loc[row_indexer,col_indexer] = value instead\n",
      "\n",
      "See the caveats in the documentation: http://pandas.pydata.org/pandas-docs/stable/user_guide/indexing.html#returning-a-view-versus-a-copy\n",
      "  self.obj[item] = s\n"
     ]
    },
    {
     "name": "stdout",
     "output_type": "stream",
     "text": [
      "Loading file: d:/data/fortnite/201810-fortnitebr-comments_submissions.tsv\n",
      "Chunking into sentences\n",
      "Reshaping and fixing whitespace / punctuation\n",
      "Chunked into 813276 sentences\n",
      "Extracting entities using 1,2,3-grams\n",
      "Loading file: d:/data/fortnite/201811-fortnitebr-comments_submissions.tsv\n",
      "Chunking into sentences\n",
      "Reshaping and fixing whitespace / punctuation\n",
      "Chunked into 797199 sentences\n",
      "Extracting entities using 1,2,3-grams\n",
      "Loading file: d:/data/fortnite/201812-fortnitebr-comments_submissions.tsv\n",
      "Chunking into sentences\n",
      "Reshaping and fixing whitespace / punctuation\n",
      "Chunked into 806170 sentences\n",
      "Extracting entities using 1,2,3-grams\n",
      "Loading file: d:/data/fortnite/201901-fortnitebr-comments_submissions.tsv\n",
      "Chunking into sentences\n",
      "Reshaping and fixing whitespace / punctuation\n",
      "Chunked into 776585 sentences\n",
      "Extracting entities using 1,2,3-grams\n",
      "Loading file: d:/data/fortnite/201902-fortnitebr-comments_submissions.tsv\n",
      "Chunking into sentences\n",
      "Reshaping and fixing whitespace / punctuation\n",
      "Chunked into 724948 sentences\n",
      "Extracting entities using 1,2,3-grams\n",
      "Loading file: d:/data/fortnite/201903-fortnitebr-comments_submissions.tsv\n",
      "Chunking into sentences\n",
      "Reshaping and fixing whitespace / punctuation\n",
      "Chunked into 774750 sentences\n",
      "Extracting entities using 1,2,3-grams\n",
      "Loading file: d:/data/fortnite/201904-fortnitebr-comments_submissions.tsv\n",
      "Chunking into sentences\n",
      "Reshaping and fixing whitespace / punctuation\n",
      "Chunked into 743436 sentences\n",
      "Extracting entities using 1,2,3-grams\n",
      "Loading file: d:/data/fortnite/201905-fortnitebr-comments_submissions.tsv\n",
      "Chunking into sentences\n",
      "Reshaping and fixing whitespace / punctuation\n",
      "Chunked into 800483 sentences\n",
      "Extracting entities using 1,2,3-grams\n",
      "Loading file: d:/data/fortnite/201906-fortnitebr-comments_submissions.tsv\n",
      "Chunking into sentences\n",
      "Reshaping and fixing whitespace / punctuation\n",
      "Chunked into 567208 sentences\n",
      "Extracting entities using 1,2,3-grams\n",
      "Loading file: d:/data/fortnite/201907-fortnitebr-comments_submissions.tsv\n",
      "Chunking into sentences\n",
      "Reshaping and fixing whitespace / punctuation\n",
      "Chunked into 552840 sentences\n",
      "Extracting entities using 1,2,3-grams\n"
     ]
    }
   ],
   "source": [
    "stub_loc = 'd:/data/fortnite/{}-fortnitebr-comments_submissions.tsv'\n",
    "zipped_results = [ss.extract_skins_fortnite(stub_loc.format(month), NAMED_ENTITIES, NON_SKINS_SET, sid.polarity_scores) for month in months_overall]\n",
    "all_extracted_df, all_single_df = zip(*zipped_results)"
   ]
  },
  {
   "cell_type": "code",
   "execution_count": 28,
   "metadata": {},
   "outputs": [],
   "source": [
    "combined_extracted_df = pd.concat(all_extracted_df)\n",
    "combined_single_df = pd.concat(all_single_df)\n",
    "combined_single_df['skins_str'] = combined_single_df['extracted_skins'].str[0].str.lower()"
   ]
  },
  {
   "cell_type": "code",
   "execution_count": 29,
   "metadata": {},
   "outputs": [
    {
     "data": {
      "text/plain": [
       "drift            7351\n",
       "omega            6670\n",
       "john wick        6639\n",
       "skull trooper    5844\n",
       "fishstick        4434\n",
       "dire             3682\n",
       "peely            3293\n",
       "ragnarok         3268\n",
       "black knight     3007\n",
       "marshmello       2960\n",
       "Name: skins_str, dtype: int64"
      ]
     },
     "execution_count": 29,
     "metadata": {},
     "output_type": "execute_result"
    }
   ],
   "source": [
    "combined_single_df['skins_str'].value_counts().head(10)"
   ]
  },
  {
   "cell_type": "markdown",
   "metadata": {},
   "source": [
    "#### Verify that extraction is working correctly"
   ]
  },
  {
   "cell_type": "code",
   "execution_count": null,
   "metadata": {},
   "outputs": [],
   "source": [
    "combined_single_df.query('skins_str == \"mecha team leader\"').sample(10)"
   ]
  },
  {
   "cell_type": "code",
   "execution_count": 31,
   "metadata": {},
   "outputs": [],
   "source": [
    "combined_single_df.to_csv('d:/data/fortnite/comments_with_single_skins.tsv', sep='\\t', index=False)"
   ]
  },
  {
   "cell_type": "code",
   "execution_count": 33,
   "metadata": {},
   "outputs": [],
   "source": [
    "combined_extracted_df.to_pickle('d:/data/fortnite/comments_with_n_skins.pkl')"
   ]
  },
  {
   "cell_type": "markdown",
   "metadata": {},
   "source": [
    "### Exploration"
   ]
  },
  {
   "cell_type": "code",
   "execution_count": 28,
   "metadata": {},
   "outputs": [
    {
     "data": {
      "text/plain": [
       "skull trooper    6648\n",
       "omega            4036\n",
       "drift            3060\n",
       "dire             3025\n",
       "marshmello       2299\n",
       "Name: extracted_skins, dtype: int64"
      ]
     },
     "execution_count": 28,
     "metadata": {},
     "output_type": "execute_result"
    }
   ],
   "source": [
    "exploded_df = combined_extracted_df.explode('extracted_skins')\n",
    "skin_counts_series = exploded_df['extracted_skins'].str.lower().value_counts()\n",
    "skin_counts_series.head(5)"
   ]
  },
  {
   "cell_type": "code",
   "execution_count": 32,
   "metadata": {},
   "outputs": [
    {
     "data": {
      "image/png": "[encoded data removed]",
      "text/plain": [
       "<matplotlib.figure.Figure at 0x2b80c680a90>"
      ]
     },
     "metadata": {},
     "output_type": "display_data"
    }
   ],
   "source": [
    "skin_counts_series.plot.line()\n",
    "plt.yscale('log')"
   ]
  },
  {
   "cell_type": "markdown",
   "metadata": {},
   "source": [
    "### Regression"
   ]
  },
  {
   "cell_type": "code",
   "execution_count": 27,
   "metadata": {},
   "outputs": [
    {
     "data": {
      "text/html": [
       "<div>\n",
       "<style scoped>\n",
       "    .dataframe tbody tr th:only-of-type {\n",
       "        vertical-align: middle;\n",
       "    }\n",
       "\n",
       "    .dataframe tbody tr th {\n",
       "        vertical-align: top;\n",
       "    }\n",
       "\n",
       "    .dataframe thead th {\n",
       "        text-align: right;\n",
       "    }\n",
       "</style>\n",
       "<table border=\"1\" class=\"dataframe\">\n",
       "  <thead>\n",
       "    <tr style=\"text-align: right;\">\n",
       "      <th></th>\n",
       "      <th>skin_name</th>\n",
       "      <th>skin_source</th>\n",
       "      <th>skin_rarity</th>\n",
       "      <th>race</th>\n",
       "      <th>gender</th>\n",
       "      <th>story_skin</th>\n",
       "      <th>skin_set</th>\n",
       "      <th>release_date</th>\n",
       "      <th>release_datetime</th>\n",
       "    </tr>\n",
       "  </thead>\n",
       "  <tbody>\n",
       "    <tr>\n",
       "      <td>188</td>\n",
       "      <td>Ice Queen</td>\n",
       "      <td>2000 V-Bucks</td>\n",
       "      <td>Legendary</td>\n",
       "      <td>W</td>\n",
       "      <td>M</td>\n",
       "      <td>NaN</td>\n",
       "      <td>NaN</td>\n",
       "      <td>NaN</td>\n",
       "      <td>NaN</td>\n",
       "    </tr>\n",
       "    <tr>\n",
       "      <td>174</td>\n",
       "      <td>Hime</td>\n",
       "      <td>2000 V-Bucks</td>\n",
       "      <td>Legendary</td>\n",
       "      <td>A</td>\n",
       "      <td>F</td>\n",
       "      <td>NaN</td>\n",
       "      <td>Bushido</td>\n",
       "      <td>23-Aug-18</td>\n",
       "      <td>2018-08-23</td>\n",
       "    </tr>\n",
       "    <tr>\n",
       "      <td>221</td>\n",
       "      <td>Masked Fury</td>\n",
       "      <td>1200 V-Bucks</td>\n",
       "      <td>Rare</td>\n",
       "      <td>L</td>\n",
       "      <td>M</td>\n",
       "      <td>NaN</td>\n",
       "      <td>Lucha</td>\n",
       "      <td>07-20-2018</td>\n",
       "      <td>2018-07-20</td>\n",
       "    </tr>\n",
       "    <tr>\n",
       "      <td>409</td>\n",
       "      <td>Verge</td>\n",
       "      <td>800 V-Bucks</td>\n",
       "      <td>\\r\\n</td>\n",
       "      <td>NaN</td>\n",
       "      <td>M</td>\n",
       "      <td>NaN</td>\n",
       "      <td>Modern Mercenary</td>\n",
       "      <td>16-Jan-19</td>\n",
       "      <td>2019-01-16</td>\n",
       "    </tr>\n",
       "    <tr>\n",
       "      <td>219</td>\n",
       "      <td>Marked Marauder</td>\n",
       "      <td>800 V-Bucks</td>\n",
       "      <td>\\r\\n</td>\n",
       "      <td>W</td>\n",
       "      <td>M</td>\n",
       "      <td>NaN</td>\n",
       "      <td>Banner Brigade</td>\n",
       "      <td>17-Jul-19</td>\n",
       "      <td>2019-07-17</td>\n",
       "    </tr>\n",
       "    <tr>\n",
       "      <td>15</td>\n",
       "      <td>Assault Trooper</td>\n",
       "      <td>800 V-Bucks</td>\n",
       "      <td>Uncommon</td>\n",
       "      <td>L</td>\n",
       "      <td>F</td>\n",
       "      <td>NaN</td>\n",
       "      <td>NaN</td>\n",
       "      <td>31-Oct-17</td>\n",
       "      <td>2017-10-31</td>\n",
       "    </tr>\n",
       "    <tr>\n",
       "      <td>207</td>\n",
       "      <td>Lt. Logo</td>\n",
       "      <td>800 V-Bucks</td>\n",
       "      <td>Uncommon</td>\n",
       "      <td>B</td>\n",
       "      <td>M</td>\n",
       "      <td>NaN</td>\n",
       "      <td>Banner Brigade</td>\n",
       "      <td>17-Jul-19</td>\n",
       "      <td>2019-07-17</td>\n",
       "    </tr>\n",
       "    <tr>\n",
       "      <td>370</td>\n",
       "      <td>Sunflower</td>\n",
       "      <td>800 V-Bucks</td>\n",
       "      <td>Uncommon</td>\n",
       "      <td>W</td>\n",
       "      <td>F</td>\n",
       "      <td>NaN</td>\n",
       "      <td>Fatal Fielders</td>\n",
       "      <td>5-Mar-19</td>\n",
       "      <td>2019-03-05</td>\n",
       "    </tr>\n",
       "    <tr>\n",
       "      <td>312</td>\n",
       "      <td>Scarlet Defender</td>\n",
       "      <td>800 V-Bucks</td>\n",
       "      <td>Uncommon</td>\n",
       "      <td>L</td>\n",
       "      <td>F</td>\n",
       "      <td>NaN</td>\n",
       "      <td>NaN</td>\n",
       "      <td>25-Feb-18</td>\n",
       "      <td>2018-02-25</td>\n",
       "    </tr>\n",
       "    <tr>\n",
       "      <td>349</td>\n",
       "      <td>Spooky Team Leader</td>\n",
       "      <td>1500 V-Bucks</td>\n",
       "      <td>Epic</td>\n",
       "      <td>NaN</td>\n",
       "      <td>F</td>\n",
       "      <td>NaN</td>\n",
       "      <td>NaN</td>\n",
       "      <td>1-Nov-18</td>\n",
       "      <td>2018-11-01</td>\n",
       "    </tr>\n",
       "  </tbody>\n",
       "</table>\n",
       "</div>"
      ],
      "text/plain": [
       "              skin_name   skin_source skin_rarity race gender story_skin  \\\n",
       "188           Ice Queen  2000 V-Bucks   Legendary    W      M        NaN   \n",
       "174                Hime  2000 V-Bucks   Legendary    A      F        NaN   \n",
       "221         Masked Fury  1200 V-Bucks        Rare    L      M        NaN   \n",
       "409               Verge   800 V-Bucks        \\r\\n  NaN      M        NaN   \n",
       "219     Marked Marauder   800 V-Bucks        \\r\\n    W      M        NaN   \n",
       "15      Assault Trooper   800 V-Bucks    Uncommon    L      F        NaN   \n",
       "207            Lt. Logo   800 V-Bucks    Uncommon    B      M        NaN   \n",
       "370           Sunflower   800 V-Bucks    Uncommon    W      F        NaN   \n",
       "312    Scarlet Defender   800 V-Bucks    Uncommon    L      F        NaN   \n",
       "349  Spooky Team Leader  1500 V-Bucks        Epic  NaN      F        NaN   \n",
       "\n",
       "             skin_set release_date release_datetime  \n",
       "188               NaN          NaN              NaN  \n",
       "174           Bushido    23-Aug-18       2018-08-23  \n",
       "221             Lucha   07-20-2018       2018-07-20  \n",
       "409  Modern Mercenary    16-Jan-19       2019-01-16  \n",
       "219    Banner Brigade    17-Jul-19       2019-07-17  \n",
       "15                NaN    31-Oct-17       2017-10-31  \n",
       "207    Banner Brigade    17-Jul-19       2019-07-17  \n",
       "370    Fatal Fielders     5-Mar-19       2019-03-05  \n",
       "312               NaN    25-Feb-18       2018-02-25  \n",
       "349               NaN     1-Nov-18       2018-11-01  "
      ]
     },
     "execution_count": 27,
     "metadata": {},
     "output_type": "execute_result"
    }
   ],
   "source": [
    "skin_df.sample(10)"
   ]
  },
  {
   "cell_type": "code",
   "execution_count": 34,
   "metadata": {},
   "outputs": [],
   "source": [
    "skin_df['skins_str'] = skin_df['skin_name'].str.lower()\n",
    "join_df = combined_single_df.merge(skin_df, on='skins_str')"
   ]
  },
  {
   "cell_type": "code",
   "execution_count": 21,
   "metadata": {},
   "outputs": [],
   "source": [
    "#join_df.to_csv('modeling_data/fortnite_sentiment_data.tsv', sep='\\t', index=False)\n",
    "join_df = pd.read_csv('modeling_data/fortnite_sentiment_data.tsv', sep='\\t').fillna({'race':'unknown',\n",
    "                                                                                     'gender':'non-human',\n",
    "                                                                                     'story_skin':False})"
   ]
  },
  {
   "cell_type": "code",
   "execution_count": 23,
   "metadata": {},
   "outputs": [
    {
     "data": {
      "text/plain": [
       "M            29402\n",
       "F            14000\n",
       "non-human        6\n",
       "Name: gender, dtype: int64"
      ]
     },
     "execution_count": 23,
     "metadata": {},
     "output_type": "execute_result"
    }
   ],
   "source": [
    "join_df.gender.value_counts()"
   ]
  },
  {
   "cell_type": "code",
   "execution_count": 24,
   "metadata": {},
   "outputs": [],
   "source": [
    "model = smf.wls( formula = 'compound ~ race + gender +skin_rarity + story_skin',\n",
    "                data = join_df#,\n",
    "#               weights = 1# / (fit_df['compound_mean_std'] / np.sqrt(fit_df['user_count'])),\n",
    "#                missing='raise'   \n",
    "               ).fit()"
   ]
  },
  {
   "cell_type": "code",
   "execution_count": 25,
   "metadata": {},
   "outputs": [
    {
     "data": {
      "text/html": [
       "<table class=\"simpletable\">\n",
       "<caption>WLS Regression Results</caption>\n",
       "<tr>\n",
       "  <th>Dep. Variable:</th>        <td>compound</td>     <th>  R-squared:         </th> <td>   0.064</td> \n",
       "</tr>\n",
       "<tr>\n",
       "  <th>Model:</th>                   <td>WLS</td>       <th>  Adj. R-squared:    </th> <td>   0.064</td> \n",
       "</tr>\n",
       "<tr>\n",
       "  <th>Method:</th>             <td>Least Squares</td>  <th>  F-statistic:       </th> <td>   249.2</td> \n",
       "</tr>\n",
       "<tr>\n",
       "  <th>Date:</th>             <td>Wed, 28 Aug 2019</td> <th>  Prob (F-statistic):</th>  <td>  0.00</td>  \n",
       "</tr>\n",
       "<tr>\n",
       "  <th>Time:</th>                 <td>17:03:33</td>     <th>  Log-Likelihood:    </th> <td> -16629.</td> \n",
       "</tr>\n",
       "<tr>\n",
       "  <th>No. Observations:</th>      <td> 43408</td>      <th>  AIC:               </th> <td>3.328e+04</td>\n",
       "</tr>\n",
       "<tr>\n",
       "  <th>Df Residuals:</th>          <td> 43395</td>      <th>  BIC:               </th> <td>3.340e+04</td>\n",
       "</tr>\n",
       "<tr>\n",
       "  <th>Df Model:</th>              <td>    12</td>      <th>                     </th>     <td> </td>    \n",
       "</tr>\n",
       "<tr>\n",
       "  <th>Covariance Type:</th>      <td>nonrobust</td>    <th>                     </th>     <td> </td>    \n",
       "</tr>\n",
       "</table>\n",
       "<table class=\"simpletable\">\n",
       "<tr>\n",
       "              <td></td>                <th>coef</th>     <th>std err</th>      <th>t</th>      <th>P>|t|</th>  <th>[0.025</th>    <th>0.975]</th>  \n",
       "</tr>\n",
       "<tr>\n",
       "  <th>Intercept</th>                <td>    0.1076</td> <td>    0.030</td> <td>    3.628</td> <td> 0.000</td> <td>    0.049</td> <td>    0.166</td>\n",
       "</tr>\n",
       "<tr>\n",
       "  <th>race[T.B]</th>                <td>    0.0412</td> <td>    0.014</td> <td>    2.976</td> <td> 0.003</td> <td>    0.014</td> <td>    0.068</td>\n",
       "</tr>\n",
       "<tr>\n",
       "  <th>race[T.L]</th>                <td>   -0.0465</td> <td>    0.014</td> <td>   -3.339</td> <td> 0.001</td> <td>   -0.074</td> <td>   -0.019</td>\n",
       "</tr>\n",
       "<tr>\n",
       "  <th>race[T.SELECT]</th>           <td>    0.0168</td> <td>    0.026</td> <td>    0.642</td> <td> 0.521</td> <td>   -0.035</td> <td>    0.068</td>\n",
       "</tr>\n",
       "<tr>\n",
       "  <th>race[T.W]</th>                <td>   -0.0555</td> <td>    0.013</td> <td>   -4.256</td> <td> 0.000</td> <td>   -0.081</td> <td>   -0.030</td>\n",
       "</tr>\n",
       "<tr>\n",
       "  <th>race[T.unknown]</th>          <td>   -0.0244</td> <td>    0.013</td> <td>   -1.863</td> <td> 0.062</td> <td>   -0.050</td> <td>    0.001</td>\n",
       "</tr>\n",
       "<tr>\n",
       "  <th>gender[T.M]</th>              <td>   -0.0468</td> <td>    0.004</td> <td>  -10.504</td> <td> 0.000</td> <td>   -0.056</td> <td>   -0.038</td>\n",
       "</tr>\n",
       "<tr>\n",
       "  <th>gender[T.non-human]</th>      <td>   -0.1036</td> <td>    0.145</td> <td>   -0.714</td> <td> 0.475</td> <td>   -0.388</td> <td>    0.181</td>\n",
       "</tr>\n",
       "<tr>\n",
       "  <th>skin_rarity[T.Epic]</th>      <td>    0.0466</td> <td>    0.027</td> <td>    1.740</td> <td> 0.082</td> <td>   -0.006</td> <td>    0.099</td>\n",
       "</tr>\n",
       "<tr>\n",
       "  <th>skin_rarity[T.Legendary]</th> <td>    0.0116</td> <td>    0.027</td> <td>    0.434</td> <td> 0.664</td> <td>   -0.041</td> <td>    0.064</td>\n",
       "</tr>\n",
       "<tr>\n",
       "  <th>skin_rarity[T.Rare]</th>      <td>    0.0010</td> <td>    0.027</td> <td>    0.038</td> <td> 0.969</td> <td>   -0.052</td> <td>    0.054</td>\n",
       "</tr>\n",
       "<tr>\n",
       "  <th>skin_rarity[T.Uncommon]</th>  <td>    0.0091</td> <td>    0.028</td> <td>    0.328</td> <td> 0.743</td> <td>   -0.045</td> <td>    0.063</td>\n",
       "</tr>\n",
       "<tr>\n",
       "  <th>story_skin[T.True]</th>       <td>   -0.5032</td> <td>    0.011</td> <td>  -46.409</td> <td> 0.000</td> <td>   -0.524</td> <td>   -0.482</td>\n",
       "</tr>\n",
       "</table>\n",
       "<table class=\"simpletable\">\n",
       "<tr>\n",
       "  <th>Omnibus:</th>       <td>48.404</td> <th>  Durbin-Watson:     </th> <td>   1.700</td>\n",
       "</tr>\n",
       "<tr>\n",
       "  <th>Prob(Omnibus):</th> <td> 0.000</td> <th>  Jarque-Bera (JB):  </th> <td>  48.869</td>\n",
       "</tr>\n",
       "<tr>\n",
       "  <th>Skew:</th>          <td> 0.076</td> <th>  Prob(JB):          </th> <td>2.45e-11</td>\n",
       "</tr>\n",
       "<tr>\n",
       "  <th>Kurtosis:</th>      <td> 3.064</td> <th>  Cond. No.          </th> <td>    128.</td>\n",
       "</tr>\n",
       "</table><br/><br/>Warnings:<br/>[1] Standard Errors assume that the covariance matrix of the errors is correctly specified."
      ],
      "text/plain": [
       "<class 'statsmodels.iolib.summary.Summary'>\n",
       "\"\"\"\n",
       "                            WLS Regression Results                            \n",
       "==============================================================================\n",
       "Dep. Variable:               compound   R-squared:                       0.064\n",
       "Model:                            WLS   Adj. R-squared:                  0.064\n",
       "Method:                 Least Squares   F-statistic:                     249.2\n",
       "Date:                Wed, 28 Aug 2019   Prob (F-statistic):               0.00\n",
       "Time:                        17:03:33   Log-Likelihood:                -16629.\n",
       "No. Observations:               43408   AIC:                         3.328e+04\n",
       "Df Residuals:                   43395   BIC:                         3.340e+04\n",
       "Df Model:                          12                                         \n",
       "Covariance Type:            nonrobust                                         \n",
       "============================================================================================\n",
       "                               coef    std err          t      P>|t|      [0.025      0.975]\n",
       "--------------------------------------------------------------------------------------------\n",
       "Intercept                    0.1076      0.030      3.628      0.000       0.049       0.166\n",
       "race[T.B]                    0.0412      0.014      2.976      0.003       0.014       0.068\n",
       "race[T.L]                   -0.0465      0.014     -3.339      0.001      -0.074      -0.019\n",
       "race[T.SELECT]               0.0168      0.026      0.642      0.521      -0.035       0.068\n",
       "race[T.W]                   -0.0555      0.013     -4.256      0.000      -0.081      -0.030\n",
       "race[T.unknown]             -0.0244      0.013     -1.863      0.062      -0.050       0.001\n",
       "gender[T.M]                 -0.0468      0.004    -10.504      0.000      -0.056      -0.038\n",
       "gender[T.non-human]         -0.1036      0.145     -0.714      0.475      -0.388       0.181\n",
       "skin_rarity[T.Epic]          0.0466      0.027      1.740      0.082      -0.006       0.099\n",
       "skin_rarity[T.Legendary]     0.0116      0.027      0.434      0.664      -0.041       0.064\n",
       "skin_rarity[T.Rare]          0.0010      0.027      0.038      0.969      -0.052       0.054\n",
       "skin_rarity[T.Uncommon]      0.0091      0.028      0.328      0.743      -0.045       0.063\n",
       "story_skin[T.True]          -0.5032      0.011    -46.409      0.000      -0.524      -0.482\n",
       "==============================================================================\n",
       "Omnibus:                       48.404   Durbin-Watson:                   1.700\n",
       "Prob(Omnibus):                  0.000   Jarque-Bera (JB):               48.869\n",
       "Skew:                           0.076   Prob(JB):                     2.45e-11\n",
       "Kurtosis:                       3.064   Cond. No.                         128.\n",
       "==============================================================================\n",
       "\n",
       "Warnings:\n",
       "[1] Standard Errors assume that the covariance matrix of the errors is correctly specified.\n",
       "\"\"\""
      ]
     },
     "execution_count": 25,
     "metadata": {},
     "output_type": "execute_result"
    }
   ],
   "source": [
    "model.summary()"
   ]
  },
  {
   "cell_type": "markdown",
   "metadata": {},
   "source": [
    "### Old NER code (didn't work due to too many common words and reused words across skins)"
   ]
  },
  {
   "cell_type": "code",
   "execution_count": 83,
   "metadata": {},
   "outputs": [
    {
     "name": "stdout",
     "output_type": "stream",
     "text": [
      "Wall time: 33.9 s\n"
     ]
    }
   ],
   "source": [
    "%%time\n",
    "# 1 min if memory constrained\n",
    "import dask.dataframe as dd\n",
    "from dask.distributed import Client, LocalCluster\n",
    "cluster = LocalCluster()\n",
    "client = Client(cluster)\n",
    "ddf = dd.from_pandas(july_sentences_df, npartitions=12)\n",
    "test_df= ddf.map_partitions(lambda df: ss.extract_known_ner(df, NAMED_ENTITIES, UPPER_ENTITIES)).compute()\n",
    "client.close()\n"
   ]
  },
  {
   "cell_type": "code",
   "execution_count": 84,
   "metadata": {},
   "outputs": [
    {
     "name": "stdout",
     "output_type": "stream",
     "text": [
      "Outputting 90243 sentences which have 1-2 named entities\n",
      "Wall time: 5.04 s\n"
     ]
    }
   ],
   "source": [
    "%%time\n",
    "#test_df = ss.extract_known_ner(july_sentences_df, NAMED_ENTITIES, UPPER_ENTITIES)\n",
    "test_df = ss.clean_entities(test_df, non_players_set=NON_SKINS,max_entities = 4)"
   ]
  },
  {
   "cell_type": "code",
   "execution_count": 94,
   "metadata": {},
   "outputs": [
    {
     "data": {
      "text/plain": [
       "singularity      1028\n",
       "drift             720\n",
       "fishstick         555\n",
       "grind             438\n",
       "peely             432\n",
       "omega             299\n",
       "beach bomber      287\n",
       "marshmello        280\n",
       "ruin              256\n",
       "breakpoint        243\n",
       "john wick         232\n",
       "demogorgon        225\n",
       "vendetta          197\n",
       "luxe              183\n",
       "demi              165\n",
       "ikonik            159\n",
       "rust lord         147\n",
       "hopper            123\n",
       "rox               118\n",
       "bunker jonesy     114\n",
       "Name: str_entities, dtype: int64"
      ]
     },
     "execution_count": 94,
     "metadata": {},
     "output_type": "execute_result"
    }
   ],
   "source": [
    "test_df['skin_match'] = test_df['str_entities'].apply(lambda row: row in skin_set)\n",
    "test_df.query('skin_match')['str_entities'].value_counts().head(20)"
   ]
  },
  {
   "cell_type": "code",
   "execution_count": null,
   "metadata": {},
   "outputs": [],
   "source": []
  }
 ],
 "metadata": {
  "kernelspec": {
   "display_name": "Python 3",
   "language": "python",
   "name": "python3"
  },
  "language_info": {
   "codemirror_mode": {
    "name": "ipython",
    "version": 3
   },
   "file_extension": ".py",
   "mimetype": "text/x-python",
   "name": "python",
   "nbconvert_exporter": "python",
   "pygments_lexer": "ipython3",
   "version": "3.6.4"
  }
 },
 "nbformat": 4,
 "nbformat_minor": 2
}
