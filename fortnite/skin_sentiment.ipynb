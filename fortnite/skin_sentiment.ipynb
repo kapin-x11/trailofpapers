{
 "cells": [
  {
   "cell_type": "markdown",
   "metadata": {},
   "source": [
    "# To do:\n",
    "\n",
    "## To check:"
   ]
  },
  {
   "cell_type": "code",
   "execution_count": 1,
   "metadata": {},
   "outputs": [],
   "source": [
    "import numpy as np\n",
    "import pandas as pd\n",
    "pd.set_option('display.max_colwidth', 140)\n",
    "import sys, os\n",
    "%matplotlib inline\n",
    "import matplotlib.pyplot as plt\n",
    "import statsmodels.formula.api as smf\n",
    "from datetime import datetime"
   ]
  },
  {
   "cell_type": "code",
   "execution_count": 2,
   "metadata": {},
   "outputs": [
    {
     "name": "stderr",
     "output_type": "stream",
     "text": [
      "C:\\Users\\map22\\Anaconda3\\lib\\site-packages\\distributed\\utils.py:129: RuntimeWarning: Couldn't detect a suitable IP address for reaching '8.8.8.8', defaulting to '127.0.0.1': [WinError 10051] A socket operation was attempted to an unreachable network\n",
      "  % (host, default, e), RuntimeWarning)\n"
     ]
    }
   ],
   "source": [
    "sys.path.append(os.path.join(os.path.curdir, '..', 'sentiment_sports'))\n",
    "import sports_sentiment as ss"
   ]
  },
  {
   "cell_type": "code",
   "execution_count": 3,
   "metadata": {},
   "outputs": [],
   "source": [
    "fs = 14"
   ]
  },
  {
   "cell_type": "markdown",
   "metadata": {},
   "source": [
    "### Load sentiment analyzer"
   ]
  },
  {
   "cell_type": "code",
   "execution_count": 4,
   "metadata": {},
   "outputs": [
    {
     "name": "stderr",
     "output_type": "stream",
     "text": [
      "C:\\Users\\map22\\Anaconda3\\lib\\site-packages\\nltk\\twitter\\__init__.py:20: UserWarning: The twython library has not been installed. Some functionality from the twitter package will not be available.\n",
      "  warnings.warn(\"The twython library has not been installed. \"\n"
     ]
    }
   ],
   "source": [
    "from nltk.sentiment.vader import SentimentIntensityAnalyzer\n",
    "sid = SentimentIntensityAnalyzer()\n",
    "stat_words = ['win', 'kills']\n",
    "neutral_words = ['dire',  'leaked', 'play', 'shoot', 'kill', 'assault', 'playing', 'played', 'killed',\n",
    "                 'sparkle', 'prisoner', 'winner', 'win', 'ruin', 'pay', 'gun', 'fury',\n",
    "                 'destroyer', 'radiant', 'poised', 'merry', 'honor', 'grit', 'threat',\n",
    "                 'wreck', 'havoc', 'battle', 'heartbreaker', 'devastator','dynamic', 'stalwart', 'daring',\n",
    "                'rebel', 'prickly', 'scarecrow', 'apocalyptic', 'definitely', 'please']\n",
    "bad_words = ['uninstall', 'noob', 'nub', 'bot']\n",
    "great_words = ['clutch', 'dope', 'fire', '💗']\n",
    "sid.lexicon.update({word:0.1 for word in stat_words})\n",
    "sid.lexicon.update({word:0 for word in neutral_words})\n",
    "sid.lexicon.update({word:-1 for word in bad_words})\n",
    "sid.lexicon.update({word:1.5 for word in great_words})"
   ]
  },
  {
   "cell_type": "markdown",
   "metadata": {},
   "source": [
    "## Create words for known token NER\n",
    "Load a list of all skins"
   ]
  },
  {
   "cell_type": "code",
   "execution_count": 5,
   "metadata": {},
   "outputs": [],
   "source": [
    "skin_df = pd.read_csv('modeling_data/labeled_skin_covariates.tsv', sep='\\t')\n",
    "skin_df['release_datetime'] = pd.to_datetime(skin_df['release_datetime'])\n",
    "skin_df['days_since_release'] = (datetime.now() - skin_df['release_datetime']).dt.days"
   ]
  },
  {
   "cell_type": "code",
   "execution_count": 6,
   "metadata": {},
   "outputs": [],
   "source": [
    "skin_df['skins_str'] = skin_df['skin_name'].str.lower()\n",
    "skin_df['skins_str'] = skin_df['skins_str'].str.strip('.!').str.replace('the ', '')\n",
    "skin_df['gender'] = skin_df['gender'].fillna('non-human-gender')\n",
    "skin_df[skin_df['gender'] == 'non-human']['race'] = 'non-human-race'\n",
    "skin_df['race'] = skin_df['race'].fillna('unclear_race')\n",
    "skin_df['battle_pass'] = skin_df['skin_source'].str.contains('Battle Pass')\n",
    "skin_df['v_bucks'] = skin_df['skin_source'].str.extract('(\\d+) V-Bucks').fillna(0).astype(int)\n",
    "skin_df['v_bucks'].value_counts()\n",
    "skin_df['tier_1'] = skin_df['skin_source'].str.contains('Tier 1 ')\n",
    "skin_df['tier_100'] = skin_df['skin_source'].str.contains('Tier 100')\n",
    "skin_df['story_skin'] = skin_df['story_skin'].fillna(False)\n",
    "skin_df.loc[skin_df['skin_name'] == \"Vendetta\",'tier_100'] = True"
   ]
  },
  {
   "cell_type": "code",
   "execution_count": 7,
   "metadata": {},
   "outputs": [],
   "source": [
    "SKIN_SET = set(skin_df['skin_name'].tolist())\n",
    "NAME_MAPPINGS= {'Yeehaw':'yee-haw', 'Yee haw':'yee-haw', 'Giddyup': 'giddy-up', 'Giddy up':'giddy-up',\n",
    "                'Sunstrider':'sun strider',\n",
    "                'Red-Nosed Ranger':'rednosed ranger','Red-Nosed Raider':'rednosed Raider',\n",
    "               'Brute Gunner': 'B.R.U.T.E. Gunner', 'Brute Navigator': 'B.R.U.T.E. Navigator'}\n",
    "NAME_MAPPINGS.update({k.lower():v for k,v in NAME_MAPPINGS.items()})\n",
    "SKIN_SET = SKIN_SET | set(NAME_MAPPINGS.keys() )\n",
    "SKIN_SET = SKIN_SET | set(skin.lower() for skin in SKIN_SET)\n",
    "SKIN_SET = set(word.replace('the ', '') for word in SKIN_SET)\n",
    "SKIN_SET = SKIN_SET | set(skin.replace('.', '') for skin in SKIN_SET )\n",
    "UPPER_ENTITIES = {'A.I.M', 'Powder', 'Focus', 'Dream', 'Rush', 'Aim', 'Velocity',\n",
    "                  'Guild', 'Grind', 'Ruin', 'Spike', 'Clutch', 'Bullseye',\n",
    "                 'Fate', 'Oblivion', 'Splode', 'Scout', 'Rebel', 'Riot'}\n",
    "MIXED_ENTITIES = set(skin.capitalize() for skin in SKIN_SET if len(skin.split()) > 1)\n",
    "SKIN_SET = SKIN_SET -  {name.lower() for name in UPPER_ENTITIES} | UPPER_ENTITIES | MIXED_ENTITIES"
   ]
  },
  {
   "cell_type": "markdown",
   "metadata": {},
   "source": [
    "Add streamers and game modes (\"Blitz) to non skins set"
   ]
  },
  {
   "cell_type": "code",
   "execution_count": 8,
   "metadata": {},
   "outputs": [],
   "source": [
    "NON_SKINS_SET = {'ninja', 'tfue', 'epic', 'bugha', 'reverse3k',\n",
    "             'daequen', 'sypherpk', 'nickmercs', 'hamlinz', 'nickeh30',\n",
    "             'Horde Rush', 'Aim assist', 'Storm tracker', 'Fortnite tracker', 'Blitz', 'blitz'}\n",
    "NAMED_ENTITIES = SKIN_SET | NON_SKINS_SET\n",
    "start_filter =  '^(' +  '|'.join( UPPER_ENTITIES) +')' # this may be too strict; I don't think Rush or Grind have this problem"
   ]
  },
  {
   "cell_type": "markdown",
   "metadata": {},
   "source": [
    "## Load some data"
   ]
  },
  {
   "cell_type": "code",
   "execution_count": 8,
   "metadata": {},
   "outputs": [],
   "source": [
    "months_2019 = [f'2019{month:02}' for month in range(1,8)]\n",
    "months_2018 = [f'2018{month:02}' for month in range(1,13)]\n",
    "months_overall = months_2018 + months_2019"
   ]
  },
  {
   "cell_type": "code",
   "execution_count": null,
   "metadata": {},
   "outputs": [],
   "source": [
    "%%time\n",
    "stub_loc = 'd:/data/fortnite/{}-fortnitebr-comments_submissions.tsv'\n",
    "zipped_results = [ss.extract_skins_fortnite(stub_loc.format(month), NAMED_ENTITIES, NON_SKINS_SET, sid.polarity_scores) for month in months_overall]\n",
    "all_extracted_df, all_single_df = zip(*zipped_results)"
   ]
  },
  {
   "cell_type": "code",
   "execution_count": 13,
   "metadata": {},
   "outputs": [],
   "source": [
    "combined_extracted_df = pd.concat(all_extracted_df)\n",
    "combined_single_df = pd.concat(all_single_df)\n",
    "combined_single_df['skins_str'] = combined_single_df['extracted_skins'].str[0].str.lower()\n",
    "combined_single_df['skins_str'] = combined_single_df['skins_str'].apply(lambda row: NAME_MAPPINGS[row] if row in NAME_MAPPINGS else row) # map names\n",
    "combined_single_df = combined_single_df[~(combined_single_df['sentences'].str.lower() == combined_single_df['skins_str'])] # sentences where it is just the name of a skin"
   ]
  },
  {
   "cell_type": "code",
   "execution_count": 66,
   "metadata": {},
   "outputs": [
    {
     "name": "stdout",
     "output_type": "stream",
     "text": [
      "Wall time: 1min 44s\n"
     ]
    }
   ],
   "source": [
    "%%time\n",
    "# easy way to recalculate sentiment after updating lexicon\n",
    "combined_single_df = ss.calculate_sentiment(combined_single_df.drop(columns = ['neg', 'neu', 'pos', 'compound']),\n",
    "                                                                    sid.polarity_scores)"
   ]
  },
  {
   "cell_type": "code",
   "execution_count": 67,
   "metadata": {},
   "outputs": [
    {
     "data": {
      "text/plain": [
       "dream flower          4\n",
       "deep sea destroyer    3\n",
       "banner trooper        3\n",
       "branded brawler       3\n",
       "deep sea dominator    3\n",
       "marked marauder       2\n",
       "chomp sr.             1\n",
       "branded brigadier     1\n",
       "bronto                1\n",
       "tilted teknique       1\n",
       "Name: skins_str, dtype: int64"
      ]
     },
     "execution_count": 67,
     "metadata": {},
     "output_type": "execute_result"
    }
   ],
   "source": [
    "combined_single_df['skins_str'].value_counts().tail(10)"
   ]
  },
  {
   "cell_type": "markdown",
   "metadata": {},
   "source": [
    "#### Verify that extraction is working correctly"
   ]
  },
  {
   "cell_type": "raw",
   "metadata": {},
   "source": [
    "combined_single_df.query('skins_str == \"mecha team leader\"').sample(10)"
   ]
  },
  {
   "cell_type": "markdown",
   "metadata": {},
   "source": [
    "### Save / load"
   ]
  },
  {
   "cell_type": "raw",
   "metadata": {},
   "source": [
    "combined_single_df.to_csv('modeling_data/comments_with_single_skins.tsv', sep='\\t', index=False)\n",
    "combined_extracted_df.to_pickle('modeling_data/comments_with_n_skins.pkl')"
   ]
  },
  {
   "cell_type": "code",
   "execution_count": 9,
   "metadata": {},
   "outputs": [],
   "source": [
    "combined_single_df = pd.read_csv('modeling_data/comments_with_single_skins.tsv', sep='\\t')\n",
    "combined_extracted_df = pd.read_pickle('modeling_data/comments_with_n_skins.pkl')"
   ]
  },
  {
   "cell_type": "markdown",
   "metadata": {},
   "source": [
    "### Exploration"
   ]
  },
  {
   "cell_type": "code",
   "execution_count": 10,
   "metadata": {},
   "outputs": [],
   "source": [
    "exploded_df = combined_extracted_df.explode('extracted_skins')\n",
    "exploded_df['skins_str'] = exploded_df['extracted_skins'].str.lower()\n",
    "exploded_df['skins_str'] = exploded_df['skins_str'].apply(lambda row: NAME_MAPPINGS[row] if row in NAME_MAPPINGS else row)\n",
    "skin_counts_series = exploded_df['extracted_skins'].str.lower().value_counts()"
   ]
  },
  {
   "cell_type": "code",
   "execution_count": 11,
   "metadata": {},
   "outputs": [
    {
     "data": {
      "text/html": [
       "<div>\n",
       "<style scoped>\n",
       "    .dataframe tbody tr th:only-of-type {\n",
       "        vertical-align: middle;\n",
       "    }\n",
       "\n",
       "    .dataframe tbody tr th {\n",
       "        vertical-align: top;\n",
       "    }\n",
       "\n",
       "    .dataframe thead th {\n",
       "        text-align: right;\n",
       "    }\n",
       "</style>\n",
       "<table border=\"1\" class=\"dataframe\">\n",
       "  <thead>\n",
       "    <tr style=\"text-align: right;\">\n",
       "      <th></th>\n",
       "      <th>extracted_skins</th>\n",
       "    </tr>\n",
       "  </thead>\n",
       "  <tbody>\n",
       "    <tr>\n",
       "      <td>omega</td>\n",
       "      <td>40270</td>\n",
       "    </tr>\n",
       "    <tr>\n",
       "      <td>john wick</td>\n",
       "      <td>29912</td>\n",
       "    </tr>\n",
       "    <tr>\n",
       "      <td>drift</td>\n",
       "      <td>29396</td>\n",
       "    </tr>\n",
       "    <tr>\n",
       "      <td>skull trooper</td>\n",
       "      <td>23474</td>\n",
       "    </tr>\n",
       "    <tr>\n",
       "      <td>black knight</td>\n",
       "      <td>17885</td>\n",
       "    </tr>\n",
       "  </tbody>\n",
       "</table>\n",
       "</div>"
      ],
      "text/plain": [
       "               extracted_skins\n",
       "omega                    40270\n",
       "john wick                29912\n",
       "drift                    29396\n",
       "skull trooper            23474\n",
       "black knight             17885"
      ]
     },
     "execution_count": 11,
     "metadata": {},
     "output_type": "execute_result"
    }
   ],
   "source": [
    "pd.DataFrame(skin_counts_series.head(5))"
   ]
  },
  {
   "cell_type": "code",
   "execution_count": 12,
   "metadata": {},
   "outputs": [
    {
     "data": {
      "image/png": "[encoded data removed]",
      "text/plain": [
       "<matplotlib.figure.Figure at 0x26005b0cda0>"
      ]
     },
     "metadata": {},
     "output_type": "display_data"
    }
   ],
   "source": [
    "fig, ax = plt.subplots(1)\n",
    "skin_counts_series.plot.line()\n",
    "plt.yscale('log')\n",
    "plt.ylabel('# of skin mentions', fontsize =fs)\n",
    "plt.xlabel('Rank', fontsize =fs)\n",
    "ax.set_xticklabels([]);\n",
    "fig.savefig('skin_popularity.png', dpi=300)"
   ]
  },
  {
   "cell_type": "markdown",
   "metadata": {},
   "source": [
    "## Comment counts\n",
    "### Aggregation"
   ]
  },
  {
   "cell_type": "code",
   "execution_count": 13,
   "metadata": {},
   "outputs": [],
   "source": [
    "skin_counts_df = exploded_df.skins_str.value_counts().reset_index().rename(columns = {'skins_str':'skins_count', 'index':'skins_str'})\n",
    "skin_df = skin_df.merge(skin_counts_df, how='left', on='skins_str')\n",
    "#skin_df[skin_df['skins_count'].isna()]"
   ]
  },
  {
   "cell_type": "code",
   "execution_count": 14,
   "metadata": {},
   "outputs": [
    {
     "data": {
      "text/html": [
       "<div>\n",
       "<style scoped>\n",
       "    .dataframe tbody tr th:only-of-type {\n",
       "        vertical-align: middle;\n",
       "    }\n",
       "\n",
       "    .dataframe tbody tr th {\n",
       "        vertical-align: top;\n",
       "    }\n",
       "\n",
       "    .dataframe thead th {\n",
       "        text-align: right;\n",
       "    }\n",
       "</style>\n",
       "<table border=\"1\" class=\"dataframe\">\n",
       "  <thead>\n",
       "    <tr style=\"text-align: right;\">\n",
       "      <th></th>\n",
       "      <th>skin_name</th>\n",
       "      <th>skin_source</th>\n",
       "      <th>skin_rarity</th>\n",
       "      <th>race</th>\n",
       "      <th>gender</th>\n",
       "      <th>story_skin</th>\n",
       "      <th>skin_set</th>\n",
       "      <th>release_date</th>\n",
       "      <th>release_datetime</th>\n",
       "      <th>days_since_release</th>\n",
       "      <th>skins_str</th>\n",
       "      <th>battle_pass</th>\n",
       "      <th>v_bucks</th>\n",
       "      <th>tier_1</th>\n",
       "      <th>tier_100</th>\n",
       "      <th>skins_count</th>\n",
       "    </tr>\n",
       "  </thead>\n",
       "  <tbody>\n",
       "    <tr>\n",
       "      <td>56</td>\n",
       "      <td>Bunnymoon</td>\n",
       "      <td>800 V-Bucks</td>\n",
       "      <td>Uncommon</td>\n",
       "      <td>W</td>\n",
       "      <td>F</td>\n",
       "      <td>False</td>\n",
       "      <td>NaN</td>\n",
       "      <td>28-Oct-18</td>\n",
       "      <td>2018-10-28</td>\n",
       "      <td>313.0</td>\n",
       "      <td>bunnymoon</td>\n",
       "      <td>False</td>\n",
       "      <td>800</td>\n",
       "      <td>False</td>\n",
       "      <td>False</td>\n",
       "      <td>730.0</td>\n",
       "    </tr>\n",
       "    <tr>\n",
       "      <td>7</td>\n",
       "      <td>Alpine Ace</td>\n",
       "      <td>1500 V-Bucks</td>\n",
       "      <td>Epic</td>\n",
       "      <td>unclear_race</td>\n",
       "      <td>M</td>\n",
       "      <td>False</td>\n",
       "      <td>Winter Ski</td>\n",
       "      <td>6-Feb-18</td>\n",
       "      <td>2018-02-06</td>\n",
       "      <td>577.0</td>\n",
       "      <td>alpine ace</td>\n",
       "      <td>False</td>\n",
       "      <td>1500</td>\n",
       "      <td>False</td>\n",
       "      <td>False</td>\n",
       "      <td>2257.0</td>\n",
       "    </tr>\n",
       "    <tr>\n",
       "      <td>104</td>\n",
       "      <td>Dire</td>\n",
       "      <td>Reach Tier 100 in Season 6 Battle Pass</td>\n",
       "      <td>Legendary</td>\n",
       "      <td>W</td>\n",
       "      <td>M</td>\n",
       "      <td>False</td>\n",
       "      <td>Full Moon</td>\n",
       "      <td>9/27/2018</td>\n",
       "      <td>2018-09-27</td>\n",
       "      <td>344.0</td>\n",
       "      <td>dire</td>\n",
       "      <td>True</td>\n",
       "      <td>0</td>\n",
       "      <td>False</td>\n",
       "      <td>True</td>\n",
       "      <td>11269.0</td>\n",
       "    </tr>\n",
       "  </tbody>\n",
       "</table>\n",
       "</div>"
      ],
      "text/plain": [
       "      skin_name                             skin_source skin_rarity  \\\n",
       "56    Bunnymoon                             800 V-Bucks    Uncommon   \n",
       "7    Alpine Ace                            1500 V-Bucks        Epic   \n",
       "104        Dire  Reach Tier 100 in Season 6 Battle Pass   Legendary   \n",
       "\n",
       "             race gender  story_skin    skin_set release_date  \\\n",
       "56              W      F       False         NaN    28-Oct-18   \n",
       "7    unclear_race      M       False  Winter Ski     6-Feb-18   \n",
       "104             W      M       False   Full Moon    9/27/2018   \n",
       "\n",
       "    release_datetime  days_since_release   skins_str  battle_pass  v_bucks  \\\n",
       "56        2018-10-28               313.0   bunnymoon        False      800   \n",
       "7         2018-02-06               577.0  alpine ace        False     1500   \n",
       "104       2018-09-27               344.0        dire         True        0   \n",
       "\n",
       "     tier_1  tier_100  skins_count  \n",
       "56    False     False        730.0  \n",
       "7     False     False       2257.0  \n",
       "104   False      True      11269.0  "
      ]
     },
     "execution_count": 14,
     "metadata": {},
     "output_type": "execute_result"
    }
   ],
   "source": [
    "skin_df.sample(3)"
   ]
  },
  {
   "cell_type": "raw",
   "metadata": {},
   "source": [
    "skin_df.to_csv('modeling_data/skin_count_covariates.tsv', sep='\\t', index=False)"
   ]
  },
  {
   "cell_type": "markdown",
   "metadata": {},
   "source": [
    "### Exploration"
   ]
  },
  {
   "cell_type": "code",
   "execution_count": 31,
   "metadata": {},
   "outputs": [
    {
     "data": {
      "text/plain": [
       "battle_pass\n",
       "False    1286.317416\n",
       "True     4779.777778\n",
       "Name: skins_count, dtype: float64"
      ]
     },
     "execution_count": 31,
     "metadata": {},
     "output_type": "execute_result"
    }
   ],
   "source": [
    "skin_df.groupby(['battle_pass']).mean()['skins_count']"
   ]
  },
  {
   "cell_type": "code",
   "execution_count": 247,
   "metadata": {},
   "outputs": [
    {
     "data": {
      "text/plain": [
       "skin_rarity\n",
       "\\r\\n          510.571429\n",
       "Epic         1293.460123\n",
       "Legendary    4979.760000\n",
       "Rare          821.336449\n",
       "Uncommon      741.631579\n",
       "Name: skins_count, dtype: float64"
      ]
     },
     "execution_count": 247,
     "metadata": {},
     "output_type": "execute_result"
    }
   ],
   "source": [
    "skin_df.groupby('skin_rarity').mean()['skins_count']"
   ]
  },
  {
   "cell_type": "code",
   "execution_count": 248,
   "metadata": {},
   "outputs": [
    {
     "data": {
      "text/plain": [
       "race\n",
       "A                888.500000\n",
       "B               2623.175000\n",
       "L               1682.533333\n",
       "W               1461.672956\n",
       "unclear_race    1914.445783\n",
       "Name: skins_count, dtype: float64"
      ]
     },
     "execution_count": 248,
     "metadata": {},
     "output_type": "execute_result"
    }
   ],
   "source": [
    "skin_df.groupby('race').mean()['skins_count']"
   ]
  },
  {
   "cell_type": "code",
   "execution_count": 249,
   "metadata": {},
   "outputs": [
    {
     "data": {
      "text/plain": [
       "gender\n",
       "F                   1297.361582\n",
       "M                   2121.726872\n",
       "non-human-gender    1356.200000\n",
       "Name: skins_count, dtype: float64"
      ]
     },
     "execution_count": 249,
     "metadata": {},
     "output_type": "execute_result"
    }
   ],
   "source": [
    "skin_df.groupby('gender').mean()['skins_count']"
   ]
  },
  {
   "cell_type": "code",
   "execution_count": 250,
   "metadata": {},
   "outputs": [
    {
     "data": {
      "text/plain": [
       "tier_1  tier_100\n",
       "False   False        1446.971795\n",
       "        True        12333.285714\n",
       "True    False        5616.166667\n",
       "Name: skins_count, dtype: float64"
      ]
     },
     "execution_count": 250,
     "metadata": {},
     "output_type": "execute_result"
    }
   ],
   "source": [
    "skin_df.groupby(['tier_1', 'tier_100']).mean()['skins_count']"
   ]
  },
  {
   "cell_type": "code",
   "execution_count": 32,
   "metadata": {},
   "outputs": [
    {
     "data": {
      "image/png": "[encoded data removed]",
      "text/plain": [
       "<matplotlib.figure.Figure at 0x28c9cc10a58>"
      ]
     },
     "metadata": {},
     "output_type": "display_data"
    }
   ],
   "source": [
    "skin_df.groupby('v_bucks').mean()['skins_count'].plot();"
   ]
  },
  {
   "cell_type": "markdown",
   "metadata": {},
   "source": [
    "### Regression"
   ]
  },
  {
   "cell_type": "code",
   "execution_count": 33,
   "metadata": {},
   "outputs": [],
   "source": [
    "count_fit_df = skin_df.dropna(subset = ['skins_count']).fillna({'story_skin':False, 'skin_rarity':'Uncommon'})\n",
    "count_fit_df['log_count'] = np.log(count_fit_df['skins_count'])"
   ]
  },
  {
   "cell_type": "code",
   "execution_count": 34,
   "metadata": {},
   "outputs": [],
   "source": [
    "count_model = smf.wls( formula = 'log_count ~ race + gender + days_since_release +' \\\n",
    "                                  'tier_1 + tier_100 + battle_pass+ v_bucks + story_skin  ',\n",
    "                data = count_fit_df#,\n",
    "#               weights = 1# / (fit_df['compound_mean_std'] / np.sqrt(fit_df['user_count'])),\n",
    "#                missing='raise'   \n",
    "               ).fit()"
   ]
  },
  {
   "cell_type": "code",
   "execution_count": 35,
   "metadata": {},
   "outputs": [
    {
     "data": {
      "text/html": [
       "<table class=\"simpletable\">\n",
       "<caption>WLS Regression Results</caption>\n",
       "<tr>\n",
       "  <th>Dep. Variable:</th>        <td>log_count</td>    <th>  R-squared:         </th> <td>   0.366</td>\n",
       "</tr>\n",
       "<tr>\n",
       "  <th>Model:</th>                   <td>WLS</td>       <th>  Adj. R-squared:    </th> <td>   0.347</td>\n",
       "</tr>\n",
       "<tr>\n",
       "  <th>Method:</th>             <td>Least Squares</td>  <th>  F-statistic:       </th> <td>   18.87</td>\n",
       "</tr>\n",
       "<tr>\n",
       "  <th>Date:</th>             <td>Fri, 06 Sep 2019</td> <th>  Prob (F-statistic):</th> <td>2.74e-32</td>\n",
       "</tr>\n",
       "<tr>\n",
       "  <th>Time:</th>                 <td>04:49:37</td>     <th>  Log-Likelihood:    </th> <td> -669.95</td>\n",
       "</tr>\n",
       "<tr>\n",
       "  <th>No. Observations:</th>      <td>   405</td>      <th>  AIC:               </th> <td>   1366.</td>\n",
       "</tr>\n",
       "<tr>\n",
       "  <th>Df Residuals:</th>          <td>   392</td>      <th>  BIC:               </th> <td>   1418.</td>\n",
       "</tr>\n",
       "<tr>\n",
       "  <th>Df Model:</th>              <td>    12</td>      <th>                     </th>     <td> </td>   \n",
       "</tr>\n",
       "<tr>\n",
       "  <th>Covariance Type:</th>      <td>nonrobust</td>    <th>                     </th>     <td> </td>   \n",
       "</tr>\n",
       "</table>\n",
       "<table class=\"simpletable\">\n",
       "<tr>\n",
       "               <td></td>                 <th>coef</th>     <th>std err</th>      <th>t</th>      <th>P>|t|</th>  <th>[0.025</th>    <th>0.975]</th>  \n",
       "</tr>\n",
       "<tr>\n",
       "  <th>Intercept</th>                  <td>    4.5095</td> <td>    0.405</td> <td>   11.124</td> <td> 0.000</td> <td>    3.712</td> <td>    5.307</td>\n",
       "</tr>\n",
       "<tr>\n",
       "  <th>race[T.B]</th>                  <td>   -0.3151</td> <td>    0.407</td> <td>   -0.774</td> <td> 0.440</td> <td>   -1.116</td> <td>    0.486</td>\n",
       "</tr>\n",
       "<tr>\n",
       "  <th>race[T.L]</th>                  <td>   -0.2471</td> <td>    0.431</td> <td>   -0.573</td> <td> 0.567</td> <td>   -1.095</td> <td>    0.601</td>\n",
       "</tr>\n",
       "<tr>\n",
       "  <th>race[T.W]</th>                  <td>    0.0075</td> <td>    0.360</td> <td>    0.021</td> <td> 0.983</td> <td>   -0.700</td> <td>    0.715</td>\n",
       "</tr>\n",
       "<tr>\n",
       "  <th>race[T.unclear_race]</th>       <td>    0.4914</td> <td>    0.362</td> <td>    1.359</td> <td> 0.175</td> <td>   -0.220</td> <td>    1.202</td>\n",
       "</tr>\n",
       "<tr>\n",
       "  <th>gender[T.M]</th>                <td>   -0.1026</td> <td>    0.139</td> <td>   -0.740</td> <td> 0.460</td> <td>   -0.376</td> <td>    0.170</td>\n",
       "</tr>\n",
       "<tr>\n",
       "  <th>gender[T.non-human-gender]</th> <td>    0.3787</td> <td>    0.601</td> <td>    0.630</td> <td> 0.529</td> <td>   -0.803</td> <td>    1.560</td>\n",
       "</tr>\n",
       "<tr>\n",
       "  <th>tier_1[T.True]</th>             <td>    0.5958</td> <td>    0.436</td> <td>    1.368</td> <td> 0.172</td> <td>   -0.261</td> <td>    1.452</td>\n",
       "</tr>\n",
       "<tr>\n",
       "  <th>tier_100[T.True]</th>           <td>    1.3256</td> <td>    0.540</td> <td>    2.453</td> <td> 0.015</td> <td>    0.263</td> <td>    2.388</td>\n",
       "</tr>\n",
       "<tr>\n",
       "  <th>battle_pass[T.True]</th>        <td>    1.3623</td> <td>    0.292</td> <td>    4.667</td> <td> 0.000</td> <td>    0.788</td> <td>    1.936</td>\n",
       "</tr>\n",
       "<tr>\n",
       "  <th>story_skin[T.True]</th>         <td>    2.1310</td> <td>    0.668</td> <td>    3.191</td> <td> 0.002</td> <td>    0.818</td> <td>    3.444</td>\n",
       "</tr>\n",
       "<tr>\n",
       "  <th>days_since_release</th>         <td>    0.0040</td> <td>    0.000</td> <td>   10.523</td> <td> 0.000</td> <td>    0.003</td> <td>    0.005</td>\n",
       "</tr>\n",
       "<tr>\n",
       "  <th>v_bucks</th>                    <td>    0.0002</td> <td>    0.000</td> <td>    1.268</td> <td> 0.206</td> <td>   -0.000</td> <td>    0.000</td>\n",
       "</tr>\n",
       "</table>\n",
       "<table class=\"simpletable\">\n",
       "<tr>\n",
       "  <th>Omnibus:</th>       <td>31.164</td> <th>  Durbin-Watson:     </th> <td>   2.094</td>\n",
       "</tr>\n",
       "<tr>\n",
       "  <th>Prob(Omnibus):</th> <td> 0.000</td> <th>  Jarque-Bera (JB):  </th> <td>  70.111</td>\n",
       "</tr>\n",
       "<tr>\n",
       "  <th>Skew:</th>          <td>-0.401</td> <th>  Prob(JB):          </th> <td>5.96e-16</td>\n",
       "</tr>\n",
       "<tr>\n",
       "  <th>Kurtosis:</th>      <td> 4.874</td> <th>  Cond. No.          </th> <td>1.59e+04</td>\n",
       "</tr>\n",
       "</table><br/><br/>Warnings:<br/>[1] Standard Errors assume that the covariance matrix of the errors is correctly specified.<br/>[2] The condition number is large, 1.59e+04. This might indicate that there are<br/>strong multicollinearity or other numerical problems."
      ],
      "text/plain": [
       "<class 'statsmodels.iolib.summary.Summary'>\n",
       "\"\"\"\n",
       "                            WLS Regression Results                            \n",
       "==============================================================================\n",
       "Dep. Variable:              log_count   R-squared:                       0.366\n",
       "Model:                            WLS   Adj. R-squared:                  0.347\n",
       "Method:                 Least Squares   F-statistic:                     18.87\n",
       "Date:                Fri, 06 Sep 2019   Prob (F-statistic):           2.74e-32\n",
       "Time:                        04:49:37   Log-Likelihood:                -669.95\n",
       "No. Observations:                 405   AIC:                             1366.\n",
       "Df Residuals:                     392   BIC:                             1418.\n",
       "Df Model:                          12                                         \n",
       "Covariance Type:            nonrobust                                         \n",
       "==============================================================================================\n",
       "                                 coef    std err          t      P>|t|      [0.025      0.975]\n",
       "----------------------------------------------------------------------------------------------\n",
       "Intercept                      4.5095      0.405     11.124      0.000       3.712       5.307\n",
       "race[T.B]                     -0.3151      0.407     -0.774      0.440      -1.116       0.486\n",
       "race[T.L]                     -0.2471      0.431     -0.573      0.567      -1.095       0.601\n",
       "race[T.W]                      0.0075      0.360      0.021      0.983      -0.700       0.715\n",
       "race[T.unclear_race]           0.4914      0.362      1.359      0.175      -0.220       1.202\n",
       "gender[T.M]                   -0.1026      0.139     -0.740      0.460      -0.376       0.170\n",
       "gender[T.non-human-gender]     0.3787      0.601      0.630      0.529      -0.803       1.560\n",
       "tier_1[T.True]                 0.5958      0.436      1.368      0.172      -0.261       1.452\n",
       "tier_100[T.True]               1.3256      0.540      2.453      0.015       0.263       2.388\n",
       "battle_pass[T.True]            1.3623      0.292      4.667      0.000       0.788       1.936\n",
       "story_skin[T.True]             2.1310      0.668      3.191      0.002       0.818       3.444\n",
       "days_since_release             0.0040      0.000     10.523      0.000       0.003       0.005\n",
       "v_bucks                        0.0002      0.000      1.268      0.206      -0.000       0.000\n",
       "==============================================================================\n",
       "Omnibus:                       31.164   Durbin-Watson:                   2.094\n",
       "Prob(Omnibus):                  0.000   Jarque-Bera (JB):               70.111\n",
       "Skew:                          -0.401   Prob(JB):                     5.96e-16\n",
       "Kurtosis:                       4.874   Cond. No.                     1.59e+04\n",
       "==============================================================================\n",
       "\n",
       "Warnings:\n",
       "[1] Standard Errors assume that the covariance matrix of the errors is correctly specified.\n",
       "[2] The condition number is large, 1.59e+04. This might indicate that there are\n",
       "strong multicollinearity or other numerical problems.\n",
       "\"\"\""
      ]
     },
     "execution_count": 35,
     "metadata": {},
     "output_type": "execute_result"
    }
   ],
   "source": [
    "count_model.summary()"
   ]
  },
  {
   "cell_type": "markdown",
   "metadata": {},
   "source": [
    "## Sentiment\n",
    "### Validation"
   ]
  },
  {
   "cell_type": "code",
   "execution_count": 16,
   "metadata": {},
   "outputs": [],
   "source": [
    "sentiment_df = combined_single_df.copy()\n",
    "SENTIMENT_SKINS = set([ 'love ranger', 'super striker', 'strong guard', 'special forces',\n",
    "                      'honor guard', 'lucky rider', 'fallen love ranger', 'insight', 'dream', 'riot',\n",
    "                      'brilliant striker', 'clutch', 'spike', 'guild'])\n",
    "sentiment_df = sentiment_df[~sentiment_df.skins_str.isin(SENTIMENT_SKINS)]\n",
    "sentiment_df = sentiment_df[sentiment_df['sentences'].str.len() <=100]"
   ]
  },
  {
   "cell_type": "raw",
   "metadata": {},
   "source": [
    "Remove from lexicon: \n",
    "Remove from regression: \n",
    "Add positive: \n",
    "Add negative: "
   ]
  },
  {
   "cell_type": "code",
   "execution_count": 43,
   "metadata": {},
   "outputs": [
    {
     "ename": "KeyError",
     "evalue": "'valor'",
     "output_type": "error",
     "traceback": [
      "\u001b[1;31m---------------------------------------------------------------------------\u001b[0m",
      "\u001b[1;31mKeyError\u001b[0m                                  Traceback (most recent call last)",
      "\u001b[1;32m<ipython-input-43-6e33bafdda9c>\u001b[0m in \u001b[0;36m<module>\u001b[1;34m()\u001b[0m\n\u001b[1;32m----> 1\u001b[1;33m \u001b[0msid\u001b[0m\u001b[1;33m.\u001b[0m\u001b[0mlexicon\u001b[0m\u001b[1;33m[\u001b[0m\u001b[1;34m'valor'\u001b[0m\u001b[1;33m]\u001b[0m\u001b[1;33m\u001b[0m\u001b[0m\n\u001b[0m",
      "\u001b[1;31mKeyError\u001b[0m: 'valor'"
     ]
    }
   ],
   "source": [
    "sid.lexicon['valor']"
   ]
  },
  {
   "cell_type": "code",
   "execution_count": 70,
   "metadata": {},
   "outputs": [
    {
     "data": {
      "text/html": [
       "<div>\n",
       "<style scoped>\n",
       "    .dataframe tbody tr th:only-of-type {\n",
       "        vertical-align: middle;\n",
       "    }\n",
       "\n",
       "    .dataframe tbody tr th {\n",
       "        vertical-align: top;\n",
       "    }\n",
       "\n",
       "    .dataframe thead th {\n",
       "        text-align: right;\n",
       "    }\n",
       "</style>\n",
       "<table border=\"1\" class=\"dataframe\">\n",
       "  <thead>\n",
       "    <tr style=\"text-align: right;\">\n",
       "      <th></th>\n",
       "      <th>sentences</th>\n",
       "      <th>compound</th>\n",
       "    </tr>\n",
       "  </thead>\n",
       "  <tbody>\n",
       "    <tr>\n",
       "      <td>181806</td>\n",
       "      <td>Psion for the win, baby</td>\n",
       "      <td>0.0000</td>\n",
       "    </tr>\n",
       "    <tr>\n",
       "      <td>149896</td>\n",
       "      <td>Psion Flayers</td>\n",
       "      <td>0.0000</td>\n",
       "    </tr>\n",
       "    <tr>\n",
       "      <td>172637</td>\n",
       "      <td>I was saving my vbucks for Psion, but oh well</td>\n",
       "      <td>0.3919</td>\n",
       "    </tr>\n",
       "    <tr>\n",
       "      <td>224562</td>\n",
       "      <td>Psion wallpaper [Blender]</td>\n",
       "      <td>0.0000</td>\n",
       "    </tr>\n",
       "    <tr>\n",
       "      <td>173438</td>\n",
       "      <td>Psion, a leaked skin</td>\n",
       "      <td>0.0000</td>\n",
       "    </tr>\n",
       "  </tbody>\n",
       "</table>\n",
       "</div>"
      ],
      "text/plain": [
       "                                            sentences  compound\n",
       "181806                        Psion for the win, baby    0.0000\n",
       "149896                                  Psion Flayers    0.0000\n",
       "172637  I was saving my vbucks for Psion, but oh well    0.3919\n",
       "224562                      Psion wallpaper [Blender]    0.0000\n",
       "173438                           Psion, a leaked skin    0.0000"
      ]
     },
     "execution_count": 70,
     "metadata": {},
     "output_type": "execute_result"
    }
   ],
   "source": [
    "sentiment_df.query('skins_str == \"psion\"').sample(5)[['sentences', 'compound']]"
   ]
  },
  {
   "cell_type": "code",
   "execution_count": 71,
   "metadata": {},
   "outputs": [
    {
     "data": {
      "text/plain": [
       "skins_str\n",
       "branded brigadier      0.458800\n",
       "chomp sr.              0.457600\n",
       "deep sea destroyer     0.348800\n",
       "deep sea dominator     0.335250\n",
       "marked marauder        0.318450\n",
       "snowstrike             0.224732\n",
       "molten valkyrie        0.223673\n",
       "psion                  0.218192\n",
       "straw ops              0.217257\n",
       "molten battle hound    0.213833\n",
       "bronto                 0.212900\n",
       "scarlet defender       0.207801\n",
       "tsuki                  0.203786\n",
       "stalwart sweeper       0.203714\n",
       "axiom                  0.198358\n",
       "Name: compound, dtype: float64"
      ]
     },
     "execution_count": 71,
     "metadata": {},
     "output_type": "execute_result"
    }
   ],
   "source": [
    "sentiment_df.groupby('skins_str').mean()['compound'].sort_values(ascending=False).head(15)\n",
    "#combined_single_df[combined_single_df['sentences'].str.contains('devastator')]['sentences'].sample(10)\n",
    "#sentiment_df.query('skins_str == \"branded brigadier\"')"
   ]
  },
  {
   "cell_type": "code",
   "execution_count": 50,
   "metadata": {},
   "outputs": [
    {
     "data": {
      "text/html": [
       "<div>\n",
       "<style scoped>\n",
       "    .dataframe tbody tr th:only-of-type {\n",
       "        vertical-align: middle;\n",
       "    }\n",
       "\n",
       "    .dataframe tbody tr th {\n",
       "        vertical-align: top;\n",
       "    }\n",
       "\n",
       "    .dataframe thead th {\n",
       "        text-align: right;\n",
       "    }\n",
       "</style>\n",
       "<table border=\"1\" class=\"dataframe\">\n",
       "  <thead>\n",
       "    <tr style=\"text-align: right;\">\n",
       "      <th></th>\n",
       "      <th>sentences</th>\n",
       "      <th>compound</th>\n",
       "    </tr>\n",
       "  </thead>\n",
       "  <tbody>\n",
       "    <tr>\n",
       "      <td>60827</td>\n",
       "      <td>To be fair I play Raptor a lot and hardly see other Raptors, the 2000 V Buck skins are pretty rare overall</td>\n",
       "      <td>0.6705</td>\n",
       "    </tr>\n",
       "    <tr>\n",
       "      <td>47292</td>\n",
       "      <td>Nope, im at season lvl 65 and still need to grind 12k exp a day to reach lvl 80 As for tier there are only 3 weekly challenges left whic...</td>\n",
       "      <td>0.1027</td>\n",
       "    </tr>\n",
       "    <tr>\n",
       "      <td>100417</td>\n",
       "      <td>I would greatly appreciate if you made one for me containing Triple Threat</td>\n",
       "      <td>0.4576</td>\n",
       "    </tr>\n",
       "    <tr>\n",
       "      <td>82868</td>\n",
       "      <td>I’m getting stage slayer because he looks like my favorite singer, Ronnie Van Zant</td>\n",
       "      <td>0.6705</td>\n",
       "    </tr>\n",
       "    <tr>\n",
       "      <td>213278</td>\n",
       "      <td>It turns out, the visitor had been lost in the universe</td>\n",
       "      <td>-0.3182</td>\n",
       "    </tr>\n",
       "    <tr>\n",
       "      <td>96150</td>\n",
       "      <td>Its the favoured character model, with a simple, clean design that goes well with a lot of different backblings, wanna rock the red knig...</td>\n",
       "      <td>0.7650</td>\n",
       "    </tr>\n",
       "    <tr>\n",
       "      <td>159261</td>\n",
       "      <td>At least he was right about the leviathan ltm, that mode was amazing</td>\n",
       "      <td>0.5859</td>\n",
       "    </tr>\n",
       "    <tr>\n",
       "      <td>151505</td>\n",
       "      <td>They made so no one ever ends up how they would end up in season 4: a level 4 Omega with only one color :(</td>\n",
       "      <td>-0.6972</td>\n",
       "    </tr>\n",
       "    <tr>\n",
       "      <td>116869</td>\n",
       "      <td>Trailblazer (beacuse it is my fav skin) starter pack 1# backpack and trusty no.2</td>\n",
       "      <td>0.7351</td>\n",
       "    </tr>\n",
       "    <tr>\n",
       "      <td>118804</td>\n",
       "      <td>I kind of like Drift the way he is for colors</td>\n",
       "      <td>0.3612</td>\n",
       "    </tr>\n",
       "  </tbody>\n",
       "</table>\n",
       "</div>"
      ],
      "text/plain": [
       "                                                                                                                                          sentences  \\\n",
       "60827                                    To be fair I play Raptor a lot and hardly see other Raptors, the 2000 V Buck skins are pretty rare overall   \n",
       "47292   Nope, im at season lvl 65 and still need to grind 12k exp a day to reach lvl 80 As for tier there are only 3 weekly challenges left whic...   \n",
       "100417                                                                   I would greatly appreciate if you made one for me containing Triple Threat   \n",
       "82868                                                            I’m getting stage slayer because he looks like my favorite singer, Ronnie Van Zant   \n",
       "213278                                                                                      It turns out, the visitor had been lost in the universe   \n",
       "96150   Its the favoured character model, with a simple, clean design that goes well with a lot of different backblings, wanna rock the red knig...   \n",
       "159261                                                                         At least he was right about the leviathan ltm, that mode was amazing   \n",
       "151505                                   They made so no one ever ends up how they would end up in season 4: a level 4 Omega with only one color :(   \n",
       "116869                                                             Trailblazer (beacuse it is my fav skin) starter pack 1# backpack and trusty no.2   \n",
       "118804                                                                                                I kind of like Drift the way he is for colors   \n",
       "\n",
       "        compound  \n",
       "60827     0.6705  \n",
       "47292     0.1027  \n",
       "100417    0.4576  \n",
       "82868     0.6705  \n",
       "213278   -0.3182  \n",
       "96150     0.7650  \n",
       "159261    0.5859  \n",
       "151505   -0.6972  \n",
       "116869    0.7351  \n",
       "118804    0.3612  "
      ]
     },
     "execution_count": 50,
     "metadata": {},
     "output_type": "execute_result"
    }
   ],
   "source": [
    "combined_single_df.query('compound != 0 and skins_str != \"prisoner\" and skins_str != \"dire\"').sample(10)[['sentences', 'compound']]"
   ]
  },
  {
   "cell_type": "markdown",
   "metadata": {},
   "source": [
    "### Aggregation"
   ]
  },
  {
   "cell_type": "code",
   "execution_count": 17,
   "metadata": {},
   "outputs": [
    {
     "data": {
      "text/html": [
       "<div>\n",
       "<style scoped>\n",
       "    .dataframe tbody tr th:only-of-type {\n",
       "        vertical-align: middle;\n",
       "    }\n",
       "\n",
       "    .dataframe tbody tr th {\n",
       "        vertical-align: top;\n",
       "    }\n",
       "\n",
       "    .dataframe thead th {\n",
       "        text-align: right;\n",
       "    }\n",
       "</style>\n",
       "<table border=\"1\" class=\"dataframe\">\n",
       "  <thead>\n",
       "    <tr style=\"text-align: right;\">\n",
       "      <th></th>\n",
       "      <th>user</th>\n",
       "      <th>skins_str</th>\n",
       "      <th>compound_mean</th>\n",
       "      <th>compound_std</th>\n",
       "      <th>comment_count</th>\n",
       "    </tr>\n",
       "  </thead>\n",
       "  <tbody>\n",
       "    <tr>\n",
       "      <td>0</td>\n",
       "      <td>---100</td>\n",
       "      <td>cuddle team leader</td>\n",
       "      <td>0.0</td>\n",
       "      <td>NaN</td>\n",
       "      <td>1</td>\n",
       "    </tr>\n",
       "    <tr>\n",
       "      <td>1</td>\n",
       "      <td>---100</td>\n",
       "      <td>enforcer</td>\n",
       "      <td>0.0</td>\n",
       "      <td>NaN</td>\n",
       "      <td>1</td>\n",
       "    </tr>\n",
       "  </tbody>\n",
       "</table>\n",
       "</div>"
      ],
      "text/plain": [
       "     user           skins_str  compound_mean  compound_std  comment_count\n",
       "0  ---100  cuddle team leader            0.0           NaN              1\n",
       "1  ---100            enforcer            0.0           NaN              1"
      ]
     },
     "execution_count": 17,
     "metadata": {},
     "output_type": "execute_result"
    }
   ],
   "source": [
    "user_skin_sentiment_df = (sentiment_df.groupby(['user','skins_str'])\n",
    "                                    .agg({'compound':['mean', 'std', 'count']})\n",
    "                                    .reset_index())\n",
    "user_skin_sentiment_df.columns = ['user','skins_str', 'compound_mean', 'compound_std', 'comment_count']\n",
    "user_skin_sentiment_df.head(2)"
   ]
  },
  {
   "cell_type": "markdown",
   "metadata": {},
   "source": [
    "#### Then calculate the average sentiment to skins across all users"
   ]
  },
  {
   "cell_type": "code",
   "execution_count": 18,
   "metadata": {},
   "outputs": [],
   "source": [
    "skin_sentiment_df = (user_skin_sentiment_df#.query('compound_mean != 0')\n",
    "                                           .groupby('skins_str')\n",
    "                                           .agg({'compound_mean':['mean', 'std', 'count']})\n",
    "                                           .reset_index() )\n",
    "skin_sentiment_df.columns = ['skins_str', 'mean_sentiment', 'compound_mean_std', 'user_count']"
   ]
  },
  {
   "cell_type": "markdown",
   "metadata": {},
   "source": [
    "### Exploration"
   ]
  },
  {
   "cell_type": "code",
   "execution_count": 19,
   "metadata": {},
   "outputs": [],
   "source": [
    "sentiment_fit_df = skin_df.merge(skin_sentiment_df, on = 'skins_str')"
   ]
  },
  {
   "cell_type": "markdown",
   "metadata": {},
   "source": [
    "#### Lowest sentiment"
   ]
  },
  {
   "cell_type": "code",
   "execution_count": 22,
   "metadata": {},
   "outputs": [
    {
     "data": {
      "text/html": [
       "<div>\n",
       "<style scoped>\n",
       "    .dataframe tbody tr th:only-of-type {\n",
       "        vertical-align: middle;\n",
       "    }\n",
       "\n",
       "    .dataframe tbody tr th {\n",
       "        vertical-align: top;\n",
       "    }\n",
       "\n",
       "    .dataframe thead th {\n",
       "        text-align: right;\n",
       "    }\n",
       "</style>\n",
       "<table border=\"1\" class=\"dataframe\">\n",
       "  <thead>\n",
       "    <tr style=\"text-align: right;\">\n",
       "      <th></th>\n",
       "      <th>skin_name</th>\n",
       "      <th>mean_sentiment</th>\n",
       "    </tr>\n",
       "  </thead>\n",
       "  <tbody>\n",
       "    <tr>\n",
       "      <td>301</td>\n",
       "      <td>Shaman</td>\n",
       "      <td>-0.107155</td>\n",
       "    </tr>\n",
       "    <tr>\n",
       "      <td>30</td>\n",
       "      <td>Birdie</td>\n",
       "      <td>-0.058408</td>\n",
       "    </tr>\n",
       "    <tr>\n",
       "      <td>168</td>\n",
       "      <td>Hypernova</td>\n",
       "      <td>-0.045983</td>\n",
       "    </tr>\n",
       "    <tr>\n",
       "      <td>68</td>\n",
       "      <td>Cloudbreaker</td>\n",
       "      <td>-0.042364</td>\n",
       "    </tr>\n",
       "    <tr>\n",
       "      <td>232</td>\n",
       "      <td>Nitehare</td>\n",
       "      <td>-0.023759</td>\n",
       "    </tr>\n",
       "  </tbody>\n",
       "</table>\n",
       "</div>"
      ],
      "text/plain": [
       "        skin_name  mean_sentiment\n",
       "301        Shaman       -0.107155\n",
       "30         Birdie       -0.058408\n",
       "168     Hypernova       -0.045983\n",
       "68   Cloudbreaker       -0.042364\n",
       "232      Nitehare       -0.023759"
      ]
     },
     "execution_count": 22,
     "metadata": {},
     "output_type": "execute_result"
    }
   ],
   "source": [
    "sentiment_fit_df.query('user_count > 20').sort_values('mean_sentiment').head(5)[['skin_name', 'mean_sentiment']]"
   ]
  },
  {
   "cell_type": "markdown",
   "metadata": {},
   "source": [
    "#### Highest sentiment"
   ]
  },
  {
   "cell_type": "code",
   "execution_count": 23,
   "metadata": {},
   "outputs": [
    {
     "data": {
      "text/html": [
       "<div>\n",
       "<style scoped>\n",
       "    .dataframe tbody tr th:only-of-type {\n",
       "        vertical-align: middle;\n",
       "    }\n",
       "\n",
       "    .dataframe tbody tr th {\n",
       "        vertical-align: top;\n",
       "    }\n",
       "\n",
       "    .dataframe thead th {\n",
       "        text-align: right;\n",
       "    }\n",
       "</style>\n",
       "<table border=\"1\" class=\"dataframe\">\n",
       "  <thead>\n",
       "    <tr style=\"text-align: right;\">\n",
       "      <th></th>\n",
       "      <th>skin_name</th>\n",
       "      <th>mean_sentiment</th>\n",
       "    </tr>\n",
       "  </thead>\n",
       "  <tbody>\n",
       "    <tr>\n",
       "      <td>231</td>\n",
       "      <td>Nitebeam</td>\n",
       "      <td>0.192443</td>\n",
       "    </tr>\n",
       "    <tr>\n",
       "      <td>368</td>\n",
       "      <td>Tsuki</td>\n",
       "      <td>0.205040</td>\n",
       "    </tr>\n",
       "    <tr>\n",
       "      <td>291</td>\n",
       "      <td>Scarlet Defender</td>\n",
       "      <td>0.205750</td>\n",
       "    </tr>\n",
       "    <tr>\n",
       "      <td>255</td>\n",
       "      <td>Psion</td>\n",
       "      <td>0.224389</td>\n",
       "    </tr>\n",
       "    <tr>\n",
       "      <td>332</td>\n",
       "      <td>Straw Ops</td>\n",
       "      <td>0.231058</td>\n",
       "    </tr>\n",
       "  </tbody>\n",
       "</table>\n",
       "</div>"
      ],
      "text/plain": [
       "            skin_name  mean_sentiment\n",
       "231          Nitebeam        0.192443\n",
       "368             Tsuki        0.205040\n",
       "291  Scarlet Defender        0.205750\n",
       "255             Psion        0.224389\n",
       "332         Straw Ops        0.231058"
      ]
     },
     "execution_count": 23,
     "metadata": {},
     "output_type": "execute_result"
    }
   ],
   "source": [
    "sentiment_fit_df.query('user_count > 20').sort_values('mean_sentiment').tail(5)[['skin_name', 'mean_sentiment']]"
   ]
  },
  {
   "cell_type": "code",
   "execution_count": 24,
   "metadata": {},
   "outputs": [
    {
     "data": {
      "text/html": [
       "<div>\n",
       "<style scoped>\n",
       "    .dataframe tbody tr th:only-of-type {\n",
       "        vertical-align: middle;\n",
       "    }\n",
       "\n",
       "    .dataframe tbody tr th {\n",
       "        vertical-align: top;\n",
       "    }\n",
       "\n",
       "    .dataframe thead th {\n",
       "        text-align: right;\n",
       "    }\n",
       "</style>\n",
       "<table border=\"1\" class=\"dataframe\">\n",
       "  <thead>\n",
       "    <tr style=\"text-align: right;\">\n",
       "      <th></th>\n",
       "      <th>sentences</th>\n",
       "      <th>compound</th>\n",
       "    </tr>\n",
       "  </thead>\n",
       "  <tbody>\n",
       "    <tr>\n",
       "      <td>170587</td>\n",
       "      <td>Psion: \"Mind over matter.\"</td>\n",
       "      <td>0.0000</td>\n",
       "    </tr>\n",
       "    <tr>\n",
       "      <td>239727</td>\n",
       "      <td>The girl is Psion</td>\n",
       "      <td>0.0000</td>\n",
       "    </tr>\n",
       "    <tr>\n",
       "      <td>163667</td>\n",
       "      <td>Psion should've had her whole face covered behind a mask... [removed]</td>\n",
       "      <td>0.0000</td>\n",
       "    </tr>\n",
       "    <tr>\n",
       "      <td>174274</td>\n",
       "      <td>I've got a wart on my foot and goddamn does it bother me    Psion is so fucking cute I love her</td>\n",
       "      <td>0.5877</td>\n",
       "    </tr>\n",
       "    <tr>\n",
       "      <td>173994</td>\n",
       "      <td>I'm thinking of about it too but Psion looks pretty nice as well</td>\n",
       "      <td>0.8922</td>\n",
       "    </tr>\n",
       "    <tr>\n",
       "      <td>173439</td>\n",
       "      <td>It's a leaked skin called \"Psion\"</td>\n",
       "      <td>0.0000</td>\n",
       "    </tr>\n",
       "    <tr>\n",
       "      <td>149896</td>\n",
       "      <td>Psion Flayers</td>\n",
       "      <td>0.0000</td>\n",
       "    </tr>\n",
       "    <tr>\n",
       "      <td>173803</td>\n",
       "      <td>Psion is pretty cool, one of the better wildcat skins</td>\n",
       "      <td>0.8126</td>\n",
       "    </tr>\n",
       "    <tr>\n",
       "      <td>181806</td>\n",
       "      <td>Psion for the win, baby</td>\n",
       "      <td>0.0000</td>\n",
       "    </tr>\n",
       "    <tr>\n",
       "      <td>182908</td>\n",
       "      <td>I came looking for validation on Psion and got literally none</td>\n",
       "      <td>0.0000</td>\n",
       "    </tr>\n",
       "  </tbody>\n",
       "</table>\n",
       "</div>"
      ],
      "text/plain": [
       "                                                                                              sentences  \\\n",
       "170587                                                                       Psion: \"Mind over matter.\"   \n",
       "239727                                                                                The girl is Psion   \n",
       "163667                            Psion should've had her whole face covered behind a mask... [removed]   \n",
       "174274  I've got a wart on my foot and goddamn does it bother me    Psion is so fucking cute I love her   \n",
       "173994                                 I'm thinking of about it too but Psion looks pretty nice as well   \n",
       "173439                                                                It's a leaked skin called \"Psion\"   \n",
       "149896                                                                                    Psion Flayers   \n",
       "173803                                            Psion is pretty cool, one of the better wildcat skins   \n",
       "181806                                                                          Psion for the win, baby   \n",
       "182908                                    I came looking for validation on Psion and got literally none   \n",
       "\n",
       "        compound  \n",
       "170587    0.0000  \n",
       "239727    0.0000  \n",
       "163667    0.0000  \n",
       "174274    0.5877  \n",
       "173994    0.8922  \n",
       "173439    0.0000  \n",
       "149896    0.0000  \n",
       "173803    0.8126  \n",
       "181806    0.0000  \n",
       "182908    0.0000  "
      ]
     },
     "execution_count": 24,
     "metadata": {},
     "output_type": "execute_result"
    }
   ],
   "source": [
    "combined_single_df.query('skins_str == \"psion\"')[['sentences', 'compound']].sample(10)"
   ]
  },
  {
   "cell_type": "code",
   "execution_count": 25,
   "metadata": {},
   "outputs": [
    {
     "data": {
      "text/plain": [
       "gender\n",
       "F                   0.093838\n",
       "M                   0.075949\n",
       "non-human-gender    0.102083\n",
       "Name: mean_sentiment, dtype: float64"
      ]
     },
     "execution_count": 25,
     "metadata": {},
     "output_type": "execute_result"
    }
   ],
   "source": [
    "sentiment_fit_df.groupby('gender').mean()['mean_sentiment']"
   ]
  },
  {
   "cell_type": "code",
   "execution_count": 27,
   "metadata": {},
   "outputs": [
    {
     "data": {
      "text/plain": [
       "count    394.000000\n",
       "mean       0.084181\n",
       "std        0.057831\n",
       "min       -0.136300\n",
       "25%        0.051261\n",
       "50%        0.083379\n",
       "75%        0.112584\n",
       "max        0.458800\n",
       "Name: mean_sentiment, dtype: float64"
      ]
     },
     "execution_count": 27,
     "metadata": {},
     "output_type": "execute_result"
    }
   ],
   "source": [
    "sentiment_fit_df.describe()['mean_sentiment']"
   ]
  },
  {
   "cell_type": "code",
   "execution_count": 471,
   "metadata": {},
   "outputs": [
    {
     "data": {
      "text/plain": [
       "race\n",
       "A               0.122676\n",
       "B               0.073971\n",
       "L               0.099930\n",
       "W               0.094323\n",
       "unclear_race    0.087108\n",
       "Name: compound_mean_mean, dtype: float64"
      ]
     },
     "execution_count": 471,
     "metadata": {},
     "output_type": "execute_result"
    }
   ],
   "source": [
    "sentiment_fit_df.groupby('race').mean()['compound_mean_mean']"
   ]
  },
  {
   "cell_type": "code",
   "execution_count": 30,
   "metadata": {},
   "outputs": [],
   "source": [
    "sentiment_bins = np.arange(-0.1, 0.35, 0.025)\n",
    "male_hist,_ = np.histogram(sentiment_fit_df.query('gender == \"M\"')['mean_sentiment'], bins=sentiment_bins)\n",
    "female_hist,_ = np.histogram(sentiment_fit_df.query('gender == \"F\"')['mean_sentiment'], bins=sentiment_bins)"
   ]
  },
  {
   "cell_type": "code",
   "execution_count": 40,
   "metadata": {},
   "outputs": [
    {
     "data": {
      "image/png": "[encoded data removed]",
      "text/plain": [
       "<matplotlib.figure.Figure at 0x260047a5c18>"
      ]
     },
     "metadata": {},
     "output_type": "display_data"
    }
   ],
   "source": [
    "fig, ax = plt.subplots(1)\n",
    "plt.plot(sentiment_bins[:-1]+0.0125, male_hist, color='k', linewidth=2, label = 'Male');\n",
    "plt.plot(sentiment_bins[:-1]+0.0125, female_hist, color='b', linewidth=2, label='Female');\n",
    "plt.ylabel('# of skins', fontsize = fs)\n",
    "plt.xlabel('Sentiment towards skin', fontsize = fs);\n",
    "plt.legend(frameon=False, fontsize = fs)\n",
    "fig.savefig('sentiment_hist.png')"
   ]
  },
  {
   "cell_type": "markdown",
   "metadata": {},
   "source": [
    "### Regression\n",
    "#### Full model"
   ]
  },
  {
   "cell_type": "code",
   "execution_count": 90,
   "metadata": {},
   "outputs": [],
   "source": [
    "sentiment_model = smf.wls( formula = 'mean_sentiment ~  race + gender + days_since_release +' \\\n",
    "                                  'tier_1 + tier_100 + battle_pass+ v_bucks',\n",
    "                data = sentiment_fit_df,\n",
    "               weights = 1 / (sentiment_fit_df['compound_mean_std'] / np.sqrt(sentiment_fit_df['user_count']))\n",
    "#                missing='raise'   \n",
    "               ).fit()"
   ]
  },
  {
   "cell_type": "code",
   "execution_count": 91,
   "metadata": {},
   "outputs": [
    {
     "data": {
      "text/html": [
       "<table class=\"simpletable\">\n",
       "<caption>WLS Regression Results</caption>\n",
       "<tr>\n",
       "  <th>Dep. Variable:</th>     <td>mean_sentiment</td>  <th>  R-squared:         </th> <td>   0.057</td>\n",
       "</tr>\n",
       "<tr>\n",
       "  <th>Model:</th>                   <td>WLS</td>       <th>  Adj. R-squared:    </th> <td>   0.029</td>\n",
       "</tr>\n",
       "<tr>\n",
       "  <th>Method:</th>             <td>Least Squares</td>  <th>  F-statistic:       </th> <td>   2.054</td>\n",
       "</tr>\n",
       "<tr>\n",
       "  <th>Date:</th>             <td>Fri, 06 Sep 2019</td> <th>  Prob (F-statistic):</th>  <td>0.0228</td> \n",
       "</tr>\n",
       "<tr>\n",
       "  <th>Time:</th>                 <td>05:05:24</td>     <th>  Log-Likelihood:    </th> <td>  678.74</td>\n",
       "</tr>\n",
       "<tr>\n",
       "  <th>No. Observations:</th>      <td>   386</td>      <th>  AIC:               </th> <td>  -1333.</td>\n",
       "</tr>\n",
       "<tr>\n",
       "  <th>Df Residuals:</th>          <td>   374</td>      <th>  BIC:               </th> <td>  -1286.</td>\n",
       "</tr>\n",
       "<tr>\n",
       "  <th>Df Model:</th>              <td>    11</td>      <th>                     </th>     <td> </td>   \n",
       "</tr>\n",
       "<tr>\n",
       "  <th>Covariance Type:</th>      <td>nonrobust</td>    <th>                     </th>     <td> </td>   \n",
       "</tr>\n",
       "</table>\n",
       "<table class=\"simpletable\">\n",
       "<tr>\n",
       "               <td></td>                 <th>coef</th>     <th>std err</th>      <th>t</th>      <th>P>|t|</th>  <th>[0.025</th>    <th>0.975]</th>  \n",
       "</tr>\n",
       "<tr>\n",
       "  <th>Intercept</th>                  <td>    0.0964</td> <td>    0.013</td> <td>    7.281</td> <td> 0.000</td> <td>    0.070</td> <td>    0.122</td>\n",
       "</tr>\n",
       "<tr>\n",
       "  <th>race[T.B]</th>                  <td>   -0.0320</td> <td>    0.013</td> <td>   -2.398</td> <td> 0.017</td> <td>   -0.058</td> <td>   -0.006</td>\n",
       "</tr>\n",
       "<tr>\n",
       "  <th>race[T.L]</th>                  <td>   -0.0142</td> <td>    0.014</td> <td>   -1.045</td> <td> 0.297</td> <td>   -0.041</td> <td>    0.013</td>\n",
       "</tr>\n",
       "<tr>\n",
       "  <th>race[T.W]</th>                  <td>   -0.0185</td> <td>    0.012</td> <td>   -1.533</td> <td> 0.126</td> <td>   -0.042</td> <td>    0.005</td>\n",
       "</tr>\n",
       "<tr>\n",
       "  <th>race[T.unclear_race]</th>       <td>   -0.0210</td> <td>    0.012</td> <td>   -1.752</td> <td> 0.081</td> <td>   -0.045</td> <td>    0.003</td>\n",
       "</tr>\n",
       "<tr>\n",
       "  <th>gender[T.M]</th>                <td>   -0.0120</td> <td>    0.004</td> <td>   -2.729</td> <td> 0.007</td> <td>   -0.021</td> <td>   -0.003</td>\n",
       "</tr>\n",
       "<tr>\n",
       "  <th>gender[T.non-human-gender]</th> <td>    0.0010</td> <td>    0.017</td> <td>    0.057</td> <td> 0.954</td> <td>   -0.033</td> <td>    0.035</td>\n",
       "</tr>\n",
       "<tr>\n",
       "  <th>tier_1[T.True]</th>             <td>    0.0089</td> <td>    0.010</td> <td>    0.890</td> <td> 0.374</td> <td>   -0.011</td> <td>    0.029</td>\n",
       "</tr>\n",
       "<tr>\n",
       "  <th>tier_100[T.True]</th>           <td>    0.0082</td> <td>    0.010</td> <td>    0.799</td> <td> 0.425</td> <td>   -0.012</td> <td>    0.028</td>\n",
       "</tr>\n",
       "<tr>\n",
       "  <th>battle_pass[T.True]</th>        <td>    0.0015</td> <td>    0.008</td> <td>    0.202</td> <td> 0.840</td> <td>   -0.014</td> <td>    0.017</td>\n",
       "</tr>\n",
       "<tr>\n",
       "  <th>days_since_release</th>         <td> 1.123e-05</td> <td> 1.15e-05</td> <td>    0.979</td> <td> 0.328</td> <td>-1.13e-05</td> <td> 3.38e-05</td>\n",
       "</tr>\n",
       "<tr>\n",
       "  <th>v_bucks</th>                    <td>  3.66e-06</td> <td> 3.91e-06</td> <td>    0.935</td> <td> 0.350</td> <td>-4.03e-06</td> <td> 1.14e-05</td>\n",
       "</tr>\n",
       "</table>\n",
       "<table class=\"simpletable\">\n",
       "<tr>\n",
       "  <th>Omnibus:</th>       <td> 2.011</td> <th>  Durbin-Watson:     </th> <td>   1.929</td>\n",
       "</tr>\n",
       "<tr>\n",
       "  <th>Prob(Omnibus):</th> <td> 0.366</td> <th>  Jarque-Bera (JB):  </th> <td>   1.760</td>\n",
       "</tr>\n",
       "<tr>\n",
       "  <th>Skew:</th>          <td>-0.145</td> <th>  Prob(JB):          </th> <td>   0.415</td>\n",
       "</tr>\n",
       "<tr>\n",
       "  <th>Kurtosis:</th>      <td> 3.159</td> <th>  Cond. No.          </th> <td>1.77e+04</td>\n",
       "</tr>\n",
       "</table><br/><br/>Warnings:<br/>[1] Standard Errors assume that the covariance matrix of the errors is correctly specified.<br/>[2] The condition number is large, 1.77e+04. This might indicate that there are<br/>strong multicollinearity or other numerical problems."
      ],
      "text/plain": [
       "<class 'statsmodels.iolib.summary.Summary'>\n",
       "\"\"\"\n",
       "                            WLS Regression Results                            \n",
       "==============================================================================\n",
       "Dep. Variable:         mean_sentiment   R-squared:                       0.057\n",
       "Model:                            WLS   Adj. R-squared:                  0.029\n",
       "Method:                 Least Squares   F-statistic:                     2.054\n",
       "Date:                Fri, 06 Sep 2019   Prob (F-statistic):             0.0228\n",
       "Time:                        05:05:24   Log-Likelihood:                 678.74\n",
       "No. Observations:                 386   AIC:                            -1333.\n",
       "Df Residuals:                     374   BIC:                            -1286.\n",
       "Df Model:                          11                                         \n",
       "Covariance Type:            nonrobust                                         \n",
       "==============================================================================================\n",
       "                                 coef    std err          t      P>|t|      [0.025      0.975]\n",
       "----------------------------------------------------------------------------------------------\n",
       "Intercept                      0.0964      0.013      7.281      0.000       0.070       0.122\n",
       "race[T.B]                     -0.0320      0.013     -2.398      0.017      -0.058      -0.006\n",
       "race[T.L]                     -0.0142      0.014     -1.045      0.297      -0.041       0.013\n",
       "race[T.W]                     -0.0185      0.012     -1.533      0.126      -0.042       0.005\n",
       "race[T.unclear_race]          -0.0210      0.012     -1.752      0.081      -0.045       0.003\n",
       "gender[T.M]                   -0.0120      0.004     -2.729      0.007      -0.021      -0.003\n",
       "gender[T.non-human-gender]     0.0010      0.017      0.057      0.954      -0.033       0.035\n",
       "tier_1[T.True]                 0.0089      0.010      0.890      0.374      -0.011       0.029\n",
       "tier_100[T.True]               0.0082      0.010      0.799      0.425      -0.012       0.028\n",
       "battle_pass[T.True]            0.0015      0.008      0.202      0.840      -0.014       0.017\n",
       "days_since_release          1.123e-05   1.15e-05      0.979      0.328   -1.13e-05    3.38e-05\n",
       "v_bucks                      3.66e-06   3.91e-06      0.935      0.350   -4.03e-06    1.14e-05\n",
       "==============================================================================\n",
       "Omnibus:                        2.011   Durbin-Watson:                   1.929\n",
       "Prob(Omnibus):                  0.366   Jarque-Bera (JB):                1.760\n",
       "Skew:                          -0.145   Prob(JB):                        0.415\n",
       "Kurtosis:                       3.159   Cond. No.                     1.77e+04\n",
       "==============================================================================\n",
       "\n",
       "Warnings:\n",
       "[1] Standard Errors assume that the covariance matrix of the errors is correctly specified.\n",
       "[2] The condition number is large, 1.77e+04. This might indicate that there are\n",
       "strong multicollinearity or other numerical problems.\n",
       "\"\"\""
      ]
     },
     "execution_count": 91,
     "metadata": {},
     "output_type": "execute_result"
    }
   ],
   "source": [
    "sentiment_model.summary()"
   ]
  },
  {
   "cell_type": "markdown",
   "metadata": {},
   "source": [
    "#### Gender and race only"
   ]
  },
  {
   "cell_type": "code",
   "execution_count": 92,
   "metadata": {},
   "outputs": [],
   "source": [
    "sentiment_model_gender = smf.wls( formula = 'mean_sentiment ~  race + gender',\n",
    "                data = sentiment_fit_df,\n",
    "               weights = 1 / (sentiment_fit_df['compound_mean_std'] / np.sqrt(sentiment_fit_df['user_count']))\n",
    "#                missing='raise'   \n",
    "               ).fit()"
   ]
  },
  {
   "cell_type": "code",
   "execution_count": 93,
   "metadata": {},
   "outputs": [
    {
     "data": {
      "text/html": [
       "<table class=\"simpletable\">\n",
       "<caption>WLS Regression Results</caption>\n",
       "<tr>\n",
       "  <th>Dep. Variable:</th>     <td>mean_sentiment</td>  <th>  R-squared:         </th> <td>   0.046</td>\n",
       "</tr>\n",
       "<tr>\n",
       "  <th>Model:</th>                   <td>WLS</td>       <th>  Adj. R-squared:    </th> <td>   0.031</td>\n",
       "</tr>\n",
       "<tr>\n",
       "  <th>Method:</th>             <td>Least Squares</td>  <th>  F-statistic:       </th> <td>   3.102</td>\n",
       "</tr>\n",
       "<tr>\n",
       "  <th>Date:</th>             <td>Fri, 06 Sep 2019</td> <th>  Prob (F-statistic):</th>  <td>0.00560</td>\n",
       "</tr>\n",
       "<tr>\n",
       "  <th>Time:</th>                 <td>05:06:16</td>     <th>  Log-Likelihood:    </th> <td>  682.51</td>\n",
       "</tr>\n",
       "<tr>\n",
       "  <th>No. Observations:</th>      <td>   391</td>      <th>  AIC:               </th> <td>  -1351.</td>\n",
       "</tr>\n",
       "<tr>\n",
       "  <th>Df Residuals:</th>          <td>   384</td>      <th>  BIC:               </th> <td>  -1323.</td>\n",
       "</tr>\n",
       "<tr>\n",
       "  <th>Df Model:</th>              <td>     6</td>      <th>                     </th>     <td> </td>   \n",
       "</tr>\n",
       "<tr>\n",
       "  <th>Covariance Type:</th>      <td>nonrobust</td>    <th>                     </th>     <td> </td>   \n",
       "</tr>\n",
       "</table>\n",
       "<table class=\"simpletable\">\n",
       "<tr>\n",
       "               <td></td>                 <th>coef</th>     <th>std err</th>      <th>t</th>      <th>P>|t|</th>  <th>[0.025</th>    <th>0.975]</th>  \n",
       "</tr>\n",
       "<tr>\n",
       "  <th>Intercept</th>                  <td>    0.1050</td> <td>    0.012</td> <td>    8.934</td> <td> 0.000</td> <td>    0.082</td> <td>    0.128</td>\n",
       "</tr>\n",
       "<tr>\n",
       "  <th>race[T.B]</th>                  <td>   -0.0317</td> <td>    0.013</td> <td>   -2.377</td> <td> 0.018</td> <td>   -0.058</td> <td>   -0.005</td>\n",
       "</tr>\n",
       "<tr>\n",
       "  <th>race[T.L]</th>                  <td>   -0.0128</td> <td>    0.013</td> <td>   -0.958</td> <td> 0.339</td> <td>   -0.039</td> <td>    0.013</td>\n",
       "</tr>\n",
       "<tr>\n",
       "  <th>race[T.W]</th>                  <td>   -0.0192</td> <td>    0.012</td> <td>   -1.595</td> <td> 0.111</td> <td>   -0.043</td> <td>    0.004</td>\n",
       "</tr>\n",
       "<tr>\n",
       "  <th>race[T.unclear_race]</th>       <td>   -0.0215</td> <td>    0.012</td> <td>   -1.796</td> <td> 0.073</td> <td>   -0.045</td> <td>    0.002</td>\n",
       "</tr>\n",
       "<tr>\n",
       "  <th>gender[T.M]</th>                <td>   -0.0108</td> <td>    0.004</td> <td>   -2.518</td> <td> 0.012</td> <td>   -0.019</td> <td>   -0.002</td>\n",
       "</tr>\n",
       "<tr>\n",
       "  <th>gender[T.non-human-gender]</th> <td>   -0.0007</td> <td>    0.017</td> <td>   -0.043</td> <td> 0.965</td> <td>   -0.034</td> <td>    0.033</td>\n",
       "</tr>\n",
       "</table>\n",
       "<table class=\"simpletable\">\n",
       "<tr>\n",
       "  <th>Omnibus:</th>       <td> 2.412</td> <th>  Durbin-Watson:     </th> <td>   1.917</td>\n",
       "</tr>\n",
       "<tr>\n",
       "  <th>Prob(Omnibus):</th> <td> 0.299</td> <th>  Jarque-Bera (JB):  </th> <td>   2.201</td>\n",
       "</tr>\n",
       "<tr>\n",
       "  <th>Skew:</th>          <td>-0.177</td> <th>  Prob(JB):          </th> <td>   0.333</td>\n",
       "</tr>\n",
       "<tr>\n",
       "  <th>Kurtosis:</th>      <td> 3.101</td> <th>  Cond. No.          </th> <td>    18.5</td>\n",
       "</tr>\n",
       "</table><br/><br/>Warnings:<br/>[1] Standard Errors assume that the covariance matrix of the errors is correctly specified."
      ],
      "text/plain": [
       "<class 'statsmodels.iolib.summary.Summary'>\n",
       "\"\"\"\n",
       "                            WLS Regression Results                            \n",
       "==============================================================================\n",
       "Dep. Variable:         mean_sentiment   R-squared:                       0.046\n",
       "Model:                            WLS   Adj. R-squared:                  0.031\n",
       "Method:                 Least Squares   F-statistic:                     3.102\n",
       "Date:                Fri, 06 Sep 2019   Prob (F-statistic):            0.00560\n",
       "Time:                        05:06:16   Log-Likelihood:                 682.51\n",
       "No. Observations:                 391   AIC:                            -1351.\n",
       "Df Residuals:                     384   BIC:                            -1323.\n",
       "Df Model:                           6                                         \n",
       "Covariance Type:            nonrobust                                         \n",
       "==============================================================================================\n",
       "                                 coef    std err          t      P>|t|      [0.025      0.975]\n",
       "----------------------------------------------------------------------------------------------\n",
       "Intercept                      0.1050      0.012      8.934      0.000       0.082       0.128\n",
       "race[T.B]                     -0.0317      0.013     -2.377      0.018      -0.058      -0.005\n",
       "race[T.L]                     -0.0128      0.013     -0.958      0.339      -0.039       0.013\n",
       "race[T.W]                     -0.0192      0.012     -1.595      0.111      -0.043       0.004\n",
       "race[T.unclear_race]          -0.0215      0.012     -1.796      0.073      -0.045       0.002\n",
       "gender[T.M]                   -0.0108      0.004     -2.518      0.012      -0.019      -0.002\n",
       "gender[T.non-human-gender]    -0.0007      0.017     -0.043      0.965      -0.034       0.033\n",
       "==============================================================================\n",
       "Omnibus:                        2.412   Durbin-Watson:                   1.917\n",
       "Prob(Omnibus):                  0.299   Jarque-Bera (JB):                2.201\n",
       "Skew:                          -0.177   Prob(JB):                        0.333\n",
       "Kurtosis:                       3.101   Cond. No.                         18.5\n",
       "==============================================================================\n",
       "\n",
       "Warnings:\n",
       "[1] Standard Errors assume that the covariance matrix of the errors is correctly specified.\n",
       "\"\"\""
      ]
     },
     "execution_count": 93,
     "metadata": {},
     "output_type": "execute_result"
    }
   ],
   "source": [
    "sentiment_model_gender.summary()"
   ]
  },
  {
   "cell_type": "markdown",
   "metadata": {},
   "source": [
    "### Old NER code (didn't work due to too many common words and reused words across skins)"
   ]
  },
  {
   "cell_type": "code",
   "execution_count": 83,
   "metadata": {},
   "outputs": [
    {
     "name": "stdout",
     "output_type": "stream",
     "text": [
      "Wall time: 33.9 s\n"
     ]
    }
   ],
   "source": [
    "%%time\n",
    "# 1 min if memory constrained\n",
    "import dask.dataframe as dd\n",
    "from dask.distributed import Client, LocalCluster\n",
    "cluster = LocalCluster()\n",
    "client = Client(cluster)\n",
    "ddf = dd.from_pandas(july_sentences_df, npartitions=12)\n",
    "test_df= ddf.map_partitions(lambda df: ss.extract_known_ner(df, NAMED_ENTITIES, UPPER_ENTITIES)).compute()\n",
    "client.close()\n"
   ]
  },
  {
   "cell_type": "code",
   "execution_count": 84,
   "metadata": {},
   "outputs": [
    {
     "name": "stdout",
     "output_type": "stream",
     "text": [
      "Outputting 90243 sentences which have 1-2 named entities\n",
      "Wall time: 5.04 s\n"
     ]
    }
   ],
   "source": [
    "%%time\n",
    "#test_df = ss.extract_known_ner(july_sentences_df, NAMED_ENTITIES, UPPER_ENTITIES)\n",
    "test_df = ss.clean_entities(test_df, non_players_set=NON_SKINS,max_entities = 4)"
   ]
  },
  {
   "cell_type": "code",
   "execution_count": 94,
   "metadata": {},
   "outputs": [
    {
     "data": {
      "text/plain": [
       "singularity      1028\n",
       "drift             720\n",
       "fishstick         555\n",
       "grind             438\n",
       "peely             432\n",
       "omega             299\n",
       "beach bomber      287\n",
       "marshmello        280\n",
       "ruin              256\n",
       "breakpoint        243\n",
       "john wick         232\n",
       "demogorgon        225\n",
       "vendetta          197\n",
       "luxe              183\n",
       "demi              165\n",
       "ikonik            159\n",
       "rust lord         147\n",
       "hopper            123\n",
       "rox               118\n",
       "bunker jonesy     114\n",
       "Name: str_entities, dtype: int64"
      ]
     },
     "execution_count": 94,
     "metadata": {},
     "output_type": "execute_result"
    }
   ],
   "source": [
    "test_df['skin_match'] = test_df['str_entities'].apply(lambda row: row in skin_set)\n",
    "test_df.query('skin_match')['str_entities'].value_counts().head(20)"
   ]
  },
  {
   "cell_type": "code",
   "execution_count": null,
   "metadata": {},
   "outputs": [],
   "source": []
  }
 ],
 "metadata": {
  "kernelspec": {
   "display_name": "Python 3",
   "language": "python",
   "name": "python3"
  },
  "language_info": {
   "codemirror_mode": {
    "name": "ipython",
    "version": 3
   },
   "file_extension": ".py",
   "mimetype": "text/x-python",
   "name": "python",
   "nbconvert_exporter": "python",
   "pygments_lexer": "ipython3",
   "version": "3.6.4"
  }
 },
 "nbformat": 4,
 "nbformat_minor": 2
}
