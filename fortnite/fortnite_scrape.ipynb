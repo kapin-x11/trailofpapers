{
 "cells": [
  {
   "cell_type": "markdown",
   "metadata": {},
   "source": [
    "# Reddit Fornite scrape\n",
    "This notebook has code to scrape comments for one month of reddit. Original version used a Reddit API, but now I use the `pushshift` API. Pushshift typically yields ~300k comments / month for a month during the season."
   ]
  },
  {
   "cell_type": "code",
   "execution_count": 40,
   "metadata": {},
   "outputs": [],
   "source": [
    "#import praw # for direct reddit pull\n",
    "import time\n",
    "import re\n",
    "import datetime\n",
    "import requests\n",
    "import importlib\n",
    "from datetime import datetime\n",
    "from ast import literal_eval\n",
    "import json\n",
    "import pandas as pd\n",
    "import numpy as np\n",
    "%matplotlib inline"
   ]
  },
  {
   "cell_type": "code",
   "execution_count": 4,
   "metadata": {},
   "outputs": [],
   "source": [
    "import scrape_reddit_comments as src"
   ]
  },
  {
   "cell_type": "markdown",
   "metadata": {},
   "source": [
    "nba_coach_df.to_csv('d:/data/sentiment_sports/')"
   ]
  },
  {
   "cell_type": "code",
   "execution_count": 11,
   "metadata": {},
   "outputs": [
    {
     "name": "stdout",
     "output_type": "stream",
     "text": [
      "Downloading submissions for 2018-1\n",
      "Downloaded 35828 submissions\n",
      "Made dataframe of shape (35828, 9)\n",
      "Downloading comments\n",
      "Downloaded 233966 comments\n",
      "Wall time: 35min 44s\n"
     ]
    }
   ],
   "source": [
    "%%time\n",
    "league = 'fortnitebr'\n",
    "year = 2018\n",
    "month = 1\n",
    "month_df, submissions, comments = src.get_month_pushshift(year,month,31, league)"
   ]
  },
  {
   "cell_type": "code",
   "execution_count": 12,
   "metadata": {},
   "outputs": [
    {
     "data": {
      "text/html": [
       "<div>\n",
       "<style scoped>\n",
       "    .dataframe tbody tr th:only-of-type {\n",
       "        vertical-align: middle;\n",
       "    }\n",
       "\n",
       "    .dataframe tbody tr th {\n",
       "        vertical-align: top;\n",
       "    }\n",
       "\n",
       "    .dataframe thead th {\n",
       "        text-align: right;\n",
       "    }\n",
       "</style>\n",
       "<table border=\"1\" class=\"dataframe\">\n",
       "  <thead>\n",
       "    <tr style=\"text-align: right;\">\n",
       "      <th></th>\n",
       "      <th>text</th>\n",
       "      <th>timestamp</th>\n",
       "      <th>user</th>\n",
       "      <th>flair</th>\n",
       "      <th>score</th>\n",
       "      <th>id</th>\n",
       "      <th>link_id</th>\n",
       "      <th>parent_id</th>\n",
       "      <th>source</th>\n",
       "    </tr>\n",
       "  </thead>\n",
       "  <tbody>\n",
       "    <tr>\n",
       "      <td>56844</td>\n",
       "      <td>Noted!</td>\n",
       "      <td>1515617219</td>\n",
       "      <td>tha__smoothness</td>\n",
       "      <td>AR commander</td>\n",
       "      <td>-1</td>\n",
       "      <td>dshig2n</td>\n",
       "      <td>t3_7pfwcv</td>\n",
       "      <td>t1_dshc64j</td>\n",
       "      <td>comment</td>\n",
       "    </tr>\n",
       "  </tbody>\n",
       "</table>\n",
       "</div>"
      ],
      "text/plain": [
       "         text   timestamp             user         flair  score       id  \\\n",
       "56844  Noted!  1515617219  tha__smoothness  AR commander     -1  dshig2n   \n",
       "\n",
       "         link_id   parent_id   source  \n",
       "56844  t3_7pfwcv  t1_dshc64j  comment  "
      ]
     },
     "execution_count": 12,
     "metadata": {},
     "output_type": "execute_result"
    }
   ],
   "source": [
    "month_df.sample()"
   ]
  },
  {
   "cell_type": "markdown",
   "metadata": {},
   "source": [
    "### Save / load\n",
    "Something weird is going on where is throws a `UnicodeDecodeError` when writing to a gzipped file"
   ]
  },
  {
   "cell_type": "code",
   "execution_count": 13,
   "metadata": {},
   "outputs": [],
   "source": [
    "drive = 'd'"
   ]
  },
  {
   "cell_type": "code",
   "execution_count": 14,
   "metadata": {},
   "outputs": [],
   "source": [
    "month_df.to_csv(f'{drive}:/data/fortnite/{year}{month:02}-{league}-comments_submissions.tsv',\n",
    "                sep = '\\t', encoding = 'utf-8',index = False)"
   ]
  },
  {
   "cell_type": "markdown",
   "metadata": {},
   "source": [
    "## Scrape and combine covariate data\n",
    "### Skin data"
   ]
  },
  {
   "cell_type": "code",
   "execution_count": 5,
   "metadata": {},
   "outputs": [],
   "source": [
    "import requests\n",
    "import pandas as pd\n",
    "from bs4 import BeautifulSoup"
   ]
  },
  {
   "cell_type": "code",
   "execution_count": 136,
   "metadata": {},
   "outputs": [],
   "source": [
    "#def scrape_skins_number():\n",
    "\n",
    "with open('skins_list.html', 'r') as skin_file:\n",
    "    skins = skin_file.read()\n",
    "skins = skins.replace('</td>\\n<td>', '')\n",
    "soup = BeautifulSoup(skins, 'html.parser')\n",
    "all_p = soup.find_all('p')\n",
    "filtered_elements = [element for element in all_p  if len(str(element)) < 50 and 'nextpage' not in str(element) and len(str(element)) > 7]\n",
    "skin_names, skin_source, skin_rarity = zip(*[(element.text, \n",
    "                                              str(element.next_sibling),\n",
    "                                             list(element.next_elements)[4]) for element in filtered_elements])\n",
    "#, element.next_sibling.next_sibling"
   ]
  },
  {
   "cell_type": "code",
   "execution_count": 139,
   "metadata": {},
   "outputs": [
    {
     "data": {
      "text/html": [
       "<div>\n",
       "<style scoped>\n",
       "    .dataframe tbody tr th:only-of-type {\n",
       "        vertical-align: middle;\n",
       "    }\n",
       "\n",
       "    .dataframe tbody tr th {\n",
       "        vertical-align: top;\n",
       "    }\n",
       "\n",
       "    .dataframe thead th {\n",
       "        text-align: right;\n",
       "    }\n",
       "</style>\n",
       "<table border=\"1\" class=\"dataframe\">\n",
       "  <thead>\n",
       "    <tr style=\"text-align: right;\">\n",
       "      <th></th>\n",
       "      <th>skin_name</th>\n",
       "      <th>skin_source</th>\n",
       "      <th>skin_rarity</th>\n",
       "    </tr>\n",
       "  </thead>\n",
       "  <tbody>\n",
       "    <tr>\n",
       "      <th>208</th>\n",
       "      <td>Ludwig</td>\n",
       "      <td>1500 V-Bucks</td>\n",
       "      <td>Epic</td>\n",
       "    </tr>\n",
       "    <tr>\n",
       "      <th>134</th>\n",
       "      <td>First Strike Specialist</td>\n",
       "      <td>1200 V-Bucks</td>\n",
       "      <td>Rare</td>\n",
       "    </tr>\n",
       "    <tr>\n",
       "      <th>369</th>\n",
       "      <td>Super Striker</td>\n",
       "      <td>1200 V-Bucks</td>\n",
       "      <td>Rare</td>\n",
       "    </tr>\n",
       "  </tbody>\n",
       "</table>\n",
       "</div>"
      ],
      "text/plain": [
       "                   skin_name   skin_source skin_rarity\n",
       "208                   Ludwig  1500 V-Bucks        Epic\n",
       "134  First Strike Specialist  1200 V-Bucks        Rare\n",
       "369            Super Striker  1200 V-Bucks        Rare"
      ]
     },
     "execution_count": 139,
     "metadata": {},
     "output_type": "execute_result"
    }
   ],
   "source": [
    "skin_df = pd.DataFrame(list(zip(*[skin_names, skin_source, skin_rarity])),\n",
    "                      columns = ['skin_name', 'skin_source', 'skin_rarity'])\n",
    "skin_df.sample(3)"
   ]
  },
  {
   "cell_type": "raw",
   "metadata": {},
   "source": [
    "# do not save again, as I had to fix two names; clinical crosser and valkyrie\n",
    "#skin_df.to_csv('raw_skin_data.tsv', sep='\\t', index=False)"
   ]
  },
  {
   "cell_type": "markdown",
   "metadata": {},
   "source": [
    "### Scrape release dates"
   ]
  },
  {
   "cell_type": "code",
   "execution_count": 3,
   "metadata": {},
   "outputs": [],
   "source": [
    "import pandas as pd"
   ]
  },
  {
   "cell_type": "code",
   "execution_count": 58,
   "metadata": {},
   "outputs": [],
   "source": [
    "def get_skin_info(skin_name, base_url = 'https://fortnite.gamepedia.com/{}_(outfit)'):\n",
    "    time.sleep(0.5)\n",
    "    release_date=''\n",
    "    skin_set = ''\n",
    "    skin_url = base_url.format(skin_name.replace(' ', '_'))\n",
    "    try:\n",
    "        skin_info_df = pd.read_html(skin_url)[2]\n",
    "\n",
    "        # get set info\n",
    "        set_indices = skin_info_df.iloc[:,0] == \"Set\"\n",
    "        if set_indices.sum() > 0:\n",
    "            skin_set = skin_info_df.loc[set_indices].iloc[0,1]\n",
    "\n",
    "        # get release date\n",
    "        release_indices = set_indices = skin_info_df.iloc[:,0] == \"Release Date (UTC-)\"\n",
    "        if release_indices.sum() > 0:\n",
    "            release_date_string = skin_info_df.loc[release_indices].iloc[0,1]\n",
    "            release_date = release_date_string[:release_date_string.find('201')+4]\n",
    "    except:\n",
    "        print('Could not find URL for skin ' + skin_name)\n",
    "    return skin_set, release_date"
   ]
  },
  {
   "cell_type": "code",
   "execution_count": 38,
   "metadata": {},
   "outputs": [],
   "source": [
    "skin_df = pd.read_csv('modeling_data/labeled_skin_covariates.tsv', sep='\\t')"
   ]
  },
  {
   "cell_type": "code",
   "execution_count": 59,
   "metadata": {},
   "outputs": [
    {
     "name": "stdout",
     "output_type": "stream",
     "text": [
      "Could not find URL for skin Bravo Leader\n",
      "Could not find URL for skin B.R.U.T.E. Gunner\n",
      "Could not find URL for skin B.R.U.T.E. Navigator\n",
      "Could not find URL for skin Bachii\n",
      "Could not find URL for skin Bubble Bomber\n"
     ]
    },
    {
     "name": "stderr",
     "output_type": "stream",
     "text": [
      "C:\\Users\\map22\\Anaconda3\\lib\\site-packages\\pandas\\core\\ops\\__init__.py:1115: FutureWarning: elementwise comparison failed; returning scalar instead, but in the future will perform elementwise comparison\n",
      "  result = method(y)\n"
     ]
    },
    {
     "name": "stdout",
     "output_type": "stream",
     "text": [
      "Could not find URL for skin Clinical Crossover\n",
      "Could not find URL for skin Cloudbreaker\n",
      "Could not find URL for skin Copper Wasp\n",
      "Could not find URL for skin Dream Flower\n",
      "Could not find URL for skin Flap Jackie\n",
      "Could not find URL for skin Gage\n",
      "Could not find URL for skin Galaxy Skin\n",
      "Could not find URL for skin Gemini\n",
      "Could not find URL for skin Grit\n",
      "Could not find URL for skin IKONIK\n",
      "Could not find URL for skin Ice Queen\n",
      "Could not find URL for skin Mika\n",
      "Could not find URL for skin NOG Ops\n",
      "Could not find URL for skin P.A.N.D.A. Team Leader\n",
      "Could not find URL for skin Prisoner\n",
      "Could not find URL for skin Star Spangled Ranger\n",
      "Could not find URL for skin Star Spangled Trooper\n",
      "Could not find URL for skin Sugar Plum\n",
      "Could not find URL for skin Tilted Teknique\n",
      "Could not find URL for skin Tsuki\n",
      "Could not find URL for skin Valykyrie\n",
      "Could not find URL for skin Wingtip\n"
     ]
    }
   ],
   "source": [
    "release_results = list(zip(*skin_df['skin_name'].apply(get_skin_info)))"
   ]
  },
  {
   "cell_type": "code",
   "execution_count": 61,
   "metadata": {},
   "outputs": [],
   "source": [
    "skin_df['skin_set'] = release_results[0]\n",
    "skin_df['release_date'] = release_results[1]"
   ]
  },
  {
   "cell_type": "code",
   "execution_count": 63,
   "metadata": {},
   "outputs": [],
   "source": [
    "skin_df.to_csv('modeling_data/labeled_skin_covariates.tsv', sep='\\t', index=False)"
   ]
  },
  {
   "cell_type": "markdown",
   "metadata": {},
   "source": [
    "#### Fill in missing data\n",
    "Before doing this I fixed typoes in Clinical Crosser and Valkyrie"
   ]
  },
  {
   "cell_type": "code",
   "execution_count": 5,
   "metadata": {},
   "outputs": [],
   "source": [
    "skin_df = pd.read_csv('modeling_data/labeled_skin_covariates.tsv', sep='\\t')"
   ]
  },
  {
   "cell_type": "code",
   "execution_count": 11,
   "metadata": {},
   "outputs": [],
   "source": [
    "def get_progameguides_release(skin):\n",
    "    time.sleep(0.5)\n",
    "    try:\n",
    "        skin = skin.replace(' ', '-')\n",
    "        url = f'http://progameguides.com/fortnite-cosmetic/{skin}/'\n",
    "        print('Requesting url: \\n' + url)\n",
    "        skin_html = requests.get(url).text\n",
    "        return re.search('Release Date:<\\/strong> (\\d+\\/\\d+\\/\\d+)', skin_html).groups()[0]\n",
    "    except:\n",
    "        print('Had problem with ' + skin)\n",
    "        return ''\n",
    "def get_empty_release_date(row):\n",
    "    if row['release_date'] == '' or row['release_date'] != row['release_date']:\n",
    "        row['release_date'] = get_progameguides_release(row['skin_name'])\n",
    "    return row"
   ]
  },
  {
   "cell_type": "code",
   "execution_count": 12,
   "metadata": {},
   "outputs": [
    {
     "name": "stdout",
     "output_type": "stream",
     "text": [
      "Requesting url: \n",
      "http://progameguides.com/fortnite-cosmetic/B.R.U.T.E.-Navigator/\n",
      "Requesting url: \n",
      "http://progameguides.com/fortnite-cosmetic/Bachii/\n",
      "Requesting url: \n",
      "http://progameguides.com/fortnite-cosmetic/Battlehawk/\n",
      "Requesting url: \n",
      "http://progameguides.com/fortnite-cosmetic/Blackheart/\n",
      "Requesting url: \n",
      "http://progameguides.com/fortnite-cosmetic/Blue-Striker/\n",
      "Requesting url: \n",
      "http://progameguides.com/fortnite-cosmetic/Blue-Team-Leader/\n",
      "Had problem with Blue-Team-Leader\n",
      "Requesting url: \n",
      "http://progameguides.com/fortnite-cosmetic/Brawler/\n",
      "Requesting url: \n",
      "http://progameguides.com/fortnite-cosmetic/Brilliant-Striker/\n",
      "Requesting url: \n",
      "http://progameguides.com/fortnite-cosmetic/Bubble-Bomber/\n",
      "Requesting url: \n",
      "http://progameguides.com/fortnite-cosmetic/Bunker-Jonesy/\n",
      "Requesting url: \n",
      "http://progameguides.com/fortnite-cosmetic/Calamity/\n",
      "Requesting url: \n",
      "http://progameguides.com/fortnite-cosmetic/Carbide/\n",
      "Requesting url: \n",
      "http://progameguides.com/fortnite-cosmetic/Carbon-Commando/\n",
      "Had problem with Carbon-Commando\n",
      "Requesting url: \n",
      "http://progameguides.com/fortnite-cosmetic/Catalyst/\n",
      "Had problem with Catalyst\n",
      "Requesting url: \n",
      "http://progameguides.com/fortnite-cosmetic/Chromium/\n",
      "Requesting url: \n",
      "http://progameguides.com/fortnite-cosmetic/Cipher/\n",
      "Requesting url: \n",
      "http://progameguides.com/fortnite-cosmetic/Circuit-Breaker/\n",
      "Requesting url: \n",
      "http://progameguides.com/fortnite-cosmetic/Clinical-Crosser/\n",
      "Requesting url: \n",
      "http://progameguides.com/fortnite-cosmetic/Cloudbreaker/\n",
      "Requesting url: \n",
      "http://progameguides.com/fortnite-cosmetic/Codename-E.L.F./\n",
      "Requesting url: \n",
      "http://progameguides.com/fortnite-cosmetic/Copper-Wasp/\n",
      "Requesting url: \n",
      "http://progameguides.com/fortnite-cosmetic/Dark-Vanguard/\n",
      "Requesting url: \n",
      "http://progameguides.com/fortnite-cosmetic/Dark-Vertex/\n",
      "Had problem with Dark-Vertex\n",
      "Requesting url: \n",
      "http://progameguides.com/fortnite-cosmetic/Dark-Voyager/\n",
      "Requesting url: \n",
      "http://progameguides.com/fortnite-cosmetic/Dazzle/\n",
      "Requesting url: \n",
      "http://progameguides.com/fortnite-cosmetic/Demi/\n",
      "Requesting url: \n",
      "http://progameguides.com/fortnite-cosmetic/Desperado/\n",
      "Requesting url: \n",
      "http://progameguides.com/fortnite-cosmetic/Dire/\n",
      "Requesting url: \n",
      "http://progameguides.com/fortnite-cosmetic/DJ-Yonder/\n",
      "Requesting url: \n",
      "http://progameguides.com/fortnite-cosmetic/Dream-Flower/\n",
      "Had problem with Dream-Flower\n",
      "Requesting url: \n",
      "http://progameguides.com/fortnite-cosmetic/Dusk/\n",
      "Requesting url: \n",
      "http://progameguides.com/fortnite-cosmetic/Dynamic-Dribbler/\n",
      "Requesting url: \n",
      "http://progameguides.com/fortnite-cosmetic/Dynamo/\n",
      "Requesting url: \n",
      "http://progameguides.com/fortnite-cosmetic/Elite-Agent/\n",
      "Requesting url: \n",
      "http://progameguides.com/fortnite-cosmetic/Ember/\n",
      "Requesting url: \n",
      "http://progameguides.com/fortnite-cosmetic/Enforcer/\n",
      "Requesting url: \n",
      "http://progameguides.com/fortnite-cosmetic/Eon/\n",
      "Had problem with Eon\n",
      "Requesting url: \n",
      "http://progameguides.com/fortnite-cosmetic/Eternal-Voyager/\n",
      "Requesting url: \n",
      "http://progameguides.com/fortnite-cosmetic/Fable/\n",
      "Requesting url: \n",
      "http://progameguides.com/fortnite-cosmetic/First-Strike-Specialist/\n",
      "Requesting url: \n",
      "http://progameguides.com/fortnite-cosmetic/Flap-Jackie/\n",
      "Had problem with Flap-Jackie\n",
      "Requesting url: \n",
      "http://progameguides.com/fortnite-cosmetic/Fortune/\n",
      "Requesting url: \n",
      "http://progameguides.com/fortnite-cosmetic/Frostbite/\n",
      "Requesting url: \n",
      "http://progameguides.com/fortnite-cosmetic/Gage/\n",
      "Requesting url: \n",
      "http://progameguides.com/fortnite-cosmetic/Galaxy-Skin/\n",
      "Had problem with Galaxy-Skin\n",
      "Requesting url: \n",
      "http://progameguides.com/fortnite-cosmetic/Gemini/\n",
      "Had problem with Gemini\n",
      "Requesting url: \n",
      "http://progameguides.com/fortnite-cosmetic/Giddy-Up/\n",
      "Requesting url: \n",
      "http://progameguides.com/fortnite-cosmetic/Grit/\n",
      "Requesting url: \n",
      "http://progameguides.com/fortnite-cosmetic/Havoc/\n",
      "Had problem with Havoc\n",
      "Requesting url: \n",
      "http://progameguides.com/fortnite-cosmetic/Honor-Guard/\n",
      "Had problem with Honor-Guard\n",
      "Requesting url: \n",
      "http://progameguides.com/fortnite-cosmetic/Hybrid/\n",
      "Requesting url: \n",
      "http://progameguides.com/fortnite-cosmetic/Hyperion/\n",
      "Requesting url: \n",
      "http://progameguides.com/fortnite-cosmetic/IKONIK/\n",
      "Had problem with IKONIK\n",
      "Requesting url: \n",
      "http://progameguides.com/fortnite-cosmetic/Ice-Queen/\n",
      "Had problem with Ice-Queen\n",
      "Requesting url: \n",
      "http://progameguides.com/fortnite-cosmetic/Jumpshot/\n",
      "Requesting url: \n",
      "http://progameguides.com/fortnite-cosmetic/Laguna/\n",
      "Had problem with Laguna\n",
      "Requesting url: \n",
      "http://progameguides.com/fortnite-cosmetic/Luxe/\n",
      "Requesting url: \n",
      "http://progameguides.com/fortnite-cosmetic/Masked-Fury/\n",
      "Requesting url: \n",
      "http://progameguides.com/fortnite-cosmetic/Master-Key/\n",
      "Requesting url: \n",
      "http://progameguides.com/fortnite-cosmetic/Midfield-Maestro/\n",
      "Requesting url: \n",
      "http://progameguides.com/fortnite-cosmetic/Midnight-Ops/\n",
      "Requesting url: \n",
      "http://progameguides.com/fortnite-cosmetic/Mika/\n",
      "Requesting url: \n",
      "http://progameguides.com/fortnite-cosmetic/Mission-Specialist/\n",
      "Requesting url: \n",
      "http://progameguides.com/fortnite-cosmetic/Molten-Battle-Hound/\n",
      "Had problem with Molten-Battle-Hound\n",
      "Requesting url: \n",
      "http://progameguides.com/fortnite-cosmetic/Molten-Valkyrie/\n",
      "Had problem with Molten-Valkyrie\n",
      "Requesting url: \n",
      "http://progameguides.com/fortnite-cosmetic/Moniker/\n",
      "Requesting url: \n",
      "http://progameguides.com/fortnite-cosmetic/Moonwalker/\n",
      "Requesting url: \n",
      "http://progameguides.com/fortnite-cosmetic/Nightshade/\n",
      "Requesting url: \n",
      "http://progameguides.com/fortnite-cosmetic/NOG-Ops/\n",
      "Requesting url: \n",
      "http://progameguides.com/fortnite-cosmetic/Omega/\n",
      "Requesting url: \n",
      "http://progameguides.com/fortnite-cosmetic/P.A.N.D.A.-Team-Leader/\n",
      "Requesting url: \n",
      "http://progameguides.com/fortnite-cosmetic/Peely/\n",
      "Requesting url: \n",
      "http://progameguides.com/fortnite-cosmetic/Prisoner/\n",
      "Had problem with Prisoner\n",
      "Requesting url: \n",
      "http://progameguides.com/fortnite-cosmetic/Radiant-Striker/\n",
      "Requesting url: \n",
      "http://progameguides.com/fortnite-cosmetic/Recon-Expert/\n",
      "Requesting url: \n",
      "http://progameguides.com/fortnite-cosmetic/Recon-Scout/\n",
      "Requesting url: \n",
      "http://progameguides.com/fortnite-cosmetic/Recon-Specialist/\n",
      "Requesting url: \n",
      "http://progameguides.com/fortnite-cosmetic/Redline/\n",
      "Requesting url: \n",
      "http://progameguides.com/fortnite-cosmetic/Riot/\n",
      "Requesting url: \n",
      "http://progameguides.com/fortnite-cosmetic/Royale-Knight/\n",
      "Requesting url: \n",
      "http://progameguides.com/fortnite-cosmetic/Ruin/\n",
      "Had problem with Ruin\n",
      "Requesting url: \n",
      "http://progameguides.com/fortnite-cosmetic/Rust-Lord/\n",
      "Requesting url: \n",
      "http://progameguides.com/fortnite-cosmetic/Sash-Sergeant/\n",
      "Requesting url: \n",
      "http://progameguides.com/fortnite-cosmetic/Sidewinder/\n",
      "Requesting url: \n",
      "http://progameguides.com/fortnite-cosmetic/Sledgehammer/\n",
      "Requesting url: \n",
      "http://progameguides.com/fortnite-cosmetic/Snorkel-Ops/\n",
      "Requesting url: \n",
      "http://progameguides.com/fortnite-cosmetic/Sparkle-Specialist/\n",
      "Requesting url: \n",
      "http://progameguides.com/fortnite-cosmetic/Sparkle-Supreme/\n",
      "Requesting url: \n",
      "http://progameguides.com/fortnite-cosmetic/Special-Forces/\n",
      "Requesting url: \n",
      "http://progameguides.com/fortnite-cosmetic/Squad-Leader/\n",
      "Requesting url: \n",
      "http://progameguides.com/fortnite-cosmetic/Stalwart-Sweeper/\n",
      "Requesting url: \n",
      "http://progameguides.com/fortnite-cosmetic/Star-Spangled-Ranger/\n",
      "Requesting url: \n",
      "http://progameguides.com/fortnite-cosmetic/Star-Spangled-Trooper/\n",
      "Requesting url: \n",
      "http://progameguides.com/fortnite-cosmetic/Stealth-Reflex/\n",
      "Had problem with Stealth-Reflex\n",
      "Requesting url: \n",
      "http://progameguides.com/fortnite-cosmetic/Stratus/\n",
      "Requesting url: \n",
      "http://progameguides.com/fortnite-cosmetic/Sub-Commander/\n",
      "Had problem with Sub-Commander\n",
      "Requesting url: \n",
      "http://progameguides.com/fortnite-cosmetic/Sugar-Plum/\n",
      "Had problem with Sugar-Plum\n",
      "Requesting url: \n",
      "http://progameguides.com/fortnite-cosmetic/Sun-Strider/\n",
      "Requesting url: \n",
      "http://progameguides.com/fortnite-cosmetic/Super-Striker/\n",
      "Requesting url: \n",
      "http://progameguides.com/fortnite-cosmetic/Survival-Specialist/\n",
      "Requesting url: \n",
      "http://progameguides.com/fortnite-cosmetic/Teknique/\n",
      "Requesting url: \n",
      "http://progameguides.com/fortnite-cosmetic/Tilted-Teknique/\n",
      "Requesting url: \n",
      "http://progameguides.com/fortnite-cosmetic/Trailblazer/\n",
      "Had problem with Trailblazer\n",
      "Requesting url: \n",
      "http://progameguides.com/fortnite-cosmetic/Triple-Threat/\n",
      "Requesting url: \n",
      "http://progameguides.com/fortnite-cosmetic/Tsuki/\n",
      "Requesting url: \n",
      "http://progameguides.com/fortnite-cosmetic/Ultima-Knight/\n",
      "Requesting url: \n",
      "http://progameguides.com/fortnite-cosmetic/Valkyrie/\n",
      "Requesting url: \n",
      "http://progameguides.com/fortnite-cosmetic/Valor/\n",
      "Requesting url: \n",
      "http://progameguides.com/fortnite-cosmetic/Vega/\n",
      "Requesting url: \n",
      "http://progameguides.com/fortnite-cosmetic/The-Visitor/\n",
      "Requesting url: \n",
      "http://progameguides.com/fortnite-cosmetic/Wingtip/\n",
      "Requesting url: \n",
      "http://progameguides.com/fortnite-cosmetic/X-Lord/\n",
      "Requesting url: \n",
      "http://progameguides.com/fortnite-cosmetic/Yond3r/\n",
      "Requesting url: \n",
      "http://progameguides.com/fortnite-cosmetic/Zoey/\n"
     ]
    }
   ],
   "source": [
    "skin_df = skin_df.apply(get_empty_release_date, axis=1)"
   ]
  },
  {
   "cell_type": "code",
   "execution_count": 15,
   "metadata": {},
   "outputs": [],
   "source": [
    "skin_df['release_date'] = skin_df['release_date'].str.replace('/', '-')\n",
    "skin_df['release_date'] = skin_df['release_date'].replace({'':None})"
   ]
  },
  {
   "cell_type": "code",
   "execution_count": 46,
   "metadata": {},
   "outputs": [],
   "source": [
    "def convert_time_str(time_str):\n",
    "    if not time_str:\n",
    "        return None\n",
    "    if re.search('[a-z]', time_str):\n",
    "        return datetime.strptime(time_str, '%d-%b-%y')\n",
    "    return datetime.strptime(time_str, '%m-%d-%Y')"
   ]
  },
  {
   "cell_type": "code",
   "execution_count": 47,
   "metadata": {},
   "outputs": [],
   "source": [
    "skin_df['release_datetime'] = skin_df['release_date'].apply(convert_time_str)"
   ]
  },
  {
   "cell_type": "code",
   "execution_count": 51,
   "metadata": {},
   "outputs": [
    {
     "data": {
      "text/html": [
       "<div>\n",
       "<style scoped>\n",
       "    .dataframe tbody tr th:only-of-type {\n",
       "        vertical-align: middle;\n",
       "    }\n",
       "\n",
       "    .dataframe tbody tr th {\n",
       "        vertical-align: top;\n",
       "    }\n",
       "\n",
       "    .dataframe thead th {\n",
       "        text-align: right;\n",
       "    }\n",
       "</style>\n",
       "<table border=\"1\" class=\"dataframe\">\n",
       "  <thead>\n",
       "    <tr style=\"text-align: right;\">\n",
       "      <th></th>\n",
       "      <th>skin_name</th>\n",
       "      <th>skin_source</th>\n",
       "      <th>skin_rarity</th>\n",
       "      <th>race</th>\n",
       "      <th>gender</th>\n",
       "      <th>story_skin</th>\n",
       "      <th>skin_set</th>\n",
       "      <th>release_date</th>\n",
       "      <th>release_datetime</th>\n",
       "    </tr>\n",
       "  </thead>\n",
       "  <tbody>\n",
       "    <tr>\n",
       "      <td>202</td>\n",
       "      <td>Leviathan</td>\n",
       "      <td>2000 V-Bucks</td>\n",
       "      <td>Legendary</td>\n",
       "      <td>NaN</td>\n",
       "      <td>M</td>\n",
       "      <td>NaN</td>\n",
       "      <td>Space Explorers</td>\n",
       "      <td>16-Apr-18</td>\n",
       "      <td>2018-04-16</td>\n",
       "    </tr>\n",
       "    <tr>\n",
       "      <td>266</td>\n",
       "      <td>Plague</td>\n",
       "      <td>1500 V-Bucks</td>\n",
       "      <td>Epic</td>\n",
       "      <td>NaN</td>\n",
       "      <td>M</td>\n",
       "      <td>NaN</td>\n",
       "      <td>Grim Medicine</td>\n",
       "      <td>12-Oct-18</td>\n",
       "      <td>2018-10-12</td>\n",
       "    </tr>\n",
       "    <tr>\n",
       "      <td>411</td>\n",
       "      <td>The Visitor</td>\n",
       "      <td>Complete Blockbuster Challenges in Season 4</td>\n",
       "      <td>Legendary</td>\n",
       "      <td>NaN</td>\n",
       "      <td>M</td>\n",
       "      <td>True</td>\n",
       "      <td>NaN</td>\n",
       "      <td>05-01-2018</td>\n",
       "      <td>2018-05-01</td>\n",
       "    </tr>\n",
       "    <tr>\n",
       "      <td>265</td>\n",
       "      <td>Pillar</td>\n",
       "      <td>1200 V-Bucks</td>\n",
       "      <td>Rare</td>\n",
       "      <td>NaN</td>\n",
       "      <td>F</td>\n",
       "      <td>NaN</td>\n",
       "      <td>NaN</td>\n",
       "      <td>13-Jul-19</td>\n",
       "      <td>2019-07-13</td>\n",
       "    </tr>\n",
       "    <tr>\n",
       "      <td>241</td>\n",
       "      <td>Munitions Expert</td>\n",
       "      <td>1200 V-Bucks</td>\n",
       "      <td>Rare</td>\n",
       "      <td>L</td>\n",
       "      <td>F</td>\n",
       "      <td>NaN</td>\n",
       "      <td>NaN</td>\n",
       "      <td>27-Oct-17</td>\n",
       "      <td>2017-10-27</td>\n",
       "    </tr>\n",
       "  </tbody>\n",
       "</table>\n",
       "</div>"
      ],
      "text/plain": [
       "            skin_name                                  skin_source  \\\n",
       "202         Leviathan                                 2000 V-Bucks   \n",
       "266            Plague                                 1500 V-Bucks   \n",
       "411       The Visitor  Complete Blockbuster Challenges in Season 4   \n",
       "265            Pillar                                 1200 V-Bucks   \n",
       "241  Munitions Expert                                 1200 V-Bucks   \n",
       "\n",
       "    skin_rarity race gender story_skin         skin_set release_date  \\\n",
       "202   Legendary  NaN      M        NaN  Space Explorers    16-Apr-18   \n",
       "266        Epic  NaN      M        NaN    Grim Medicine    12-Oct-18   \n",
       "411   Legendary  NaN      M       True              NaN   05-01-2018   \n",
       "265        Rare  NaN      F        NaN              NaN    13-Jul-19   \n",
       "241        Rare    L      F        NaN              NaN    27-Oct-17   \n",
       "\n",
       "    release_datetime  \n",
       "202       2018-04-16  \n",
       "266       2018-10-12  \n",
       "411       2018-05-01  \n",
       "265       2019-07-13  \n",
       "241       2017-10-27  "
      ]
     },
     "execution_count": 51,
     "metadata": {},
     "output_type": "execute_result"
    }
   ],
   "source": [
    "skin_df.sample(5)"
   ]
  },
  {
   "cell_type": "code",
   "execution_count": 53,
   "metadata": {},
   "outputs": [],
   "source": [
    "skin_df.to_csv('modeling_data/labeled_skin_covariates_verify.tsv', sep='\\t', index=None)"
   ]
  },
  {
   "cell_type": "markdown",
   "metadata": {},
   "source": [
    "Still some missing, but I'm going to go with what I got"
   ]
  },
  {
   "cell_type": "code",
   "execution_count": null,
   "metadata": {},
   "outputs": [],
   "source": []
  }
 ],
 "metadata": {
  "kernelspec": {
   "display_name": "Python 3",
   "language": "python",
   "name": "python3"
  },
  "language_info": {
   "codemirror_mode": {
    "name": "ipython",
    "version": 3
   },
   "file_extension": ".py",
   "mimetype": "text/x-python",
   "name": "python",
   "nbconvert_exporter": "python",
   "pygments_lexer": "ipython3",
   "version": "3.6.4"
  }
 },
 "nbformat": 4,
 "nbformat_minor": 2
}
