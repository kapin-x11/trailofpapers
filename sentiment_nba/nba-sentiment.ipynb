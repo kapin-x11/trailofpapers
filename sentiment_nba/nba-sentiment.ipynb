{
 "cells": [
  {
   "cell_type": "markdown",
   "metadata": {},
   "source": [
    "### Long term to-do:\n",
    "Get NFL dataset for comparison\n",
    "\n",
    "Get Twitter data for comparison"
   ]
  },
  {
   "cell_type": "code",
   "execution_count": 2,
   "metadata": {
    "collapsed": true
   },
   "outputs": [
    {
     "name": "stderr",
     "output_type": "stream",
     "text": [
      "C:\\ProgramData\\Anaconda3\\lib\\site-packages\\nltk\\twitter\\__init__.py:20: UserWarning: The twython library has not been installed. Some functionality from the twitter package will not be available.\n",
      "  warnings.warn(\"The twython library has not been installed. \"\n"
     ]
    }
   ],
   "source": [
    "import json\n",
    "import nltk\n",
    "import string\n",
    "from datetime import datetime\n",
    "import pandas as pd\n",
    "import dask.dataframe as dd\n",
    "from dask import get\n",
    "import numpy as np\n",
    "from ast import literal_eval\n",
    "from fuzzywuzzy import process as fuzzy_process\n",
    "from fuzzywuzzy import fuzz\n",
    "from string import punctuation\n",
    "from sner import Ner\n",
    "from nltk import word_tokenize, sent_tokenize, pos_tag, ne_chunk\n",
    "from nltk.sentiment.vader import SentimentIntensityAnalyzer\n",
    "import matplotlib.pyplot as plt\n",
    "%matplotlib inline"
   ]
  },
  {
   "cell_type": "code",
   "execution_count": 3,
   "metadata": {},
   "outputs": [],
   "source": [
    "# download stanford core nlp (should be a zip file of format stanford-ner-YYYY-MM-DD) (maybe from https://nlp.stanford.edu/software/CRF-NER.shtml#Download)\n",
    "# need to start the Java server:\n",
    "# cd C:\\ProgramData\\Anaconda3\\Lib\\site-packages\\sner\\stanford-ner-2018-02-27\n",
    "# java -Djava.ext.dirs=./lib -cp stanford-ner.jar edu.stanford.nlp.ie.NERServer -port 9199 -loadClassifier ./classifiers/english.all.3class.distsim.crf.ser.gz  -tokenizerFactory edu.stanford.nlp.process.WhitespaceTokenizer -tokenizerOptions tokenizeNLs=false"
   ]
  },
  {
   "cell_type": "code",
   "execution_count": 49,
   "metadata": {},
   "outputs": [],
   "source": [
    "pd.set_option('display.max_colwidth', 100)\n",
    "pd.set_option('display.max_columns', 100)"
   ]
  },
  {
   "cell_type": "markdown",
   "metadata": {},
   "source": [
    "## Constants and non-text data"
   ]
  },
  {
   "cell_type": "code",
   "execution_count": 5,
   "metadata": {},
   "outputs": [],
   "source": [
    "non_players_set = set('Atlanta Hawks Boston Celtics Brooklyn Nets Charlotte Bobcats' \\\n",
    "                  'Chicago Bulls Cleveland Cavaliers cavs Dallas Mavericks mavs Denver Nuggets ' \\\n",
    "                  'Detroit Pistons Golden State Warriors Houston Rockets Indiana'\\\n",
    "                  'Pacers Los Angeles LA Clippers LA Lakers LAL Memphis Grizzlies Miami Heat '\\\n",
    "                  'Milwaukee Bucks Minnesota Timberwolves  New Orleans Hornets New York Knicks NYK '\\\n",
    "                  'Oklahoma City Thunder Orlando Magic Philadelphia Sixers 76ers Phoenix'\\\n",
    "                  'Suns Portland Trail Blazers Sacramento Kings'\\\n",
    "                  'San Antonio Spurs Toronto Raptors Utah Jazz Washington Wizards wiz'\\\n",
    "                      'NBA asg'.lower().split())"
   ]
  },
  {
   "cell_type": "markdown",
   "metadata": {},
   "source": [
    "### Instantiate sentiment analyzer"
   ]
  },
  {
   "cell_type": "code",
   "execution_count": 6,
   "metadata": {},
   "outputs": [],
   "source": [
    "sid = SentimentIntensityAnalyzer()\n",
    "stat_words = ['steal', 'steals', 'block', 'blocked', 'blocks', 'slam', 'charges', 'rejection', 'free', 'assists']\n",
    "neutral_words = ['offense', 'offensive', 'offensively', 'defense', 'defensive', 'defensively', 'defender',\n",
    "                 'injury', 'injured', 'strain', 'questionable', 'isolation',\n",
    "                 'shoot', 'doubtful', 'play', 'plays', 'crazy', 'turnover', 'turnovers',\n",
    "                 'seriously']\n",
    "bad_words = ['foul', 'vicious', 'ridiculous', 'motherfucking', 'mediocre', 'soft']\n",
    "great_words = ['goat', 'nasty', 'prime']\n",
    "sid.lexicon.update({word:0.1 for word in stat_words})\n",
    "sid.lexicon.update({word:0 for word in neutral_words})\n",
    "sid.lexicon.update({word:-0.5 for word in bad_words})\n",
    "sid.lexicon.update({word:1 for word in great_words})"
   ]
  },
  {
   "cell_type": "markdown",
   "metadata": {},
   "source": [
    "### Load player demographic and performance data"
   ]
  },
  {
   "cell_type": "code",
   "execution_count": 171,
   "metadata": {},
   "outputs": [],
   "source": [
    "demo_df = pd.read_csv('data/players2018.tsv', sep ='\\t', encoding = 'utf-8')\n",
    "demo_df['Player'] = demo_df['Player'].str.lower()"
   ]
  },
  {
   "cell_type": "markdown",
   "metadata": {},
   "source": [
    "Fix heights"
   ]
  },
  {
   "cell_type": "code",
   "execution_count": 172,
   "metadata": {},
   "outputs": [],
   "source": [
    "demo_df['Ht'] = demo_df['Ht'].str.split('-')\n",
    "height_dict = {'Jun':72, 'Jul':84, 'May':60}\n",
    "height_dict.update({str(x):x for x in range(13)})\n",
    "height_dict.update({'00':0})\n",
    "demo_df['Ht'] = demo_df['Ht'].apply(lambda row: height_dict[row[0]] + height_dict[row[1]])"
   ]
  },
  {
   "cell_type": "code",
   "execution_count": 173,
   "metadata": {},
   "outputs": [],
   "source": [
    "performance_df = (pd.read_html('https://www.basketball-reference.com/leagues/NBA_2018_advanced.html')[0]\n",
    "                    .drop_duplicates('Player', keep = 'first'))\n",
    "performance_df['Player'] = performance_df['Player'].str.lower()"
   ]
  },
  {
   "cell_type": "code",
   "execution_count": 174,
   "metadata": {},
   "outputs": [],
   "source": [
    "#team_df = pd.concat(pd.read_html('https://www.basketball-reference.com/leagues/NBA_2018.html')[:2])\n",
    "team_df = pd.read_csv('data/teams2018.tsv', sep='\\t')"
   ]
  },
  {
   "cell_type": "code",
   "execution_count": 175,
   "metadata": {},
   "outputs": [
    {
     "data": {
      "text/html": [
       "<div>\n",
       "<style scoped>\n",
       "    .dataframe tbody tr th:only-of-type {\n",
       "        vertical-align: middle;\n",
       "    }\n",
       "\n",
       "    .dataframe tbody tr th {\n",
       "        vertical-align: top;\n",
       "    }\n",
       "\n",
       "    .dataframe thead th {\n",
       "        text-align: right;\n",
       "    }\n",
       "</style>\n",
       "<table border=\"1\" class=\"dataframe\">\n",
       "  <thead>\n",
       "    <tr style=\"text-align: right;\">\n",
       "      <th></th>\n",
       "      <th>Player</th>\n",
       "      <th>From</th>\n",
       "      <th>To</th>\n",
       "      <th>Pos_x</th>\n",
       "      <th>Ht</th>\n",
       "      <th>Wt</th>\n",
       "      <th>Birth Date</th>\n",
       "      <th>Colleges</th>\n",
       "      <th>experience</th>\n",
       "      <th>Race</th>\n",
       "      <th>Rk</th>\n",
       "      <th>Pos_y</th>\n",
       "      <th>Age</th>\n",
       "      <th>Tm</th>\n",
       "      <th>G</th>\n",
       "      <th>MP</th>\n",
       "      <th>PER</th>\n",
       "      <th>TS%</th>\n",
       "      <th>3PAr</th>\n",
       "      <th>FTr</th>\n",
       "      <th>ORB%</th>\n",
       "      <th>DRB%</th>\n",
       "      <th>TRB%</th>\n",
       "      <th>AST%</th>\n",
       "      <th>STL%</th>\n",
       "      <th>BLK%</th>\n",
       "      <th>TOV%</th>\n",
       "      <th>USG%</th>\n",
       "      <th>Unnamed: 19</th>\n",
       "      <th>OWS</th>\n",
       "      <th>DWS</th>\n",
       "      <th>WS</th>\n",
       "      <th>WS/48</th>\n",
       "      <th>Unnamed: 24</th>\n",
       "      <th>OBPM</th>\n",
       "      <th>DBPM</th>\n",
       "      <th>BPM</th>\n",
       "      <th>VORP</th>\n",
       "      <th>Wins</th>\n",
       "    </tr>\n",
       "  </thead>\n",
       "  <tbody>\n",
       "    <tr>\n",
       "      <th>0</th>\n",
       "      <td>alex abrines</td>\n",
       "      <td>2017</td>\n",
       "      <td>2018</td>\n",
       "      <td>G-F</td>\n",
       "      <td>78</td>\n",
       "      <td>190</td>\n",
       "      <td>1-Aug-93</td>\n",
       "      <td>NaN</td>\n",
       "      <td>1</td>\n",
       "      <td>W</td>\n",
       "      <td>1</td>\n",
       "      <td>SG</td>\n",
       "      <td>24</td>\n",
       "      <td>OKC</td>\n",
       "      <td>75</td>\n",
       "      <td>1134</td>\n",
       "      <td>9.0</td>\n",
       "      <td>.567</td>\n",
       "      <td>.759</td>\n",
       "      <td>.158</td>\n",
       "      <td>2.5</td>\n",
       "      <td>8.9</td>\n",
       "      <td>5.6</td>\n",
       "      <td>3.4</td>\n",
       "      <td>1.7</td>\n",
       "      <td>0.6</td>\n",
       "      <td>7.4</td>\n",
       "      <td>12.7</td>\n",
       "      <td>NaN</td>\n",
       "      <td>1.3</td>\n",
       "      <td>1.0</td>\n",
       "      <td>2.2</td>\n",
       "      <td>.094</td>\n",
       "      <td>NaN</td>\n",
       "      <td>-0.5</td>\n",
       "      <td>-1.7</td>\n",
       "      <td>-2.2</td>\n",
       "      <td>-0.1</td>\n",
       "      <td>48</td>\n",
       "    </tr>\n",
       "    <tr>\n",
       "      <th>1</th>\n",
       "      <td>steven adams</td>\n",
       "      <td>2014</td>\n",
       "      <td>2018</td>\n",
       "      <td>C</td>\n",
       "      <td>84</td>\n",
       "      <td>255</td>\n",
       "      <td>20-Jul-93</td>\n",
       "      <td>University of Pittsburgh</td>\n",
       "      <td>4</td>\n",
       "      <td>W</td>\n",
       "      <td>3</td>\n",
       "      <td>C</td>\n",
       "      <td>24</td>\n",
       "      <td>OKC</td>\n",
       "      <td>76</td>\n",
       "      <td>2487</td>\n",
       "      <td>20.6</td>\n",
       "      <td>.630</td>\n",
       "      <td>.003</td>\n",
       "      <td>.402</td>\n",
       "      <td>16.6</td>\n",
       "      <td>13.9</td>\n",
       "      <td>15.3</td>\n",
       "      <td>5.5</td>\n",
       "      <td>1.8</td>\n",
       "      <td>2.8</td>\n",
       "      <td>13.2</td>\n",
       "      <td>16.7</td>\n",
       "      <td>NaN</td>\n",
       "      <td>6.7</td>\n",
       "      <td>3.0</td>\n",
       "      <td>9.7</td>\n",
       "      <td>.187</td>\n",
       "      <td>NaN</td>\n",
       "      <td>2.2</td>\n",
       "      <td>1.1</td>\n",
       "      <td>3.3</td>\n",
       "      <td>3.3</td>\n",
       "      <td>48</td>\n",
       "    </tr>\n",
       "  </tbody>\n",
       "</table>\n",
       "</div>"
      ],
      "text/plain": [
       "         Player  From    To Pos_x  Ht   Wt Birth Date  \\\n",
       "0  alex abrines  2017  2018   G-F  78  190   1-Aug-93   \n",
       "1  steven adams  2014  2018     C  84  255  20-Jul-93   \n",
       "\n",
       "                   Colleges  experience Race Rk Pos_y Age   Tm   G    MP  \\\n",
       "0                       NaN           1    W  1    SG  24  OKC  75  1134   \n",
       "1  University of Pittsburgh           4    W  3     C  24  OKC  76  2487   \n",
       "\n",
       "    PER   TS%  3PAr   FTr  ORB%  DRB%  TRB% AST% STL% BLK%  TOV%  USG%  \\\n",
       "0   9.0  .567  .759  .158   2.5   8.9   5.6  3.4  1.7  0.6   7.4  12.7   \n",
       "1  20.6  .630  .003  .402  16.6  13.9  15.3  5.5  1.8  2.8  13.2  16.7   \n",
       "\n",
       "   Unnamed: 19  OWS  DWS   WS WS/48  Unnamed: 24  OBPM  DBPM   BPM  VORP  Wins  \n",
       "0          NaN  1.3  1.0  2.2  .094          NaN  -0.5  -1.7  -2.2  -0.1    48  \n",
       "1          NaN  6.7  3.0  9.7  .187          NaN   2.2   1.1   3.3   3.3    48  "
      ]
     },
     "execution_count": 175,
     "metadata": {},
     "output_type": "execute_result"
    }
   ],
   "source": [
    "demo_df = demo_df.merge(performance_df, on = 'Player').merge(team_df, on='Tm')\n",
    "demo_df.head(2)"
   ]
  },
  {
   "cell_type": "markdown",
   "metadata": {},
   "source": [
    "#### Player names for entity recognition and fuzzy matching"
   ]
  },
  {
   "cell_type": "code",
   "execution_count": 90,
   "metadata": {},
   "outputs": [],
   "source": [
    "UNIQUE_NAMES = set(demo_df.Player.unique())"
   ]
  },
  {
   "cell_type": "code",
   "execution_count": 91,
   "metadata": {},
   "outputs": [],
   "source": [
    "PLAYER_ENTITIES = set(' '.join(UNIQUE_NAMES).split()).union({'lma', 'kd', 'lbj','klove', 'drose', 'kobe', 'mj', 'magic', 'bird', 'wilt', 'chamberlain'})\n",
    "# some players have common word names; don't want to detect those as entities when lowercase, but do want to when uppercase\n",
    "UPPER_ENTITIES = {'Love', 'Smart', 'Rose', 'Black', 'White', 'Wear', 'Ball', 'Will', 'Buddy', 'Temple', 'Brown', 'Grant', 'Smart', 'Holiday', 'Stone'}\n",
    "PLAYER_ENTITIES = PLAYER_ENTITIES - {'a'} - {name.lower() for name in UPPER_ENTITIES}\n",
    "table = str.maketrans({key: None for key in string.punctuation})\n",
    "NOPUNCT_ENTITIES = {name.translate(table) for name in PLAYER_ENTITIES}\n",
    "PLAYER_ENTITIES = PLAYER_ENTITIES.union(NOPUNCT_ENTITIES)"
   ]
  },
  {
   "cell_type": "markdown",
   "metadata": {},
   "source": [
    "## Functions"
   ]
  },
  {
   "cell_type": "code",
   "execution_count": 12,
   "metadata": {},
   "outputs": [],
   "source": [
    "def create_sentiment_df(comment_df_loc: str, ner_set = set(), non_players_set = {}, sentiment_analyzer=sid,\n",
    "                        STR_COL = 'str_entities', FUZZY_COL='fuzzy_name'):\n",
    "    ''' Main function that loads a month of player comments and:\n",
    "        1. Separates comments into sentences\n",
    "        2. Performs NER either via NLTK, or using pre-existing list of entities\n",
    "        3. Calculates sentiment\n",
    "\n",
    "    parameters:\n",
    "        comment_df_loc: str for file location of gzipped player comments\n",
    "        player_df: pandas dataframe with demographic and performance info on players\n",
    "        ner_list: a list of named entities to save time for performing NER\n",
    "        year_month: string for which month this is\n",
    "    '''\n",
    "\n",
    "    # load unprocessed comments (see notebook reddit-nba-scrape for details)\n",
    "    print('Loading one month of player comments')\n",
    "    comment_df = pd.read_csv(comment_df_loc, sep = '\\t', encoding = 'utf-8')\n",
    "    \n",
    "    # get year_month\n",
    "    try:\n",
    "        comment_df['year_month'] = re.search('[0-9]{6}', comment_df_loc)[0]\n",
    "    except:\n",
    "        comment_df['year_month'] = None\n",
    "    comment_df['text_length'] = comment_df['text'].str.len()\n",
    "    print('Loaded {} comments'.format(comment_df.shape[0]))\n",
    "    \n",
    "    min_length = 20\n",
    "    max_length = 500\n",
    "    print('Filtering to comments with text_length > {} and text_length < {}'.format(min_length, max_length) )\n",
    "    comment_df = comment_df.query('text_length > {} and text_length < {}'.format(min_length, max_length) )\n",
    "    print('After filter, have {} comments'.format(comment_df.shape[0]))\n",
    "    \n",
    "    print('Chunking comments into sentences')\n",
    "    sentences_df = chunk_comments_sentences(comment_df)\n",
    "    \n",
    "    print('Extracting named entities')\n",
    "    if len(ner_set) > 0:\n",
    "        ner_df = extract_known_ner(sentences_df, ner_set)\n",
    "    else:\n",
    "        ner_df = extract_unknown_ner(sentences_df)\n",
    "        \n",
    "    print('Cleaning entities')\n",
    "    ner_df = clean_entities(ner_df, non_players_set=non_players_set)\n",
    "        \n",
    "    print('Calculating sentiment')\n",
    "    sentiment_df = calculate_sentiment(ner_df, sid)\n",
    "    \n",
    "    print('Fuzzy matching player names')\n",
    "    fuzzy_df = pd.DataFrame(sentiment_df[STR_COL].unique(), columns = [STR_COL])\n",
    "    fuzzy_df[FUZZY_COL] = fuzzy_df[STR_COL].apply(find_player)\n",
    "    sentiment_df = sentiment_df.merge(fuzzy_df, on=STR_COL)\n",
    "\n",
    "    print('Returning {} sentences with clear player name'.format(sentiment_df.shape[0]))\n",
    "\n",
    "    return ner_df, sentiment_df"
   ]
  },
  {
   "cell_type": "code",
   "execution_count": 13,
   "metadata": {},
   "outputs": [],
   "source": [
    "def chunk_comments_sentences(comment_df: pd.DataFrame, text_col = 'text'):\n",
    "    ''' Chunk comments into sentences using nltk `sent_tokenize`. Then re-joins to `comment_df` to retain other data\n",
    "        comment_df: dataframe with a column for comments that need to be chunked\n",
    "        text_col: column to be chunked\n",
    "    '''\n",
    "    \n",
    "    # actual chunking\n",
    "    print('Chunking into sentences')\n",
    "    sentences_df = (pd.DataFrame(comment_df[text_col].apply(sent_tokenize).tolist(), index=comment_df.index)\n",
    "                      .stack() )\n",
    "    \n",
    "    # rename stuff\n",
    "    sentences_df = (sentences_df.reset_index()\n",
    "                      .set_index('level_0')\n",
    "                      .rename(columns={0:'sentences'})\n",
    "                      .drop(['level_1'], axis = 1))\n",
    "    sentences_df['sentences'] = sentences_df['sentences'].str.replace('\\r|\\n', ' ')\n",
    "    \n",
    "    print('Chunked into {} sentences'.format(sentences_df.shape[0]))\n",
    "    return (comment_df.join(sentences_df)\n",
    "                      .drop(columns = [text_col]) )"
   ]
  },
  {
   "cell_type": "code",
   "execution_count": 14,
   "metadata": {},
   "outputs": [],
   "source": [
    "def extract_unknown_ner(sentences_df, SENTENCES_COL = 'sentences', NER_COL = 'named_entities', ner_port = 9199):\n",
    "    ''' Extracted named entities using Stanford's NER.\n",
    "        Requires a java server be already launched.\n",
    "        sentences_df: pandas dataframe with one column that contains non-lowercased sentences\n",
    "        SENTENCES_COL: name of column with sentences\n",
    "        NER_COL: str name of column for output\n",
    "    '''\n",
    "    \n",
    "    # filter to sentences long enough to have sentiment and player name\n",
    "    min_length = 10 # characters\n",
    "    sentences_df = sentences_df[sentences_df[SENTENCES_COL].str.len() >= min_length]\n",
    "    \n",
    "    # tag using Java\n",
    "    pos_tagger = Ner(host='localhost',port=ner_port)\n",
    "# would love to parallelize this, as it takes ~2-3 hours per year of data\n",
    "#    ddf = dd.from_pandas(sentences_df)\n",
    "    sner_entities = lambda text: [token for token, part in pos_tagger.get_entities(text ) if part in {'PERSON', 'ORGANIZATION', 'LOCATION'}]\n",
    "    sentences_df[NER_COL] = sentences_df['sentences'].apply(lambda doc: sner_entities(doc))\n",
    "    \n",
    "    return sentences_df"
   ]
  },
  {
   "cell_type": "code",
   "execution_count": 15,
   "metadata": {},
   "outputs": [],
   "source": [
    "def extract_known_ner(sentences_df: pd.DataFrame, NER_SET, UPPER_SET = {'Love', 'Smart', 'Rose'},\n",
    "                      SENTENCES_COL = 'sentences', NER_COL = 'named_entities', UPPER_COL = 'upper_entities'):\n",
    "    ''' Extract named entities from sentences, given known list of named entities (i.e. a list of players)\n",
    "    \n",
    "        ner_set: set of lower-cased named entities\n",
    "    '''\n",
    "    # First do an extraction for Love, Smart, etc.\n",
    "    upper_filter = lambda sentence: list(filter(lambda word: word.strip(string.punctuation) in UPPER_SET, sentence.split() ))\n",
    "    sentences_df[UPPER_COL] = sentences_df[SENTENCES_COL].apply(upper_filter)\n",
    "    \n",
    "    sentences_df[SENTENCES_COL] = sentences_df[SENTENCES_COL].str.lower()\n",
    "    \n",
    "    # tokenize sentence with split, and use filter to find named entities\n",
    "    ner_filter = lambda sentence: list(filter(lambda word: word.strip(string.punctuation) in NER_SET, sentence.split() ))\n",
    "    sentences_df[NER_COL] = sentences_df[SENTENCES_COL].apply(ner_filter)\n",
    "    \n",
    "    sentences_df[NER_COL] = sentences_df.apply(lambda row: row[NER_COL] + [word.lower() for word in row[UPPER_COL]], axis=1)\n",
    "    \n",
    "    return sentences_df"
   ]
  },
  {
   "cell_type": "code",
   "execution_count": 16,
   "metadata": {},
   "outputs": [],
   "source": [
    "def clean_entities(sentences_df, NER_COL = 'named_entities', STR_COL = 'str_entities', non_players_set = {}):\n",
    "    ''' Clean up the entities by\n",
    "        1. Removing known non-player entities (e.g. teams, NBA, Coaches)\n",
    "        2. Removing sentences that have 0 entities, or > 2 entities (i.e. multiple players)\n",
    "    '''\n",
    "    # clean up entities\n",
    "    sentences_df[NER_COL] = sentences_df[NER_COL].apply(lambda entities: [entity.strip(punctuation) for entity in entities])\n",
    "    sentences_df[NER_COL] = sentences_df[NER_COL].apply(lambda entities: [entity.lower() for entity in entities])\n",
    "    \n",
    "    # remove known non-player entities, and filter out rows with non-unique entities\n",
    "    sentences_df[NER_COL] = sentences_df[NER_COL].apply(lambda entities: [entity for entity in entities if entity not in non_players_set])\n",
    "    sentences_df = sentences_df[sentences_df[NER_COL].str.len() > 0] # only care if we can find entity\n",
    "    sentences_df = sentences_df[sentences_df[NER_COL].str.len() <3]\n",
    "    \n",
    "    sentences_df[STR_COL] = sentences_df[NER_COL].apply(lambda entities: ' '.join(entities))\n",
    "    \n",
    "    print('Outputting {} sentences which have 1-2 named entities'.format(sentences_df.shape[0]))\n",
    "\n",
    "    return sentences_df"
   ]
  },
  {
   "cell_type": "code",
   "execution_count": 17,
   "metadata": {},
   "outputs": [],
   "source": [
    "def calculate_sentiment(sentences_df, sentiment_analyzer, SENTENCES_COL = 'sentences'):\n",
    "    ''' Calculate sentiment of a sentence, probably using Vader\n",
    "    '''\n",
    "\n",
    "    # reset index to allow join to occur propoerly\n",
    "    sentences_df = sentences_df.reset_index(drop=True)\n",
    "    \n",
    "    intermediate_df = sentences_df[SENTENCES_COL].apply(lambda sentence: sentiment_analyzer.polarity_scores(sentence) )\n",
    "    sentiment_df = pd.DataFrame.from_dict(intermediate_df.tolist())\n",
    "    sentences_df = sentences_df.join(sentiment_df)\n",
    "    \n",
    "    return sentences_df"
   ]
  },
  {
   "cell_type": "code",
   "execution_count": 18,
   "metadata": {},
   "outputs": [],
   "source": [
    "def find_player( potential_name, unique_names = UNIQUE_NAMES):\n",
    "    names = fuzzy_process.extractBests(potential_name, unique_names, score_cutoff=87) # 87 means that \"klay kd\" matches nothing, but \"curry\" matches \"stephen curry\"\n",
    "    \n",
    "    if (len(names) > 1 and names[0][1] == names[1][1]) or len(names) == 0:\n",
    "    # no clear match, return 'unclear match'\n",
    "        return 'unclear'\n",
    "    # only one similar, or clear top similar\n",
    "    return names[0][0]"
   ]
  },
  {
   "cell_type": "markdown",
   "metadata": {},
   "source": [
    "## Load data\n",
    "### Reddit\n",
    "#### 2017 season"
   ]
  },
  {
   "cell_type": "code",
   "execution_count": null,
   "metadata": {},
   "outputs": [],
   "source": [
    "%%time\n",
    "#_, oct_df = create_sentiment_df('data/201710-comments_submissions.tsv.gz', ner_set=PLAYER_ENTITIES)\n",
    "#_, nov_df = create_sentiment_df('data/201711-comments_submissions.tsv.gz', ner_set=PLAYER_ENTITIES)\n",
    "#_, dec_df = create_sentiment_df('data/201712-comments_submissions.tsv.gz', ner_set=PLAYER_ENTITIES)\n",
    "_, jan_df = create_sentiment_df('data/201801-comments_submissions.tsv.gz', ner_set=PLAYER_ENTITIES)\n",
    "_, feb_df = create_sentiment_df('data/201802-comments_submissions.tsv.gz', ner_set=PLAYER_ENTITIES)\n",
    "_, mar_df = create_sentiment_df('data/201803-comments_submissions.tsv.gz', ner_set=PLAYER_ENTITIES)\n",
    "_, apr_df = create_sentiment_df('data/201804-comments_submissions.tsv.gz', ner_set=PLAYER_ENTITIES)\n",
    "_, may_df = create_sentiment_df('data/201805-comments_submissions.tsv.gz', ner_set=PLAYER_ENTITIES)"
   ]
  },
  {
   "cell_type": "code",
   "execution_count": 144,
   "metadata": {},
   "outputs": [
    {
     "name": "stderr",
     "output_type": "stream",
     "text": [
      "C:\\ProgramData\\Anaconda3\\lib\\site-packages\\ipykernel_launcher.py:1: FutureWarning: Sorting because non-concatenation axis is not aligned. A future version\n",
      "of pandas will change to not sort by default.\n",
      "\n",
      "To accept the future behavior, pass 'sort=True'.\n",
      "\n",
      "To retain the current behavior and silence the warning, pass sort=False\n",
      "\n",
      "  \"\"\"Entry point for launching an IPython kernel.\n"
     ]
    },
    {
     "data": {
      "text/plain": [
       "(1312264, 17)"
      ]
     },
     "execution_count": 144,
     "metadata": {},
     "output_type": "execute_result"
    }
   ],
   "source": [
    "nba2017_df = pd.concat([oct_df, nov_df, dec_df, jan_df, feb_df, mar_df, apr_df, may_df])\n",
    "nba2017_df.shape"
   ]
  },
  {
   "cell_type": "code",
   "execution_count": 145,
   "metadata": {},
   "outputs": [],
   "source": [
    "nba2017_df.to_csv('data/combined_months_ner_sentiment_2017.tsv', sep='\\t',\n",
    "               index=False, encoding = 'utf-8')"
   ]
  },
  {
   "cell_type": "markdown",
   "metadata": {},
   "source": [
    "#### 2016 season"
   ]
  },
  {
   "cell_type": "code",
   "execution_count": null,
   "metadata": {},
   "outputs": [],
   "source": [
    "%%time\n",
    "_, oct_df = create_sentiment_df('data/201610-comments_submissions.tsv', ner_set=PLAYER_ENTITIES)\n",
    "_, nov_df = create_sentiment_df('data/201611-comments_submissions.tsv', ner_set=PLAYER_ENTITIES)\n",
    "_, dec_df = create_sentiment_df('data/201612-comments_submissions.tsv', ner_set=PLAYER_ENTITIES)\n",
    "_, jan_df = create_sentiment_df('data/201701-comments_submissions.tsv', ner_set=PLAYER_ENTITIES)\n",
    "_, feb_df = create_sentiment_df('data/201702-comments_submissions.tsv.gz', ner_set=PLAYER_ENTITIES)\n",
    "_, mar_df = create_sentiment_df('data/201703-comments_submissions.tsv.gz', ner_set=PLAYER_ENTITIES)\n",
    "_, apr_df = create_sentiment_df('data/201704-comments_submissions.tsv.gz', ner_set=PLAYER_ENTITIES)\n",
    "_, may_df = create_sentiment_df('data/201705-comments_submissions.tsv.gz', ner_set=PLAYER_ENTITIES)"
   ]
  },
  {
   "cell_type": "code",
   "execution_count": 147,
   "metadata": {},
   "outputs": [
    {
     "data": {
      "text/plain": [
       "(888935, 16)"
      ]
     },
     "execution_count": 147,
     "metadata": {},
     "output_type": "execute_result"
    }
   ],
   "source": [
    "nba2016_df = pd.concat([oct_df, nov_df, dec_df, jan_df, feb_df, mar_df, apr_df, may_df])\n",
    "nba2016_df.shape"
   ]
  },
  {
   "cell_type": "code",
   "execution_count": 148,
   "metadata": {},
   "outputs": [],
   "source": [
    "nba2016_df.to_csv('data/combined_months_ner_sentiment_2016.tsv', sep='\\t',\n",
    "               index=False, encoding = 'utf-8')"
   ]
  },
  {
   "cell_type": "markdown",
   "metadata": {},
   "source": [
    "#### Save / load"
   ]
  },
  {
   "cell_type": "code",
   "execution_count": 19,
   "metadata": {},
   "outputs": [
    {
     "name": "stderr",
     "output_type": "stream",
     "text": [
      "C:\\ProgramData\\Anaconda3\\lib\\site-packages\\IPython\\core\\interactiveshell.py:2785: DtypeWarning: Columns (1,2,4) have mixed types. Specify dtype option on import or set low_memory=False.\n",
      "  interactivity=interactivity, compiler=compiler, result=result)\n",
      "C:\\ProgramData\\Anaconda3\\lib\\site-packages\\IPython\\core\\interactiveshell.py:2785: DtypeWarning: Columns (2) have mixed types. Specify dtype option on import or set low_memory=False.\n",
      "  interactivity=interactivity, compiler=compiler, result=result)\n"
     ]
    }
   ],
   "source": [
    "nba2016_df = pd.read_csv('data/combined_months_ner_sentiment_2016.tsv',sep='\\t', encoding = 'utf-8')\n",
    "nba2016_df['named_entities'] = nba2016_df['named_entities'].apply(literal_eval)\n",
    "nba2017_df = pd.read_csv('data/combined_months_ner_sentiment_2017.tsv',sep='\\t', encoding = 'utf-8').drop(columns='Unnamed: 0')\n",
    "nba2017_df['named_entities'] = nba2017_df['named_entities'].apply(literal_eval)"
   ]
  },
  {
   "cell_type": "markdown",
   "metadata": {},
   "source": [
    "#### Cleaning up name matches\n",
    "Some extracted name entities don't have a clear match (e.g. \"Rivers\" could be Austin Rivers or Doc Rivers). Here we clean those out"
   ]
  },
  {
   "cell_type": "code",
   "execution_count": 23,
   "metadata": {},
   "outputs": [],
   "source": [
    "name_map = {name:'unclear' for name in ['rivers', 'bird', 'draymond sessions', 'jalen jalen', 'brown markelle', 'kyrie korver', 'kyrie singler',\n",
    "                    'wade drummond', 'kyrie anderson', 'kyle irving', 'kyle ingles', 'kyle turner', 'kyle turner', 'jabari maker',\n",
    "                    'walton walton', 'nene kanter', 'courtney love', 'george will', 'charles charles', 'jason aaron', 'lebron jae',\n",
    "                    'sterling lebron', 'bobby lebron', 'damien', 'cleveland', 'cleveland cleveland', 'ben ben', 'martin', \"o'bryant\",\n",
    "                                       'sam sam']}\n",
    "name_map.update({'giannis':'giannis antetokounmpo',\n",
    "                'kd':'kevin durant',\n",
    "                 'lbj':'lebron james',\n",
    "                 'lma':'lamarcus aldridge'})"
   ]
  },
  {
   "cell_type": "code",
   "execution_count": 24,
   "metadata": {},
   "outputs": [
    {
     "name": "stdout",
     "output_type": "stream",
     "text": [
      "Wall time: 40.5 s\n"
     ]
    }
   ],
   "source": [
    "%%time\n",
    "nba2017_df['fuzzy_name'] = nba2017_df.apply(lambda row: name_map[row['str_entities']] if row['str_entities'] in name_map else row['fuzzy_name'], axis=1)\n",
    "nba2016_df['fuzzy_name'] = nba2016_df.apply(lambda row: name_map[row['str_entities']] if row['str_entities'] in name_map else row['fuzzy_name'], axis=1)"
   ]
  },
  {
   "cell_type": "markdown",
   "metadata": {},
   "source": [
    "Remove players whose names have implicit sentiment"
   ]
  },
  {
   "cell_type": "code",
   "execution_count": 25,
   "metadata": {},
   "outputs": [],
   "source": [
    "senti_players = ['jerian grant', 'jerami grant', 'marcus smart', 'justin holiday','jrue holiday', 'kevin love', 'derrick favors']\n",
    "nba2017_df = nba2017_df[nba2017_df['fuzzy_name'].apply(lambda row: row not in senti_players)]\n",
    "nba2016_df = nba2016_df[nba2016_df['fuzzy_name'].apply(lambda row: row not in senti_players)]"
   ]
  },
  {
   "cell_type": "code",
   "execution_count": 26,
   "metadata": {},
   "outputs": [
    {
     "data": {
      "text/plain": [
       "(758386, 16)"
      ]
     },
     "execution_count": 26,
     "metadata": {},
     "output_type": "execute_result"
    }
   ],
   "source": [
    "match_df = nba2017_df.query('fuzzy_name != \"unclear\"')\n",
    "match_df.shape"
   ]
  },
  {
   "cell_type": "code",
   "execution_count": 27,
   "metadata": {},
   "outputs": [
    {
     "data": {
      "text/html": [
       "<div>\n",
       "<style scoped>\n",
       "    .dataframe tbody tr th:only-of-type {\n",
       "        vertical-align: middle;\n",
       "    }\n",
       "\n",
       "    .dataframe tbody tr th {\n",
       "        vertical-align: top;\n",
       "    }\n",
       "\n",
       "    .dataframe thead th {\n",
       "        text-align: right;\n",
       "    }\n",
       "</style>\n",
       "<table border=\"1\" class=\"dataframe\">\n",
       "  <thead>\n",
       "    <tr style=\"text-align: right;\">\n",
       "      <th></th>\n",
       "      <th>fuzzy_name</th>\n",
       "      <th>user</th>\n",
       "      <th>compound_mean</th>\n",
       "      <th>compound_std</th>\n",
       "      <th>comment_count</th>\n",
       "    </tr>\n",
       "  </thead>\n",
       "  <tbody>\n",
       "    <tr>\n",
       "      <th>0</th>\n",
       "      <td>aaron brooks</td>\n",
       "      <td>666mafioso</td>\n",
       "      <td>0.6705</td>\n",
       "      <td>NaN</td>\n",
       "      <td>1</td>\n",
       "    </tr>\n",
       "    <tr>\n",
       "      <th>1</th>\n",
       "      <td>aaron brooks</td>\n",
       "      <td>76Answers</td>\n",
       "      <td>0.4927</td>\n",
       "      <td>NaN</td>\n",
       "      <td>1</td>\n",
       "    </tr>\n",
       "  </tbody>\n",
       "</table>\n",
       "</div>"
      ],
      "text/plain": [
       "     fuzzy_name        user  compound_mean  compound_std  comment_count\n",
       "0  aaron brooks  666mafioso         0.6705           NaN              1\n",
       "1  aaron brooks   76Answers         0.4927           NaN              1"
      ]
     },
     "execution_count": 27,
     "metadata": {},
     "output_type": "execute_result"
    }
   ],
   "source": [
    "user_player_sentiment_df = match_df.groupby(['fuzzy_name', 'user']).agg({'compound':['mean', 'std', 'count']}).reset_index()\n",
    "user_player_sentiment_df.columns = ['fuzzy_name', 'user', 'compound_mean', 'compound_std', 'comment_count']\n",
    "user_player_sentiment_df.head(2)"
   ]
  },
  {
   "cell_type": "code",
   "execution_count": 28,
   "metadata": {},
   "outputs": [],
   "source": [
    "player_sentiment_df = (user_player_sentiment_df.query('compound_mean != 0')\n",
    "                                               .groupby('fuzzy_name')\n",
    "                                               .agg({'compound_mean':['mean', 'std', 'count']})\n",
    "                                               .reset_index() )\n",
    "player_sentiment_df.columns = ['fuzzy_name', 'compound_mean_mean', 'compound_mean_std', 'user_count']"
   ]
  },
  {
   "cell_type": "markdown",
   "metadata": {},
   "source": [
    "### Exploration of sentiment alone"
   ]
  },
  {
   "cell_type": "code",
   "execution_count": 29,
   "metadata": {},
   "outputs": [
    {
     "data": {
      "text/plain": [
       "[<matplotlib.lines.Line2D at 0x19edd9c3128>]"
      ]
     },
     "execution_count": 29,
     "metadata": {},
     "output_type": "execute_result"
    },
    {
     "data": {
      "image/png": "[encoded data removed]",
      "text/plain": [
       "<Figure size 432x288 with 1 Axes>"
      ]
     },
     "metadata": {},
     "output_type": "display_data"
    }
   ],
   "source": [
    "player_sentiment_df.query('user_count> 50').plot('user_count', 'compound_mean_mean', kind='scatter')\n",
    "plt.plot([100, 100], [-0.1, 0.3])"
   ]
  },
  {
   "cell_type": "markdown",
   "metadata": {},
   "source": [
    "#### Most commented players"
   ]
  },
  {
   "cell_type": "code",
   "execution_count": 30,
   "metadata": {},
   "outputs": [
    {
     "data": {
      "text/html": [
       "<div>\n",
       "<style scoped>\n",
       "    .dataframe tbody tr th:only-of-type {\n",
       "        vertical-align: middle;\n",
       "    }\n",
       "\n",
       "    .dataframe tbody tr th {\n",
       "        vertical-align: top;\n",
       "    }\n",
       "\n",
       "    .dataframe thead th {\n",
       "        text-align: right;\n",
       "    }\n",
       "</style>\n",
       "<table border=\"1\" class=\"dataframe\">\n",
       "  <thead>\n",
       "    <tr style=\"text-align: right;\">\n",
       "      <th></th>\n",
       "      <th>fuzzy_name</th>\n",
       "      <th>compound_mean_mean</th>\n",
       "      <th>compound_mean_std</th>\n",
       "      <th>user_count</th>\n",
       "    </tr>\n",
       "  </thead>\n",
       "  <tbody>\n",
       "    <tr>\n",
       "      <th>316</th>\n",
       "      <td>lebron james</td>\n",
       "      <td>0.128983</td>\n",
       "      <td>0.344258</td>\n",
       "      <td>20887</td>\n",
       "    </tr>\n",
       "    <tr>\n",
       "      <th>292</th>\n",
       "      <td>kevin durant</td>\n",
       "      <td>0.105746</td>\n",
       "      <td>0.379737</td>\n",
       "      <td>10575</td>\n",
       "    </tr>\n",
       "    <tr>\n",
       "      <th>212</th>\n",
       "      <td>james harden</td>\n",
       "      <td>0.101097</td>\n",
       "      <td>0.374204</td>\n",
       "      <td>9357</td>\n",
       "    </tr>\n",
       "    <tr>\n",
       "      <th>455</th>\n",
       "      <td>stephen curry</td>\n",
       "      <td>0.144980</td>\n",
       "      <td>0.371942</td>\n",
       "      <td>7281</td>\n",
       "    </tr>\n",
       "    <tr>\n",
       "      <th>308</th>\n",
       "      <td>kyrie irving</td>\n",
       "      <td>0.135729</td>\n",
       "      <td>0.378417</td>\n",
       "      <td>6983</td>\n",
       "    </tr>\n",
       "  </tbody>\n",
       "</table>\n",
       "</div>"
      ],
      "text/plain": [
       "        fuzzy_name  compound_mean_mean  compound_mean_std  user_count\n",
       "316   lebron james            0.128983           0.344258       20887\n",
       "292   kevin durant            0.105746           0.379737       10575\n",
       "212   james harden            0.101097           0.374204        9357\n",
       "455  stephen curry            0.144980           0.371942        7281\n",
       "308   kyrie irving            0.135729           0.378417        6983"
      ]
     },
     "execution_count": 30,
     "metadata": {},
     "output_type": "execute_result"
    }
   ],
   "source": [
    "player_sentiment_df.sort_values('user_count', ascending=False).head()"
   ]
  },
  {
   "cell_type": "markdown",
   "metadata": {},
   "source": [
    "#### Players with lowest sentiment"
   ]
  },
  {
   "cell_type": "code",
   "execution_count": 31,
   "metadata": {},
   "outputs": [
    {
     "data": {
      "text/html": [
       "<div>\n",
       "<style scoped>\n",
       "    .dataframe tbody tr th:only-of-type {\n",
       "        vertical-align: middle;\n",
       "    }\n",
       "\n",
       "    .dataframe tbody tr th {\n",
       "        vertical-align: top;\n",
       "    }\n",
       "\n",
       "    .dataframe thead th {\n",
       "        text-align: right;\n",
       "    }\n",
       "</style>\n",
       "<table border=\"1\" class=\"dataframe\">\n",
       "  <thead>\n",
       "    <tr style=\"text-align: right;\">\n",
       "      <th></th>\n",
       "      <th>fuzzy_name</th>\n",
       "      <th>compound_mean_mean</th>\n",
       "      <th>compound_mean_std</th>\n",
       "      <th>user_count</th>\n",
       "    </tr>\n",
       "  </thead>\n",
       "  <tbody>\n",
       "    <tr>\n",
       "      <th>456</th>\n",
       "      <td>sterling brown</td>\n",
       "      <td>-0.108161</td>\n",
       "      <td>0.452348</td>\n",
       "      <td>415</td>\n",
       "    </tr>\n",
       "    <tr>\n",
       "      <th>33</th>\n",
       "      <td>arron afflalo</td>\n",
       "      <td>-0.088347</td>\n",
       "      <td>0.462434</td>\n",
       "      <td>149</td>\n",
       "    </tr>\n",
       "    <tr>\n",
       "      <th>438</th>\n",
       "      <td>salah mejri</td>\n",
       "      <td>-0.041684</td>\n",
       "      <td>0.467865</td>\n",
       "      <td>309</td>\n",
       "    </tr>\n",
       "    <tr>\n",
       "      <th>527</th>\n",
       "      <td>zaza pachulia</td>\n",
       "      <td>-0.037957</td>\n",
       "      <td>0.428695</td>\n",
       "      <td>2041</td>\n",
       "    </tr>\n",
       "    <tr>\n",
       "      <th>232</th>\n",
       "      <td>jeff teague</td>\n",
       "      <td>-0.028511</td>\n",
       "      <td>0.465854</td>\n",
       "      <td>215</td>\n",
       "    </tr>\n",
       "  </tbody>\n",
       "</table>\n",
       "</div>"
      ],
      "text/plain": [
       "         fuzzy_name  compound_mean_mean  compound_mean_std  user_count\n",
       "456  sterling brown           -0.108161           0.452348         415\n",
       "33    arron afflalo           -0.088347           0.462434         149\n",
       "438     salah mejri           -0.041684           0.467865         309\n",
       "527   zaza pachulia           -0.037957           0.428695        2041\n",
       "232     jeff teague           -0.028511           0.465854         215"
      ]
     },
     "execution_count": 31,
     "metadata": {},
     "output_type": "execute_result"
    }
   ],
   "source": [
    "player_sentiment_df.query('user_count > 100').sort_values('compound_mean_mean').head()"
   ]
  },
  {
   "cell_type": "markdown",
   "metadata": {},
   "source": [
    "#### Players with highest sentiment"
   ]
  },
  {
   "cell_type": "code",
   "execution_count": 32,
   "metadata": {},
   "outputs": [
    {
     "data": {
      "text/html": [
       "<div>\n",
       "<style scoped>\n",
       "    .dataframe tbody tr th:only-of-type {\n",
       "        vertical-align: middle;\n",
       "    }\n",
       "\n",
       "    .dataframe tbody tr th {\n",
       "        vertical-align: top;\n",
       "    }\n",
       "\n",
       "    .dataframe thead th {\n",
       "        text-align: right;\n",
       "    }\n",
       "</style>\n",
       "<table border=\"1\" class=\"dataframe\">\n",
       "  <thead>\n",
       "    <tr style=\"text-align: right;\">\n",
       "      <th></th>\n",
       "      <th>fuzzy_name</th>\n",
       "      <th>compound_mean_mean</th>\n",
       "      <th>compound_mean_std</th>\n",
       "      <th>user_count</th>\n",
       "    </tr>\n",
       "  </thead>\n",
       "  <tbody>\n",
       "    <tr>\n",
       "      <th>75</th>\n",
       "      <td>cole aldrich</td>\n",
       "      <td>0.251906</td>\n",
       "      <td>0.384975</td>\n",
       "      <td>211</td>\n",
       "    </tr>\n",
       "    <tr>\n",
       "      <th>392</th>\n",
       "      <td>og anunoby</td>\n",
       "      <td>0.252034</td>\n",
       "      <td>0.375970</td>\n",
       "      <td>142</td>\n",
       "    </tr>\n",
       "    <tr>\n",
       "      <th>325</th>\n",
       "      <td>luke kennard</td>\n",
       "      <td>0.257164</td>\n",
       "      <td>0.391741</td>\n",
       "      <td>220</td>\n",
       "    </tr>\n",
       "    <tr>\n",
       "      <th>143</th>\n",
       "      <td>ed davis</td>\n",
       "      <td>0.257536</td>\n",
       "      <td>0.370421</td>\n",
       "      <td>135</td>\n",
       "    </tr>\n",
       "    <tr>\n",
       "      <th>202</th>\n",
       "      <td>jakarr sampson</td>\n",
       "      <td>0.261270</td>\n",
       "      <td>0.362963</td>\n",
       "      <td>129</td>\n",
       "    </tr>\n",
       "  </tbody>\n",
       "</table>\n",
       "</div>"
      ],
      "text/plain": [
       "         fuzzy_name  compound_mean_mean  compound_mean_std  user_count\n",
       "75     cole aldrich            0.251906           0.384975         211\n",
       "392      og anunoby            0.252034           0.375970         142\n",
       "325    luke kennard            0.257164           0.391741         220\n",
       "143        ed davis            0.257536           0.370421         135\n",
       "202  jakarr sampson            0.261270           0.362963         129"
      ]
     },
     "execution_count": 32,
     "metadata": {},
     "output_type": "execute_result"
    }
   ],
   "source": [
    "player_sentiment_df.query('user_count > 100').sort_values('compound_mean_mean').tail(5)"
   ]
  },
  {
   "cell_type": "markdown",
   "metadata": {},
   "source": [
    "#### Players with highest std of sentiment"
   ]
  },
  {
   "cell_type": "code",
   "execution_count": 33,
   "metadata": {},
   "outputs": [
    {
     "data": {
      "text/html": [
       "<div>\n",
       "<style scoped>\n",
       "    .dataframe tbody tr th:only-of-type {\n",
       "        vertical-align: middle;\n",
       "    }\n",
       "\n",
       "    .dataframe tbody tr th {\n",
       "        vertical-align: top;\n",
       "    }\n",
       "\n",
       "    .dataframe thead th {\n",
       "        text-align: right;\n",
       "    }\n",
       "</style>\n",
       "<table border=\"1\" class=\"dataframe\">\n",
       "  <thead>\n",
       "    <tr style=\"text-align: right;\">\n",
       "      <th></th>\n",
       "      <th>fuzzy_name</th>\n",
       "      <th>compound_mean_mean</th>\n",
       "      <th>compound_mean_std</th>\n",
       "      <th>user_count</th>\n",
       "    </tr>\n",
       "  </thead>\n",
       "  <tbody>\n",
       "    <tr>\n",
       "      <th>124</th>\n",
       "      <td>devin harris</td>\n",
       "      <td>0.086920</td>\n",
       "      <td>0.469380</td>\n",
       "      <td>124</td>\n",
       "    </tr>\n",
       "    <tr>\n",
       "      <th>7</th>\n",
       "      <td>al jefferson</td>\n",
       "      <td>0.138065</td>\n",
       "      <td>0.473258</td>\n",
       "      <td>198</td>\n",
       "    </tr>\n",
       "    <tr>\n",
       "      <th>116</th>\n",
       "      <td>dennis schroder</td>\n",
       "      <td>0.057185</td>\n",
       "      <td>0.473741</td>\n",
       "      <td>201</td>\n",
       "    </tr>\n",
       "    <tr>\n",
       "      <th>275</th>\n",
       "      <td>julyan stone</td>\n",
       "      <td>0.087713</td>\n",
       "      <td>0.480701</td>\n",
       "      <td>315</td>\n",
       "    </tr>\n",
       "    <tr>\n",
       "      <th>253</th>\n",
       "      <td>johnny o'bryant</td>\n",
       "      <td>0.038065</td>\n",
       "      <td>0.485995</td>\n",
       "      <td>111</td>\n",
       "    </tr>\n",
       "  </tbody>\n",
       "</table>\n",
       "</div>"
      ],
      "text/plain": [
       "          fuzzy_name  compound_mean_mean  compound_mean_std  user_count\n",
       "124     devin harris            0.086920           0.469380         124\n",
       "7       al jefferson            0.138065           0.473258         198\n",
       "116  dennis schroder            0.057185           0.473741         201\n",
       "275     julyan stone            0.087713           0.480701         315\n",
       "253  johnny o'bryant            0.038065           0.485995         111"
      ]
     },
     "execution_count": 33,
     "metadata": {},
     "output_type": "execute_result"
    }
   ],
   "source": [
    "player_sentiment_df.query('user_count > 100').sort_values('compound_mean_std').tail(5)"
   ]
  },
  {
   "cell_type": "markdown",
   "metadata": {},
   "source": [
    "#### Join player sentiment to performance and demographics\n",
    "Include only players with at least 100 comments to avoid fitting noise"
   ]
  },
  {
   "cell_type": "code",
   "execution_count": 216,
   "metadata": {},
   "outputs": [],
   "source": [
    "join_df = (player_sentiment_df.query('user_count > 100')\n",
    "                         .merge(demo_df, left_on = 'fuzzy_name', right_on = 'Player')\n",
    "                          .drop(columns=['Unnamed: 19', 'Unnamed: 24']))\n",
    "join_df['PER'] = pd.to_numeric(join_df['PER'])\n",
    "join_df['Age'] = pd.to_numeric(join_df['Age'])\n",
    "join_df['Wt'] = pd.to_numeric(join_df['Wt'])"
   ]
  },
  {
   "cell_type": "markdown",
   "metadata": {},
   "source": [
    "### Explore demographics relationship with sentiment"
   ]
  },
  {
   "cell_type": "code",
   "execution_count": 217,
   "metadata": {},
   "outputs": [
    {
     "data": {
      "image/png": "[encoded data removed]",
      "text/plain": [
       "<Figure size 432x288 with 1 Axes>"
      ]
     },
     "metadata": {},
     "output_type": "display_data"
    }
   ],
   "source": [
    "plt.plot(join_df['PER'].values, join_df['compound_mean_mean'].values, '.',alpha= 0.2);\n",
    "plt.xlabel('PER')\n",
    "plt.ylabel('Mean sentiment');"
   ]
  },
  {
   "cell_type": "code",
   "execution_count": 218,
   "metadata": {},
   "outputs": [
    {
     "data": {
      "text/html": [
       "<div>\n",
       "<style scoped>\n",
       "    .dataframe tbody tr th:only-of-type {\n",
       "        vertical-align: middle;\n",
       "    }\n",
       "\n",
       "    .dataframe tbody tr th {\n",
       "        vertical-align: top;\n",
       "    }\n",
       "\n",
       "    .dataframe thead th {\n",
       "        text-align: right;\n",
       "    }\n",
       "</style>\n",
       "<table border=\"1\" class=\"dataframe\">\n",
       "  <thead>\n",
       "    <tr style=\"text-align: right;\">\n",
       "      <th></th>\n",
       "      <th>compound_mean_mean</th>\n",
       "      <th>compound_mean_std</th>\n",
       "      <th>user_count</th>\n",
       "      <th>From</th>\n",
       "      <th>To</th>\n",
       "      <th>Ht</th>\n",
       "      <th>Wt</th>\n",
       "      <th>experience</th>\n",
       "      <th>Age</th>\n",
       "      <th>PER</th>\n",
       "      <th>Wins</th>\n",
       "    </tr>\n",
       "    <tr>\n",
       "      <th>Race</th>\n",
       "      <th></th>\n",
       "      <th></th>\n",
       "      <th></th>\n",
       "      <th></th>\n",
       "      <th></th>\n",
       "      <th></th>\n",
       "      <th></th>\n",
       "      <th></th>\n",
       "      <th></th>\n",
       "      <th></th>\n",
       "      <th></th>\n",
       "    </tr>\n",
       "  </thead>\n",
       "  <tbody>\n",
       "    <tr>\n",
       "      <th>A</th>\n",
       "      <td>0.135601</td>\n",
       "      <td>0.430314</td>\n",
       "      <td>264.500000</td>\n",
       "      <td>2014.500000</td>\n",
       "      <td>2018.0</td>\n",
       "      <td>80.000000</td>\n",
       "      <td>205.000000</td>\n",
       "      <td>3.500000</td>\n",
       "      <td>25.500000</td>\n",
       "      <td>8.900000</td>\n",
       "      <td>46.500000</td>\n",
       "    </tr>\n",
       "    <tr>\n",
       "      <th>B</th>\n",
       "      <td>0.141663</td>\n",
       "      <td>0.416854</td>\n",
       "      <td>886.864078</td>\n",
       "      <td>2012.325243</td>\n",
       "      <td>2018.0</td>\n",
       "      <td>78.500000</td>\n",
       "      <td>216.553398</td>\n",
       "      <td>5.674757</td>\n",
       "      <td>26.665049</td>\n",
       "      <td>14.268932</td>\n",
       "      <td>42.432039</td>\n",
       "    </tr>\n",
       "    <tr>\n",
       "      <th>M</th>\n",
       "      <td>0.158856</td>\n",
       "      <td>0.412566</td>\n",
       "      <td>2074.625000</td>\n",
       "      <td>2011.875000</td>\n",
       "      <td>2018.0</td>\n",
       "      <td>77.750000</td>\n",
       "      <td>208.125000</td>\n",
       "      <td>6.125000</td>\n",
       "      <td>26.750000</td>\n",
       "      <td>17.200000</td>\n",
       "      <td>45.375000</td>\n",
       "    </tr>\n",
       "    <tr>\n",
       "      <th>R</th>\n",
       "      <td>0.015353</td>\n",
       "      <td>0.439793</td>\n",
       "      <td>243.500000</td>\n",
       "      <td>2017.000000</td>\n",
       "      <td>2018.0</td>\n",
       "      <td>81.500000</td>\n",
       "      <td>237.500000</td>\n",
       "      <td>1.000000</td>\n",
       "      <td>27.500000</td>\n",
       "      <td>11.450000</td>\n",
       "      <td>39.500000</td>\n",
       "    </tr>\n",
       "    <tr>\n",
       "      <th>W</th>\n",
       "      <td>0.150787</td>\n",
       "      <td>0.410883</td>\n",
       "      <td>619.770492</td>\n",
       "      <td>2013.049180</td>\n",
       "      <td>2018.0</td>\n",
       "      <td>81.196721</td>\n",
       "      <td>229.000000</td>\n",
       "      <td>4.950820</td>\n",
       "      <td>26.901639</td>\n",
       "      <td>14.570492</td>\n",
       "      <td>43.475410</td>\n",
       "    </tr>\n",
       "  </tbody>\n",
       "</table>\n",
       "</div>"
      ],
      "text/plain": [
       "      compound_mean_mean  compound_mean_std   user_count         From      To  \\\n",
       "Race                                                                            \n",
       "A               0.135601           0.430314   264.500000  2014.500000  2018.0   \n",
       "B               0.141663           0.416854   886.864078  2012.325243  2018.0   \n",
       "M               0.158856           0.412566  2074.625000  2011.875000  2018.0   \n",
       "R               0.015353           0.439793   243.500000  2017.000000  2018.0   \n",
       "W               0.150787           0.410883   619.770492  2013.049180  2018.0   \n",
       "\n",
       "             Ht          Wt  experience        Age        PER       Wins  \n",
       "Race                                                                      \n",
       "A     80.000000  205.000000    3.500000  25.500000   8.900000  46.500000  \n",
       "B     78.500000  216.553398    5.674757  26.665049  14.268932  42.432039  \n",
       "M     77.750000  208.125000    6.125000  26.750000  17.200000  45.375000  \n",
       "R     81.500000  237.500000    1.000000  27.500000  11.450000  39.500000  \n",
       "W     81.196721  229.000000    4.950820  26.901639  14.570492  43.475410  "
      ]
     },
     "execution_count": 218,
     "metadata": {},
     "output_type": "execute_result"
    }
   ],
   "source": [
    "join_df.groupby('Race').mean()"
   ]
  },
  {
   "cell_type": "markdown",
   "metadata": {},
   "source": [
    "#### Age / experience"
   ]
  },
  {
   "cell_type": "code",
   "execution_count": 219,
   "metadata": {},
   "outputs": [
    {
     "data": {
      "image/png": "[encoded data removed]",
      "text/plain": [
       "<Figure size 864x288 with 2 Axes>"
      ]
     },
     "metadata": {},
     "output_type": "display_data"
    }
   ],
   "source": [
    "fig, (ax1, ax2) = plt.subplots(1,2, figsize = [12, 4], sharey=True)\n",
    "join_df.groupby('Age').mean().reset_index().plot('Age', 'compound_mean_mean', ax = ax1);\n",
    "join_df.groupby('experience').mean().reset_index().plot('experience', 'compound_mean_mean', ax = ax2);"
   ]
  },
  {
   "cell_type": "code",
   "execution_count": 220,
   "metadata": {},
   "outputs": [],
   "source": [
    "join_df['youth'] = (join_df['Age'].mean() - join_df['Age']).clip(0)\n",
    "join_df['oldness'] = (join_df['Age'] - join_df['Age'].mean()).clip(0)"
   ]
  },
  {
   "cell_type": "markdown",
   "metadata": {},
   "source": [
    "#### Height"
   ]
  },
  {
   "cell_type": "code",
   "execution_count": 221,
   "metadata": {},
   "outputs": [
    {
     "data": {
      "image/png": "[encoded data removed]",
      "text/plain": [
       "<Figure size 432x288 with 1 Axes>"
      ]
     },
     "metadata": {},
     "output_type": "display_data"
    }
   ],
   "source": [
    "join_df.groupby('Ht').mean().reset_index().plot('Ht', 'compound_mean_mean');\n",
    "plt.xticks(range(68,90,1) );"
   ]
  },
  {
   "cell_type": "code",
   "execution_count": 222,
   "metadata": {},
   "outputs": [],
   "source": [
    "join_df['height_dummies'] = pd.cut(join_df['Ht'], [0, 72, 79, 100], labels = ['short', 'medium', 'tall'])"
   ]
  },
  {
   "cell_type": "markdown",
   "metadata": {},
   "source": [
    "### Team and position"
   ]
  },
  {
   "cell_type": "code",
   "execution_count": 223,
   "metadata": {},
   "outputs": [
    {
     "data": {
      "image/png": "[encoded data removed]",
      "text/plain": [
       "<Figure size 864x288 with 2 Axes>"
      ]
     },
     "metadata": {},
     "output_type": "display_data"
    }
   ],
   "source": [
    "fig, (ax1, ax2) = plt.subplots(1,2, figsize = [12, 4], sharey=True)\n",
    "join_df.groupby('Tm').mean().reset_index().plot('Tm', 'compound_mean_mean', ax = ax1);\n",
    "join_df.groupby('Pos_y').mean().reset_index().plot('Pos_y', 'compound_mean_mean', ax = ax2);"
   ]
  },
  {
   "cell_type": "code",
   "execution_count": 224,
   "metadata": {},
   "outputs": [
    {
     "data": {
      "text/html": [
       "<div>\n",
       "<style scoped>\n",
       "    .dataframe tbody tr th:only-of-type {\n",
       "        vertical-align: middle;\n",
       "    }\n",
       "\n",
       "    .dataframe tbody tr th {\n",
       "        vertical-align: top;\n",
       "    }\n",
       "\n",
       "    .dataframe thead th {\n",
       "        text-align: right;\n",
       "    }\n",
       "</style>\n",
       "<table border=\"1\" class=\"dataframe\">\n",
       "  <thead>\n",
       "    <tr style=\"text-align: right;\">\n",
       "      <th></th>\n",
       "      <th>compound_mean_mean</th>\n",
       "      <th>compound_mean_std</th>\n",
       "      <th>user_count</th>\n",
       "      <th>From</th>\n",
       "      <th>To</th>\n",
       "      <th>Ht</th>\n",
       "      <th>Wt</th>\n",
       "      <th>experience</th>\n",
       "      <th>Age</th>\n",
       "      <th>PER</th>\n",
       "      <th>Wins</th>\n",
       "      <th>youth</th>\n",
       "      <th>oldness</th>\n",
       "    </tr>\n",
       "    <tr>\n",
       "      <th>Tm</th>\n",
       "      <th></th>\n",
       "      <th></th>\n",
       "      <th></th>\n",
       "      <th></th>\n",
       "      <th></th>\n",
       "      <th></th>\n",
       "      <th></th>\n",
       "      <th></th>\n",
       "      <th></th>\n",
       "      <th></th>\n",
       "      <th></th>\n",
       "      <th></th>\n",
       "      <th></th>\n",
       "    </tr>\n",
       "  </thead>\n",
       "  <tbody>\n",
       "    <tr>\n",
       "      <th>WAS</th>\n",
       "      <td>0.093305</td>\n",
       "      <td>0.422026</td>\n",
       "      <td>527.0</td>\n",
       "      <td>2012.0</td>\n",
       "      <td>2018.0</td>\n",
       "      <td>78.555556</td>\n",
       "      <td>212.444444</td>\n",
       "      <td>6.0</td>\n",
       "      <td>27.444444</td>\n",
       "      <td>14.666667</td>\n",
       "      <td>43.0</td>\n",
       "      <td>1.127838</td>\n",
       "      <td>1.855436</td>\n",
       "    </tr>\n",
       "    <tr>\n",
       "      <th>PHO</th>\n",
       "      <td>0.113417</td>\n",
       "      <td>0.435604</td>\n",
       "      <td>413.3</td>\n",
       "      <td>2014.5</td>\n",
       "      <td>2018.0</td>\n",
       "      <td>79.100000</td>\n",
       "      <td>210.300000</td>\n",
       "      <td>3.5</td>\n",
       "      <td>24.200000</td>\n",
       "      <td>11.840000</td>\n",
       "      <td>21.0</td>\n",
       "      <td>3.873477</td>\n",
       "      <td>1.356631</td>\n",
       "    </tr>\n",
       "  </tbody>\n",
       "</table>\n",
       "</div>"
      ],
      "text/plain": [
       "     compound_mean_mean  compound_mean_std  user_count    From      To  \\\n",
       "Tm                                                                       \n",
       "WAS            0.093305           0.422026       527.0  2012.0  2018.0   \n",
       "PHO            0.113417           0.435604       413.3  2014.5  2018.0   \n",
       "\n",
       "            Ht          Wt  experience        Age        PER  Wins     youth  \\\n",
       "Tm                                                                             \n",
       "WAS  78.555556  212.444444         6.0  27.444444  14.666667  43.0  1.127838   \n",
       "PHO  79.100000  210.300000         3.5  24.200000  11.840000  21.0  3.873477   \n",
       "\n",
       "      oldness  \n",
       "Tm             \n",
       "WAS  1.855436  \n",
       "PHO  1.356631  "
      ]
     },
     "execution_count": 224,
     "metadata": {},
     "output_type": "execute_result"
    }
   ],
   "source": [
    "join_df.groupby('Tm').mean().sort_values('compound_mean_mean').head(2)"
   ]
  },
  {
   "cell_type": "code",
   "execution_count": 225,
   "metadata": {},
   "outputs": [],
   "source": [
    "join_df = pd.concat([join_df, pd.get_dummies(join_df['Race'])], axis = 1)\n",
    "join_df = pd.concat([join_df, pd.get_dummies(join_df['height_dummies'])], axis = 1)\n",
    "join_df = pd.concat([join_df, pd.get_dummies(join_df['Tm'])], axis = 1)"
   ]
  },
  {
   "cell_type": "code",
   "execution_count": 226,
   "metadata": {},
   "outputs": [
    {
     "data": {
      "text/html": [
       "<div>\n",
       "<style scoped>\n",
       "    .dataframe tbody tr th:only-of-type {\n",
       "        vertical-align: middle;\n",
       "    }\n",
       "\n",
       "    .dataframe tbody tr th {\n",
       "        vertical-align: top;\n",
       "    }\n",
       "\n",
       "    .dataframe thead th {\n",
       "        text-align: right;\n",
       "    }\n",
       "</style>\n",
       "<table border=\"1\" class=\"dataframe\">\n",
       "  <thead>\n",
       "    <tr style=\"text-align: right;\">\n",
       "      <th></th>\n",
       "      <th>fuzzy_name</th>\n",
       "      <th>compound_mean_mean</th>\n",
       "      <th>compound_mean_std</th>\n",
       "      <th>user_count</th>\n",
       "      <th>Player</th>\n",
       "      <th>From</th>\n",
       "      <th>To</th>\n",
       "      <th>Pos_x</th>\n",
       "      <th>Ht</th>\n",
       "      <th>Wt</th>\n",
       "      <th>Birth Date</th>\n",
       "      <th>Colleges</th>\n",
       "      <th>experience</th>\n",
       "      <th>Race</th>\n",
       "      <th>Rk</th>\n",
       "      <th>Pos_y</th>\n",
       "      <th>Age</th>\n",
       "      <th>Tm</th>\n",
       "      <th>G</th>\n",
       "      <th>MP</th>\n",
       "      <th>PER</th>\n",
       "      <th>TS%</th>\n",
       "      <th>3PAr</th>\n",
       "      <th>FTr</th>\n",
       "      <th>ORB%</th>\n",
       "      <th>DRB%</th>\n",
       "      <th>TRB%</th>\n",
       "      <th>AST%</th>\n",
       "      <th>STL%</th>\n",
       "      <th>BLK%</th>\n",
       "      <th>TOV%</th>\n",
       "      <th>USG%</th>\n",
       "      <th>OWS</th>\n",
       "      <th>DWS</th>\n",
       "      <th>WS</th>\n",
       "      <th>WS/48</th>\n",
       "      <th>OBPM</th>\n",
       "      <th>DBPM</th>\n",
       "      <th>BPM</th>\n",
       "      <th>VORP</th>\n",
       "      <th>Wins</th>\n",
       "      <th>youth</th>\n",
       "      <th>oldness</th>\n",
       "      <th>height_dummies</th>\n",
       "      <th>A</th>\n",
       "      <th>B</th>\n",
       "      <th>M</th>\n",
       "      <th>R</th>\n",
       "      <th>W</th>\n",
       "      <th>short</th>\n",
       "      <th>medium</th>\n",
       "      <th>tall</th>\n",
       "      <th>ATL</th>\n",
       "      <th>BOS</th>\n",
       "      <th>BRK</th>\n",
       "      <th>CHI</th>\n",
       "      <th>CLE</th>\n",
       "      <th>DAL</th>\n",
       "      <th>DEN</th>\n",
       "      <th>DET</th>\n",
       "      <th>GSW</th>\n",
       "      <th>HOU</th>\n",
       "      <th>IND</th>\n",
       "      <th>LAC</th>\n",
       "      <th>LAL</th>\n",
       "      <th>MEM</th>\n",
       "      <th>MIA</th>\n",
       "      <th>MIL</th>\n",
       "      <th>MIN</th>\n",
       "      <th>NOP</th>\n",
       "      <th>NYK</th>\n",
       "      <th>OKC</th>\n",
       "      <th>ORL</th>\n",
       "      <th>PHI</th>\n",
       "      <th>PHO</th>\n",
       "      <th>POR</th>\n",
       "      <th>SAC</th>\n",
       "      <th>SAS</th>\n",
       "      <th>TOR</th>\n",
       "      <th>UTA</th>\n",
       "      <th>WAS</th>\n",
       "    </tr>\n",
       "  </thead>\n",
       "  <tbody>\n",
       "    <tr>\n",
       "      <th>0</th>\n",
       "      <td>aaron gordon</td>\n",
       "      <td>0.191616</td>\n",
       "      <td>0.432282</td>\n",
       "      <td>241</td>\n",
       "      <td>aaron gordon</td>\n",
       "      <td>2015</td>\n",
       "      <td>2018</td>\n",
       "      <td>F</td>\n",
       "      <td>81</td>\n",
       "      <td>220</td>\n",
       "      <td>16-Sep-95</td>\n",
       "      <td>University of Arizona</td>\n",
       "      <td>3</td>\n",
       "      <td>M</td>\n",
       "      <td>179</td>\n",
       "      <td>PF</td>\n",
       "      <td>22</td>\n",
       "      <td>ORL</td>\n",
       "      <td>58</td>\n",
       "      <td>1909</td>\n",
       "      <td>16.5</td>\n",
       "      <td>.530</td>\n",
       "      <td>.395</td>\n",
       "      <td>.260</td>\n",
       "      <td>5.0</td>\n",
       "      <td>21.5</td>\n",
       "      <td>13.2</td>\n",
       "      <td>11.7</td>\n",
       "      <td>1.5</td>\n",
       "      <td>1.9</td>\n",
       "      <td>10.0</td>\n",
       "      <td>24.7</td>\n",
       "      <td>0.9</td>\n",
       "      <td>2.0</td>\n",
       "      <td>2.9</td>\n",
       "      <td>.072</td>\n",
       "      <td>0.0</td>\n",
       "      <td>0.0</td>\n",
       "      <td>0.0</td>\n",
       "      <td>1.0</td>\n",
       "      <td>25</td>\n",
       "      <td>4.716846</td>\n",
       "      <td>0.0</td>\n",
       "      <td>tall</td>\n",
       "      <td>0</td>\n",
       "      <td>0</td>\n",
       "      <td>1</td>\n",
       "      <td>0</td>\n",
       "      <td>0</td>\n",
       "      <td>0</td>\n",
       "      <td>0</td>\n",
       "      <td>1</td>\n",
       "      <td>0</td>\n",
       "      <td>0</td>\n",
       "      <td>0</td>\n",
       "      <td>0</td>\n",
       "      <td>0</td>\n",
       "      <td>0</td>\n",
       "      <td>0</td>\n",
       "      <td>0</td>\n",
       "      <td>0</td>\n",
       "      <td>0</td>\n",
       "      <td>0</td>\n",
       "      <td>0</td>\n",
       "      <td>0</td>\n",
       "      <td>0</td>\n",
       "      <td>0</td>\n",
       "      <td>0</td>\n",
       "      <td>0</td>\n",
       "      <td>0</td>\n",
       "      <td>0</td>\n",
       "      <td>0</td>\n",
       "      <td>1</td>\n",
       "      <td>0</td>\n",
       "      <td>0</td>\n",
       "      <td>0</td>\n",
       "      <td>0</td>\n",
       "      <td>0</td>\n",
       "      <td>0</td>\n",
       "      <td>0</td>\n",
       "      <td>0</td>\n",
       "    </tr>\n",
       "    <tr>\n",
       "      <th>1</th>\n",
       "      <td>abdel nader</td>\n",
       "      <td>0.072391</td>\n",
       "      <td>0.411722</td>\n",
       "      <td>178</td>\n",
       "      <td>abdel nader</td>\n",
       "      <td>2018</td>\n",
       "      <td>2018</td>\n",
       "      <td>F</td>\n",
       "      <td>78</td>\n",
       "      <td>230</td>\n",
       "      <td>25-Sep-93</td>\n",
       "      <td>Northern Illinois University, Iowa State University</td>\n",
       "      <td>0</td>\n",
       "      <td>R</td>\n",
       "      <td>363</td>\n",
       "      <td>SF</td>\n",
       "      <td>24</td>\n",
       "      <td>BOS</td>\n",
       "      <td>48</td>\n",
       "      <td>522</td>\n",
       "      <td>5.1</td>\n",
       "      <td>.439</td>\n",
       "      <td>.436</td>\n",
       "      <td>.262</td>\n",
       "      <td>2.8</td>\n",
       "      <td>12.0</td>\n",
       "      <td>7.4</td>\n",
       "      <td>7.1</td>\n",
       "      <td>1.4</td>\n",
       "      <td>1.6</td>\n",
       "      <td>17.0</td>\n",
       "      <td>17.1</td>\n",
       "      <td>-0.9</td>\n",
       "      <td>0.8</td>\n",
       "      <td>-0.1</td>\n",
       "      <td>-0.014</td>\n",
       "      <td>-5.9</td>\n",
       "      <td>0.3</td>\n",
       "      <td>-5.6</td>\n",
       "      <td>-0.5</td>\n",
       "      <td>55</td>\n",
       "      <td>2.716846</td>\n",
       "      <td>0.0</td>\n",
       "      <td>medium</td>\n",
       "      <td>0</td>\n",
       "      <td>0</td>\n",
       "      <td>0</td>\n",
       "      <td>1</td>\n",
       "      <td>0</td>\n",
       "      <td>0</td>\n",
       "      <td>1</td>\n",
       "      <td>0</td>\n",
       "      <td>0</td>\n",
       "      <td>1</td>\n",
       "      <td>0</td>\n",
       "      <td>0</td>\n",
       "      <td>0</td>\n",
       "      <td>0</td>\n",
       "      <td>0</td>\n",
       "      <td>0</td>\n",
       "      <td>0</td>\n",
       "      <td>0</td>\n",
       "      <td>0</td>\n",
       "      <td>0</td>\n",
       "      <td>0</td>\n",
       "      <td>0</td>\n",
       "      <td>0</td>\n",
       "      <td>0</td>\n",
       "      <td>0</td>\n",
       "      <td>0</td>\n",
       "      <td>0</td>\n",
       "      <td>0</td>\n",
       "      <td>0</td>\n",
       "      <td>0</td>\n",
       "      <td>0</td>\n",
       "      <td>0</td>\n",
       "      <td>0</td>\n",
       "      <td>0</td>\n",
       "      <td>0</td>\n",
       "      <td>0</td>\n",
       "      <td>0</td>\n",
       "    </tr>\n",
       "  </tbody>\n",
       "</table>\n",
       "</div>"
      ],
      "text/plain": [
       "     fuzzy_name  compound_mean_mean  compound_mean_std  user_count  \\\n",
       "0  aaron gordon            0.191616           0.432282         241   \n",
       "1   abdel nader            0.072391           0.411722         178   \n",
       "\n",
       "         Player  From    To Pos_x  Ht   Wt Birth Date  \\\n",
       "0  aaron gordon  2015  2018     F  81  220  16-Sep-95   \n",
       "1   abdel nader  2018  2018     F  78  230  25-Sep-93   \n",
       "\n",
       "                                              Colleges  experience Race   Rk  \\\n",
       "0                                University of Arizona           3    M  179   \n",
       "1  Northern Illinois University, Iowa State University           0    R  363   \n",
       "\n",
       "  Pos_y  Age   Tm   G    MP   PER   TS%  3PAr   FTr ORB%  DRB%  TRB%  AST%  \\\n",
       "0    PF   22  ORL  58  1909  16.5  .530  .395  .260  5.0  21.5  13.2  11.7   \n",
       "1    SF   24  BOS  48   522   5.1  .439  .436  .262  2.8  12.0   7.4   7.1   \n",
       "\n",
       "  STL% BLK%  TOV%  USG%   OWS  DWS    WS   WS/48  OBPM DBPM   BPM  VORP  Wins  \\\n",
       "0  1.5  1.9  10.0  24.7   0.9  2.0   2.9    .072   0.0  0.0   0.0   1.0    25   \n",
       "1  1.4  1.6  17.0  17.1  -0.9  0.8  -0.1  -0.014  -5.9  0.3  -5.6  -0.5    55   \n",
       "\n",
       "      youth  oldness height_dummies  A  B  M  R  W  short  medium  tall  ATL  \\\n",
       "0  4.716846      0.0           tall  0  0  1  0  0      0       0     1    0   \n",
       "1  2.716846      0.0         medium  0  0  0  1  0      0       1     0    0   \n",
       "\n",
       "   BOS  BRK  CHI  CLE  DAL  DEN  DET  GSW  HOU  IND  LAC  LAL  MEM  MIA  MIL  \\\n",
       "0    0    0    0    0    0    0    0    0    0    0    0    0    0    0    0   \n",
       "1    1    0    0    0    0    0    0    0    0    0    0    0    0    0    0   \n",
       "\n",
       "   MIN  NOP  NYK  OKC  ORL  PHI  PHO  POR  SAC  SAS  TOR  UTA  WAS  \n",
       "0    0    0    0    0    1    0    0    0    0    0    0    0    0  \n",
       "1    0    0    0    0    0    0    0    0    0    0    0    0    0  "
      ]
     },
     "execution_count": 226,
     "metadata": {},
     "output_type": "execute_result"
    }
   ],
   "source": [
    "join_df.head(2)"
   ]
  },
  {
   "cell_type": "code",
   "execution_count": 239,
   "metadata": {},
   "outputs": [],
   "source": [
    "import statsmodels.api as sm\n",
    "\n",
    "# \n",
    "fit_df = join_df.query('Race != \"A\" and Race != \"R\"')\n",
    "model = sm.OLS( fit_df['compound_mean_mean'].values, fit_df[['PER', 'youth', 'oldness', 'Wins', 'W', 'M', 'short', 'tall']] ).fit()"
   ]
  },
  {
   "cell_type": "markdown",
   "metadata": {},
   "source": [
    "Regression model for sentiment with features for performance, age, team wins, race, and height."
   ]
  },
  {
   "cell_type": "code",
   "execution_count": 240,
   "metadata": {},
   "outputs": [
    {
     "data": {
      "text/html": [
       "<table class=\"simpletable\">\n",
       "<caption>OLS Regression Results</caption>\n",
       "<tr>\n",
       "  <th>Dep. Variable:</th>            <td>y</td>        <th>  R-squared:         </th> <td>   0.863</td> \n",
       "</tr>\n",
       "<tr>\n",
       "  <th>Model:</th>                   <td>OLS</td>       <th>  Adj. R-squared:    </th> <td>   0.859</td> \n",
       "</tr>\n",
       "<tr>\n",
       "  <th>Method:</th>             <td>Least Squares</td>  <th>  F-statistic:       </th> <td>   209.8</td> \n",
       "</tr>\n",
       "<tr>\n",
       "  <th>Date:</th>             <td>Sun, 16 Sep 2018</td> <th>  Prob (F-statistic):</th> <td>1.95e-110</td>\n",
       "</tr>\n",
       "<tr>\n",
       "  <th>Time:</th>                 <td>17:00:48</td>     <th>  Log-Likelihood:    </th> <td>  396.50</td> \n",
       "</tr>\n",
       "<tr>\n",
       "  <th>No. Observations:</th>      <td>   275</td>      <th>  AIC:               </th> <td>  -777.0</td> \n",
       "</tr>\n",
       "<tr>\n",
       "  <th>Df Residuals:</th>          <td>   267</td>      <th>  BIC:               </th> <td>  -748.1</td> \n",
       "</tr>\n",
       "<tr>\n",
       "  <th>Df Model:</th>              <td>     8</td>      <th>                     </th>     <td> </td>    \n",
       "</tr>\n",
       "<tr>\n",
       "  <th>Covariance Type:</th>      <td>nonrobust</td>    <th>                     </th>     <td> </td>    \n",
       "</tr>\n",
       "</table>\n",
       "<table class=\"simpletable\">\n",
       "<tr>\n",
       "     <td></td>        <th>coef</th>     <th>std err</th>      <th>t</th>      <th>P>|t|</th>  <th>[0.025</th>    <th>0.975]</th>  \n",
       "</tr>\n",
       "<tr>\n",
       "  <th>PER</th>     <td>    0.0028</td> <td>    0.001</td> <td>    4.759</td> <td> 0.000</td> <td>    0.002</td> <td>    0.004</td>\n",
       "</tr>\n",
       "<tr>\n",
       "  <th>youth</th>   <td>    0.0118</td> <td>    0.002</td> <td>    7.198</td> <td> 0.000</td> <td>    0.009</td> <td>    0.015</td>\n",
       "</tr>\n",
       "<tr>\n",
       "  <th>oldness</th> <td>    0.0052</td> <td>    0.001</td> <td>    3.928</td> <td> 0.000</td> <td>    0.003</td> <td>    0.008</td>\n",
       "</tr>\n",
       "<tr>\n",
       "  <th>Wins</th>    <td>    0.0014</td> <td>    0.000</td> <td>    6.714</td> <td> 0.000</td> <td>    0.001</td> <td>    0.002</td>\n",
       "</tr>\n",
       "<tr>\n",
       "  <th>W</th>       <td>    0.0115</td> <td>    0.009</td> <td>    1.310</td> <td> 0.191</td> <td>   -0.006</td> <td>    0.029</td>\n",
       "</tr>\n",
       "<tr>\n",
       "  <th>M</th>       <td>    0.0080</td> <td>    0.021</td> <td>    0.378</td> <td> 0.706</td> <td>   -0.034</td> <td>    0.049</td>\n",
       "</tr>\n",
       "<tr>\n",
       "  <th>short</th>   <td>    0.0240</td> <td>    0.019</td> <td>    1.240</td> <td> 0.216</td> <td>   -0.014</td> <td>    0.062</td>\n",
       "</tr>\n",
       "<tr>\n",
       "  <th>tall</th>    <td>    0.0062</td> <td>    0.008</td> <td>    0.794</td> <td> 0.428</td> <td>   -0.009</td> <td>    0.022</td>\n",
       "</tr>\n",
       "</table>\n",
       "<table class=\"simpletable\">\n",
       "<tr>\n",
       "  <th>Omnibus:</th>       <td>32.422</td> <th>  Durbin-Watson:     </th> <td>   1.865</td>\n",
       "</tr>\n",
       "<tr>\n",
       "  <th>Prob(Omnibus):</th> <td> 0.000</td> <th>  Jarque-Bera (JB):  </th> <td>  60.185</td>\n",
       "</tr>\n",
       "<tr>\n",
       "  <th>Skew:</th>          <td>-0.647</td> <th>  Prob(JB):          </th> <td>8.53e-14</td>\n",
       "</tr>\n",
       "<tr>\n",
       "  <th>Kurtosis:</th>      <td> 4.891</td> <th>  Cond. No.          </th> <td>    284.</td>\n",
       "</tr>\n",
       "</table><br/><br/>Warnings:<br/>[1] Standard Errors assume that the covariance matrix of the errors is correctly specified."
      ],
      "text/plain": [
       "<class 'statsmodels.iolib.summary.Summary'>\n",
       "\"\"\"\n",
       "                            OLS Regression Results                            \n",
       "==============================================================================\n",
       "Dep. Variable:                      y   R-squared:                       0.863\n",
       "Model:                            OLS   Adj. R-squared:                  0.859\n",
       "Method:                 Least Squares   F-statistic:                     209.8\n",
       "Date:                Sun, 16 Sep 2018   Prob (F-statistic):          1.95e-110\n",
       "Time:                        17:00:48   Log-Likelihood:                 396.50\n",
       "No. Observations:                 275   AIC:                            -777.0\n",
       "Df Residuals:                     267   BIC:                            -748.1\n",
       "Df Model:                           8                                         \n",
       "Covariance Type:            nonrobust                                         \n",
       "==============================================================================\n",
       "                 coef    std err          t      P>|t|      [0.025      0.975]\n",
       "------------------------------------------------------------------------------\n",
       "PER            0.0028      0.001      4.759      0.000       0.002       0.004\n",
       "youth          0.0118      0.002      7.198      0.000       0.009       0.015\n",
       "oldness        0.0052      0.001      3.928      0.000       0.003       0.008\n",
       "Wins           0.0014      0.000      6.714      0.000       0.001       0.002\n",
       "W              0.0115      0.009      1.310      0.191      -0.006       0.029\n",
       "M              0.0080      0.021      0.378      0.706      -0.034       0.049\n",
       "short          0.0240      0.019      1.240      0.216      -0.014       0.062\n",
       "tall           0.0062      0.008      0.794      0.428      -0.009       0.022\n",
       "==============================================================================\n",
       "Omnibus:                       32.422   Durbin-Watson:                   1.865\n",
       "Prob(Omnibus):                  0.000   Jarque-Bera (JB):               60.185\n",
       "Skew:                          -0.647   Prob(JB):                     8.53e-14\n",
       "Kurtosis:                       4.891   Cond. No.                         284.\n",
       "==============================================================================\n",
       "\n",
       "Warnings:\n",
       "[1] Standard Errors assume that the covariance matrix of the errors is correctly specified.\n",
       "\"\"\""
      ]
     },
     "execution_count": 240,
     "metadata": {},
     "output_type": "execute_result"
    }
   ],
   "source": [
    "model.summary()"
   ]
  },
  {
   "cell_type": "code",
   "execution_count": 229,
   "metadata": {},
   "outputs": [],
   "source": [
    "predicted_senti = model.predict(fit_df[['PER', 'youth', 'oldness', 'Wins', 'W', 'M', 'short', 'tall']])"
   ]
  },
  {
   "cell_type": "code",
   "execution_count": 230,
   "metadata": {},
   "outputs": [
    {
     "data": {
      "image/png": "[encoded data removed]",
      "text/plain": [
       "<Figure size 432x288 with 1 Axes>"
      ]
     },
     "metadata": {},
     "output_type": "display_data"
    }
   ],
   "source": [
    "plt.scatter(predicted_senti, fit_df['compound_mean_mean'])\n",
    "plt.xlabel('Predicted sentiment')\n",
    "plt.ylabel('Measured sentiment');"
   ]
  },
  {
   "cell_type": "markdown",
   "metadata": {},
   "source": [
    "Regression model including teams"
   ]
  },
  {
   "cell_type": "code",
   "execution_count": 245,
   "metadata": {},
   "outputs": [],
   "source": [
    "import statsmodels.api as sm\n",
    "\n",
    "# \n",
    "fit_df = join_df.query('Race != \"A\" and Race != \"R\"')\n",
    "team_model = sm.OLS( fit_df['compound_mean_mean'].values, pd.concat([fit_df[['PER', 'youth', 'oldness', 'Wins', 'W', 'M', 'short', 'tall']], fit_df.iloc[:, -29:]], axis=1) ).fit()"
   ]
  },
  {
   "cell_type": "markdown",
   "metadata": {},
   "source": [
    "Regression model for sentiment with features for performance, age, team wins, race, and height, and team"
   ]
  },
  {
   "cell_type": "code",
   "execution_count": 246,
   "metadata": {},
   "outputs": [
    {
     "data": {
      "text/html": [
       "<table class=\"simpletable\">\n",
       "<caption>OLS Regression Results</caption>\n",
       "<tr>\n",
       "  <th>Dep. Variable:</th>            <td>y</td>        <th>  R-squared:         </th> <td>   0.175</td>\n",
       "</tr>\n",
       "<tr>\n",
       "  <th>Model:</th>                   <td>OLS</td>       <th>  Adj. R-squared:    </th> <td>   0.054</td>\n",
       "</tr>\n",
       "<tr>\n",
       "  <th>Method:</th>             <td>Least Squares</td>  <th>  F-statistic:       </th> <td>   1.447</td>\n",
       "</tr>\n",
       "<tr>\n",
       "  <th>Date:</th>             <td>Sun, 16 Sep 2018</td> <th>  Prob (F-statistic):</th>  <td>0.0583</td> \n",
       "</tr>\n",
       "<tr>\n",
       "  <th>Time:</th>                 <td>17:01:30</td>     <th>  Log-Likelihood:    </th> <td>  431.93</td>\n",
       "</tr>\n",
       "<tr>\n",
       "  <th>No. Observations:</th>      <td>   275</td>      <th>  AIC:               </th> <td>  -791.9</td>\n",
       "</tr>\n",
       "<tr>\n",
       "  <th>Df Residuals:</th>          <td>   239</td>      <th>  BIC:               </th> <td>  -661.6</td>\n",
       "</tr>\n",
       "<tr>\n",
       "  <th>Df Model:</th>              <td>    35</td>      <th>                     </th>     <td> </td>   \n",
       "</tr>\n",
       "<tr>\n",
       "  <th>Covariance Type:</th>      <td>nonrobust</td>    <th>                     </th>     <td> </td>   \n",
       "</tr>\n",
       "</table>\n",
       "<table class=\"simpletable\">\n",
       "<tr>\n",
       "     <td></td>        <th>coef</th>     <th>std err</th>      <th>t</th>      <th>P>|t|</th>  <th>[0.025</th>    <th>0.975]</th>  \n",
       "</tr>\n",
       "<tr>\n",
       "  <th>PER</th>     <td>    0.0006</td> <td>    0.001</td> <td>    0.896</td> <td> 0.371</td> <td>   -0.001</td> <td>    0.002</td>\n",
       "</tr>\n",
       "<tr>\n",
       "  <th>youth</th>   <td>    0.0070</td> <td>    0.002</td> <td>    3.997</td> <td> 0.000</td> <td>    0.004</td> <td>    0.010</td>\n",
       "</tr>\n",
       "<tr>\n",
       "  <th>oldness</th> <td>    0.0024</td> <td>    0.001</td> <td>    1.744</td> <td> 0.082</td> <td>   -0.000</td> <td>    0.005</td>\n",
       "</tr>\n",
       "<tr>\n",
       "  <th>Wins</th>    <td>    0.0025</td> <td>    0.000</td> <td>    9.778</td> <td> 0.000</td> <td>    0.002</td> <td>    0.003</td>\n",
       "</tr>\n",
       "<tr>\n",
       "  <th>W</th>       <td>    0.0075</td> <td>    0.009</td> <td>    0.870</td> <td> 0.385</td> <td>   -0.009</td> <td>    0.024</td>\n",
       "</tr>\n",
       "<tr>\n",
       "  <th>M</th>       <td>    0.0150</td> <td>    0.020</td> <td>    0.732</td> <td> 0.465</td> <td>   -0.025</td> <td>    0.055</td>\n",
       "</tr>\n",
       "<tr>\n",
       "  <th>short</th>   <td>    0.0205</td> <td>    0.019</td> <td>    1.065</td> <td> 0.288</td> <td>   -0.017</td> <td>    0.059</td>\n",
       "</tr>\n",
       "<tr>\n",
       "  <th>tall</th>    <td>    0.0064</td> <td>    0.008</td> <td>    0.853</td> <td> 0.394</td> <td>   -0.008</td> <td>    0.021</td>\n",
       "</tr>\n",
       "<tr>\n",
       "  <th>ATL</th>     <td>    0.0530</td> <td>    0.025</td> <td>    2.156</td> <td> 0.032</td> <td>    0.005</td> <td>    0.101</td>\n",
       "</tr>\n",
       "<tr>\n",
       "  <th>BOS</th>     <td>   -0.0091</td> <td>    0.016</td> <td>   -0.557</td> <td> 0.578</td> <td>   -0.041</td> <td>    0.023</td>\n",
       "</tr>\n",
       "<tr>\n",
       "  <th>BRK</th>     <td>    0.0221</td> <td>    0.020</td> <td>    1.077</td> <td> 0.283</td> <td>   -0.018</td> <td>    0.062</td>\n",
       "</tr>\n",
       "<tr>\n",
       "  <th>CHI</th>     <td>    0.0679</td> <td>    0.018</td> <td>    3.833</td> <td> 0.000</td> <td>    0.033</td> <td>    0.103</td>\n",
       "</tr>\n",
       "<tr>\n",
       "  <th>CLE</th>     <td>   -0.0155</td> <td>    0.016</td> <td>   -0.957</td> <td> 0.340</td> <td>   -0.047</td> <td>    0.016</td>\n",
       "</tr>\n",
       "<tr>\n",
       "  <th>DAL</th>     <td>    0.0621</td> <td>    0.024</td> <td>    2.637</td> <td> 0.009</td> <td>    0.016</td> <td>    0.109</td>\n",
       "</tr>\n",
       "<tr>\n",
       "  <th>DEN</th>     <td>   -0.0014</td> <td>    0.018</td> <td>   -0.081</td> <td> 0.936</td> <td>   -0.036</td> <td>    0.033</td>\n",
       "</tr>\n",
       "<tr>\n",
       "  <th>DET</th>     <td>    0.0461</td> <td>    0.020</td> <td>    2.279</td> <td> 0.024</td> <td>    0.006</td> <td>    0.086</td>\n",
       "</tr>\n",
       "<tr>\n",
       "  <th>GSW</th>     <td>   -0.0450</td> <td>    0.014</td> <td>   -3.161</td> <td> 0.002</td> <td>   -0.073</td> <td>   -0.017</td>\n",
       "</tr>\n",
       "<tr>\n",
       "  <th>HOU</th>     <td>   -0.0574</td> <td>    0.017</td> <td>   -3.341</td> <td> 0.001</td> <td>   -0.091</td> <td>   -0.024</td>\n",
       "</tr>\n",
       "<tr>\n",
       "  <th>IND</th>     <td>    0.0035</td> <td>    0.020</td> <td>    0.177</td> <td> 0.860</td> <td>   -0.036</td> <td>    0.043</td>\n",
       "</tr>\n",
       "<tr>\n",
       "  <th>LAC</th>     <td>    0.0334</td> <td>    0.019</td> <td>    1.737</td> <td> 0.084</td> <td>   -0.004</td> <td>    0.071</td>\n",
       "</tr>\n",
       "<tr>\n",
       "  <th>LAL</th>     <td>   -0.0037</td> <td>    0.016</td> <td>   -0.235</td> <td> 0.814</td> <td>   -0.035</td> <td>    0.027</td>\n",
       "</tr>\n",
       "<tr>\n",
       "  <th>MEM</th>     <td>    0.0538</td> <td>    0.023</td> <td>    2.373</td> <td> 0.018</td> <td>    0.009</td> <td>    0.099</td>\n",
       "</tr>\n",
       "<tr>\n",
       "  <th>MIA</th>     <td>   -0.0088</td> <td>    0.016</td> <td>   -0.548</td> <td> 0.584</td> <td>   -0.040</td> <td>    0.023</td>\n",
       "</tr>\n",
       "<tr>\n",
       "  <th>MIL</th>     <td>   -0.0025</td> <td>    0.017</td> <td>   -0.149</td> <td> 0.882</td> <td>   -0.036</td> <td>    0.031</td>\n",
       "</tr>\n",
       "<tr>\n",
       "  <th>MIN</th>     <td>   -0.0096</td> <td>    0.017</td> <td>   -0.569</td> <td> 0.570</td> <td>   -0.043</td> <td>    0.024</td>\n",
       "</tr>\n",
       "<tr>\n",
       "  <th>NOP</th>     <td>    0.0176</td> <td>    0.020</td> <td>    0.872</td> <td> 0.384</td> <td>   -0.022</td> <td>    0.057</td>\n",
       "</tr>\n",
       "<tr>\n",
       "  <th>NYK</th>     <td>    0.0460</td> <td>    0.017</td> <td>    2.725</td> <td> 0.007</td> <td>    0.013</td> <td>    0.079</td>\n",
       "</tr>\n",
       "<tr>\n",
       "  <th>OKC</th>     <td>   -0.0168</td> <td>    0.015</td> <td>   -1.118</td> <td> 0.265</td> <td>   -0.046</td> <td>    0.013</td>\n",
       "</tr>\n",
       "<tr>\n",
       "  <th>ORL</th>     <td>    0.0336</td> <td>    0.019</td> <td>    1.818</td> <td> 0.070</td> <td>   -0.003</td> <td>    0.070</td>\n",
       "</tr>\n",
       "<tr>\n",
       "  <th>PHI</th>     <td>   -0.0190</td> <td>    0.017</td> <td>   -1.128</td> <td> 0.260</td> <td>   -0.052</td> <td>    0.014</td>\n",
       "</tr>\n",
       "<tr>\n",
       "  <th>PHO</th>     <td>    0.0170</td> <td>    0.018</td> <td>    0.927</td> <td> 0.355</td> <td>   -0.019</td> <td>    0.053</td>\n",
       "</tr>\n",
       "<tr>\n",
       "  <th>POR</th>     <td>    0.0101</td> <td>    0.018</td> <td>    0.565</td> <td> 0.573</td> <td>   -0.025</td> <td>    0.045</td>\n",
       "</tr>\n",
       "<tr>\n",
       "  <th>SAC</th>     <td>    0.0696</td> <td>    0.020</td> <td>    3.499</td> <td> 0.001</td> <td>    0.030</td> <td>    0.109</td>\n",
       "</tr>\n",
       "<tr>\n",
       "  <th>SAS</th>     <td>   -0.0095</td> <td>    0.015</td> <td>   -0.632</td> <td> 0.528</td> <td>   -0.039</td> <td>    0.020</td>\n",
       "</tr>\n",
       "<tr>\n",
       "  <th>TOR</th>     <td>   -0.0309</td> <td>    0.016</td> <td>   -1.879</td> <td> 0.062</td> <td>   -0.063</td> <td>    0.002</td>\n",
       "</tr>\n",
       "<tr>\n",
       "  <th>UTA</th>     <td>   -0.0149</td> <td>    0.017</td> <td>   -0.867</td> <td> 0.387</td> <td>   -0.049</td> <td>    0.019</td>\n",
       "</tr>\n",
       "<tr>\n",
       "  <th>WAS</th>     <td>   -0.0400</td> <td>    0.018</td> <td>   -2.252</td> <td> 0.025</td> <td>   -0.075</td> <td>   -0.005</td>\n",
       "</tr>\n",
       "</table>\n",
       "<table class=\"simpletable\">\n",
       "<tr>\n",
       "  <th>Omnibus:</th>       <td>66.958</td> <th>  Durbin-Watson:     </th> <td>   1.865</td>\n",
       "</tr>\n",
       "<tr>\n",
       "  <th>Prob(Omnibus):</th> <td> 0.000</td> <th>  Jarque-Bera (JB):  </th> <td> 177.685</td>\n",
       "</tr>\n",
       "<tr>\n",
       "  <th>Skew:</th>          <td>-1.104</td> <th>  Prob(JB):          </th> <td>2.61e-39</td>\n",
       "</tr>\n",
       "<tr>\n",
       "  <th>Kurtosis:</th>      <td> 6.260</td> <th>  Cond. No.          </th> <td>2.25e+15</td>\n",
       "</tr>\n",
       "</table><br/><br/>Warnings:<br/>[1] Standard Errors assume that the covariance matrix of the errors is correctly specified.<br/>[2] The smallest eigenvalue is 1.18e-25. This might indicate that there are<br/>strong multicollinearity problems or that the design matrix is singular."
      ],
      "text/plain": [
       "<class 'statsmodels.iolib.summary.Summary'>\n",
       "\"\"\"\n",
       "                            OLS Regression Results                            \n",
       "==============================================================================\n",
       "Dep. Variable:                      y   R-squared:                       0.175\n",
       "Model:                            OLS   Adj. R-squared:                  0.054\n",
       "Method:                 Least Squares   F-statistic:                     1.447\n",
       "Date:                Sun, 16 Sep 2018   Prob (F-statistic):             0.0583\n",
       "Time:                        17:01:30   Log-Likelihood:                 431.93\n",
       "No. Observations:                 275   AIC:                            -791.9\n",
       "Df Residuals:                     239   BIC:                            -661.6\n",
       "Df Model:                          35                                         \n",
       "Covariance Type:            nonrobust                                         \n",
       "==============================================================================\n",
       "                 coef    std err          t      P>|t|      [0.025      0.975]\n",
       "------------------------------------------------------------------------------\n",
       "PER            0.0006      0.001      0.896      0.371      -0.001       0.002\n",
       "youth          0.0070      0.002      3.997      0.000       0.004       0.010\n",
       "oldness        0.0024      0.001      1.744      0.082      -0.000       0.005\n",
       "Wins           0.0025      0.000      9.778      0.000       0.002       0.003\n",
       "W              0.0075      0.009      0.870      0.385      -0.009       0.024\n",
       "M              0.0150      0.020      0.732      0.465      -0.025       0.055\n",
       "short          0.0205      0.019      1.065      0.288      -0.017       0.059\n",
       "tall           0.0064      0.008      0.853      0.394      -0.008       0.021\n",
       "ATL            0.0530      0.025      2.156      0.032       0.005       0.101\n",
       "BOS           -0.0091      0.016     -0.557      0.578      -0.041       0.023\n",
       "BRK            0.0221      0.020      1.077      0.283      -0.018       0.062\n",
       "CHI            0.0679      0.018      3.833      0.000       0.033       0.103\n",
       "CLE           -0.0155      0.016     -0.957      0.340      -0.047       0.016\n",
       "DAL            0.0621      0.024      2.637      0.009       0.016       0.109\n",
       "DEN           -0.0014      0.018     -0.081      0.936      -0.036       0.033\n",
       "DET            0.0461      0.020      2.279      0.024       0.006       0.086\n",
       "GSW           -0.0450      0.014     -3.161      0.002      -0.073      -0.017\n",
       "HOU           -0.0574      0.017     -3.341      0.001      -0.091      -0.024\n",
       "IND            0.0035      0.020      0.177      0.860      -0.036       0.043\n",
       "LAC            0.0334      0.019      1.737      0.084      -0.004       0.071\n",
       "LAL           -0.0037      0.016     -0.235      0.814      -0.035       0.027\n",
       "MEM            0.0538      0.023      2.373      0.018       0.009       0.099\n",
       "MIA           -0.0088      0.016     -0.548      0.584      -0.040       0.023\n",
       "MIL           -0.0025      0.017     -0.149      0.882      -0.036       0.031\n",
       "MIN           -0.0096      0.017     -0.569      0.570      -0.043       0.024\n",
       "NOP            0.0176      0.020      0.872      0.384      -0.022       0.057\n",
       "NYK            0.0460      0.017      2.725      0.007       0.013       0.079\n",
       "OKC           -0.0168      0.015     -1.118      0.265      -0.046       0.013\n",
       "ORL            0.0336      0.019      1.818      0.070      -0.003       0.070\n",
       "PHI           -0.0190      0.017     -1.128      0.260      -0.052       0.014\n",
       "PHO            0.0170      0.018      0.927      0.355      -0.019       0.053\n",
       "POR            0.0101      0.018      0.565      0.573      -0.025       0.045\n",
       "SAC            0.0696      0.020      3.499      0.001       0.030       0.109\n",
       "SAS           -0.0095      0.015     -0.632      0.528      -0.039       0.020\n",
       "TOR           -0.0309      0.016     -1.879      0.062      -0.063       0.002\n",
       "UTA           -0.0149      0.017     -0.867      0.387      -0.049       0.019\n",
       "WAS           -0.0400      0.018     -2.252      0.025      -0.075      -0.005\n",
       "==============================================================================\n",
       "Omnibus:                       66.958   Durbin-Watson:                   1.865\n",
       "Prob(Omnibus):                  0.000   Jarque-Bera (JB):              177.685\n",
       "Skew:                          -1.104   Prob(JB):                     2.61e-39\n",
       "Kurtosis:                       6.260   Cond. No.                     2.25e+15\n",
       "==============================================================================\n",
       "\n",
       "Warnings:\n",
       "[1] Standard Errors assume that the covariance matrix of the errors is correctly specified.\n",
       "[2] The smallest eigenvalue is 1.18e-25. This might indicate that there are\n",
       "strong multicollinearity problems or that the design matrix is singular.\n",
       "\"\"\""
      ]
     },
     "execution_count": 246,
     "metadata": {},
     "output_type": "execute_result"
    }
   ],
   "source": [
    "team_model.summary()"
   ]
  },
  {
   "cell_type": "code",
   "execution_count": null,
   "metadata": {},
   "outputs": [],
   "source": []
  }
 ],
 "metadata": {
  "kernelspec": {
   "display_name": "Python 3",
   "language": "python",
   "name": "python3"
  },
  "language_info": {
   "codemirror_mode": {
    "name": "ipython",
    "version": 3
   },
   "file_extension": ".py",
   "mimetype": "text/x-python",
   "name": "python",
   "nbconvert_exporter": "python",
   "pygments_lexer": "ipython3",
   "version": "3.6.5"
  }
 },
 "nbformat": 4,
 "nbformat_minor": 2
}
