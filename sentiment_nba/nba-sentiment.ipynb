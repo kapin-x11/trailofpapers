{
 "cells": [
  {
   "cell_type": "markdown",
   "metadata": {},
   "source": [
    "### Short term to-do:\n",
    "Add capability to match acronyms like KD, LBJ, and LMA\n",
    "\n",
    "### Long term to-do:\n",
    "Get NFL dataset for comparison\n",
    "\n",
    "Get Twitter data for comparison"
   ]
  },
  {
   "cell_type": "code",
   "execution_count": 1,
   "metadata": {
    "collapsed": true
   },
   "outputs": [
    {
     "name": "stderr",
     "output_type": "stream",
     "text": [
      "C:\\ProgramData\\Anaconda3\\lib\\site-packages\\nltk\\twitter\\__init__.py:20: UserWarning: The twython library has not been installed. Some functionality from the twitter package will not be available.\n",
      "  warnings.warn(\"The twython library has not been installed. \"\n"
     ]
    }
   ],
   "source": [
    "import json\n",
    "import nltk\n",
    "import string\n",
    "from datetime import datetime\n",
    "import pandas as pd\n",
    "import dask.dataframe as dd\n",
    "from dask import get\n",
    "import numpy as np\n",
    "from ast import literal_eval\n",
    "from fuzzywuzzy import process as fuzzy_process\n",
    "from fuzzywuzzy import fuzz\n",
    "from string import punctuation\n",
    "from sner import Ner\n",
    "from nltk import word_tokenize, sent_tokenize, pos_tag, ne_chunk\n",
    "from nltk.sentiment.vader import SentimentIntensityAnalyzer\n",
    "import matplotlib.pyplot as plt\n",
    "%matplotlib inline"
   ]
  },
  {
   "cell_type": "code",
   "execution_count": 2,
   "metadata": {},
   "outputs": [],
   "source": [
    "# download stanford core nlp (should be a zip file of format stanford-ner-YYYY-MM-DD) (maybe from https://nlp.stanford.edu/software/CRF-NER.shtml#Download)\n",
    "# need to start the Java server:\n",
    "# cd C:\\ProgramData\\Anaconda3\\Lib\\site-packages\\sner\\stanford-ner-2018-02-27\n",
    "# java -Djava.ext.dirs=./lib -cp stanford-ner.jar edu.stanford.nlp.ie.NERServer -port 9199 -loadClassifier ./classifiers/english.all.3class.distsim.crf.ser.gz  -tokenizerFactory edu.stanford.nlp.process.WhitespaceTokenizer -tokenizerOptions tokenizeNLs=false"
   ]
  },
  {
   "cell_type": "code",
   "execution_count": 3,
   "metadata": {},
   "outputs": [],
   "source": [
    "pd.set_option('display.max_colwidth', 100)"
   ]
  },
  {
   "cell_type": "markdown",
   "metadata": {},
   "source": [
    "## Constants and non-text data"
   ]
  },
  {
   "cell_type": "code",
   "execution_count": 4,
   "metadata": {},
   "outputs": [],
   "source": [
    "non_players_set = set('Atlanta Hawks Boston Celtics Brooklyn Nets Charlotte Bobcats' \\\n",
    "                  'Chicago Bulls Cleveland Cavaliers cavs Dallas Mavericks mavs Denver Nuggets ' \\\n",
    "                  'Detroit Pistons Golden State Warriors Houston Rockets Indiana'\\\n",
    "                  'Pacers Los Angeles LA Clippers LA Lakers LAL Memphis Grizzlies Miami Heat '\\\n",
    "                  'Milwaukee Bucks Minnesota Timberwolves  New Orleans Hornets New York Knicks NYK '\\\n",
    "                  'Oklahoma City Thunder Orlando Magic Philadelphia Sixers 76ers Phoenix'\\\n",
    "                  'Suns Portland Trail Blazers Sacramento Kings'\\\n",
    "                  'San Antonio Spurs Toronto Raptors Utah Jazz Washington Wizards wiz'\\\n",
    "                      'NBA asg'.lower().split())"
   ]
  },
  {
   "cell_type": "markdown",
   "metadata": {},
   "source": [
    "### Instantiate sentiment analyzer"
   ]
  },
  {
   "cell_type": "code",
   "execution_count": 5,
   "metadata": {},
   "outputs": [],
   "source": [
    "sid = SentimentIntensityAnalyzer()\n",
    "stat_words = ['steal', 'steals', 'block', 'blocked', 'blocks', 'slam', 'charges', 'rejection', 'free', 'assists']\n",
    "neutral_words = ['offense', 'offensive', 'offensively', 'defense', 'defensive', 'defensively', 'defender',\n",
    "                 'injury', 'injured', 'strain', 'questionable', 'isolation',\n",
    "                 'shoot', 'doubtful', 'play', 'plays', 'crazy', 'turnover', 'turnovers',\n",
    "                 'seriously']\n",
    "bad_words = ['foul', 'vicious', 'ridiculous', 'motherfucking', 'mediocre', 'soft']\n",
    "great_words = ['goat', 'nasty', 'prime']\n",
    "sid.lexicon.update({word:0.1 for word in stat_words})\n",
    "sid.lexicon.update({word:0 for word in neutral_words})\n",
    "sid.lexicon.update({word:-0.5 for word in bad_words})\n",
    "sid.lexicon.update({word:1 for word in great_words})"
   ]
  },
  {
   "cell_type": "markdown",
   "metadata": {},
   "source": [
    "### Load player demographic and performance data"
   ]
  },
  {
   "cell_type": "code",
   "execution_count": 6,
   "metadata": {},
   "outputs": [],
   "source": [
    "demo_df = pd.read_csv('data/players2018.tsv', sep ='\\t', encoding = 'utf-8')\n",
    "demo_df['Player'] = demo_df['Player'].str.lower()"
   ]
  },
  {
   "cell_type": "code",
   "execution_count": 7,
   "metadata": {},
   "outputs": [],
   "source": [
    "performance_df = (pd.read_html('https://www.basketball-reference.com/leagues/NBA_2018_advanced.html')[0]\n",
    "                    .drop_duplicates('Player', keep = 'first'))\n",
    "performance_df['Player'] = performance_df['Player'].str.lower()"
   ]
  },
  {
   "cell_type": "code",
   "execution_count": 8,
   "metadata": {},
   "outputs": [
    {
     "data": {
      "text/html": [
       "<div>\n",
       "<style scoped>\n",
       "    .dataframe tbody tr th:only-of-type {\n",
       "        vertical-align: middle;\n",
       "    }\n",
       "\n",
       "    .dataframe tbody tr th {\n",
       "        vertical-align: top;\n",
       "    }\n",
       "\n",
       "    .dataframe thead th {\n",
       "        text-align: right;\n",
       "    }\n",
       "</style>\n",
       "<table border=\"1\" class=\"dataframe\">\n",
       "  <thead>\n",
       "    <tr style=\"text-align: right;\">\n",
       "      <th></th>\n",
       "      <th>Player</th>\n",
       "      <th>From</th>\n",
       "      <th>To</th>\n",
       "      <th>Pos_x</th>\n",
       "      <th>Ht</th>\n",
       "      <th>Wt</th>\n",
       "      <th>Birth Date</th>\n",
       "      <th>Colleges</th>\n",
       "      <th>experience</th>\n",
       "      <th>Race</th>\n",
       "      <th>...</th>\n",
       "      <th>Unnamed: 19</th>\n",
       "      <th>OWS</th>\n",
       "      <th>DWS</th>\n",
       "      <th>WS</th>\n",
       "      <th>WS/48</th>\n",
       "      <th>Unnamed: 24</th>\n",
       "      <th>OBPM</th>\n",
       "      <th>DBPM</th>\n",
       "      <th>BPM</th>\n",
       "      <th>VORP</th>\n",
       "    </tr>\n",
       "  </thead>\n",
       "  <tbody>\n",
       "    <tr>\n",
       "      <th>0</th>\n",
       "      <td>alex abrines</td>\n",
       "      <td>2017</td>\n",
       "      <td>2018</td>\n",
       "      <td>G-F</td>\n",
       "      <td>6-Jun</td>\n",
       "      <td>190</td>\n",
       "      <td>1-Aug-93</td>\n",
       "      <td>NaN</td>\n",
       "      <td>1</td>\n",
       "      <td>W</td>\n",
       "      <td>...</td>\n",
       "      <td>NaN</td>\n",
       "      <td>1.3</td>\n",
       "      <td>1.0</td>\n",
       "      <td>2.2</td>\n",
       "      <td>.094</td>\n",
       "      <td>NaN</td>\n",
       "      <td>-0.5</td>\n",
       "      <td>-1.7</td>\n",
       "      <td>-2.2</td>\n",
       "      <td>-0.1</td>\n",
       "    </tr>\n",
       "    <tr>\n",
       "      <th>1</th>\n",
       "      <td>quincy acy</td>\n",
       "      <td>2013</td>\n",
       "      <td>2018</td>\n",
       "      <td>F</td>\n",
       "      <td>7-Jun</td>\n",
       "      <td>240</td>\n",
       "      <td>6-Oct-90</td>\n",
       "      <td>Baylor University</td>\n",
       "      <td>5</td>\n",
       "      <td>B</td>\n",
       "      <td>...</td>\n",
       "      <td>NaN</td>\n",
       "      <td>-0.1</td>\n",
       "      <td>1.1</td>\n",
       "      <td>1.0</td>\n",
       "      <td>.036</td>\n",
       "      <td>NaN</td>\n",
       "      <td>-2.0</td>\n",
       "      <td>-0.2</td>\n",
       "      <td>-2.2</td>\n",
       "      <td>-0.1</td>\n",
       "    </tr>\n",
       "  </tbody>\n",
       "</table>\n",
       "<p>2 rows × 38 columns</p>\n",
       "</div>"
      ],
      "text/plain": [
       "         Player  From    To Pos_x     Ht   Wt Birth Date           Colleges  \\\n",
       "0  alex abrines  2017  2018   G-F  6-Jun  190   1-Aug-93                NaN   \n",
       "1    quincy acy  2013  2018     F  7-Jun  240   6-Oct-90  Baylor University   \n",
       "\n",
       "   experience Race  ...  Unnamed: 19   OWS  DWS   WS WS/48 Unnamed: 24  OBPM  \\\n",
       "0           1    W  ...          NaN   1.3  1.0  2.2  .094         NaN  -0.5   \n",
       "1           5    B  ...          NaN  -0.1  1.1  1.0  .036         NaN  -2.0   \n",
       "\n",
       "   DBPM   BPM  VORP  \n",
       "0  -1.7  -2.2  -0.1  \n",
       "1  -0.2  -2.2  -0.1  \n",
       "\n",
       "[2 rows x 38 columns]"
      ]
     },
     "execution_count": 8,
     "metadata": {},
     "output_type": "execute_result"
    }
   ],
   "source": [
    "demo_df = demo_df.merge(performance_df, on = 'Player')\n",
    "demo_df.head(2)"
   ]
  },
  {
   "cell_type": "code",
   "execution_count": 9,
   "metadata": {},
   "outputs": [],
   "source": [
    "UNIQUE_NAMES = set(demo_df.Player.unique())"
   ]
  },
  {
   "cell_type": "code",
   "execution_count": 10,
   "metadata": {},
   "outputs": [],
   "source": [
    "PLAYER_ENTITIES = set(' '.join(UNIQUE_NAMES).split()).union({'lma', 'kd', 'lbj','klove', 'drose', 'kobe', 'mj', 'magic', 'bird', 'wilt', 'chamberlain'})\n",
    "# some players have common word names; don't want to detect those as entities when lowercase, but do want to when uppercase\n",
    "UPPER_ENTITIES = {'Love', 'Smart', 'Rose', 'Black', 'White', 'Wear', 'Ball', 'Will', 'Buddy', 'Temple', 'Brown', 'Grant', 'Smart', 'Holiday', 'Stone'}\n",
    "PLAYER_ENTITIES = PLAYER_ENTITIES - {'a'} - {name.lower() for name in UPPER_ENTITIES}\n",
    "table = str.maketrans({key: None for key in string.punctuation})\n",
    "NOPUNCT_ENTITIES = {name.translate(table) for name in PLAYER_ENTITIES}\n",
    "PLAYER_ENTITIES = PLAYER_ENTITIES.union(NOPUNCT_ENTITIES)"
   ]
  },
  {
   "cell_type": "markdown",
   "metadata": {},
   "source": [
    "## Functions"
   ]
  },
  {
   "cell_type": "code",
   "execution_count": 11,
   "metadata": {},
   "outputs": [],
   "source": [
    "def create_sentiment_df(comment_df_loc: str, ner_set = set(), non_players_set = {}, sentiment_analyzer=sid,\n",
    "                        STR_COL = 'str_entities', FUZZY_COL='fuzzy_name'):\n",
    "    ''' Main function that loads a month of player comments and:\n",
    "        1. Separates comments into sentences\n",
    "        2. Performs NER either via NLTK, or using pre-existing list of entities\n",
    "        3. Calculates sentiment\n",
    "\n",
    "    parameters:\n",
    "        comment_df_loc: str for file location of gzipped player comments\n",
    "        player_df: pandas dataframe with demographic and performance info on players\n",
    "        ner_list: a list of named entities to save time for performing NER\n",
    "        year_month: string for which month this is\n",
    "    '''\n",
    "\n",
    "    # load unprocessed comments (see notebook reddit-nba-scrape for details)\n",
    "    print('Loading one month of player comments')\n",
    "    comment_df = pd.read_csv(comment_df_loc, sep = '\\t', encoding = 'utf-8')\n",
    "    \n",
    "    # get year_month\n",
    "    try:\n",
    "        comment_df['year_month'] = re.search('[0-9]{6}', comment_df_loc)[0]\n",
    "    except:\n",
    "        comment_df['year_month'] = None\n",
    "    comment_df['text_length'] = comment_df['text'].str.len()\n",
    "    print('Loaded {} comments'.format(comment_df.shape[0]))\n",
    "    \n",
    "    min_length = 20\n",
    "    max_length = 500\n",
    "    print('Filtering to comments with text_length > {} and text_length < {}'.format(min_length, max_length) )\n",
    "    comment_df = comment_df.query('text_length > {} and text_length < {}'.format(min_length, max_length) )\n",
    "    print('After filter, have {} comments'.format(comment_df.shape[0]))\n",
    "    \n",
    "    print('Chunking comments into sentences')\n",
    "    sentences_df = chunk_comments_sentences(comment_df)\n",
    "    \n",
    "    print('Extracting named entities')\n",
    "    if len(ner_set) > 0:\n",
    "        ner_df = extract_known_ner(sentences_df, ner_set)\n",
    "    else:\n",
    "        ner_df = extract_unknown_ner(sentences_df)\n",
    "        \n",
    "    print('Cleaning entities')\n",
    "    ner_df = clean_entities(ner_df, non_players_set=non_players_set)\n",
    "        \n",
    "    print('Calculating sentiment')\n",
    "    sentiment_df = calculate_sentiment(ner_df, sid)\n",
    "    \n",
    "    print('Fuzzy matching player names')\n",
    "    fuzzy_df = pd.DataFrame(sentiment_df[STR_COL].unique(), columns = [STR_COL])\n",
    "    fuzzy_df[FUZZY_COL] = fuzzy_df[STR_COL].apply(find_player)\n",
    "    sentiment_df = sentiment_df.merge(fuzzy_df, on=STR_COL)\n",
    "\n",
    "    print('Returning {} sentences with clear player name'.format(sentiment_df.shape[0]))\n",
    "\n",
    "    return ner_df, sentiment_df"
   ]
  },
  {
   "cell_type": "code",
   "execution_count": 12,
   "metadata": {},
   "outputs": [],
   "source": [
    "def chunk_comments_sentences(comment_df: pd.DataFrame, text_col = 'text'):\n",
    "    ''' Chunk comments into sentences using nltk `sent_tokenize`. Then re-joins to `comment_df` to retain other data\n",
    "        comment_df: dataframe with a column for comments that need to be chunked\n",
    "        text_col: column to be chunked\n",
    "    '''\n",
    "    \n",
    "    # actual chunking\n",
    "    print('Chunking into sentences')\n",
    "    sentences_df = (pd.DataFrame(comment_df[text_col].apply(sent_tokenize).tolist(), index=comment_df.index)\n",
    "                      .stack() )\n",
    "    \n",
    "    # rename stuff\n",
    "    sentences_df = (sentences_df.reset_index()\n",
    "                      .set_index('level_0')\n",
    "                      .rename(columns={0:'sentences'})\n",
    "                      .drop(['level_1'], axis = 1))\n",
    "    sentences_df['sentences'] = sentences_df['sentences'].str.replace('\\r|\\n', ' ')\n",
    "    \n",
    "    print('Chunked into {} sentences'.format(sentences_df.shape[0]))\n",
    "    return (comment_df.join(sentences_df)\n",
    "                      .drop(columns = [text_col]) )"
   ]
  },
  {
   "cell_type": "code",
   "execution_count": 13,
   "metadata": {},
   "outputs": [],
   "source": [
    "def extract_unknown_ner(sentences_df, SENTENCES_COL = 'sentences', NER_COL = 'named_entities', ner_port = 9199):\n",
    "    ''' Extracted named entities using Stanford's NER.\n",
    "        Requires a java server be already launched.\n",
    "        sentences_df: pandas dataframe with one column that contains non-lowercased sentences\n",
    "        SENTENCES_COL: name of column with sentences\n",
    "        NER_COL: str name of column for output\n",
    "    '''\n",
    "    \n",
    "    # filter to sentences long enough to have sentiment and player name\n",
    "    min_length = 10 # characters\n",
    "    sentences_df = sentences_df[sentences_df[SENTENCES_COL].str.len() >= min_length]\n",
    "    \n",
    "    # tag using Java\n",
    "    pos_tagger = Ner(host='localhost',port=ner_port)\n",
    "# would love to parallelize this, as it takes ~2-3 hours per year of data\n",
    "#    ddf = dd.from_pandas(sentences_df)\n",
    "    sner_entities = lambda text: [token for token, part in pos_tagger.get_entities(text ) if part in {'PERSON', 'ORGANIZATION', 'LOCATION'}]\n",
    "    sentences_df[NER_COL] = sentences_df['sentences'].apply(lambda doc: sner_entities(doc))\n",
    "    \n",
    "    return sentences_df"
   ]
  },
  {
   "cell_type": "code",
   "execution_count": 14,
   "metadata": {},
   "outputs": [],
   "source": [
    "def extract_known_ner(sentences_df: pd.DataFrame, NER_SET, UPPER_SET = {'Love', 'Smart', 'Rose'},\n",
    "                      SENTENCES_COL = 'sentences', NER_COL = 'named_entities', UPPER_COL = 'upper_entities'):\n",
    "    ''' Extract named entities from sentences, given known list of named entities (i.e. a list of players)\n",
    "    \n",
    "        ner_set: set of lower-cased named entities\n",
    "    '''\n",
    "    # First do an extraction for Love, Smart, etc.\n",
    "    upper_filter = lambda sentence: list(filter(lambda word: word.strip(string.punctuation) in UPPER_SET, sentence.split() ))\n",
    "    sentences_df[UPPER_COL] = sentences_df[SENTENCES_COL].apply(upper_filter)\n",
    "    \n",
    "    sentences_df[SENTENCES_COL] = sentences_df[SENTENCES_COL].str.lower()\n",
    "    \n",
    "    # tokenize sentence with split, and use filter to find named entities\n",
    "    ner_filter = lambda sentence: list(filter(lambda word: word.strip(string.punctuation) in NER_SET, sentence.split() ))\n",
    "    sentences_df[NER_COL] = sentences_df[SENTENCES_COL].apply(ner_filter)\n",
    "    \n",
    "    sentences_df[NER_COL] = sentences_df.apply(lambda row: row[NER_COL] + [word.lower() for word in row[UPPER_COL]], axis=1)\n",
    "    \n",
    "    return sentences_df"
   ]
  },
  {
   "cell_type": "code",
   "execution_count": 15,
   "metadata": {},
   "outputs": [],
   "source": [
    "def clean_entities(sentences_df, NER_COL = 'named_entities', STR_COL = 'str_entities', non_players_set = {}):\n",
    "    ''' Clean up the entities by\n",
    "        1. Removing known non-player entities (e.g. teams, NBA, Coaches)\n",
    "        2. Removing sentences that have 0 entities, or > 2 entities (i.e. multiple players)\n",
    "    '''\n",
    "    # clean up entities\n",
    "    sentences_df[NER_COL] = sentences_df[NER_COL].apply(lambda entities: [entity.strip(punctuation) for entity in entities])\n",
    "    sentences_df[NER_COL] = sentences_df[NER_COL].apply(lambda entities: [entity.lower() for entity in entities])\n",
    "    \n",
    "    # remove known non-player entities, and filter out rows with non-unique entities\n",
    "    sentences_df[NER_COL] = sentences_df[NER_COL].apply(lambda entities: [entity for entity in entities if entity not in non_players_set])\n",
    "    sentences_df = sentences_df[sentences_df[NER_COL].str.len() > 0] # only care if we can find entity\n",
    "    sentences_df = sentences_df[sentences_df[NER_COL].str.len() <3]\n",
    "    \n",
    "    sentences_df[STR_COL] = sentences_df[NER_COL].apply(lambda entities: ' '.join(entities))\n",
    "    \n",
    "    print('Outputting {} sentences which have 1-2 named entities'.format(sentences_df.shape[0]))\n",
    "\n",
    "    return sentences_df"
   ]
  },
  {
   "cell_type": "code",
   "execution_count": 16,
   "metadata": {},
   "outputs": [],
   "source": [
    "def calculate_sentiment(sentences_df, sentiment_analyzer, SENTENCES_COL = 'sentences'):\n",
    "    ''' Calculate sentiment of a sentence, probably using Vader\n",
    "    '''\n",
    "\n",
    "    # reset index to allow join to occur propoerly\n",
    "    sentences_df = sentences_df.reset_index(drop=True)\n",
    "    \n",
    "    intermediate_df = sentences_df[SENTENCES_COL].apply(lambda sentence: sentiment_analyzer.polarity_scores(sentence) )\n",
    "    sentiment_df = pd.DataFrame.from_dict(intermediate_df.tolist())\n",
    "    sentences_df = sentences_df.join(sentiment_df)\n",
    "    \n",
    "    return sentences_df"
   ]
  },
  {
   "cell_type": "code",
   "execution_count": 17,
   "metadata": {},
   "outputs": [],
   "source": [
    "def find_player( potential_name, unique_names = UNIQUE_NAMES):\n",
    "    names = fuzzy_process.extractBests(potential_name, unique_names, score_cutoff=87) # 87 means that \"klay kd\" matches nothing, but \"curry\" matches \"stephen curry\"\n",
    "    \n",
    "    if (len(names) > 1 and names[0][1] == names[1][1]) or len(names) == 0:\n",
    "    # no clear match, return 'unclear match'\n",
    "        return 'unclear'\n",
    "    # only one similar, or clear top similar\n",
    "    return names[0][0]"
   ]
  },
  {
   "cell_type": "markdown",
   "metadata": {},
   "source": [
    "## Load data\n",
    "### Reddit\n",
    "#### 2017 season"
   ]
  },
  {
   "cell_type": "code",
   "execution_count": null,
   "metadata": {},
   "outputs": [],
   "source": [
    "%%time\n",
    "#_, oct_df = create_sentiment_df('data/201710-comments_submissions.tsv.gz', ner_set=PLAYER_ENTITIES)\n",
    "#_, nov_df = create_sentiment_df('data/201711-comments_submissions.tsv.gz', ner_set=PLAYER_ENTITIES)\n",
    "#_, dec_df = create_sentiment_df('data/201712-comments_submissions.tsv.gz', ner_set=PLAYER_ENTITIES)\n",
    "_, jan_df = create_sentiment_df('data/201801-comments_submissions.tsv.gz', ner_set=PLAYER_ENTITIES)\n",
    "_, feb_df = create_sentiment_df('data/201802-comments_submissions.tsv.gz', ner_set=PLAYER_ENTITIES)\n",
    "_, mar_df = create_sentiment_df('data/201803-comments_submissions.tsv.gz', ner_set=PLAYER_ENTITIES)\n",
    "_, apr_df = create_sentiment_df('data/201804-comments_submissions.tsv.gz', ner_set=PLAYER_ENTITIES)\n",
    "_, may_df = create_sentiment_df('data/201805-comments_submissions.tsv.gz', ner_set=PLAYER_ENTITIES)"
   ]
  },
  {
   "cell_type": "code",
   "execution_count": 144,
   "metadata": {},
   "outputs": [
    {
     "name": "stderr",
     "output_type": "stream",
     "text": [
      "C:\\ProgramData\\Anaconda3\\lib\\site-packages\\ipykernel_launcher.py:1: FutureWarning: Sorting because non-concatenation axis is not aligned. A future version\n",
      "of pandas will change to not sort by default.\n",
      "\n",
      "To accept the future behavior, pass 'sort=True'.\n",
      "\n",
      "To retain the current behavior and silence the warning, pass sort=False\n",
      "\n",
      "  \"\"\"Entry point for launching an IPython kernel.\n"
     ]
    },
    {
     "data": {
      "text/plain": [
       "(1312264, 17)"
      ]
     },
     "execution_count": 144,
     "metadata": {},
     "output_type": "execute_result"
    }
   ],
   "source": [
    "nba2017_df = pd.concat([oct_df, nov_df, dec_df, jan_df, feb_df, mar_df, apr_df, may_df])\n",
    "nba2017_df.shape"
   ]
  },
  {
   "cell_type": "code",
   "execution_count": 145,
   "metadata": {},
   "outputs": [],
   "source": [
    "nba2017_df.to_csv('data/combined_months_ner_sentiment_2017.tsv', sep='\\t',\n",
    "               index=False, encoding = 'utf-8')"
   ]
  },
  {
   "cell_type": "markdown",
   "metadata": {},
   "source": [
    "#### 2016 season"
   ]
  },
  {
   "cell_type": "code",
   "execution_count": null,
   "metadata": {},
   "outputs": [],
   "source": [
    "%%time\n",
    "_, oct_df = create_sentiment_df('data/201610-comments_submissions.tsv', ner_set=PLAYER_ENTITIES)\n",
    "_, nov_df = create_sentiment_df('data/201611-comments_submissions.tsv', ner_set=PLAYER_ENTITIES)\n",
    "_, dec_df = create_sentiment_df('data/201612-comments_submissions.tsv', ner_set=PLAYER_ENTITIES)\n",
    "_, jan_df = create_sentiment_df('data/201701-comments_submissions.tsv', ner_set=PLAYER_ENTITIES)\n",
    "_, feb_df = create_sentiment_df('data/201702-comments_submissions.tsv.gz', ner_set=PLAYER_ENTITIES)\n",
    "_, mar_df = create_sentiment_df('data/201703-comments_submissions.tsv.gz', ner_set=PLAYER_ENTITIES)\n",
    "_, apr_df = create_sentiment_df('data/201704-comments_submissions.tsv.gz', ner_set=PLAYER_ENTITIES)\n",
    "_, may_df = create_sentiment_df('data/201705-comments_submissions.tsv.gz', ner_set=PLAYER_ENTITIES)"
   ]
  },
  {
   "cell_type": "code",
   "execution_count": 147,
   "metadata": {},
   "outputs": [
    {
     "data": {
      "text/plain": [
       "(888935, 16)"
      ]
     },
     "execution_count": 147,
     "metadata": {},
     "output_type": "execute_result"
    }
   ],
   "source": [
    "nba2016_df = pd.concat([oct_df, nov_df, dec_df, jan_df, feb_df, mar_df, apr_df, may_df])\n",
    "nba2016_df.shape"
   ]
  },
  {
   "cell_type": "code",
   "execution_count": 148,
   "metadata": {},
   "outputs": [],
   "source": [
    "nba2016_df.to_csv('data/combined_months_ner_sentiment_2016.tsv', sep='\\t',\n",
    "               index=False, encoding = 'utf-8')"
   ]
  },
  {
   "cell_type": "markdown",
   "metadata": {},
   "source": [
    "#### Save / load"
   ]
  },
  {
   "cell_type": "code",
   "execution_count": 18,
   "metadata": {},
   "outputs": [
    {
     "name": "stderr",
     "output_type": "stream",
     "text": [
      "C:\\ProgramData\\Anaconda3\\lib\\site-packages\\IPython\\core\\interactiveshell.py:2785: DtypeWarning: Columns (1,2,4) have mixed types. Specify dtype option on import or set low_memory=False.\n",
      "  interactivity=interactivity, compiler=compiler, result=result)\n",
      "C:\\ProgramData\\Anaconda3\\lib\\site-packages\\IPython\\core\\interactiveshell.py:2785: DtypeWarning: Columns (2) have mixed types. Specify dtype option on import or set low_memory=False.\n",
      "  interactivity=interactivity, compiler=compiler, result=result)\n"
     ]
    }
   ],
   "source": [
    "nba2016_df = pd.read_csv('data/combined_months_ner_sentiment_2016.tsv',sep='\\t', encoding = 'utf-8')\n",
    "nba2016_df['named_entities'] = nba2016_df['named_entities'].apply(literal_eval)\n",
    "nba2017_df = pd.read_csv('data/combined_months_ner_sentiment_2017.tsv',sep='\\t', encoding = 'utf-8').drop(columns='Unnamed: 0')\n",
    "nba2017_df['named_entities'] = nba2017_df['named_entities'].apply(literal_eval)"
   ]
  },
  {
   "cell_type": "markdown",
   "metadata": {},
   "source": [
    "#### Cleaning up name matches\n",
    "Some extracted name entities don't have a clear match (e.g. \"Rivers\" could be Austin Rivers or Doc Rivers). Here we clean those out"
   ]
  },
  {
   "cell_type": "code",
   "execution_count": 104,
   "metadata": {},
   "outputs": [],
   "source": [
    "name_map = {name:'unclear' for name in ['rivers', 'bird', 'draymond sessions', 'jalen jalen', 'brown markelle', 'kyrie korver', 'kyrie singler',\n",
    "                    'wade drummond', 'kyrie anderson', 'kyle irving', 'kyle ingles', 'kyle turner', 'kyle turner', 'jabari maker',\n",
    "                    'walton walton', 'nene kanter', 'courtney love', 'george will', 'charles charles', 'jason aaron', 'lebron jae',\n",
    "                    'sterling lebron', 'bobby lebron', 'damien', 'cleveland', 'cleveland cleveland', 'ben ben', 'martin', \"o'bryant\",\n",
    "                                       'sam sam']}\n",
    "name_map.update({'giannis':'giannis antetokounmpo'})"
   ]
  },
  {
   "cell_type": "code",
   "execution_count": 106,
   "metadata": {},
   "outputs": [
    {
     "name": "stdout",
     "output_type": "stream",
     "text": [
      "Wall time: 39.5 s\n"
     ]
    }
   ],
   "source": [
    "%%time\n",
    "nba2017_df['fuzzy_name'] = nba2017_df.apply(lambda row: name_map[row['str_entities']] if row['str_entities'] in name_map else row['fuzzy_name'], axis=1)\n",
    "nba2016_df['fuzzy_name'] = nba2016_df.apply(lambda row: name_map[row['str_entities']] if row['str_entities'] in name_map else row['fuzzy_name'], axis=1)"
   ]
  },
  {
   "cell_type": "markdown",
   "metadata": {},
   "source": [
    "Remove players whose names have implicit sentiment"
   ]
  },
  {
   "cell_type": "code",
   "execution_count": 107,
   "metadata": {},
   "outputs": [],
   "source": [
    "senti_players = ['jerian grant', 'jerami grant', 'marcus smart', 'justin holiday','jrue holiday', 'kevin love', 'derrick favors']\n",
    "nba2017_df = nba2017_df[nba2017_df['fuzzy_name'].apply(lambda row: row not in senti_players)]\n",
    "nba2016_df = nba2016_df[nba2016_df['fuzzy_name'].apply(lambda row: row not in senti_players)]"
   ]
  },
  {
   "cell_type": "code",
   "execution_count": 108,
   "metadata": {},
   "outputs": [
    {
     "data": {
      "text/plain": [
       "(723804, 16)"
      ]
     },
     "execution_count": 108,
     "metadata": {},
     "output_type": "execute_result"
    }
   ],
   "source": [
    "match_df = nba2017_df.query('fuzzy_name != \"unclear\"')\n",
    "match_df.shape"
   ]
  },
  {
   "cell_type": "code",
   "execution_count": 109,
   "metadata": {},
   "outputs": [
    {
     "data": {
      "text/html": [
       "<div>\n",
       "<style scoped>\n",
       "    .dataframe tbody tr th:only-of-type {\n",
       "        vertical-align: middle;\n",
       "    }\n",
       "\n",
       "    .dataframe tbody tr th {\n",
       "        vertical-align: top;\n",
       "    }\n",
       "\n",
       "    .dataframe thead th {\n",
       "        text-align: right;\n",
       "    }\n",
       "</style>\n",
       "<table border=\"1\" class=\"dataframe\">\n",
       "  <thead>\n",
       "    <tr style=\"text-align: right;\">\n",
       "      <th></th>\n",
       "      <th>fuzzy_name</th>\n",
       "      <th>user</th>\n",
       "      <th>compound_mean</th>\n",
       "      <th>compound_std</th>\n",
       "      <th>comment_count</th>\n",
       "    </tr>\n",
       "  </thead>\n",
       "  <tbody>\n",
       "    <tr>\n",
       "      <th>0</th>\n",
       "      <td>aaron brooks</td>\n",
       "      <td>666mafioso</td>\n",
       "      <td>0.6705</td>\n",
       "      <td>NaN</td>\n",
       "      <td>1</td>\n",
       "    </tr>\n",
       "    <tr>\n",
       "      <th>1</th>\n",
       "      <td>aaron brooks</td>\n",
       "      <td>76Answers</td>\n",
       "      <td>0.4927</td>\n",
       "      <td>NaN</td>\n",
       "      <td>1</td>\n",
       "    </tr>\n",
       "  </tbody>\n",
       "</table>\n",
       "</div>"
      ],
      "text/plain": [
       "     fuzzy_name        user  compound_mean  compound_std  comment_count\n",
       "0  aaron brooks  666mafioso         0.6705           NaN              1\n",
       "1  aaron brooks   76Answers         0.4927           NaN              1"
      ]
     },
     "execution_count": 109,
     "metadata": {},
     "output_type": "execute_result"
    }
   ],
   "source": [
    "user_player_sentiment_df = match_df.groupby(['fuzzy_name', 'user']).agg({'compound':['mean', 'std', 'count']}).reset_index()\n",
    "user_player_sentiment_df.columns = ['fuzzy_name', 'user', 'compound_mean', 'compound_std', 'comment_count']\n",
    "user_player_sentiment_df.head(2)"
   ]
  },
  {
   "cell_type": "code",
   "execution_count": 110,
   "metadata": {},
   "outputs": [],
   "source": [
    "player_sentiment_df = (user_player_sentiment_df.query('compound_mean != 0')\n",
    "                                               .groupby('fuzzy_name')\n",
    "                                               .agg({'compound_mean':['mean', 'std', 'count']})\n",
    "                                               .reset_index() )\n",
    "player_sentiment_df.columns = ['fuzzy_name', 'compound_mean_mean', 'compound_mean_std', 'user_count']"
   ]
  },
  {
   "cell_type": "markdown",
   "metadata": {},
   "source": [
    "### Exploration of sentiment alone"
   ]
  },
  {
   "cell_type": "code",
   "execution_count": 129,
   "metadata": {},
   "outputs": [
    {
     "data": {
      "text/plain": [
       "[<matplotlib.lines.Line2D at 0x15a04127198>]"
      ]
     },
     "execution_count": 129,
     "metadata": {},
     "output_type": "execute_result"
    },
    {
     "data": {
      "image/png": "[encoded data removed]",
      "text/plain": [
       "<Figure size 432x288 with 1 Axes>"
      ]
     },
     "metadata": {},
     "output_type": "display_data"
    }
   ],
   "source": [
    "player_sentiment_df.query('user_count> 50').plot('user_count', 'compound_mean_mean', kind='scatter')\n",
    "plt.plot([100, 100], [-0.1, 0.3])"
   ]
  },
  {
   "cell_type": "markdown",
   "metadata": {},
   "source": [
    "#### Most commented players"
   ]
  },
  {
   "cell_type": "code",
   "execution_count": 128,
   "metadata": {},
   "outputs": [
    {
     "data": {
      "text/html": [
       "<div>\n",
       "<style scoped>\n",
       "    .dataframe tbody tr th:only-of-type {\n",
       "        vertical-align: middle;\n",
       "    }\n",
       "\n",
       "    .dataframe tbody tr th {\n",
       "        vertical-align: top;\n",
       "    }\n",
       "\n",
       "    .dataframe thead th {\n",
       "        text-align: right;\n",
       "    }\n",
       "</style>\n",
       "<table border=\"1\" class=\"dataframe\">\n",
       "  <thead>\n",
       "    <tr style=\"text-align: right;\">\n",
       "      <th></th>\n",
       "      <th>fuzzy_name</th>\n",
       "      <th>compound_mean_mean</th>\n",
       "      <th>compound_mean_std</th>\n",
       "      <th>user_count</th>\n",
       "    </tr>\n",
       "  </thead>\n",
       "  <tbody>\n",
       "    <tr>\n",
       "      <th>316</th>\n",
       "      <td>lebron james</td>\n",
       "      <td>0.129282</td>\n",
       "      <td>0.345098</td>\n",
       "      <td>20444</td>\n",
       "    </tr>\n",
       "    <tr>\n",
       "      <th>212</th>\n",
       "      <td>james harden</td>\n",
       "      <td>0.101097</td>\n",
       "      <td>0.374204</td>\n",
       "      <td>9357</td>\n",
       "    </tr>\n",
       "    <tr>\n",
       "      <th>455</th>\n",
       "      <td>stephen curry</td>\n",
       "      <td>0.144980</td>\n",
       "      <td>0.371942</td>\n",
       "      <td>7281</td>\n",
       "    </tr>\n",
       "    <tr>\n",
       "      <th>308</th>\n",
       "      <td>kyrie irving</td>\n",
       "      <td>0.135729</td>\n",
       "      <td>0.378417</td>\n",
       "      <td>6983</td>\n",
       "    </tr>\n",
       "    <tr>\n",
       "      <th>435</th>\n",
       "      <td>russell westbrook</td>\n",
       "      <td>0.094955</td>\n",
       "      <td>0.387723</td>\n",
       "      <td>6222</td>\n",
       "    </tr>\n",
       "  </tbody>\n",
       "</table>\n",
       "</div>"
      ],
      "text/plain": [
       "            fuzzy_name  compound_mean_mean  compound_mean_std  user_count\n",
       "316       lebron james            0.129282           0.345098       20444\n",
       "212       james harden            0.101097           0.374204        9357\n",
       "455      stephen curry            0.144980           0.371942        7281\n",
       "308       kyrie irving            0.135729           0.378417        6983\n",
       "435  russell westbrook            0.094955           0.387723        6222"
      ]
     },
     "execution_count": 128,
     "metadata": {},
     "output_type": "execute_result"
    }
   ],
   "source": [
    "player_sentiment_df.sort_values('user_count', ascending=False).head()"
   ]
  },
  {
   "cell_type": "markdown",
   "metadata": {},
   "source": [
    "#### Players with lowest sentiment"
   ]
  },
  {
   "cell_type": "code",
   "execution_count": 130,
   "metadata": {},
   "outputs": [
    {
     "data": {
      "text/html": [
       "<div>\n",
       "<style scoped>\n",
       "    .dataframe tbody tr th:only-of-type {\n",
       "        vertical-align: middle;\n",
       "    }\n",
       "\n",
       "    .dataframe tbody tr th {\n",
       "        vertical-align: top;\n",
       "    }\n",
       "\n",
       "    .dataframe thead th {\n",
       "        text-align: right;\n",
       "    }\n",
       "</style>\n",
       "<table border=\"1\" class=\"dataframe\">\n",
       "  <thead>\n",
       "    <tr style=\"text-align: right;\">\n",
       "      <th></th>\n",
       "      <th>fuzzy_name</th>\n",
       "      <th>compound_mean_mean</th>\n",
       "      <th>compound_mean_std</th>\n",
       "      <th>user_count</th>\n",
       "    </tr>\n",
       "  </thead>\n",
       "  <tbody>\n",
       "    <tr>\n",
       "      <th>456</th>\n",
       "      <td>sterling brown</td>\n",
       "      <td>-0.108161</td>\n",
       "      <td>0.452348</td>\n",
       "      <td>415</td>\n",
       "    </tr>\n",
       "    <tr>\n",
       "      <th>33</th>\n",
       "      <td>arron afflalo</td>\n",
       "      <td>-0.088347</td>\n",
       "      <td>0.462434</td>\n",
       "      <td>149</td>\n",
       "    </tr>\n",
       "    <tr>\n",
       "      <th>438</th>\n",
       "      <td>salah mejri</td>\n",
       "      <td>-0.041684</td>\n",
       "      <td>0.467865</td>\n",
       "      <td>309</td>\n",
       "    </tr>\n",
       "    <tr>\n",
       "      <th>527</th>\n",
       "      <td>zaza pachulia</td>\n",
       "      <td>-0.037957</td>\n",
       "      <td>0.428695</td>\n",
       "      <td>2041</td>\n",
       "    </tr>\n",
       "    <tr>\n",
       "      <th>232</th>\n",
       "      <td>jeff teague</td>\n",
       "      <td>-0.028511</td>\n",
       "      <td>0.465854</td>\n",
       "      <td>215</td>\n",
       "    </tr>\n",
       "  </tbody>\n",
       "</table>\n",
       "</div>"
      ],
      "text/plain": [
       "         fuzzy_name  compound_mean_mean  compound_mean_std  user_count\n",
       "456  sterling brown           -0.108161           0.452348         415\n",
       "33    arron afflalo           -0.088347           0.462434         149\n",
       "438     salah mejri           -0.041684           0.467865         309\n",
       "527   zaza pachulia           -0.037957           0.428695        2041\n",
       "232     jeff teague           -0.028511           0.465854         215"
      ]
     },
     "execution_count": 130,
     "metadata": {},
     "output_type": "execute_result"
    }
   ],
   "source": [
    "player_sentiment_df.query('user_count > 100').sort_values('compound_mean_mean').head()"
   ]
  },
  {
   "cell_type": "markdown",
   "metadata": {},
   "source": [
    "#### Players with highest sentiment"
   ]
  },
  {
   "cell_type": "code",
   "execution_count": 131,
   "metadata": {},
   "outputs": [
    {
     "data": {
      "text/html": [
       "<div>\n",
       "<style scoped>\n",
       "    .dataframe tbody tr th:only-of-type {\n",
       "        vertical-align: middle;\n",
       "    }\n",
       "\n",
       "    .dataframe tbody tr th {\n",
       "        vertical-align: top;\n",
       "    }\n",
       "\n",
       "    .dataframe thead th {\n",
       "        text-align: right;\n",
       "    }\n",
       "</style>\n",
       "<table border=\"1\" class=\"dataframe\">\n",
       "  <thead>\n",
       "    <tr style=\"text-align: right;\">\n",
       "      <th></th>\n",
       "      <th>fuzzy_name</th>\n",
       "      <th>compound_mean_mean</th>\n",
       "      <th>compound_mean_std</th>\n",
       "      <th>user_count</th>\n",
       "    </tr>\n",
       "  </thead>\n",
       "  <tbody>\n",
       "    <tr>\n",
       "      <th>75</th>\n",
       "      <td>cole aldrich</td>\n",
       "      <td>0.251906</td>\n",
       "      <td>0.384975</td>\n",
       "      <td>211</td>\n",
       "    </tr>\n",
       "    <tr>\n",
       "      <th>392</th>\n",
       "      <td>og anunoby</td>\n",
       "      <td>0.252034</td>\n",
       "      <td>0.375970</td>\n",
       "      <td>142</td>\n",
       "    </tr>\n",
       "    <tr>\n",
       "      <th>325</th>\n",
       "      <td>luke kennard</td>\n",
       "      <td>0.257164</td>\n",
       "      <td>0.391741</td>\n",
       "      <td>220</td>\n",
       "    </tr>\n",
       "    <tr>\n",
       "      <th>143</th>\n",
       "      <td>ed davis</td>\n",
       "      <td>0.257536</td>\n",
       "      <td>0.370421</td>\n",
       "      <td>135</td>\n",
       "    </tr>\n",
       "    <tr>\n",
       "      <th>202</th>\n",
       "      <td>jakarr sampson</td>\n",
       "      <td>0.261270</td>\n",
       "      <td>0.362963</td>\n",
       "      <td>129</td>\n",
       "    </tr>\n",
       "  </tbody>\n",
       "</table>\n",
       "</div>"
      ],
      "text/plain": [
       "         fuzzy_name  compound_mean_mean  compound_mean_std  user_count\n",
       "75     cole aldrich            0.251906           0.384975         211\n",
       "392      og anunoby            0.252034           0.375970         142\n",
       "325    luke kennard            0.257164           0.391741         220\n",
       "143        ed davis            0.257536           0.370421         135\n",
       "202  jakarr sampson            0.261270           0.362963         129"
      ]
     },
     "execution_count": 131,
     "metadata": {},
     "output_type": "execute_result"
    }
   ],
   "source": [
    "player_sentiment_df.query('user_count > 100').sort_values('compound_mean_mean').tail(5)"
   ]
  },
  {
   "cell_type": "markdown",
   "metadata": {},
   "source": [
    "#### Players with highest std of sentiment"
   ]
  },
  {
   "cell_type": "code",
   "execution_count": 132,
   "metadata": {},
   "outputs": [
    {
     "data": {
      "text/html": [
       "<div>\n",
       "<style scoped>\n",
       "    .dataframe tbody tr th:only-of-type {\n",
       "        vertical-align: middle;\n",
       "    }\n",
       "\n",
       "    .dataframe tbody tr th {\n",
       "        vertical-align: top;\n",
       "    }\n",
       "\n",
       "    .dataframe thead th {\n",
       "        text-align: right;\n",
       "    }\n",
       "</style>\n",
       "<table border=\"1\" class=\"dataframe\">\n",
       "  <thead>\n",
       "    <tr style=\"text-align: right;\">\n",
       "      <th></th>\n",
       "      <th>fuzzy_name</th>\n",
       "      <th>compound_mean_mean</th>\n",
       "      <th>compound_mean_std</th>\n",
       "      <th>user_count</th>\n",
       "    </tr>\n",
       "  </thead>\n",
       "  <tbody>\n",
       "    <tr>\n",
       "      <th>124</th>\n",
       "      <td>devin harris</td>\n",
       "      <td>0.086920</td>\n",
       "      <td>0.469380</td>\n",
       "      <td>124</td>\n",
       "    </tr>\n",
       "    <tr>\n",
       "      <th>7</th>\n",
       "      <td>al jefferson</td>\n",
       "      <td>0.138065</td>\n",
       "      <td>0.473258</td>\n",
       "      <td>198</td>\n",
       "    </tr>\n",
       "    <tr>\n",
       "      <th>116</th>\n",
       "      <td>dennis schroder</td>\n",
       "      <td>0.057185</td>\n",
       "      <td>0.473741</td>\n",
       "      <td>201</td>\n",
       "    </tr>\n",
       "    <tr>\n",
       "      <th>275</th>\n",
       "      <td>julyan stone</td>\n",
       "      <td>0.087713</td>\n",
       "      <td>0.480701</td>\n",
       "      <td>315</td>\n",
       "    </tr>\n",
       "    <tr>\n",
       "      <th>253</th>\n",
       "      <td>johnny o'bryant</td>\n",
       "      <td>0.038065</td>\n",
       "      <td>0.485995</td>\n",
       "      <td>111</td>\n",
       "    </tr>\n",
       "  </tbody>\n",
       "</table>\n",
       "</div>"
      ],
      "text/plain": [
       "          fuzzy_name  compound_mean_mean  compound_mean_std  user_count\n",
       "124     devin harris            0.086920           0.469380         124\n",
       "7       al jefferson            0.138065           0.473258         198\n",
       "116  dennis schroder            0.057185           0.473741         201\n",
       "275     julyan stone            0.087713           0.480701         315\n",
       "253  johnny o'bryant            0.038065           0.485995         111"
      ]
     },
     "execution_count": 132,
     "metadata": {},
     "output_type": "execute_result"
    }
   ],
   "source": [
    "player_sentiment_df.query('user_count > 100').sort_values('compound_mean_std').tail(5)"
   ]
  },
  {
   "cell_type": "markdown",
   "metadata": {},
   "source": [
    "#### Join player sentiment to performance and demographics"
   ]
  },
  {
   "cell_type": "code",
   "execution_count": 135,
   "metadata": {},
   "outputs": [],
   "source": [
    "join_df = (player_sentiment_df.reset_index()\n",
    "                         .merge(demo_df, left_on = 'fuzzy_name', right_on = 'Player'))\n",
    "join_df['PER'] = pd.to_numeric(join_df['PER'])\n",
    "join_df['Age'] = pd.to_numeric(join_df['Age'])\n",
    "join_df['Wt'] = pd.to_numeric(join_df['Wt'])"
   ]
  },
  {
   "cell_type": "markdown",
   "metadata": {},
   "source": [
    "### Explore demographics relationship with sentiment"
   ]
  },
  {
   "cell_type": "code",
   "execution_count": 140,
   "metadata": {},
   "outputs": [
    {
     "data": {
      "image/png": "[encoded data removed]",
      "text/plain": [
       "<Figure size 432x288 with 1 Axes>"
      ]
     },
     "metadata": {},
     "output_type": "display_data"
    }
   ],
   "source": [
    "plt.plot(join_df['PER'].values, join_df['compound_mean_mean'].values, '.',alpha= 0.2);\n",
    "plt.xlabel('PER')\n",
    "plt.ylabel('Mean sentiment');"
   ]
  },
  {
   "cell_type": "code",
   "execution_count": 136,
   "metadata": {},
   "outputs": [
    {
     "data": {
      "text/html": [
       "<div>\n",
       "<style scoped>\n",
       "    .dataframe tbody tr th:only-of-type {\n",
       "        vertical-align: middle;\n",
       "    }\n",
       "\n",
       "    .dataframe tbody tr th {\n",
       "        vertical-align: top;\n",
       "    }\n",
       "\n",
       "    .dataframe thead th {\n",
       "        text-align: right;\n",
       "    }\n",
       "</style>\n",
       "<table border=\"1\" class=\"dataframe\">\n",
       "  <thead>\n",
       "    <tr style=\"text-align: right;\">\n",
       "      <th></th>\n",
       "      <th>index</th>\n",
       "      <th>compound_mean_mean</th>\n",
       "      <th>compound_mean_std</th>\n",
       "      <th>user_count</th>\n",
       "      <th>From</th>\n",
       "      <th>To</th>\n",
       "      <th>Wt</th>\n",
       "      <th>experience</th>\n",
       "      <th>Age</th>\n",
       "      <th>PER</th>\n",
       "      <th>Unnamed: 19</th>\n",
       "      <th>Unnamed: 24</th>\n",
       "    </tr>\n",
       "    <tr>\n",
       "      <th>Race</th>\n",
       "      <th></th>\n",
       "      <th></th>\n",
       "      <th></th>\n",
       "      <th></th>\n",
       "      <th></th>\n",
       "      <th></th>\n",
       "      <th></th>\n",
       "      <th></th>\n",
       "      <th></th>\n",
       "      <th></th>\n",
       "      <th></th>\n",
       "      <th></th>\n",
       "    </tr>\n",
       "  </thead>\n",
       "  <tbody>\n",
       "    <tr>\n",
       "      <th>A</th>\n",
       "      <td>382.000000</td>\n",
       "      <td>0.135601</td>\n",
       "      <td>0.430314</td>\n",
       "      <td>264.500000</td>\n",
       "      <td>2014.500000</td>\n",
       "      <td>2018.0</td>\n",
       "      <td>205.000000</td>\n",
       "      <td>3.500000</td>\n",
       "      <td>25.500000</td>\n",
       "      <td>8.900000</td>\n",
       "      <td>NaN</td>\n",
       "      <td>NaN</td>\n",
       "    </tr>\n",
       "    <tr>\n",
       "      <th>B</th>\n",
       "      <td>260.532178</td>\n",
       "      <td>0.149364</td>\n",
       "      <td>0.420393</td>\n",
       "      <td>493.987624</td>\n",
       "      <td>2013.668317</td>\n",
       "      <td>2018.0</td>\n",
       "      <td>214.183168</td>\n",
       "      <td>4.331683</td>\n",
       "      <td>25.980198</td>\n",
       "      <td>12.833168</td>\n",
       "      <td>NaN</td>\n",
       "      <td>NaN</td>\n",
       "    </tr>\n",
       "    <tr>\n",
       "      <th>M</th>\n",
       "      <td>238.538462</td>\n",
       "      <td>0.147993</td>\n",
       "      <td>0.416564</td>\n",
       "      <td>1551.923077</td>\n",
       "      <td>2013.153846</td>\n",
       "      <td>2018.0</td>\n",
       "      <td>208.307692</td>\n",
       "      <td>4.846154</td>\n",
       "      <td>26.461538</td>\n",
       "      <td>16.892308</td>\n",
       "      <td>NaN</td>\n",
       "      <td>NaN</td>\n",
       "    </tr>\n",
       "    <tr>\n",
       "      <th>R</th>\n",
       "      <td>221.000000</td>\n",
       "      <td>0.015353</td>\n",
       "      <td>0.439793</td>\n",
       "      <td>243.500000</td>\n",
       "      <td>2017.000000</td>\n",
       "      <td>2018.0</td>\n",
       "      <td>237.500000</td>\n",
       "      <td>1.000000</td>\n",
       "      <td>27.500000</td>\n",
       "      <td>11.450000</td>\n",
       "      <td>NaN</td>\n",
       "      <td>NaN</td>\n",
       "    </tr>\n",
       "    <tr>\n",
       "      <th>W</th>\n",
       "      <td>278.648148</td>\n",
       "      <td>0.149907</td>\n",
       "      <td>0.416457</td>\n",
       "      <td>395.055556</td>\n",
       "      <td>2013.787037</td>\n",
       "      <td>2018.0</td>\n",
       "      <td>228.675926</td>\n",
       "      <td>4.212963</td>\n",
       "      <td>26.490741</td>\n",
       "      <td>12.575000</td>\n",
       "      <td>NaN</td>\n",
       "      <td>NaN</td>\n",
       "    </tr>\n",
       "  </tbody>\n",
       "</table>\n",
       "</div>"
      ],
      "text/plain": [
       "           index  compound_mean_mean  compound_mean_std   user_count  \\\n",
       "Race                                                                   \n",
       "A     382.000000            0.135601           0.430314   264.500000   \n",
       "B     260.532178            0.149364           0.420393   493.987624   \n",
       "M     238.538462            0.147993           0.416564  1551.923077   \n",
       "R     221.000000            0.015353           0.439793   243.500000   \n",
       "W     278.648148            0.149907           0.416457   395.055556   \n",
       "\n",
       "             From      To          Wt  experience        Age        PER  \\\n",
       "Race                                                                      \n",
       "A     2014.500000  2018.0  205.000000    3.500000  25.500000   8.900000   \n",
       "B     2013.668317  2018.0  214.183168    4.331683  25.980198  12.833168   \n",
       "M     2013.153846  2018.0  208.307692    4.846154  26.461538  16.892308   \n",
       "R     2017.000000  2018.0  237.500000    1.000000  27.500000  11.450000   \n",
       "W     2013.787037  2018.0  228.675926    4.212963  26.490741  12.575000   \n",
       "\n",
       "      Unnamed: 19  Unnamed: 24  \n",
       "Race                            \n",
       "A             NaN          NaN  \n",
       "B             NaN          NaN  \n",
       "M             NaN          NaN  \n",
       "R             NaN          NaN  \n",
       "W             NaN          NaN  "
      ]
     },
     "execution_count": 136,
     "metadata": {},
     "output_type": "execute_result"
    }
   ],
   "source": [
    "join_df.groupby('Race').mean()"
   ]
  },
  {
   "cell_type": "code",
   "execution_count": 147,
   "metadata": {},
   "outputs": [
    {
     "data": {
      "image/png": "[encoded data removed]",
      "text/plain": [
       "<Figure size 432x288 with 1 Axes>"
      ]
     },
     "metadata": {},
     "output_type": "display_data"
    }
   ],
   "source": [
    "join_df.groupby('Age').mean().reset_index().plot('Age', 'compound_mean_mean', kind='scatter');"
   ]
  },
  {
   "cell_type": "code",
   "execution_count": 148,
   "metadata": {},
   "outputs": [
    {
     "data": {
      "text/plain": [
       "Index(['index', 'fuzzy_name', 'compound_mean_mean', 'compound_mean_std',\n",
       "       'user_count', 'Player', 'From', 'To', 'Pos_x', 'Ht', 'Wt', 'Birth Date',\n",
       "       'Colleges', 'experience', 'Race', 'Rk', 'Pos_y', 'Age', 'Tm', 'G', 'MP',\n",
       "       'PER', 'TS%', '3PAr', 'FTr', 'ORB%', 'DRB%', 'TRB%', 'AST%', 'STL%',\n",
       "       'BLK%', 'TOV%', 'USG%', 'Unnamed: 19', 'OWS', 'DWS', 'WS', 'WS/48',\n",
       "       'Unnamed: 24', 'OBPM', 'DBPM', 'BPM', 'VORP'],\n",
       "      dtype='object')"
      ]
     },
     "execution_count": 148,
     "metadata": {},
     "output_type": "execute_result"
    }
   ],
   "source": [
    "join_df.columns"
   ]
  },
  {
   "cell_type": "code",
   "execution_count": 150,
   "metadata": {},
   "outputs": [
    {
     "data": {
      "text/html": [
       "<div>\n",
       "<style scoped>\n",
       "    .dataframe tbody tr th:only-of-type {\n",
       "        vertical-align: middle;\n",
       "    }\n",
       "\n",
       "    .dataframe tbody tr th {\n",
       "        vertical-align: top;\n",
       "    }\n",
       "\n",
       "    .dataframe thead th {\n",
       "        text-align: right;\n",
       "    }\n",
       "</style>\n",
       "<table border=\"1\" class=\"dataframe\">\n",
       "  <thead>\n",
       "    <tr style=\"text-align: right;\">\n",
       "      <th></th>\n",
       "      <th>Ht</th>\n",
       "      <th>index</th>\n",
       "      <th>compound_mean_mean</th>\n",
       "      <th>compound_mean_std</th>\n",
       "      <th>user_count</th>\n",
       "      <th>From</th>\n",
       "      <th>To</th>\n",
       "      <th>Wt</th>\n",
       "      <th>experience</th>\n",
       "      <th>Age</th>\n",
       "      <th>PER</th>\n",
       "      <th>Unnamed: 19</th>\n",
       "      <th>Unnamed: 24</th>\n",
       "    </tr>\n",
       "  </thead>\n",
       "  <tbody>\n",
       "    <tr>\n",
       "      <th>0</th>\n",
       "      <td>1-Jul</td>\n",
       "      <td>336.384615</td>\n",
       "      <td>0.127678</td>\n",
       "      <td>0.432113</td>\n",
       "      <td>367.538462</td>\n",
       "      <td>2014.076923</td>\n",
       "      <td>2018.0</td>\n",
       "      <td>243.923077</td>\n",
       "      <td>3.923077</td>\n",
       "      <td>25.230769</td>\n",
       "      <td>13.838462</td>\n",
       "      <td>NaN</td>\n",
       "      <td>NaN</td>\n",
       "    </tr>\n",
       "    <tr>\n",
       "      <th>1</th>\n",
       "      <td>1-Jun</td>\n",
       "      <td>300.600000</td>\n",
       "      <td>0.138501</td>\n",
       "      <td>0.425201</td>\n",
       "      <td>452.050000</td>\n",
       "      <td>2013.600000</td>\n",
       "      <td>2018.0</td>\n",
       "      <td>182.700000</td>\n",
       "      <td>4.400000</td>\n",
       "      <td>27.000000</td>\n",
       "      <td>13.065000</td>\n",
       "      <td>NaN</td>\n",
       "      <td>NaN</td>\n",
       "    </tr>\n",
       "    <tr>\n",
       "      <th>2</th>\n",
       "      <td>10-Jun</td>\n",
       "      <td>228.333333</td>\n",
       "      <td>0.154158</td>\n",
       "      <td>0.413974</td>\n",
       "      <td>323.037037</td>\n",
       "      <td>2013.777778</td>\n",
       "      <td>2018.0</td>\n",
       "      <td>237.092593</td>\n",
       "      <td>4.222222</td>\n",
       "      <td>25.722222</td>\n",
       "      <td>13.548148</td>\n",
       "      <td>NaN</td>\n",
       "      <td>NaN</td>\n",
       "    </tr>\n",
       "    <tr>\n",
       "      <th>3</th>\n",
       "      <td>10-May</td>\n",
       "      <td>497.000000</td>\n",
       "      <td>0.167364</td>\n",
       "      <td>0.424868</td>\n",
       "      <td>119.000000</td>\n",
       "      <td>2017.000000</td>\n",
       "      <td>2018.0</td>\n",
       "      <td>150.000000</td>\n",
       "      <td>1.000000</td>\n",
       "      <td>22.000000</td>\n",
       "      <td>10.100000</td>\n",
       "      <td>NaN</td>\n",
       "      <td>NaN</td>\n",
       "    </tr>\n",
       "    <tr>\n",
       "      <th>4</th>\n",
       "      <td>11-Jun</td>\n",
       "      <td>232.571429</td>\n",
       "      <td>0.132350</td>\n",
       "      <td>0.408197</td>\n",
       "      <td>559.857143</td>\n",
       "      <td>2012.742857</td>\n",
       "      <td>2018.0</td>\n",
       "      <td>244.628571</td>\n",
       "      <td>5.257143</td>\n",
       "      <td>26.085714</td>\n",
       "      <td>17.242857</td>\n",
       "      <td>NaN</td>\n",
       "      <td>NaN</td>\n",
       "    </tr>\n",
       "    <tr>\n",
       "      <th>5</th>\n",
       "      <td>11-May</td>\n",
       "      <td>274.000000</td>\n",
       "      <td>0.197087</td>\n",
       "      <td>0.397602</td>\n",
       "      <td>523.500000</td>\n",
       "      <td>2014.500000</td>\n",
       "      <td>2018.0</td>\n",
       "      <td>170.000000</td>\n",
       "      <td>3.500000</td>\n",
       "      <td>25.500000</td>\n",
       "      <td>22.150000</td>\n",
       "      <td>NaN</td>\n",
       "      <td>NaN</td>\n",
       "    </tr>\n",
       "    <tr>\n",
       "      <th>6</th>\n",
       "      <td>2-Jun</td>\n",
       "      <td>308.833333</td>\n",
       "      <td>0.170301</td>\n",
       "      <td>0.424086</td>\n",
       "      <td>204.388889</td>\n",
       "      <td>2012.888889</td>\n",
       "      <td>2018.0</td>\n",
       "      <td>186.055556</td>\n",
       "      <td>5.111111</td>\n",
       "      <td>27.388889</td>\n",
       "      <td>10.122222</td>\n",
       "      <td>NaN</td>\n",
       "      <td>NaN</td>\n",
       "    </tr>\n",
       "    <tr>\n",
       "      <th>7</th>\n",
       "      <td>3-Jul</td>\n",
       "      <td>171.000000</td>\n",
       "      <td>0.155252</td>\n",
       "      <td>0.411310</td>\n",
       "      <td>1200.000000</td>\n",
       "      <td>2016.000000</td>\n",
       "      <td>2018.0</td>\n",
       "      <td>265.000000</td>\n",
       "      <td>2.000000</td>\n",
       "      <td>25.500000</td>\n",
       "      <td>23.200000</td>\n",
       "      <td>NaN</td>\n",
       "      <td>NaN</td>\n",
       "    </tr>\n",
       "    <tr>\n",
       "      <th>8</th>\n",
       "      <td>3-Jun</td>\n",
       "      <td>248.441176</td>\n",
       "      <td>0.125557</td>\n",
       "      <td>0.426332</td>\n",
       "      <td>1026.529412</td>\n",
       "      <td>2013.411765</td>\n",
       "      <td>2018.0</td>\n",
       "      <td>191.382353</td>\n",
       "      <td>4.588235</td>\n",
       "      <td>26.676471</td>\n",
       "      <td>13.317647</td>\n",
       "      <td>NaN</td>\n",
       "      <td>NaN</td>\n",
       "    </tr>\n",
       "    <tr>\n",
       "      <th>9</th>\n",
       "      <td>4-Jun</td>\n",
       "      <td>294.525000</td>\n",
       "      <td>0.165678</td>\n",
       "      <td>0.414372</td>\n",
       "      <td>450.025000</td>\n",
       "      <td>2014.475000</td>\n",
       "      <td>2018.0</td>\n",
       "      <td>202.400000</td>\n",
       "      <td>3.525000</td>\n",
       "      <td>25.800000</td>\n",
       "      <td>14.487500</td>\n",
       "      <td>NaN</td>\n",
       "      <td>NaN</td>\n",
       "    </tr>\n",
       "    <tr>\n",
       "      <th>10</th>\n",
       "      <td>5-Jun</td>\n",
       "      <td>273.000000</td>\n",
       "      <td>0.140231</td>\n",
       "      <td>0.426268</td>\n",
       "      <td>428.522727</td>\n",
       "      <td>2014.931818</td>\n",
       "      <td>2018.0</td>\n",
       "      <td>201.977273</td>\n",
       "      <td>3.068182</td>\n",
       "      <td>25.181818</td>\n",
       "      <td>10.813636</td>\n",
       "      <td>NaN</td>\n",
       "      <td>NaN</td>\n",
       "    </tr>\n",
       "    <tr>\n",
       "      <th>11</th>\n",
       "      <td>6-Jun</td>\n",
       "      <td>234.090909</td>\n",
       "      <td>0.138625</td>\n",
       "      <td>0.427128</td>\n",
       "      <td>303.527273</td>\n",
       "      <td>2014.290909</td>\n",
       "      <td>2018.0</td>\n",
       "      <td>209.163636</td>\n",
       "      <td>3.709091</td>\n",
       "      <td>25.800000</td>\n",
       "      <td>11.078182</td>\n",
       "      <td>NaN</td>\n",
       "      <td>NaN</td>\n",
       "    </tr>\n",
       "    <tr>\n",
       "      <th>12</th>\n",
       "      <td>7-Jun</td>\n",
       "      <td>290.709091</td>\n",
       "      <td>0.154910</td>\n",
       "      <td>0.411285</td>\n",
       "      <td>522.618182</td>\n",
       "      <td>2014.072727</td>\n",
       "      <td>2018.0</td>\n",
       "      <td>214.309091</td>\n",
       "      <td>3.927273</td>\n",
       "      <td>25.763636</td>\n",
       "      <td>9.905455</td>\n",
       "      <td>NaN</td>\n",
       "      <td>NaN</td>\n",
       "    </tr>\n",
       "    <tr>\n",
       "      <th>13</th>\n",
       "      <td>8-Jun</td>\n",
       "      <td>267.132075</td>\n",
       "      <td>0.160942</td>\n",
       "      <td>0.423543</td>\n",
       "      <td>801.981132</td>\n",
       "      <td>2013.452830</td>\n",
       "      <td>2018.0</td>\n",
       "      <td>225.641509</td>\n",
       "      <td>4.547170</td>\n",
       "      <td>26.264151</td>\n",
       "      <td>12.628302</td>\n",
       "      <td>NaN</td>\n",
       "      <td>NaN</td>\n",
       "    </tr>\n",
       "    <tr>\n",
       "      <th>14</th>\n",
       "      <td>9-Jun</td>\n",
       "      <td>268.052632</td>\n",
       "      <td>0.159668</td>\n",
       "      <td>0.416900</td>\n",
       "      <td>361.403509</td>\n",
       "      <td>2013.298246</td>\n",
       "      <td>2018.0</td>\n",
       "      <td>228.894737</td>\n",
       "      <td>4.701754</td>\n",
       "      <td>26.298246</td>\n",
       "      <td>12.508772</td>\n",
       "      <td>NaN</td>\n",
       "      <td>NaN</td>\n",
       "    </tr>\n",
       "    <tr>\n",
       "      <th>15</th>\n",
       "      <td>9-May</td>\n",
       "      <td>235.500000</td>\n",
       "      <td>0.103599</td>\n",
       "      <td>0.441950</td>\n",
       "      <td>339.500000</td>\n",
       "      <td>2014.500000</td>\n",
       "      <td>2018.0</td>\n",
       "      <td>180.500000</td>\n",
       "      <td>3.500000</td>\n",
       "      <td>25.000000</td>\n",
       "      <td>8.100000</td>\n",
       "      <td>NaN</td>\n",
       "      <td>NaN</td>\n",
       "    </tr>\n",
       "    <tr>\n",
       "      <th>16</th>\n",
       "      <td>Jul-00</td>\n",
       "      <td>268.000000</td>\n",
       "      <td>0.144714</td>\n",
       "      <td>0.422612</td>\n",
       "      <td>606.133333</td>\n",
       "      <td>2012.700000</td>\n",
       "      <td>2018.0</td>\n",
       "      <td>250.966667</td>\n",
       "      <td>5.300000</td>\n",
       "      <td>26.566667</td>\n",
       "      <td>16.033333</td>\n",
       "      <td>NaN</td>\n",
       "      <td>NaN</td>\n",
       "    </tr>\n",
       "    <tr>\n",
       "      <th>17</th>\n",
       "      <td>Jun-00</td>\n",
       "      <td>200.214286</td>\n",
       "      <td>0.146040</td>\n",
       "      <td>0.416294</td>\n",
       "      <td>440.071429</td>\n",
       "      <td>2011.214286</td>\n",
       "      <td>2018.0</td>\n",
       "      <td>184.571429</td>\n",
       "      <td>6.785714</td>\n",
       "      <td>28.500000</td>\n",
       "      <td>14.428571</td>\n",
       "      <td>NaN</td>\n",
       "      <td>NaN</td>\n",
       "    </tr>\n",
       "  </tbody>\n",
       "</table>\n",
       "</div>"
      ],
      "text/plain": [
       "        Ht       index  compound_mean_mean  compound_mean_std   user_count  \\\n",
       "0    1-Jul  336.384615            0.127678           0.432113   367.538462   \n",
       "1    1-Jun  300.600000            0.138501           0.425201   452.050000   \n",
       "2   10-Jun  228.333333            0.154158           0.413974   323.037037   \n",
       "3   10-May  497.000000            0.167364           0.424868   119.000000   \n",
       "4   11-Jun  232.571429            0.132350           0.408197   559.857143   \n",
       "5   11-May  274.000000            0.197087           0.397602   523.500000   \n",
       "6    2-Jun  308.833333            0.170301           0.424086   204.388889   \n",
       "7    3-Jul  171.000000            0.155252           0.411310  1200.000000   \n",
       "8    3-Jun  248.441176            0.125557           0.426332  1026.529412   \n",
       "9    4-Jun  294.525000            0.165678           0.414372   450.025000   \n",
       "10   5-Jun  273.000000            0.140231           0.426268   428.522727   \n",
       "11   6-Jun  234.090909            0.138625           0.427128   303.527273   \n",
       "12   7-Jun  290.709091            0.154910           0.411285   522.618182   \n",
       "13   8-Jun  267.132075            0.160942           0.423543   801.981132   \n",
       "14   9-Jun  268.052632            0.159668           0.416900   361.403509   \n",
       "15   9-May  235.500000            0.103599           0.441950   339.500000   \n",
       "16  Jul-00  268.000000            0.144714           0.422612   606.133333   \n",
       "17  Jun-00  200.214286            0.146040           0.416294   440.071429   \n",
       "\n",
       "           From      To          Wt  experience        Age        PER  \\\n",
       "0   2014.076923  2018.0  243.923077    3.923077  25.230769  13.838462   \n",
       "1   2013.600000  2018.0  182.700000    4.400000  27.000000  13.065000   \n",
       "2   2013.777778  2018.0  237.092593    4.222222  25.722222  13.548148   \n",
       "3   2017.000000  2018.0  150.000000    1.000000  22.000000  10.100000   \n",
       "4   2012.742857  2018.0  244.628571    5.257143  26.085714  17.242857   \n",
       "5   2014.500000  2018.0  170.000000    3.500000  25.500000  22.150000   \n",
       "6   2012.888889  2018.0  186.055556    5.111111  27.388889  10.122222   \n",
       "7   2016.000000  2018.0  265.000000    2.000000  25.500000  23.200000   \n",
       "8   2013.411765  2018.0  191.382353    4.588235  26.676471  13.317647   \n",
       "9   2014.475000  2018.0  202.400000    3.525000  25.800000  14.487500   \n",
       "10  2014.931818  2018.0  201.977273    3.068182  25.181818  10.813636   \n",
       "11  2014.290909  2018.0  209.163636    3.709091  25.800000  11.078182   \n",
       "12  2014.072727  2018.0  214.309091    3.927273  25.763636   9.905455   \n",
       "13  2013.452830  2018.0  225.641509    4.547170  26.264151  12.628302   \n",
       "14  2013.298246  2018.0  228.894737    4.701754  26.298246  12.508772   \n",
       "15  2014.500000  2018.0  180.500000    3.500000  25.000000   8.100000   \n",
       "16  2012.700000  2018.0  250.966667    5.300000  26.566667  16.033333   \n",
       "17  2011.214286  2018.0  184.571429    6.785714  28.500000  14.428571   \n",
       "\n",
       "    Unnamed: 19  Unnamed: 24  \n",
       "0           NaN          NaN  \n",
       "1           NaN          NaN  \n",
       "2           NaN          NaN  \n",
       "3           NaN          NaN  \n",
       "4           NaN          NaN  \n",
       "5           NaN          NaN  \n",
       "6           NaN          NaN  \n",
       "7           NaN          NaN  \n",
       "8           NaN          NaN  \n",
       "9           NaN          NaN  \n",
       "10          NaN          NaN  \n",
       "11          NaN          NaN  \n",
       "12          NaN          NaN  \n",
       "13          NaN          NaN  \n",
       "14          NaN          NaN  \n",
       "15          NaN          NaN  \n",
       "16          NaN          NaN  \n",
       "17          NaN          NaN  "
      ]
     },
     "execution_count": 150,
     "metadata": {},
     "output_type": "execute_result"
    }
   ],
   "source": [
    "join_df.groupby('Ht').mean().reset_index()#.plot('Ht', 'compound_mean_mean', kind='scatter');"
   ]
  },
  {
   "cell_type": "code",
   "execution_count": 308,
   "metadata": {},
   "outputs": [],
   "source": [
    "join_df = pd.concat([join_df, pd.get_dummies(join_df['Race'])], axis = 1)"
   ]
  },
  {
   "cell_type": "code",
   "execution_count": 310,
   "metadata": {},
   "outputs": [],
   "source": [
    "import statsmodels.api as sm\n",
    "\n",
    "# Note the difference in argument order\n",
    "model = sm.OLS( join_df['pos_mean'].values, join_df[['PER', 'B', 'M', 'W', 'experience', 'Age', 'Wt']]).fit()"
   ]
  },
  {
   "cell_type": "code",
   "execution_count": 311,
   "metadata": {},
   "outputs": [
    {
     "data": {
      "text/html": [
       "<table class=\"simpletable\">\n",
       "<caption>OLS Regression Results</caption>\n",
       "<tr>\n",
       "  <th>Dep. Variable:</th>            <td>y</td>        <th>  R-squared:         </th> <td>   0.964</td> \n",
       "</tr>\n",
       "<tr>\n",
       "  <th>Model:</th>                   <td>OLS</td>       <th>  Adj. R-squared:    </th> <td>   0.964</td> \n",
       "</tr>\n",
       "<tr>\n",
       "  <th>Method:</th>             <td>Least Squares</td>  <th>  F-statistic:       </th> <td>   1156.</td> \n",
       "</tr>\n",
       "<tr>\n",
       "  <th>Date:</th>             <td>Tue, 08 May 2018</td> <th>  Prob (F-statistic):</th> <td>2.56e-212</td>\n",
       "</tr>\n",
       "<tr>\n",
       "  <th>Time:</th>                 <td>22:16:07</td>     <th>  Log-Likelihood:    </th> <td>  710.51</td> \n",
       "</tr>\n",
       "<tr>\n",
       "  <th>No. Observations:</th>      <td>   306</td>      <th>  AIC:               </th> <td>  -1407.</td> \n",
       "</tr>\n",
       "<tr>\n",
       "  <th>Df Residuals:</th>          <td>   299</td>      <th>  BIC:               </th> <td>  -1381.</td> \n",
       "</tr>\n",
       "<tr>\n",
       "  <th>Df Model:</th>              <td>     7</td>      <th>                     </th>     <td> </td>    \n",
       "</tr>\n",
       "<tr>\n",
       "  <th>Covariance Type:</th>      <td>nonrobust</td>    <th>                     </th>     <td> </td>    \n",
       "</tr>\n",
       "</table>\n",
       "<table class=\"simpletable\">\n",
       "<tr>\n",
       "       <td></td>         <th>coef</th>     <th>std err</th>      <th>t</th>      <th>P>|t|</th> <th>[95.0% Conf. Int.]</th> \n",
       "</tr>\n",
       "<tr>\n",
       "  <th>PER</th>        <td>    0.0007</td> <td>    0.000</td> <td>    2.723</td> <td> 0.007</td> <td>    0.000     0.001</td>\n",
       "</tr>\n",
       "<tr>\n",
       "  <th>B</th>          <td>    0.0446</td> <td>    0.011</td> <td>    4.097</td> <td> 0.000</td> <td>    0.023     0.066</td>\n",
       "</tr>\n",
       "<tr>\n",
       "  <th>M</th>          <td>    0.0406</td> <td>    0.013</td> <td>    3.132</td> <td> 0.002</td> <td>    0.015     0.066</td>\n",
       "</tr>\n",
       "<tr>\n",
       "  <th>W</th>          <td>    0.0426</td> <td>    0.012</td> <td>    3.642</td> <td> 0.000</td> <td>    0.020     0.066</td>\n",
       "</tr>\n",
       "<tr>\n",
       "  <th>experience</th> <td>   -0.0031</td> <td>    0.001</td> <td>   -5.551</td> <td> 0.000</td> <td>   -0.004    -0.002</td>\n",
       "</tr>\n",
       "<tr>\n",
       "  <th>Age</th>        <td>    0.0026</td> <td>    0.001</td> <td>    4.969</td> <td> 0.000</td> <td>    0.002     0.004</td>\n",
       "</tr>\n",
       "<tr>\n",
       "  <th>Wt</th>         <td> 8.095e-05</td> <td> 5.11e-05</td> <td>    1.583</td> <td> 0.114</td> <td>-1.97e-05     0.000</td>\n",
       "</tr>\n",
       "</table>\n",
       "<table class=\"simpletable\">\n",
       "<tr>\n",
       "  <th>Omnibus:</th>       <td>293.805</td> <th>  Durbin-Watson:     </th> <td>   1.882</td> \n",
       "</tr>\n",
       "<tr>\n",
       "  <th>Prob(Omnibus):</th> <td> 0.000</td>  <th>  Jarque-Bera (JB):  </th> <td>10572.383</td>\n",
       "</tr>\n",
       "<tr>\n",
       "  <th>Skew:</th>          <td> 3.860</td>  <th>  Prob(JB):          </th> <td>    0.00</td> \n",
       "</tr>\n",
       "<tr>\n",
       "  <th>Kurtosis:</th>      <td>30.742</td>  <th>  Cond. No.          </th> <td>3.18e+03</td> \n",
       "</tr>\n",
       "</table>"
      ],
      "text/plain": [
       "<class 'statsmodels.iolib.summary.Summary'>\n",
       "\"\"\"\n",
       "                            OLS Regression Results                            \n",
       "==============================================================================\n",
       "Dep. Variable:                      y   R-squared:                       0.964\n",
       "Model:                            OLS   Adj. R-squared:                  0.964\n",
       "Method:                 Least Squares   F-statistic:                     1156.\n",
       "Date:                Tue, 08 May 2018   Prob (F-statistic):          2.56e-212\n",
       "Time:                        22:16:07   Log-Likelihood:                 710.51\n",
       "No. Observations:                 306   AIC:                            -1407.\n",
       "Df Residuals:                     299   BIC:                            -1381.\n",
       "Df Model:                           7                                         \n",
       "Covariance Type:            nonrobust                                         \n",
       "==============================================================================\n",
       "                 coef    std err          t      P>|t|      [95.0% Conf. Int.]\n",
       "------------------------------------------------------------------------------\n",
       "PER            0.0007      0.000      2.723      0.007         0.000     0.001\n",
       "B              0.0446      0.011      4.097      0.000         0.023     0.066\n",
       "M              0.0406      0.013      3.132      0.002         0.015     0.066\n",
       "W              0.0426      0.012      3.642      0.000         0.020     0.066\n",
       "experience    -0.0031      0.001     -5.551      0.000        -0.004    -0.002\n",
       "Age            0.0026      0.001      4.969      0.000         0.002     0.004\n",
       "Wt          8.095e-05   5.11e-05      1.583      0.114     -1.97e-05     0.000\n",
       "==============================================================================\n",
       "Omnibus:                      293.805   Durbin-Watson:                   1.882\n",
       "Prob(Omnibus):                  0.000   Jarque-Bera (JB):            10572.383\n",
       "Skew:                           3.860   Prob(JB):                         0.00\n",
       "Kurtosis:                      30.742   Cond. No.                     3.18e+03\n",
       "==============================================================================\n",
       "\n",
       "Warnings:\n",
       "[1] Standard Errors assume that the covariance matrix of the errors is correctly specified.\n",
       "[2] The condition number is large, 3.18e+03. This might indicate that there are\n",
       "strong multicollinearity or other numerical problems.\n",
       "\"\"\""
      ]
     },
     "execution_count": 311,
     "metadata": {},
     "output_type": "execute_result"
    }
   ],
   "source": [
    "model.summary()"
   ]
  },
  {
   "cell_type": "code",
   "execution_count": null,
   "metadata": {},
   "outputs": [],
   "source": []
  }
 ],
 "metadata": {
  "kernelspec": {
   "display_name": "Python 3",
   "language": "python",
   "name": "python3"
  },
  "language_info": {
   "codemirror_mode": {
    "name": "ipython",
    "version": 3
   },
   "file_extension": ".py",
   "mimetype": "text/x-python",
   "name": "python",
   "nbconvert_exporter": "python",
   "pygments_lexer": "ipython3",
   "version": "3.6.5"
  }
 },
 "nbformat": 4,
 "nbformat_minor": 2
}
