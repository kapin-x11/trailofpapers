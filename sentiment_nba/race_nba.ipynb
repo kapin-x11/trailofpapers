{
 "cells": [
  {
   "cell_type": "markdown",
   "metadata": {},
   "source": [
    "This notebook was a first go at visualizing NBA performance grouped by race"
   ]
  },
  {
   "cell_type": "code",
   "execution_count": 2,
   "metadata": {},
   "outputs": [],
   "source": [
    "import pandas as pd\n",
    "import difflib\n",
    "from fuzzywuzzy import process as fuzzy_process\n",
    "import numpy as np\n",
    "import seaborn as sns\n",
    "import matplotlib.pyplot as plt\n",
    "%matplotlib inline"
   ]
  },
  {
   "cell_type": "markdown",
   "metadata": {},
   "source": [
    "## Download performance data from Basketball Reference"
   ]
  },
  {
   "cell_type": "code",
   "execution_count": 1,
   "metadata": {},
   "outputs": [],
   "source": [
    "def download_yearly_stats(start_year = 2016, end_year = 2018):\n",
    "    ''' Download NBA stats from all years in the range from Basketball Reference\n",
    "        returns: list of pandas dataframes with stats, including columns for name and year\n",
    "    '''\n",
    "    df_list = []\n",
    "    base_url = 'https://www.basketball-reference.com/leagues/NBA_{}_advanced.html'\n",
    "    for year in range(start_year, end_year+1):\n",
    "        print('Downloading stats for year: {}'.format(year))\n",
    "        cur_year_df = pd.read_html(base_url.format(year))[0]\n",
    "        cur_year_df['year'] = year\n",
    "        df_list.append(cur_year_df)\n",
    "    return df_list"
   ]
  },
  {
   "cell_type": "code",
   "execution_count": 16,
   "metadata": {},
   "outputs": [
    {
     "name": "stdout",
     "output_type": "stream",
     "text": [
      "Downloading stats for year: 1950\n",
      "Downloading stats for year: 1951\n",
      "Downloading stats for year: 1952\n",
      "Downloading stats for year: 1953\n",
      "Downloading stats for year: 1954\n",
      "Downloading stats for year: 1955\n",
      "Downloading stats for year: 1956\n",
      "Downloading stats for year: 1957\n",
      "Downloading stats for year: 1958\n",
      "Downloading stats for year: 1959\n",
      "Downloading stats for year: 1960\n",
      "Downloading stats for year: 1961\n",
      "Downloading stats for year: 1962\n",
      "Downloading stats for year: 1963\n",
      "Downloading stats for year: 1964\n",
      "Downloading stats for year: 1965\n",
      "Downloading stats for year: 1966\n",
      "Downloading stats for year: 1967\n",
      "Downloading stats for year: 1968\n",
      "Downloading stats for year: 1969\n",
      "Downloading stats for year: 1970\n",
      "Downloading stats for year: 1971\n",
      "Downloading stats for year: 1972\n",
      "Downloading stats for year: 1973\n",
      "Downloading stats for year: 1974\n",
      "Downloading stats for year: 1975\n",
      "Downloading stats for year: 1976\n",
      "Downloading stats for year: 1977\n",
      "Downloading stats for year: 1978\n",
      "Downloading stats for year: 1979\n",
      "Downloading stats for year: 1980\n",
      "Downloading stats for year: 1981\n",
      "Downloading stats for year: 1982\n",
      "Downloading stats for year: 1983\n",
      "Downloading stats for year: 1984\n",
      "Downloading stats for year: 1985\n",
      "Downloading stats for year: 1986\n",
      "Downloading stats for year: 1987\n",
      "Downloading stats for year: 1988\n",
      "Downloading stats for year: 1989\n",
      "Downloading stats for year: 1990\n",
      "Downloading stats for year: 1991\n",
      "Downloading stats for year: 1992\n",
      "Downloading stats for year: 1993\n",
      "Downloading stats for year: 1994\n",
      "Downloading stats for year: 1995\n",
      "Downloading stats for year: 1996\n",
      "Downloading stats for year: 1997\n",
      "Downloading stats for year: 1998\n",
      "Downloading stats for year: 1999\n",
      "Downloading stats for year: 2000\n",
      "Downloading stats for year: 2001\n",
      "Downloading stats for year: 2002\n",
      "Downloading stats for year: 2003\n",
      "Downloading stats for year: 2004\n",
      "Downloading stats for year: 2005\n",
      "Downloading stats for year: 2006\n",
      "Downloading stats for year: 2007\n",
      "Downloading stats for year: 2008\n",
      "Downloading stats for year: 2009\n",
      "Downloading stats for year: 2010\n",
      "Downloading stats for year: 2011\n",
      "Downloading stats for year: 2012\n",
      "Downloading stats for year: 2013\n",
      "Downloading stats for year: 2014\n",
      "Downloading stats for year: 2015\n",
      "Downloading stats for year: 2016\n",
      "Downloading stats for year: 2017\n",
      "Downloading stats for year: 2018\n",
      "Wall time: 5min 58s\n"
     ]
    }
   ],
   "source": [
    "%%time\n",
    "all_years = download_yearly_stats(1950)"
   ]
  },
  {
   "cell_type": "code",
   "execution_count": 17,
   "metadata": {},
   "outputs": [
    {
     "data": {
      "text/plain": [
       "(25282, 31)"
      ]
     },
     "execution_count": 17,
     "metadata": {},
     "output_type": "execute_result"
    }
   ],
   "source": [
    "nba_stats_df = pd.concat(all_years).fillna({'Age':27})\n",
    "nba_stats_df = nba_stats_df.query('Player != \"Player\" and Age != \"Age\"')\n",
    "nba_stats_df['Player'] = nba_stats_df['Player'].str.lower().str.strip('*')\n",
    "nba_stats_df['Age'] = nba_stats_df['Age'].astype(int)\n",
    "nba_stats_df['birth_year'] = nba_stats_df['year'] - nba_stats_df['Age']\n",
    "nba_stats_df.shape"
   ]
  },
  {
   "cell_type": "code",
   "execution_count": 18,
   "metadata": {},
   "outputs": [
    {
     "data": {
      "text/html": [
       "<div>\n",
       "<table border=\"1\" class=\"dataframe\">\n",
       "  <thead>\n",
       "    <tr style=\"text-align: right;\">\n",
       "      <th></th>\n",
       "      <th>Player</th>\n",
       "      <th>Pos</th>\n",
       "      <th>Age</th>\n",
       "      <th>G</th>\n",
       "      <th>PER</th>\n",
       "      <th>year</th>\n",
       "      <th>birth_year</th>\n",
       "    </tr>\n",
       "  </thead>\n",
       "  <tbody>\n",
       "    <tr>\n",
       "      <th>179</th>\n",
       "      <td>demar derozan</td>\n",
       "      <td>SG</td>\n",
       "      <td>24</td>\n",
       "      <td>79</td>\n",
       "      <td>18.4</td>\n",
       "      <td>2014</td>\n",
       "      <td>1990</td>\n",
       "    </tr>\n",
       "    <tr>\n",
       "      <th>398</th>\n",
       "      <td>elston turner</td>\n",
       "      <td>SF</td>\n",
       "      <td>29</td>\n",
       "      <td>78</td>\n",
       "      <td>7.8</td>\n",
       "      <td>1989</td>\n",
       "      <td>1960</td>\n",
       "    </tr>\n",
       "    <tr>\n",
       "      <th>75</th>\n",
       "      <td>t.r. dunn</td>\n",
       "      <td>SG</td>\n",
       "      <td>28</td>\n",
       "      <td>80</td>\n",
       "      <td>10.2</td>\n",
       "      <td>1984</td>\n",
       "      <td>1956</td>\n",
       "    </tr>\n",
       "  </tbody>\n",
       "</table>\n",
       "</div>"
      ],
      "text/plain": [
       "            Player Pos  Age   G   PER  year  birth_year\n",
       "179  demar derozan  SG   24  79  18.4  2014        1990\n",
       "398  elston turner  SF   29  78   7.8  1989        1960\n",
       "75       t.r. dunn  SG   28  80  10.2  1984        1956"
      ]
     },
     "execution_count": 18,
     "metadata": {},
     "output_type": "execute_result"
    }
   ],
   "source": [
    "nba_stats_df[['Player', 'Pos', 'Age', 'G', 'PER', 'year', 'birth_year']].sample(3)"
   ]
  },
  {
   "cell_type": "code",
   "execution_count": 19,
   "metadata": {},
   "outputs": [],
   "source": [
    "def get_total_season( df):\n",
    "    ''' For players who are on multiple teams in one year, get the total\n",
    "    '''\n",
    "    if df.shape[0]==1:\n",
    "        return df\n",
    "    else:\n",
    "        return df.query('Tm == \"TOT\"')"
   ]
  },
  {
   "cell_type": "code",
   "execution_count": 20,
   "metadata": {},
   "outputs": [],
   "source": [
    "nba_stats_df = nba_stats_df.groupby(['Player', 'Age', 'year'], as_index=False).apply(get_total_season)"
   ]
  },
  {
   "cell_type": "code",
   "execution_count": 21,
   "metadata": {},
   "outputs": [
    {
     "data": {
      "text/plain": [
       "(20847, 31)"
      ]
     },
     "execution_count": 21,
     "metadata": {},
     "output_type": "execute_result"
    }
   ],
   "source": [
    "nba_stats_df.shape"
   ]
  },
  {
   "cell_type": "markdown",
   "metadata": {},
   "source": [
    "#### Save"
   ]
  },
  {
   "cell_type": "code",
   "execution_count": 22,
   "metadata": {},
   "outputs": [],
   "source": [
    "nba_stats_df.to_csv('nba_stats_1950-2018.tsv', sep ='\\t', encoding = 'utf-8')"
   ]
  },
  {
   "cell_type": "markdown",
   "metadata": {},
   "source": [
    "#### Load"
   ]
  },
  {
   "cell_type": "code",
   "execution_count": 2,
   "metadata": {},
   "outputs": [],
   "source": [
    "nba_stats_df = (pd.read_csv('nba_stats_1950-2017.tsv', sep ='\\t')[['Player', 'Age', 'PER', 'VORP', 'year', 'estimated_birth']]\n",
    "                  .dropna(subset=['PER']))#.rename(columns = {'estimated_year':'birth_year'})"
   ]
  },
  {
   "cell_type": "markdown",
   "metadata": {},
   "source": [
    "## Import data on race"
   ]
  },
  {
   "cell_type": "code",
   "execution_count": 13,
   "metadata": {},
   "outputs": [],
   "source": [
    "def load_race_df(filename):\n",
    "    race_df = (pd.read_excel(filename, errors='coerce')[['First Name', 'Middle Name', 'Last Name', 'Birthdate', 'Birth Cty', 'Ht', 'Unnamed: 15', 'Race']]\n",
    "              .dropna(subset = ['First Name', 'Last Name'])\n",
    "              .rename(columns = {'First Name': 'first_name',\n",
    "                                 'Middle Name': 'middle_name',\n",
    "                                 'Last Name': 'last_name'})\n",
    "              .fillna({'Ht':'6\"',  'Unnamed: 15': '0\"'}))\n",
    "    race_df['concat_name'] = race_df.apply(lambda row: row['first_name'] + ' ' + row['last_name'], axis = 1 ).str.lower()\n",
    "    race_df['height'] = race_df.apply(lambda row: int(row['Ht'][0])* 12 + float(row['Unnamed: 15'][:-1]), axis = 1 )\n",
    "    race_df['Birthdate'] = pd.to_datetime(race_df['Birthdate'], errors = 'coerce')\n",
    "    race_df = race_df.dropna(subset = ['Birthdate'])\n",
    "    race_df['birth_year'] = race_df['Birthdate'].dt.year\n",
    "    return race_df.drop(['Ht', 'Unnamed: 15'], axis = 1)\n",
    "race_df1 = load_race_df('NBAData1.xls')\n",
    "race_df2 = load_race_df('NBAData2.xls')\n",
    "race_df = pd.concat([race_df1, race_df2])"
   ]
  },
  {
   "cell_type": "code",
   "execution_count": 64,
   "metadata": {},
   "outputs": [
    {
     "data": {
      "text/html": [
       "<div>\n",
       "<table border=\"1\" class=\"dataframe\">\n",
       "  <thead>\n",
       "    <tr style=\"text-align: right;\">\n",
       "      <th></th>\n",
       "      <th>concat_name</th>\n",
       "      <th>Birth Cty</th>\n",
       "      <th>birth_year</th>\n",
       "      <th>Race</th>\n",
       "    </tr>\n",
       "  </thead>\n",
       "  <tbody>\n",
       "    <tr>\n",
       "      <th>990</th>\n",
       "      <td>tyree davis</td>\n",
       "      <td>USA</td>\n",
       "      <td>1979</td>\n",
       "      <td>B</td>\n",
       "    </tr>\n",
       "    <tr>\n",
       "      <th>1780</th>\n",
       "      <td>harold uplinger</td>\n",
       "      <td>NaN</td>\n",
       "      <td>1929</td>\n",
       "      <td>W</td>\n",
       "    </tr>\n",
       "    <tr>\n",
       "      <th>1182</th>\n",
       "      <td>bobby edmonds</td>\n",
       "      <td>USA</td>\n",
       "      <td>1941</td>\n",
       "      <td>B</td>\n",
       "    </tr>\n",
       "  </tbody>\n",
       "</table>\n",
       "</div>"
      ],
      "text/plain": [
       "          concat_name Birth Cty  birth_year Race\n",
       "990       tyree davis       USA        1979    B\n",
       "1780  harold uplinger       NaN        1929    W\n",
       "1182    bobby edmonds       USA        1941    B"
      ]
     },
     "execution_count": 64,
     "metadata": {},
     "output_type": "execute_result"
    }
   ],
   "source": [
    "race_df[['concat_name', 'Birth Cty', 'birth_year', 'Race']].sample(3)"
   ]
  },
  {
   "cell_type": "code",
   "execution_count": 66,
   "metadata": {},
   "outputs": [
    {
     "name": "stdout",
     "output_type": "stream",
     "text": [
      "Wall time: 6min 22s\n"
     ]
    }
   ],
   "source": [
    "%%time\n",
    "unique_names = nba_stats_df.Player.unique()\n",
    "race_df['Player'] = race_df.concat_name.apply(lambda name: difflib.get_close_matches(name, unique_names)[:1])\n",
    "race_df['Player'] = race_df['Player'].str[0]"
   ]
  },
  {
   "cell_type": "code",
   "execution_count": 69,
   "metadata": {},
   "outputs": [
    {
     "data": {
      "text/plain": [
       "Race\n",
       "12        2\n",
       "B      2448\n",
       "B/O       1\n",
       "O         9\n",
       "W      2057\n",
       "dtype: int64"
      ]
     },
     "execution_count": 69,
     "metadata": {},
     "output_type": "execute_result"
    }
   ],
   "source": [
    "race_df.groupby('Race').size()"
   ]
  },
  {
   "cell_type": "code",
   "execution_count": 17,
   "metadata": {},
   "outputs": [
    {
     "data": {
      "text/html": [
       "<div>\n",
       "<table border=\"1\" class=\"dataframe\">\n",
       "  <thead>\n",
       "    <tr style=\"text-align: right;\">\n",
       "      <th></th>\n",
       "      <th>first_name</th>\n",
       "      <th>middle_name</th>\n",
       "      <th>last_name</th>\n",
       "      <th>Birthdate</th>\n",
       "      <th>Birth Cty</th>\n",
       "      <th>Race</th>\n",
       "      <th>concat_name</th>\n",
       "      <th>height</th>\n",
       "      <th>birth_year</th>\n",
       "    </tr>\n",
       "  </thead>\n",
       "  <tbody>\n",
       "    <tr>\n",
       "      <th>14</th>\n",
       "      <td>Alvan</td>\n",
       "      <td>Leigh</td>\n",
       "      <td>Adams</td>\n",
       "      <td>1954-07-19</td>\n",
       "      <td>USA</td>\n",
       "      <td>W</td>\n",
       "      <td>alvan adams</td>\n",
       "      <td>81.0</td>\n",
       "      <td>1954</td>\n",
       "    </tr>\n",
       "    <tr>\n",
       "      <th>15</th>\n",
       "      <td>Donald</td>\n",
       "      <td>L.</td>\n",
       "      <td>Adams</td>\n",
       "      <td>1947-11-27</td>\n",
       "      <td>USA</td>\n",
       "      <td>B</td>\n",
       "      <td>donald adams</td>\n",
       "      <td>78.0</td>\n",
       "      <td>1947</td>\n",
       "    </tr>\n",
       "    <tr>\n",
       "      <th>16</th>\n",
       "      <td>George</td>\n",
       "      <td>NaN</td>\n",
       "      <td>Adams</td>\n",
       "      <td>1949-05-15</td>\n",
       "      <td>USA</td>\n",
       "      <td>B</td>\n",
       "      <td>george adams</td>\n",
       "      <td>77.0</td>\n",
       "      <td>1949</td>\n",
       "    </tr>\n",
       "    <tr>\n",
       "      <th>17</th>\n",
       "      <td>Glenn</td>\n",
       "      <td>Reed</td>\n",
       "      <td>Adams</td>\n",
       "      <td>1917-04-04</td>\n",
       "      <td>USA</td>\n",
       "      <td>W</td>\n",
       "      <td>glenn adams</td>\n",
       "      <td>73.0</td>\n",
       "      <td>1917</td>\n",
       "    </tr>\n",
       "    <tr>\n",
       "      <th>18</th>\n",
       "      <td>Hassan</td>\n",
       "      <td>Olawale</td>\n",
       "      <td>Adams</td>\n",
       "      <td>1984-06-20</td>\n",
       "      <td>USA</td>\n",
       "      <td>B</td>\n",
       "      <td>hassan adams</td>\n",
       "      <td>76.0</td>\n",
       "      <td>1984</td>\n",
       "    </tr>\n",
       "    <tr>\n",
       "      <th>19</th>\n",
       "      <td>Howard</td>\n",
       "      <td>O'Neale</td>\n",
       "      <td>Adams</td>\n",
       "      <td>1919-01-21</td>\n",
       "      <td>USA</td>\n",
       "      <td>W</td>\n",
       "      <td>howard adams</td>\n",
       "      <td>75.0</td>\n",
       "      <td>1919</td>\n",
       "    </tr>\n",
       "    <tr>\n",
       "      <th>20</th>\n",
       "      <td>Jack</td>\n",
       "      <td>NaN</td>\n",
       "      <td>Adams</td>\n",
       "      <td>1934-09-27</td>\n",
       "      <td>NaN</td>\n",
       "      <td>W</td>\n",
       "      <td>jack adams</td>\n",
       "      <td>76.0</td>\n",
       "      <td>1934</td>\n",
       "    </tr>\n",
       "    <tr>\n",
       "      <th>21</th>\n",
       "      <td>Michael</td>\n",
       "      <td>NaN</td>\n",
       "      <td>Adams</td>\n",
       "      <td>1963-01-19</td>\n",
       "      <td>USA</td>\n",
       "      <td>B</td>\n",
       "      <td>michael adams</td>\n",
       "      <td>70.0</td>\n",
       "      <td>1963</td>\n",
       "    </tr>\n",
       "  </tbody>\n",
       "</table>\n",
       "</div>"
      ],
      "text/plain": [
       "   first_name middle_name last_name  Birthdate Birth Cty Race    concat_name  \\\n",
       "14      Alvan       Leigh     Adams 1954-07-19       USA    W    alvan adams   \n",
       "15     Donald          L.     Adams 1947-11-27       USA    B   donald adams   \n",
       "16     George         NaN     Adams 1949-05-15       USA    B   george adams   \n",
       "17      Glenn        Reed     Adams 1917-04-04       USA    W    glenn adams   \n",
       "18     Hassan     Olawale     Adams 1984-06-20       USA    B   hassan adams   \n",
       "19     Howard     O'Neale     Adams 1919-01-21       USA    W   howard adams   \n",
       "20       Jack         NaN     Adams 1934-09-27       NaN    W     jack adams   \n",
       "21    Michael         NaN     Adams 1963-01-19       USA    B  michael adams   \n",
       "\n",
       "    height  birth_year  \n",
       "14    81.0        1954  \n",
       "15    78.0        1947  \n",
       "16    77.0        1949  \n",
       "17    73.0        1917  \n",
       "18    76.0        1984  \n",
       "19    75.0        1919  \n",
       "20    76.0        1934  \n",
       "21    70.0        1963  "
      ]
     },
     "execution_count": 17,
     "metadata": {},
     "output_type": "execute_result"
    }
   ],
   "source": [
    "race_df1.query ('last_name == \"Adams\"')"
   ]
  },
  {
   "cell_type": "markdown",
   "metadata": {},
   "source": [
    "#### Save / load"
   ]
  },
  {
   "cell_type": "code",
   "execution_count": 8,
   "metadata": {},
   "outputs": [],
   "source": [
    "race_df.to_csv('race_df.tsv', sep = '\\t', encoding = 'utf-8', index = None)"
   ]
  },
  {
   "cell_type": "code",
   "execution_count": 3,
   "metadata": {},
   "outputs": [],
   "source": [
    "race_df = pd.read_csv('race_df.tsv', sep ='\\t', encoding='utf-8')"
   ]
  },
  {
   "cell_type": "markdown",
   "metadata": {},
   "source": [
    "### Download 2018 player bios from Basketball Reference"
   ]
  },
  {
   "cell_type": "code",
   "execution_count": 42,
   "metadata": {},
   "outputs": [],
   "source": [
    "import string\n",
    "players_url = 'https://www.basketball-reference.com/players/{}'\n",
    "all_players_df = pd.concat([pd.read_html(players_url.format(letter))[0] for letter in string.ascii_lowercase.replace('x', '')])"
   ]
  },
  {
   "cell_type": "code",
   "execution_count": 44,
   "metadata": {},
   "outputs": [
    {
     "data": {
      "text/html": [
       "<div>\n",
       "<table border=\"1\" class=\"dataframe\">\n",
       "  <thead>\n",
       "    <tr style=\"text-align: right;\">\n",
       "      <th></th>\n",
       "      <th>Player</th>\n",
       "      <th>From</th>\n",
       "      <th>To</th>\n",
       "      <th>Pos</th>\n",
       "      <th>Ht</th>\n",
       "      <th>Wt</th>\n",
       "      <th>Birth Date</th>\n",
       "      <th>Colleges</th>\n",
       "      <th>experience</th>\n",
       "    </tr>\n",
       "  </thead>\n",
       "  <tbody>\n",
       "    <tr>\n",
       "      <th>9</th>\n",
       "      <td>Alex Abrines</td>\n",
       "      <td>2017</td>\n",
       "      <td>2018</td>\n",
       "      <td>G-F</td>\n",
       "      <td>6-6</td>\n",
       "      <td>190.0</td>\n",
       "      <td>August 1, 1993</td>\n",
       "      <td>NaN</td>\n",
       "      <td>1</td>\n",
       "    </tr>\n",
       "    <tr>\n",
       "      <th>14</th>\n",
       "      <td>Quincy Acy</td>\n",
       "      <td>2013</td>\n",
       "      <td>2018</td>\n",
       "      <td>F</td>\n",
       "      <td>6-7</td>\n",
       "      <td>240.0</td>\n",
       "      <td>October 6, 1990</td>\n",
       "      <td>Baylor University</td>\n",
       "      <td>5</td>\n",
       "    </tr>\n",
       "    <tr>\n",
       "      <th>21</th>\n",
       "      <td>Steven Adams</td>\n",
       "      <td>2014</td>\n",
       "      <td>2018</td>\n",
       "      <td>C</td>\n",
       "      <td>7-0</td>\n",
       "      <td>255.0</td>\n",
       "      <td>July 20, 1993</td>\n",
       "      <td>University of Pittsburgh</td>\n",
       "      <td>4</td>\n",
       "    </tr>\n",
       "    <tr>\n",
       "      <th>23</th>\n",
       "      <td>Bam Adebayo</td>\n",
       "      <td>2018</td>\n",
       "      <td>2018</td>\n",
       "      <td>C-F</td>\n",
       "      <td>6-10</td>\n",
       "      <td>243.0</td>\n",
       "      <td>July 18, 1997</td>\n",
       "      <td>University of Kentucky</td>\n",
       "      <td>0</td>\n",
       "    </tr>\n",
       "    <tr>\n",
       "      <th>26</th>\n",
       "      <td>Arron Afflalo</td>\n",
       "      <td>2008</td>\n",
       "      <td>2018</td>\n",
       "      <td>G</td>\n",
       "      <td>6-5</td>\n",
       "      <td>210.0</td>\n",
       "      <td>October 15, 1985</td>\n",
       "      <td>University of California, Los Angeles</td>\n",
       "      <td>10</td>\n",
       "    </tr>\n",
       "  </tbody>\n",
       "</table>\n",
       "</div>"
      ],
      "text/plain": [
       "           Player  From    To  Pos    Ht     Wt        Birth Date  \\\n",
       "9    Alex Abrines  2017  2018  G-F   6-6  190.0    August 1, 1993   \n",
       "14     Quincy Acy  2013  2018    F   6-7  240.0   October 6, 1990   \n",
       "21   Steven Adams  2014  2018    C   7-0  255.0     July 20, 1993   \n",
       "23    Bam Adebayo  2018  2018  C-F  6-10  243.0     July 18, 1997   \n",
       "26  Arron Afflalo  2008  2018    G   6-5  210.0  October 15, 1985   \n",
       "\n",
       "                                 Colleges  experience  \n",
       "9                                     NaN           1  \n",
       "14                      Baylor University           5  \n",
       "21               University of Pittsburgh           4  \n",
       "23                 University of Kentucky           0  \n",
       "26  University of California, Los Angeles          10  "
      ]
     },
     "execution_count": 44,
     "metadata": {},
     "output_type": "execute_result"
    }
   ],
   "source": [
    "players2018_df = (all_players_df.query('To >= 2018')\n",
    "                                 .assign(experience = lambda row: row['To'] - row['From']))\n",
    "\n",
    "players2018_df.head()"
   ]
  },
  {
   "cell_type": "code",
   "execution_count": 45,
   "metadata": {},
   "outputs": [],
   "source": [
    "players2018_df.to_csv('players2018.tsv', sep ='\\t', index = False)"
   ]
  },
  {
   "cell_type": "markdown",
   "metadata": {},
   "source": [
    "#### Here I had to hand enter race"
   ]
  },
  {
   "cell_type": "code",
   "execution_count": null,
   "metadata": {},
   "outputs": [],
   "source": []
  },
  {
   "cell_type": "markdown",
   "metadata": {},
   "source": [
    "## Join the two!"
   ]
  },
  {
   "cell_type": "code",
   "execution_count": 80,
   "metadata": {},
   "outputs": [
    {
     "data": {
      "text/html": [
       "<div>\n",
       "<table border=\"1\" class=\"dataframe\">\n",
       "  <thead>\n",
       "    <tr style=\"text-align: right;\">\n",
       "      <th></th>\n",
       "      <th>Unnamed: 0</th>\n",
       "      <th>Unnamed: 0.1</th>\n",
       "      <th>first_name</th>\n",
       "      <th>middle_name</th>\n",
       "      <th>last_name</th>\n",
       "      <th>Birthdate</th>\n",
       "      <th>Birth Cty</th>\n",
       "      <th>Race</th>\n",
       "      <th>concat_name</th>\n",
       "      <th>height</th>\n",
       "      <th>birth_year</th>\n",
       "      <th>Player</th>\n",
       "      <th>Age</th>\n",
       "      <th>PER</th>\n",
       "      <th>VORP</th>\n",
       "      <th>year</th>\n",
       "      <th>estimated_birth</th>\n",
       "    </tr>\n",
       "  </thead>\n",
       "  <tbody>\n",
       "    <tr>\n",
       "      <th>0</th>\n",
       "      <td>0.0</td>\n",
       "      <td>0.0</td>\n",
       "      <td>Alaa</td>\n",
       "      <td>NaN</td>\n",
       "      <td>Abdelnaby</td>\n",
       "      <td>1968-06-24</td>\n",
       "      <td>EGY</td>\n",
       "      <td>B</td>\n",
       "      <td>alaa abdelnaby</td>\n",
       "      <td>82.0</td>\n",
       "      <td>1968.0</td>\n",
       "      <td>alaa abdelnaby</td>\n",
       "      <td>22</td>\n",
       "      <td>13.1</td>\n",
       "      <td>-0.2</td>\n",
       "      <td>1991</td>\n",
       "      <td>1969</td>\n",
       "    </tr>\n",
       "    <tr>\n",
       "      <th>1</th>\n",
       "      <td>0.0</td>\n",
       "      <td>0.0</td>\n",
       "      <td>Alaa</td>\n",
       "      <td>NaN</td>\n",
       "      <td>Abdelnaby</td>\n",
       "      <td>1968-06-24</td>\n",
       "      <td>EGY</td>\n",
       "      <td>B</td>\n",
       "      <td>alaa abdelnaby</td>\n",
       "      <td>82.0</td>\n",
       "      <td>1968.0</td>\n",
       "      <td>alaa abdelnaby</td>\n",
       "      <td>23</td>\n",
       "      <td>13.5</td>\n",
       "      <td>-0.5</td>\n",
       "      <td>1992</td>\n",
       "      <td>1969</td>\n",
       "    </tr>\n",
       "  </tbody>\n",
       "</table>\n",
       "</div>"
      ],
      "text/plain": [
       "   Unnamed: 0  Unnamed: 0.1 first_name middle_name  last_name   Birthdate  \\\n",
       "0         0.0           0.0       Alaa         NaN  Abdelnaby  1968-06-24   \n",
       "1         0.0           0.0       Alaa         NaN  Abdelnaby  1968-06-24   \n",
       "\n",
       "  Birth Cty Race     concat_name  height  birth_year          Player  Age  \\\n",
       "0       EGY    B  alaa abdelnaby    82.0      1968.0  alaa abdelnaby   22   \n",
       "1       EGY    B  alaa abdelnaby    82.0      1968.0  alaa abdelnaby   23   \n",
       "\n",
       "    PER  VORP  year  estimated_birth  \n",
       "0  13.1  -0.2  1991             1969  \n",
       "1  13.5  -0.5  1992             1969  "
      ]
     },
     "execution_count": 80,
     "metadata": {},
     "output_type": "execute_result"
    }
   ],
   "source": [
    "join_df = race_df.merge(nba_stats_df, on = 'Player', how = 'right')\n",
    "join_df.head(2)"
   ]
  },
  {
   "cell_type": "code",
   "execution_count": 81,
   "metadata": {},
   "outputs": [
    {
     "data": {
      "text/html": [
       "<div>\n",
       "<table border=\"1\" class=\"dataframe\">\n",
       "  <thead>\n",
       "    <tr style=\"text-align: right;\">\n",
       "      <th></th>\n",
       "      <th>Unnamed: 0</th>\n",
       "      <th>Unnamed: 0.1</th>\n",
       "      <th>first_name</th>\n",
       "      <th>middle_name</th>\n",
       "      <th>last_name</th>\n",
       "      <th>Birthdate</th>\n",
       "      <th>Birth Cty</th>\n",
       "      <th>Race</th>\n",
       "      <th>concat_name</th>\n",
       "      <th>height</th>\n",
       "      <th>birth_year</th>\n",
       "      <th>Player</th>\n",
       "    </tr>\n",
       "  </thead>\n",
       "  <tbody>\n",
       "    <tr>\n",
       "      <th>2528</th>\n",
       "      <td>2528</td>\n",
       "      <td>100</td>\n",
       "      <td>Wesley</td>\n",
       "      <td>Joel</td>\n",
       "      <td>Matthews</td>\n",
       "      <td>1959-08-24</td>\n",
       "      <td>USA</td>\n",
       "      <td>B</td>\n",
       "      <td>wesley matthews</td>\n",
       "      <td>73.0</td>\n",
       "      <td>1959</td>\n",
       "      <td>wesley matthews</td>\n",
       "    </tr>\n",
       "    <tr>\n",
       "      <th>2529</th>\n",
       "      <td>2529</td>\n",
       "      <td>101</td>\n",
       "      <td>Wesley</td>\n",
       "      <td>NaN</td>\n",
       "      <td>Matthews</td>\n",
       "      <td>1986-10-14</td>\n",
       "      <td>USA</td>\n",
       "      <td>B</td>\n",
       "      <td>wesley matthews</td>\n",
       "      <td>77.0</td>\n",
       "      <td>1986</td>\n",
       "      <td>wesley matthews</td>\n",
       "    </tr>\n",
       "  </tbody>\n",
       "</table>\n",
       "</div>"
      ],
      "text/plain": [
       "      Unnamed: 0  Unnamed: 0.1 first_name middle_name last_name   Birthdate  \\\n",
       "2528        2528           100     Wesley        Joel  Matthews  1959-08-24   \n",
       "2529        2529           101     Wesley         NaN  Matthews  1986-10-14   \n",
       "\n",
       "     Birth Cty Race      concat_name  height  birth_year           Player  \n",
       "2528       USA    B  wesley matthews    73.0        1959  wesley matthews  \n",
       "2529       USA    B  wesley matthews    77.0        1986  wesley matthews  "
      ]
     },
     "execution_count": 81,
     "metadata": {},
     "output_type": "execute_result"
    }
   ],
   "source": [
    "race_df.query('last_name == \"Matthews\"')"
   ]
  },
  {
   "cell_type": "code",
   "execution_count": 82,
   "metadata": {},
   "outputs": [
    {
     "data": {
      "text/plain": [
       "(17036, 18)"
      ]
     },
     "execution_count": 82,
     "metadata": {},
     "output_type": "execute_result"
    }
   ],
   "source": [
    "join_df['birth_diff'] = np.abs(join_df['estimated_birth'] - join_df['birth_year'])\n",
    "join_df = join_df.query('birth_diff <=1').dropna(subset = ['Race'])\n",
    "join_df.shape"
   ]
  },
  {
   "cell_type": "markdown",
   "metadata": {},
   "source": [
    "#### Save"
   ]
  },
  {
   "cell_type": "code",
   "execution_count": 83,
   "metadata": {},
   "outputs": [],
   "source": [
    "join_df.to_csv('race_per_nba.tsv', sep ='\\t', encoding = 'utf-8')"
   ]
  },
  {
   "cell_type": "markdown",
   "metadata": {},
   "source": [
    "### Visualize"
   ]
  },
  {
   "cell_type": "code",
   "execution_count": 246,
   "metadata": {},
   "outputs": [],
   "source": [
    "def plot_year(df, year):\n",
    "    fig, ax =plt.subplots(1)\n",
    "    sns.distplot(join_df.query('year >= {} and year < {} and Race == \"W\"'.format(year, year+5))['PER'].values, bins = range(0, 30, 1), hist = False, label = 'White')\n",
    "    sns.distplot(join_df.query('year >= {} and year < {} and Race == \"B\"'.format(year, year+5))['PER'].values, bins = range(0, 30, 1), hist = False, label = 'Black')\n",
    "    ax.legend()\n",
    "    plt.xlim(0, 30);"
   ]
  },
  {
   "cell_type": "code",
   "execution_count": 254,
   "metadata": {},
   "outputs": [
    {
     "data": {
      "image/png": "[encoded data removed]",
      "text/plain": [
       "<matplotlib.figure.Figure at 0xb1ff320>"
      ]
     },
     "metadata": {},
     "output_type": "display_data"
    }
   ],
   "source": [
    "plot_year(join_df, 1950)"
   ]
  },
  {
   "cell_type": "code",
   "execution_count": 248,
   "metadata": {},
   "outputs": [
    {
     "data": {
      "image/png": "[encoded data removed]",
      "text/plain": [
       "<matplotlib.figure.Figure at 0x2e09d30>"
      ]
     },
     "metadata": {},
     "output_type": "display_data"
    }
   ],
   "source": [
    "plot_year(join_df, 1960)"
   ]
  },
  {
   "cell_type": "code",
   "execution_count": 249,
   "metadata": {},
   "outputs": [
    {
     "data": {
      "image/png": "[encoded data removed]",
      "text/plain": [
       "<matplotlib.figure.Figure at 0xd77a668>"
      ]
     },
     "metadata": {},
     "output_type": "display_data"
    }
   ],
   "source": [
    "plot_year(join_df, 1970)"
   ]
  },
  {
   "cell_type": "code",
   "execution_count": 250,
   "metadata": {},
   "outputs": [
    {
     "data": {
      "image/png": "[encoded data removed]",
      "text/plain": [
       "<matplotlib.figure.Figure at 0x32941d0>"
      ]
     },
     "metadata": {},
     "output_type": "display_data"
    }
   ],
   "source": [
    "plot_year(join_df, 1980)"
   ]
  },
  {
   "cell_type": "code",
   "execution_count": 251,
   "metadata": {},
   "outputs": [
    {
     "data": {
      "image/png": "[encoded data removed]",
      "text/plain": [
       "<matplotlib.figure.Figure at 0xd958358>"
      ]
     },
     "metadata": {},
     "output_type": "display_data"
    }
   ],
   "source": [
    "plot_year(join_df, 1990)"
   ]
  },
  {
   "cell_type": "code",
   "execution_count": 252,
   "metadata": {},
   "outputs": [
    {
     "data": {
      "image/png": "[encoded data removed]",
      "text/plain": [
       "<matplotlib.figure.Figure at 0xf29ae48>"
      ]
     },
     "metadata": {},
     "output_type": "display_data"
    }
   ],
   "source": [
    "plot_year(join_df, 2000)"
   ]
  },
  {
   "cell_type": "code",
   "execution_count": 253,
   "metadata": {},
   "outputs": [
    {
     "data": {
      "image/png": "[encoded data removed]",
      "text/plain": [
       "<matplotlib.figure.Figure at 0xdaa3ba8>"
      ]
     },
     "metadata": {},
     "output_type": "display_data"
    }
   ],
   "source": [
    "plot_year(join_df, 2010)"
   ]
  },
  {
   "cell_type": "code",
   "execution_count": null,
   "metadata": {},
   "outputs": [],
   "source": []
  }
 ],
 "metadata": {
  "kernelspec": {
   "display_name": "Python 3",
   "language": "python",
   "name": "python3"
  },
  "language_info": {
   "codemirror_mode": {
    "name": "ipython",
    "version": 3
   },
   "file_extension": ".py",
   "mimetype": "text/x-python",
   "name": "python",
   "nbconvert_exporter": "python",
   "pygments_lexer": "ipython3",
   "version": "3.6.5"
  }
 },
 "nbformat": 4,
 "nbformat_minor": 2
}
